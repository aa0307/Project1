{
 "cells": [
  {
   "cell_type": "markdown",
   "metadata": {},
   "source": [
    "# 6. 數據分析專案\n",
    "# Demo4 – TA Systematic Testing"
   ]
  },
  {
   "cell_type": "markdown",
   "metadata": {},
   "source": [
    "### Import data"
   ]
  },
  {
   "cell_type": "code",
   "execution_count": 3,
   "metadata": {},
   "outputs": [
    {
     "ename": "ModuleNotFoundError",
     "evalue": "No module named 'talib'",
     "output_type": "error",
     "traceback": [
      "\u001b[1;31m---------------------------------------------------------------------------\u001b[0m",
      "\u001b[1;31mModuleNotFoundError\u001b[0m                       Traceback (most recent call last)",
      "\u001b[1;32mc:\\Users\\User\\Desktop\\project 1\\OOProgram\\Demo\\4Demo.ipynb Cell 3\u001b[0m line \u001b[0;36m3\n\u001b[0;32m      <a href='vscode-notebook-cell:/c%3A/Users/User/Desktop/project%201/OOProgram/Demo/4Demo.ipynb#W2sZmlsZQ%3D%3D?line=0'>1</a>\u001b[0m \u001b[39mimport\u001b[39;00m \u001b[39mpandas\u001b[39;00m \u001b[39mas\u001b[39;00m \u001b[39mpd\u001b[39;00m\n\u001b[0;32m      <a href='vscode-notebook-cell:/c%3A/Users/User/Desktop/project%201/OOProgram/Demo/4Demo.ipynb#W2sZmlsZQ%3D%3D?line=1'>2</a>\u001b[0m \u001b[39mimport\u001b[39;00m \u001b[39mnumpy\u001b[39;00m \u001b[39mas\u001b[39;00m \u001b[39mnp\u001b[39;00m\n\u001b[1;32m----> <a href='vscode-notebook-cell:/c%3A/Users/User/Desktop/project%201/OOProgram/Demo/4Demo.ipynb#W2sZmlsZQ%3D%3D?line=2'>3</a>\u001b[0m \u001b[39mimport\u001b[39;00m \u001b[39mtalib\u001b[39;00m\n\u001b[0;32m      <a href='vscode-notebook-cell:/c%3A/Users/User/Desktop/project%201/OOProgram/Demo/4Demo.ipynb#W2sZmlsZQ%3D%3D?line=3'>4</a>\u001b[0m \u001b[39mfrom\u001b[39;00m \u001b[39mtalib\u001b[39;00m \u001b[39mimport\u001b[39;00m MA_Type\n\u001b[0;32m      <a href='vscode-notebook-cell:/c%3A/Users/User/Desktop/project%201/OOProgram/Demo/4Demo.ipynb#W2sZmlsZQ%3D%3D?line=4'>5</a>\u001b[0m \u001b[39mimport\u001b[39;00m \u001b[39mmath\u001b[39;00m\n",
      "\u001b[1;31mModuleNotFoundError\u001b[0m: No module named 'talib'"
     ]
    }
   ],
   "source": [
    "import pandas as pd\n",
    "import numpy as np\n",
    "import talib\n",
    "from talib import MA_Type\n",
    "import math\n",
    "import yfinance as yf\n",
    "import plotly.express as px\n",
    "import plotly.graph_objects as go\n",
    "from plotly.subplots import make_subplots"
   ]
  },
  {
   "cell_type": "code",
   "execution_count": null,
   "metadata": {},
   "outputs": [
    {
     "name": "stdout",
     "output_type": "stream",
     "text": [
      "[*********************100%%**********************]  1 of 1 completed\n"
     ]
    },
    {
     "data": {
      "text/html": [
       "<div>\n",
       "<style scoped>\n",
       "    .dataframe tbody tr th:only-of-type {\n",
       "        vertical-align: middle;\n",
       "    }\n",
       "\n",
       "    .dataframe tbody tr th {\n",
       "        vertical-align: top;\n",
       "    }\n",
       "\n",
       "    .dataframe thead th {\n",
       "        text-align: right;\n",
       "    }\n",
       "</style>\n",
       "<table border=\"1\" class=\"dataframe\">\n",
       "  <thead>\n",
       "    <tr style=\"text-align: right;\">\n",
       "      <th></th>\n",
       "      <th>Open</th>\n",
       "      <th>High</th>\n",
       "      <th>Low</th>\n",
       "      <th>Close</th>\n",
       "      <th>Adj Close</th>\n",
       "      <th>Volume</th>\n",
       "    </tr>\n",
       "    <tr>\n",
       "      <th>Date</th>\n",
       "      <th></th>\n",
       "      <th></th>\n",
       "      <th></th>\n",
       "      <th></th>\n",
       "      <th></th>\n",
       "      <th></th>\n",
       "    </tr>\n",
       "  </thead>\n",
       "  <tbody>\n",
       "    <tr>\n",
       "      <th>2003-01-02</th>\n",
       "      <td>1.000000</td>\n",
       "      <td>1.037500</td>\n",
       "      <td>0.965833</td>\n",
       "      <td>1.025833</td>\n",
       "      <td>0.941203</td>\n",
       "      <td>130254000</td>\n",
       "    </tr>\n",
       "    <tr>\n",
       "      <th>2003-01-03</th>\n",
       "      <td>1.029167</td>\n",
       "      <td>1.062500</td>\n",
       "      <td>1.008333</td>\n",
       "      <td>1.025833</td>\n",
       "      <td>0.941203</td>\n",
       "      <td>103749600</td>\n",
       "    </tr>\n",
       "    <tr>\n",
       "      <th>2003-01-06</th>\n",
       "      <td>1.050833</td>\n",
       "      <td>1.125833</td>\n",
       "      <td>1.050000</td>\n",
       "      <td>1.109167</td>\n",
       "      <td>1.017663</td>\n",
       "      <td>103342800</td>\n",
       "    </tr>\n",
       "    <tr>\n",
       "      <th>2003-01-07</th>\n",
       "      <td>1.130833</td>\n",
       "      <td>1.156667</td>\n",
       "      <td>1.093333</td>\n",
       "      <td>1.105833</td>\n",
       "      <td>1.014604</td>\n",
       "      <td>149827200</td>\n",
       "    </tr>\n",
       "    <tr>\n",
       "      <th>2003-01-08</th>\n",
       "      <td>1.077500</td>\n",
       "      <td>1.109167</td>\n",
       "      <td>0.988333</td>\n",
       "      <td>0.995833</td>\n",
       "      <td>0.913678</td>\n",
       "      <td>185252400</td>\n",
       "    </tr>\n",
       "    <tr>\n",
       "      <th>...</th>\n",
       "      <td>...</td>\n",
       "      <td>...</td>\n",
       "      <td>...</td>\n",
       "      <td>...</td>\n",
       "      <td>...</td>\n",
       "      <td>...</td>\n",
       "    </tr>\n",
       "    <tr>\n",
       "      <th>2022-12-23</th>\n",
       "      <td>151.960007</td>\n",
       "      <td>153.389999</td>\n",
       "      <td>148.830002</td>\n",
       "      <td>152.059998</td>\n",
       "      <td>152.018448</td>\n",
       "      <td>34932600</td>\n",
       "    </tr>\n",
       "    <tr>\n",
       "      <th>2022-12-27</th>\n",
       "      <td>150.740005</td>\n",
       "      <td>151.000000</td>\n",
       "      <td>140.559998</td>\n",
       "      <td>141.210007</td>\n",
       "      <td>141.171417</td>\n",
       "      <td>46490200</td>\n",
       "    </tr>\n",
       "    <tr>\n",
       "      <th>2022-12-28</th>\n",
       "      <td>139.270004</td>\n",
       "      <td>142.619995</td>\n",
       "      <td>138.839996</td>\n",
       "      <td>140.360001</td>\n",
       "      <td>140.321640</td>\n",
       "      <td>35106600</td>\n",
       "    </tr>\n",
       "    <tr>\n",
       "      <th>2022-12-29</th>\n",
       "      <td>144.020004</td>\n",
       "      <td>146.830002</td>\n",
       "      <td>142.270004</td>\n",
       "      <td>146.029999</td>\n",
       "      <td>145.990097</td>\n",
       "      <td>35492300</td>\n",
       "    </tr>\n",
       "    <tr>\n",
       "      <th>2022-12-30</th>\n",
       "      <td>143.339996</td>\n",
       "      <td>146.289993</td>\n",
       "      <td>142.330002</td>\n",
       "      <td>146.139999</td>\n",
       "      <td>146.100067</td>\n",
       "      <td>31049000</td>\n",
       "    </tr>\n",
       "  </tbody>\n",
       "</table>\n",
       "<p>5035 rows × 6 columns</p>\n",
       "</div>"
      ],
      "text/plain": [
       "                  Open        High  ...   Adj Close     Volume\n",
       "Date                                ...                       \n",
       "2003-01-02    1.000000    1.037500  ...    0.941203  130254000\n",
       "2003-01-03    1.029167    1.062500  ...    0.941203  103749600\n",
       "2003-01-06    1.050833    1.125833  ...    1.017663  103342800\n",
       "2003-01-07    1.130833    1.156667  ...    1.014604  149827200\n",
       "2003-01-08    1.077500    1.109167  ...    0.913678  185252400\n",
       "...                ...         ...  ...         ...        ...\n",
       "2022-12-23  151.960007  153.389999  ...  152.018448   34932600\n",
       "2022-12-27  150.740005  151.000000  ...  141.171417   46490200\n",
       "2022-12-28  139.270004  142.619995  ...  140.321640   35106600\n",
       "2022-12-29  144.020004  146.830002  ...  145.990097   35492300\n",
       "2022-12-30  143.339996  146.289993  ...  146.100067   31049000\n",
       "\n",
       "[5035 rows x 6 columns]"
      ]
     },
     "execution_count": 29,
     "metadata": {},
     "output_type": "execute_result"
    }
   ],
   "source": [
    "df_nvda = yf.download('NVDA', start='2003-01-01',\n",
    "                      end='2023-01-01')\n",
    "df_nvda"
   ]
  },
  {
   "cell_type": "markdown",
   "metadata": {},
   "source": [
    "### Label Target"
   ]
  },
  {
   "cell_type": "code",
   "execution_count": null,
   "metadata": {},
   "outputs": [],
   "source": [
    "df_nvda['Log_rtn'] = df_nvda['Close'].pct_change(1)\n",
    "df_nvda['Target'] = df_nvda['Log_rtn'].shift(-1)"
   ]
  },
  {
   "cell_type": "code",
   "execution_count": null,
   "metadata": {},
   "outputs": [
    {
     "data": {
      "text/html": [
       "<div>\n",
       "<style scoped>\n",
       "    .dataframe tbody tr th:only-of-type {\n",
       "        vertical-align: middle;\n",
       "    }\n",
       "\n",
       "    .dataframe tbody tr th {\n",
       "        vertical-align: top;\n",
       "    }\n",
       "\n",
       "    .dataframe thead th {\n",
       "        text-align: right;\n",
       "    }\n",
       "</style>\n",
       "<table border=\"1\" class=\"dataframe\">\n",
       "  <thead>\n",
       "    <tr style=\"text-align: right;\">\n",
       "      <th></th>\n",
       "      <th>Open</th>\n",
       "      <th>High</th>\n",
       "      <th>Low</th>\n",
       "      <th>Close</th>\n",
       "      <th>Adj Close</th>\n",
       "      <th>Volume</th>\n",
       "      <th>Log_rtn</th>\n",
       "      <th>Target</th>\n",
       "    </tr>\n",
       "    <tr>\n",
       "      <th>Date</th>\n",
       "      <th></th>\n",
       "      <th></th>\n",
       "      <th></th>\n",
       "      <th></th>\n",
       "      <th></th>\n",
       "      <th></th>\n",
       "      <th></th>\n",
       "      <th></th>\n",
       "    </tr>\n",
       "  </thead>\n",
       "  <tbody>\n",
       "    <tr>\n",
       "      <th>2003-01-02</th>\n",
       "      <td>1.000000</td>\n",
       "      <td>1.037500</td>\n",
       "      <td>0.965833</td>\n",
       "      <td>1.025833</td>\n",
       "      <td>0.941203</td>\n",
       "      <td>130254000</td>\n",
       "      <td>NaN</td>\n",
       "      <td>0.000000</td>\n",
       "    </tr>\n",
       "    <tr>\n",
       "      <th>2003-01-03</th>\n",
       "      <td>1.029167</td>\n",
       "      <td>1.062500</td>\n",
       "      <td>1.008333</td>\n",
       "      <td>1.025833</td>\n",
       "      <td>0.941203</td>\n",
       "      <td>103749600</td>\n",
       "      <td>0.000000</td>\n",
       "      <td>0.081235</td>\n",
       "    </tr>\n",
       "    <tr>\n",
       "      <th>2003-01-06</th>\n",
       "      <td>1.050833</td>\n",
       "      <td>1.125833</td>\n",
       "      <td>1.050000</td>\n",
       "      <td>1.109167</td>\n",
       "      <td>1.017663</td>\n",
       "      <td>103342800</td>\n",
       "      <td>0.081235</td>\n",
       "      <td>-0.003006</td>\n",
       "    </tr>\n",
       "    <tr>\n",
       "      <th>2003-01-07</th>\n",
       "      <td>1.130833</td>\n",
       "      <td>1.156667</td>\n",
       "      <td>1.093333</td>\n",
       "      <td>1.105833</td>\n",
       "      <td>1.014604</td>\n",
       "      <td>149827200</td>\n",
       "      <td>-0.003006</td>\n",
       "      <td>-0.099473</td>\n",
       "    </tr>\n",
       "    <tr>\n",
       "      <th>2003-01-08</th>\n",
       "      <td>1.077500</td>\n",
       "      <td>1.109167</td>\n",
       "      <td>0.988333</td>\n",
       "      <td>0.995833</td>\n",
       "      <td>0.913678</td>\n",
       "      <td>185252400</td>\n",
       "      <td>-0.099473</td>\n",
       "      <td>0.017573</td>\n",
       "    </tr>\n",
       "    <tr>\n",
       "      <th>...</th>\n",
       "      <td>...</td>\n",
       "      <td>...</td>\n",
       "      <td>...</td>\n",
       "      <td>...</td>\n",
       "      <td>...</td>\n",
       "      <td>...</td>\n",
       "      <td>...</td>\n",
       "      <td>...</td>\n",
       "    </tr>\n",
       "    <tr>\n",
       "      <th>2022-12-23</th>\n",
       "      <td>151.960007</td>\n",
       "      <td>153.389999</td>\n",
       "      <td>148.830002</td>\n",
       "      <td>152.059998</td>\n",
       "      <td>152.018448</td>\n",
       "      <td>34932600</td>\n",
       "      <td>-0.008671</td>\n",
       "      <td>-0.071353</td>\n",
       "    </tr>\n",
       "    <tr>\n",
       "      <th>2022-12-27</th>\n",
       "      <td>150.740005</td>\n",
       "      <td>151.000000</td>\n",
       "      <td>140.559998</td>\n",
       "      <td>141.210007</td>\n",
       "      <td>141.171417</td>\n",
       "      <td>46490200</td>\n",
       "      <td>-0.071353</td>\n",
       "      <td>-0.006019</td>\n",
       "    </tr>\n",
       "    <tr>\n",
       "      <th>2022-12-28</th>\n",
       "      <td>139.270004</td>\n",
       "      <td>142.619995</td>\n",
       "      <td>138.839996</td>\n",
       "      <td>140.360001</td>\n",
       "      <td>140.321640</td>\n",
       "      <td>35106600</td>\n",
       "      <td>-0.006019</td>\n",
       "      <td>0.040396</td>\n",
       "    </tr>\n",
       "    <tr>\n",
       "      <th>2022-12-29</th>\n",
       "      <td>144.020004</td>\n",
       "      <td>146.830002</td>\n",
       "      <td>142.270004</td>\n",
       "      <td>146.029999</td>\n",
       "      <td>145.990097</td>\n",
       "      <td>35492300</td>\n",
       "      <td>0.040396</td>\n",
       "      <td>0.000753</td>\n",
       "    </tr>\n",
       "    <tr>\n",
       "      <th>2022-12-30</th>\n",
       "      <td>143.339996</td>\n",
       "      <td>146.289993</td>\n",
       "      <td>142.330002</td>\n",
       "      <td>146.139999</td>\n",
       "      <td>146.100067</td>\n",
       "      <td>31049000</td>\n",
       "      <td>0.000753</td>\n",
       "      <td>NaN</td>\n",
       "    </tr>\n",
       "  </tbody>\n",
       "</table>\n",
       "<p>5035 rows × 8 columns</p>\n",
       "</div>"
      ],
      "text/plain": [
       "                  Open        High         Low  ...     Volume   Log_rtn    Target\n",
       "Date                                            ...                               \n",
       "2003-01-02    1.000000    1.037500    0.965833  ...  130254000       NaN  0.000000\n",
       "2003-01-03    1.029167    1.062500    1.008333  ...  103749600  0.000000  0.081235\n",
       "2003-01-06    1.050833    1.125833    1.050000  ...  103342800  0.081235 -0.003006\n",
       "2003-01-07    1.130833    1.156667    1.093333  ...  149827200 -0.003006 -0.099473\n",
       "2003-01-08    1.077500    1.109167    0.988333  ...  185252400 -0.099473  0.017573\n",
       "...                ...         ...         ...  ...        ...       ...       ...\n",
       "2022-12-23  151.960007  153.389999  148.830002  ...   34932600 -0.008671 -0.071353\n",
       "2022-12-27  150.740005  151.000000  140.559998  ...   46490200 -0.071353 -0.006019\n",
       "2022-12-28  139.270004  142.619995  138.839996  ...   35106600 -0.006019  0.040396\n",
       "2022-12-29  144.020004  146.830002  142.270004  ...   35492300  0.040396  0.000753\n",
       "2022-12-30  143.339996  146.289993  142.330002  ...   31049000  0.000753       NaN\n",
       "\n",
       "[5035 rows x 8 columns]"
      ]
     },
     "execution_count": 31,
     "metadata": {},
     "output_type": "execute_result"
    }
   ],
   "source": [
    "df_nvda"
   ]
  },
  {
   "cell_type": "markdown",
   "metadata": {},
   "source": [
    "### Add indicators\n",
    "We add indicators to our DF and drop the NaN."
   ]
  },
  {
   "cell_type": "code",
   "execution_count": null,
   "metadata": {},
   "outputs": [],
   "source": [
    "df_nvda['rsi'] = talib.RSI(df_nvda['Close'], timeperiod=14)\n",
    "df_nvda['k'],df_nvda['d'] = talib.STOCH(df_nvda['High'], df_nvda['Low'], df_nvda['Close'],14)\n",
    "df_nvda['macd'], df_nvda['macdsignal'], df_nvda['macdhist'] = talib.MACD(df_nvda['Close'],\n",
    "                                                                         fastperiod=12, slowperiod=26, signalperiod=9)\n",
    "df_nvda['adosc'] = talib.ADOSC(df_nvda['High'], df_nvda['Low'], df_nvda['Close'],\n",
    "                               df_nvda['Volume'],fastperiod=3, slowperiod=10)\n",
    "df_nvda['atr'] = talib.ATR(df_nvda['High'], df_nvda['Low'], df_nvda['Close'],timeperiod=14)\n",
    "df_nvda['tr'] = talib.TRANGE(df_nvda['High'], df_nvda['Low'], df_nvda['Close'])"
   ]
  },
  {
   "cell_type": "code",
   "execution_count": null,
   "metadata": {},
   "outputs": [],
   "source": [
    "df_nvda = df_nvda.dropna()"
   ]
  },
  {
   "cell_type": "markdown",
   "metadata": {},
   "source": [
    "### Define how the signal raise"
   ]
  },
  {
   "cell_type": "markdown",
   "metadata": {},
   "source": [
    "There a few ways to to define the signal. Here we use the straightforward\n",
    "one. For RSI below 30, we define it as oversold and buy signal, over 70 is\n",
    "sell signal. 1 denoted as buy, -1 denoted as sell, 0 denoted as hold."
   ]
  },
  {
   "cell_type": "code",
   "execution_count": null,
   "metadata": {},
   "outputs": [],
   "source": [
    "# RSI 30 oversold, 70 overbought\n",
    "df_nvda.loc[df_nvda.index, ['rsi_signal']] = np.where(df_nvda['rsi']<30,1,\n",
    "                                                      np.where(df_nvda['rsi']>70, -1, 0)).tolist()"
   ]
  },
  {
   "cell_type": "markdown",
   "metadata": {},
   "source": [
    "For Stochastic, if both k and d below 20, and k is larger than d,\n",
    "it is buy signal."
   ]
  },
  {
   "cell_type": "code",
   "execution_count": null,
   "metadata": {},
   "outputs": [],
   "source": [
    "# STOCHASTIC k & d below 20, and k>d, buy for oversold\n",
    "df_nvda.loc[df_nvda.index, ['stoch_signal']] = np.where(\n",
    "    (df_nvda['k']<20)&(df_nvda['d']<20)&(df_nvda['k']<df_nvda['d']), 1,\n",
    "    np.where((df_nvda['k']>80)&(df_nvda['d']>80)&(df_nvda['k']<df_nvda['d']),-1,0)).tolist()"
   ]
  },
  {
   "cell_type": "markdown",
   "metadata": {},
   "source": [
    "For MACD, we denote buy as MACD histogram is larger than 0.\n",
    "Sell as MACD histogram is smaller than 0."
   ]
  },
  {
   "cell_type": "code",
   "execution_count": null,
   "metadata": {},
   "outputs": [],
   "source": [
    "# MACD-histogram > 0, buy signal\n",
    "df_nvda.loc[df_nvda.index, ['macd_signal']] = np.where(df_nvda['macdhist']>0, 1,\n",
    "                                                       np.where(df_nvda['macdhist']<0, -1, 0)).tolist()"
   ]
  },
  {
   "cell_type": "markdown",
   "metadata": {},
   "source": [
    "ADOSC is Accumulation/Distribution Oscillator.\n",
    "For ADOSC, the threshold is 0. If its previous value is under 0, and now over 0, it is\n",
    "buy signal. Vice versa for sell."
   ]
  },
  {
   "cell_type": "code",
   "execution_count": null,
   "metadata": {},
   "outputs": [],
   "source": [
    "# ADOSC: 0 is threshold line, from <0 to >0, buy signal\n",
    "df_nvda.loc[df_nvda.index, ['adosc_signal']] = np.where(\n",
    "    (df_nvda['adosc'].shift(1)<0) & (df_nvda['adosc']>0), 1,\n",
    "    np.where((df_nvda['adosc'].shift(1)>0) & (df_nvda['adosc']<0), -1, 0)).tolist()"
   ]
  },
  {
   "cell_type": "markdown",
   "metadata": {},
   "source": [
    "ATR is Average True Range of 14-days period. TR is today’s True Range.\n",
    "For ATR, if TR is larger than ATR, it is a buy signal."
   ]
  },
  {
   "cell_type": "code",
   "execution_count": null,
   "metadata": {},
   "outputs": [],
   "source": [
    "# if current close higher than average range, buy signal\n",
    "df_nvda.loc[df_nvda.index, ['atr_signal']] = np.where(df_nvda['tr']>df_nvda['atr'], 1,\n",
    "                                                np.where(df_nvda['tr']<df_nvda['atr'], -1, 0).tolist())\n",
    "    "
   ]
  },
  {
   "cell_type": "markdown",
   "metadata": {},
   "source": [
    "### Create features"
   ]
  },
  {
   "cell_type": "markdown",
   "metadata": {},
   "source": [
    "We gather the signals as features."
   ]
  },
  {
   "cell_type": "code",
   "execution_count": null,
   "metadata": {},
   "outputs": [],
   "source": [
    "feats = df_nvda[['rsi_signal','stoch_signal','macd_signal',\n",
    "                'adosc_signal','atr_signal','Log_rtn','Target']].copy()"
   ]
  },
  {
   "cell_type": "code",
   "execution_count": null,
   "metadata": {},
   "outputs": [
    {
     "data": {
      "text/html": [
       "<div>\n",
       "<style scoped>\n",
       "    .dataframe tbody tr th:only-of-type {\n",
       "        vertical-align: middle;\n",
       "    }\n",
       "\n",
       "    .dataframe tbody tr th {\n",
       "        vertical-align: top;\n",
       "    }\n",
       "\n",
       "    .dataframe thead th {\n",
       "        text-align: right;\n",
       "    }\n",
       "</style>\n",
       "<table border=\"1\" class=\"dataframe\">\n",
       "  <thead>\n",
       "    <tr style=\"text-align: right;\">\n",
       "      <th></th>\n",
       "      <th>rsi_signal</th>\n",
       "      <th>stoch_signal</th>\n",
       "      <th>macd_signal</th>\n",
       "      <th>adosc_signal</th>\n",
       "      <th>atr_signal</th>\n",
       "      <th>Log_rtn</th>\n",
       "      <th>Target</th>\n",
       "    </tr>\n",
       "    <tr>\n",
       "      <th>Date</th>\n",
       "      <th></th>\n",
       "      <th></th>\n",
       "      <th></th>\n",
       "      <th></th>\n",
       "      <th></th>\n",
       "      <th></th>\n",
       "      <th></th>\n",
       "    </tr>\n",
       "  </thead>\n",
       "  <tbody>\n",
       "    <tr>\n",
       "      <th>2009-06-05</th>\n",
       "      <td>0.0</td>\n",
       "      <td>-1.0</td>\n",
       "      <td>1.0</td>\n",
       "      <td>0.0</td>\n",
       "      <td>-1.0</td>\n",
       "      <td>-0.005510</td>\n",
       "      <td>-0.005540</td>\n",
       "    </tr>\n",
       "    <tr>\n",
       "      <th>2006-12-01</th>\n",
       "      <td>0.0</td>\n",
       "      <td>0.0</td>\n",
       "      <td>-1.0</td>\n",
       "      <td>0.0</td>\n",
       "      <td>1.0</td>\n",
       "      <td>-0.039200</td>\n",
       "      <td>0.040518</td>\n",
       "    </tr>\n",
       "    <tr>\n",
       "      <th>2013-10-11</th>\n",
       "      <td>0.0</td>\n",
       "      <td>0.0</td>\n",
       "      <td>-1.0</td>\n",
       "      <td>0.0</td>\n",
       "      <td>-1.0</td>\n",
       "      <td>-0.008447</td>\n",
       "      <td>0.015072</td>\n",
       "    </tr>\n",
       "  </tbody>\n",
       "</table>\n",
       "</div>"
      ],
      "text/plain": [
       "            rsi_signal  stoch_signal  ...   Log_rtn    Target\n",
       "Date                                  ...                    \n",
       "2009-06-05         0.0          -1.0  ... -0.005510 -0.005540\n",
       "2006-12-01         0.0           0.0  ... -0.039200  0.040518\n",
       "2013-10-11         0.0           0.0  ... -0.008447  0.015072\n",
       "\n",
       "[3 rows x 7 columns]"
      ]
     },
     "execution_count": 42,
     "metadata": {},
     "output_type": "execute_result"
    }
   ],
   "source": [
    "feats.sample(3)"
   ]
  },
  {
   "cell_type": "markdown",
   "metadata": {},
   "source": [
    "### Check the indicators results"
   ]
  },
  {
   "cell_type": "markdown",
   "metadata": {},
   "source": [
    "For RSI indicator performance, we may check how its buy/sell signal\n",
    "compare to actual Target."
   ]
  },
  {
   "cell_type": "code",
   "execution_count": null,
   "metadata": {},
   "outputs": [
    {
     "data": {
      "text/plain": [
       "78"
      ]
     },
     "execution_count": 43,
     "metadata": {},
     "output_type": "execute_result"
    }
   ],
   "source": [
    "# correctly predicted buy\n",
    "feats['Target'].loc[(feats['rsi_signal']==1)&(feats['Target']>0)].count()"
   ]
  },
  {
   "cell_type": "code",
   "execution_count": null,
   "metadata": {},
   "outputs": [
    {
     "data": {
      "text/plain": [
       "0.03375603065712058"
      ]
     },
     "execution_count": 44,
     "metadata": {},
     "output_type": "execute_result"
    }
   ],
   "source": [
    "# mean of correctly predict buy log_return\n",
    "feats['Target'].loc[(feats['rsi_signal']==1)&(feats['Target']>0)].mean()"
   ]
  },
  {
   "cell_type": "code",
   "execution_count": null,
   "metadata": {},
   "outputs": [
    {
     "data": {
      "text/plain": [
       "77"
      ]
     },
     "execution_count": 45,
     "metadata": {},
     "output_type": "execute_result"
    }
   ],
   "source": [
    "# incorrectly predicted buy\n",
    "feats['Target'].loc[(feats['rsi_signal']==1)&(feats['Target']<0)].count()"
   ]
  },
  {
   "cell_type": "code",
   "execution_count": null,
   "metadata": {},
   "outputs": [
    {
     "data": {
      "text/plain": [
       "-0.029394032496178"
      ]
     },
     "execution_count": 46,
     "metadata": {},
     "output_type": "execute_result"
    }
   ],
   "source": [
    "# mean of correctly predict buy log_return\n",
    "feats['Target'].loc[(feats['rsi_signal']==1)&(feats['Target']<0)].mean()"
   ]
  },
  {
   "cell_type": "markdown",
   "metadata": {},
   "source": [
    "### Define a function to return the result"
   ]
  },
  {
   "cell_type": "code",
   "execution_count": null,
   "metadata": {},
   "outputs": [],
   "source": [
    "def indicator_result(indicator, feats):\n",
    "    buy_correct_time = feats['Target'].loc[(feats[indicator]==1)&(feats['Target']>0)].count()\n",
    "    buy_correct_mean = feats['Target'].loc[(feats[indicator]==1)&(feats['Target']>0)].mean()\n",
    "    buy_incorrect_time = feats['Target'].loc[(feats[indicator]==1)&(feats['Target']<0)].count()\n",
    "    buy_incorrect_mean = feats['Target'].loc[(feats[indicator]==1)&(feats['Target']<0)].mean()\n",
    "    buy_correct_ratio = buy_correct_time / (buy_correct_time + buy_incorrect_time)\n",
    "    \n",
    "    sell_correct_time = feats['Target'].loc[(feats[indicator]==-1)&(feats['Target']<0)].count()\n",
    "    sell_correct_mean = feats['Target'].loc[(feats[indicator]==-1)&(feats['Target']<0)].mean()\n",
    "    sell_incorrect_time = feats['Target'].loc[(feats[indicator]==-1)&(feats['Target']>0)].count()\n",
    "    sell_incorrect_mean = feats['Target'].loc[(feats[indicator]==-1)&(feats['Target']>0)].mean()\n",
    "    sell_correct_ratio = sell_correct_time / (sell_correct_time + sell_incorrect_time)\n",
    "    return [ indicator, f\"buy_correct_ratio: {buy_correct_ratio:.4f}\",\n",
    "                        f\"buy_correct_mean: {buy_correct_mean*100:.4f}\",\n",
    "                        f\"buy_incorrect_ratio: {sell_correct_ratio:.4f}\",\n",
    "                        f\"buy_incorrect_mean: {sell_correct_mean*100:.4f}%\"]\n",
    "    \n",
    "    "
   ]
  },
  {
   "cell_type": "markdown",
   "metadata": {},
   "source": [
    "### Indicator’s result"
   ]
  },
  {
   "cell_type": "markdown",
   "metadata": {},
   "source": [
    "#### RSI"
   ]
  },
  {
   "cell_type": "code",
   "execution_count": null,
   "metadata": {},
   "outputs": [
    {
     "data": {
      "text/plain": [
       "['rsi_signal',\n",
       " 'buy_correct_ratio: 0.5032',\n",
       " 'buy_correct_mean: 3.3756',\n",
       " 'buy_incorrect_ratio: 0.4790',\n",
       " 'buy_incorrect_mean: -1.5680%']"
      ]
     },
     "execution_count": 48,
     "metadata": {},
     "output_type": "execute_result"
    }
   ],
   "source": [
    "indicator_result('rsi_signal', feats)"
   ]
  },
  {
   "cell_type": "markdown",
   "metadata": {},
   "source": [
    "#### STOCHASTIC"
   ]
  },
  {
   "cell_type": "code",
   "execution_count": null,
   "metadata": {},
   "outputs": [
    {
     "data": {
      "text/plain": [
       "['stoch_signal',\n",
       " 'buy_correct_ratio: 0.4972',\n",
       " 'buy_correct_mean: 2.4852',\n",
       " 'buy_incorrect_ratio: 0.4675',\n",
       " 'buy_incorrect_mean: -1.7943%']"
      ]
     },
     "execution_count": 49,
     "metadata": {},
     "output_type": "execute_result"
    }
   ],
   "source": [
    "indicator_result('stoch_signal', feats)"
   ]
  },
  {
   "cell_type": "markdown",
   "metadata": {},
   "source": [
    "#### MACD"
   ]
  },
  {
   "cell_type": "code",
   "execution_count": null,
   "metadata": {},
   "outputs": [
    {
     "data": {
      "text/plain": [
       "['macd_signal',\n",
       " 'buy_correct_ratio: 0.5177',\n",
       " 'buy_correct_mean: 2.2111',\n",
       " 'buy_incorrect_ratio: 0.4691',\n",
       " 'buy_incorrect_mean: -2.2187%']"
      ]
     },
     "execution_count": 50,
     "metadata": {},
     "output_type": "execute_result"
    }
   ],
   "source": [
    "indicator_result('macd_signal', feats)"
   ]
  },
  {
   "cell_type": "markdown",
   "metadata": {},
   "source": [
    "#### ADOSC"
   ]
  },
  {
   "cell_type": "code",
   "execution_count": null,
   "metadata": {},
   "outputs": [
    {
     "data": {
      "text/plain": [
       "['adosc_signal',\n",
       " 'buy_correct_ratio: 0.5451',\n",
       " 'buy_correct_mean: 1.8422',\n",
       " 'buy_incorrect_ratio: 0.4721',\n",
       " 'buy_incorrect_mean: -2.4982%']"
      ]
     },
     "execution_count": 51,
     "metadata": {},
     "output_type": "execute_result"
    }
   ],
   "source": [
    "indicator_result('adosc_signal', feats)"
   ]
  },
  {
   "cell_type": "markdown",
   "metadata": {},
   "source": [
    "#### ATR/TR"
   ]
  },
  {
   "cell_type": "code",
   "execution_count": null,
   "metadata": {},
   "outputs": [],
   "source": [
    "indicator_result('atr_signal', feats)"
   ]
  },
  {
   "cell_type": "markdown",
   "metadata": {},
   "source": [
    "### Discovery the statistics"
   ]
  },
  {
   "cell_type": "markdown",
   "metadata": {},
   "source": [
    "It looks like the overall buy signal is slightly overperform which\n",
    "over 50% a bit. However the sell signal is slightly underperform.\n",
    "Can you suggest a way to make a better signal?"
   ]
  },
  {
   "cell_type": "code",
   "execution_count": null,
   "metadata": {},
   "outputs": [
    {
     "data": {
      "text/plain": [
       "['adosc_signal',\n",
       " 'buy_correct_ratio: 0.5451',\n",
       " 'buy_correct_mean: 1.8422',\n",
       " 'buy_incorrect_ratio: 0.4721',\n",
       " 'buy_incorrect_mean: -2.4982%']"
      ]
     },
     "execution_count": 57,
     "metadata": {},
     "output_type": "execute_result"
    }
   ],
   "source": [
    "indicator_result('adosc_signal', feats)"
   ]
  },
  {
   "cell_type": "markdown",
   "metadata": {},
   "source": [
    "### Comprehensive Analyse"
   ]
  },
  {
   "cell_type": "markdown",
   "metadata": {},
   "source": [
    "We perform buy if triggered by only 1 indicator, we may have 713 correct, and 656 wrong."
   ]
  },
  {
   "cell_type": "code",
   "execution_count": null,
   "metadata": {},
   "outputs": [],
   "source": [
    "feats['Comp_signal'] = np.where((np.where(feats['rsi_signal']==1,1,0) +\n",
    "            np.where(feats['stoch_signal']==1,1,0)+\n",
    "            np.where(feats['macd_signal']==1,1,0)+\n",
    "            np.where(feats['adosc_signal']==1,1,0)+\n",
    "            np.where(feats['atr_signal']==1,1,0)\n",
    "        )>1 , 1, 0 )"
   ]
  },
  {
   "cell_type": "code",
   "execution_count": null,
   "metadata": {},
   "outputs": [
    {
     "data": {
      "text/plain": [
       "724"
      ]
     },
     "execution_count": 62,
     "metadata": {},
     "output_type": "execute_result"
    }
   ],
   "source": [
    "feats['Target'].loc[(feats['Comp_signal']==1) & (feats['Target']>0)].count()"
   ]
  },
  {
   "cell_type": "code",
   "execution_count": null,
   "metadata": {},
   "outputs": [
    {
     "data": {
      "text/plain": [
       "655"
      ]
     },
     "execution_count": 63,
     "metadata": {},
     "output_type": "execute_result"
    }
   ],
   "source": [
    "feats['Target'].loc[(feats['Comp_signal']==1) & (feats['Target']<0)].count()"
   ]
  },
  {
   "cell_type": "markdown",
   "metadata": {},
   "source": [
    "We perform buy if triggered by at least 2 indicator, we may have 51 correct, and 47\n",
    "wrong."
   ]
  },
  {
   "cell_type": "code",
   "execution_count": null,
   "metadata": {},
   "outputs": [],
   "source": [
    "feats['Comp_signal'] = np.where((np.where(feats['rsi_signal']==1,1,0) +\n",
    "            np.where(feats['stoch_signal']==1,1,0)+\n",
    "            np.where(feats['macd_signal']==1,1,0)+\n",
    "            np.where(feats['adosc_signal']==1,1,0)+\n",
    "            np.where(feats['atr_signal']==1,1,0)\n",
    "        )>2 , 1, 0 )"
   ]
  },
  {
   "cell_type": "code",
   "execution_count": null,
   "metadata": {},
   "outputs": [
    {
     "data": {
      "text/plain": [
       "58"
      ]
     },
     "execution_count": 65,
     "metadata": {},
     "output_type": "execute_result"
    }
   ],
   "source": [
    "feats['Target'].loc[(feats['Comp_signal']==1) & (feats['Target']<0)].count()"
   ]
  },
  {
   "cell_type": "code",
   "execution_count": null,
   "metadata": {},
   "outputs": [
    {
     "data": {
      "text/plain": [
       "58"
      ]
     },
     "execution_count": 66,
     "metadata": {},
     "output_type": "execute_result"
    }
   ],
   "source": [
    "feats['Target'].loc[(feats['Comp_signal']==1) & (feats['Target']<0)].count()"
   ]
  }
 ],
 "metadata": {
  "kernelspec": {
   "display_name": "Python 3",
   "language": "python",
   "name": "python3"
  },
  "language_info": {
   "codemirror_mode": {
    "name": "ipython",
    "version": 3
   },
   "file_extension": ".py",
   "mimetype": "text/x-python",
   "name": "python",
   "nbconvert_exporter": "python",
   "pygments_lexer": "ipython3",
   "version": "3.11.4"
  },
  "orig_nbformat": 4
 },
 "nbformat": 4,
 "nbformat_minor": 2
}
