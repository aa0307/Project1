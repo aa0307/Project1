{
 "cells": [
  {
   "cell_type": "code",
   "execution_count": null,
   "metadata": {},
   "outputs": [],
   "source": [
    "import yfinance as yf\n",
    "AA = yf.download('AAPL',start = '2022-09-01', end = '2023-01-01')"
   ]
  },
  {
   "cell_type": "markdown",
   "metadata": {},
   "source": [
    "### Candlestick"
   ]
  },
  {
   "attachments": {
    "image.png": {
     "image/png": "[encoded data removed]"
    }
   },
   "cell_type": "markdown",
   "metadata": {},
   "source": [
    "A candle that is Bearish has the open price higher than the closing  \n",
    "A candle that is Bullish has an open price that is always lower than the closing price\n",
    "\n",
    "![image.png](attachment:image.png)"
   ]
  },
  {
   "cell_type": "code",
   "execution_count": null,
   "metadata": {},
   "outputs": [],
   "source": [
    "import yfinance as yf\n",
    "AA = yf.download('AAPL',start = '2022-09-01', end = '2023-01-01')\n",
    "AA.head(3)"
   ]
  },
  {
   "cell_type": "code",
   "execution_count": null,
   "metadata": {},
   "outputs": [],
   "source": [
    "import plotly.graph_objects as go\n",
    "fig = go.Figure(data = [go.Candlestick(x = AA.index,\n",
    "                                       open = AA['Open'],\n",
    "                                       high = AA['High'],\n",
    "                                       low = AA['Low'],\n",
    "                                       close = AA['Close'])]).update_layout(\n",
    "                                           title = 'Apple Share Price (Close) USD',\n",
    "                                           yaxis_title = 'Close Price USD'\n",
    "                                       )\n",
    "fig.show()"
   ]
  },
  {
   "cell_type": "markdown",
   "metadata": {},
   "source": [
    "### ***pip install wbgapi***"
   ]
  },
  {
   "cell_type": "code",
   "execution_count": null,
   "metadata": {},
   "outputs": [],
   "source": [
    "import wbgapi as wb\n",
    "BB = wb.data.DataFrame(['NY.GDP.PCAP.CD'],['HKG']).T\n",
    "print(BB.head(3))\n",
    "print(BB.tail(3))"
   ]
  },
  {
   "cell_type": "code",
   "execution_count": null,
   "metadata": {},
   "outputs": [],
   "source": [
    "wb.economy.info()"
   ]
  },
  {
   "cell_type": "code",
   "execution_count": null,
   "metadata": {},
   "outputs": [],
   "source": [
    "wb.search('hong kong')"
   ]
  },
  {
   "cell_type": "code",
   "execution_count": 8,
   "metadata": {},
   "outputs": [
    {
     "name": "stdout",
     "output_type": "stream",
     "text": [
      "        country continent  year  lifeExp       pop    gdpPercap iso_alpha  \\\n",
      "11  Afghanistan      Asia  2007   43.828  31889923   974.580338       AFG   \n",
      "23      Albania    Europe  2007   76.423   3600523  5937.029526       ALB   \n",
      "35      Algeria    Africa  2007   72.301  33333216  6223.367465       DZA   \n",
      "\n",
      "    iso_num  \n",
      "11        4  \n",
      "23        8  \n",
      "35       12  \n"
     ]
    },
    {
     "data": {
      "application/vnd.plotly.v1+json": {
       "config": {
        "plotlyServerURL": "https://plot.ly"
       },
       "data": [
        {
         "branchvalues": "total",
         "customdata": [
          [
           "AFG",
           43.828
          ],
          [
           "ALB",
           76.423
          ],
          [
           "DZA",
           72.301
          ],
          [
           "AGO",
           42.731
          ],
          [
           "ARG",
           75.32
          ],
          [
           "AUS",
           81.235
          ],
          [
           "AUT",
           79.829
          ],
          [
           "BHR",
           75.635
          ],
          [
           "BGD",
           64.062
          ],
          [
           "BEL",
           79.441
          ],
          [
           "BEN",
           56.728
          ],
          [
           "BOL",
           65.554
          ],
          [
           "BIH",
           74.852
          ],
          [
           "BWA",
           50.728
          ],
          [
           "BRA",
           72.39
          ],
          [
           "BGR",
           73.005
          ],
          [
           "BFA",
           52.295
          ],
          [
           "BDI",
           49.58
          ],
          [
           "KHM",
           59.723
          ],
          [
           "CMR",
           50.43
          ],
          [
           "CAN",
           80.65300000000002
          ],
          [
           "CAF",
           44.74100000000001
          ],
          [
           "TCD",
           50.651
          ],
          [
           "CHL",
           78.553
          ],
          [
           "CHN",
           72.961
          ],
          [
           "COL",
           72.889
          ],
          [
           "COM",
           65.152
          ],
          [
           "COD",
           46.462
          ],
          [
           "COG",
           55.322
          ],
          [
           "CRI",
           78.782
          ],
          [
           "CIV",
           48.328
          ],
          [
           "HRV",
           75.748
          ],
          [
           "CUB",
           78.273
          ],
          [
           "CZE",
           76.486
          ],
          [
           "DNK",
           78.332
          ],
          [
           "DJI",
           54.791
          ],
          [
           "DOM",
           72.235
          ],
          [
           "ECU",
           74.994
          ],
          [
           "EGY",
           71.33800000000002
          ],
          [
           "SLV",
           71.878
          ],
          [
           "GNQ",
           51.57899999999999
          ],
          [
           "ERI",
           58.03999999999999
          ],
          [
           "ETH",
           52.947
          ],
          [
           "FIN",
           79.313
          ],
          [
           "FRA",
           80.65699999999998
          ],
          [
           "GAB",
           56.73500000000001
          ],
          [
           "GMB",
           59.448
          ],
          [
           "DEU",
           79.406
          ],
          [
           "GHA",
           60.02199999999999
          ],
          [
           "GRC",
           79.483
          ],
          [
           "GTM",
           70.259
          ],
          [
           "GIN",
           56.007
          ],
          [
           "GNB",
           46.38800000000001
          ],
          [
           "HTI",
           60.916
          ],
          [
           "HND",
           70.19800000000001
          ],
          [
           "HKG",
           82.208
          ],
          [
           "HUN",
           73.33800000000002
          ],
          [
           "ISL",
           81.757
          ],
          [
           "IND",
           64.69800000000001
          ],
          [
           "IDN",
           70.65
          ],
          [
           "IRN",
           70.964
          ],
          [
           "IRQ",
           59.545
          ],
          [
           "IRL",
           78.885
          ],
          [
           "ISR",
           80.745
          ],
          [
           "ITA",
           80.546
          ],
          [
           "JAM",
           72.567
          ],
          [
           "JPN",
           82.603
          ],
          [
           "JOR",
           72.535
          ],
          [
           "KEN",
           54.11
          ],
          [
           "KOR",
           67.297
          ],
          [
           "KOR",
           78.623
          ],
          [
           "KWT",
           77.58800000000002
          ],
          [
           "LBN",
           71.993
          ],
          [
           "LSO",
           42.592
          ],
          [
           "LBR",
           45.678
          ],
          [
           "LBY",
           73.952
          ],
          [
           "MDG",
           59.443000000000005
          ],
          [
           "MWI",
           48.303
          ],
          [
           "MYS",
           74.241
          ],
          [
           "MLI",
           54.467
          ],
          [
           "MRT",
           64.164
          ],
          [
           "MUS",
           72.801
          ],
          [
           "MEX",
           76.195
          ],
          [
           "MNG",
           66.803
          ],
          [
           "MNE",
           74.543
          ],
          [
           "MAR",
           71.164
          ],
          [
           "MOZ",
           42.082
          ],
          [
           "MMR",
           62.06900000000001
          ],
          [
           "NAM",
           52.90600000000001
          ],
          [
           "NPL",
           63.785
          ],
          [
           "NLD",
           79.762
          ],
          [
           "NZL",
           80.204
          ],
          [
           "NIC",
           72.899
          ],
          [
           "NER",
           56.867
          ],
          [
           "NGA",
           46.859
          ],
          [
           "NOR",
           80.196
          ],
          [
           "OMN",
           75.64
          ],
          [
           "PAK",
           65.483
          ],
          [
           "PAN",
           75.53699999999998
          ],
          [
           "PRY",
           71.752
          ],
          [
           "PER",
           71.421
          ],
          [
           "PHL",
           71.688
          ],
          [
           "POL",
           75.563
          ],
          [
           "PRT",
           78.098
          ],
          [
           "PRI",
           78.74600000000002
          ],
          [
           "REU",
           76.442
          ],
          [
           "ROU",
           72.476
          ],
          [
           "RWA",
           46.242
          ],
          [
           "STP",
           65.528
          ],
          [
           "SAU",
           72.777
          ],
          [
           "SEN",
           63.062
          ],
          [
           "SRB",
           74.002
          ],
          [
           "SLE",
           42.56800000000001
          ],
          [
           "SGP",
           79.972
          ],
          [
           "SVK",
           74.663
          ],
          [
           "SVN",
           77.926
          ],
          [
           "SOM",
           48.159
          ],
          [
           "ZAF",
           49.339
          ],
          [
           "ESP",
           80.941
          ],
          [
           "LKA",
           72.396
          ],
          [
           "SDN",
           58.55599999999999
          ],
          [
           "SWZ",
           39.613
          ],
          [
           "SWE",
           80.884
          ],
          [
           "CHE",
           81.70100000000002
          ],
          [
           "SYR",
           74.143
          ],
          [
           "TWN",
           78.4
          ],
          [
           "TZA",
           52.517
          ],
          [
           "THA",
           70.616
          ],
          [
           "TGO",
           58.42
          ],
          [
           "TTO",
           69.819
          ],
          [
           "TUN",
           73.923
          ],
          [
           "TUR",
           71.777
          ],
          [
           "UGA",
           51.542
          ],
          [
           "GBR",
           79.425
          ],
          [
           "USA",
           78.242
          ],
          [
           "URY",
           76.384
          ],
          [
           "VEN",
           73.747
          ],
          [
           "VNM",
           74.249
          ],
          [
           "PSE",
           73.422
          ],
          [
           "YEM",
           62.698
          ],
          [
           "ZMB",
           42.38399999999999
          ],
          [
           "ZWE",
           43.487
          ],
          [
           "(?)",
           54.56441057558197
          ],
          [
           "(?)",
           75.35668222743027
          ],
          [
           "(?)",
           69.44386304205017
          ],
          [
           "(?)",
           77.89057081069897
          ],
          [
           "(?)",
           81.06215400970112
          ]
         ],
         "domain": {
          "x": [
           0,
           1
          ],
          "y": [
           0,
           1
          ]
         },
         "hovertemplate": "labels=%{label}<br>pop=%{value}<br>parent=%{parent}<br>id=%{id}<br>iso_alpha=%{customdata[0]}<br>lifeExp=%{color}<extra></extra>",
         "ids": [
          "Asia/Afghanistan",
          "Europe/Albania",
          "Africa/Algeria",
          "Africa/Angola",
          "Americas/Argentina",
          "Oceania/Australia",
          "Europe/Austria",
          "Asia/Bahrain",
          "Asia/Bangladesh",
          "Europe/Belgium",
          "Africa/Benin",
          "Americas/Bolivia",
          "Europe/Bosnia and Herzegovina",
          "Africa/Botswana",
          "Americas/Brazil",
          "Europe/Bulgaria",
          "Africa/Burkina Faso",
          "Africa/Burundi",
          "Asia/Cambodia",
          "Africa/Cameroon",
          "Americas/Canada",
          "Africa/Central African Republic",
          "Africa/Chad",
          "Americas/Chile",
          "Asia/China",
          "Americas/Colombia",
          "Africa/Comoros",
          "Africa/Congo, Dem. Rep.",
          "Africa/Congo, Rep.",
          "Americas/Costa Rica",
          "Africa/Cote d'Ivoire",
          "Europe/Croatia",
          "Americas/Cuba",
          "Europe/Czech Republic",
          "Europe/Denmark",
          "Africa/Djibouti",
          "Americas/Dominican Republic",
          "Americas/Ecuador",
          "Africa/Egypt",
          "Americas/El Salvador",
          "Africa/Equatorial Guinea",
          "Africa/Eritrea",
          "Africa/Ethiopia",
          "Europe/Finland",
          "Europe/France",
          "Africa/Gabon",
          "Africa/Gambia",
          "Europe/Germany",
          "Africa/Ghana",
          "Europe/Greece",
          "Americas/Guatemala",
          "Africa/Guinea",
          "Africa/Guinea-Bissau",
          "Americas/Haiti",
          "Americas/Honduras",
          "Asia/Hong Kong, China",
          "Europe/Hungary",
          "Europe/Iceland",
          "Asia/India",
          "Asia/Indonesia",
          "Asia/Iran",
          "Asia/Iraq",
          "Europe/Ireland",
          "Asia/Israel",
          "Europe/Italy",
          "Americas/Jamaica",
          "Asia/Japan",
          "Asia/Jordan",
          "Africa/Kenya",
          "Asia/Korea, Dem. Rep.",
          "Asia/Korea, Rep.",
          "Asia/Kuwait",
          "Asia/Lebanon",
          "Africa/Lesotho",
          "Africa/Liberia",
          "Africa/Libya",
          "Africa/Madagascar",
          "Africa/Malawi",
          "Asia/Malaysia",
          "Africa/Mali",
          "Africa/Mauritania",
          "Africa/Mauritius",
          "Americas/Mexico",
          "Asia/Mongolia",
          "Europe/Montenegro",
          "Africa/Morocco",
          "Africa/Mozambique",
          "Asia/Myanmar",
          "Africa/Namibia",
          "Asia/Nepal",
          "Europe/Netherlands",
          "Oceania/New Zealand",
          "Americas/Nicaragua",
          "Africa/Niger",
          "Africa/Nigeria",
          "Europe/Norway",
          "Asia/Oman",
          "Asia/Pakistan",
          "Americas/Panama",
          "Americas/Paraguay",
          "Americas/Peru",
          "Asia/Philippines",
          "Europe/Poland",
          "Europe/Portugal",
          "Americas/Puerto Rico",
          "Africa/Reunion",
          "Europe/Romania",
          "Africa/Rwanda",
          "Africa/Sao Tome and Principe",
          "Asia/Saudi Arabia",
          "Africa/Senegal",
          "Europe/Serbia",
          "Africa/Sierra Leone",
          "Asia/Singapore",
          "Europe/Slovak Republic",
          "Europe/Slovenia",
          "Africa/Somalia",
          "Africa/South Africa",
          "Europe/Spain",
          "Asia/Sri Lanka",
          "Africa/Sudan",
          "Africa/Swaziland",
          "Europe/Sweden",
          "Europe/Switzerland",
          "Asia/Syria",
          "Asia/Taiwan",
          "Africa/Tanzania",
          "Asia/Thailand",
          "Africa/Togo",
          "Americas/Trinidad and Tobago",
          "Africa/Tunisia",
          "Europe/Turkey",
          "Africa/Uganda",
          "Europe/United Kingdom",
          "Americas/United States",
          "Americas/Uruguay",
          "Americas/Venezuela",
          "Asia/Vietnam",
          "Asia/West Bank and Gaza",
          "Asia/Yemen, Rep.",
          "Africa/Zambia",
          "Africa/Zimbabwe",
          "Africa",
          "Americas",
          "Asia",
          "Europe",
          "Oceania"
         ],
         "labels": [
          "Afghanistan",
          "Albania",
          "Algeria",
          "Angola",
          "Argentina",
          "Australia",
          "Austria",
          "Bahrain",
          "Bangladesh",
          "Belgium",
          "Benin",
          "Bolivia",
          "Bosnia and Herzegovina",
          "Botswana",
          "Brazil",
          "Bulgaria",
          "Burkina Faso",
          "Burundi",
          "Cambodia",
          "Cameroon",
          "Canada",
          "Central African Republic",
          "Chad",
          "Chile",
          "China",
          "Colombia",
          "Comoros",
          "Congo, Dem. Rep.",
          "Congo, Rep.",
          "Costa Rica",
          "Cote d'Ivoire",
          "Croatia",
          "Cuba",
          "Czech Republic",
          "Denmark",
          "Djibouti",
          "Dominican Republic",
          "Ecuador",
          "Egypt",
          "El Salvador",
          "Equatorial Guinea",
          "Eritrea",
          "Ethiopia",
          "Finland",
          "France",
          "Gabon",
          "Gambia",
          "Germany",
          "Ghana",
          "Greece",
          "Guatemala",
          "Guinea",
          "Guinea-Bissau",
          "Haiti",
          "Honduras",
          "Hong Kong, China",
          "Hungary",
          "Iceland",
          "India",
          "Indonesia",
          "Iran",
          "Iraq",
          "Ireland",
          "Israel",
          "Italy",
          "Jamaica",
          "Japan",
          "Jordan",
          "Kenya",
          "Korea, Dem. Rep.",
          "Korea, Rep.",
          "Kuwait",
          "Lebanon",
          "Lesotho",
          "Liberia",
          "Libya",
          "Madagascar",
          "Malawi",
          "Malaysia",
          "Mali",
          "Mauritania",
          "Mauritius",
          "Mexico",
          "Mongolia",
          "Montenegro",
          "Morocco",
          "Mozambique",
          "Myanmar",
          "Namibia",
          "Nepal",
          "Netherlands",
          "New Zealand",
          "Nicaragua",
          "Niger",
          "Nigeria",
          "Norway",
          "Oman",
          "Pakistan",
          "Panama",
          "Paraguay",
          "Peru",
          "Philippines",
          "Poland",
          "Portugal",
          "Puerto Rico",
          "Reunion",
          "Romania",
          "Rwanda",
          "Sao Tome and Principe",
          "Saudi Arabia",
          "Senegal",
          "Serbia",
          "Sierra Leone",
          "Singapore",
          "Slovak Republic",
          "Slovenia",
          "Somalia",
          "South Africa",
          "Spain",
          "Sri Lanka",
          "Sudan",
          "Swaziland",
          "Sweden",
          "Switzerland",
          "Syria",
          "Taiwan",
          "Tanzania",
          "Thailand",
          "Togo",
          "Trinidad and Tobago",
          "Tunisia",
          "Turkey",
          "Uganda",
          "United Kingdom",
          "United States",
          "Uruguay",
          "Venezuela",
          "Vietnam",
          "West Bank and Gaza",
          "Yemen, Rep.",
          "Zambia",
          "Zimbabwe",
          "Africa",
          "Americas",
          "Asia",
          "Europe",
          "Oceania"
         ],
         "marker": {
          "coloraxis": "coloraxis",
          "colors": [
           43.828,
           76.423,
           72.301,
           42.731,
           75.32,
           81.235,
           79.829,
           75.635,
           64.062,
           79.441,
           56.728,
           65.554,
           74.852,
           50.728,
           72.39,
           73.005,
           52.295,
           49.58,
           59.723,
           50.43,
           80.65300000000002,
           44.74100000000001,
           50.651,
           78.553,
           72.961,
           72.889,
           65.152,
           46.462,
           55.322,
           78.782,
           48.328,
           75.748,
           78.273,
           76.486,
           78.332,
           54.791,
           72.235,
           74.994,
           71.33800000000002,
           71.878,
           51.57899999999999,
           58.03999999999999,
           52.947,
           79.313,
           80.65699999999998,
           56.73500000000001,
           59.448,
           79.406,
           60.02199999999999,
           79.483,
           70.259,
           56.007,
           46.38800000000001,
           60.916,
           70.19800000000001,
           82.208,
           73.33800000000002,
           81.757,
           64.69800000000001,
           70.65,
           70.964,
           59.545,
           78.885,
           80.745,
           80.546,
           72.567,
           82.603,
           72.535,
           54.11,
           67.297,
           78.623,
           77.58800000000002,
           71.993,
           42.592,
           45.678,
           73.952,
           59.443000000000005,
           48.303,
           74.241,
           54.467,
           64.164,
           72.801,
           76.195,
           66.803,
           74.543,
           71.164,
           42.082,
           62.06900000000001,
           52.90600000000001,
           63.785,
           79.762,
           80.204,
           72.899,
           56.867,
           46.859,
           80.196,
           75.64,
           65.483,
           75.53699999999998,
           71.752,
           71.421,
           71.688,
           75.563,
           78.098,
           78.74600000000002,
           76.442,
           72.476,
           46.242,
           65.528,
           72.777,
           63.062,
           74.002,
           42.56800000000001,
           79.972,
           74.663,
           77.926,
           48.159,
           49.339,
           80.941,
           72.396,
           58.55599999999999,
           39.613,
           80.884,
           81.70100000000002,
           74.143,
           78.4,
           52.517,
           70.616,
           58.42,
           69.819,
           73.923,
           71.777,
           51.542,
           79.425,
           78.242,
           76.384,
           73.747,
           74.249,
           73.422,
           62.698,
           42.38399999999999,
           43.487,
           54.56441057558197,
           75.35668222743027,
           69.44386304205017,
           77.89057081069897,
           81.06215400970112
          ]
         },
         "name": "",
         "parents": [
          "Asia",
          "Europe",
          "Africa",
          "Africa",
          "Americas",
          "Oceania",
          "Europe",
          "Asia",
          "Asia",
          "Europe",
          "Africa",
          "Americas",
          "Europe",
          "Africa",
          "Americas",
          "Europe",
          "Africa",
          "Africa",
          "Asia",
          "Africa",
          "Americas",
          "Africa",
          "Africa",
          "Americas",
          "Asia",
          "Americas",
          "Africa",
          "Africa",
          "Africa",
          "Americas",
          "Africa",
          "Europe",
          "Americas",
          "Europe",
          "Europe",
          "Africa",
          "Americas",
          "Americas",
          "Africa",
          "Americas",
          "Africa",
          "Africa",
          "Africa",
          "Europe",
          "Europe",
          "Africa",
          "Africa",
          "Europe",
          "Africa",
          "Europe",
          "Americas",
          "Africa",
          "Africa",
          "Americas",
          "Americas",
          "Asia",
          "Europe",
          "Europe",
          "Asia",
          "Asia",
          "Asia",
          "Asia",
          "Europe",
          "Asia",
          "Europe",
          "Americas",
          "Asia",
          "Asia",
          "Africa",
          "Asia",
          "Asia",
          "Asia",
          "Asia",
          "Africa",
          "Africa",
          "Africa",
          "Africa",
          "Africa",
          "Asia",
          "Africa",
          "Africa",
          "Africa",
          "Americas",
          "Asia",
          "Europe",
          "Africa",
          "Africa",
          "Asia",
          "Africa",
          "Asia",
          "Europe",
          "Oceania",
          "Americas",
          "Africa",
          "Africa",
          "Europe",
          "Asia",
          "Asia",
          "Americas",
          "Americas",
          "Americas",
          "Asia",
          "Europe",
          "Europe",
          "Americas",
          "Africa",
          "Europe",
          "Africa",
          "Africa",
          "Asia",
          "Africa",
          "Europe",
          "Africa",
          "Asia",
          "Europe",
          "Europe",
          "Africa",
          "Africa",
          "Europe",
          "Asia",
          "Africa",
          "Africa",
          "Europe",
          "Europe",
          "Asia",
          "Asia",
          "Africa",
          "Asia",
          "Africa",
          "Americas",
          "Africa",
          "Europe",
          "Africa",
          "Europe",
          "Americas",
          "Americas",
          "Americas",
          "Asia",
          "Asia",
          "Asia",
          "Africa",
          "Africa",
          "",
          "",
          "",
          "",
          ""
         ],
         "type": "sunburst",
         "values": [
          31889923,
          3600523,
          33333216,
          12420476,
          40301927,
          20434176,
          8199783,
          708573,
          150448339,
          10392226,
          8078314,
          9119152,
          4552198,
          1639131,
          190010647,
          7322858,
          14326203,
          8390505,
          14131858,
          17696293,
          33390141,
          4369038,
          10238807,
          16284741,
          1318683096,
          44227550,
          710960,
          64606759,
          3800610,
          4133884,
          18013409,
          4493312,
          11416987,
          10228744,
          5468120,
          496374,
          9319622,
          13755680,
          80264543,
          6939688,
          551201,
          4906585,
          76511887,
          5238460,
          61083916,
          1454867,
          1688359,
          82400996,
          22873338,
          10706290,
          12572928,
          9947814,
          1472041,
          8502814,
          7483763,
          6980412,
          9956108,
          301931,
          1110396331,
          223547000,
          69453570,
          27499638,
          4109086,
          6426679,
          58147733,
          2780132,
          127467972,
          6053193,
          35610177,
          23301725,
          49044790,
          2505559,
          3921278,
          2012649,
          3193942,
          6036914,
          19167654,
          13327079,
          24821286,
          12031795,
          3270065,
          1250882,
          108700891,
          2874127,
          684736,
          33757175,
          19951656,
          47761980,
          2055080,
          28901790,
          16570613,
          4115771,
          5675356,
          12894865,
          135031164,
          4627926,
          3204897,
          169270617,
          3242173,
          6667147,
          28674757,
          91077287,
          38518241,
          10642836,
          3942491,
          798094,
          22276056,
          8860588,
          199579,
          27601038,
          12267493,
          10150265,
          6144562,
          4553009,
          5447502,
          2009245,
          9118773,
          43997828,
          40448191,
          20378239,
          42292929,
          1133066,
          9031088,
          7554661,
          19314747,
          23174294,
          38139640,
          65068149,
          5701579,
          1056608,
          10276158,
          71158647,
          29170398,
          60776238,
          301139947,
          3447496,
          26084662,
          85262356,
          4018332,
          22211743,
          11746035,
          12311143,
          929539692,
          898871184,
          3811953827,
          586098529,
          24549947
         ]
        }
       ],
       "layout": {
        "coloraxis": {
         "colorbar": {
          "title": {
           "text": "lifeExp"
          }
         },
         "colorscale": [
          [
           0,
           "#0d0887"
          ],
          [
           0.1111111111111111,
           "#46039f"
          ],
          [
           0.2222222222222222,
           "#7201a8"
          ],
          [
           0.3333333333333333,
           "#9c179e"
          ],
          [
           0.4444444444444444,
           "#bd3786"
          ],
          [
           0.5555555555555556,
           "#d8576b"
          ],
          [
           0.6666666666666666,
           "#ed7953"
          ],
          [
           0.7777777777777778,
           "#fb9f3a"
          ],
          [
           0.8888888888888888,
           "#fdca26"
          ],
          [
           1,
           "#f0f921"
          ]
         ]
        },
        "legend": {
         "tracegroupgap": 0
        },
        "margin": {
         "t": 60
        },
        "template": {
         "data": {
          "bar": [
           {
            "error_x": {
             "color": "#2a3f5f"
            },
            "error_y": {
             "color": "#2a3f5f"
            },
            "marker": {
             "line": {
              "color": "#E5ECF6",
              "width": 0.5
             },
             "pattern": {
              "fillmode": "overlay",
              "size": 10,
              "solidity": 0.2
             }
            },
            "type": "bar"
           }
          ],
          "barpolar": [
           {
            "marker": {
             "line": {
              "color": "#E5ECF6",
              "width": 0.5
             },
             "pattern": {
              "fillmode": "overlay",
              "size": 10,
              "solidity": 0.2
             }
            },
            "type": "barpolar"
           }
          ],
          "carpet": [
           {
            "aaxis": {
             "endlinecolor": "#2a3f5f",
             "gridcolor": "white",
             "linecolor": "white",
             "minorgridcolor": "white",
             "startlinecolor": "#2a3f5f"
            },
            "baxis": {
             "endlinecolor": "#2a3f5f",
             "gridcolor": "white",
             "linecolor": "white",
             "minorgridcolor": "white",
             "startlinecolor": "#2a3f5f"
            },
            "type": "carpet"
           }
          ],
          "choropleth": [
           {
            "colorbar": {
             "outlinewidth": 0,
             "ticks": ""
            },
            "type": "choropleth"
           }
          ],
          "contour": [
           {
            "colorbar": {
             "outlinewidth": 0,
             "ticks": ""
            },
            "colorscale": [
             [
              0,
              "#0d0887"
             ],
             [
              0.1111111111111111,
              "#46039f"
             ],
             [
              0.2222222222222222,
              "#7201a8"
             ],
             [
              0.3333333333333333,
              "#9c179e"
             ],
             [
              0.4444444444444444,
              "#bd3786"
             ],
             [
              0.5555555555555556,
              "#d8576b"
             ],
             [
              0.6666666666666666,
              "#ed7953"
             ],
             [
              0.7777777777777778,
              "#fb9f3a"
             ],
             [
              0.8888888888888888,
              "#fdca26"
             ],
             [
              1,
              "#f0f921"
             ]
            ],
            "type": "contour"
           }
          ],
          "contourcarpet": [
           {
            "colorbar": {
             "outlinewidth": 0,
             "ticks": ""
            },
            "type": "contourcarpet"
           }
          ],
          "heatmap": [
           {
            "colorbar": {
             "outlinewidth": 0,
             "ticks": ""
            },
            "colorscale": [
             [
              0,
              "#0d0887"
             ],
             [
              0.1111111111111111,
              "#46039f"
             ],
             [
              0.2222222222222222,
              "#7201a8"
             ],
             [
              0.3333333333333333,
              "#9c179e"
             ],
             [
              0.4444444444444444,
              "#bd3786"
             ],
             [
              0.5555555555555556,
              "#d8576b"
             ],
             [
              0.6666666666666666,
              "#ed7953"
             ],
             [
              0.7777777777777778,
              "#fb9f3a"
             ],
             [
              0.8888888888888888,
              "#fdca26"
             ],
             [
              1,
              "#f0f921"
             ]
            ],
            "type": "heatmap"
           }
          ],
          "heatmapgl": [
           {
            "colorbar": {
             "outlinewidth": 0,
             "ticks": ""
            },
            "colorscale": [
             [
              0,
              "#0d0887"
             ],
             [
              0.1111111111111111,
              "#46039f"
             ],
             [
              0.2222222222222222,
              "#7201a8"
             ],
             [
              0.3333333333333333,
              "#9c179e"
             ],
             [
              0.4444444444444444,
              "#bd3786"
             ],
             [
              0.5555555555555556,
              "#d8576b"
             ],
             [
              0.6666666666666666,
              "#ed7953"
             ],
             [
              0.7777777777777778,
              "#fb9f3a"
             ],
             [
              0.8888888888888888,
              "#fdca26"
             ],
             [
              1,
              "#f0f921"
             ]
            ],
            "type": "heatmapgl"
           }
          ],
          "histogram": [
           {
            "marker": {
             "pattern": {
              "fillmode": "overlay",
              "size": 10,
              "solidity": 0.2
             }
            },
            "type": "histogram"
           }
          ],
          "histogram2d": [
           {
            "colorbar": {
             "outlinewidth": 0,
             "ticks": ""
            },
            "colorscale": [
             [
              0,
              "#0d0887"
             ],
             [
              0.1111111111111111,
              "#46039f"
             ],
             [
              0.2222222222222222,
              "#7201a8"
             ],
             [
              0.3333333333333333,
              "#9c179e"
             ],
             [
              0.4444444444444444,
              "#bd3786"
             ],
             [
              0.5555555555555556,
              "#d8576b"
             ],
             [
              0.6666666666666666,
              "#ed7953"
             ],
             [
              0.7777777777777778,
              "#fb9f3a"
             ],
             [
              0.8888888888888888,
              "#fdca26"
             ],
             [
              1,
              "#f0f921"
             ]
            ],
            "type": "histogram2d"
           }
          ],
          "histogram2dcontour": [
           {
            "colorbar": {
             "outlinewidth": 0,
             "ticks": ""
            },
            "colorscale": [
             [
              0,
              "#0d0887"
             ],
             [
              0.1111111111111111,
              "#46039f"
             ],
             [
              0.2222222222222222,
              "#7201a8"
             ],
             [
              0.3333333333333333,
              "#9c179e"
             ],
             [
              0.4444444444444444,
              "#bd3786"
             ],
             [
              0.5555555555555556,
              "#d8576b"
             ],
             [
              0.6666666666666666,
              "#ed7953"
             ],
             [
              0.7777777777777778,
              "#fb9f3a"
             ],
             [
              0.8888888888888888,
              "#fdca26"
             ],
             [
              1,
              "#f0f921"
             ]
            ],
            "type": "histogram2dcontour"
           }
          ],
          "mesh3d": [
           {
            "colorbar": {
             "outlinewidth": 0,
             "ticks": ""
            },
            "type": "mesh3d"
           }
          ],
          "parcoords": [
           {
            "line": {
             "colorbar": {
              "outlinewidth": 0,
              "ticks": ""
             }
            },
            "type": "parcoords"
           }
          ],
          "pie": [
           {
            "automargin": true,
            "type": "pie"
           }
          ],
          "scatter": [
           {
            "fillpattern": {
             "fillmode": "overlay",
             "size": 10,
             "solidity": 0.2
            },
            "type": "scatter"
           }
          ],
          "scatter3d": [
           {
            "line": {
             "colorbar": {
              "outlinewidth": 0,
              "ticks": ""
             }
            },
            "marker": {
             "colorbar": {
              "outlinewidth": 0,
              "ticks": ""
             }
            },
            "type": "scatter3d"
           }
          ],
          "scattercarpet": [
           {
            "marker": {
             "colorbar": {
              "outlinewidth": 0,
              "ticks": ""
             }
            },
            "type": "scattercarpet"
           }
          ],
          "scattergeo": [
           {
            "marker": {
             "colorbar": {
              "outlinewidth": 0,
              "ticks": ""
             }
            },
            "type": "scattergeo"
           }
          ],
          "scattergl": [
           {
            "marker": {
             "colorbar": {
              "outlinewidth": 0,
              "ticks": ""
             }
            },
            "type": "scattergl"
           }
          ],
          "scattermapbox": [
           {
            "marker": {
             "colorbar": {
              "outlinewidth": 0,
              "ticks": ""
             }
            },
            "type": "scattermapbox"
           }
          ],
          "scatterpolar": [
           {
            "marker": {
             "colorbar": {
              "outlinewidth": 0,
              "ticks": ""
             }
            },
            "type": "scatterpolar"
           }
          ],
          "scatterpolargl": [
           {
            "marker": {
             "colorbar": {
              "outlinewidth": 0,
              "ticks": ""
             }
            },
            "type": "scatterpolargl"
           }
          ],
          "scatterternary": [
           {
            "marker": {
             "colorbar": {
              "outlinewidth": 0,
              "ticks": ""
             }
            },
            "type": "scatterternary"
           }
          ],
          "surface": [
           {
            "colorbar": {
             "outlinewidth": 0,
             "ticks": ""
            },
            "colorscale": [
             [
              0,
              "#0d0887"
             ],
             [
              0.1111111111111111,
              "#46039f"
             ],
             [
              0.2222222222222222,
              "#7201a8"
             ],
             [
              0.3333333333333333,
              "#9c179e"
             ],
             [
              0.4444444444444444,
              "#bd3786"
             ],
             [
              0.5555555555555556,
              "#d8576b"
             ],
             [
              0.6666666666666666,
              "#ed7953"
             ],
             [
              0.7777777777777778,
              "#fb9f3a"
             ],
             [
              0.8888888888888888,
              "#fdca26"
             ],
             [
              1,
              "#f0f921"
             ]
            ],
            "type": "surface"
           }
          ],
          "table": [
           {
            "cells": {
             "fill": {
              "color": "#EBF0F8"
             },
             "line": {
              "color": "white"
             }
            },
            "header": {
             "fill": {
              "color": "#C8D4E3"
             },
             "line": {
              "color": "white"
             }
            },
            "type": "table"
           }
          ]
         },
         "layout": {
          "annotationdefaults": {
           "arrowcolor": "#2a3f5f",
           "arrowhead": 0,
           "arrowwidth": 1
          },
          "autotypenumbers": "strict",
          "coloraxis": {
           "colorbar": {
            "outlinewidth": 0,
            "ticks": ""
           }
          },
          "colorscale": {
           "diverging": [
            [
             0,
             "#8e0152"
            ],
            [
             0.1,
             "#c51b7d"
            ],
            [
             0.2,
             "#de77ae"
            ],
            [
             0.3,
             "#f1b6da"
            ],
            [
             0.4,
             "#fde0ef"
            ],
            [
             0.5,
             "#f7f7f7"
            ],
            [
             0.6,
             "#e6f5d0"
            ],
            [
             0.7,
             "#b8e186"
            ],
            [
             0.8,
             "#7fbc41"
            ],
            [
             0.9,
             "#4d9221"
            ],
            [
             1,
             "#276419"
            ]
           ],
           "sequential": [
            [
             0,
             "#0d0887"
            ],
            [
             0.1111111111111111,
             "#46039f"
            ],
            [
             0.2222222222222222,
             "#7201a8"
            ],
            [
             0.3333333333333333,
             "#9c179e"
            ],
            [
             0.4444444444444444,
             "#bd3786"
            ],
            [
             0.5555555555555556,
             "#d8576b"
            ],
            [
             0.6666666666666666,
             "#ed7953"
            ],
            [
             0.7777777777777778,
             "#fb9f3a"
            ],
            [
             0.8888888888888888,
             "#fdca26"
            ],
            [
             1,
             "#f0f921"
            ]
           ],
           "sequentialminus": [
            [
             0,
             "#0d0887"
            ],
            [
             0.1111111111111111,
             "#46039f"
            ],
            [
             0.2222222222222222,
             "#7201a8"
            ],
            [
             0.3333333333333333,
             "#9c179e"
            ],
            [
             0.4444444444444444,
             "#bd3786"
            ],
            [
             0.5555555555555556,
             "#d8576b"
            ],
            [
             0.6666666666666666,
             "#ed7953"
            ],
            [
             0.7777777777777778,
             "#fb9f3a"
            ],
            [
             0.8888888888888888,
             "#fdca26"
            ],
            [
             1,
             "#f0f921"
            ]
           ]
          },
          "colorway": [
           "#636efa",
           "#EF553B",
           "#00cc96",
           "#ab63fa",
           "#FFA15A",
           "#19d3f3",
           "#FF6692",
           "#B6E880",
           "#FF97FF",
           "#FECB52"
          ],
          "font": {
           "color": "#2a3f5f"
          },
          "geo": {
           "bgcolor": "white",
           "lakecolor": "white",
           "landcolor": "#E5ECF6",
           "showlakes": true,
           "showland": true,
           "subunitcolor": "white"
          },
          "hoverlabel": {
           "align": "left"
          },
          "hovermode": "closest",
          "mapbox": {
           "style": "light"
          },
          "paper_bgcolor": "white",
          "plot_bgcolor": "#E5ECF6",
          "polar": {
           "angularaxis": {
            "gridcolor": "white",
            "linecolor": "white",
            "ticks": ""
           },
           "bgcolor": "#E5ECF6",
           "radialaxis": {
            "gridcolor": "white",
            "linecolor": "white",
            "ticks": ""
           }
          },
          "scene": {
           "xaxis": {
            "backgroundcolor": "#E5ECF6",
            "gridcolor": "white",
            "gridwidth": 2,
            "linecolor": "white",
            "showbackground": true,
            "ticks": "",
            "zerolinecolor": "white"
           },
           "yaxis": {
            "backgroundcolor": "#E5ECF6",
            "gridcolor": "white",
            "gridwidth": 2,
            "linecolor": "white",
            "showbackground": true,
            "ticks": "",
            "zerolinecolor": "white"
           },
           "zaxis": {
            "backgroundcolor": "#E5ECF6",
            "gridcolor": "white",
            "gridwidth": 2,
            "linecolor": "white",
            "showbackground": true,
            "ticks": "",
            "zerolinecolor": "white"
           }
          },
          "shapedefaults": {
           "line": {
            "color": "#2a3f5f"
           }
          },
          "ternary": {
           "aaxis": {
            "gridcolor": "white",
            "linecolor": "white",
            "ticks": ""
           },
           "baxis": {
            "gridcolor": "white",
            "linecolor": "white",
            "ticks": ""
           },
           "bgcolor": "#E5ECF6",
           "caxis": {
            "gridcolor": "white",
            "linecolor": "white",
            "ticks": ""
           }
          },
          "title": {
           "x": 0.05
          },
          "xaxis": {
           "automargin": true,
           "gridcolor": "white",
           "linecolor": "white",
           "ticks": "",
           "title": {
            "standoff": 15
           },
           "zerolinecolor": "white",
           "zerolinewidth": 2
          },
          "yaxis": {
           "automargin": true,
           "gridcolor": "white",
           "linecolor": "white",
           "ticks": "",
           "title": {
            "standoff": 15
           },
           "zerolinecolor": "white",
           "zerolinewidth": 2
          }
         }
        }
       }
      }
     },
     "metadata": {},
     "output_type": "display_data"
    }
   ],
   "source": [
    "# px.sunburst\n",
    "import plotly.express as px\n",
    "CC = px.data.gapminder().query('year == 2007')\n",
    "print(CC.head(3))\n",
    "fig = px.sunburst(CC, path = ['continent','country'],\n",
    "                  values = 'pop',color = 'lifeExp',\n",
    "                  hover_data = ['iso_alpha'])\n",
    "fig.show()"
   ]
  },
  {
   "cell_type": "code",
   "execution_count": 11,
   "metadata": {},
   "outputs": [
    {
     "data": {
      "application/vnd.plotly.v1+json": {
       "config": {
        "plotlyServerURL": "https://plot.ly"
       },
       "data": [
        {
         "domain": {
          "x": [
           0,
           1
          ],
          "y": [
           0,
           1
          ]
         },
         "hovertemplate": "country=%{label}<br>pop=%{value}<extra></extra>",
         "labels": [
          "Albania",
          "Austria",
          "Belgium",
          "Bosnia and Herzegovina",
          "Bulgaria",
          "Croatia",
          "Czech Republic",
          "Denmark",
          "Finland",
          "France",
          "Germany",
          "Greece",
          "Hungary",
          "Other Countries",
          "Ireland",
          "Italy",
          "Other Countries",
          "Netherlands",
          "Norway",
          "Poland",
          "Portugal",
          "Romania",
          "Serbia",
          "Slovak Republic",
          "Slovenia",
          "Spain",
          "Sweden",
          "Switzerland",
          "Turkey",
          "United Kingdom"
         ],
         "legendgroup": "",
         "name": "",
         "showlegend": true,
         "type": "pie",
         "values": [
          3600523,
          8199783,
          10392226,
          4552198,
          7322858,
          4493312,
          10228744,
          5468120,
          5238460,
          61083916,
          82400996,
          10706290,
          9956108,
          301931,
          4109086,
          58147733,
          684736,
          16570613,
          4627926,
          38518241,
          10642836,
          22276056,
          10150265,
          5447502,
          2009245,
          40448191,
          9031088,
          7554661,
          71158647,
          60776238
         ]
        }
       ],
       "layout": {
        "legend": {
         "tracegroupgap": 0
        },
        "template": {
         "data": {
          "bar": [
           {
            "error_x": {
             "color": "#2a3f5f"
            },
            "error_y": {
             "color": "#2a3f5f"
            },
            "marker": {
             "line": {
              "color": "#E5ECF6",
              "width": 0.5
             },
             "pattern": {
              "fillmode": "overlay",
              "size": 10,
              "solidity": 0.2
             }
            },
            "type": "bar"
           }
          ],
          "barpolar": [
           {
            "marker": {
             "line": {
              "color": "#E5ECF6",
              "width": 0.5
             },
             "pattern": {
              "fillmode": "overlay",
              "size": 10,
              "solidity": 0.2
             }
            },
            "type": "barpolar"
           }
          ],
          "carpet": [
           {
            "aaxis": {
             "endlinecolor": "#2a3f5f",
             "gridcolor": "white",
             "linecolor": "white",
             "minorgridcolor": "white",
             "startlinecolor": "#2a3f5f"
            },
            "baxis": {
             "endlinecolor": "#2a3f5f",
             "gridcolor": "white",
             "linecolor": "white",
             "minorgridcolor": "white",
             "startlinecolor": "#2a3f5f"
            },
            "type": "carpet"
           }
          ],
          "choropleth": [
           {
            "colorbar": {
             "outlinewidth": 0,
             "ticks": ""
            },
            "type": "choropleth"
           }
          ],
          "contour": [
           {
            "colorbar": {
             "outlinewidth": 0,
             "ticks": ""
            },
            "colorscale": [
             [
              0,
              "#0d0887"
             ],
             [
              0.1111111111111111,
              "#46039f"
             ],
             [
              0.2222222222222222,
              "#7201a8"
             ],
             [
              0.3333333333333333,
              "#9c179e"
             ],
             [
              0.4444444444444444,
              "#bd3786"
             ],
             [
              0.5555555555555556,
              "#d8576b"
             ],
             [
              0.6666666666666666,
              "#ed7953"
             ],
             [
              0.7777777777777778,
              "#fb9f3a"
             ],
             [
              0.8888888888888888,
              "#fdca26"
             ],
             [
              1,
              "#f0f921"
             ]
            ],
            "type": "contour"
           }
          ],
          "contourcarpet": [
           {
            "colorbar": {
             "outlinewidth": 0,
             "ticks": ""
            },
            "type": "contourcarpet"
           }
          ],
          "heatmap": [
           {
            "colorbar": {
             "outlinewidth": 0,
             "ticks": ""
            },
            "colorscale": [
             [
              0,
              "#0d0887"
             ],
             [
              0.1111111111111111,
              "#46039f"
             ],
             [
              0.2222222222222222,
              "#7201a8"
             ],
             [
              0.3333333333333333,
              "#9c179e"
             ],
             [
              0.4444444444444444,
              "#bd3786"
             ],
             [
              0.5555555555555556,
              "#d8576b"
             ],
             [
              0.6666666666666666,
              "#ed7953"
             ],
             [
              0.7777777777777778,
              "#fb9f3a"
             ],
             [
              0.8888888888888888,
              "#fdca26"
             ],
             [
              1,
              "#f0f921"
             ]
            ],
            "type": "heatmap"
           }
          ],
          "heatmapgl": [
           {
            "colorbar": {
             "outlinewidth": 0,
             "ticks": ""
            },
            "colorscale": [
             [
              0,
              "#0d0887"
             ],
             [
              0.1111111111111111,
              "#46039f"
             ],
             [
              0.2222222222222222,
              "#7201a8"
             ],
             [
              0.3333333333333333,
              "#9c179e"
             ],
             [
              0.4444444444444444,
              "#bd3786"
             ],
             [
              0.5555555555555556,
              "#d8576b"
             ],
             [
              0.6666666666666666,
              "#ed7953"
             ],
             [
              0.7777777777777778,
              "#fb9f3a"
             ],
             [
              0.8888888888888888,
              "#fdca26"
             ],
             [
              1,
              "#f0f921"
             ]
            ],
            "type": "heatmapgl"
           }
          ],
          "histogram": [
           {
            "marker": {
             "pattern": {
              "fillmode": "overlay",
              "size": 10,
              "solidity": 0.2
             }
            },
            "type": "histogram"
           }
          ],
          "histogram2d": [
           {
            "colorbar": {
             "outlinewidth": 0,
             "ticks": ""
            },
            "colorscale": [
             [
              0,
              "#0d0887"
             ],
             [
              0.1111111111111111,
              "#46039f"
             ],
             [
              0.2222222222222222,
              "#7201a8"
             ],
             [
              0.3333333333333333,
              "#9c179e"
             ],
             [
              0.4444444444444444,
              "#bd3786"
             ],
             [
              0.5555555555555556,
              "#d8576b"
             ],
             [
              0.6666666666666666,
              "#ed7953"
             ],
             [
              0.7777777777777778,
              "#fb9f3a"
             ],
             [
              0.8888888888888888,
              "#fdca26"
             ],
             [
              1,
              "#f0f921"
             ]
            ],
            "type": "histogram2d"
           }
          ],
          "histogram2dcontour": [
           {
            "colorbar": {
             "outlinewidth": 0,
             "ticks": ""
            },
            "colorscale": [
             [
              0,
              "#0d0887"
             ],
             [
              0.1111111111111111,
              "#46039f"
             ],
             [
              0.2222222222222222,
              "#7201a8"
             ],
             [
              0.3333333333333333,
              "#9c179e"
             ],
             [
              0.4444444444444444,
              "#bd3786"
             ],
             [
              0.5555555555555556,
              "#d8576b"
             ],
             [
              0.6666666666666666,
              "#ed7953"
             ],
             [
              0.7777777777777778,
              "#fb9f3a"
             ],
             [
              0.8888888888888888,
              "#fdca26"
             ],
             [
              1,
              "#f0f921"
             ]
            ],
            "type": "histogram2dcontour"
           }
          ],
          "mesh3d": [
           {
            "colorbar": {
             "outlinewidth": 0,
             "ticks": ""
            },
            "type": "mesh3d"
           }
          ],
          "parcoords": [
           {
            "line": {
             "colorbar": {
              "outlinewidth": 0,
              "ticks": ""
             }
            },
            "type": "parcoords"
           }
          ],
          "pie": [
           {
            "automargin": true,
            "type": "pie"
           }
          ],
          "scatter": [
           {
            "fillpattern": {
             "fillmode": "overlay",
             "size": 10,
             "solidity": 0.2
            },
            "type": "scatter"
           }
          ],
          "scatter3d": [
           {
            "line": {
             "colorbar": {
              "outlinewidth": 0,
              "ticks": ""
             }
            },
            "marker": {
             "colorbar": {
              "outlinewidth": 0,
              "ticks": ""
             }
            },
            "type": "scatter3d"
           }
          ],
          "scattercarpet": [
           {
            "marker": {
             "colorbar": {
              "outlinewidth": 0,
              "ticks": ""
             }
            },
            "type": "scattercarpet"
           }
          ],
          "scattergeo": [
           {
            "marker": {
             "colorbar": {
              "outlinewidth": 0,
              "ticks": ""
             }
            },
            "type": "scattergeo"
           }
          ],
          "scattergl": [
           {
            "marker": {
             "colorbar": {
              "outlinewidth": 0,
              "ticks": ""
             }
            },
            "type": "scattergl"
           }
          ],
          "scattermapbox": [
           {
            "marker": {
             "colorbar": {
              "outlinewidth": 0,
              "ticks": ""
             }
            },
            "type": "scattermapbox"
           }
          ],
          "scatterpolar": [
           {
            "marker": {
             "colorbar": {
              "outlinewidth": 0,
              "ticks": ""
             }
            },
            "type": "scatterpolar"
           }
          ],
          "scatterpolargl": [
           {
            "marker": {
             "colorbar": {
              "outlinewidth": 0,
              "ticks": ""
             }
            },
            "type": "scatterpolargl"
           }
          ],
          "scatterternary": [
           {
            "marker": {
             "colorbar": {
              "outlinewidth": 0,
              "ticks": ""
             }
            },
            "type": "scatterternary"
           }
          ],
          "surface": [
           {
            "colorbar": {
             "outlinewidth": 0,
             "ticks": ""
            },
            "colorscale": [
             [
              0,
              "#0d0887"
             ],
             [
              0.1111111111111111,
              "#46039f"
             ],
             [
              0.2222222222222222,
              "#7201a8"
             ],
             [
              0.3333333333333333,
              "#9c179e"
             ],
             [
              0.4444444444444444,
              "#bd3786"
             ],
             [
              0.5555555555555556,
              "#d8576b"
             ],
             [
              0.6666666666666666,
              "#ed7953"
             ],
             [
              0.7777777777777778,
              "#fb9f3a"
             ],
             [
              0.8888888888888888,
              "#fdca26"
             ],
             [
              1,
              "#f0f921"
             ]
            ],
            "type": "surface"
           }
          ],
          "table": [
           {
            "cells": {
             "fill": {
              "color": "#EBF0F8"
             },
             "line": {
              "color": "white"
             }
            },
            "header": {
             "fill": {
              "color": "#C8D4E3"
             },
             "line": {
              "color": "white"
             }
            },
            "type": "table"
           }
          ]
         },
         "layout": {
          "annotationdefaults": {
           "arrowcolor": "#2a3f5f",
           "arrowhead": 0,
           "arrowwidth": 1
          },
          "autotypenumbers": "strict",
          "coloraxis": {
           "colorbar": {
            "outlinewidth": 0,
            "ticks": ""
           }
          },
          "colorscale": {
           "diverging": [
            [
             0,
             "#8e0152"
            ],
            [
             0.1,
             "#c51b7d"
            ],
            [
             0.2,
             "#de77ae"
            ],
            [
             0.3,
             "#f1b6da"
            ],
            [
             0.4,
             "#fde0ef"
            ],
            [
             0.5,
             "#f7f7f7"
            ],
            [
             0.6,
             "#e6f5d0"
            ],
            [
             0.7,
             "#b8e186"
            ],
            [
             0.8,
             "#7fbc41"
            ],
            [
             0.9,
             "#4d9221"
            ],
            [
             1,
             "#276419"
            ]
           ],
           "sequential": [
            [
             0,
             "#0d0887"
            ],
            [
             0.1111111111111111,
             "#46039f"
            ],
            [
             0.2222222222222222,
             "#7201a8"
            ],
            [
             0.3333333333333333,
             "#9c179e"
            ],
            [
             0.4444444444444444,
             "#bd3786"
            ],
            [
             0.5555555555555556,
             "#d8576b"
            ],
            [
             0.6666666666666666,
             "#ed7953"
            ],
            [
             0.7777777777777778,
             "#fb9f3a"
            ],
            [
             0.8888888888888888,
             "#fdca26"
            ],
            [
             1,
             "#f0f921"
            ]
           ],
           "sequentialminus": [
            [
             0,
             "#0d0887"
            ],
            [
             0.1111111111111111,
             "#46039f"
            ],
            [
             0.2222222222222222,
             "#7201a8"
            ],
            [
             0.3333333333333333,
             "#9c179e"
            ],
            [
             0.4444444444444444,
             "#bd3786"
            ],
            [
             0.5555555555555556,
             "#d8576b"
            ],
            [
             0.6666666666666666,
             "#ed7953"
            ],
            [
             0.7777777777777778,
             "#fb9f3a"
            ],
            [
             0.8888888888888888,
             "#fdca26"
            ],
            [
             1,
             "#f0f921"
            ]
           ]
          },
          "colorway": [
           "#636efa",
           "#EF553B",
           "#00cc96",
           "#ab63fa",
           "#FFA15A",
           "#19d3f3",
           "#FF6692",
           "#B6E880",
           "#FF97FF",
           "#FECB52"
          ],
          "font": {
           "color": "#2a3f5f"
          },
          "geo": {
           "bgcolor": "white",
           "lakecolor": "white",
           "landcolor": "#E5ECF6",
           "showlakes": true,
           "showland": true,
           "subunitcolor": "white"
          },
          "hoverlabel": {
           "align": "left"
          },
          "hovermode": "closest",
          "mapbox": {
           "style": "light"
          },
          "paper_bgcolor": "white",
          "plot_bgcolor": "#E5ECF6",
          "polar": {
           "angularaxis": {
            "gridcolor": "white",
            "linecolor": "white",
            "ticks": ""
           },
           "bgcolor": "#E5ECF6",
           "radialaxis": {
            "gridcolor": "white",
            "linecolor": "white",
            "ticks": ""
           }
          },
          "scene": {
           "xaxis": {
            "backgroundcolor": "#E5ECF6",
            "gridcolor": "white",
            "gridwidth": 2,
            "linecolor": "white",
            "showbackground": true,
            "ticks": "",
            "zerolinecolor": "white"
           },
           "yaxis": {
            "backgroundcolor": "#E5ECF6",
            "gridcolor": "white",
            "gridwidth": 2,
            "linecolor": "white",
            "showbackground": true,
            "ticks": "",
            "zerolinecolor": "white"
           },
           "zaxis": {
            "backgroundcolor": "#E5ECF6",
            "gridcolor": "white",
            "gridwidth": 2,
            "linecolor": "white",
            "showbackground": true,
            "ticks": "",
            "zerolinecolor": "white"
           }
          },
          "shapedefaults": {
           "line": {
            "color": "#2a3f5f"
           }
          },
          "ternary": {
           "aaxis": {
            "gridcolor": "white",
            "linecolor": "white",
            "ticks": ""
           },
           "baxis": {
            "gridcolor": "white",
            "linecolor": "white",
            "ticks": ""
           },
           "bgcolor": "#E5ECF6",
           "caxis": {
            "gridcolor": "white",
            "linecolor": "white",
            "ticks": ""
           }
          },
          "title": {
           "x": 0.05
          },
          "xaxis": {
           "automargin": true,
           "gridcolor": "white",
           "linecolor": "white",
           "ticks": "",
           "title": {
            "standoff": 15
           },
           "zerolinecolor": "white",
           "zerolinewidth": 2
          },
          "yaxis": {
           "automargin": true,
           "gridcolor": "white",
           "linecolor": "white",
           "ticks": "",
           "title": {
            "standoff": 15
           },
           "zerolinecolor": "white",
           "zerolinewidth": 2
          }
         }
        },
        "title": {
         "text": "Population of European countinent"
        }
       }
      }
     },
     "metadata": {},
     "output_type": "display_data"
    }
   ],
   "source": [
    "# Plotly.Pie\n",
    "import plotly.express as px\n",
    "DD = px.data.gapminder().query('year == 2007').query(\n",
    "    \"continent == 'Europe'\")\n",
    "DD.loc[DD['pop'] < 2.e6, 'country'] = 'Other Countries'\n",
    "fig = px.pie(DD,values = 'pop',names = 'country',\n",
    "             title = 'Population of European countinent')\n",
    "fig.show()"
   ]
  },
  {
   "cell_type": "code",
   "execution_count": 15,
   "metadata": {},
   "outputs": [
    {
     "data": {
      "application/vnd.plotly.v1+json": {
       "config": {
        "plotlyServerURL": "https://plot.ly"
       },
       "data": [
        {
         "coloraxis": "coloraxis",
         "geo": "geo",
         "hovertemplate": "<b>%{hovertext}</b><br><br>year=1952<br>iso_alpha=%{location}<br>lifeExp=%{z}<extra></extra>",
         "hovertext": [
          "Afghanistan",
          "Albania",
          "Algeria",
          "Angola",
          "Argentina",
          "Australia",
          "Austria",
          "Bahrain",
          "Bangladesh",
          "Belgium",
          "Benin",
          "Bolivia",
          "Bosnia and Herzegovina",
          "Botswana",
          "Brazil",
          "Bulgaria",
          "Burkina Faso",
          "Burundi",
          "Cambodia",
          "Cameroon",
          "Canada",
          "Central African Republic",
          "Chad",
          "Chile",
          "China",
          "Colombia",
          "Comoros",
          "Congo, Dem. Rep.",
          "Congo, Rep.",
          "Costa Rica",
          "Cote d'Ivoire",
          "Croatia",
          "Cuba",
          "Czech Republic",
          "Denmark",
          "Djibouti",
          "Dominican Republic",
          "Ecuador",
          "Egypt",
          "El Salvador",
          "Equatorial Guinea",
          "Eritrea",
          "Ethiopia",
          "Finland",
          "France",
          "Gabon",
          "Gambia",
          "Germany",
          "Ghana",
          "Greece",
          "Guatemala",
          "Guinea",
          "Guinea-Bissau",
          "Haiti",
          "Honduras",
          "Hong Kong, China",
          "Hungary",
          "Iceland",
          "India",
          "Indonesia",
          "Iran",
          "Iraq",
          "Ireland",
          "Israel",
          "Italy",
          "Jamaica",
          "Japan",
          "Jordan",
          "Kenya",
          "Korea, Dem. Rep.",
          "Korea, Rep.",
          "Kuwait",
          "Lebanon",
          "Lesotho",
          "Liberia",
          "Libya",
          "Madagascar",
          "Malawi",
          "Malaysia",
          "Mali",
          "Mauritania",
          "Mauritius",
          "Mexico",
          "Mongolia",
          "Montenegro",
          "Morocco",
          "Mozambique",
          "Myanmar",
          "Namibia",
          "Nepal",
          "Netherlands",
          "New Zealand",
          "Nicaragua",
          "Niger",
          "Nigeria",
          "Norway",
          "Oman",
          "Pakistan",
          "Panama",
          "Paraguay",
          "Peru",
          "Philippines",
          "Poland",
          "Portugal",
          "Puerto Rico",
          "Reunion",
          "Romania",
          "Rwanda",
          "Sao Tome and Principe",
          "Saudi Arabia",
          "Senegal",
          "Serbia",
          "Sierra Leone",
          "Singapore",
          "Slovak Republic",
          "Slovenia",
          "Somalia",
          "South Africa",
          "Spain",
          "Sri Lanka",
          "Sudan",
          "Swaziland",
          "Sweden",
          "Switzerland",
          "Syria",
          "Taiwan",
          "Tanzania",
          "Thailand",
          "Togo",
          "Trinidad and Tobago",
          "Tunisia",
          "Turkey",
          "Uganda",
          "United Kingdom",
          "United States",
          "Uruguay",
          "Venezuela",
          "Vietnam",
          "West Bank and Gaza",
          "Yemen, Rep.",
          "Zambia",
          "Zimbabwe"
         ],
         "locations": [
          "AFG",
          "ALB",
          "DZA",
          "AGO",
          "ARG",
          "AUS",
          "AUT",
          "BHR",
          "BGD",
          "BEL",
          "BEN",
          "BOL",
          "BIH",
          "BWA",
          "BRA",
          "BGR",
          "BFA",
          "BDI",
          "KHM",
          "CMR",
          "CAN",
          "CAF",
          "TCD",
          "CHL",
          "CHN",
          "COL",
          "COM",
          "COD",
          "COG",
          "CRI",
          "CIV",
          "HRV",
          "CUB",
          "CZE",
          "DNK",
          "DJI",
          "DOM",
          "ECU",
          "EGY",
          "SLV",
          "GNQ",
          "ERI",
          "ETH",
          "FIN",
          "FRA",
          "GAB",
          "GMB",
          "DEU",
          "GHA",
          "GRC",
          "GTM",
          "GIN",
          "GNB",
          "HTI",
          "HND",
          "HKG",
          "HUN",
          "ISL",
          "IND",
          "IDN",
          "IRN",
          "IRQ",
          "IRL",
          "ISR",
          "ITA",
          "JAM",
          "JPN",
          "JOR",
          "KEN",
          "KOR",
          "KOR",
          "KWT",
          "LBN",
          "LSO",
          "LBR",
          "LBY",
          "MDG",
          "MWI",
          "MYS",
          "MLI",
          "MRT",
          "MUS",
          "MEX",
          "MNG",
          "MNE",
          "MAR",
          "MOZ",
          "MMR",
          "NAM",
          "NPL",
          "NLD",
          "NZL",
          "NIC",
          "NER",
          "NGA",
          "NOR",
          "OMN",
          "PAK",
          "PAN",
          "PRY",
          "PER",
          "PHL",
          "POL",
          "PRT",
          "PRI",
          "REU",
          "ROU",
          "RWA",
          "STP",
          "SAU",
          "SEN",
          "SRB",
          "SLE",
          "SGP",
          "SVK",
          "SVN",
          "SOM",
          "ZAF",
          "ESP",
          "LKA",
          "SDN",
          "SWZ",
          "SWE",
          "CHE",
          "SYR",
          "TWN",
          "TZA",
          "THA",
          "TGO",
          "TTO",
          "TUN",
          "TUR",
          "UGA",
          "GBR",
          "USA",
          "URY",
          "VEN",
          "VNM",
          "PSE",
          "YEM",
          "ZMB",
          "ZWE"
         ],
         "name": "",
         "type": "choropleth",
         "z": [
          28.801,
          55.23,
          43.077,
          30.015,
          62.485,
          69.12,
          66.8,
          50.93899999999999,
          37.484,
          68,
          38.223,
          40.414,
          53.82,
          47.622,
          50.917,
          59.6,
          31.975,
          39.031,
          39.417,
          38.523,
          68.75,
          35.463,
          38.092,
          54.745,
          44,
          50.643,
          40.715,
          39.143,
          42.111,
          57.206,
          40.477,
          61.21,
          59.42100000000001,
          66.87,
          70.78,
          34.812,
          45.928,
          48.357,
          41.893,
          45.262,
          34.482,
          35.92800000000001,
          34.078,
          66.55,
          67.41,
          37.003,
          30,
          67.5,
          43.149,
          65.86,
          42.023,
          33.609,
          32.5,
          37.579,
          41.912,
          60.96,
          64.03,
          72.49,
          37.37300000000001,
          37.468,
          44.869,
          45.32,
          66.91,
          65.39,
          65.94,
          58.53,
          63.03,
          43.158,
          42.27,
          50.056,
          47.453,
          55.565,
          55.928,
          42.13800000000001,
          38.48,
          42.723,
          36.681,
          36.256,
          48.463,
          33.685,
          40.543,
          50.986,
          50.789,
          42.244,
          59.164,
          42.87300000000001,
          31.286,
          36.319,
          41.725,
          36.157,
          72.13,
          69.39,
          42.31399999999999,
          37.444,
          36.324,
          72.67,
          37.578,
          43.43600000000001,
          55.191,
          62.649,
          43.902,
          47.752,
          61.31,
          59.82,
          64.28,
          52.724,
          61.05,
          40,
          46.471,
          39.875,
          37.278,
          57.996,
          30.331,
          60.396,
          64.36,
          65.57,
          32.978,
          45.00899999999999,
          64.94,
          57.593,
          38.635,
          41.407,
          71.86,
          69.62,
          45.883,
          58.5,
          41.215,
          50.848,
          38.596,
          59.1,
          44.6,
          43.585,
          39.978,
          69.18,
          68.44,
          66.071,
          55.088,
          40.412,
          43.16,
          32.548,
          42.038,
          48.451
         ]
        }
       ],
       "frames": [
        {
         "data": [
          {
           "coloraxis": "coloraxis",
           "geo": "geo",
           "hovertemplate": "<b>%{hovertext}</b><br><br>year=1952<br>iso_alpha=%{location}<br>lifeExp=%{z}<extra></extra>",
           "hovertext": [
            "Afghanistan",
            "Albania",
            "Algeria",
            "Angola",
            "Argentina",
            "Australia",
            "Austria",
            "Bahrain",
            "Bangladesh",
            "Belgium",
            "Benin",
            "Bolivia",
            "Bosnia and Herzegovina",
            "Botswana",
            "Brazil",
            "Bulgaria",
            "Burkina Faso",
            "Burundi",
            "Cambodia",
            "Cameroon",
            "Canada",
            "Central African Republic",
            "Chad",
            "Chile",
            "China",
            "Colombia",
            "Comoros",
            "Congo, Dem. Rep.",
            "Congo, Rep.",
            "Costa Rica",
            "Cote d'Ivoire",
            "Croatia",
            "Cuba",
            "Czech Republic",
            "Denmark",
            "Djibouti",
            "Dominican Republic",
            "Ecuador",
            "Egypt",
            "El Salvador",
            "Equatorial Guinea",
            "Eritrea",
            "Ethiopia",
            "Finland",
            "France",
            "Gabon",
            "Gambia",
            "Germany",
            "Ghana",
            "Greece",
            "Guatemala",
            "Guinea",
            "Guinea-Bissau",
            "Haiti",
            "Honduras",
            "Hong Kong, China",
            "Hungary",
            "Iceland",
            "India",
            "Indonesia",
            "Iran",
            "Iraq",
            "Ireland",
            "Israel",
            "Italy",
            "Jamaica",
            "Japan",
            "Jordan",
            "Kenya",
            "Korea, Dem. Rep.",
            "Korea, Rep.",
            "Kuwait",
            "Lebanon",
            "Lesotho",
            "Liberia",
            "Libya",
            "Madagascar",
            "Malawi",
            "Malaysia",
            "Mali",
            "Mauritania",
            "Mauritius",
            "Mexico",
            "Mongolia",
            "Montenegro",
            "Morocco",
            "Mozambique",
            "Myanmar",
            "Namibia",
            "Nepal",
            "Netherlands",
            "New Zealand",
            "Nicaragua",
            "Niger",
            "Nigeria",
            "Norway",
            "Oman",
            "Pakistan",
            "Panama",
            "Paraguay",
            "Peru",
            "Philippines",
            "Poland",
            "Portugal",
            "Puerto Rico",
            "Reunion",
            "Romania",
            "Rwanda",
            "Sao Tome and Principe",
            "Saudi Arabia",
            "Senegal",
            "Serbia",
            "Sierra Leone",
            "Singapore",
            "Slovak Republic",
            "Slovenia",
            "Somalia",
            "South Africa",
            "Spain",
            "Sri Lanka",
            "Sudan",
            "Swaziland",
            "Sweden",
            "Switzerland",
            "Syria",
            "Taiwan",
            "Tanzania",
            "Thailand",
            "Togo",
            "Trinidad and Tobago",
            "Tunisia",
            "Turkey",
            "Uganda",
            "United Kingdom",
            "United States",
            "Uruguay",
            "Venezuela",
            "Vietnam",
            "West Bank and Gaza",
            "Yemen, Rep.",
            "Zambia",
            "Zimbabwe"
           ],
           "locations": [
            "AFG",
            "ALB",
            "DZA",
            "AGO",
            "ARG",
            "AUS",
            "AUT",
            "BHR",
            "BGD",
            "BEL",
            "BEN",
            "BOL",
            "BIH",
            "BWA",
            "BRA",
            "BGR",
            "BFA",
            "BDI",
            "KHM",
            "CMR",
            "CAN",
            "CAF",
            "TCD",
            "CHL",
            "CHN",
            "COL",
            "COM",
            "COD",
            "COG",
            "CRI",
            "CIV",
            "HRV",
            "CUB",
            "CZE",
            "DNK",
            "DJI",
            "DOM",
            "ECU",
            "EGY",
            "SLV",
            "GNQ",
            "ERI",
            "ETH",
            "FIN",
            "FRA",
            "GAB",
            "GMB",
            "DEU",
            "GHA",
            "GRC",
            "GTM",
            "GIN",
            "GNB",
            "HTI",
            "HND",
            "HKG",
            "HUN",
            "ISL",
            "IND",
            "IDN",
            "IRN",
            "IRQ",
            "IRL",
            "ISR",
            "ITA",
            "JAM",
            "JPN",
            "JOR",
            "KEN",
            "KOR",
            "KOR",
            "KWT",
            "LBN",
            "LSO",
            "LBR",
            "LBY",
            "MDG",
            "MWI",
            "MYS",
            "MLI",
            "MRT",
            "MUS",
            "MEX",
            "MNG",
            "MNE",
            "MAR",
            "MOZ",
            "MMR",
            "NAM",
            "NPL",
            "NLD",
            "NZL",
            "NIC",
            "NER",
            "NGA",
            "NOR",
            "OMN",
            "PAK",
            "PAN",
            "PRY",
            "PER",
            "PHL",
            "POL",
            "PRT",
            "PRI",
            "REU",
            "ROU",
            "RWA",
            "STP",
            "SAU",
            "SEN",
            "SRB",
            "SLE",
            "SGP",
            "SVK",
            "SVN",
            "SOM",
            "ZAF",
            "ESP",
            "LKA",
            "SDN",
            "SWZ",
            "SWE",
            "CHE",
            "SYR",
            "TWN",
            "TZA",
            "THA",
            "TGO",
            "TTO",
            "TUN",
            "TUR",
            "UGA",
            "GBR",
            "USA",
            "URY",
            "VEN",
            "VNM",
            "PSE",
            "YEM",
            "ZMB",
            "ZWE"
           ],
           "name": "",
           "type": "choropleth",
           "z": [
            28.801,
            55.23,
            43.077,
            30.015,
            62.485,
            69.12,
            66.8,
            50.93899999999999,
            37.484,
            68,
            38.223,
            40.414,
            53.82,
            47.622,
            50.917,
            59.6,
            31.975,
            39.031,
            39.417,
            38.523,
            68.75,
            35.463,
            38.092,
            54.745,
            44,
            50.643,
            40.715,
            39.143,
            42.111,
            57.206,
            40.477,
            61.21,
            59.42100000000001,
            66.87,
            70.78,
            34.812,
            45.928,
            48.357,
            41.893,
            45.262,
            34.482,
            35.92800000000001,
            34.078,
            66.55,
            67.41,
            37.003,
            30,
            67.5,
            43.149,
            65.86,
            42.023,
            33.609,
            32.5,
            37.579,
            41.912,
            60.96,
            64.03,
            72.49,
            37.37300000000001,
            37.468,
            44.869,
            45.32,
            66.91,
            65.39,
            65.94,
            58.53,
            63.03,
            43.158,
            42.27,
            50.056,
            47.453,
            55.565,
            55.928,
            42.13800000000001,
            38.48,
            42.723,
            36.681,
            36.256,
            48.463,
            33.685,
            40.543,
            50.986,
            50.789,
            42.244,
            59.164,
            42.87300000000001,
            31.286,
            36.319,
            41.725,
            36.157,
            72.13,
            69.39,
            42.31399999999999,
            37.444,
            36.324,
            72.67,
            37.578,
            43.43600000000001,
            55.191,
            62.649,
            43.902,
            47.752,
            61.31,
            59.82,
            64.28,
            52.724,
            61.05,
            40,
            46.471,
            39.875,
            37.278,
            57.996,
            30.331,
            60.396,
            64.36,
            65.57,
            32.978,
            45.00899999999999,
            64.94,
            57.593,
            38.635,
            41.407,
            71.86,
            69.62,
            45.883,
            58.5,
            41.215,
            50.848,
            38.596,
            59.1,
            44.6,
            43.585,
            39.978,
            69.18,
            68.44,
            66.071,
            55.088,
            40.412,
            43.16,
            32.548,
            42.038,
            48.451
           ]
          }
         ],
         "name": "1952"
        },
        {
         "data": [
          {
           "coloraxis": "coloraxis",
           "geo": "geo",
           "hovertemplate": "<b>%{hovertext}</b><br><br>year=1957<br>iso_alpha=%{location}<br>lifeExp=%{z}<extra></extra>",
           "hovertext": [
            "Afghanistan",
            "Albania",
            "Algeria",
            "Angola",
            "Argentina",
            "Australia",
            "Austria",
            "Bahrain",
            "Bangladesh",
            "Belgium",
            "Benin",
            "Bolivia",
            "Bosnia and Herzegovina",
            "Botswana",
            "Brazil",
            "Bulgaria",
            "Burkina Faso",
            "Burundi",
            "Cambodia",
            "Cameroon",
            "Canada",
            "Central African Republic",
            "Chad",
            "Chile",
            "China",
            "Colombia",
            "Comoros",
            "Congo, Dem. Rep.",
            "Congo, Rep.",
            "Costa Rica",
            "Cote d'Ivoire",
            "Croatia",
            "Cuba",
            "Czech Republic",
            "Denmark",
            "Djibouti",
            "Dominican Republic",
            "Ecuador",
            "Egypt",
            "El Salvador",
            "Equatorial Guinea",
            "Eritrea",
            "Ethiopia",
            "Finland",
            "France",
            "Gabon",
            "Gambia",
            "Germany",
            "Ghana",
            "Greece",
            "Guatemala",
            "Guinea",
            "Guinea-Bissau",
            "Haiti",
            "Honduras",
            "Hong Kong, China",
            "Hungary",
            "Iceland",
            "India",
            "Indonesia",
            "Iran",
            "Iraq",
            "Ireland",
            "Israel",
            "Italy",
            "Jamaica",
            "Japan",
            "Jordan",
            "Kenya",
            "Korea, Dem. Rep.",
            "Korea, Rep.",
            "Kuwait",
            "Lebanon",
            "Lesotho",
            "Liberia",
            "Libya",
            "Madagascar",
            "Malawi",
            "Malaysia",
            "Mali",
            "Mauritania",
            "Mauritius",
            "Mexico",
            "Mongolia",
            "Montenegro",
            "Morocco",
            "Mozambique",
            "Myanmar",
            "Namibia",
            "Nepal",
            "Netherlands",
            "New Zealand",
            "Nicaragua",
            "Niger",
            "Nigeria",
            "Norway",
            "Oman",
            "Pakistan",
            "Panama",
            "Paraguay",
            "Peru",
            "Philippines",
            "Poland",
            "Portugal",
            "Puerto Rico",
            "Reunion",
            "Romania",
            "Rwanda",
            "Sao Tome and Principe",
            "Saudi Arabia",
            "Senegal",
            "Serbia",
            "Sierra Leone",
            "Singapore",
            "Slovak Republic",
            "Slovenia",
            "Somalia",
            "South Africa",
            "Spain",
            "Sri Lanka",
            "Sudan",
            "Swaziland",
            "Sweden",
            "Switzerland",
            "Syria",
            "Taiwan",
            "Tanzania",
            "Thailand",
            "Togo",
            "Trinidad and Tobago",
            "Tunisia",
            "Turkey",
            "Uganda",
            "United Kingdom",
            "United States",
            "Uruguay",
            "Venezuela",
            "Vietnam",
            "West Bank and Gaza",
            "Yemen, Rep.",
            "Zambia",
            "Zimbabwe"
           ],
           "locations": [
            "AFG",
            "ALB",
            "DZA",
            "AGO",
            "ARG",
            "AUS",
            "AUT",
            "BHR",
            "BGD",
            "BEL",
            "BEN",
            "BOL",
            "BIH",
            "BWA",
            "BRA",
            "BGR",
            "BFA",
            "BDI",
            "KHM",
            "CMR",
            "CAN",
            "CAF",
            "TCD",
            "CHL",
            "CHN",
            "COL",
            "COM",
            "COD",
            "COG",
            "CRI",
            "CIV",
            "HRV",
            "CUB",
            "CZE",
            "DNK",
            "DJI",
            "DOM",
            "ECU",
            "EGY",
            "SLV",
            "GNQ",
            "ERI",
            "ETH",
            "FIN",
            "FRA",
            "GAB",
            "GMB",
            "DEU",
            "GHA",
            "GRC",
            "GTM",
            "GIN",
            "GNB",
            "HTI",
            "HND",
            "HKG",
            "HUN",
            "ISL",
            "IND",
            "IDN",
            "IRN",
            "IRQ",
            "IRL",
            "ISR",
            "ITA",
            "JAM",
            "JPN",
            "JOR",
            "KEN",
            "KOR",
            "KOR",
            "KWT",
            "LBN",
            "LSO",
            "LBR",
            "LBY",
            "MDG",
            "MWI",
            "MYS",
            "MLI",
            "MRT",
            "MUS",
            "MEX",
            "MNG",
            "MNE",
            "MAR",
            "MOZ",
            "MMR",
            "NAM",
            "NPL",
            "NLD",
            "NZL",
            "NIC",
            "NER",
            "NGA",
            "NOR",
            "OMN",
            "PAK",
            "PAN",
            "PRY",
            "PER",
            "PHL",
            "POL",
            "PRT",
            "PRI",
            "REU",
            "ROU",
            "RWA",
            "STP",
            "SAU",
            "SEN",
            "SRB",
            "SLE",
            "SGP",
            "SVK",
            "SVN",
            "SOM",
            "ZAF",
            "ESP",
            "LKA",
            "SDN",
            "SWZ",
            "SWE",
            "CHE",
            "SYR",
            "TWN",
            "TZA",
            "THA",
            "TGO",
            "TTO",
            "TUN",
            "TUR",
            "UGA",
            "GBR",
            "USA",
            "URY",
            "VEN",
            "VNM",
            "PSE",
            "YEM",
            "ZMB",
            "ZWE"
           ],
           "name": "",
           "type": "choropleth",
           "z": [
            30.332,
            59.28,
            45.685,
            31.999,
            64.399,
            70.33,
            67.48,
            53.832,
            39.348,
            69.24,
            40.358,
            41.89,
            58.45,
            49.618,
            53.285,
            66.61,
            34.906,
            40.533,
            41.36600000000001,
            40.428,
            69.96,
            37.464,
            39.881,
            56.074,
            50.54896,
            55.118,
            42.46,
            40.652,
            45.053,
            60.026,
            42.469,
            64.77,
            62.325,
            69.03,
            71.81,
            37.328,
            49.828,
            51.356,
            44.444,
            48.57,
            35.98300000000001,
            38.047,
            36.667,
            67.49,
            68.93,
            38.999,
            32.065,
            69.1,
            44.779,
            67.86,
            44.142,
            34.558,
            33.489000000000004,
            40.696,
            44.665,
            64.75,
            66.41,
            73.47,
            40.249,
            39.918,
            47.181,
            48.437,
            68.9,
            67.84,
            67.81,
            62.61,
            65.5,
            45.669,
            44.68600000000001,
            54.081,
            52.681,
            58.033,
            59.489,
            45.047,
            39.486,
            45.289,
            38.865,
            37.207,
            52.102,
            35.30699999999999,
            42.338,
            58.089,
            55.19,
            45.24800000000001,
            61.448,
            45.423,
            33.779,
            41.905,
            45.226000000000006,
            37.686,
            72.99,
            70.26,
            45.432,
            38.598,
            37.802,
            73.44,
            40.08,
            45.557,
            59.201,
            63.19600000000001,
            46.26300000000001,
            51.334,
            65.77,
            61.51,
            68.54,
            55.09,
            64.1,
            41.5,
            48.945,
            42.868,
            39.329,
            61.685,
            31.57,
            63.179,
            67.45,
            67.85,
            34.977,
            47.985,
            66.66,
            61.456,
            39.624,
            43.424,
            72.49,
            70.56,
            48.284,
            62.4,
            42.974,
            53.63,
            41.208,
            61.8,
            47.1,
            48.07899999999999,
            42.57100000000001,
            70.42,
            69.49,
            67.044,
            57.907,
            42.887,
            45.67100000000001,
            33.97,
            44.077,
            50.469
           ]
          }
         ],
         "name": "1957"
        },
        {
         "data": [
          {
           "coloraxis": "coloraxis",
           "geo": "geo",
           "hovertemplate": "<b>%{hovertext}</b><br><br>year=1962<br>iso_alpha=%{location}<br>lifeExp=%{z}<extra></extra>",
           "hovertext": [
            "Afghanistan",
            "Albania",
            "Algeria",
            "Angola",
            "Argentina",
            "Australia",
            "Austria",
            "Bahrain",
            "Bangladesh",
            "Belgium",
            "Benin",
            "Bolivia",
            "Bosnia and Herzegovina",
            "Botswana",
            "Brazil",
            "Bulgaria",
            "Burkina Faso",
            "Burundi",
            "Cambodia",
            "Cameroon",
            "Canada",
            "Central African Republic",
            "Chad",
            "Chile",
            "China",
            "Colombia",
            "Comoros",
            "Congo, Dem. Rep.",
            "Congo, Rep.",
            "Costa Rica",
            "Cote d'Ivoire",
            "Croatia",
            "Cuba",
            "Czech Republic",
            "Denmark",
            "Djibouti",
            "Dominican Republic",
            "Ecuador",
            "Egypt",
            "El Salvador",
            "Equatorial Guinea",
            "Eritrea",
            "Ethiopia",
            "Finland",
            "France",
            "Gabon",
            "Gambia",
            "Germany",
            "Ghana",
            "Greece",
            "Guatemala",
            "Guinea",
            "Guinea-Bissau",
            "Haiti",
            "Honduras",
            "Hong Kong, China",
            "Hungary",
            "Iceland",
            "India",
            "Indonesia",
            "Iran",
            "Iraq",
            "Ireland",
            "Israel",
            "Italy",
            "Jamaica",
            "Japan",
            "Jordan",
            "Kenya",
            "Korea, Dem. Rep.",
            "Korea, Rep.",
            "Kuwait",
            "Lebanon",
            "Lesotho",
            "Liberia",
            "Libya",
            "Madagascar",
            "Malawi",
            "Malaysia",
            "Mali",
            "Mauritania",
            "Mauritius",
            "Mexico",
            "Mongolia",
            "Montenegro",
            "Morocco",
            "Mozambique",
            "Myanmar",
            "Namibia",
            "Nepal",
            "Netherlands",
            "New Zealand",
            "Nicaragua",
            "Niger",
            "Nigeria",
            "Norway",
            "Oman",
            "Pakistan",
            "Panama",
            "Paraguay",
            "Peru",
            "Philippines",
            "Poland",
            "Portugal",
            "Puerto Rico",
            "Reunion",
            "Romania",
            "Rwanda",
            "Sao Tome and Principe",
            "Saudi Arabia",
            "Senegal",
            "Serbia",
            "Sierra Leone",
            "Singapore",
            "Slovak Republic",
            "Slovenia",
            "Somalia",
            "South Africa",
            "Spain",
            "Sri Lanka",
            "Sudan",
            "Swaziland",
            "Sweden",
            "Switzerland",
            "Syria",
            "Taiwan",
            "Tanzania",
            "Thailand",
            "Togo",
            "Trinidad and Tobago",
            "Tunisia",
            "Turkey",
            "Uganda",
            "United Kingdom",
            "United States",
            "Uruguay",
            "Venezuela",
            "Vietnam",
            "West Bank and Gaza",
            "Yemen, Rep.",
            "Zambia",
            "Zimbabwe"
           ],
           "locations": [
            "AFG",
            "ALB",
            "DZA",
            "AGO",
            "ARG",
            "AUS",
            "AUT",
            "BHR",
            "BGD",
            "BEL",
            "BEN",
            "BOL",
            "BIH",
            "BWA",
            "BRA",
            "BGR",
            "BFA",
            "BDI",
            "KHM",
            "CMR",
            "CAN",
            "CAF",
            "TCD",
            "CHL",
            "CHN",
            "COL",
            "COM",
            "COD",
            "COG",
            "CRI",
            "CIV",
            "HRV",
            "CUB",
            "CZE",
            "DNK",
            "DJI",
            "DOM",
            "ECU",
            "EGY",
            "SLV",
            "GNQ",
            "ERI",
            "ETH",
            "FIN",
            "FRA",
            "GAB",
            "GMB",
            "DEU",
            "GHA",
            "GRC",
            "GTM",
            "GIN",
            "GNB",
            "HTI",
            "HND",
            "HKG",
            "HUN",
            "ISL",
            "IND",
            "IDN",
            "IRN",
            "IRQ",
            "IRL",
            "ISR",
            "ITA",
            "JAM",
            "JPN",
            "JOR",
            "KEN",
            "KOR",
            "KOR",
            "KWT",
            "LBN",
            "LSO",
            "LBR",
            "LBY",
            "MDG",
            "MWI",
            "MYS",
            "MLI",
            "MRT",
            "MUS",
            "MEX",
            "MNG",
            "MNE",
            "MAR",
            "MOZ",
            "MMR",
            "NAM",
            "NPL",
            "NLD",
            "NZL",
            "NIC",
            "NER",
            "NGA",
            "NOR",
            "OMN",
            "PAK",
            "PAN",
            "PRY",
            "PER",
            "PHL",
            "POL",
            "PRT",
            "PRI",
            "REU",
            "ROU",
            "RWA",
            "STP",
            "SAU",
            "SEN",
            "SRB",
            "SLE",
            "SGP",
            "SVK",
            "SVN",
            "SOM",
            "ZAF",
            "ESP",
            "LKA",
            "SDN",
            "SWZ",
            "SWE",
            "CHE",
            "SYR",
            "TWN",
            "TZA",
            "THA",
            "TGO",
            "TTO",
            "TUN",
            "TUR",
            "UGA",
            "GBR",
            "USA",
            "URY",
            "VEN",
            "VNM",
            "PSE",
            "YEM",
            "ZMB",
            "ZWE"
           ],
           "name": "",
           "type": "choropleth",
           "z": [
            31.997,
            64.82,
            48.303,
            34,
            65.142,
            70.93,
            69.54,
            56.923,
            41.216,
            70.25,
            42.618,
            43.428,
            61.93,
            51.52,
            55.665,
            69.51,
            37.814,
            42.045,
            43.415,
            42.643,
            71.3,
            39.475,
            41.716,
            57.924,
            44.50136,
            57.863,
            44.467,
            42.122,
            48.435,
            62.842,
            44.93,
            67.13,
            65.24600000000001,
            69.9,
            72.35,
            39.69300000000001,
            53.459,
            54.64,
            46.992,
            52.307,
            37.485,
            40.158,
            40.059,
            68.75,
            70.51,
            40.489,
            33.896,
            70.3,
            46.452,
            69.51,
            46.95399999999999,
            35.753,
            34.488,
            43.59,
            48.041,
            67.65,
            67.96,
            73.68,
            43.605,
            42.518,
            49.325,
            51.457,
            70.29,
            69.39,
            69.24,
            65.61,
            68.73,
            48.12600000000001,
            47.949,
            56.65600000000001,
            55.292,
            60.47,
            62.094,
            47.747,
            40.502,
            47.808,
            40.848,
            38.41,
            55.737,
            36.936,
            44.24800000000001,
            60.246,
            58.299,
            48.25100000000001,
            63.728,
            47.924,
            36.161,
            45.108,
            48.386,
            39.393,
            73.23,
            71.24,
            48.632,
            39.487,
            39.36,
            73.47,
            43.165,
            47.67,
            61.817,
            64.361,
            49.096,
            54.757,
            67.64,
            64.39,
            69.62,
            57.666,
            66.8,
            43,
            51.893,
            45.914,
            41.45399999999999,
            64.531,
            32.767,
            65.798,
            70.33,
            69.15,
            36.981,
            49.951,
            69.69,
            62.192,
            40.87,
            44.992,
            73.37,
            71.32,
            50.305,
            65.2,
            44.246,
            56.06100000000001,
            43.922,
            64.9,
            49.57899999999999,
            52.098,
            45.344,
            70.76,
            70.21,
            68.253,
            60.77,
            45.363,
            48.127,
            35.18,
            46.023,
            52.358
           ]
          }
         ],
         "name": "1962"
        },
        {
         "data": [
          {
           "coloraxis": "coloraxis",
           "geo": "geo",
           "hovertemplate": "<b>%{hovertext}</b><br><br>year=1967<br>iso_alpha=%{location}<br>lifeExp=%{z}<extra></extra>",
           "hovertext": [
            "Afghanistan",
            "Albania",
            "Algeria",
            "Angola",
            "Argentina",
            "Australia",
            "Austria",
            "Bahrain",
            "Bangladesh",
            "Belgium",
            "Benin",
            "Bolivia",
            "Bosnia and Herzegovina",
            "Botswana",
            "Brazil",
            "Bulgaria",
            "Burkina Faso",
            "Burundi",
            "Cambodia",
            "Cameroon",
            "Canada",
            "Central African Republic",
            "Chad",
            "Chile",
            "China",
            "Colombia",
            "Comoros",
            "Congo, Dem. Rep.",
            "Congo, Rep.",
            "Costa Rica",
            "Cote d'Ivoire",
            "Croatia",
            "Cuba",
            "Czech Republic",
            "Denmark",
            "Djibouti",
            "Dominican Republic",
            "Ecuador",
            "Egypt",
            "El Salvador",
            "Equatorial Guinea",
            "Eritrea",
            "Ethiopia",
            "Finland",
            "France",
            "Gabon",
            "Gambia",
            "Germany",
            "Ghana",
            "Greece",
            "Guatemala",
            "Guinea",
            "Guinea-Bissau",
            "Haiti",
            "Honduras",
            "Hong Kong, China",
            "Hungary",
            "Iceland",
            "India",
            "Indonesia",
            "Iran",
            "Iraq",
            "Ireland",
            "Israel",
            "Italy",
            "Jamaica",
            "Japan",
            "Jordan",
            "Kenya",
            "Korea, Dem. Rep.",
            "Korea, Rep.",
            "Kuwait",
            "Lebanon",
            "Lesotho",
            "Liberia",
            "Libya",
            "Madagascar",
            "Malawi",
            "Malaysia",
            "Mali",
            "Mauritania",
            "Mauritius",
            "Mexico",
            "Mongolia",
            "Montenegro",
            "Morocco",
            "Mozambique",
            "Myanmar",
            "Namibia",
            "Nepal",
            "Netherlands",
            "New Zealand",
            "Nicaragua",
            "Niger",
            "Nigeria",
            "Norway",
            "Oman",
            "Pakistan",
            "Panama",
            "Paraguay",
            "Peru",
            "Philippines",
            "Poland",
            "Portugal",
            "Puerto Rico",
            "Reunion",
            "Romania",
            "Rwanda",
            "Sao Tome and Principe",
            "Saudi Arabia",
            "Senegal",
            "Serbia",
            "Sierra Leone",
            "Singapore",
            "Slovak Republic",
            "Slovenia",
            "Somalia",
            "South Africa",
            "Spain",
            "Sri Lanka",
            "Sudan",
            "Swaziland",
            "Sweden",
            "Switzerland",
            "Syria",
            "Taiwan",
            "Tanzania",
            "Thailand",
            "Togo",
            "Trinidad and Tobago",
            "Tunisia",
            "Turkey",
            "Uganda",
            "United Kingdom",
            "United States",
            "Uruguay",
            "Venezuela",
            "Vietnam",
            "West Bank and Gaza",
            "Yemen, Rep.",
            "Zambia",
            "Zimbabwe"
           ],
           "locations": [
            "AFG",
            "ALB",
            "DZA",
            "AGO",
            "ARG",
            "AUS",
            "AUT",
            "BHR",
            "BGD",
            "BEL",
            "BEN",
            "BOL",
            "BIH",
            "BWA",
            "BRA",
            "BGR",
            "BFA",
            "BDI",
            "KHM",
            "CMR",
            "CAN",
            "CAF",
            "TCD",
            "CHL",
            "CHN",
            "COL",
            "COM",
            "COD",
            "COG",
            "CRI",
            "CIV",
            "HRV",
            "CUB",
            "CZE",
            "DNK",
            "DJI",
            "DOM",
            "ECU",
            "EGY",
            "SLV",
            "GNQ",
            "ERI",
            "ETH",
            "FIN",
            "FRA",
            "GAB",
            "GMB",
            "DEU",
            "GHA",
            "GRC",
            "GTM",
            "GIN",
            "GNB",
            "HTI",
            "HND",
            "HKG",
            "HUN",
            "ISL",
            "IND",
            "IDN",
            "IRN",
            "IRQ",
            "IRL",
            "ISR",
            "ITA",
            "JAM",
            "JPN",
            "JOR",
            "KEN",
            "KOR",
            "KOR",
            "KWT",
            "LBN",
            "LSO",
            "LBR",
            "LBY",
            "MDG",
            "MWI",
            "MYS",
            "MLI",
            "MRT",
            "MUS",
            "MEX",
            "MNG",
            "MNE",
            "MAR",
            "MOZ",
            "MMR",
            "NAM",
            "NPL",
            "NLD",
            "NZL",
            "NIC",
            "NER",
            "NGA",
            "NOR",
            "OMN",
            "PAK",
            "PAN",
            "PRY",
            "PER",
            "PHL",
            "POL",
            "PRT",
            "PRI",
            "REU",
            "ROU",
            "RWA",
            "STP",
            "SAU",
            "SEN",
            "SRB",
            "SLE",
            "SGP",
            "SVK",
            "SVN",
            "SOM",
            "ZAF",
            "ESP",
            "LKA",
            "SDN",
            "SWZ",
            "SWE",
            "CHE",
            "SYR",
            "TWN",
            "TZA",
            "THA",
            "TGO",
            "TTO",
            "TUN",
            "TUR",
            "UGA",
            "GBR",
            "USA",
            "URY",
            "VEN",
            "VNM",
            "PSE",
            "YEM",
            "ZMB",
            "ZWE"
           ],
           "name": "",
           "type": "choropleth",
           "z": [
            34.02,
            66.22,
            51.407,
            35.985,
            65.634,
            71.1,
            70.14,
            59.923,
            43.453,
            70.94,
            44.885,
            45.032,
            64.79,
            53.298,
            57.632,
            70.42,
            40.697,
            43.548,
            45.415,
            44.799,
            72.13,
            41.478,
            43.601000000000006,
            60.523,
            58.38112,
            59.963,
            46.472,
            44.056,
            52.04,
            65.42399999999999,
            47.35,
            68.5,
            68.29,
            70.38,
            72.96,
            42.074,
            56.75100000000001,
            56.678,
            49.293,
            55.855,
            38.987,
            42.18899999999999,
            42.115,
            69.83,
            71.55,
            44.598,
            35.857,
            70.8,
            48.072,
            71,
            50.01600000000001,
            37.197,
            35.492,
            46.243,
            50.924,
            70,
            69.5,
            73.73,
            47.19300000000001,
            45.964,
            52.469,
            54.459,
            71.08,
            70.75,
            71.06,
            67.51,
            71.43,
            51.629,
            50.654,
            59.942,
            57.716,
            64.624,
            63.87,
            48.492,
            41.536,
            50.227,
            42.881,
            39.487,
            59.371,
            38.487,
            46.289,
            61.557,
            60.11,
            51.253,
            67.178,
            50.335,
            38.113,
            49.379,
            51.159,
            41.472,
            73.82,
            71.52,
            51.88399999999999,
            40.118,
            41.04,
            74.08,
            46.988,
            49.8,
            64.071,
            64.95100000000001,
            51.445,
            56.393,
            69.61,
            66.6,
            71.1,
            60.542,
            66.8,
            44.1,
            54.425,
            49.901,
            43.563,
            66.914,
            34.113,
            67.946,
            70.98,
            69.18,
            38.977,
            51.927,
            71.44,
            64.266,
            42.858,
            46.633,
            74.16,
            72.77,
            53.655,
            67.5,
            45.757,
            58.285,
            46.769,
            65.4,
            52.053,
            54.33600000000001,
            48.051,
            71.36,
            70.76,
            68.468,
            63.479,
            47.838,
            51.631,
            36.984,
            47.768,
            53.995
           ]
          }
         ],
         "name": "1967"
        },
        {
         "data": [
          {
           "coloraxis": "coloraxis",
           "geo": "geo",
           "hovertemplate": "<b>%{hovertext}</b><br><br>year=1972<br>iso_alpha=%{location}<br>lifeExp=%{z}<extra></extra>",
           "hovertext": [
            "Afghanistan",
            "Albania",
            "Algeria",
            "Angola",
            "Argentina",
            "Australia",
            "Austria",
            "Bahrain",
            "Bangladesh",
            "Belgium",
            "Benin",
            "Bolivia",
            "Bosnia and Herzegovina",
            "Botswana",
            "Brazil",
            "Bulgaria",
            "Burkina Faso",
            "Burundi",
            "Cambodia",
            "Cameroon",
            "Canada",
            "Central African Republic",
            "Chad",
            "Chile",
            "China",
            "Colombia",
            "Comoros",
            "Congo, Dem. Rep.",
            "Congo, Rep.",
            "Costa Rica",
            "Cote d'Ivoire",
            "Croatia",
            "Cuba",
            "Czech Republic",
            "Denmark",
            "Djibouti",
            "Dominican Republic",
            "Ecuador",
            "Egypt",
            "El Salvador",
            "Equatorial Guinea",
            "Eritrea",
            "Ethiopia",
            "Finland",
            "France",
            "Gabon",
            "Gambia",
            "Germany",
            "Ghana",
            "Greece",
            "Guatemala",
            "Guinea",
            "Guinea-Bissau",
            "Haiti",
            "Honduras",
            "Hong Kong, China",
            "Hungary",
            "Iceland",
            "India",
            "Indonesia",
            "Iran",
            "Iraq",
            "Ireland",
            "Israel",
            "Italy",
            "Jamaica",
            "Japan",
            "Jordan",
            "Kenya",
            "Korea, Dem. Rep.",
            "Korea, Rep.",
            "Kuwait",
            "Lebanon",
            "Lesotho",
            "Liberia",
            "Libya",
            "Madagascar",
            "Malawi",
            "Malaysia",
            "Mali",
            "Mauritania",
            "Mauritius",
            "Mexico",
            "Mongolia",
            "Montenegro",
            "Morocco",
            "Mozambique",
            "Myanmar",
            "Namibia",
            "Nepal",
            "Netherlands",
            "New Zealand",
            "Nicaragua",
            "Niger",
            "Nigeria",
            "Norway",
            "Oman",
            "Pakistan",
            "Panama",
            "Paraguay",
            "Peru",
            "Philippines",
            "Poland",
            "Portugal",
            "Puerto Rico",
            "Reunion",
            "Romania",
            "Rwanda",
            "Sao Tome and Principe",
            "Saudi Arabia",
            "Senegal",
            "Serbia",
            "Sierra Leone",
            "Singapore",
            "Slovak Republic",
            "Slovenia",
            "Somalia",
            "South Africa",
            "Spain",
            "Sri Lanka",
            "Sudan",
            "Swaziland",
            "Sweden",
            "Switzerland",
            "Syria",
            "Taiwan",
            "Tanzania",
            "Thailand",
            "Togo",
            "Trinidad and Tobago",
            "Tunisia",
            "Turkey",
            "Uganda",
            "United Kingdom",
            "United States",
            "Uruguay",
            "Venezuela",
            "Vietnam",
            "West Bank and Gaza",
            "Yemen, Rep.",
            "Zambia",
            "Zimbabwe"
           ],
           "locations": [
            "AFG",
            "ALB",
            "DZA",
            "AGO",
            "ARG",
            "AUS",
            "AUT",
            "BHR",
            "BGD",
            "BEL",
            "BEN",
            "BOL",
            "BIH",
            "BWA",
            "BRA",
            "BGR",
            "BFA",
            "BDI",
            "KHM",
            "CMR",
            "CAN",
            "CAF",
            "TCD",
            "CHL",
            "CHN",
            "COL",
            "COM",
            "COD",
            "COG",
            "CRI",
            "CIV",
            "HRV",
            "CUB",
            "CZE",
            "DNK",
            "DJI",
            "DOM",
            "ECU",
            "EGY",
            "SLV",
            "GNQ",
            "ERI",
            "ETH",
            "FIN",
            "FRA",
            "GAB",
            "GMB",
            "DEU",
            "GHA",
            "GRC",
            "GTM",
            "GIN",
            "GNB",
            "HTI",
            "HND",
            "HKG",
            "HUN",
            "ISL",
            "IND",
            "IDN",
            "IRN",
            "IRQ",
            "IRL",
            "ISR",
            "ITA",
            "JAM",
            "JPN",
            "JOR",
            "KEN",
            "KOR",
            "KOR",
            "KWT",
            "LBN",
            "LSO",
            "LBR",
            "LBY",
            "MDG",
            "MWI",
            "MYS",
            "MLI",
            "MRT",
            "MUS",
            "MEX",
            "MNG",
            "MNE",
            "MAR",
            "MOZ",
            "MMR",
            "NAM",
            "NPL",
            "NLD",
            "NZL",
            "NIC",
            "NER",
            "NGA",
            "NOR",
            "OMN",
            "PAK",
            "PAN",
            "PRY",
            "PER",
            "PHL",
            "POL",
            "PRT",
            "PRI",
            "REU",
            "ROU",
            "RWA",
            "STP",
            "SAU",
            "SEN",
            "SRB",
            "SLE",
            "SGP",
            "SVK",
            "SVN",
            "SOM",
            "ZAF",
            "ESP",
            "LKA",
            "SDN",
            "SWZ",
            "SWE",
            "CHE",
            "SYR",
            "TWN",
            "TZA",
            "THA",
            "TGO",
            "TTO",
            "TUN",
            "TUR",
            "UGA",
            "GBR",
            "USA",
            "URY",
            "VEN",
            "VNM",
            "PSE",
            "YEM",
            "ZMB",
            "ZWE"
           ],
           "name": "",
           "type": "choropleth",
           "z": [
            36.088,
            67.69,
            54.518,
            37.928,
            67.065,
            71.93,
            70.63,
            63.3,
            45.252,
            71.44,
            47.014,
            46.714,
            67.45,
            56.024,
            59.504,
            70.9,
            43.591,
            44.057,
            40.317,
            47.049,
            72.88,
            43.457,
            45.569,
            63.441,
            63.11888,
            61.62300000000001,
            48.944,
            45.989,
            54.907,
            67.84899999999999,
            49.801,
            69.61,
            70.723,
            70.29,
            73.47,
            44.36600000000001,
            59.631,
            58.79600000000001,
            51.137,
            58.207,
            40.516,
            44.142,
            43.515,
            70.87,
            72.38,
            48.69,
            38.308,
            71,
            49.875,
            72.34,
            53.738,
            38.842,
            36.486,
            48.042,
            53.88399999999999,
            72,
            69.76,
            74.46,
            50.651,
            49.203,
            55.234,
            56.95,
            71.28,
            71.63,
            72.19,
            69,
            73.42,
            56.528,
            53.559,
            63.983,
            62.612,
            67.712,
            65.421,
            49.767,
            42.614,
            52.773,
            44.851000000000006,
            41.76600000000001,
            63.01,
            39.977,
            48.437,
            62.944,
            62.361,
            53.754,
            70.63600000000002,
            52.862,
            40.328,
            53.07,
            53.867,
            43.971,
            73.75,
            71.89,
            55.151,
            40.546,
            42.82100000000001,
            74.34,
            52.143,
            51.929,
            66.21600000000001,
            65.815,
            55.448,
            58.065,
            70.85,
            69.26,
            72.16,
            64.274,
            69.21,
            44.6,
            56.48,
            53.886,
            45.815,
            68.7,
            35.4,
            69.521,
            70.35,
            69.82,
            40.973,
            53.69600000000001,
            73.06,
            65.042,
            45.083,
            49.552,
            74.72,
            73.78,
            57.29600000000001,
            69.39,
            47.62,
            60.405,
            49.75899999999999,
            65.9,
            55.602,
            57.005,
            51.01600000000001,
            72.01,
            71.34,
            68.673,
            65.712,
            50.254,
            56.532,
            39.848,
            50.107,
            55.635
           ]
          }
         ],
         "name": "1972"
        },
        {
         "data": [
          {
           "coloraxis": "coloraxis",
           "geo": "geo",
           "hovertemplate": "<b>%{hovertext}</b><br><br>year=1977<br>iso_alpha=%{location}<br>lifeExp=%{z}<extra></extra>",
           "hovertext": [
            "Afghanistan",
            "Albania",
            "Algeria",
            "Angola",
            "Argentina",
            "Australia",
            "Austria",
            "Bahrain",
            "Bangladesh",
            "Belgium",
            "Benin",
            "Bolivia",
            "Bosnia and Herzegovina",
            "Botswana",
            "Brazil",
            "Bulgaria",
            "Burkina Faso",
            "Burundi",
            "Cambodia",
            "Cameroon",
            "Canada",
            "Central African Republic",
            "Chad",
            "Chile",
            "China",
            "Colombia",
            "Comoros",
            "Congo, Dem. Rep.",
            "Congo, Rep.",
            "Costa Rica",
            "Cote d'Ivoire",
            "Croatia",
            "Cuba",
            "Czech Republic",
            "Denmark",
            "Djibouti",
            "Dominican Republic",
            "Ecuador",
            "Egypt",
            "El Salvador",
            "Equatorial Guinea",
            "Eritrea",
            "Ethiopia",
            "Finland",
            "France",
            "Gabon",
            "Gambia",
            "Germany",
            "Ghana",
            "Greece",
            "Guatemala",
            "Guinea",
            "Guinea-Bissau",
            "Haiti",
            "Honduras",
            "Hong Kong, China",
            "Hungary",
            "Iceland",
            "India",
            "Indonesia",
            "Iran",
            "Iraq",
            "Ireland",
            "Israel",
            "Italy",
            "Jamaica",
            "Japan",
            "Jordan",
            "Kenya",
            "Korea, Dem. Rep.",
            "Korea, Rep.",
            "Kuwait",
            "Lebanon",
            "Lesotho",
            "Liberia",
            "Libya",
            "Madagascar",
            "Malawi",
            "Malaysia",
            "Mali",
            "Mauritania",
            "Mauritius",
            "Mexico",
            "Mongolia",
            "Montenegro",
            "Morocco",
            "Mozambique",
            "Myanmar",
            "Namibia",
            "Nepal",
            "Netherlands",
            "New Zealand",
            "Nicaragua",
            "Niger",
            "Nigeria",
            "Norway",
            "Oman",
            "Pakistan",
            "Panama",
            "Paraguay",
            "Peru",
            "Philippines",
            "Poland",
            "Portugal",
            "Puerto Rico",
            "Reunion",
            "Romania",
            "Rwanda",
            "Sao Tome and Principe",
            "Saudi Arabia",
            "Senegal",
            "Serbia",
            "Sierra Leone",
            "Singapore",
            "Slovak Republic",
            "Slovenia",
            "Somalia",
            "South Africa",
            "Spain",
            "Sri Lanka",
            "Sudan",
            "Swaziland",
            "Sweden",
            "Switzerland",
            "Syria",
            "Taiwan",
            "Tanzania",
            "Thailand",
            "Togo",
            "Trinidad and Tobago",
            "Tunisia",
            "Turkey",
            "Uganda",
            "United Kingdom",
            "United States",
            "Uruguay",
            "Venezuela",
            "Vietnam",
            "West Bank and Gaza",
            "Yemen, Rep.",
            "Zambia",
            "Zimbabwe"
           ],
           "locations": [
            "AFG",
            "ALB",
            "DZA",
            "AGO",
            "ARG",
            "AUS",
            "AUT",
            "BHR",
            "BGD",
            "BEL",
            "BEN",
            "BOL",
            "BIH",
            "BWA",
            "BRA",
            "BGR",
            "BFA",
            "BDI",
            "KHM",
            "CMR",
            "CAN",
            "CAF",
            "TCD",
            "CHL",
            "CHN",
            "COL",
            "COM",
            "COD",
            "COG",
            "CRI",
            "CIV",
            "HRV",
            "CUB",
            "CZE",
            "DNK",
            "DJI",
            "DOM",
            "ECU",
            "EGY",
            "SLV",
            "GNQ",
            "ERI",
            "ETH",
            "FIN",
            "FRA",
            "GAB",
            "GMB",
            "DEU",
            "GHA",
            "GRC",
            "GTM",
            "GIN",
            "GNB",
            "HTI",
            "HND",
            "HKG",
            "HUN",
            "ISL",
            "IND",
            "IDN",
            "IRN",
            "IRQ",
            "IRL",
            "ISR",
            "ITA",
            "JAM",
            "JPN",
            "JOR",
            "KEN",
            "KOR",
            "KOR",
            "KWT",
            "LBN",
            "LSO",
            "LBR",
            "LBY",
            "MDG",
            "MWI",
            "MYS",
            "MLI",
            "MRT",
            "MUS",
            "MEX",
            "MNG",
            "MNE",
            "MAR",
            "MOZ",
            "MMR",
            "NAM",
            "NPL",
            "NLD",
            "NZL",
            "NIC",
            "NER",
            "NGA",
            "NOR",
            "OMN",
            "PAK",
            "PAN",
            "PRY",
            "PER",
            "PHL",
            "POL",
            "PRT",
            "PRI",
            "REU",
            "ROU",
            "RWA",
            "STP",
            "SAU",
            "SEN",
            "SRB",
            "SLE",
            "SGP",
            "SVK",
            "SVN",
            "SOM",
            "ZAF",
            "ESP",
            "LKA",
            "SDN",
            "SWZ",
            "SWE",
            "CHE",
            "SYR",
            "TWN",
            "TZA",
            "THA",
            "TGO",
            "TTO",
            "TUN",
            "TUR",
            "UGA",
            "GBR",
            "USA",
            "URY",
            "VEN",
            "VNM",
            "PSE",
            "YEM",
            "ZMB",
            "ZWE"
           ],
           "name": "",
           "type": "choropleth",
           "z": [
            38.438,
            68.93,
            58.014,
            39.483,
            68.48100000000001,
            73.49,
            72.17,
            65.593,
            46.923,
            72.8,
            49.19,
            50.023,
            69.86,
            59.319,
            61.489,
            70.81,
            46.137,
            45.91,
            31.22,
            49.355,
            74.21,
            46.775,
            47.383,
            67.05199999999999,
            63.96736,
            63.837,
            50.93899999999999,
            47.804,
            55.625,
            70.75,
            52.374,
            70.64,
            72.649,
            70.71,
            74.69,
            46.519,
            61.788,
            61.31,
            53.319,
            56.69600000000001,
            42.024,
            44.535,
            44.51,
            72.52,
            73.83,
            52.79,
            41.842,
            72.5,
            51.756,
            73.68,
            56.029,
            40.762,
            37.465,
            49.923,
            57.402,
            73.6,
            69.95,
            76.11,
            54.208,
            52.702,
            57.702,
            60.413,
            72.03,
            73.06,
            73.48,
            70.11,
            75.38,
            61.13399999999999,
            56.155,
            67.15899999999999,
            64.766,
            69.343,
            66.09899999999999,
            52.208,
            43.764,
            57.442,
            46.881,
            43.767,
            65.256,
            41.714,
            50.852,
            64.93,
            65.032,
            55.49100000000001,
            73.066,
            55.73,
            42.495,
            56.059,
            56.437,
            46.74800000000001,
            75.24,
            72.22,
            57.47,
            41.291,
            44.514,
            75.37,
            57.367,
            54.043,
            68.681,
            66.35300000000001,
            58.447,
            60.06,
            70.67,
            70.41,
            73.44,
            67.064,
            69.46,
            45,
            58.55,
            58.69,
            48.879,
            70.3,
            36.788,
            70.795,
            70.45,
            70.97,
            41.974,
            55.527,
            74.39,
            65.949,
            47.8,
            52.537,
            75.44,
            75.39,
            61.195,
            70.59,
            49.919,
            62.494,
            52.887,
            68.3,
            59.837,
            59.507,
            50.35,
            72.76,
            73.38,
            69.48100000000001,
            67.456,
            55.764,
            60.765,
            44.175,
            51.386,
            57.674
           ]
          }
         ],
         "name": "1977"
        },
        {
         "data": [
          {
           "coloraxis": "coloraxis",
           "geo": "geo",
           "hovertemplate": "<b>%{hovertext}</b><br><br>year=1982<br>iso_alpha=%{location}<br>lifeExp=%{z}<extra></extra>",
           "hovertext": [
            "Afghanistan",
            "Albania",
            "Algeria",
            "Angola",
            "Argentina",
            "Australia",
            "Austria",
            "Bahrain",
            "Bangladesh",
            "Belgium",
            "Benin",
            "Bolivia",
            "Bosnia and Herzegovina",
            "Botswana",
            "Brazil",
            "Bulgaria",
            "Burkina Faso",
            "Burundi",
            "Cambodia",
            "Cameroon",
            "Canada",
            "Central African Republic",
            "Chad",
            "Chile",
            "China",
            "Colombia",
            "Comoros",
            "Congo, Dem. Rep.",
            "Congo, Rep.",
            "Costa Rica",
            "Cote d'Ivoire",
            "Croatia",
            "Cuba",
            "Czech Republic",
            "Denmark",
            "Djibouti",
            "Dominican Republic",
            "Ecuador",
            "Egypt",
            "El Salvador",
            "Equatorial Guinea",
            "Eritrea",
            "Ethiopia",
            "Finland",
            "France",
            "Gabon",
            "Gambia",
            "Germany",
            "Ghana",
            "Greece",
            "Guatemala",
            "Guinea",
            "Guinea-Bissau",
            "Haiti",
            "Honduras",
            "Hong Kong, China",
            "Hungary",
            "Iceland",
            "India",
            "Indonesia",
            "Iran",
            "Iraq",
            "Ireland",
            "Israel",
            "Italy",
            "Jamaica",
            "Japan",
            "Jordan",
            "Kenya",
            "Korea, Dem. Rep.",
            "Korea, Rep.",
            "Kuwait",
            "Lebanon",
            "Lesotho",
            "Liberia",
            "Libya",
            "Madagascar",
            "Malawi",
            "Malaysia",
            "Mali",
            "Mauritania",
            "Mauritius",
            "Mexico",
            "Mongolia",
            "Montenegro",
            "Morocco",
            "Mozambique",
            "Myanmar",
            "Namibia",
            "Nepal",
            "Netherlands",
            "New Zealand",
            "Nicaragua",
            "Niger",
            "Nigeria",
            "Norway",
            "Oman",
            "Pakistan",
            "Panama",
            "Paraguay",
            "Peru",
            "Philippines",
            "Poland",
            "Portugal",
            "Puerto Rico",
            "Reunion",
            "Romania",
            "Rwanda",
            "Sao Tome and Principe",
            "Saudi Arabia",
            "Senegal",
            "Serbia",
            "Sierra Leone",
            "Singapore",
            "Slovak Republic",
            "Slovenia",
            "Somalia",
            "South Africa",
            "Spain",
            "Sri Lanka",
            "Sudan",
            "Swaziland",
            "Sweden",
            "Switzerland",
            "Syria",
            "Taiwan",
            "Tanzania",
            "Thailand",
            "Togo",
            "Trinidad and Tobago",
            "Tunisia",
            "Turkey",
            "Uganda",
            "United Kingdom",
            "United States",
            "Uruguay",
            "Venezuela",
            "Vietnam",
            "West Bank and Gaza",
            "Yemen, Rep.",
            "Zambia",
            "Zimbabwe"
           ],
           "locations": [
            "AFG",
            "ALB",
            "DZA",
            "AGO",
            "ARG",
            "AUS",
            "AUT",
            "BHR",
            "BGD",
            "BEL",
            "BEN",
            "BOL",
            "BIH",
            "BWA",
            "BRA",
            "BGR",
            "BFA",
            "BDI",
            "KHM",
            "CMR",
            "CAN",
            "CAF",
            "TCD",
            "CHL",
            "CHN",
            "COL",
            "COM",
            "COD",
            "COG",
            "CRI",
            "CIV",
            "HRV",
            "CUB",
            "CZE",
            "DNK",
            "DJI",
            "DOM",
            "ECU",
            "EGY",
            "SLV",
            "GNQ",
            "ERI",
            "ETH",
            "FIN",
            "FRA",
            "GAB",
            "GMB",
            "DEU",
            "GHA",
            "GRC",
            "GTM",
            "GIN",
            "GNB",
            "HTI",
            "HND",
            "HKG",
            "HUN",
            "ISL",
            "IND",
            "IDN",
            "IRN",
            "IRQ",
            "IRL",
            "ISR",
            "ITA",
            "JAM",
            "JPN",
            "JOR",
            "KEN",
            "KOR",
            "KOR",
            "KWT",
            "LBN",
            "LSO",
            "LBR",
            "LBY",
            "MDG",
            "MWI",
            "MYS",
            "MLI",
            "MRT",
            "MUS",
            "MEX",
            "MNG",
            "MNE",
            "MAR",
            "MOZ",
            "MMR",
            "NAM",
            "NPL",
            "NLD",
            "NZL",
            "NIC",
            "NER",
            "NGA",
            "NOR",
            "OMN",
            "PAK",
            "PAN",
            "PRY",
            "PER",
            "PHL",
            "POL",
            "PRT",
            "PRI",
            "REU",
            "ROU",
            "RWA",
            "STP",
            "SAU",
            "SEN",
            "SRB",
            "SLE",
            "SGP",
            "SVK",
            "SVN",
            "SOM",
            "ZAF",
            "ESP",
            "LKA",
            "SDN",
            "SWZ",
            "SWE",
            "CHE",
            "SYR",
            "TWN",
            "TZA",
            "THA",
            "TGO",
            "TTO",
            "TUN",
            "TUR",
            "UGA",
            "GBR",
            "USA",
            "URY",
            "VEN",
            "VNM",
            "PSE",
            "YEM",
            "ZMB",
            "ZWE"
           ],
           "name": "",
           "type": "choropleth",
           "z": [
            39.854,
            70.42,
            61.368,
            39.942,
            69.942,
            74.74,
            73.18,
            69.05199999999999,
            50.00899999999999,
            73.93,
            50.904,
            53.859,
            70.69,
            61.484,
            63.33600000000001,
            71.08,
            48.122,
            47.471,
            50.957,
            52.96100000000001,
            75.76,
            48.295,
            49.517,
            70.565,
            65.525,
            66.653,
            52.933,
            47.784,
            56.695,
            73.45,
            53.983,
            70.46,
            73.717,
            70.96,
            74.63,
            48.812,
            63.727,
            64.342,
            56.006,
            56.604,
            43.662,
            43.89,
            44.916,
            74.55,
            74.89,
            56.56399999999999,
            45.58,
            73.8,
            53.744,
            75.24,
            58.137,
            42.89100000000001,
            39.327,
            51.46100000000001,
            60.909,
            75.45,
            69.39,
            76.99,
            56.596,
            56.159,
            59.62,
            62.038,
            73.1,
            74.45,
            74.98,
            71.21,
            77.11,
            63.739,
            58.76600000000001,
            69.1,
            67.123,
            71.309,
            66.983,
            55.078,
            44.852,
            62.155,
            48.969,
            45.642,
            68,
            43.916,
            53.599,
            66.711,
            67.405,
            57.489,
            74.101,
            59.65,
            42.795,
            58.056,
            58.968,
            49.594,
            76.05,
            73.84,
            59.298,
            42.598,
            45.826,
            75.97,
            62.728,
            56.158,
            70.472,
            66.874,
            61.40600000000001,
            62.082,
            71.32,
            72.77,
            73.75,
            69.885,
            69.66,
            46.218,
            60.351000000000006,
            63.012,
            52.379,
            70.16199999999999,
            38.445,
            71.76,
            70.8,
            71.063,
            42.955,
            58.161,
            76.3,
            68.757,
            50.338,
            55.56100000000001,
            76.42,
            76.21,
            64.59,
            72.16,
            50.608,
            64.597,
            55.471,
            68.832,
            64.048,
            61.036,
            49.849,
            74.04,
            74.65,
            70.805,
            68.557,
            58.816,
            64.406,
            49.113,
            51.82100000000001,
            60.363
           ]
          }
         ],
         "name": "1982"
        },
        {
         "data": [
          {
           "coloraxis": "coloraxis",
           "geo": "geo",
           "hovertemplate": "<b>%{hovertext}</b><br><br>year=1987<br>iso_alpha=%{location}<br>lifeExp=%{z}<extra></extra>",
           "hovertext": [
            "Afghanistan",
            "Albania",
            "Algeria",
            "Angola",
            "Argentina",
            "Australia",
            "Austria",
            "Bahrain",
            "Bangladesh",
            "Belgium",
            "Benin",
            "Bolivia",
            "Bosnia and Herzegovina",
            "Botswana",
            "Brazil",
            "Bulgaria",
            "Burkina Faso",
            "Burundi",
            "Cambodia",
            "Cameroon",
            "Canada",
            "Central African Republic",
            "Chad",
            "Chile",
            "China",
            "Colombia",
            "Comoros",
            "Congo, Dem. Rep.",
            "Congo, Rep.",
            "Costa Rica",
            "Cote d'Ivoire",
            "Croatia",
            "Cuba",
            "Czech Republic",
            "Denmark",
            "Djibouti",
            "Dominican Republic",
            "Ecuador",
            "Egypt",
            "El Salvador",
            "Equatorial Guinea",
            "Eritrea",
            "Ethiopia",
            "Finland",
            "France",
            "Gabon",
            "Gambia",
            "Germany",
            "Ghana",
            "Greece",
            "Guatemala",
            "Guinea",
            "Guinea-Bissau",
            "Haiti",
            "Honduras",
            "Hong Kong, China",
            "Hungary",
            "Iceland",
            "India",
            "Indonesia",
            "Iran",
            "Iraq",
            "Ireland",
            "Israel",
            "Italy",
            "Jamaica",
            "Japan",
            "Jordan",
            "Kenya",
            "Korea, Dem. Rep.",
            "Korea, Rep.",
            "Kuwait",
            "Lebanon",
            "Lesotho",
            "Liberia",
            "Libya",
            "Madagascar",
            "Malawi",
            "Malaysia",
            "Mali",
            "Mauritania",
            "Mauritius",
            "Mexico",
            "Mongolia",
            "Montenegro",
            "Morocco",
            "Mozambique",
            "Myanmar",
            "Namibia",
            "Nepal",
            "Netherlands",
            "New Zealand",
            "Nicaragua",
            "Niger",
            "Nigeria",
            "Norway",
            "Oman",
            "Pakistan",
            "Panama",
            "Paraguay",
            "Peru",
            "Philippines",
            "Poland",
            "Portugal",
            "Puerto Rico",
            "Reunion",
            "Romania",
            "Rwanda",
            "Sao Tome and Principe",
            "Saudi Arabia",
            "Senegal",
            "Serbia",
            "Sierra Leone",
            "Singapore",
            "Slovak Republic",
            "Slovenia",
            "Somalia",
            "South Africa",
            "Spain",
            "Sri Lanka",
            "Sudan",
            "Swaziland",
            "Sweden",
            "Switzerland",
            "Syria",
            "Taiwan",
            "Tanzania",
            "Thailand",
            "Togo",
            "Trinidad and Tobago",
            "Tunisia",
            "Turkey",
            "Uganda",
            "United Kingdom",
            "United States",
            "Uruguay",
            "Venezuela",
            "Vietnam",
            "West Bank and Gaza",
            "Yemen, Rep.",
            "Zambia",
            "Zimbabwe"
           ],
           "locations": [
            "AFG",
            "ALB",
            "DZA",
            "AGO",
            "ARG",
            "AUS",
            "AUT",
            "BHR",
            "BGD",
            "BEL",
            "BEN",
            "BOL",
            "BIH",
            "BWA",
            "BRA",
            "BGR",
            "BFA",
            "BDI",
            "KHM",
            "CMR",
            "CAN",
            "CAF",
            "TCD",
            "CHL",
            "CHN",
            "COL",
            "COM",
            "COD",
            "COG",
            "CRI",
            "CIV",
            "HRV",
            "CUB",
            "CZE",
            "DNK",
            "DJI",
            "DOM",
            "ECU",
            "EGY",
            "SLV",
            "GNQ",
            "ERI",
            "ETH",
            "FIN",
            "FRA",
            "GAB",
            "GMB",
            "DEU",
            "GHA",
            "GRC",
            "GTM",
            "GIN",
            "GNB",
            "HTI",
            "HND",
            "HKG",
            "HUN",
            "ISL",
            "IND",
            "IDN",
            "IRN",
            "IRQ",
            "IRL",
            "ISR",
            "ITA",
            "JAM",
            "JPN",
            "JOR",
            "KEN",
            "KOR",
            "KOR",
            "KWT",
            "LBN",
            "LSO",
            "LBR",
            "LBY",
            "MDG",
            "MWI",
            "MYS",
            "MLI",
            "MRT",
            "MUS",
            "MEX",
            "MNG",
            "MNE",
            "MAR",
            "MOZ",
            "MMR",
            "NAM",
            "NPL",
            "NLD",
            "NZL",
            "NIC",
            "NER",
            "NGA",
            "NOR",
            "OMN",
            "PAK",
            "PAN",
            "PRY",
            "PER",
            "PHL",
            "POL",
            "PRT",
            "PRI",
            "REU",
            "ROU",
            "RWA",
            "STP",
            "SAU",
            "SEN",
            "SRB",
            "SLE",
            "SGP",
            "SVK",
            "SVN",
            "SOM",
            "ZAF",
            "ESP",
            "LKA",
            "SDN",
            "SWZ",
            "SWE",
            "CHE",
            "SYR",
            "TWN",
            "TZA",
            "THA",
            "TGO",
            "TTO",
            "TUN",
            "TUR",
            "UGA",
            "GBR",
            "USA",
            "URY",
            "VEN",
            "VNM",
            "PSE",
            "YEM",
            "ZMB",
            "ZWE"
           ],
           "name": "",
           "type": "choropleth",
           "z": [
            40.822,
            72,
            65.79899999999999,
            39.906,
            70.774,
            76.32,
            74.94,
            70.75,
            52.819,
            75.35,
            52.337,
            57.25100000000001,
            71.14,
            63.622,
            65.205,
            71.34,
            49.557,
            48.21100000000001,
            53.914,
            54.985,
            76.86,
            50.485,
            51.051,
            72.492,
            67.274,
            67.768,
            54.926,
            47.412,
            57.47,
            74.752,
            54.655,
            71.52,
            74.17399999999998,
            71.58,
            74.8,
            50.04,
            66.046,
            67.23100000000001,
            59.797,
            63.154,
            45.664,
            46.453,
            46.684,
            74.83,
            76.34,
            60.19,
            49.265,
            74.847,
            55.729,
            76.67,
            60.782,
            45.552,
            41.245,
            53.636,
            64.492,
            76.2,
            69.58,
            77.23,
            58.553,
            60.137,
            63.04,
            65.044,
            74.36,
            75.6,
            76.42,
            71.77,
            78.67,
            65.869,
            59.339,
            70.64699999999998,
            69.81,
            74.17399999999998,
            67.926,
            57.18,
            46.027,
            66.234,
            49.35,
            47.457,
            69.5,
            46.364,
            56.145,
            68.74,
            69.498,
            60.222,
            74.865,
            62.677,
            42.861,
            58.339,
            60.835,
            52.537,
            76.83,
            74.32,
            62.008,
            44.555,
            46.886,
            75.89,
            67.734,
            58.245,
            71.523,
            67.378,
            64.134,
            64.15100000000001,
            70.98,
            74.06,
            74.63,
            71.913,
            69.53,
            44.02,
            61.728,
            66.295,
            55.769,
            71.218,
            40.006,
            73.56,
            71.08,
            72.25,
            44.50100000000001,
            60.834,
            76.9,
            69.01100000000001,
            51.744,
            57.678,
            77.19,
            77.41,
            66.97399999999999,
            73.4,
            51.535,
            66.084,
            56.941,
            69.582,
            66.89399999999999,
            63.108,
            51.50899999999999,
            75.007,
            75.02,
            71.918,
            70.19,
            62.82,
            67.046,
            52.922,
            50.82100000000001,
            62.351000000000006
           ]
          }
         ],
         "name": "1987"
        },
        {
         "data": [
          {
           "coloraxis": "coloraxis",
           "geo": "geo",
           "hovertemplate": "<b>%{hovertext}</b><br><br>year=1992<br>iso_alpha=%{location}<br>lifeExp=%{z}<extra></extra>",
           "hovertext": [
            "Afghanistan",
            "Albania",
            "Algeria",
            "Angola",
            "Argentina",
            "Australia",
            "Austria",
            "Bahrain",
            "Bangladesh",
            "Belgium",
            "Benin",
            "Bolivia",
            "Bosnia and Herzegovina",
            "Botswana",
            "Brazil",
            "Bulgaria",
            "Burkina Faso",
            "Burundi",
            "Cambodia",
            "Cameroon",
            "Canada",
            "Central African Republic",
            "Chad",
            "Chile",
            "China",
            "Colombia",
            "Comoros",
            "Congo, Dem. Rep.",
            "Congo, Rep.",
            "Costa Rica",
            "Cote d'Ivoire",
            "Croatia",
            "Cuba",
            "Czech Republic",
            "Denmark",
            "Djibouti",
            "Dominican Republic",
            "Ecuador",
            "Egypt",
            "El Salvador",
            "Equatorial Guinea",
            "Eritrea",
            "Ethiopia",
            "Finland",
            "France",
            "Gabon",
            "Gambia",
            "Germany",
            "Ghana",
            "Greece",
            "Guatemala",
            "Guinea",
            "Guinea-Bissau",
            "Haiti",
            "Honduras",
            "Hong Kong, China",
            "Hungary",
            "Iceland",
            "India",
            "Indonesia",
            "Iran",
            "Iraq",
            "Ireland",
            "Israel",
            "Italy",
            "Jamaica",
            "Japan",
            "Jordan",
            "Kenya",
            "Korea, Dem. Rep.",
            "Korea, Rep.",
            "Kuwait",
            "Lebanon",
            "Lesotho",
            "Liberia",
            "Libya",
            "Madagascar",
            "Malawi",
            "Malaysia",
            "Mali",
            "Mauritania",
            "Mauritius",
            "Mexico",
            "Mongolia",
            "Montenegro",
            "Morocco",
            "Mozambique",
            "Myanmar",
            "Namibia",
            "Nepal",
            "Netherlands",
            "New Zealand",
            "Nicaragua",
            "Niger",
            "Nigeria",
            "Norway",
            "Oman",
            "Pakistan",
            "Panama",
            "Paraguay",
            "Peru",
            "Philippines",
            "Poland",
            "Portugal",
            "Puerto Rico",
            "Reunion",
            "Romania",
            "Rwanda",
            "Sao Tome and Principe",
            "Saudi Arabia",
            "Senegal",
            "Serbia",
            "Sierra Leone",
            "Singapore",
            "Slovak Republic",
            "Slovenia",
            "Somalia",
            "South Africa",
            "Spain",
            "Sri Lanka",
            "Sudan",
            "Swaziland",
            "Sweden",
            "Switzerland",
            "Syria",
            "Taiwan",
            "Tanzania",
            "Thailand",
            "Togo",
            "Trinidad and Tobago",
            "Tunisia",
            "Turkey",
            "Uganda",
            "United Kingdom",
            "United States",
            "Uruguay",
            "Venezuela",
            "Vietnam",
            "West Bank and Gaza",
            "Yemen, Rep.",
            "Zambia",
            "Zimbabwe"
           ],
           "locations": [
            "AFG",
            "ALB",
            "DZA",
            "AGO",
            "ARG",
            "AUS",
            "AUT",
            "BHR",
            "BGD",
            "BEL",
            "BEN",
            "BOL",
            "BIH",
            "BWA",
            "BRA",
            "BGR",
            "BFA",
            "BDI",
            "KHM",
            "CMR",
            "CAN",
            "CAF",
            "TCD",
            "CHL",
            "CHN",
            "COL",
            "COM",
            "COD",
            "COG",
            "CRI",
            "CIV",
            "HRV",
            "CUB",
            "CZE",
            "DNK",
            "DJI",
            "DOM",
            "ECU",
            "EGY",
            "SLV",
            "GNQ",
            "ERI",
            "ETH",
            "FIN",
            "FRA",
            "GAB",
            "GMB",
            "DEU",
            "GHA",
            "GRC",
            "GTM",
            "GIN",
            "GNB",
            "HTI",
            "HND",
            "HKG",
            "HUN",
            "ISL",
            "IND",
            "IDN",
            "IRN",
            "IRQ",
            "IRL",
            "ISR",
            "ITA",
            "JAM",
            "JPN",
            "JOR",
            "KEN",
            "KOR",
            "KOR",
            "KWT",
            "LBN",
            "LSO",
            "LBR",
            "LBY",
            "MDG",
            "MWI",
            "MYS",
            "MLI",
            "MRT",
            "MUS",
            "MEX",
            "MNG",
            "MNE",
            "MAR",
            "MOZ",
            "MMR",
            "NAM",
            "NPL",
            "NLD",
            "NZL",
            "NIC",
            "NER",
            "NGA",
            "NOR",
            "OMN",
            "PAK",
            "PAN",
            "PRY",
            "PER",
            "PHL",
            "POL",
            "PRT",
            "PRI",
            "REU",
            "ROU",
            "RWA",
            "STP",
            "SAU",
            "SEN",
            "SRB",
            "SLE",
            "SGP",
            "SVK",
            "SVN",
            "SOM",
            "ZAF",
            "ESP",
            "LKA",
            "SDN",
            "SWZ",
            "SWE",
            "CHE",
            "SYR",
            "TWN",
            "TZA",
            "THA",
            "TGO",
            "TTO",
            "TUN",
            "TUR",
            "UGA",
            "GBR",
            "USA",
            "URY",
            "VEN",
            "VNM",
            "PSE",
            "YEM",
            "ZMB",
            "ZWE"
           ],
           "name": "",
           "type": "choropleth",
           "z": [
            41.674,
            71.581,
            67.744,
            40.647,
            71.868,
            77.56,
            76.04,
            72.601,
            56.018,
            76.46,
            53.919,
            59.957,
            72.178,
            62.745,
            67.057,
            71.19,
            50.26,
            44.736,
            55.803,
            54.31399999999999,
            77.95,
            49.396,
            51.724,
            74.126,
            68.69,
            68.421,
            57.93899999999999,
            45.548,
            56.433,
            75.71300000000002,
            52.044,
            72.527,
            74.414,
            72.4,
            75.33,
            51.604,
            68.457,
            69.613,
            63.674,
            66.798,
            47.545,
            49.99100000000001,
            48.091,
            75.7,
            77.46,
            61.36600000000001,
            52.644,
            76.07,
            57.50100000000001,
            77.03,
            63.37300000000001,
            48.576,
            43.26600000000001,
            55.089,
            66.399,
            77.601,
            69.17,
            78.77,
            60.223,
            62.681,
            65.742,
            59.46100000000001,
            75.467,
            76.93,
            77.44,
            71.766,
            79.36,
            68.015,
            59.285,
            69.97800000000001,
            72.244,
            75.19,
            69.292,
            59.685,
            40.802,
            68.755,
            52.214,
            49.42,
            70.693,
            48.38800000000001,
            58.333,
            69.745,
            71.455,
            61.271,
            75.435,
            65.393,
            44.284,
            59.32,
            61.999,
            55.727,
            77.42,
            76.33,
            65.843,
            47.39100000000001,
            47.472,
            77.32,
            71.197,
            60.838,
            72.462,
            68.225,
            66.458,
            66.458,
            70.99,
            74.86,
            73.911,
            73.615,
            69.36,
            23.599,
            62.742,
            68.768,
            58.19600000000001,
            71.65899999999998,
            38.333,
            75.788,
            71.38,
            73.64,
            39.658,
            61.88800000000001,
            77.57,
            70.37899999999998,
            53.556,
            58.474,
            78.16,
            78.03,
            69.249,
            74.26,
            50.44,
            67.298,
            58.06100000000001,
            69.862,
            70.001,
            66.146,
            48.825,
            76.42,
            76.09,
            72.752,
            71.15,
            67.66199999999999,
            69.718,
            55.599,
            46.1,
            60.377
           ]
          }
         ],
         "name": "1992"
        },
        {
         "data": [
          {
           "coloraxis": "coloraxis",
           "geo": "geo",
           "hovertemplate": "<b>%{hovertext}</b><br><br>year=1997<br>iso_alpha=%{location}<br>lifeExp=%{z}<extra></extra>",
           "hovertext": [
            "Afghanistan",
            "Albania",
            "Algeria",
            "Angola",
            "Argentina",
            "Australia",
            "Austria",
            "Bahrain",
            "Bangladesh",
            "Belgium",
            "Benin",
            "Bolivia",
            "Bosnia and Herzegovina",
            "Botswana",
            "Brazil",
            "Bulgaria",
            "Burkina Faso",
            "Burundi",
            "Cambodia",
            "Cameroon",
            "Canada",
            "Central African Republic",
            "Chad",
            "Chile",
            "China",
            "Colombia",
            "Comoros",
            "Congo, Dem. Rep.",
            "Congo, Rep.",
            "Costa Rica",
            "Cote d'Ivoire",
            "Croatia",
            "Cuba",
            "Czech Republic",
            "Denmark",
            "Djibouti",
            "Dominican Republic",
            "Ecuador",
            "Egypt",
            "El Salvador",
            "Equatorial Guinea",
            "Eritrea",
            "Ethiopia",
            "Finland",
            "France",
            "Gabon",
            "Gambia",
            "Germany",
            "Ghana",
            "Greece",
            "Guatemala",
            "Guinea",
            "Guinea-Bissau",
            "Haiti",
            "Honduras",
            "Hong Kong, China",
            "Hungary",
            "Iceland",
            "India",
            "Indonesia",
            "Iran",
            "Iraq",
            "Ireland",
            "Israel",
            "Italy",
            "Jamaica",
            "Japan",
            "Jordan",
            "Kenya",
            "Korea, Dem. Rep.",
            "Korea, Rep.",
            "Kuwait",
            "Lebanon",
            "Lesotho",
            "Liberia",
            "Libya",
            "Madagascar",
            "Malawi",
            "Malaysia",
            "Mali",
            "Mauritania",
            "Mauritius",
            "Mexico",
            "Mongolia",
            "Montenegro",
            "Morocco",
            "Mozambique",
            "Myanmar",
            "Namibia",
            "Nepal",
            "Netherlands",
            "New Zealand",
            "Nicaragua",
            "Niger",
            "Nigeria",
            "Norway",
            "Oman",
            "Pakistan",
            "Panama",
            "Paraguay",
            "Peru",
            "Philippines",
            "Poland",
            "Portugal",
            "Puerto Rico",
            "Reunion",
            "Romania",
            "Rwanda",
            "Sao Tome and Principe",
            "Saudi Arabia",
            "Senegal",
            "Serbia",
            "Sierra Leone",
            "Singapore",
            "Slovak Republic",
            "Slovenia",
            "Somalia",
            "South Africa",
            "Spain",
            "Sri Lanka",
            "Sudan",
            "Swaziland",
            "Sweden",
            "Switzerland",
            "Syria",
            "Taiwan",
            "Tanzania",
            "Thailand",
            "Togo",
            "Trinidad and Tobago",
            "Tunisia",
            "Turkey",
            "Uganda",
            "United Kingdom",
            "United States",
            "Uruguay",
            "Venezuela",
            "Vietnam",
            "West Bank and Gaza",
            "Yemen, Rep.",
            "Zambia",
            "Zimbabwe"
           ],
           "locations": [
            "AFG",
            "ALB",
            "DZA",
            "AGO",
            "ARG",
            "AUS",
            "AUT",
            "BHR",
            "BGD",
            "BEL",
            "BEN",
            "BOL",
            "BIH",
            "BWA",
            "BRA",
            "BGR",
            "BFA",
            "BDI",
            "KHM",
            "CMR",
            "CAN",
            "CAF",
            "TCD",
            "CHL",
            "CHN",
            "COL",
            "COM",
            "COD",
            "COG",
            "CRI",
            "CIV",
            "HRV",
            "CUB",
            "CZE",
            "DNK",
            "DJI",
            "DOM",
            "ECU",
            "EGY",
            "SLV",
            "GNQ",
            "ERI",
            "ETH",
            "FIN",
            "FRA",
            "GAB",
            "GMB",
            "DEU",
            "GHA",
            "GRC",
            "GTM",
            "GIN",
            "GNB",
            "HTI",
            "HND",
            "HKG",
            "HUN",
            "ISL",
            "IND",
            "IDN",
            "IRN",
            "IRQ",
            "IRL",
            "ISR",
            "ITA",
            "JAM",
            "JPN",
            "JOR",
            "KEN",
            "KOR",
            "KOR",
            "KWT",
            "LBN",
            "LSO",
            "LBR",
            "LBY",
            "MDG",
            "MWI",
            "MYS",
            "MLI",
            "MRT",
            "MUS",
            "MEX",
            "MNG",
            "MNE",
            "MAR",
            "MOZ",
            "MMR",
            "NAM",
            "NPL",
            "NLD",
            "NZL",
            "NIC",
            "NER",
            "NGA",
            "NOR",
            "OMN",
            "PAK",
            "PAN",
            "PRY",
            "PER",
            "PHL",
            "POL",
            "PRT",
            "PRI",
            "REU",
            "ROU",
            "RWA",
            "STP",
            "SAU",
            "SEN",
            "SRB",
            "SLE",
            "SGP",
            "SVK",
            "SVN",
            "SOM",
            "ZAF",
            "ESP",
            "LKA",
            "SDN",
            "SWZ",
            "SWE",
            "CHE",
            "SYR",
            "TWN",
            "TZA",
            "THA",
            "TGO",
            "TTO",
            "TUN",
            "TUR",
            "UGA",
            "GBR",
            "USA",
            "URY",
            "VEN",
            "VNM",
            "PSE",
            "YEM",
            "ZMB",
            "ZWE"
           ],
           "name": "",
           "type": "choropleth",
           "z": [
            41.76300000000001,
            72.95,
            69.152,
            40.963,
            73.275,
            78.83,
            77.51,
            73.925,
            59.412,
            77.53,
            54.777,
            62.05,
            73.244,
            52.556,
            69.388,
            70.32,
            50.324,
            45.326,
            56.534,
            52.199,
            78.61,
            46.066,
            51.573,
            75.816,
            70.426,
            70.313,
            60.66,
            42.587,
            52.962,
            77.26,
            47.99100000000001,
            73.68,
            76.15100000000002,
            74.01,
            76.11,
            53.157,
            69.957,
            72.312,
            67.217,
            69.535,
            48.245,
            53.378,
            49.402,
            77.13,
            78.64,
            60.46100000000001,
            55.861,
            77.34,
            58.556,
            77.869,
            66.322,
            51.455,
            44.87300000000001,
            56.67100000000001,
            67.65899999999999,
            80,
            71.04,
            78.95,
            61.765,
            66.041,
            68.042,
            58.81100000000001,
            76.122,
            78.26899999999998,
            78.82,
            72.262,
            80.69,
            69.77199999999999,
            54.407,
            67.727,
            74.64699999999998,
            76.156,
            70.265,
            55.558,
            42.221,
            71.555,
            54.978,
            47.495,
            71.938,
            49.903,
            60.43,
            70.736,
            73.67,
            63.625,
            75.445,
            67.66,
            46.344,
            60.328,
            58.909,
            59.426,
            78.03,
            77.55,
            68.426,
            51.313,
            47.464,
            78.32,
            72.499,
            61.81800000000001,
            73.738,
            69.4,
            68.38600000000001,
            68.564,
            72.75,
            75.97,
            74.917,
            74.77199999999998,
            69.72,
            36.087,
            63.306,
            70.533,
            60.187,
            72.232,
            39.897,
            77.158,
            72.71,
            75.13,
            43.795,
            60.236,
            78.77,
            70.457,
            55.37300000000001,
            54.289,
            79.39,
            79.37,
            71.527,
            75.25,
            48.466,
            67.521,
            58.39,
            69.465,
            71.973,
            68.835,
            44.578,
            77.218,
            76.81,
            74.223,
            72.146,
            70.672,
            71.096,
            58.02,
            40.238,
            46.809
           ]
          }
         ],
         "name": "1997"
        },
        {
         "data": [
          {
           "coloraxis": "coloraxis",
           "geo": "geo",
           "hovertemplate": "<b>%{hovertext}</b><br><br>year=2002<br>iso_alpha=%{location}<br>lifeExp=%{z}<extra></extra>",
           "hovertext": [
            "Afghanistan",
            "Albania",
            "Algeria",
            "Angola",
            "Argentina",
            "Australia",
            "Austria",
            "Bahrain",
            "Bangladesh",
            "Belgium",
            "Benin",
            "Bolivia",
            "Bosnia and Herzegovina",
            "Botswana",
            "Brazil",
            "Bulgaria",
            "Burkina Faso",
            "Burundi",
            "Cambodia",
            "Cameroon",
            "Canada",
            "Central African Republic",
            "Chad",
            "Chile",
            "China",
            "Colombia",
            "Comoros",
            "Congo, Dem. Rep.",
            "Congo, Rep.",
            "Costa Rica",
            "Cote d'Ivoire",
            "Croatia",
            "Cuba",
            "Czech Republic",
            "Denmark",
            "Djibouti",
            "Dominican Republic",
            "Ecuador",
            "Egypt",
            "El Salvador",
            "Equatorial Guinea",
            "Eritrea",
            "Ethiopia",
            "Finland",
            "France",
            "Gabon",
            "Gambia",
            "Germany",
            "Ghana",
            "Greece",
            "Guatemala",
            "Guinea",
            "Guinea-Bissau",
            "Haiti",
            "Honduras",
            "Hong Kong, China",
            "Hungary",
            "Iceland",
            "India",
            "Indonesia",
            "Iran",
            "Iraq",
            "Ireland",
            "Israel",
            "Italy",
            "Jamaica",
            "Japan",
            "Jordan",
            "Kenya",
            "Korea, Dem. Rep.",
            "Korea, Rep.",
            "Kuwait",
            "Lebanon",
            "Lesotho",
            "Liberia",
            "Libya",
            "Madagascar",
            "Malawi",
            "Malaysia",
            "Mali",
            "Mauritania",
            "Mauritius",
            "Mexico",
            "Mongolia",
            "Montenegro",
            "Morocco",
            "Mozambique",
            "Myanmar",
            "Namibia",
            "Nepal",
            "Netherlands",
            "New Zealand",
            "Nicaragua",
            "Niger",
            "Nigeria",
            "Norway",
            "Oman",
            "Pakistan",
            "Panama",
            "Paraguay",
            "Peru",
            "Philippines",
            "Poland",
            "Portugal",
            "Puerto Rico",
            "Reunion",
            "Romania",
            "Rwanda",
            "Sao Tome and Principe",
            "Saudi Arabia",
            "Senegal",
            "Serbia",
            "Sierra Leone",
            "Singapore",
            "Slovak Republic",
            "Slovenia",
            "Somalia",
            "South Africa",
            "Spain",
            "Sri Lanka",
            "Sudan",
            "Swaziland",
            "Sweden",
            "Switzerland",
            "Syria",
            "Taiwan",
            "Tanzania",
            "Thailand",
            "Togo",
            "Trinidad and Tobago",
            "Tunisia",
            "Turkey",
            "Uganda",
            "United Kingdom",
            "United States",
            "Uruguay",
            "Venezuela",
            "Vietnam",
            "West Bank and Gaza",
            "Yemen, Rep.",
            "Zambia",
            "Zimbabwe"
           ],
           "locations": [
            "AFG",
            "ALB",
            "DZA",
            "AGO",
            "ARG",
            "AUS",
            "AUT",
            "BHR",
            "BGD",
            "BEL",
            "BEN",
            "BOL",
            "BIH",
            "BWA",
            "BRA",
            "BGR",
            "BFA",
            "BDI",
            "KHM",
            "CMR",
            "CAN",
            "CAF",
            "TCD",
            "CHL",
            "CHN",
            "COL",
            "COM",
            "COD",
            "COG",
            "CRI",
            "CIV",
            "HRV",
            "CUB",
            "CZE",
            "DNK",
            "DJI",
            "DOM",
            "ECU",
            "EGY",
            "SLV",
            "GNQ",
            "ERI",
            "ETH",
            "FIN",
            "FRA",
            "GAB",
            "GMB",
            "DEU",
            "GHA",
            "GRC",
            "GTM",
            "GIN",
            "GNB",
            "HTI",
            "HND",
            "HKG",
            "HUN",
            "ISL",
            "IND",
            "IDN",
            "IRN",
            "IRQ",
            "IRL",
            "ISR",
            "ITA",
            "JAM",
            "JPN",
            "JOR",
            "KEN",
            "KOR",
            "KOR",
            "KWT",
            "LBN",
            "LSO",
            "LBR",
            "LBY",
            "MDG",
            "MWI",
            "MYS",
            "MLI",
            "MRT",
            "MUS",
            "MEX",
            "MNG",
            "MNE",
            "MAR",
            "MOZ",
            "MMR",
            "NAM",
            "NPL",
            "NLD",
            "NZL",
            "NIC",
            "NER",
            "NGA",
            "NOR",
            "OMN",
            "PAK",
            "PAN",
            "PRY",
            "PER",
            "PHL",
            "POL",
            "PRT",
            "PRI",
            "REU",
            "ROU",
            "RWA",
            "STP",
            "SAU",
            "SEN",
            "SRB",
            "SLE",
            "SGP",
            "SVK",
            "SVN",
            "SOM",
            "ZAF",
            "ESP",
            "LKA",
            "SDN",
            "SWZ",
            "SWE",
            "CHE",
            "SYR",
            "TWN",
            "TZA",
            "THA",
            "TGO",
            "TTO",
            "TUN",
            "TUR",
            "UGA",
            "GBR",
            "USA",
            "URY",
            "VEN",
            "VNM",
            "PSE",
            "YEM",
            "ZMB",
            "ZWE"
           ],
           "name": "",
           "type": "choropleth",
           "z": [
            42.129,
            75.65100000000002,
            70.994,
            41.003,
            74.34,
            80.37,
            78.98,
            74.795,
            62.01300000000001,
            78.32,
            54.40600000000001,
            63.883,
            74.09,
            46.63399999999999,
            71.006,
            72.14,
            50.65,
            47.36,
            56.752,
            49.856,
            79.77,
            43.308,
            50.525,
            77.86,
            72.028,
            71.682,
            62.974,
            44.966,
            52.97,
            78.123,
            46.832,
            74.876,
            77.158,
            75.51,
            77.18,
            53.37300000000001,
            70.847,
            74.173,
            69.806,
            70.734,
            49.348,
            55.24,
            50.725,
            78.37,
            79.59,
            56.761,
            58.041,
            78.67,
            58.453,
            78.256,
            68.97800000000001,
            53.676,
            45.504,
            58.137,
            68.565,
            81.495,
            72.59,
            80.5,
            62.879,
            68.58800000000001,
            69.45100000000001,
            57.04600000000001,
            77.783,
            79.696,
            80.24,
            72.047,
            82,
            71.263,
            50.992,
            66.66199999999999,
            77.045,
            76.904,
            71.028,
            44.593,
            43.753,
            72.737,
            57.286,
            45.00899999999999,
            73.044,
            51.81800000000001,
            62.247,
            71.954,
            74.902,
            65.033,
            73.98100000000002,
            69.615,
            44.026,
            59.908,
            51.479,
            61.34,
            78.53,
            79.11,
            70.836,
            54.496,
            46.608,
            79.05,
            74.193,
            63.61,
            74.712,
            70.755,
            69.906,
            70.303,
            74.67,
            77.29,
            77.778,
            75.744,
            71.322,
            43.413,
            64.337,
            71.626,
            61.6,
            73.21300000000002,
            41.012,
            78.77,
            73.8,
            76.66,
            45.93600000000001,
            53.365,
            79.78,
            70.815,
            56.369,
            43.869,
            80.04,
            80.62,
            73.053,
            76.99,
            49.651,
            68.564,
            57.56100000000001,
            68.976,
            73.042,
            70.845,
            47.813,
            78.471,
            77.31,
            75.307,
            72.766,
            73.017,
            72.37,
            60.308,
            39.19300000000001,
            39.989
           ]
          }
         ],
         "name": "2002"
        },
        {
         "data": [
          {
           "coloraxis": "coloraxis",
           "geo": "geo",
           "hovertemplate": "<b>%{hovertext}</b><br><br>year=2007<br>iso_alpha=%{location}<br>lifeExp=%{z}<extra></extra>",
           "hovertext": [
            "Afghanistan",
            "Albania",
            "Algeria",
            "Angola",
            "Argentina",
            "Australia",
            "Austria",
            "Bahrain",
            "Bangladesh",
            "Belgium",
            "Benin",
            "Bolivia",
            "Bosnia and Herzegovina",
            "Botswana",
            "Brazil",
            "Bulgaria",
            "Burkina Faso",
            "Burundi",
            "Cambodia",
            "Cameroon",
            "Canada",
            "Central African Republic",
            "Chad",
            "Chile",
            "China",
            "Colombia",
            "Comoros",
            "Congo, Dem. Rep.",
            "Congo, Rep.",
            "Costa Rica",
            "Cote d'Ivoire",
            "Croatia",
            "Cuba",
            "Czech Republic",
            "Denmark",
            "Djibouti",
            "Dominican Republic",
            "Ecuador",
            "Egypt",
            "El Salvador",
            "Equatorial Guinea",
            "Eritrea",
            "Ethiopia",
            "Finland",
            "France",
            "Gabon",
            "Gambia",
            "Germany",
            "Ghana",
            "Greece",
            "Guatemala",
            "Guinea",
            "Guinea-Bissau",
            "Haiti",
            "Honduras",
            "Hong Kong, China",
            "Hungary",
            "Iceland",
            "India",
            "Indonesia",
            "Iran",
            "Iraq",
            "Ireland",
            "Israel",
            "Italy",
            "Jamaica",
            "Japan",
            "Jordan",
            "Kenya",
            "Korea, Dem. Rep.",
            "Korea, Rep.",
            "Kuwait",
            "Lebanon",
            "Lesotho",
            "Liberia",
            "Libya",
            "Madagascar",
            "Malawi",
            "Malaysia",
            "Mali",
            "Mauritania",
            "Mauritius",
            "Mexico",
            "Mongolia",
            "Montenegro",
            "Morocco",
            "Mozambique",
            "Myanmar",
            "Namibia",
            "Nepal",
            "Netherlands",
            "New Zealand",
            "Nicaragua",
            "Niger",
            "Nigeria",
            "Norway",
            "Oman",
            "Pakistan",
            "Panama",
            "Paraguay",
            "Peru",
            "Philippines",
            "Poland",
            "Portugal",
            "Puerto Rico",
            "Reunion",
            "Romania",
            "Rwanda",
            "Sao Tome and Principe",
            "Saudi Arabia",
            "Senegal",
            "Serbia",
            "Sierra Leone",
            "Singapore",
            "Slovak Republic",
            "Slovenia",
            "Somalia",
            "South Africa",
            "Spain",
            "Sri Lanka",
            "Sudan",
            "Swaziland",
            "Sweden",
            "Switzerland",
            "Syria",
            "Taiwan",
            "Tanzania",
            "Thailand",
            "Togo",
            "Trinidad and Tobago",
            "Tunisia",
            "Turkey",
            "Uganda",
            "United Kingdom",
            "United States",
            "Uruguay",
            "Venezuela",
            "Vietnam",
            "West Bank and Gaza",
            "Yemen, Rep.",
            "Zambia",
            "Zimbabwe"
           ],
           "locations": [
            "AFG",
            "ALB",
            "DZA",
            "AGO",
            "ARG",
            "AUS",
            "AUT",
            "BHR",
            "BGD",
            "BEL",
            "BEN",
            "BOL",
            "BIH",
            "BWA",
            "BRA",
            "BGR",
            "BFA",
            "BDI",
            "KHM",
            "CMR",
            "CAN",
            "CAF",
            "TCD",
            "CHL",
            "CHN",
            "COL",
            "COM",
            "COD",
            "COG",
            "CRI",
            "CIV",
            "HRV",
            "CUB",
            "CZE",
            "DNK",
            "DJI",
            "DOM",
            "ECU",
            "EGY",
            "SLV",
            "GNQ",
            "ERI",
            "ETH",
            "FIN",
            "FRA",
            "GAB",
            "GMB",
            "DEU",
            "GHA",
            "GRC",
            "GTM",
            "GIN",
            "GNB",
            "HTI",
            "HND",
            "HKG",
            "HUN",
            "ISL",
            "IND",
            "IDN",
            "IRN",
            "IRQ",
            "IRL",
            "ISR",
            "ITA",
            "JAM",
            "JPN",
            "JOR",
            "KEN",
            "KOR",
            "KOR",
            "KWT",
            "LBN",
            "LSO",
            "LBR",
            "LBY",
            "MDG",
            "MWI",
            "MYS",
            "MLI",
            "MRT",
            "MUS",
            "MEX",
            "MNG",
            "MNE",
            "MAR",
            "MOZ",
            "MMR",
            "NAM",
            "NPL",
            "NLD",
            "NZL",
            "NIC",
            "NER",
            "NGA",
            "NOR",
            "OMN",
            "PAK",
            "PAN",
            "PRY",
            "PER",
            "PHL",
            "POL",
            "PRT",
            "PRI",
            "REU",
            "ROU",
            "RWA",
            "STP",
            "SAU",
            "SEN",
            "SRB",
            "SLE",
            "SGP",
            "SVK",
            "SVN",
            "SOM",
            "ZAF",
            "ESP",
            "LKA",
            "SDN",
            "SWZ",
            "SWE",
            "CHE",
            "SYR",
            "TWN",
            "TZA",
            "THA",
            "TGO",
            "TTO",
            "TUN",
            "TUR",
            "UGA",
            "GBR",
            "USA",
            "URY",
            "VEN",
            "VNM",
            "PSE",
            "YEM",
            "ZMB",
            "ZWE"
           ],
           "name": "",
           "type": "choropleth",
           "z": [
            43.828,
            76.423,
            72.301,
            42.731,
            75.32,
            81.235,
            79.829,
            75.635,
            64.062,
            79.441,
            56.728,
            65.554,
            74.852,
            50.728,
            72.39,
            73.005,
            52.295,
            49.58,
            59.723,
            50.43,
            80.653,
            44.74100000000001,
            50.651,
            78.553,
            72.961,
            72.889,
            65.152,
            46.462,
            55.322,
            78.782,
            48.328,
            75.748,
            78.273,
            76.486,
            78.332,
            54.791,
            72.235,
            74.994,
            71.33800000000002,
            71.878,
            51.57899999999999,
            58.04,
            52.947,
            79.313,
            80.657,
            56.735,
            59.448,
            79.406,
            60.022,
            79.483,
            70.259,
            56.007,
            46.38800000000001,
            60.916,
            70.19800000000001,
            82.208,
            73.33800000000002,
            81.757,
            64.69800000000001,
            70.65,
            70.964,
            59.545,
            78.885,
            80.745,
            80.546,
            72.567,
            82.603,
            72.535,
            54.11,
            67.297,
            78.623,
            77.58800000000002,
            71.993,
            42.592,
            45.678,
            73.952,
            59.44300000000001,
            48.303,
            74.241,
            54.467,
            64.164,
            72.801,
            76.195,
            66.803,
            74.543,
            71.164,
            42.082,
            62.069,
            52.90600000000001,
            63.785,
            79.762,
            80.204,
            72.899,
            56.867,
            46.859,
            80.196,
            75.64,
            65.483,
            75.53699999999998,
            71.752,
            71.421,
            71.688,
            75.563,
            78.098,
            78.74600000000002,
            76.442,
            72.476,
            46.242,
            65.528,
            72.777,
            63.062,
            74.002,
            42.56800000000001,
            79.972,
            74.663,
            77.926,
            48.159,
            49.339,
            80.941,
            72.396,
            58.556,
            39.613,
            80.884,
            81.70100000000002,
            74.143,
            78.4,
            52.517,
            70.616,
            58.42,
            69.819,
            73.923,
            71.777,
            51.542,
            79.425,
            78.242,
            76.384,
            73.747,
            74.249,
            73.422,
            62.698,
            42.38399999999999,
            43.487
           ]
          }
         ],
         "name": "2007"
        }
       ],
       "layout": {
        "coloraxis": {
         "cmax": 80,
         "cmin": 20,
         "colorbar": {
          "title": {
           "text": "lifeExp"
          }
         },
         "colorscale": [
          [
           0,
           "#0d0887"
          ],
          [
           0.1111111111111111,
           "#46039f"
          ],
          [
           0.2222222222222222,
           "#7201a8"
          ],
          [
           0.3333333333333333,
           "#9c179e"
          ],
          [
           0.4444444444444444,
           "#bd3786"
          ],
          [
           0.5555555555555556,
           "#d8576b"
          ],
          [
           0.6666666666666666,
           "#ed7953"
          ],
          [
           0.7777777777777778,
           "#fb9f3a"
          ],
          [
           0.8888888888888888,
           "#fdca26"
          ],
          [
           1,
           "#f0f921"
          ]
         ]
        },
        "geo": {
         "center": {},
         "domain": {
          "x": [
           0,
           1
          ],
          "y": [
           0,
           1
          ]
         }
        },
        "legend": {
         "tracegroupgap": 0
        },
        "margin": {
         "t": 60
        },
        "sliders": [
         {
          "active": 0,
          "currentvalue": {
           "prefix": "year="
          },
          "len": 0.9,
          "pad": {
           "b": 10,
           "t": 60
          },
          "steps": [
           {
            "args": [
             [
              "1952"
             ],
             {
              "frame": {
               "duration": 0,
               "redraw": true
              },
              "fromcurrent": true,
              "mode": "immediate",
              "transition": {
               "duration": 0,
               "easing": "linear"
              }
             }
            ],
            "label": "1952",
            "method": "animate"
           },
           {
            "args": [
             [
              "1957"
             ],
             {
              "frame": {
               "duration": 0,
               "redraw": true
              },
              "fromcurrent": true,
              "mode": "immediate",
              "transition": {
               "duration": 0,
               "easing": "linear"
              }
             }
            ],
            "label": "1957",
            "method": "animate"
           },
           {
            "args": [
             [
              "1962"
             ],
             {
              "frame": {
               "duration": 0,
               "redraw": true
              },
              "fromcurrent": true,
              "mode": "immediate",
              "transition": {
               "duration": 0,
               "easing": "linear"
              }
             }
            ],
            "label": "1962",
            "method": "animate"
           },
           {
            "args": [
             [
              "1967"
             ],
             {
              "frame": {
               "duration": 0,
               "redraw": true
              },
              "fromcurrent": true,
              "mode": "immediate",
              "transition": {
               "duration": 0,
               "easing": "linear"
              }
             }
            ],
            "label": "1967",
            "method": "animate"
           },
           {
            "args": [
             [
              "1972"
             ],
             {
              "frame": {
               "duration": 0,
               "redraw": true
              },
              "fromcurrent": true,
              "mode": "immediate",
              "transition": {
               "duration": 0,
               "easing": "linear"
              }
             }
            ],
            "label": "1972",
            "method": "animate"
           },
           {
            "args": [
             [
              "1977"
             ],
             {
              "frame": {
               "duration": 0,
               "redraw": true
              },
              "fromcurrent": true,
              "mode": "immediate",
              "transition": {
               "duration": 0,
               "easing": "linear"
              }
             }
            ],
            "label": "1977",
            "method": "animate"
           },
           {
            "args": [
             [
              "1982"
             ],
             {
              "frame": {
               "duration": 0,
               "redraw": true
              },
              "fromcurrent": true,
              "mode": "immediate",
              "transition": {
               "duration": 0,
               "easing": "linear"
              }
             }
            ],
            "label": "1982",
            "method": "animate"
           },
           {
            "args": [
             [
              "1987"
             ],
             {
              "frame": {
               "duration": 0,
               "redraw": true
              },
              "fromcurrent": true,
              "mode": "immediate",
              "transition": {
               "duration": 0,
               "easing": "linear"
              }
             }
            ],
            "label": "1987",
            "method": "animate"
           },
           {
            "args": [
             [
              "1992"
             ],
             {
              "frame": {
               "duration": 0,
               "redraw": true
              },
              "fromcurrent": true,
              "mode": "immediate",
              "transition": {
               "duration": 0,
               "easing": "linear"
              }
             }
            ],
            "label": "1992",
            "method": "animate"
           },
           {
            "args": [
             [
              "1997"
             ],
             {
              "frame": {
               "duration": 0,
               "redraw": true
              },
              "fromcurrent": true,
              "mode": "immediate",
              "transition": {
               "duration": 0,
               "easing": "linear"
              }
             }
            ],
            "label": "1997",
            "method": "animate"
           },
           {
            "args": [
             [
              "2002"
             ],
             {
              "frame": {
               "duration": 0,
               "redraw": true
              },
              "fromcurrent": true,
              "mode": "immediate",
              "transition": {
               "duration": 0,
               "easing": "linear"
              }
             }
            ],
            "label": "2002",
            "method": "animate"
           },
           {
            "args": [
             [
              "2007"
             ],
             {
              "frame": {
               "duration": 0,
               "redraw": true
              },
              "fromcurrent": true,
              "mode": "immediate",
              "transition": {
               "duration": 0,
               "easing": "linear"
              }
             }
            ],
            "label": "2007",
            "method": "animate"
           }
          ],
          "x": 0.1,
          "xanchor": "left",
          "y": 0,
          "yanchor": "top"
         }
        ],
        "template": {
         "data": {
          "bar": [
           {
            "error_x": {
             "color": "#2a3f5f"
            },
            "error_y": {
             "color": "#2a3f5f"
            },
            "marker": {
             "line": {
              "color": "#E5ECF6",
              "width": 0.5
             },
             "pattern": {
              "fillmode": "overlay",
              "size": 10,
              "solidity": 0.2
             }
            },
            "type": "bar"
           }
          ],
          "barpolar": [
           {
            "marker": {
             "line": {
              "color": "#E5ECF6",
              "width": 0.5
             },
             "pattern": {
              "fillmode": "overlay",
              "size": 10,
              "solidity": 0.2
             }
            },
            "type": "barpolar"
           }
          ],
          "carpet": [
           {
            "aaxis": {
             "endlinecolor": "#2a3f5f",
             "gridcolor": "white",
             "linecolor": "white",
             "minorgridcolor": "white",
             "startlinecolor": "#2a3f5f"
            },
            "baxis": {
             "endlinecolor": "#2a3f5f",
             "gridcolor": "white",
             "linecolor": "white",
             "minorgridcolor": "white",
             "startlinecolor": "#2a3f5f"
            },
            "type": "carpet"
           }
          ],
          "choropleth": [
           {
            "colorbar": {
             "outlinewidth": 0,
             "ticks": ""
            },
            "type": "choropleth"
           }
          ],
          "contour": [
           {
            "colorbar": {
             "outlinewidth": 0,
             "ticks": ""
            },
            "colorscale": [
             [
              0,
              "#0d0887"
             ],
             [
              0.1111111111111111,
              "#46039f"
             ],
             [
              0.2222222222222222,
              "#7201a8"
             ],
             [
              0.3333333333333333,
              "#9c179e"
             ],
             [
              0.4444444444444444,
              "#bd3786"
             ],
             [
              0.5555555555555556,
              "#d8576b"
             ],
             [
              0.6666666666666666,
              "#ed7953"
             ],
             [
              0.7777777777777778,
              "#fb9f3a"
             ],
             [
              0.8888888888888888,
              "#fdca26"
             ],
             [
              1,
              "#f0f921"
             ]
            ],
            "type": "contour"
           }
          ],
          "contourcarpet": [
           {
            "colorbar": {
             "outlinewidth": 0,
             "ticks": ""
            },
            "type": "contourcarpet"
           }
          ],
          "heatmap": [
           {
            "colorbar": {
             "outlinewidth": 0,
             "ticks": ""
            },
            "colorscale": [
             [
              0,
              "#0d0887"
             ],
             [
              0.1111111111111111,
              "#46039f"
             ],
             [
              0.2222222222222222,
              "#7201a8"
             ],
             [
              0.3333333333333333,
              "#9c179e"
             ],
             [
              0.4444444444444444,
              "#bd3786"
             ],
             [
              0.5555555555555556,
              "#d8576b"
             ],
             [
              0.6666666666666666,
              "#ed7953"
             ],
             [
              0.7777777777777778,
              "#fb9f3a"
             ],
             [
              0.8888888888888888,
              "#fdca26"
             ],
             [
              1,
              "#f0f921"
             ]
            ],
            "type": "heatmap"
           }
          ],
          "heatmapgl": [
           {
            "colorbar": {
             "outlinewidth": 0,
             "ticks": ""
            },
            "colorscale": [
             [
              0,
              "#0d0887"
             ],
             [
              0.1111111111111111,
              "#46039f"
             ],
             [
              0.2222222222222222,
              "#7201a8"
             ],
             [
              0.3333333333333333,
              "#9c179e"
             ],
             [
              0.4444444444444444,
              "#bd3786"
             ],
             [
              0.5555555555555556,
              "#d8576b"
             ],
             [
              0.6666666666666666,
              "#ed7953"
             ],
             [
              0.7777777777777778,
              "#fb9f3a"
             ],
             [
              0.8888888888888888,
              "#fdca26"
             ],
             [
              1,
              "#f0f921"
             ]
            ],
            "type": "heatmapgl"
           }
          ],
          "histogram": [
           {
            "marker": {
             "pattern": {
              "fillmode": "overlay",
              "size": 10,
              "solidity": 0.2
             }
            },
            "type": "histogram"
           }
          ],
          "histogram2d": [
           {
            "colorbar": {
             "outlinewidth": 0,
             "ticks": ""
            },
            "colorscale": [
             [
              0,
              "#0d0887"
             ],
             [
              0.1111111111111111,
              "#46039f"
             ],
             [
              0.2222222222222222,
              "#7201a8"
             ],
             [
              0.3333333333333333,
              "#9c179e"
             ],
             [
              0.4444444444444444,
              "#bd3786"
             ],
             [
              0.5555555555555556,
              "#d8576b"
             ],
             [
              0.6666666666666666,
              "#ed7953"
             ],
             [
              0.7777777777777778,
              "#fb9f3a"
             ],
             [
              0.8888888888888888,
              "#fdca26"
             ],
             [
              1,
              "#f0f921"
             ]
            ],
            "type": "histogram2d"
           }
          ],
          "histogram2dcontour": [
           {
            "colorbar": {
             "outlinewidth": 0,
             "ticks": ""
            },
            "colorscale": [
             [
              0,
              "#0d0887"
             ],
             [
              0.1111111111111111,
              "#46039f"
             ],
             [
              0.2222222222222222,
              "#7201a8"
             ],
             [
              0.3333333333333333,
              "#9c179e"
             ],
             [
              0.4444444444444444,
              "#bd3786"
             ],
             [
              0.5555555555555556,
              "#d8576b"
             ],
             [
              0.6666666666666666,
              "#ed7953"
             ],
             [
              0.7777777777777778,
              "#fb9f3a"
             ],
             [
              0.8888888888888888,
              "#fdca26"
             ],
             [
              1,
              "#f0f921"
             ]
            ],
            "type": "histogram2dcontour"
           }
          ],
          "mesh3d": [
           {
            "colorbar": {
             "outlinewidth": 0,
             "ticks": ""
            },
            "type": "mesh3d"
           }
          ],
          "parcoords": [
           {
            "line": {
             "colorbar": {
              "outlinewidth": 0,
              "ticks": ""
             }
            },
            "type": "parcoords"
           }
          ],
          "pie": [
           {
            "automargin": true,
            "type": "pie"
           }
          ],
          "scatter": [
           {
            "fillpattern": {
             "fillmode": "overlay",
             "size": 10,
             "solidity": 0.2
            },
            "type": "scatter"
           }
          ],
          "scatter3d": [
           {
            "line": {
             "colorbar": {
              "outlinewidth": 0,
              "ticks": ""
             }
            },
            "marker": {
             "colorbar": {
              "outlinewidth": 0,
              "ticks": ""
             }
            },
            "type": "scatter3d"
           }
          ],
          "scattercarpet": [
           {
            "marker": {
             "colorbar": {
              "outlinewidth": 0,
              "ticks": ""
             }
            },
            "type": "scattercarpet"
           }
          ],
          "scattergeo": [
           {
            "marker": {
             "colorbar": {
              "outlinewidth": 0,
              "ticks": ""
             }
            },
            "type": "scattergeo"
           }
          ],
          "scattergl": [
           {
            "marker": {
             "colorbar": {
              "outlinewidth": 0,
              "ticks": ""
             }
            },
            "type": "scattergl"
           }
          ],
          "scattermapbox": [
           {
            "marker": {
             "colorbar": {
              "outlinewidth": 0,
              "ticks": ""
             }
            },
            "type": "scattermapbox"
           }
          ],
          "scatterpolar": [
           {
            "marker": {
             "colorbar": {
              "outlinewidth": 0,
              "ticks": ""
             }
            },
            "type": "scatterpolar"
           }
          ],
          "scatterpolargl": [
           {
            "marker": {
             "colorbar": {
              "outlinewidth": 0,
              "ticks": ""
             }
            },
            "type": "scatterpolargl"
           }
          ],
          "scatterternary": [
           {
            "marker": {
             "colorbar": {
              "outlinewidth": 0,
              "ticks": ""
             }
            },
            "type": "scatterternary"
           }
          ],
          "surface": [
           {
            "colorbar": {
             "outlinewidth": 0,
             "ticks": ""
            },
            "colorscale": [
             [
              0,
              "#0d0887"
             ],
             [
              0.1111111111111111,
              "#46039f"
             ],
             [
              0.2222222222222222,
              "#7201a8"
             ],
             [
              0.3333333333333333,
              "#9c179e"
             ],
             [
              0.4444444444444444,
              "#bd3786"
             ],
             [
              0.5555555555555556,
              "#d8576b"
             ],
             [
              0.6666666666666666,
              "#ed7953"
             ],
             [
              0.7777777777777778,
              "#fb9f3a"
             ],
             [
              0.8888888888888888,
              "#fdca26"
             ],
             [
              1,
              "#f0f921"
             ]
            ],
            "type": "surface"
           }
          ],
          "table": [
           {
            "cells": {
             "fill": {
              "color": "#EBF0F8"
             },
             "line": {
              "color": "white"
             }
            },
            "header": {
             "fill": {
              "color": "#C8D4E3"
             },
             "line": {
              "color": "white"
             }
            },
            "type": "table"
           }
          ]
         },
         "layout": {
          "annotationdefaults": {
           "arrowcolor": "#2a3f5f",
           "arrowhead": 0,
           "arrowwidth": 1
          },
          "autotypenumbers": "strict",
          "coloraxis": {
           "colorbar": {
            "outlinewidth": 0,
            "ticks": ""
           }
          },
          "colorscale": {
           "diverging": [
            [
             0,
             "#8e0152"
            ],
            [
             0.1,
             "#c51b7d"
            ],
            [
             0.2,
             "#de77ae"
            ],
            [
             0.3,
             "#f1b6da"
            ],
            [
             0.4,
             "#fde0ef"
            ],
            [
             0.5,
             "#f7f7f7"
            ],
            [
             0.6,
             "#e6f5d0"
            ],
            [
             0.7,
             "#b8e186"
            ],
            [
             0.8,
             "#7fbc41"
            ],
            [
             0.9,
             "#4d9221"
            ],
            [
             1,
             "#276419"
            ]
           ],
           "sequential": [
            [
             0,
             "#0d0887"
            ],
            [
             0.1111111111111111,
             "#46039f"
            ],
            [
             0.2222222222222222,
             "#7201a8"
            ],
            [
             0.3333333333333333,
             "#9c179e"
            ],
            [
             0.4444444444444444,
             "#bd3786"
            ],
            [
             0.5555555555555556,
             "#d8576b"
            ],
            [
             0.6666666666666666,
             "#ed7953"
            ],
            [
             0.7777777777777778,
             "#fb9f3a"
            ],
            [
             0.8888888888888888,
             "#fdca26"
            ],
            [
             1,
             "#f0f921"
            ]
           ],
           "sequentialminus": [
            [
             0,
             "#0d0887"
            ],
            [
             0.1111111111111111,
             "#46039f"
            ],
            [
             0.2222222222222222,
             "#7201a8"
            ],
            [
             0.3333333333333333,
             "#9c179e"
            ],
            [
             0.4444444444444444,
             "#bd3786"
            ],
            [
             0.5555555555555556,
             "#d8576b"
            ],
            [
             0.6666666666666666,
             "#ed7953"
            ],
            [
             0.7777777777777778,
             "#fb9f3a"
            ],
            [
             0.8888888888888888,
             "#fdca26"
            ],
            [
             1,
             "#f0f921"
            ]
           ]
          },
          "colorway": [
           "#636efa",
           "#EF553B",
           "#00cc96",
           "#ab63fa",
           "#FFA15A",
           "#19d3f3",
           "#FF6692",
           "#B6E880",
           "#FF97FF",
           "#FECB52"
          ],
          "font": {
           "color": "#2a3f5f"
          },
          "geo": {
           "bgcolor": "white",
           "lakecolor": "white",
           "landcolor": "#E5ECF6",
           "showlakes": true,
           "showland": true,
           "subunitcolor": "white"
          },
          "hoverlabel": {
           "align": "left"
          },
          "hovermode": "closest",
          "mapbox": {
           "style": "light"
          },
          "paper_bgcolor": "white",
          "plot_bgcolor": "#E5ECF6",
          "polar": {
           "angularaxis": {
            "gridcolor": "white",
            "linecolor": "white",
            "ticks": ""
           },
           "bgcolor": "#E5ECF6",
           "radialaxis": {
            "gridcolor": "white",
            "linecolor": "white",
            "ticks": ""
           }
          },
          "scene": {
           "xaxis": {
            "backgroundcolor": "#E5ECF6",
            "gridcolor": "white",
            "gridwidth": 2,
            "linecolor": "white",
            "showbackground": true,
            "ticks": "",
            "zerolinecolor": "white"
           },
           "yaxis": {
            "backgroundcolor": "#E5ECF6",
            "gridcolor": "white",
            "gridwidth": 2,
            "linecolor": "white",
            "showbackground": true,
            "ticks": "",
            "zerolinecolor": "white"
           },
           "zaxis": {
            "backgroundcolor": "#E5ECF6",
            "gridcolor": "white",
            "gridwidth": 2,
            "linecolor": "white",
            "showbackground": true,
            "ticks": "",
            "zerolinecolor": "white"
           }
          },
          "shapedefaults": {
           "line": {
            "color": "#2a3f5f"
           }
          },
          "ternary": {
           "aaxis": {
            "gridcolor": "white",
            "linecolor": "white",
            "ticks": ""
           },
           "baxis": {
            "gridcolor": "white",
            "linecolor": "white",
            "ticks": ""
           },
           "bgcolor": "#E5ECF6",
           "caxis": {
            "gridcolor": "white",
            "linecolor": "white",
            "ticks": ""
           }
          },
          "title": {
           "x": 0.05
          },
          "xaxis": {
           "automargin": true,
           "gridcolor": "white",
           "linecolor": "white",
           "ticks": "",
           "title": {
            "standoff": 15
           },
           "zerolinecolor": "white",
           "zerolinewidth": 2
          },
          "yaxis": {
           "automargin": true,
           "gridcolor": "white",
           "linecolor": "white",
           "ticks": "",
           "title": {
            "standoff": 15
           },
           "zerolinecolor": "white",
           "zerolinewidth": 2
          }
         }
        },
        "updatemenus": [
         {
          "buttons": [
           {
            "args": [
             null,
             {
              "frame": {
               "duration": 500,
               "redraw": true
              },
              "fromcurrent": true,
              "mode": "immediate",
              "transition": {
               "duration": 500,
               "easing": "linear"
              }
             }
            ],
            "label": "&#9654;",
            "method": "animate"
           },
           {
            "args": [
             [
              null
             ],
             {
              "frame": {
               "duration": 0,
               "redraw": true
              },
              "fromcurrent": true,
              "mode": "immediate",
              "transition": {
               "duration": 0,
               "easing": "linear"
              }
             }
            ],
            "label": "&#9724;",
            "method": "animate"
           }
          ],
          "direction": "left",
          "pad": {
           "r": 10,
           "t": 70
          },
          "showactive": false,
          "type": "buttons",
          "x": 0.1,
          "xanchor": "right",
          "y": 0,
          "yanchor": "top"
         }
        ]
       }
      }
     },
     "metadata": {},
     "output_type": "display_data"
    }
   ],
   "source": [
    "import plotly.express as px\n",
    "EE = px.data.gapminder()\n",
    "fig = px.choropleth(EE, locations = 'iso_alpha',\n",
    "                    color = 'lifeExp',\n",
    "                    hover_name = 'country',\n",
    "                    animation_frame = 'year',\n",
    "                    range_color = [20,80])\n",
    "fig.show()"
   ]
  },
  {
   "cell_type": "markdown",
   "metadata": {},
   "source": [
    "### ***pip install scikit-image***"
   ]
  },
  {
   "cell_type": "code",
   "execution_count": 1,
   "metadata": {},
   "outputs": [
    {
     "data": {
      "application/vnd.plotly.v1+json": {
       "config": {
        "plotlyServerURL": "https://plot.ly"
       },
       "data": [
        {
         "hovertemplate": "x: %{x}<br>y: %{y}<br>color: [%{z[0]}, %{z[1]}, %{z[2]}]<extra></extra>",
         "name": "0",
         "source": "data:image/png;base64,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",
         "type": "image",
         "xaxis": "x",
         "yaxis": "y"
        }
       ],
       "layout": {
        "margin": {
         "t": 60
        },
        "template": {
         "data": {
          "bar": [
           {
            "error_x": {
             "color": "#2a3f5f"
            },
            "error_y": {
             "color": "#2a3f5f"
            },
            "marker": {
             "line": {
              "color": "#E5ECF6",
              "width": 0.5
             },
             "pattern": {
              "fillmode": "overlay",
              "size": 10,
              "solidity": 0.2
             }
            },
            "type": "bar"
           }
          ],
          "barpolar": [
           {
            "marker": {
             "line": {
              "color": "#E5ECF6",
              "width": 0.5
             },
             "pattern": {
              "fillmode": "overlay",
              "size": 10,
              "solidity": 0.2
             }
            },
            "type": "barpolar"
           }
          ],
          "carpet": [
           {
            "aaxis": {
             "endlinecolor": "#2a3f5f",
             "gridcolor": "white",
             "linecolor": "white",
             "minorgridcolor": "white",
             "startlinecolor": "#2a3f5f"
            },
            "baxis": {
             "endlinecolor": "#2a3f5f",
             "gridcolor": "white",
             "linecolor": "white",
             "minorgridcolor": "white",
             "startlinecolor": "#2a3f5f"
            },
            "type": "carpet"
           }
          ],
          "choropleth": [
           {
            "colorbar": {
             "outlinewidth": 0,
             "ticks": ""
            },
            "type": "choropleth"
           }
          ],
          "contour": [
           {
            "colorbar": {
             "outlinewidth": 0,
             "ticks": ""
            },
            "colorscale": [
             [
              0,
              "#0d0887"
             ],
             [
              0.1111111111111111,
              "#46039f"
             ],
             [
              0.2222222222222222,
              "#7201a8"
             ],
             [
              0.3333333333333333,
              "#9c179e"
             ],
             [
              0.4444444444444444,
              "#bd3786"
             ],
             [
              0.5555555555555556,
              "#d8576b"
             ],
             [
              0.6666666666666666,
              "#ed7953"
             ],
             [
              0.7777777777777778,
              "#fb9f3a"
             ],
             [
              0.8888888888888888,
              "#fdca26"
             ],
             [
              1,
              "#f0f921"
             ]
            ],
            "type": "contour"
           }
          ],
          "contourcarpet": [
           {
            "colorbar": {
             "outlinewidth": 0,
             "ticks": ""
            },
            "type": "contourcarpet"
           }
          ],
          "heatmap": [
           {
            "colorbar": {
             "outlinewidth": 0,
             "ticks": ""
            },
            "colorscale": [
             [
              0,
              "#0d0887"
             ],
             [
              0.1111111111111111,
              "#46039f"
             ],
             [
              0.2222222222222222,
              "#7201a8"
             ],
             [
              0.3333333333333333,
              "#9c179e"
             ],
             [
              0.4444444444444444,
              "#bd3786"
             ],
             [
              0.5555555555555556,
              "#d8576b"
             ],
             [
              0.6666666666666666,
              "#ed7953"
             ],
             [
              0.7777777777777778,
              "#fb9f3a"
             ],
             [
              0.8888888888888888,
              "#fdca26"
             ],
             [
              1,
              "#f0f921"
             ]
            ],
            "type": "heatmap"
           }
          ],
          "heatmapgl": [
           {
            "colorbar": {
             "outlinewidth": 0,
             "ticks": ""
            },
            "colorscale": [
             [
              0,
              "#0d0887"
             ],
             [
              0.1111111111111111,
              "#46039f"
             ],
             [
              0.2222222222222222,
              "#7201a8"
             ],
             [
              0.3333333333333333,
              "#9c179e"
             ],
             [
              0.4444444444444444,
              "#bd3786"
             ],
             [
              0.5555555555555556,
              "#d8576b"
             ],
             [
              0.6666666666666666,
              "#ed7953"
             ],
             [
              0.7777777777777778,
              "#fb9f3a"
             ],
             [
              0.8888888888888888,
              "#fdca26"
             ],
             [
              1,
              "#f0f921"
             ]
            ],
            "type": "heatmapgl"
           }
          ],
          "histogram": [
           {
            "marker": {
             "pattern": {
              "fillmode": "overlay",
              "size": 10,
              "solidity": 0.2
             }
            },
            "type": "histogram"
           }
          ],
          "histogram2d": [
           {
            "colorbar": {
             "outlinewidth": 0,
             "ticks": ""
            },
            "colorscale": [
             [
              0,
              "#0d0887"
             ],
             [
              0.1111111111111111,
              "#46039f"
             ],
             [
              0.2222222222222222,
              "#7201a8"
             ],
             [
              0.3333333333333333,
              "#9c179e"
             ],
             [
              0.4444444444444444,
              "#bd3786"
             ],
             [
              0.5555555555555556,
              "#d8576b"
             ],
             [
              0.6666666666666666,
              "#ed7953"
             ],
             [
              0.7777777777777778,
              "#fb9f3a"
             ],
             [
              0.8888888888888888,
              "#fdca26"
             ],
             [
              1,
              "#f0f921"
             ]
            ],
            "type": "histogram2d"
           }
          ],
          "histogram2dcontour": [
           {
            "colorbar": {
             "outlinewidth": 0,
             "ticks": ""
            },
            "colorscale": [
             [
              0,
              "#0d0887"
             ],
             [
              0.1111111111111111,
              "#46039f"
             ],
             [
              0.2222222222222222,
              "#7201a8"
             ],
             [
              0.3333333333333333,
              "#9c179e"
             ],
             [
              0.4444444444444444,
              "#bd3786"
             ],
             [
              0.5555555555555556,
              "#d8576b"
             ],
             [
              0.6666666666666666,
              "#ed7953"
             ],
             [
              0.7777777777777778,
              "#fb9f3a"
             ],
             [
              0.8888888888888888,
              "#fdca26"
             ],
             [
              1,
              "#f0f921"
             ]
            ],
            "type": "histogram2dcontour"
           }
          ],
          "mesh3d": [
           {
            "colorbar": {
             "outlinewidth": 0,
             "ticks": ""
            },
            "type": "mesh3d"
           }
          ],
          "parcoords": [
           {
            "line": {
             "colorbar": {
              "outlinewidth": 0,
              "ticks": ""
             }
            },
            "type": "parcoords"
           }
          ],
          "pie": [
           {
            "automargin": true,
            "type": "pie"
           }
          ],
          "scatter": [
           {
            "fillpattern": {
             "fillmode": "overlay",
             "size": 10,
             "solidity": 0.2
            },
            "type": "scatter"
           }
          ],
          "scatter3d": [
           {
            "line": {
             "colorbar": {
              "outlinewidth": 0,
              "ticks": ""
             }
            },
            "marker": {
             "colorbar": {
              "outlinewidth": 0,
              "ticks": ""
             }
            },
            "type": "scatter3d"
           }
          ],
          "scattercarpet": [
           {
            "marker": {
             "colorbar": {
              "outlinewidth": 0,
              "ticks": ""
             }
            },
            "type": "scattercarpet"
           }
          ],
          "scattergeo": [
           {
            "marker": {
             "colorbar": {
              "outlinewidth": 0,
              "ticks": ""
             }
            },
            "type": "scattergeo"
           }
          ],
          "scattergl": [
           {
            "marker": {
             "colorbar": {
              "outlinewidth": 0,
              "ticks": ""
             }
            },
            "type": "scattergl"
           }
          ],
          "scattermapbox": [
           {
            "marker": {
             "colorbar": {
              "outlinewidth": 0,
              "ticks": ""
             }
            },
            "type": "scattermapbox"
           }
          ],
          "scatterpolar": [
           {
            "marker": {
             "colorbar": {
              "outlinewidth": 0,
              "ticks": ""
             }
            },
            "type": "scatterpolar"
           }
          ],
          "scatterpolargl": [
           {
            "marker": {
             "colorbar": {
              "outlinewidth": 0,
              "ticks": ""
             }
            },
            "type": "scatterpolargl"
           }
          ],
          "scatterternary": [
           {
            "marker": {
             "colorbar": {
              "outlinewidth": 0,
              "ticks": ""
             }
            },
            "type": "scatterternary"
           }
          ],
          "surface": [
           {
            "colorbar": {
             "outlinewidth": 0,
             "ticks": ""
            },
            "colorscale": [
             [
              0,
              "#0d0887"
             ],
             [
              0.1111111111111111,
              "#46039f"
             ],
             [
              0.2222222222222222,
              "#7201a8"
             ],
             [
              0.3333333333333333,
              "#9c179e"
             ],
             [
              0.4444444444444444,
              "#bd3786"
             ],
             [
              0.5555555555555556,
              "#d8576b"
             ],
             [
              0.6666666666666666,
              "#ed7953"
             ],
             [
              0.7777777777777778,
              "#fb9f3a"
             ],
             [
              0.8888888888888888,
              "#fdca26"
             ],
             [
              1,
              "#f0f921"
             ]
            ],
            "type": "surface"
           }
          ],
          "table": [
           {
            "cells": {
             "fill": {
              "color": "#EBF0F8"
             },
             "line": {
              "color": "white"
             }
            },
            "header": {
             "fill": {
              "color": "#C8D4E3"
             },
             "line": {
              "color": "white"
             }
            },
            "type": "table"
           }
          ]
         },
         "layout": {
          "annotationdefaults": {
           "arrowcolor": "#2a3f5f",
           "arrowhead": 0,
           "arrowwidth": 1
          },
          "autotypenumbers": "strict",
          "coloraxis": {
           "colorbar": {
            "outlinewidth": 0,
            "ticks": ""
           }
          },
          "colorscale": {
           "diverging": [
            [
             0,
             "#8e0152"
            ],
            [
             0.1,
             "#c51b7d"
            ],
            [
             0.2,
             "#de77ae"
            ],
            [
             0.3,
             "#f1b6da"
            ],
            [
             0.4,
             "#fde0ef"
            ],
            [
             0.5,
             "#f7f7f7"
            ],
            [
             0.6,
             "#e6f5d0"
            ],
            [
             0.7,
             "#b8e186"
            ],
            [
             0.8,
             "#7fbc41"
            ],
            [
             0.9,
             "#4d9221"
            ],
            [
             1,
             "#276419"
            ]
           ],
           "sequential": [
            [
             0,
             "#0d0887"
            ],
            [
             0.1111111111111111,
             "#46039f"
            ],
            [
             0.2222222222222222,
             "#7201a8"
            ],
            [
             0.3333333333333333,
             "#9c179e"
            ],
            [
             0.4444444444444444,
             "#bd3786"
            ],
            [
             0.5555555555555556,
             "#d8576b"
            ],
            [
             0.6666666666666666,
             "#ed7953"
            ],
            [
             0.7777777777777778,
             "#fb9f3a"
            ],
            [
             0.8888888888888888,
             "#fdca26"
            ],
            [
             1,
             "#f0f921"
            ]
           ],
           "sequentialminus": [
            [
             0,
             "#0d0887"
            ],
            [
             0.1111111111111111,
             "#46039f"
            ],
            [
             0.2222222222222222,
             "#7201a8"
            ],
            [
             0.3333333333333333,
             "#9c179e"
            ],
            [
             0.4444444444444444,
             "#bd3786"
            ],
            [
             0.5555555555555556,
             "#d8576b"
            ],
            [
             0.6666666666666666,
             "#ed7953"
            ],
            [
             0.7777777777777778,
             "#fb9f3a"
            ],
            [
             0.8888888888888888,
             "#fdca26"
            ],
            [
             1,
             "#f0f921"
            ]
           ]
          },
          "colorway": [
           "#636efa",
           "#EF553B",
           "#00cc96",
           "#ab63fa",
           "#FFA15A",
           "#19d3f3",
           "#FF6692",
           "#B6E880",
           "#FF97FF",
           "#FECB52"
          ],
          "font": {
           "color": "#2a3f5f"
          },
          "geo": {
           "bgcolor": "white",
           "lakecolor": "white",
           "landcolor": "#E5ECF6",
           "showlakes": true,
           "showland": true,
           "subunitcolor": "white"
          },
          "hoverlabel": {
           "align": "left"
          },
          "hovermode": "closest",
          "mapbox": {
           "style": "light"
          },
          "paper_bgcolor": "white",
          "plot_bgcolor": "#E5ECF6",
          "polar": {
           "angularaxis": {
            "gridcolor": "white",
            "linecolor": "white",
            "ticks": ""
           },
           "bgcolor": "#E5ECF6",
           "radialaxis": {
            "gridcolor": "white",
            "linecolor": "white",
            "ticks": ""
           }
          },
          "scene": {
           "xaxis": {
            "backgroundcolor": "#E5ECF6",
            "gridcolor": "white",
            "gridwidth": 2,
            "linecolor": "white",
            "showbackground": true,
            "ticks": "",
            "zerolinecolor": "white"
           },
           "yaxis": {
            "backgroundcolor": "#E5ECF6",
            "gridcolor": "white",
            "gridwidth": 2,
            "linecolor": "white",
            "showbackground": true,
            "ticks": "",
            "zerolinecolor": "white"
           },
           "zaxis": {
            "backgroundcolor": "#E5ECF6",
            "gridcolor": "white",
            "gridwidth": 2,
            "linecolor": "white",
            "showbackground": true,
            "ticks": "",
            "zerolinecolor": "white"
           }
          },
          "shapedefaults": {
           "line": {
            "color": "#2a3f5f"
           }
          },
          "ternary": {
           "aaxis": {
            "gridcolor": "white",
            "linecolor": "white",
            "ticks": ""
           },
           "baxis": {
            "gridcolor": "white",
            "linecolor": "white",
            "ticks": ""
           },
           "bgcolor": "#E5ECF6",
           "caxis": {
            "gridcolor": "white",
            "linecolor": "white",
            "ticks": ""
           }
          },
          "title": {
           "x": 0.05
          },
          "xaxis": {
           "automargin": true,
           "gridcolor": "white",
           "linecolor": "white",
           "ticks": "",
           "title": {
            "standoff": 15
           },
           "zerolinecolor": "white",
           "zerolinewidth": 2
          },
          "yaxis": {
           "automargin": true,
           "gridcolor": "white",
           "linecolor": "white",
           "ticks": "",
           "title": {
            "standoff": 15
           },
           "zerolinecolor": "white",
           "zerolinewidth": 2
          }
         }
        },
        "xaxis": {
         "anchor": "y",
         "domain": [
          0,
          1
         ]
        },
        "yaxis": {
         "anchor": "x",
         "domain": [
          0,
          1
         ]
        }
       }
      }
     },
     "metadata": {},
     "output_type": "display_data"
    }
   ],
   "source": [
    "import plotly.express as px\n",
    "from skimage import io\n",
    "img = io.imread('https://upload.wikimedia.org/wikipedia/commons/thumb/0/00/Crab_Nebula.jpg/240px-Crab_Nebula.jpg')\n",
    "fig = px.imshow(img)\n",
    "fig.show()"
   ]
  }
 ],
 "metadata": {
  "kernelspec": {
   "display_name": "Python 3",
   "language": "python",
   "name": "python3"
  },
  "language_info": {
   "codemirror_mode": {
    "name": "ipython",
    "version": 3
   },
   "file_extension": ".py",
   "mimetype": "text/x-python",
   "name": "python",
   "nbconvert_exporter": "python",
   "pygments_lexer": "ipython3",
   "version": "3.11.4"
  },
  "orig_nbformat": 4
 },
 "nbformat": 4,
 "nbformat_minor": 2
}
