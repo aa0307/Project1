{
 "cells": [
  {
   "cell_type": "markdown",
   "metadata": {},
   "source": [
    "### Study Revivison"
   ]
  },
  {
   "cell_type": "markdown",
   "metadata": {},
   "source": [
    "#### Variables"
   ]
  },
  {
   "cell_type": "code",
   "execution_count": 2,
   "metadata": {},
   "outputs": [
    {
     "name": "stdout",
     "output_type": "stream",
     "text": [
      "\n",
      "\n",
      "\n",
      "\n",
      "\n",
      "\n",
      "\n",
      "\n",
      "\n",
      "\n",
      "\n",
      "\n",
      "[2 4]\n",
      "\n",
      "\n",
      "\n",
      "\n",
      "[[3 5]\n",
      " [6 7]]\n",
      "\n",
      "\n",
      "\n",
      "\n",
      "2D numpy array [[2 5]\n",
      " [5 7]]\n",
      "\n",
      "\n",
      "\n",
      "\n",
      "[[[ 2  3]\n",
      "  [ 4  6]]\n",
      "\n",
      " [[ 4  3]\n",
      "  [74  6]]]\n",
      "\n",
      "\n",
      "\n",
      "\n",
      "[[[3 6]\n",
      "  [3 7]]\n",
      "\n",
      " [[7 9]\n",
      "  [6 0]]]\n",
      "\n",
      "\n",
      "\n",
      "\n",
      "<class 'numpy.ndarray'>\n",
      "int32\n",
      "\n",
      "\n",
      "\n",
      "\n",
      "<class 'numpy.ndarray'>\n",
      "float64\n",
      "0\n",
      "\n",
      "\n",
      "\n",
      "\n",
      "(2, 2)\n",
      "\n",
      "\n",
      "\n",
      "\n",
      "[1. 2.]\n",
      "\n",
      "\n",
      "\n",
      "\n",
      "[[3. 4.]\n",
      " [6. 7.]]\n",
      "\n",
      "\n",
      "\n",
      "\n",
      "[[2 3]\n",
      " [4 5]]\n",
      "[[2 4]\n",
      " [3 5]]\n",
      "\n",
      "\n",
      "\n",
      "\n",
      "<zip object at 0x000001EEA6D94D00>\n",
      "\n",
      "\n",
      "\n",
      "\n",
      "[5. 6.]\n",
      "\n",
      "\n",
      "\n",
      "\n",
      "[[ 6.  8.]\n",
      " [10. 12.]]\n",
      "\n",
      "\n",
      "\n",
      "\n",
      "BB [[3. 4.]\n",
      " [5. 6.]]\n",
      "BB[0][0] 3.0\n",
      "BB[0][1] 4.0\n",
      "BB[1][0] 5.0\n",
      "BB[1][1] 6.0\n",
      "CC 9.0\n",
      "\n",
      "\n",
      "\n",
      "\n",
      "merged   name_x  age name_y  car\n",
      "0  Sally   50  Sally  Yes\n",
      "1   Mary   40  Peter  Yes\n",
      "2   John   30   Mick  Yes\n",
      "age yes car median 40.0\n",
      "Sum_all 120\n"
     ]
    }
   ],
   "source": [
    "# Single variable single value\n",
    "a = 1 ; b=2 # int\n",
    "b = 2.3 # float\n",
    "c = 'text' # text\n",
    "# int a C language, python no need\n",
    "\n",
    "print('\\n\\n\\n')\n",
    "\n",
    "## Single variable multiple values\n",
    "aa = [2,4,6] # List\n",
    "bb = (3,5,7) # tuple\n",
    "cc = 4, 6, 8 # tuple\n",
    "print('\\n\\n\\n')\n",
    "\n",
    "# Dictionary key:value pair\n",
    "c = {'brand': 'BMW',\n",
    "     'year':2000\n",
    "     }\n",
    "\n",
    "print('\\n\\n\\n')\n",
    "\n",
    "# 1-D numpy array\n",
    "import numpy as np\n",
    "A = np.array([2,4]) # A = numpy.array([2,4])\n",
    "print(A)\n",
    "\n",
    "print('\\n\\n\\n')\n",
    "\n",
    "import numpy\n",
    "V = numpy.array([[3,5,6],[5,8,9]]) # 2-D numpy array\n",
    "# F = numpy.array([[3,6,8],[7,0]]) # wrong since the place [0][2] is no number\n",
    "\n",
    "# 2-D numpy array\n",
    "import numpy\n",
    "B = numpy.array([[3,5],[6,7]])\n",
    "print(B)\n",
    "\n",
    "print('\\n\\n\\n')\n",
    "\n",
    "import numpy as np\n",
    "BB = np.array([[2,5],[5,7]])\n",
    "print('2D numpy array',BB)\n",
    "\n",
    "print('\\n\\n\\n')\n",
    "\n",
    "# 3-D numpy array\n",
    "# 2 x 2-D array\n",
    "import numpy\n",
    "# import pandas\n",
    "# import seaborn\n",
    "C = numpy.array([[[2,3],[4,6]],[[4,3],[74,6]]])\n",
    "print(C)\n",
    "\n",
    "print('\\n\\n\\n')\n",
    "\n",
    "import numpy\n",
    "CC = numpy.array([[[3,6],[3,7]],[[7,9],[6,0]]])\n",
    "print(CC)\n",
    "\n",
    "print('\\n\\n\\n')\n",
    "\n",
    "# Variable type\n",
    "print(type(CC)) # Contain type\n",
    "print(CC.dtype) # data type\n",
    "\n",
    "print('\\n\\n\\n')\n",
    "\n",
    "import numpy as np\n",
    "\n",
    "a = np.array(2.3)\n",
    "print(type(a)) # container type ie numpy array, pandas\n",
    "print(a.dtype) # data type ie int, float, string,...\n",
    "print(a.ndim)\n",
    "\n",
    "print('\\n\\n\\n')\n",
    "\n",
    "# shape \n",
    "# 2-D numpy array\n",
    "import numpy\n",
    "B = numpy.array([[3,5],[6,7]])\n",
    "# print(B)\n",
    "print(B.shape) # shape = (2x2)\n",
    "\n",
    "print('\\n\\n\\n')\n",
    "\n",
    "# 1-D array, set data type float64 bit\n",
    "import numpy as np\n",
    "AA = np.array([1,2], dtype = np.float64)\n",
    "print(AA)\n",
    "\n",
    "print('\\n\\n\\n')\n",
    "\n",
    "# 2-D numpy array, set data type to float32 bit\n",
    "import numpy \n",
    "BB = numpy.array([[3,4],[6,7]],dtype = numpy.float32)\n",
    "print(BB)\n",
    "\n",
    "print('\\n\\n\\n')\n",
    "\n",
    "# R2\n",
    "# Transposing .T\n",
    "import numpy as np\n",
    "A = np.array([[2,3],[4,5]])\n",
    "print(A)\n",
    "B = A.T\n",
    "print(B)\n",
    "\n",
    "print('\\n\\n\\n')\n",
    "\n",
    "# R2\n",
    "# .zip()\n",
    "T1 = (1,2,3)\n",
    "T2 = ('a','b','c')\n",
    "AA = zip(T1, T2)\n",
    "print(AA)\n",
    "BB = list(AA)\n",
    "#print(BB) # if no print it oly show the address\n",
    "\n",
    "print('\\n\\n\\n')\n",
    "\n",
    "# Sum\n",
    "# 1-D array + 2\n",
    "import numpy \n",
    "AA = numpy.array([3,4], dtype = numpy.float64)\n",
    "aa = numpy.array([2,2], dtype = numpy.float64)\n",
    "# BB = AA + aa\n",
    "BB = AA + 2\n",
    "print(BB)\n",
    "\n",
    "print('\\n\\n\\n')\n",
    "\n",
    "# Mutiply 2-D numpy array * 2\n",
    "import numpy\n",
    "BB = numpy.array([[3,4],[5,6]], dtype = numpy.float64)\n",
    "CC = BB * 2.0\n",
    "print(CC)\n",
    "\n",
    "print('\\n\\n\\n')\n",
    "\n",
    "# Sum two arrays by index, y-row,x-column\n",
    "print('BB',BB)\n",
    "print('BB[0][0]',BB[0][0])\n",
    "print('BB[0][1]',BB[0][1])\n",
    "print('BB[1][0]',BB[1][0])\n",
    "print('BB[1][1]',BB[1][1])\n",
    "CC = BB[0][1] + BB[1][0]\n",
    "print('CC',CC)\n",
    "\n",
    "print('\\n\\n\\n')\n",
    "\n",
    "#  .merge() two arrays\n",
    "import pandas as pd\n",
    "data1 = {\n",
    "     'name':['Sally','Mary','John'],\n",
    "     'age':[50,40,30],\n",
    "}\n",
    "data2 = {\n",
    "     'name':['Sally','Peter','Mick'],\n",
    "     'age':[50,40,30],\n",
    "     'car':['Yes','Yes','Yes']\n",
    "}\n",
    "df1 = pd.DataFrame(data1)\n",
    "df2 = pd.DataFrame(data2)\n",
    "newdf = df1.merge(df2, on='age')\n",
    "# merge 2 arrays with 'age' in common \n",
    "print('merged',newdf)\n",
    "print('age yes car median',newdf['age'][newdf['car']=='Yes'].median())\n",
    "# Sum of in an array\n",
    "Sum_all = newdf['age'].sum()\n",
    "print('Sum_all',Sum_all)\n",
    "\n"
   ]
  },
  {
   "cell_type": "markdown",
   "metadata": {},
   "source": [
    "#### Data Collection"
   ]
  },
  {
   "cell_type": "code",
   "execution_count": 3,
   "metadata": {},
   "outputs": [
    {
     "ename": "FileNotFoundError",
     "evalue": "[Errno 2] No such file or directory: 'datafile.xlsx'",
     "output_type": "error",
     "traceback": [
      "\u001b[1;31m---------------------------------------------------------------------------\u001b[0m",
      "\u001b[1;31mFileNotFoundError\u001b[0m                         Traceback (most recent call last)",
      "\u001b[1;32mc:\\Users\\User\\Documents\\GitHub\\Project1\\project 1\\OOProgram\\Revision.ipynb Cell 5\u001b[0m line \u001b[0;36m3\n\u001b[0;32m      <a href='vscode-notebook-cell:/c%3A/Users/User/Documents/GitHub/Project1/project%201/OOProgram/Revision.ipynb#W4sZmlsZQ%3D%3D?line=0'>1</a>\u001b[0m \u001b[39m# Read xls file\u001b[39;00m\n\u001b[0;32m      <a href='vscode-notebook-cell:/c%3A/Users/User/Documents/GitHub/Project1/project%201/OOProgram/Revision.ipynb#W4sZmlsZQ%3D%3D?line=1'>2</a>\u001b[0m \u001b[39mimport\u001b[39;00m \u001b[39mpandas\u001b[39;00m \u001b[39mas\u001b[39;00m \u001b[39mpd\u001b[39;00m\n\u001b[1;32m----> <a href='vscode-notebook-cell:/c%3A/Users/User/Documents/GitHub/Project1/project%201/OOProgram/Revision.ipynb#W4sZmlsZQ%3D%3D?line=2'>3</a>\u001b[0m file \u001b[39m=\u001b[39m pd\u001b[39m.\u001b[39;49mread_excel(\u001b[39m'\u001b[39;49m\u001b[39mdatafile.xlsx\u001b[39;49m\u001b[39m'\u001b[39;49m)\n\u001b[0;32m      <a href='vscode-notebook-cell:/c%3A/Users/User/Documents/GitHub/Project1/project%201/OOProgram/Revision.ipynb#W4sZmlsZQ%3D%3D?line=3'>4</a>\u001b[0m \u001b[39mprint\u001b[39m(file)\n\u001b[0;32m      <a href='vscode-notebook-cell:/c%3A/Users/User/Documents/GitHub/Project1/project%201/OOProgram/Revision.ipynb#W4sZmlsZQ%3D%3D?line=5'>6</a>\u001b[0m \u001b[39m# Read csv file\u001b[39;00m\n",
      "File \u001b[1;32mc:\\Users\\User\\AppData\\Local\\Programs\\Python\\Python311\\Lib\\site-packages\\pandas\\io\\excel\\_base.py:478\u001b[0m, in \u001b[0;36mread_excel\u001b[1;34m(io, sheet_name, header, names, index_col, usecols, dtype, engine, converters, true_values, false_values, skiprows, nrows, na_values, keep_default_na, na_filter, verbose, parse_dates, date_parser, date_format, thousands, decimal, comment, skipfooter, storage_options, dtype_backend)\u001b[0m\n\u001b[0;32m    476\u001b[0m \u001b[39mif\u001b[39;00m \u001b[39mnot\u001b[39;00m \u001b[39misinstance\u001b[39m(io, ExcelFile):\n\u001b[0;32m    477\u001b[0m     should_close \u001b[39m=\u001b[39m \u001b[39mTrue\u001b[39;00m\n\u001b[1;32m--> 478\u001b[0m     io \u001b[39m=\u001b[39m ExcelFile(io, storage_options\u001b[39m=\u001b[39;49mstorage_options, engine\u001b[39m=\u001b[39;49mengine)\n\u001b[0;32m    479\u001b[0m \u001b[39melif\u001b[39;00m engine \u001b[39mand\u001b[39;00m engine \u001b[39m!=\u001b[39m io\u001b[39m.\u001b[39mengine:\n\u001b[0;32m    480\u001b[0m     \u001b[39mraise\u001b[39;00m \u001b[39mValueError\u001b[39;00m(\n\u001b[0;32m    481\u001b[0m         \u001b[39m\"\u001b[39m\u001b[39mEngine should not be specified when passing \u001b[39m\u001b[39m\"\u001b[39m\n\u001b[0;32m    482\u001b[0m         \u001b[39m\"\u001b[39m\u001b[39man ExcelFile - ExcelFile already has the engine set\u001b[39m\u001b[39m\"\u001b[39m\n\u001b[0;32m    483\u001b[0m     )\n",
      "File \u001b[1;32mc:\\Users\\User\\AppData\\Local\\Programs\\Python\\Python311\\Lib\\site-packages\\pandas\\io\\excel\\_base.py:1496\u001b[0m, in \u001b[0;36mExcelFile.__init__\u001b[1;34m(self, path_or_buffer, engine, storage_options)\u001b[0m\n\u001b[0;32m   1494\u001b[0m     ext \u001b[39m=\u001b[39m \u001b[39m\"\u001b[39m\u001b[39mxls\u001b[39m\u001b[39m\"\u001b[39m\n\u001b[0;32m   1495\u001b[0m \u001b[39melse\u001b[39;00m:\n\u001b[1;32m-> 1496\u001b[0m     ext \u001b[39m=\u001b[39m inspect_excel_format(\n\u001b[0;32m   1497\u001b[0m         content_or_path\u001b[39m=\u001b[39;49mpath_or_buffer, storage_options\u001b[39m=\u001b[39;49mstorage_options\n\u001b[0;32m   1498\u001b[0m     )\n\u001b[0;32m   1499\u001b[0m     \u001b[39mif\u001b[39;00m ext \u001b[39mis\u001b[39;00m \u001b[39mNone\u001b[39;00m:\n\u001b[0;32m   1500\u001b[0m         \u001b[39mraise\u001b[39;00m \u001b[39mValueError\u001b[39;00m(\n\u001b[0;32m   1501\u001b[0m             \u001b[39m\"\u001b[39m\u001b[39mExcel file format cannot be determined, you must specify \u001b[39m\u001b[39m\"\u001b[39m\n\u001b[0;32m   1502\u001b[0m             \u001b[39m\"\u001b[39m\u001b[39man engine manually.\u001b[39m\u001b[39m\"\u001b[39m\n\u001b[0;32m   1503\u001b[0m         )\n",
      "File \u001b[1;32mc:\\Users\\User\\AppData\\Local\\Programs\\Python\\Python311\\Lib\\site-packages\\pandas\\io\\excel\\_base.py:1371\u001b[0m, in \u001b[0;36minspect_excel_format\u001b[1;34m(content_or_path, storage_options)\u001b[0m\n\u001b[0;32m   1368\u001b[0m \u001b[39mif\u001b[39;00m \u001b[39misinstance\u001b[39m(content_or_path, \u001b[39mbytes\u001b[39m):\n\u001b[0;32m   1369\u001b[0m     content_or_path \u001b[39m=\u001b[39m BytesIO(content_or_path)\n\u001b[1;32m-> 1371\u001b[0m \u001b[39mwith\u001b[39;00m get_handle(\n\u001b[0;32m   1372\u001b[0m     content_or_path, \u001b[39m\"\u001b[39;49m\u001b[39mrb\u001b[39;49m\u001b[39m\"\u001b[39;49m, storage_options\u001b[39m=\u001b[39;49mstorage_options, is_text\u001b[39m=\u001b[39;49m\u001b[39mFalse\u001b[39;49;00m\n\u001b[0;32m   1373\u001b[0m ) \u001b[39mas\u001b[39;00m handle:\n\u001b[0;32m   1374\u001b[0m     stream \u001b[39m=\u001b[39m handle\u001b[39m.\u001b[39mhandle\n\u001b[0;32m   1375\u001b[0m     stream\u001b[39m.\u001b[39mseek(\u001b[39m0\u001b[39m)\n",
      "File \u001b[1;32mc:\\Users\\User\\AppData\\Local\\Programs\\Python\\Python311\\Lib\\site-packages\\pandas\\io\\common.py:868\u001b[0m, in \u001b[0;36mget_handle\u001b[1;34m(path_or_buf, mode, encoding, compression, memory_map, is_text, errors, storage_options)\u001b[0m\n\u001b[0;32m    859\u001b[0m         handle \u001b[39m=\u001b[39m \u001b[39mopen\u001b[39m(\n\u001b[0;32m    860\u001b[0m             handle,\n\u001b[0;32m    861\u001b[0m             ioargs\u001b[39m.\u001b[39mmode,\n\u001b[1;32m   (...)\u001b[0m\n\u001b[0;32m    864\u001b[0m             newline\u001b[39m=\u001b[39m\u001b[39m\"\u001b[39m\u001b[39m\"\u001b[39m,\n\u001b[0;32m    865\u001b[0m         )\n\u001b[0;32m    866\u001b[0m     \u001b[39melse\u001b[39;00m:\n\u001b[0;32m    867\u001b[0m         \u001b[39m# Binary mode\u001b[39;00m\n\u001b[1;32m--> 868\u001b[0m         handle \u001b[39m=\u001b[39m \u001b[39mopen\u001b[39;49m(handle, ioargs\u001b[39m.\u001b[39;49mmode)\n\u001b[0;32m    869\u001b[0m     handles\u001b[39m.\u001b[39mappend(handle)\n\u001b[0;32m    871\u001b[0m \u001b[39m# Convert BytesIO or file objects passed with an encoding\u001b[39;00m\n",
      "\u001b[1;31mFileNotFoundError\u001b[0m: [Errno 2] No such file or directory: 'datafile.xlsx'"
     ]
    }
   ],
   "source": [
    "# Read xls file\n",
    "import pandas as pd\n",
    "file = pd.read_excel('datafile.xlsx')\n",
    "print(file)\n",
    "\n",
    "# Read csv file\n",
    "import pandas as pd\n",
    "file = pd.read_csv('datafile.csv')\n",
    "print(file)"
   ]
  },
  {
   "cell_type": "markdown",
   "metadata": {},
   "source": [
    "#### Function"
   ]
  },
  {
   "cell_type": "code",
   "execution_count": null,
   "metadata": {},
   "outputs": [
    {
     "name": "stdout",
     "output_type": "stream",
     "text": [
      "6\n"
     ]
    }
   ],
   "source": [
    "def myfunction(data1, data2): # 2 parameters\n",
    "    return(data1 + data2)\n",
    "AA = myfunction(2,4)\n",
    "print(AA)"
   ]
  },
  {
   "cell_type": "markdown",
   "metadata": {},
   "source": [
    "#### For Loop"
   ]
  },
  {
   "cell_type": "code",
   "execution_count": null,
   "metadata": {},
   "outputs": [
    {
     "name": "stdout",
     "output_type": "stream",
     "text": [
      "4\n",
      "6\n",
      "8\n"
     ]
    }
   ],
   "source": [
    "AA = [4,6,8]\n",
    "for x in AA:\n",
    "    print(x)"
   ]
  },
  {
   "cell_type": "code",
   "execution_count": null,
   "metadata": {},
   "outputs": [
    {
     "name": "stdout",
     "output_type": "stream",
     "text": [
      "jon 55\n",
      "mary 65\n",
      "dav 60\n",
      "total people 3\n"
     ]
    }
   ],
   "source": [
    "# R2\n",
    "# Example of for loop with enumerate\n",
    "AA={'jon':55,'mary':65,'dav':60}\n",
    "# enumerate (input,count start)\n",
    "for count, a in enumerate(AA,1):\n",
    "    print(a,AA[a])\n",
    "print('total people',count)"
   ]
  },
  {
   "cell_type": "markdown",
   "metadata": {},
   "source": [
    "#### Plot"
   ]
  },
  {
   "cell_type": "code",
   "execution_count": null,
   "metadata": {},
   "outputs": [
    {
     "data": {
      "application/vnd.plotly.v1+json": {
       "config": {
        "plotlyServerURL": "https://plot.ly"
       },
       "data": [
        {
         "hovertemplate": "smoker=No<br>total_bill=%{x}<br>tip=%{y}<extra></extra>",
         "legendgroup": "No",
         "marker": {
          "color": "#636efa",
          "symbol": "circle"
         },
         "mode": "markers",
         "name": "No",
         "orientation": "v",
         "showlegend": true,
         "type": "scatter",
         "x": [
          16.99,
          10.34,
          21.01,
          23.68,
          24.59,
          25.29,
          8.77,
          26.88,
          15.04,
          14.78,
          10.27,
          35.26,
          15.42,
          18.43,
          14.83,
          21.58,
          10.33,
          16.29,
          16.97,
          20.65,
          17.92,
          20.29,
          15.77,
          39.42,
          19.82,
          17.81,
          13.37,
          12.69,
          21.7,
          19.65,
          9.55,
          18.35,
          15.06,
          20.69,
          17.78,
          24.06,
          16.31,
          16.93,
          18.69,
          31.27,
          16.04,
          17.46,
          13.94,
          9.68,
          30.4,
          18.29,
          22.23,
          32.4,
          28.55,
          18.04,
          12.54,
          10.29,
          34.81,
          9.94,
          25.56,
          19.49,
          26.41,
          48.27,
          17.59,
          20.08,
          16.45,
          20.23,
          12.02,
          17.07,
          14.73,
          10.51,
          27.2,
          22.76,
          17.29,
          16.66,
          10.07,
          15.98,
          34.83,
          13.03,
          18.28,
          24.71,
          21.16,
          22.49,
          22.75,
          12.46,
          20.92,
          18.24,
          14,
          7.25,
          38.07,
          23.95,
          25.71,
          17.31,
          29.93,
          10.65,
          12.43,
          24.08,
          11.69,
          13.42,
          14.26,
          15.95,
          12.48,
          29.8,
          8.52,
          14.52,
          11.38,
          22.82,
          19.08,
          20.27,
          11.17,
          12.26,
          18.26,
          8.51,
          10.33,
          14.15,
          13.16,
          17.47,
          34.3,
          41.19,
          27.05,
          16.43,
          8.35,
          18.64,
          11.87,
          9.78,
          7.51,
          14.07,
          13.13,
          17.26,
          24.55,
          19.77,
          29.85,
          48.17,
          25,
          13.39,
          16.49,
          21.5,
          12.66,
          16.21,
          13.81,
          24.52,
          20.76,
          31.71,
          20.69,
          7.56,
          48.33,
          15.98,
          20.45,
          13.28,
          11.61,
          10.77,
          10.07,
          35.83,
          29.03,
          17.82,
          18.78
         ],
         "xaxis": "x",
         "y": [
          1.01,
          1.66,
          3.5,
          3.31,
          3.61,
          4.71,
          2,
          3.12,
          1.96,
          3.23,
          1.71,
          5,
          1.57,
          3,
          3.02,
          3.92,
          1.67,
          3.71,
          3.5,
          3.35,
          4.08,
          2.75,
          2.23,
          7.58,
          3.18,
          2.34,
          2,
          2,
          4.3,
          3,
          1.45,
          2.5,
          3,
          2.45,
          3.27,
          3.6,
          2,
          3.07,
          2.31,
          5,
          2.24,
          2.54,
          3.06,
          1.32,
          5.6,
          3,
          5,
          6,
          2.05,
          3,
          2.5,
          2.6,
          5.2,
          1.56,
          4.34,
          3.51,
          1.5,
          6.73,
          2.64,
          3.15,
          2.47,
          2.01,
          1.97,
          3,
          2.2,
          1.25,
          4,
          3,
          2.71,
          3.4,
          1.83,
          2.03,
          5.17,
          2,
          4,
          5.85,
          3,
          3.5,
          3.25,
          1.5,
          4.08,
          3.76,
          3,
          1,
          4,
          2.55,
          4,
          3.5,
          5.07,
          1.5,
          1.8,
          2.92,
          2.31,
          1.68,
          2.5,
          2,
          2.52,
          4.2,
          1.48,
          2,
          2,
          2.18,
          1.5,
          2.83,
          1.5,
          2,
          3.25,
          1.25,
          2,
          2,
          2.75,
          3.5,
          6.7,
          5,
          5,
          2.3,
          1.5,
          1.36,
          1.63,
          1.73,
          2,
          2.5,
          2,
          2.74,
          2,
          2,
          5.14,
          5,
          3.75,
          2.61,
          2,
          3.5,
          2.5,
          2,
          2,
          3.48,
          2.24,
          4.5,
          5,
          1.44,
          9,
          3,
          3,
          2.72,
          3.39,
          1.47,
          1.25,
          4.67,
          5.92,
          1.75,
          3
         ],
         "yaxis": "y"
        },
        {
         "hovertemplate": "smoker=Yes<br>total_bill=%{x}<br>tip=%{y}<extra></extra>",
         "legendgroup": "Yes",
         "marker": {
          "color": "#EF553B",
          "symbol": "circle"
         },
         "mode": "markers",
         "name": "Yes",
         "orientation": "v",
         "showlegend": true,
         "type": "scatter",
         "x": [
          38.01,
          11.24,
          20.29,
          13.81,
          11.02,
          18.29,
          3.07,
          15.01,
          26.86,
          25.28,
          17.92,
          19.44,
          32.68,
          28.97,
          5.75,
          16.32,
          40.17,
          27.28,
          12.03,
          21.01,
          11.35,
          15.38,
          44.3,
          22.42,
          15.36,
          20.49,
          25.21,
          14.31,
          16,
          17.51,
          10.59,
          10.63,
          50.81,
          15.81,
          7.25,
          31.85,
          16.82,
          32.9,
          17.89,
          14.48,
          9.6,
          34.63,
          34.65,
          23.33,
          45.35,
          23.17,
          40.55,
          20.9,
          30.46,
          18.15,
          23.1,
          15.69,
          19.81,
          28.44,
          15.48,
          16.58,
          10.34,
          43.11,
          13,
          13.51,
          18.71,
          12.74,
          13,
          16.4,
          20.53,
          16.47,
          26.59,
          38.73,
          24.27,
          12.76,
          30.06,
          25.89,
          13.27,
          28.17,
          12.9,
          28.15,
          11.59,
          7.74,
          30.14,
          12.16,
          13.42,
          8.58,
          13.42,
          16.27,
          10.09,
          22.12,
          24.01,
          15.69,
          15.53,
          12.6,
          32.83,
          27.18,
          22.67
         ],
         "xaxis": "x",
         "y": [
          3,
          1.76,
          3.21,
          2,
          1.98,
          3.76,
          1,
          2.09,
          3.14,
          5,
          3.08,
          3,
          5,
          3,
          1,
          4.3,
          4.73,
          4,
          1.5,
          3,
          2.5,
          3,
          2.5,
          3.48,
          1.64,
          4.06,
          4.29,
          4,
          2,
          3,
          1.61,
          2,
          10,
          3.16,
          5.15,
          3.18,
          4,
          3.11,
          2,
          2,
          4,
          3.55,
          3.68,
          5.65,
          3.5,
          6.5,
          3,
          3.5,
          2,
          3.5,
          4,
          1.5,
          4.19,
          2.56,
          2.02,
          4,
          2,
          5,
          2,
          2,
          4,
          2.01,
          2,
          2.5,
          4,
          3.23,
          3.41,
          3,
          2.03,
          2.23,
          2,
          5.16,
          2.5,
          6.5,
          1.1,
          3,
          1.5,
          1.44,
          3.09,
          2.2,
          3.48,
          1.92,
          1.58,
          2.5,
          2,
          2.88,
          2,
          3,
          3,
          1,
          1.17,
          2,
          2
         ],
         "yaxis": "y"
        }
       ],
       "layout": {
        "legend": {
         "title": {
          "text": "smoker"
         },
         "tracegroupgap": 0
        },
        "template": {
         "data": {
          "bar": [
           {
            "error_x": {
             "color": "#2a3f5f"
            },
            "error_y": {
             "color": "#2a3f5f"
            },
            "marker": {
             "line": {
              "color": "#E5ECF6",
              "width": 0.5
             },
             "pattern": {
              "fillmode": "overlay",
              "size": 10,
              "solidity": 0.2
             }
            },
            "type": "bar"
           }
          ],
          "barpolar": [
           {
            "marker": {
             "line": {
              "color": "#E5ECF6",
              "width": 0.5
             },
             "pattern": {
              "fillmode": "overlay",
              "size": 10,
              "solidity": 0.2
             }
            },
            "type": "barpolar"
           }
          ],
          "carpet": [
           {
            "aaxis": {
             "endlinecolor": "#2a3f5f",
             "gridcolor": "white",
             "linecolor": "white",
             "minorgridcolor": "white",
             "startlinecolor": "#2a3f5f"
            },
            "baxis": {
             "endlinecolor": "#2a3f5f",
             "gridcolor": "white",
             "linecolor": "white",
             "minorgridcolor": "white",
             "startlinecolor": "#2a3f5f"
            },
            "type": "carpet"
           }
          ],
          "choropleth": [
           {
            "colorbar": {
             "outlinewidth": 0,
             "ticks": ""
            },
            "type": "choropleth"
           }
          ],
          "contour": [
           {
            "colorbar": {
             "outlinewidth": 0,
             "ticks": ""
            },
            "colorscale": [
             [
              0,
              "#0d0887"
             ],
             [
              0.1111111111111111,
              "#46039f"
             ],
             [
              0.2222222222222222,
              "#7201a8"
             ],
             [
              0.3333333333333333,
              "#9c179e"
             ],
             [
              0.4444444444444444,
              "#bd3786"
             ],
             [
              0.5555555555555556,
              "#d8576b"
             ],
             [
              0.6666666666666666,
              "#ed7953"
             ],
             [
              0.7777777777777778,
              "#fb9f3a"
             ],
             [
              0.8888888888888888,
              "#fdca26"
             ],
             [
              1,
              "#f0f921"
             ]
            ],
            "type": "contour"
           }
          ],
          "contourcarpet": [
           {
            "colorbar": {
             "outlinewidth": 0,
             "ticks": ""
            },
            "type": "contourcarpet"
           }
          ],
          "heatmap": [
           {
            "colorbar": {
             "outlinewidth": 0,
             "ticks": ""
            },
            "colorscale": [
             [
              0,
              "#0d0887"
             ],
             [
              0.1111111111111111,
              "#46039f"
             ],
             [
              0.2222222222222222,
              "#7201a8"
             ],
             [
              0.3333333333333333,
              "#9c179e"
             ],
             [
              0.4444444444444444,
              "#bd3786"
             ],
             [
              0.5555555555555556,
              "#d8576b"
             ],
             [
              0.6666666666666666,
              "#ed7953"
             ],
             [
              0.7777777777777778,
              "#fb9f3a"
             ],
             [
              0.8888888888888888,
              "#fdca26"
             ],
             [
              1,
              "#f0f921"
             ]
            ],
            "type": "heatmap"
           }
          ],
          "heatmapgl": [
           {
            "colorbar": {
             "outlinewidth": 0,
             "ticks": ""
            },
            "colorscale": [
             [
              0,
              "#0d0887"
             ],
             [
              0.1111111111111111,
              "#46039f"
             ],
             [
              0.2222222222222222,
              "#7201a8"
             ],
             [
              0.3333333333333333,
              "#9c179e"
             ],
             [
              0.4444444444444444,
              "#bd3786"
             ],
             [
              0.5555555555555556,
              "#d8576b"
             ],
             [
              0.6666666666666666,
              "#ed7953"
             ],
             [
              0.7777777777777778,
              "#fb9f3a"
             ],
             [
              0.8888888888888888,
              "#fdca26"
             ],
             [
              1,
              "#f0f921"
             ]
            ],
            "type": "heatmapgl"
           }
          ],
          "histogram": [
           {
            "marker": {
             "pattern": {
              "fillmode": "overlay",
              "size": 10,
              "solidity": 0.2
             }
            },
            "type": "histogram"
           }
          ],
          "histogram2d": [
           {
            "colorbar": {
             "outlinewidth": 0,
             "ticks": ""
            },
            "colorscale": [
             [
              0,
              "#0d0887"
             ],
             [
              0.1111111111111111,
              "#46039f"
             ],
             [
              0.2222222222222222,
              "#7201a8"
             ],
             [
              0.3333333333333333,
              "#9c179e"
             ],
             [
              0.4444444444444444,
              "#bd3786"
             ],
             [
              0.5555555555555556,
              "#d8576b"
             ],
             [
              0.6666666666666666,
              "#ed7953"
             ],
             [
              0.7777777777777778,
              "#fb9f3a"
             ],
             [
              0.8888888888888888,
              "#fdca26"
             ],
             [
              1,
              "#f0f921"
             ]
            ],
            "type": "histogram2d"
           }
          ],
          "histogram2dcontour": [
           {
            "colorbar": {
             "outlinewidth": 0,
             "ticks": ""
            },
            "colorscale": [
             [
              0,
              "#0d0887"
             ],
             [
              0.1111111111111111,
              "#46039f"
             ],
             [
              0.2222222222222222,
              "#7201a8"
             ],
             [
              0.3333333333333333,
              "#9c179e"
             ],
             [
              0.4444444444444444,
              "#bd3786"
             ],
             [
              0.5555555555555556,
              "#d8576b"
             ],
             [
              0.6666666666666666,
              "#ed7953"
             ],
             [
              0.7777777777777778,
              "#fb9f3a"
             ],
             [
              0.8888888888888888,
              "#fdca26"
             ],
             [
              1,
              "#f0f921"
             ]
            ],
            "type": "histogram2dcontour"
           }
          ],
          "mesh3d": [
           {
            "colorbar": {
             "outlinewidth": 0,
             "ticks": ""
            },
            "type": "mesh3d"
           }
          ],
          "parcoords": [
           {
            "line": {
             "colorbar": {
              "outlinewidth": 0,
              "ticks": ""
             }
            },
            "type": "parcoords"
           }
          ],
          "pie": [
           {
            "automargin": true,
            "type": "pie"
           }
          ],
          "scatter": [
           {
            "fillpattern": {
             "fillmode": "overlay",
             "size": 10,
             "solidity": 0.2
            },
            "type": "scatter"
           }
          ],
          "scatter3d": [
           {
            "line": {
             "colorbar": {
              "outlinewidth": 0,
              "ticks": ""
             }
            },
            "marker": {
             "colorbar": {
              "outlinewidth": 0,
              "ticks": ""
             }
            },
            "type": "scatter3d"
           }
          ],
          "scattercarpet": [
           {
            "marker": {
             "colorbar": {
              "outlinewidth": 0,
              "ticks": ""
             }
            },
            "type": "scattercarpet"
           }
          ],
          "scattergeo": [
           {
            "marker": {
             "colorbar": {
              "outlinewidth": 0,
              "ticks": ""
             }
            },
            "type": "scattergeo"
           }
          ],
          "scattergl": [
           {
            "marker": {
             "colorbar": {
              "outlinewidth": 0,
              "ticks": ""
             }
            },
            "type": "scattergl"
           }
          ],
          "scattermapbox": [
           {
            "marker": {
             "colorbar": {
              "outlinewidth": 0,
              "ticks": ""
             }
            },
            "type": "scattermapbox"
           }
          ],
          "scatterpolar": [
           {
            "marker": {
             "colorbar": {
              "outlinewidth": 0,
              "ticks": ""
             }
            },
            "type": "scatterpolar"
           }
          ],
          "scatterpolargl": [
           {
            "marker": {
             "colorbar": {
              "outlinewidth": 0,
              "ticks": ""
             }
            },
            "type": "scatterpolargl"
           }
          ],
          "scatterternary": [
           {
            "marker": {
             "colorbar": {
              "outlinewidth": 0,
              "ticks": ""
             }
            },
            "type": "scatterternary"
           }
          ],
          "surface": [
           {
            "colorbar": {
             "outlinewidth": 0,
             "ticks": ""
            },
            "colorscale": [
             [
              0,
              "#0d0887"
             ],
             [
              0.1111111111111111,
              "#46039f"
             ],
             [
              0.2222222222222222,
              "#7201a8"
             ],
             [
              0.3333333333333333,
              "#9c179e"
             ],
             [
              0.4444444444444444,
              "#bd3786"
             ],
             [
              0.5555555555555556,
              "#d8576b"
             ],
             [
              0.6666666666666666,
              "#ed7953"
             ],
             [
              0.7777777777777778,
              "#fb9f3a"
             ],
             [
              0.8888888888888888,
              "#fdca26"
             ],
             [
              1,
              "#f0f921"
             ]
            ],
            "type": "surface"
           }
          ],
          "table": [
           {
            "cells": {
             "fill": {
              "color": "#EBF0F8"
             },
             "line": {
              "color": "white"
             }
            },
            "header": {
             "fill": {
              "color": "#C8D4E3"
             },
             "line": {
              "color": "white"
             }
            },
            "type": "table"
           }
          ]
         },
         "layout": {
          "annotationdefaults": {
           "arrowcolor": "#2a3f5f",
           "arrowhead": 0,
           "arrowwidth": 1
          },
          "autotypenumbers": "strict",
          "coloraxis": {
           "colorbar": {
            "outlinewidth": 0,
            "ticks": ""
           }
          },
          "colorscale": {
           "diverging": [
            [
             0,
             "#8e0152"
            ],
            [
             0.1,
             "#c51b7d"
            ],
            [
             0.2,
             "#de77ae"
            ],
            [
             0.3,
             "#f1b6da"
            ],
            [
             0.4,
             "#fde0ef"
            ],
            [
             0.5,
             "#f7f7f7"
            ],
            [
             0.6,
             "#e6f5d0"
            ],
            [
             0.7,
             "#b8e186"
            ],
            [
             0.8,
             "#7fbc41"
            ],
            [
             0.9,
             "#4d9221"
            ],
            [
             1,
             "#276419"
            ]
           ],
           "sequential": [
            [
             0,
             "#0d0887"
            ],
            [
             0.1111111111111111,
             "#46039f"
            ],
            [
             0.2222222222222222,
             "#7201a8"
            ],
            [
             0.3333333333333333,
             "#9c179e"
            ],
            [
             0.4444444444444444,
             "#bd3786"
            ],
            [
             0.5555555555555556,
             "#d8576b"
            ],
            [
             0.6666666666666666,
             "#ed7953"
            ],
            [
             0.7777777777777778,
             "#fb9f3a"
            ],
            [
             0.8888888888888888,
             "#fdca26"
            ],
            [
             1,
             "#f0f921"
            ]
           ],
           "sequentialminus": [
            [
             0,
             "#0d0887"
            ],
            [
             0.1111111111111111,
             "#46039f"
            ],
            [
             0.2222222222222222,
             "#7201a8"
            ],
            [
             0.3333333333333333,
             "#9c179e"
            ],
            [
             0.4444444444444444,
             "#bd3786"
            ],
            [
             0.5555555555555556,
             "#d8576b"
            ],
            [
             0.6666666666666666,
             "#ed7953"
            ],
            [
             0.7777777777777778,
             "#fb9f3a"
            ],
            [
             0.8888888888888888,
             "#fdca26"
            ],
            [
             1,
             "#f0f921"
            ]
           ]
          },
          "colorway": [
           "#636efa",
           "#EF553B",
           "#00cc96",
           "#ab63fa",
           "#FFA15A",
           "#19d3f3",
           "#FF6692",
           "#B6E880",
           "#FF97FF",
           "#FECB52"
          ],
          "font": {
           "color": "#2a3f5f"
          },
          "geo": {
           "bgcolor": "white",
           "lakecolor": "white",
           "landcolor": "#E5ECF6",
           "showlakes": true,
           "showland": true,
           "subunitcolor": "white"
          },
          "hoverlabel": {
           "align": "left"
          },
          "hovermode": "closest",
          "mapbox": {
           "style": "light"
          },
          "paper_bgcolor": "white",
          "plot_bgcolor": "#E5ECF6",
          "polar": {
           "angularaxis": {
            "gridcolor": "white",
            "linecolor": "white",
            "ticks": ""
           },
           "bgcolor": "#E5ECF6",
           "radialaxis": {
            "gridcolor": "white",
            "linecolor": "white",
            "ticks": ""
           }
          },
          "scene": {
           "xaxis": {
            "backgroundcolor": "#E5ECF6",
            "gridcolor": "white",
            "gridwidth": 2,
            "linecolor": "white",
            "showbackground": true,
            "ticks": "",
            "zerolinecolor": "white"
           },
           "yaxis": {
            "backgroundcolor": "#E5ECF6",
            "gridcolor": "white",
            "gridwidth": 2,
            "linecolor": "white",
            "showbackground": true,
            "ticks": "",
            "zerolinecolor": "white"
           },
           "zaxis": {
            "backgroundcolor": "#E5ECF6",
            "gridcolor": "white",
            "gridwidth": 2,
            "linecolor": "white",
            "showbackground": true,
            "ticks": "",
            "zerolinecolor": "white"
           }
          },
          "shapedefaults": {
           "line": {
            "color": "#2a3f5f"
           }
          },
          "ternary": {
           "aaxis": {
            "gridcolor": "white",
            "linecolor": "white",
            "ticks": ""
           },
           "baxis": {
            "gridcolor": "white",
            "linecolor": "white",
            "ticks": ""
           },
           "bgcolor": "#E5ECF6",
           "caxis": {
            "gridcolor": "white",
            "linecolor": "white",
            "ticks": ""
           }
          },
          "title": {
           "x": 0.05
          },
          "xaxis": {
           "automargin": true,
           "gridcolor": "white",
           "linecolor": "white",
           "ticks": "",
           "title": {
            "standoff": 15
           },
           "zerolinecolor": "white",
           "zerolinewidth": 2
          },
          "yaxis": {
           "automargin": true,
           "gridcolor": "white",
           "linecolor": "white",
           "ticks": "",
           "title": {
            "standoff": 15
           },
           "zerolinecolor": "white",
           "zerolinewidth": 2
          }
         }
        },
        "title": {
         "text": "title"
        },
        "xaxis": {
         "anchor": "y",
         "domain": [
          0,
          1
         ],
         "title": {
          "text": "total_bill"
         }
        },
        "yaxis": {
         "anchor": "x",
         "domain": [
          0,
          1
         ],
         "title": {
          "text": "tip"
         }
        }
       }
      }
     },
     "metadata": {},
     "output_type": "display_data"
    }
   ],
   "source": [
    "# Plotly scatter plot\n",
    "import plotly.express as px\n",
    "df = px.data.tips()\n",
    "fig = px.scatter(df, x='total_bill', y = 'tip',\n",
    "                 color = 'smoker',title='title')\n",
    "fig.show()"
   ]
  },
  {
   "cell_type": "code",
   "execution_count": 9,
   "metadata": {},
   "outputs": [
    {
     "ename": "TypeError",
     "evalue": "regplot() takes from 0 to 1 positional arguments but 3 were given",
     "output_type": "error",
     "traceback": [
      "\u001b[1;31m---------------------------------------------------------------------------\u001b[0m",
      "\u001b[1;31mTypeError\u001b[0m                                 Traceback (most recent call last)",
      "\u001b[1;32mc:\\Users\\User\\Documents\\GitHub\\Project1\\project 1\\OOProgram\\Revision.ipynb Cell 13\u001b[0m line \u001b[0;36m5\n\u001b[0;32m      <a href='vscode-notebook-cell:/c%3A/Users/User/Documents/GitHub/Project1/project%201/OOProgram/Revision.ipynb#X15sZmlsZQ%3D%3D?line=2'>3</a>\u001b[0m file \u001b[39m=\u001b[39m sns\u001b[39m.\u001b[39mload_dataset(\u001b[39m'\u001b[39m\u001b[39mtips\u001b[39m\u001b[39m'\u001b[39m)\n\u001b[0;32m      <a href='vscode-notebook-cell:/c%3A/Users/User/Documents/GitHub/Project1/project%201/OOProgram/Revision.ipynb#X15sZmlsZQ%3D%3D?line=3'>4</a>\u001b[0m sns\u001b[39m.\u001b[39mregplot(data\u001b[39m=\u001b[39mfile, x\u001b[39m=\u001b[39m\u001b[39m'\u001b[39m\u001b[39mtotal_bill\u001b[39m\u001b[39m'\u001b[39m, y\u001b[39m=\u001b[39m\u001b[39m'\u001b[39m\u001b[39mtip\u001b[39m\u001b[39m'\u001b[39m)\n\u001b[1;32m----> <a href='vscode-notebook-cell:/c%3A/Users/User/Documents/GitHub/Project1/project%201/OOProgram/Revision.ipynb#X15sZmlsZQ%3D%3D?line=4'>5</a>\u001b[0m sns\u001b[39m.\u001b[39;49mregplot(file, \u001b[39m'\u001b[39;49m\u001b[39mtotal_bill\u001b[39;49m\u001b[39m'\u001b[39;49m,\u001b[39m'\u001b[39;49m\u001b[39mtip\u001b[39;49m\u001b[39m'\u001b[39;49m)\n",
      "\u001b[1;31mTypeError\u001b[0m: regplot() takes from 0 to 1 positional arguments but 3 were given"
     ]
    },
    {
     "data": {
      "image/png": "[encoded data removed]",
      "text/plain": [
       "<Figure size 640x480 with 1 Axes>"
      ]
     },
     "metadata": {},
     "output_type": "display_data"
    }
   ],
   "source": [
    "# seaborn plot \n",
    "import seaborn as sns\n",
    "file = sns.load_dataset('tips')\n",
    "sns.regplot(data=file, x='total_bill', y='tip')\n",
    "sns.regplot(file, 'total_bill','tip')"
   ]
  },
  {
   "cell_type": "code",
   "execution_count": 12,
   "metadata": {},
   "outputs": [
    {
     "data": {
      "text/plain": [
       "<Axes: >"
      ]
     },
     "execution_count": 12,
     "metadata": {},
     "output_type": "execute_result"
    },
    {
     "data": {
      "image/png": "[encoded data removed]",
      "text/plain": [
       "<Figure size 640x480 with 1 Axes>"
      ]
     },
     "metadata": {},
     "output_type": "display_data"
    }
   ],
   "source": [
    "# R3\n",
    "import seaborn as sns\n",
    "sns.lineplot(file)"
   ]
  },
  {
   "cell_type": "code",
   "execution_count": null,
   "metadata": {},
   "outputs": [
    {
     "data": {
      "image/png": "[encoded data removed]",
      "text/plain": [
       "<Figure size 640x480 with 1 Axes>"
      ]
     },
     "metadata": {},
     "output_type": "display_data"
    }
   ],
   "source": [
    "# matplotlib\n",
    "import matplotlib.pyplot as plt\n",
    "rooms = ['A','B','C','D']\n",
    "no_2021 = [20, 34, 30, 35]\n",
    "no_2022 = [25, 32, 27, 22]\n",
    "no_2023 = [21, 22, 28, 34]\n",
    "plt.plot(rooms, no_2021, label='No. 2021')\n",
    "plt.plot(rooms, no_2022, label='No. 2022')\n",
    "plt.plot(rooms, no_2023, label='No. 2023')\n",
    "plt.legend()\n",
    "plt.show()"
   ]
  },
  {
   "cell_type": "code",
   "execution_count": null,
   "metadata": {},
   "outputs": [
    {
     "data": {
      "image/png": "[encoded data removed]",
      "text/plain": [
       "<Figure size 640x480 with 1 Axes>"
      ]
     },
     "metadata": {},
     "output_type": "display_data"
    }
   ],
   "source": [
    "# matplotlib\n",
    "import matplotlib.pyplot as plt\n",
    "import numpy as np\n",
    "ypoint = np.array([3,8,1,10])\n",
    "\n",
    "plt.plot(ypoint, 'p:r', label='ploting')\n",
    "plt.title('this is title')\n",
    "plt.xlabel('label x')\n",
    "plt.ylabel('label y')\n",
    "plt.grid(True)\n",
    "plt.legend()\n",
    "plt.show()"
   ]
  },
  {
   "cell_type": "code",
   "execution_count": null,
   "metadata": {},
   "outputs": [
    {
     "data": {
      "image/png": "[encoded data removed]",
      "text/plain": [
       "<Figure size 640x480 with 4 Axes>"
      ]
     },
     "metadata": {},
     "output_type": "display_data"
    }
   ],
   "source": [
    "# R2\n",
    "# fig , ax = plt.subplots()\n",
    "# consists of the following two assignments:\n",
    "# ax=plt.subplot()\n",
    "# fig=plt.figure()\n",
    "import matplotlib.pyplot as plt\n",
    "import numpy as np\n",
    "fig3,ax=plt.subplots(2,2)\n",
    "x1=np.random.rand(10) ; x2=np.random.rand(10)\n",
    "y1=np.random.rand(10) ; y2=np.random.rand(10)\n",
    "ax[0,0].set_title('index1');ax[0,0].plot(x1,y1)\n",
    "ax[0,1].set_title('index2');ax[0,1].plot(x2,y2)\n",
    "plt.tight_layout()\n",
    "plt.show()"
   ]
  },
  {
   "cell_type": "code",
   "execution_count": 4,
   "metadata": {},
   "outputs": [
    {
     "name": "stdout",
     "output_type": "stream",
     "text": [
      "A\n",
      "HKD    1\n",
      "USD    2\n",
      "RMB    3\n",
      "dtype: int64\n",
      "CC\n",
      "     AA  BB\n",
      "HKD   1  10\n",
      "USD   2  20\n",
      "RMB   3  30\n",
      "loc\n",
      "DD\n",
      "     AA  BB\n",
      "HKD   1  10\n"
     ]
    }
   ],
   "source": [
    "# R3\n",
    "import pandas as pd\n",
    "dollar = pd.Index(['HKD','USD','RMB'])\n",
    "A = pd.Series([1,2,3], index = dollar)\n",
    "B = pd.Series([10,20,30], index = dollar)\n",
    "CC = pd.DataFrame(data = {'AA':A,'BB':B})\n",
    "print('A')\n",
    "print(A)\n",
    "print('CC')\n",
    "print(CC)\n",
    "\n",
    "DD = CC.loc[(CC['AA']== 1) & (CC['AA'] > 0)]\n",
    "print('loc')\n",
    "print('DD')\n",
    "print(DD)\n"
   ]
  },
  {
   "cell_type": "code",
   "execution_count": 7,
   "metadata": {},
   "outputs": [
    {
     "name": "stdout",
     "output_type": "stream",
     "text": [
      "df1\n",
      "    name  age\n",
      "0  Sally   50\n",
      "1   Mary   40\n",
      "2   John   30\n",
      "df2\n",
      "    name  age  car\n",
      "0  Sally   50  Yes\n",
      "1   Pete   40  Yes\n",
      "2   Mick   30  Yes\n",
      "merged\n",
      "  name_x  age name_y  car\n",
      "0  Sally   50  Sally  Yes\n",
      "1   Mary   40   Pete  Yes\n",
      "2   John   30   Mick  Yes\n",
      "****************\n",
      "age yes car median 40.0\n",
      "Sum_all 120\n"
     ]
    }
   ],
   "source": [
    "# R1 and R3\n",
    "# .merge() two arrays\n",
    "import pandas as pd\n",
    "data1 = {'name':['Sally','Mary','John'],\n",
    "         'age':[50,40,30]}\n",
    "data2 = {'name':['Sally','Pete','Mick'],\n",
    "         'age':[50,40,30],'car':['Yes','Yes','Yes']}\n",
    "df1 = pd.DataFrame(data1)\n",
    "df2 = pd.DataFrame(data2)\n",
    "print('df1')\n",
    "print(df1)\n",
    "print('df2')\n",
    "print(df2)\n",
    "# merge 2 arrays with 'age' in common \n",
    "newdf = df1.merge(df2, on='age')\n",
    "# merge 2 arrays with 'age' in common with column \"A\",\"B\",\"C\"\n",
    "# newdf = df1.merge(df2, on='age')[['A','B','C']]\n",
    "print('merged')\n",
    "print(newdf)\n",
    "print('****************')\n",
    "print('age yes car median',newdf['age'][newdf['car']=='Yes'].median())\n",
    "# array['column'].median()\n",
    "# Sum of in an array\n",
    "Sum_all = newdf['age'].sum()\n",
    "print('Sum_all',Sum_all)"
   ]
  },
  {
   "cell_type": "markdown",
   "metadata": {},
   "source": [
    "### Plot"
   ]
  },
  {
   "cell_type": "code",
   "execution_count": 8,
   "metadata": {},
   "outputs": [
    {
     "data": {
      "application/vnd.plotly.v1+json": {
       "config": {
        "plotlyServerURL": "https://plotly.com"
       },
       "data": [
        {
         "hovertemplate": "smoker=No<br>total_bill=%{x}<br>tip=%{y}<extra></extra>",
         "legendgroup": "No",
         "marker": {
          "color": "#636efa",
          "symbol": "circle"
         },
         "mode": "markers",
         "name": "No",
         "orientation": "v",
         "showlegend": true,
         "type": "scatter",
         "x": [
          16.99,
          10.34,
          21.01,
          23.68,
          24.59,
          25.29,
          8.77,
          26.88,
          15.04,
          14.78,
          10.27,
          35.26,
          15.42,
          18.43,
          14.83,
          21.58,
          10.33,
          16.29,
          16.97,
          20.65,
          17.92,
          20.29,
          15.77,
          39.42,
          19.82,
          17.81,
          13.37,
          12.69,
          21.7,
          19.65,
          9.55,
          18.35,
          15.06,
          20.69,
          17.78,
          24.06,
          16.31,
          16.93,
          18.69,
          31.27,
          16.04,
          17.46,
          13.94,
          9.68,
          30.4,
          18.29,
          22.23,
          32.4,
          28.55,
          18.04,
          12.54,
          10.29,
          34.81,
          9.94,
          25.56,
          19.49,
          26.41,
          48.27,
          17.59,
          20.08,
          16.45,
          20.23,
          12.02,
          17.07,
          14.73,
          10.51,
          27.2,
          22.76,
          17.29,
          16.66,
          10.07,
          15.98,
          34.83,
          13.03,
          18.28,
          24.71,
          21.16,
          22.49,
          22.75,
          12.46,
          20.92,
          18.24,
          14,
          7.25,
          38.07,
          23.95,
          25.71,
          17.31,
          29.93,
          10.65,
          12.43,
          24.08,
          11.69,
          13.42,
          14.26,
          15.95,
          12.48,
          29.8,
          8.52,
          14.52,
          11.38,
          22.82,
          19.08,
          20.27,
          11.17,
          12.26,
          18.26,
          8.51,
          10.33,
          14.15,
          13.16,
          17.47,
          34.3,
          41.19,
          27.05,
          16.43,
          8.35,
          18.64,
          11.87,
          9.78,
          7.51,
          14.07,
          13.13,
          17.26,
          24.55,
          19.77,
          29.85,
          48.17,
          25,
          13.39,
          16.49,
          21.5,
          12.66,
          16.21,
          13.81,
          24.52,
          20.76,
          31.71,
          20.69,
          7.56,
          48.33,
          15.98,
          20.45,
          13.28,
          11.61,
          10.77,
          10.07,
          35.83,
          29.03,
          17.82,
          18.78
         ],
         "xaxis": "x",
         "y": [
          1.01,
          1.66,
          3.5,
          3.31,
          3.61,
          4.71,
          2,
          3.12,
          1.96,
          3.23,
          1.71,
          5,
          1.57,
          3,
          3.02,
          3.92,
          1.67,
          3.71,
          3.5,
          3.35,
          4.08,
          2.75,
          2.23,
          7.58,
          3.18,
          2.34,
          2,
          2,
          4.3,
          3,
          1.45,
          2.5,
          3,
          2.45,
          3.27,
          3.6,
          2,
          3.07,
          2.31,
          5,
          2.24,
          2.54,
          3.06,
          1.32,
          5.6,
          3,
          5,
          6,
          2.05,
          3,
          2.5,
          2.6,
          5.2,
          1.56,
          4.34,
          3.51,
          1.5,
          6.73,
          2.64,
          3.15,
          2.47,
          2.01,
          1.97,
          3,
          2.2,
          1.25,
          4,
          3,
          2.71,
          3.4,
          1.83,
          2.03,
          5.17,
          2,
          4,
          5.85,
          3,
          3.5,
          3.25,
          1.5,
          4.08,
          3.76,
          3,
          1,
          4,
          2.55,
          4,
          3.5,
          5.07,
          1.5,
          1.8,
          2.92,
          2.31,
          1.68,
          2.5,
          2,
          2.52,
          4.2,
          1.48,
          2,
          2,
          2.18,
          1.5,
          2.83,
          1.5,
          2,
          3.25,
          1.25,
          2,
          2,
          2.75,
          3.5,
          6.7,
          5,
          5,
          2.3,
          1.5,
          1.36,
          1.63,
          1.73,
          2,
          2.5,
          2,
          2.74,
          2,
          2,
          5.14,
          5,
          3.75,
          2.61,
          2,
          3.5,
          2.5,
          2,
          2,
          3.48,
          2.24,
          4.5,
          5,
          1.44,
          9,
          3,
          3,
          2.72,
          3.39,
          1.47,
          1.25,
          4.67,
          5.92,
          1.75,
          3
         ],
         "yaxis": "y"
        },
        {
         "hovertemplate": "<b>OLS trendline</b><br>tip = 0.137156 * total_bill + 0.360069<br>R<sup>2</sup>=0.675984<br><br>smoker=No<br>total_bill=%{x}<br>tip=%{y} <b>(trend)</b><extra></extra>",
         "legendgroup": "No",
         "marker": {
          "color": "#636efa",
          "symbol": "circle"
         },
         "mode": "lines",
         "name": "No",
         "showlegend": false,
         "type": "scatter",
         "x": [
          7.25,
          7.51,
          7.56,
          8.35,
          8.51,
          8.52,
          8.77,
          9.55,
          9.68,
          9.78,
          9.94,
          10.07,
          10.07,
          10.27,
          10.29,
          10.33,
          10.33,
          10.34,
          10.51,
          10.65,
          10.77,
          11.17,
          11.38,
          11.61,
          11.69,
          11.87,
          12.02,
          12.26,
          12.43,
          12.46,
          12.48,
          12.54,
          12.66,
          12.69,
          13.03,
          13.13,
          13.16,
          13.28,
          13.37,
          13.39,
          13.42,
          13.81,
          13.94,
          14,
          14.07,
          14.15,
          14.26,
          14.52,
          14.73,
          14.78,
          14.83,
          15.04,
          15.06,
          15.42,
          15.77,
          15.95,
          15.98,
          15.98,
          16.04,
          16.21,
          16.29,
          16.31,
          16.43,
          16.45,
          16.49,
          16.66,
          16.93,
          16.97,
          16.99,
          17.07,
          17.26,
          17.29,
          17.31,
          17.46,
          17.47,
          17.59,
          17.78,
          17.81,
          17.82,
          17.92,
          18.04,
          18.24,
          18.26,
          18.28,
          18.29,
          18.35,
          18.43,
          18.64,
          18.69,
          18.78,
          19.08,
          19.49,
          19.65,
          19.77,
          19.82,
          20.08,
          20.23,
          20.27,
          20.29,
          20.45,
          20.65,
          20.69,
          20.69,
          20.76,
          20.92,
          21.01,
          21.16,
          21.5,
          21.58,
          21.7,
          22.23,
          22.49,
          22.75,
          22.76,
          22.82,
          23.68,
          23.95,
          24.06,
          24.08,
          24.52,
          24.55,
          24.59,
          24.71,
          25,
          25.29,
          25.56,
          25.71,
          26.41,
          26.88,
          27.05,
          27.2,
          28.55,
          29.03,
          29.8,
          29.85,
          29.93,
          30.4,
          31.27,
          31.71,
          32.4,
          34.3,
          34.81,
          34.83,
          35.26,
          35.83,
          38.07,
          39.42,
          41.19,
          48.17,
          48.27,
          48.33
         ],
         "xaxis": "x",
         "y": [
          1.3544490152857098,
          1.3901095494126114,
          1.3969673444370154,
          1.5053205058226011,
          1.5272654499006946,
          1.5286370089055754,
          1.5629259840275962,
          1.6699075864083013,
          1.687737853471752,
          1.7014534435205602,
          1.7233983875986534,
          1.7412286546621043,
          1.7412286546621043,
          1.7686598347597209,
          1.7714029527694826,
          1.776889188789006,
          1.776889188789006,
          1.7782607477938868,
          1.8015772508768608,
          1.8207790769451926,
          1.8372377850037624,
          1.8921001451989958,
          1.9209028843014935,
          1.9524487414137524,
          1.963421213452799,
          1.988109275540654,
          2.0086826606138666,
          2.0416000767310063,
          2.0649165798139806,
          2.069031256828623,
          2.071774374838385,
          2.08000372886767,
          2.09646243692624,
          2.100577113940882,
          2.1472101201068305,
          2.160925710155639,
          2.1650403871702815,
          2.181499095228851,
          2.1938431262727787,
          2.196586244282541,
          2.200700921297183,
          2.2541917224875356,
          2.272021989550986,
          2.2802513435802716,
          2.289852256614437,
          2.3008247286534838,
          2.3159118777071726,
          2.3515724118340744,
          2.3803751509365725,
          2.3872329459609762,
          2.39409074098538,
          2.422893480087878,
          2.4256365980976398,
          2.475012722273349,
          2.523017287444178,
          2.547705349532033,
          2.551820026546676,
          2.551820026546676,
          2.560049380575961,
          2.583365883658935,
          2.5943383556979818,
          2.5970814737077434,
          2.6135401817663135,
          2.616283299776075,
          2.6217695357955986,
          2.6450860388785724,
          2.6821181320103546,
          2.687604368029878,
          2.6903474860396397,
          2.7013199580786864,
          2.727379579171423,
          2.731494256186065,
          2.7342373741958266,
          2.7548107592690396,
          2.75618231827392,
          2.77264102633249,
          2.7987006474252256,
          2.8028153244398677,
          2.804186883444749,
          2.8179024734935574,
          2.8343611815521275,
          2.8617923616497434,
          2.864535479659506,
          2.8672785976692676,
          2.868650156674148,
          2.876879510703433,
          2.88785198274248,
          2.916654721844977,
          2.9235125168693816,
          2.9358565479133087,
          2.977003318059734,
          3.033237237259848,
          3.0551821813379414,
          3.0716408893965115,
          3.0784986844209152,
          3.114159218547817,
          3.1347326036210292,
          3.1402188396405526,
          3.1429619576503143,
          3.1649069017284077,
          3.1923380818260245,
          3.197824317845548,
          3.197824317845548,
          3.207425230879714,
          3.2293701749578068,
          3.2417142060017348,
          3.262287591074947,
          3.3089205972408955,
          3.3198930692799413,
          3.3363517773385114,
          3.4090444045971955,
          3.4447049387240973,
          3.480365472850999,
          3.4817370318558805,
          3.4899663858851646,
          3.607920460304917,
          3.644952553436699,
          3.660039702490388,
          3.6627828205001496,
          3.7231314167149065,
          3.7272460937295486,
          3.732732329749072,
          3.749191037807642,
          3.788966248949186,
          3.82874146009073,
          3.865773553222513,
          3.886346938295725,
          3.982356068637384,
          4.046819341866782,
          4.070135844949757,
          4.090709230022969,
          4.275869695681882,
          4.3417045279161615,
          4.447314571291986,
          4.45417236631639,
          4.465144838355436,
          4.529608111584835,
          4.648933745009468,
          4.709282341224225,
          4.8039199125610015,
          5.064516123488359,
          5.134465632737283,
          5.137208750747044,
          5.19618578795692,
          5.274364651235127,
          5.581593868328434,
          5.766754333987346,
          6.009520277851253,
          6.966868463258074,
          6.980584053306883,
          6.988813407336167
         ],
         "yaxis": "y"
        },
        {
         "hovertemplate": "smoker=Yes<br>total_bill=%{x}<br>tip=%{y}<extra></extra>",
         "legendgroup": "Yes",
         "marker": {
          "color": "#EF553B",
          "symbol": "circle"
         },
         "mode": "markers",
         "name": "Yes",
         "orientation": "v",
         "showlegend": true,
         "type": "scatter",
         "x": [
          38.01,
          11.24,
          20.29,
          13.81,
          11.02,
          18.29,
          3.07,
          15.01,
          26.86,
          25.28,
          17.92,
          19.44,
          32.68,
          28.97,
          5.75,
          16.32,
          40.17,
          27.28,
          12.03,
          21.01,
          11.35,
          15.38,
          44.3,
          22.42,
          15.36,
          20.49,
          25.21,
          14.31,
          16,
          17.51,
          10.59,
          10.63,
          50.81,
          15.81,
          7.25,
          31.85,
          16.82,
          32.9,
          17.89,
          14.48,
          9.6,
          34.63,
          34.65,
          23.33,
          45.35,
          23.17,
          40.55,
          20.9,
          30.46,
          18.15,
          23.1,
          15.69,
          19.81,
          28.44,
          15.48,
          16.58,
          10.34,
          43.11,
          13,
          13.51,
          18.71,
          12.74,
          13,
          16.4,
          20.53,
          16.47,
          26.59,
          38.73,
          24.27,
          12.76,
          30.06,
          25.89,
          13.27,
          28.17,
          12.9,
          28.15,
          11.59,
          7.74,
          30.14,
          12.16,
          13.42,
          8.58,
          13.42,
          16.27,
          10.09,
          22.12,
          24.01,
          15.69,
          15.53,
          12.6,
          32.83,
          27.18,
          22.67
         ],
         "xaxis": "x",
         "y": [
          3,
          1.76,
          3.21,
          2,
          1.98,
          3.76,
          1,
          2.09,
          3.14,
          5,
          3.08,
          3,
          5,
          3,
          1,
          4.3,
          4.73,
          4,
          1.5,
          3,
          2.5,
          3,
          2.5,
          3.48,
          1.64,
          4.06,
          4.29,
          4,
          2,
          3,
          1.61,
          2,
          10,
          3.16,
          5.15,
          3.18,
          4,
          3.11,
          2,
          2,
          4,
          3.55,
          3.68,
          5.65,
          3.5,
          6.5,
          3,
          3.5,
          2,
          3.5,
          4,
          1.5,
          4.19,
          2.56,
          2.02,
          4,
          2,
          5,
          2,
          2,
          4,
          2.01,
          2,
          2.5,
          4,
          3.23,
          3.41,
          3,
          2.03,
          2.23,
          2,
          5.16,
          2.5,
          6.5,
          1.1,
          3,
          1.5,
          1.44,
          3.09,
          2.2,
          3.48,
          1.92,
          1.58,
          2.5,
          2,
          2.88,
          2,
          3,
          3,
          1,
          1.17,
          2,
          2
         ],
         "yaxis": "y"
        },
        {
         "hovertemplate": "<b>OLS trendline</b><br>tip = 0.0695902 * total_bill + 1.56427<br>R<sup>2</sup>=0.238357<br><br>smoker=Yes<br>total_bill=%{x}<br>tip=%{y} <b>(trend)</b><extra></extra>",
         "legendgroup": "Yes",
         "marker": {
          "color": "#EF553B",
          "symbol": "circle"
         },
         "mode": "lines",
         "name": "Yes",
         "showlegend": false,
         "type": "scatter",
         "x": [
          3.07,
          5.75,
          7.25,
          7.74,
          8.58,
          9.6,
          10.09,
          10.34,
          10.59,
          10.63,
          11.02,
          11.24,
          11.35,
          11.59,
          12.03,
          12.16,
          12.6,
          12.74,
          12.76,
          12.9,
          13,
          13,
          13.27,
          13.42,
          13.42,
          13.51,
          13.81,
          14.31,
          14.48,
          15.01,
          15.36,
          15.38,
          15.48,
          15.53,
          15.69,
          15.69,
          15.81,
          16,
          16.27,
          16.32,
          16.4,
          16.47,
          16.58,
          16.82,
          17.51,
          17.89,
          17.92,
          18.15,
          18.29,
          18.71,
          19.44,
          19.81,
          20.29,
          20.49,
          20.53,
          20.9,
          21.01,
          22.12,
          22.42,
          22.67,
          23.1,
          23.17,
          23.33,
          24.01,
          24.27,
          25.21,
          25.28,
          25.89,
          26.59,
          26.86,
          27.18,
          27.28,
          28.15,
          28.17,
          28.44,
          28.97,
          30.06,
          30.14,
          30.46,
          31.85,
          32.68,
          32.83,
          32.9,
          34.63,
          34.65,
          38.01,
          38.73,
          40.17,
          40.55,
          43.11,
          44.3,
          45.35,
          50.81
         ],
         "xaxis": "x",
         "y": [
          1.7779133889267538,
          1.9644151349697463,
          2.0688004405908242,
          2.1028996404270432,
          2.1613554115748466,
          2.23233741939718,
          2.2664366192333985,
          2.2838341701702447,
          2.3012317211070914,
          2.3040153292569867,
          2.331155508718467,
          2.3464653535428917,
          2.354120275955104,
          2.370821924854477,
          2.401441614503326,
          2.4104883409904865,
          2.441108030639336,
          2.4508506591639696,
          2.4522424632389175,
          2.4619850917635513,
          2.46894411213829,
          2.46894411213829,
          2.487733467150084,
          2.4981719977121917,
          2.4981719977121917,
          2.5044351160494562,
          2.525312177173672,
          2.5601072790473647,
          2.5719376136844203,
          2.6088204216705346,
          2.6331769929821194,
          2.6345687970570673,
          2.6415278174318058,
          2.645007327619175,
          2.6561417602187563,
          2.6561417602187563,
          2.6644925846684426,
          2.677714723380446,
          2.69650407839224,
          2.6999835885796095,
          2.7055508048794,
          2.7104221191417173,
          2.7180770415539293,
          2.734778690453302,
          2.782795931038998,
          2.809240208463004,
          2.8113279145754255,
          2.8273336614373243,
          2.837076289961958,
          2.86630417553586,
          2.917105024271452,
          2.942853399657984,
          2.976256697456729,
          2.990174738206206,
          2.992958346356102,
          3.018706721742634,
          3.0263616441548464,
          3.1036067703144443,
          3.12448383143866,
          3.141881382375506,
          3.171805169986882,
          3.1766764842491986,
          3.1878109168487803,
          3.2351322553970023,
          3.2532257083713225,
          3.318640499893865,
          3.3235118141561815,
          3.365961838442087,
          3.4146749810652564,
          3.4334643360770505,
          3.455733201276214,
          3.4626922216509524,
          3.5232356989111775,
          3.5246275029861254,
          3.5434168579979195,
          3.5802996659840334,
          3.6561529880686834,
          3.6617202043684745,
          3.683989069567638,
          3.7807194527765033,
          3.838479321886833,
          3.848917852448941,
          3.8537891667112576,
          3.974180219194235,
          3.9755720232691822,
          4.209395107860397,
          4.259500054558514,
          4.35970994795475,
          4.386154225378755,
          4.564305146972062,
          4.64711748943145,
          4.720187203366205,
          5.100149715826929
         ],
         "yaxis": "y"
        }
       ],
       "layout": {
        "legend": {
         "title": {
          "text": "smoker"
         },
         "tracegroupgap": 0
        },
        "template": {
         "data": {
          "bar": [
           {
            "error_x": {
             "color": "#2a3f5f"
            },
            "error_y": {
             "color": "#2a3f5f"
            },
            "marker": {
             "line": {
              "color": "#E5ECF6",
              "width": 0.5
             },
             "pattern": {
              "fillmode": "overlay",
              "size": 10,
              "solidity": 0.2
             }
            },
            "type": "bar"
           }
          ],
          "barpolar": [
           {
            "marker": {
             "line": {
              "color": "#E5ECF6",
              "width": 0.5
             },
             "pattern": {
              "fillmode": "overlay",
              "size": 10,
              "solidity": 0.2
             }
            },
            "type": "barpolar"
           }
          ],
          "carpet": [
           {
            "aaxis": {
             "endlinecolor": "#2a3f5f",
             "gridcolor": "white",
             "linecolor": "white",
             "minorgridcolor": "white",
             "startlinecolor": "#2a3f5f"
            },
            "baxis": {
             "endlinecolor": "#2a3f5f",
             "gridcolor": "white",
             "linecolor": "white",
             "minorgridcolor": "white",
             "startlinecolor": "#2a3f5f"
            },
            "type": "carpet"
           }
          ],
          "choropleth": [
           {
            "colorbar": {
             "outlinewidth": 0,
             "ticks": ""
            },
            "type": "choropleth"
           }
          ],
          "contour": [
           {
            "colorbar": {
             "outlinewidth": 0,
             "ticks": ""
            },
            "colorscale": [
             [
              0,
              "#0d0887"
             ],
             [
              0.1111111111111111,
              "#46039f"
             ],
             [
              0.2222222222222222,
              "#7201a8"
             ],
             [
              0.3333333333333333,
              "#9c179e"
             ],
             [
              0.4444444444444444,
              "#bd3786"
             ],
             [
              0.5555555555555556,
              "#d8576b"
             ],
             [
              0.6666666666666666,
              "#ed7953"
             ],
             [
              0.7777777777777778,
              "#fb9f3a"
             ],
             [
              0.8888888888888888,
              "#fdca26"
             ],
             [
              1,
              "#f0f921"
             ]
            ],
            "type": "contour"
           }
          ],
          "contourcarpet": [
           {
            "colorbar": {
             "outlinewidth": 0,
             "ticks": ""
            },
            "type": "contourcarpet"
           }
          ],
          "heatmap": [
           {
            "colorbar": {
             "outlinewidth": 0,
             "ticks": ""
            },
            "colorscale": [
             [
              0,
              "#0d0887"
             ],
             [
              0.1111111111111111,
              "#46039f"
             ],
             [
              0.2222222222222222,
              "#7201a8"
             ],
             [
              0.3333333333333333,
              "#9c179e"
             ],
             [
              0.4444444444444444,
              "#bd3786"
             ],
             [
              0.5555555555555556,
              "#d8576b"
             ],
             [
              0.6666666666666666,
              "#ed7953"
             ],
             [
              0.7777777777777778,
              "#fb9f3a"
             ],
             [
              0.8888888888888888,
              "#fdca26"
             ],
             [
              1,
              "#f0f921"
             ]
            ],
            "type": "heatmap"
           }
          ],
          "heatmapgl": [
           {
            "colorbar": {
             "outlinewidth": 0,
             "ticks": ""
            },
            "colorscale": [
             [
              0,
              "#0d0887"
             ],
             [
              0.1111111111111111,
              "#46039f"
             ],
             [
              0.2222222222222222,
              "#7201a8"
             ],
             [
              0.3333333333333333,
              "#9c179e"
             ],
             [
              0.4444444444444444,
              "#bd3786"
             ],
             [
              0.5555555555555556,
              "#d8576b"
             ],
             [
              0.6666666666666666,
              "#ed7953"
             ],
             [
              0.7777777777777778,
              "#fb9f3a"
             ],
             [
              0.8888888888888888,
              "#fdca26"
             ],
             [
              1,
              "#f0f921"
             ]
            ],
            "type": "heatmapgl"
           }
          ],
          "histogram": [
           {
            "marker": {
             "pattern": {
              "fillmode": "overlay",
              "size": 10,
              "solidity": 0.2
             }
            },
            "type": "histogram"
           }
          ],
          "histogram2d": [
           {
            "colorbar": {
             "outlinewidth": 0,
             "ticks": ""
            },
            "colorscale": [
             [
              0,
              "#0d0887"
             ],
             [
              0.1111111111111111,
              "#46039f"
             ],
             [
              0.2222222222222222,
              "#7201a8"
             ],
             [
              0.3333333333333333,
              "#9c179e"
             ],
             [
              0.4444444444444444,
              "#bd3786"
             ],
             [
              0.5555555555555556,
              "#d8576b"
             ],
             [
              0.6666666666666666,
              "#ed7953"
             ],
             [
              0.7777777777777778,
              "#fb9f3a"
             ],
             [
              0.8888888888888888,
              "#fdca26"
             ],
             [
              1,
              "#f0f921"
             ]
            ],
            "type": "histogram2d"
           }
          ],
          "histogram2dcontour": [
           {
            "colorbar": {
             "outlinewidth": 0,
             "ticks": ""
            },
            "colorscale": [
             [
              0,
              "#0d0887"
             ],
             [
              0.1111111111111111,
              "#46039f"
             ],
             [
              0.2222222222222222,
              "#7201a8"
             ],
             [
              0.3333333333333333,
              "#9c179e"
             ],
             [
              0.4444444444444444,
              "#bd3786"
             ],
             [
              0.5555555555555556,
              "#d8576b"
             ],
             [
              0.6666666666666666,
              "#ed7953"
             ],
             [
              0.7777777777777778,
              "#fb9f3a"
             ],
             [
              0.8888888888888888,
              "#fdca26"
             ],
             [
              1,
              "#f0f921"
             ]
            ],
            "type": "histogram2dcontour"
           }
          ],
          "mesh3d": [
           {
            "colorbar": {
             "outlinewidth": 0,
             "ticks": ""
            },
            "type": "mesh3d"
           }
          ],
          "parcoords": [
           {
            "line": {
             "colorbar": {
              "outlinewidth": 0,
              "ticks": ""
             }
            },
            "type": "parcoords"
           }
          ],
          "pie": [
           {
            "automargin": true,
            "type": "pie"
           }
          ],
          "scatter": [
           {
            "fillpattern": {
             "fillmode": "overlay",
             "size": 10,
             "solidity": 0.2
            },
            "type": "scatter"
           }
          ],
          "scatter3d": [
           {
            "line": {
             "colorbar": {
              "outlinewidth": 0,
              "ticks": ""
             }
            },
            "marker": {
             "colorbar": {
              "outlinewidth": 0,
              "ticks": ""
             }
            },
            "type": "scatter3d"
           }
          ],
          "scattercarpet": [
           {
            "marker": {
             "colorbar": {
              "outlinewidth": 0,
              "ticks": ""
             }
            },
            "type": "scattercarpet"
           }
          ],
          "scattergeo": [
           {
            "marker": {
             "colorbar": {
              "outlinewidth": 0,
              "ticks": ""
             }
            },
            "type": "scattergeo"
           }
          ],
          "scattergl": [
           {
            "marker": {
             "colorbar": {
              "outlinewidth": 0,
              "ticks": ""
             }
            },
            "type": "scattergl"
           }
          ],
          "scattermapbox": [
           {
            "marker": {
             "colorbar": {
              "outlinewidth": 0,
              "ticks": ""
             }
            },
            "type": "scattermapbox"
           }
          ],
          "scatterpolar": [
           {
            "marker": {
             "colorbar": {
              "outlinewidth": 0,
              "ticks": ""
             }
            },
            "type": "scatterpolar"
           }
          ],
          "scatterpolargl": [
           {
            "marker": {
             "colorbar": {
              "outlinewidth": 0,
              "ticks": ""
             }
            },
            "type": "scatterpolargl"
           }
          ],
          "scatterternary": [
           {
            "marker": {
             "colorbar": {
              "outlinewidth": 0,
              "ticks": ""
             }
            },
            "type": "scatterternary"
           }
          ],
          "surface": [
           {
            "colorbar": {
             "outlinewidth": 0,
             "ticks": ""
            },
            "colorscale": [
             [
              0,
              "#0d0887"
             ],
             [
              0.1111111111111111,
              "#46039f"
             ],
             [
              0.2222222222222222,
              "#7201a8"
             ],
             [
              0.3333333333333333,
              "#9c179e"
             ],
             [
              0.4444444444444444,
              "#bd3786"
             ],
             [
              0.5555555555555556,
              "#d8576b"
             ],
             [
              0.6666666666666666,
              "#ed7953"
             ],
             [
              0.7777777777777778,
              "#fb9f3a"
             ],
             [
              0.8888888888888888,
              "#fdca26"
             ],
             [
              1,
              "#f0f921"
             ]
            ],
            "type": "surface"
           }
          ],
          "table": [
           {
            "cells": {
             "fill": {
              "color": "#EBF0F8"
             },
             "line": {
              "color": "white"
             }
            },
            "header": {
             "fill": {
              "color": "#C8D4E3"
             },
             "line": {
              "color": "white"
             }
            },
            "type": "table"
           }
          ]
         },
         "layout": {
          "annotationdefaults": {
           "arrowcolor": "#2a3f5f",
           "arrowhead": 0,
           "arrowwidth": 1
          },
          "autotypenumbers": "strict",
          "coloraxis": {
           "colorbar": {
            "outlinewidth": 0,
            "ticks": ""
           }
          },
          "colorscale": {
           "diverging": [
            [
             0,
             "#8e0152"
            ],
            [
             0.1,
             "#c51b7d"
            ],
            [
             0.2,
             "#de77ae"
            ],
            [
             0.3,
             "#f1b6da"
            ],
            [
             0.4,
             "#fde0ef"
            ],
            [
             0.5,
             "#f7f7f7"
            ],
            [
             0.6,
             "#e6f5d0"
            ],
            [
             0.7,
             "#b8e186"
            ],
            [
             0.8,
             "#7fbc41"
            ],
            [
             0.9,
             "#4d9221"
            ],
            [
             1,
             "#276419"
            ]
           ],
           "sequential": [
            [
             0,
             "#0d0887"
            ],
            [
             0.1111111111111111,
             "#46039f"
            ],
            [
             0.2222222222222222,
             "#7201a8"
            ],
            [
             0.3333333333333333,
             "#9c179e"
            ],
            [
             0.4444444444444444,
             "#bd3786"
            ],
            [
             0.5555555555555556,
             "#d8576b"
            ],
            [
             0.6666666666666666,
             "#ed7953"
            ],
            [
             0.7777777777777778,
             "#fb9f3a"
            ],
            [
             0.8888888888888888,
             "#fdca26"
            ],
            [
             1,
             "#f0f921"
            ]
           ],
           "sequentialminus": [
            [
             0,
             "#0d0887"
            ],
            [
             0.1111111111111111,
             "#46039f"
            ],
            [
             0.2222222222222222,
             "#7201a8"
            ],
            [
             0.3333333333333333,
             "#9c179e"
            ],
            [
             0.4444444444444444,
             "#bd3786"
            ],
            [
             0.5555555555555556,
             "#d8576b"
            ],
            [
             0.6666666666666666,
             "#ed7953"
            ],
            [
             0.7777777777777778,
             "#fb9f3a"
            ],
            [
             0.8888888888888888,
             "#fdca26"
            ],
            [
             1,
             "#f0f921"
            ]
           ]
          },
          "colorway": [
           "#636efa",
           "#EF553B",
           "#00cc96",
           "#ab63fa",
           "#FFA15A",
           "#19d3f3",
           "#FF6692",
           "#B6E880",
           "#FF97FF",
           "#FECB52"
          ],
          "font": {
           "color": "#2a3f5f"
          },
          "geo": {
           "bgcolor": "white",
           "lakecolor": "white",
           "landcolor": "#E5ECF6",
           "showlakes": true,
           "showland": true,
           "subunitcolor": "white"
          },
          "hoverlabel": {
           "align": "left"
          },
          "hovermode": "closest",
          "mapbox": {
           "style": "light"
          },
          "paper_bgcolor": "white",
          "plot_bgcolor": "#E5ECF6",
          "polar": {
           "angularaxis": {
            "gridcolor": "white",
            "linecolor": "white",
            "ticks": ""
           },
           "bgcolor": "#E5ECF6",
           "radialaxis": {
            "gridcolor": "white",
            "linecolor": "white",
            "ticks": ""
           }
          },
          "scene": {
           "xaxis": {
            "backgroundcolor": "#E5ECF6",
            "gridcolor": "white",
            "gridwidth": 2,
            "linecolor": "white",
            "showbackground": true,
            "ticks": "",
            "zerolinecolor": "white"
           },
           "yaxis": {
            "backgroundcolor": "#E5ECF6",
            "gridcolor": "white",
            "gridwidth": 2,
            "linecolor": "white",
            "showbackground": true,
            "ticks": "",
            "zerolinecolor": "white"
           },
           "zaxis": {
            "backgroundcolor": "#E5ECF6",
            "gridcolor": "white",
            "gridwidth": 2,
            "linecolor": "white",
            "showbackground": true,
            "ticks": "",
            "zerolinecolor": "white"
           }
          },
          "shapedefaults": {
           "line": {
            "color": "#2a3f5f"
           }
          },
          "ternary": {
           "aaxis": {
            "gridcolor": "white",
            "linecolor": "white",
            "ticks": ""
           },
           "baxis": {
            "gridcolor": "white",
            "linecolor": "white",
            "ticks": ""
           },
           "bgcolor": "#E5ECF6",
           "caxis": {
            "gridcolor": "white",
            "linecolor": "white",
            "ticks": ""
           }
          },
          "title": {
           "x": 0.05
          },
          "xaxis": {
           "automargin": true,
           "gridcolor": "white",
           "linecolor": "white",
           "ticks": "",
           "title": {
            "standoff": 15
           },
           "zerolinecolor": "white",
           "zerolinewidth": 2
          },
          "yaxis": {
           "automargin": true,
           "gridcolor": "white",
           "linecolor": "white",
           "ticks": "",
           "title": {
            "standoff": 15
           },
           "zerolinecolor": "white",
           "zerolinewidth": 2
          }
         }
        },
        "title": {
         "text": "title"
        },
        "xaxis": {
         "anchor": "y",
         "domain": [
          0,
          1
         ],
         "title": {
          "text": "total_bill"
         }
        },
        "yaxis": {
         "anchor": "x",
         "domain": [
          0,
          1
         ],
         "title": {
          "text": "tip"
         }
        }
       }
      }
     },
     "metadata": {},
     "output_type": "display_data"
    }
   ],
   "source": [
    "# R1 and R3\n",
    "# Plotly scatter plot\n",
    "import plotly.express as px\n",
    "df = px.data.tips()\n",
    "fig = px.scatter(df, x='total_bill', y ='tip',\n",
    "                 color = 'smoker', title='title', trendline='ols')\n",
    "fig.show()\n",
    "# # plot line chat\n",
    "# fig = px.line(df, title = 'hello')\n",
    "# fig.show()"
   ]
  },
  {
   "cell_type": "markdown",
   "metadata": {},
   "source": [
    "### mean, max, median"
   ]
  },
  {
   "cell_type": "code",
   "execution_count": 13,
   "metadata": {},
   "outputs": [
    {
     "name": "stdout",
     "output_type": "stream",
     "text": [
      "3.0\n",
      "3.0\n"
     ]
    }
   ],
   "source": [
    "# R3\n",
    "import numpy as np\n",
    "A = np.array([1,2,3,4,5])\n",
    "print(A.mean())\n",
    "print(np.mean(A))\n",
    "# same as min, max, std"
   ]
  },
  {
   "cell_type": "code",
   "execution_count": null,
   "metadata": {},
   "outputs": [],
   "source": [
    "## Token\n",
    "\n",
    "import nltk\n",
    "from nltk.tokenize import sent_tokenize, word_tokenize\n",
    "\n",
    "nltk.word_tokenize(sentence)\n",
    "stemmer"
   ]
  }
 ],
 "metadata": {
  "kernelspec": {
   "display_name": "Python 3",
   "language": "python",
   "name": "python3"
  },
  "language_info": {
   "codemirror_mode": {
    "name": "ipython",
    "version": 3
   },
   "file_extension": ".py",
   "mimetype": "text/x-python",
   "name": "python",
   "nbconvert_exporter": "python",
   "pygments_lexer": "ipython3",
   "version": "3.11.4"
  },
  "orig_nbformat": 4
 },
 "nbformat": 4,
 "nbformat_minor": 2
}
