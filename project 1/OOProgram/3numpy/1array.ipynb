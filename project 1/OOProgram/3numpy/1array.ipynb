{
 "cells": [
  {
   "cell_type": "markdown",
   "metadata": {},
   "source": [
    "# 1 Array"
   ]
  },
  {
   "cell_type": "code",
   "execution_count": 33,
   "metadata": {},
   "outputs": [
    {
     "name": "stdout",
     "output_type": "stream",
     "text": [
      "1.25.1\n"
     ]
    }
   ],
   "source": [
    "import numpy as np\n",
    "\n",
    "print(np.__version__)"
   ]
  },
  {
   "cell_type": "code",
   "execution_count": 34,
   "metadata": {},
   "outputs": [
    {
     "name": "stdout",
     "output_type": "stream",
     "text": [
      "[2, 4, 6]\n",
      "<class 'list'>\n",
      "(1, 3, 5)\n",
      "<class 'tuple'>\n"
     ]
    }
   ],
   "source": [
    "my_list=[2,4,6] ; print(my_list) ; print(type(my_list))\n",
    "my_tuple=(1,3,5) ; print(my_tuple) ; print(type(my_tuple))"
   ]
  },
  {
   "cell_type": "code",
   "execution_count": 35,
   "metadata": {},
   "outputs": [
    {
     "name": "stdout",
     "output_type": "stream",
     "text": [
      "[2, 4.0, 'hello']\n",
      "<class 'list'>\n",
      "(1.0, 3, 'there')\n",
      "<class 'tuple'>\n"
     ]
    }
   ],
   "source": [
    "my_list=[2,4.0,'hello'] ; print(my_list) ; print(type(my_list))\n",
    "my_tuple=(1.0,3,'there') ; print(my_tuple) ; print(type(my_tuple))"
   ]
  },
  {
   "cell_type": "code",
   "execution_count": 36,
   "metadata": {},
   "outputs": [
    {
     "name": "stdout",
     "output_type": "stream",
     "text": [
      "[2 4 6]\n",
      "<class 'numpy.ndarray'>\n",
      "[1 4 6]\n",
      "<class 'numpy.ndarray'>\n"
     ]
    }
   ],
   "source": [
    "import numpy as np\n",
    "a=np.array([2,4,6])\n",
    "print(a) ; print(type(a))\n",
    "b=np.array((1,4,6))\n",
    "print(b) ; print(type(b))"
   ]
  },
  {
   "cell_type": "code",
   "execution_count": 37,
   "metadata": {},
   "outputs": [
    {
     "name": "stdout",
     "output_type": "stream",
     "text": [
      "[2. 4. 6.]\n",
      "<class 'numpy.ndarray'>\n",
      "['hello' '4' '6']\n",
      "<class 'numpy.ndarray'>\n",
      "[2.  3.9 4. ]\n",
      "<class 'numpy.ndarray'>\n",
      "['hello' '3.9' '4']\n",
      "<class 'numpy.ndarray'>\n"
     ]
    }
   ],
   "source": [
    "import numpy as np\n",
    "a=np.array([2,4.0,6])\n",
    "print(a) ; print(type(a))\n",
    "b=np.array(('hello',4,6))\n",
    "print(b) ; print(type(b))\n",
    "\n",
    "c=np.array((2,3.9,4))\n",
    "print(c) ; print(type(c))\n",
    "d=np.array(('hello',3.9,4))\n",
    "print(d) ; print(type(d))"
   ]
  },
  {
   "cell_type": "markdown",
   "metadata": {},
   "source": [
    "## <span style=\"color: yellow;\"> 1-D array   [1,2]</span>\n",
    "\n",
    "Dimesions are called axis. \n",
    "\n",
    "1-D array has 1 dimesion / axis (0 axis only)"
   ]
  },
  {
   "cell_type": "code",
   "execution_count": 38,
   "metadata": {},
   "outputs": [
    {
     "name": "stdout",
     "output_type": "stream",
     "text": [
      "[1 2]\n"
     ]
    },
    {
     "data": {
      "text/plain": [
       "3"
      ]
     },
     "execution_count": 38,
     "metadata": {},
     "output_type": "execute_result"
    }
   ],
   "source": [
    "import numpy as np\n",
    "a=np.array([1,2]) # 1-D\n",
    "print(a)\n",
    "np.sum(a,axis=0)\n",
    "# np.sum(a,axis=-1)"
   ]
  },
  {
   "cell_type": "markdown",
   "metadata": {},
   "source": [
    "## <span style=\"color: yellow;\"> 2-D array</span>\n",
    "Say you have a set of 5 numbers, if sum up those 5 numbers, the result will be a single number.  \n",
    "Summation effectively arggregates your data. It collapses a large number of values into a single value.  \n",
    "The axis that you specify is the axis that gets collapsed.  \n",
    "Aggregation as reducing the dimesionality of the array by 1"
   ]
  },
  {
   "cell_type": "code",
   "execution_count": 39,
   "metadata": {},
   "outputs": [
    {
     "name": "stdout",
     "output_type": "stream",
     "text": [
      "[[1 2]\n",
      " [3 4]]\n",
      "<class 'numpy.ndarray'>\n",
      "[4 6]\n",
      "[3 7]\n"
     ]
    }
   ],
   "source": [
    "import numpy as np\n",
    "b=np.array([[1,2],[3,4]]) # 2-D array\n",
    "print(b); print(type(b))\n",
    "# axis 0 is row, axis 1 is column\n",
    "x=np.sum(b,axis=0) ; print(x) # [4,6]\n",
    "y=np.sum(b,axis=1) ; print(y) # [3,7]\n"
   ]
  },
  {
   "cell_type": "code",
   "execution_count": 40,
   "metadata": {},
   "outputs": [
    {
     "name": "stdout",
     "output_type": "stream",
     "text": [
      "<class 'numpy.ndarray'>\n",
      "axis0 =  [4 6]\n",
      "axis1 =  [3 7]\n"
     ]
    }
   ],
   "source": [
    "import numpy\n",
    "b = numpy.array([[1,2],[3,4]]) # 2-D\n",
    "# the added dimesion is the highest, so that will have index 0, and theprevious will\n",
    "# to eliminate the 0th dimesion and collapse the array along its vertical axis\n",
    "print(type(b))\n",
    "ksum0=numpy.sum(b, axis=0) #AXIS 0 IS ROW\n",
    "print('axis0 = ',ksum0)\n",
    "#  or eliminate the 1st dimesion and collapse the array along its horizontal axis.\n",
    "ksum1=numpy.sum(b, axis=1) #axis 1 is column\n",
    "print('axis1 = ',ksum1)"
   ]
  },
  {
   "cell_type": "markdown",
   "metadata": {},
   "source": [
    "## <span style=\"color: yellow;\"> 3-D array</span>\n",
    "Each added dimesion, the new dimesion gets index 0\n",
    "and all other index are increased by one"
   ]
  },
  {
   "cell_type": "code",
   "execution_count": 41,
   "metadata": {},
   "outputs": [
    {
     "name": "stdout",
     "output_type": "stream",
     "text": [
      "[[[1 2]\n",
      "  [3 4]]\n",
      "\n",
      " [[5 6]\n",
      "  [7 8]]]\n",
      "sim of axis 0: [[ 6  8]\n",
      " [10 12]]\n",
      "sim of axis 1: [[ 4  6]\n",
      " [12 14]]\n",
      "sim of axis 2: [[ 3  7]\n",
      " [11 15]]\n",
      "axis2 =  [[ 3  7]\n",
      " [11 15]]\n"
     ]
    }
   ],
   "source": [
    "import numpy as np\n",
    "# create a 3-D array of shape(2,2,2)\n",
    "c=np.array([[[1,2],[3,4]],[[5,6],[7,8]]])\n",
    "print(c)\n",
    "x=np.sum(c,axis=0) ; print('sim of axis 0:',x)\n",
    "y=np.sum(c,axis=1) ; print('sim of axis 1:',y)\n",
    "z=np.sum(c,axis=2) ; print('sim of axis 2:',z)\n",
    "# reduced array of shape(2,2,2) into an array of shape(2,2,1)\n",
    "z=numpy.sum(c, axis=2)\n",
    "print('axis2 = ',z)\n",
    "\n",
    "# 3-D, axis0 layer; axis1 vertical, axis2 horizontal\n"
   ]
  },
  {
   "cell_type": "code",
   "execution_count": 42,
   "metadata": {},
   "outputs": [],
   "source": [
    "# d=np.array([[[1,2],[3,4],[5,6],[7,8]]])\n",
    "# print(d)\n",
    "# e=np.array([[[1,2],[3,4]],[[5,6],[7,8]]])\n",
    "# print(e)"
   ]
  },
  {
   "cell_type": "code",
   "execution_count": 43,
   "metadata": {},
   "outputs": [
    {
     "name": "stdout",
     "output_type": "stream",
     "text": [
      "number of dimesion\n",
      "3\n"
     ]
    }
   ],
   "source": [
    "# Array Dimesion\n",
    "import numpy as np\n",
    "arr0=np.array(100) # 0-D array\n",
    "arr1=np.array([1,2,3,4,5]) # 1-D array\n",
    "arr3=np.array([[[1,2,3],[4,5,6]],[[1,2,3],[4,5,6]]]) # 3-D array\n",
    "print('number of dimesion')\n",
    "print(arr3.ndim) # return an integer that tells the no. of dimesion"
   ]
  },
  {
   "cell_type": "code",
   "execution_count": 44,
   "metadata": {},
   "outputs": [
    {
     "name": "stdout",
     "output_type": "stream",
     "text": [
      "[[[[[1 2 3 4]]]]]\n",
      "no. of dimesion: 5\n"
     ]
    }
   ],
   "source": [
    "# Create multi dimesional array\n",
    "import numpy as np\n",
    "arr=np.array([1,2,3,4],ndmin=5)# create 5 dimesion array\n",
    "print(arr)\n",
    "print('no. of dimesion:',arr.ndim)"
   ]
  },
  {
   "cell_type": "code",
   "execution_count": 45,
   "metadata": {},
   "outputs": [
    {
     "name": "stdout",
     "output_type": "stream",
     "text": [
      "2\n",
      "7\n"
     ]
    }
   ],
   "source": [
    "# Array Index\n",
    "import numpy as np\n",
    "arr=np.array([1,2,3,4])\n",
    "print(arr[1])\n",
    "print(arr[2]+arr[3])\n"
   ]
  },
  {
   "cell_type": "code",
   "execution_count": 46,
   "metadata": {},
   "outputs": [
    {
     "name": "stdout",
     "output_type": "stream",
     "text": [
      "[[ 93  95]\n",
      " [ 84 100]\n",
      " [ 99  97]]\n",
      "(3, 2)\n",
      "84\n",
      "84\n",
      "[93 95]\n"
     ]
    }
   ],
   "source": [
    "# 2-D Index\n",
    "import numpy as np\n",
    "a=np.array([[93,95],\n",
    "           [84,100],\n",
    "           [99,97]])\n",
    "print(a); print(a.shape)\n",
    "print(a[1,0]) # row1 column0 or axis 0=1 axis 1=0\n",
    "print(a[-2,0]) # row -2 column 0\n",
    "print(a[0])   \n",
    "\n",
    "\n",
    "\n",
    "\n",
    "\n",
    "\n",
    "# axis 0 = row , axis 1 = column"
   ]
  },
  {
   "cell_type": "code",
   "execution_count": 47,
   "metadata": {},
   "outputs": [
    {
     "name": "stdout",
     "output_type": "stream",
     "text": [
      "2th element on 2nd row:\n",
      "2\n",
      "5th element on 2nd row:\n",
      "10\n"
     ]
    }
   ],
   "source": [
    "# 2-D index\n",
    "import numpy as np\n",
    "arr=np.array([[1,2,3,4,5],[6,7,8,9,10]])\n",
    "\n",
    "print('2th element on 2nd row:')\n",
    "print(arr[0,1])\n",
    "print('5th element on 2nd row:')\n",
    "print(arr[1,4])"
   ]
  },
  {
   "cell_type": "code",
   "execution_count": 48,
   "metadata": {},
   "outputs": [
    {
     "name": "stdout",
     "output_type": "stream",
     "text": [
      "2\n",
      "[[4 5]\n",
      " [6 7]]\n"
     ]
    }
   ],
   "source": [
    "# 3D Index\n",
    "import numpy as np\n",
    "array=np.array([[[0,1],[2,3]],[[4,5],[6,7]]])\n",
    "# sheet 0 (ie [0,1],[2,3]), row1 (ie [2,3]), column 0 (ie 2)\n",
    "print(array[0,1,0])\n",
    "# retrieving 2D array from a 3-D array\n",
    "print(array[1])\n",
    "\n"
   ]
  },
  {
   "cell_type": "code",
   "execution_count": 49,
   "metadata": {},
   "outputs": [
    {
     "name": "stdout",
     "output_type": "stream",
     "text": [
      "6\n"
     ]
    }
   ],
   "source": [
    "# 3-D index\n",
    "import numpy as np\n",
    "arr=np.array([[[1,2,3],[4,5,6]],[[7,8,9],[10,11,12]]])\n",
    "print(arr[0,1,2])\n",
    "# the first number represents the first dimesion\n",
    "# which contains two arrays [[1,2,3],[4,5,6]] and [[7,8,9],[10,11,12]]\n",
    "# for '0' in arr [0,1,2], select the first array (ie [[1,2,3],[4,5,6]])\n",
    "# ...."
   ]
  },
  {
   "cell_type": "code",
   "execution_count": 50,
   "metadata": {},
   "outputs": [
    {
     "name": "stdout",
     "output_type": "stream",
     "text": [
      "10\n"
     ]
    }
   ],
   "source": [
    "# negative index\n",
    "import numpy as np\n",
    "arr=np.array([[1,2,3,4,5],[6,7,8,9,10]])\n",
    "print(arr[1,-1])\n"
   ]
  },
  {
   "cell_type": "markdown",
   "metadata": {},
   "source": [
    "### Array slicing"
   ]
  },
  {
   "cell_type": "code",
   "execution_count": 51,
   "metadata": {},
   "outputs": [
    {
     "name": "stdout",
     "output_type": "stream",
     "text": [
      "a [1 2 3]\n",
      "b [1 4 7]\n",
      "c [[1]]\n",
      "d [[5]]\n",
      "e [[5 6]\n",
      " [8 9]]\n"
     ]
    }
   ],
   "source": [
    "import numpy as np\n",
    "arr=np.array([[1,2,3],[4,5,6],[7,8,9]])\n",
    "print('a',arr[0,:]) # display the 0 row\n",
    "print('b',arr[:,0]) # display the 0 column\n",
    "# retrieve 0th row and 0 column\n",
    "print('c',arr[0:1,0:1]) # retrieve 0th row and 0column\n",
    "print('d',arr[1:2,1:2])\n",
    "print('e',arr[1:3,1:]) # 1 to 3 row (3 not inclded),1 to the end column\n",
    "\n",
    "# print(arr[0,0])\n",
    "# print(arr[:,:])"
   ]
  },
  {
   "cell_type": "code",
   "execution_count": 52,
   "metadata": {},
   "outputs": [
    {
     "name": "stdout",
     "output_type": "stream",
     "text": [
      "a  [2 3 4 5]\n",
      "b  [2 3 4 5 6 7]\n",
      "c  [1 2 3 4 5]\n",
      "d  [1 3 5]\n",
      "e  [1 3 5 7]\n",
      "f  [2 4]\n",
      "g  []\n",
      "h  7\n",
      "i  1\n"
     ]
    }
   ],
   "source": [
    "import numpy as np\n",
    "arr=np.array([1,2,3,4,5,6,7])\n",
    "print('a ',arr[1:5])#[row,start:end:step]\n",
    "print('b ',arr[1:])#slice element from inde 1 to the end\n",
    "print('c ',arr[:5])#slice element from the beginning to 5(not included)\n",
    "print('d ',arr[:6:2])#return every other element\n",
    "print('e ',arr[::2])\n",
    "print('f ',arr[1:5:2])#return every other element from index 1 to index 5\n",
    "print('g ',arr[-3:1])#slice from index 3 from the end to index 1 from the end\n",
    "print('h ',arr[-1])\n",
    "print('i ',arr[0])"
   ]
  },
  {
   "cell_type": "markdown",
   "metadata": {},
   "source": [
    "### Copy and View"
   ]
  },
  {
   "cell_type": "markdown",
   "metadata": {},
   "source": [
    ".copy .view .base"
   ]
  },
  {
   "cell_type": "code",
   "execution_count": 53,
   "metadata": {},
   "outputs": [
    {
     "name": "stdout",
     "output_type": "stream",
     "text": [
      "[42  2  3  4  5]\n",
      "copy [1 2 3 4 5]\n"
     ]
    }
   ],
   "source": [
    "# Copy .copy\n",
    "# copies owns the data, and Views does not own the data\n",
    "import numpy as np\n",
    "\n",
    "arr = np.array([1,2,3,4,5])\n",
    "x=arr.copy() # no affected by the changes\n",
    "arr[0] = 42\n",
    "print(arr)\n",
    "print('copy',x)\n"
   ]
  },
  {
   "cell_type": "code",
   "execution_count": 54,
   "metadata": {},
   "outputs": [
    {
     "name": "stdout",
     "output_type": "stream",
     "text": [
      "[42  2  3  4  5]\n",
      "view [42  2  3  4  5]\n",
      "base [42  2  3  4  5]\n"
     ]
    }
   ],
   "source": [
    "# .view\n",
    "import numpy as np\n",
    "\n",
    "arr = np.array([1,2,3,4,5])\n",
    "x=arr.view() # no affected by the changes\n",
    "arr[0] = 42\n",
    "print(arr)\n",
    "print('view',x)\n",
    "\n",
    "y=x.base\n",
    "print('base',y)\n"
   ]
  },
  {
   "cell_type": "code",
   "execution_count": 55,
   "metadata": {},
   "outputs": [
    {
     "name": "stdout",
     "output_type": "stream",
     "text": [
      "copy base None\n",
      "view base [1 2 3 4 5]\n"
     ]
    }
   ],
   "source": [
    "# .base\n",
    "# .base return none if the array owns the data\n",
    "# .copy owns the data\n",
    "# .view not own the data\n",
    "import numpy as np\n",
    "\n",
    "arr=np.array([1,2,3,4,5])\n",
    "x=arr.copy()\n",
    "y=arr.view()\n",
    "print('copy base',x.base)\n",
    "print('view base',y.base)"
   ]
  },
  {
   "cell_type": "markdown",
   "metadata": {},
   "source": [
    "### Numpy Boolean Array"
   ]
  },
  {
   "cell_type": "code",
   "execution_count": 56,
   "metadata": {},
   "outputs": [
    {
     "name": "stdout",
     "output_type": "stream",
     "text": [
      "[False False False]\n"
     ]
    }
   ],
   "source": [
    "import numpy as np\n",
    "a = np.array([True,True,True])\n",
    "neg_a=np.logical_not(a)\n",
    "print(neg_a)"
   ]
  },
  {
   "cell_type": "code",
   "execution_count": 57,
   "metadata": {},
   "outputs": [
    {
     "name": "stdout",
     "output_type": "stream",
     "text": [
      "a and b [False False False  True]\n",
      "a or b [False  True  True  True]\n",
      "a xor b [False  True  True False]\n"
     ]
    }
   ],
   "source": [
    "import numpy as np\n",
    "a=np.array([False,True,False,True])\n",
    "b=np.array([False,False,True,True])\n",
    "and_ab=np.logical_and(a,b)\n",
    "or_ab=np.logical_or(a,b)\n",
    "xor_ab=np.logical_xor(a,b)\n",
    "print('a and b',and_ab)\n",
    "print('a or b',or_ab)\n",
    "print('a xor b',xor_ab)"
   ]
  },
  {
   "cell_type": "markdown",
   "metadata": {},
   "source": [
    "### Numpy Outer Product\n",
    "An outer product is a procedure in linear algebra that combines two vectors"
   ]
  },
  {
   "cell_type": "markdown",
   "metadata": {},
   "source": [
    "x:[3,6,8]\n",
    "\n",
    "y:[4,7,13]\n",
    "\n",
    "Outer function used in x and y are [3][4,7,13]\n",
    "Outer product of two vectors are:\n",
    "\n",
    "[12,21,39]\n",
    "\n",
    "[24,42,78]\n",
    "\n",
    "[32,56,104]"
   ]
  },
  {
   "cell_type": "code",
   "execution_count": 58,
   "metadata": {},
   "outputs": [
    {
     "data": {
      "text/plain": [
       "array([[ 12,  21,  39],\n",
       "       [ 20,  35,  65],\n",
       "       [ 32,  56, 104]])"
      ]
     },
     "execution_count": 58,
     "metadata": {},
     "output_type": "execute_result"
    }
   ],
   "source": [
    "import numpy as np\n",
    "a = np.array([3,5,8])\n",
    "b=np.array([4,7,13])\n",
    "np.multiply.outer(a,b)\n",
    "\n",
    "\n"
   ]
  },
  {
   "cell_type": "code",
   "execution_count": 59,
   "metadata": {},
   "outputs": [
    {
     "name": "stdout",
     "output_type": "stream",
     "text": [
      "[[ 12  21  39]\n",
      " [ 20  35  65]\n",
      " [ 32  56 104]]\n"
     ]
    }
   ],
   "source": [
    "print(np.outer(a,b))"
   ]
  },
  {
   "cell_type": "markdown",
   "metadata": {},
   "source": [
    "### Revision"
   ]
  },
  {
   "cell_type": "code",
   "execution_count": 60,
   "metadata": {},
   "outputs": [
    {
     "name": "stdout",
     "output_type": "stream",
     "text": [
      "[2, 4.0, 'hello', 8]\n",
      "type= <class 'list'>\n",
      "(3, 5, 7)\n",
      "type= <class 'tuple'>\n"
     ]
    }
   ],
   "source": [
    "a=[2,4.0,'hello',8] # list\n",
    "print(a); print('type=',type(a))\n",
    "b=3,5,7 # tuple\n",
    "print(b); print('type=',type(b))"
   ]
  },
  {
   "cell_type": "code",
   "execution_count": 61,
   "metadata": {},
   "outputs": [
    {
     "name": "stdout",
     "output_type": "stream",
     "text": [
      "[2 4 6 8]\n",
      "<class 'numpy.ndarray'>\n",
      "dimension 1\n"
     ]
    }
   ],
   "source": [
    "import numpy\n",
    "a=[2,4,6,8]\n",
    "b=numpy.array(a) # from list to Multi dimension (nd) to numpy array\n",
    "print(b) # 1 D array\n",
    "print(type(b))\n",
    "print('dimension',b.ndim)\n",
    "\n",
    "# .To_list from numpy array to list variable"
   ]
  },
  {
   "cell_type": "code",
   "execution_count": 62,
   "metadata": {},
   "outputs": [
    {
     "name": "stdout",
     "output_type": "stream",
     "text": [
      "[1. 1. 1. 1. 1. 1.]\n",
      "[[1. 1. 1.]\n",
      " [1. 1. 1.]]\n"
     ]
    }
   ],
   "source": [
    "# a=numpy.zeros(6)\n",
    "# print(a)\n",
    "b=numpy.ones(6)\n",
    "print(b) # 1 D array\n",
    "c=b.reshape(2,3) # reshape the array to 2D with 2 rows and 3 columns\n",
    "print(c)"
   ]
  },
  {
   "cell_type": "code",
   "execution_count": 65,
   "metadata": {},
   "outputs": [
    {
     "name": "stdout",
     "output_type": "stream",
     "text": [
      "[[2 4]\n",
      " [6 8]]\n",
      "dimension  2\n",
      "shape  (2, 2)\n"
     ]
    }
   ],
   "source": [
    "# 2D array # [2,4,6,8]\n",
    "a=numpy.array([[2,4],[6,8]]) # [x,y] where x=[2,4] and y=[6,8]\n",
    "print(a)\n",
    "print('dimension ',a.ndim)\n",
    "print('shape ',a.shape) # 2D array shape=(number of row, number of column)"
   ]
  },
  {
   "cell_type": "code",
   "execution_count": null,
   "metadata": {},
   "outputs": [
    {
     "name": "stdout",
     "output_type": "stream",
     "text": [
      "[[[2 4]\n",
      "  [6 8]]\n",
      "\n",
      " [[5 6]\n",
      "  [7 8]]]\n",
      "dimension  3\n",
      "shape  (2, 2, 2)\n",
      "type  <class 'numpy.ndarray'>\n",
      "element type  int32\n"
     ]
    }
   ],
   "source": [
    "import numpy\n",
    "a=numpy.array([[[2,4],[6,8]],[[5,6],[7,8]]]) #3D\n",
    "# [[2,4],[6,8]] is one layer and [[5,6],[7,8]] another layer\n",
    "print(a)\n",
    "print('dimension ',a.ndim)\n",
    "print('shape ',a.shape) # 3D array shape=(layer number,number of row, number of column)\n",
    "print('type ',type(a))\n",
    "print('element type ',a.dtype)"
   ]
  },
  {
   "cell_type": "code",
   "execution_count": null,
   "metadata": {},
   "outputs": [
    {
     "name": "stdout",
     "output_type": "stream",
     "text": [
      "[[['2' '4']\n",
      "  ['6' '8']]\n",
      "\n",
      " [['5' '6']\n",
      "  ['7' 'hello']]]\n",
      "dimension  3\n",
      "shape  (2, 2, 2)\n",
      "type  <class 'numpy.ndarray'>\n",
      "element type  <U11\n"
     ]
    }
   ],
   "source": [
    "import numpy\n",
    "a=numpy.array([[[2,4],[6,8]],[[5,6],[7,'hello']]]) #3D\n",
    "# [[2,4],[6,8]] is one layer and [[5,6],[7,8]] another layer\n",
    "print(a)\n",
    "print('dimension ',a.ndim)\n",
    "print('shape ',a.shape) # 3D array shape=(layer number,number of row, number of column)\n",
    "print('type ',type(a))\n",
    "print('element type ',a.dtype)"
   ]
  }
 ],
 "metadata": {
  "kernelspec": {
   "display_name": "Python 3",
   "language": "python",
   "name": "python3"
  },
  "language_info": {
   "codemirror_mode": {
    "name": "ipython",
    "version": 3
   },
   "file_extension": ".py",
   "mimetype": "text/x-python",
   "name": "python",
   "nbconvert_exporter": "python",
   "pygments_lexer": "ipython3",
   "version": "3.11.4"
  },
  "orig_nbformat": 4
 },
 "nbformat": 4,
 "nbformat_minor": 2
}
