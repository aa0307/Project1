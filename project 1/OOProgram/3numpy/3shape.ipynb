{
 "cells": [
  {
   "cell_type": "markdown",
   "metadata": {},
   "source": [
    "# 3 Shape"
   ]
  },
  {
   "cell_type": "markdown",
   "metadata": {},
   "source": [
    "### Numpy Array Shape"
   ]
  },
  {
   "cell_type": "code",
   "execution_count": 1,
   "metadata": {},
   "outputs": [
    {
     "name": "stdout",
     "output_type": "stream",
     "text": [
      "[[1 2 3 4]\n",
      " [5 6 7 8]]\n",
      "2\n",
      "(2, 4)\n"
     ]
    }
   ],
   "source": [
    "import numpy as np\n",
    "a=np.array([[1,2,3,4],[5,6,7,8]]) # 2D\n",
    "print(a) ; print(a.ndim)\n",
    "print(a.shape)"
   ]
  },
  {
   "cell_type": "code",
   "execution_count": 2,
   "metadata": {},
   "outputs": [
    {
     "name": "stdout",
     "output_type": "stream",
     "text": [
      "[[[1 2]\n",
      "  [3 4]]\n",
      "\n",
      " [[5 6]\n",
      "  [7 8]]]\n",
      "3\n",
      "(2, 2, 2)\n"
     ]
    }
   ],
   "source": [
    "import numpy as np\n",
    "a=np.array([[[1,2],[3,4]],[[5,6],[7,8]]]) # 3D 2 payer\n",
    "print(a) ; print(a.ndim)\n",
    "print(a.shape)"
   ]
  },
  {
   "cell_type": "code",
   "execution_count": 3,
   "metadata": {},
   "outputs": [
    {
     "name": "stdout",
     "output_type": "stream",
     "text": [
      "[[[  1   2   3]\n",
      "  [  4   5   6]]\n",
      "\n",
      " [[  7   8   9]\n",
      "  [ 10  11 120]]\n",
      "\n",
      " [[  1   2   3]\n",
      "  [  4   5   6]]]\n",
      "3\n",
      "(3, 2, 3)\n"
     ]
    }
   ],
   "source": [
    "import numpy as np\n",
    "a=np.array([[[1,2,3],[4,5,6]],[[7,8,9],[10,11,120]],[[1,2,3],[4,5,6]]]) # 3D 3 payer\n",
    "print(a) ; print(a.ndim)\n",
    "print(a.shape)"
   ]
  },
  {
   "cell_type": "code",
   "execution_count": 6,
   "metadata": {},
   "outputs": [
    {
     "name": "stdout",
     "output_type": "stream",
     "text": [
      "[[[[[1 2 3 4]]]]]\n",
      "(1, 1, 1, 1, 4)\n",
      "x 3\n",
      "y [1 2 3 4]\n",
      "z [[2 3]]\n"
     ]
    }
   ],
   "source": [
    "# create a 5 dimesions array\n",
    "import numpy as np\n",
    "a=np.array([1,2,3,4],ndmin=5)\n",
    "print(a)\n",
    "print(a.shape)\n",
    "print('x',a[0,0,0,0,2]) # 5 D array with 1 to 4 dimesions have 1 element\n",
    "# and the fifth has 4\n",
    "print('y',a[0,0,0,0,:])\n",
    "print('z',a[0,0,0,:,1:3])"
   ]
  },
  {
   "cell_type": "code",
   "execution_count": 7,
   "metadata": {},
   "outputs": [
    {
     "name": "stdout",
     "output_type": "stream",
     "text": [
      "(12,)\n",
      "[[ 1  2  3]\n",
      " [ 4  5  6]\n",
      " [ 7  8  9]\n",
      " [10 11 12]]\n"
     ]
    }
   ],
   "source": [
    "import numpy as np\n",
    "a=np.array([1,2,3,4,5,6,7,8,9,10,11,12])\n",
    "print(a.shape)\n",
    "b=a.reshape(4,3) # 2D array 4 row 3 column from 1D array with 12 rows\n",
    "print(b)"
   ]
  },
  {
   "cell_type": "code",
   "execution_count": 8,
   "metadata": {},
   "outputs": [
    {
     "name": "stdout",
     "output_type": "stream",
     "text": [
      "shape  (12,)\n",
      "dimension  1\n",
      "[[[ 1  2]\n",
      "  [ 3  4]\n",
      "  [ 5  6]]\n",
      "\n",
      " [[ 7  8]\n",
      "  [ 9 10]\n",
      "  [11 12]]]\n",
      "dimension 3\n"
     ]
    }
   ],
   "source": [
    "import numpy as np\n",
    "a=np.array([1,2,3,4,5,6,7,8,9,10,11,12]) # 1D\n",
    "print('shape ',a.shape); print('dimension ',a.ndim)\n",
    "b=a.reshape(2,3,2) # 3D array 3 row 2 column from 1D array with 12 rows\n",
    "print(b) ; print('dimension',b.ndim)"
   ]
  },
  {
   "cell_type": "code",
   "execution_count": 9,
   "metadata": {},
   "outputs": [
    {
     "name": "stdout",
     "output_type": "stream",
     "text": [
      "[ 1  2  3  4  5  6  7  8  9 10 11 12]\n",
      "dimension 1\n"
     ]
    }
   ],
   "source": [
    "# .base\n",
    "import numpy as np\n",
    "a=np.array([1,2,3,4,5,6,7,8,9,10,11,12]) # 1D\n",
    "b=a.reshape(2,3,2).base # 3D array 3 row 2 column from 1D array with 12 rows\n",
    "print(b) ; print('dimension',b.ndim) # check if the return array is a copy or view"
   ]
  },
  {
   "cell_type": "code",
   "execution_count": 10,
   "metadata": {},
   "outputs": [
    {
     "name": "stdout",
     "output_type": "stream",
     "text": [
      "[[[1 2]\n",
      "  [3 4]]\n",
      "\n",
      " [[5 6]\n",
      "  [7 8]]]\n",
      "dimension 3\n"
     ]
    }
   ],
   "source": [
    "import numpy as np\n",
    "a=np.array([1,2,3,4,5,6,7,8]) # 1D\n",
    "b=a.reshape(2,2,-1) #\n",
    "print(b) ; print('dimension',b.ndim)"
   ]
  },
  {
   "cell_type": "code",
   "execution_count": 11,
   "metadata": {},
   "outputs": [
    {
     "name": "stdout",
     "output_type": "stream",
     "text": [
      "[1 2 3 4 5 6]\n"
     ]
    }
   ],
   "source": [
    "# reshape(-1)\n",
    "import numpy as np\n",
    "a=np.array([[1,2,3],[4,5,6]]) # 2D array\n",
    "b=a.reshape(-1) # reshape(-1) flattening array to convert multi dimesional array \n",
    "# into a 1D array\n",
    "print(b)"
   ]
  },
  {
   "cell_type": "code",
   "execution_count": 12,
   "metadata": {},
   "outputs": [
    {
     "name": "stdout",
     "output_type": "stream",
     "text": [
      "[[1 2 3]\n",
      " [4 5 6]]\n",
      "2\n",
      "[[1 4]\n",
      " [2 5]\n",
      " [3 6]]\n",
      "2\n"
     ]
    }
   ],
   "source": [
    "# .Transpose\n",
    "import numpy as np\n",
    "a=np.array([[1,2,3],[4,5,6]]) # 2D array\n",
    "print(a); print(a.ndim)\n",
    "b=a.T\n",
    "print(b); print(b.ndim)"
   ]
  }
 ],
 "metadata": {
  "kernelspec": {
   "display_name": "Python 3",
   "language": "python",
   "name": "python3"
  },
  "language_info": {
   "codemirror_mode": {
    "name": "ipython",
    "version": 3
   },
   "file_extension": ".py",
   "mimetype": "text/x-python",
   "name": "python",
   "nbconvert_exporter": "python",
   "pygments_lexer": "ipython3",
   "version": "3.11.4"
  },
  "orig_nbformat": 4
 },
 "nbformat": 4,
 "nbformat_minor": 2
}
