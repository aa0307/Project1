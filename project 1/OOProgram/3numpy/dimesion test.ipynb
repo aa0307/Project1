{
 "cells": [
  {
   "cell_type": "code",
   "execution_count": 2,
   "metadata": {},
   "outputs": [
    {
     "name": "stdout",
     "output_type": "stream",
     "text": [
      "[[[ 1  2]\n",
      "  [ 3  4]]\n",
      "\n",
      " [[ 5  6]\n",
      "  [ 7  8]]\n",
      "\n",
      " [[ 9 10]\n",
      "  [11 12]]]\n",
      "sim of axis 0: [[15 18]\n",
      " [21 24]]\n",
      "sim of axis 1: [[ 4  6]\n",
      " [12 14]\n",
      " [20 22]]\n",
      "sim of axis 2: [[ 3  7]\n",
      " [11 15]\n",
      " [19 23]]\n"
     ]
    }
   ],
   "source": [
    "import numpy as np\n",
    "# create a 3-D array of shape(2,2,2)\n",
    "c=np.array([[[1,2],[3,4]],[[5,6],[7,8]],[[9,10],[11,12]]])\n",
    "print(c)\n",
    "x=np.sum(c,axis=0) ; print('sim of axis 0:',x)\n",
    "y=np.sum(c,axis=1) ; print('sim of axis 1:',y)\n",
    "z=np.sum(c,axis=2) ; print('sim of axis 2:',z)\n",
    "\n",
    "from mpl_toolkits.mplot3d import axes3d\n",
    "\n"
   ]
  },
  {
   "cell_type": "code",
   "execution_count": 3,
   "metadata": {},
   "outputs": [
    {
     "name": "stdout",
     "output_type": "stream",
     "text": [
      "sim of axis 0: [[ 8 10 12]\n",
      " [14 16 18]]\n",
      "sim of axis 1: [[ 5  7  9]\n",
      " [17 19 21]]\n",
      "sim of axis 2: [[ 6 15]\n",
      " [24 33]]\n"
     ]
    }
   ],
   "source": [
    "import numpy as np\n",
    "c=np.array([[[1,2,3],[4,5,6]],[[7,8,9],[10,11,12]]])\n",
    "\n",
    "x=np.sum(c,axis=0) ; print('sim of axis 0:',x)\n",
    "y=np.sum(c,axis=1) ; print('sim of axis 1:',y)\n",
    "z=np.sum(c,axis=2) ; print('sim of axis 2:',z)"
   ]
  },
  {
   "cell_type": "code",
   "execution_count": 4,
   "metadata": {},
   "outputs": [
    {
     "name": "stdout",
     "output_type": "stream",
     "text": [
      "sim of axis 0: [[ 4  6]\n",
      " [ 8 10]]\n",
      "sim of axis 1: [[ 2  4]\n",
      " [10 12]]\n",
      "sim of axis 2: [[ 1  5]\n",
      " [ 9 13]]\n"
     ]
    }
   ],
   "source": [
    "import numpy as np\n",
    "c=np.array([[[0,1],[2,3]],[[4,5],[6,7]]])\n",
    "\n",
    "x=np.sum(c,axis=0) ; print('sum of axis 0:',x)\n",
    "y=np.sum(c,axis=1) ; print('sum of axis 1:',y)\n",
    "z=np.sum(c,axis=2) ; print('sum of axis 2:',z)\n"
   ]
  }
 ],
 "metadata": {
  "kernelspec": {
   "display_name": "Python 3",
   "language": "python",
   "name": "python3"
  },
  "language_info": {
   "codemirror_mode": {
    "name": "ipython",
    "version": 3
   },
   "file_extension": ".py",
   "mimetype": "text/x-python",
   "name": "python",
   "nbconvert_exporter": "python",
   "pygments_lexer": "ipython3",
   "version": "3.11.4"
  },
  "orig_nbformat": 4
 },
 "nbformat": 4,
 "nbformat_minor": 2
}
