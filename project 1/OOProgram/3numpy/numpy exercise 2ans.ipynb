{
 "cells": [
  {
   "cell_type": "markdown",
   "metadata": {},
   "source": [
    "## Numpy Exercise 2"
   ]
  },
  {
   "cell_type": "code",
   "execution_count": 2,
   "metadata": {},
   "outputs": [
    {
     "name": "stdout",
     "output_type": "stream",
     "text": [
      "[[5.16819556 7.72313196 6.87711661]\n",
      " [5.11903033 5.67826316 6.89668071]\n",
      " [9.11060083 7.51748055 7.52817111]\n",
      " [7.51152376 5.16176667 5.10643176]\n",
      " [5.99574922 7.66394098 6.97549873]]\n"
     ]
    }
   ],
   "source": [
    "# 20\n",
    "# random.int gives integer\n",
    "# random.read gives float between 0.0 and 1.0 but not include 1.0\n",
    "# random.uniform gives float in given range between a and b\n",
    "import numpy as np\n",
    "from numpy import random\n",
    "# generate a 2D array with row 5 and column 3 between 5 to 10\n",
    "print(np.random.uniform(5,10, size=(5,3))) # uniform distribution"
   ]
  },
  {
   "cell_type": "code",
   "execution_count": 3,
   "metadata": {},
   "outputs": [
    {
     "name": "stdout",
     "output_type": "stream",
     "text": [
      "[[0.75312012 0.5623776 ]\n",
      " [0.44672667 0.59801006]]\n",
      "[[0.753 0.562]\n",
      " [0.447 0.598]]\n"
     ]
    }
   ],
   "source": [
    "# 21\n",
    "a=np.random.random([2,2]) # generate random array\n",
    "print(a)\n",
    "b=np.round(a,3) # round to 3 place\n",
    "print(b)"
   ]
  },
  {
   "cell_type": "code",
   "execution_count": 37,
   "metadata": {},
   "outputs": [
    {
     "name": "stdout",
     "output_type": "stream",
     "text": [
      "[[6.967056e-04 5.418531e-04 1.512378e-04]\n",
      " [8.608117e-04 3.122213e-04 1.789888e-05]\n",
      " [7.354705e-04 9.090538e-04 7.312138e-04]]\n",
      "[[6.967056e-04 5.418531e-04 1.512378e-04]\n",
      " [8.608117e-04 3.122213e-04 1.789888e-05]\n",
      " [7.354705e-04 9.090538e-04 7.312138e-04]]\n"
     ]
    }
   ],
   "source": [
    "# 22\n",
    "a=np.random.random([3,3])/1e3\n",
    "print(a)\n",
    "np.set_printoptions(suppress=True, precision=6)\n",
    "# precision: number of digits for floating point output\n",
    "# suppress: if true, print floating point number\n",
    "np.set_printoptions(suppress=False)\n",
    "print(a)"
   ]
  },
  {
   "cell_type": "code",
   "execution_count": null,
   "metadata": {},
   "outputs": [],
   "source": [
    "# 23\n",
    "np.set_printoptions(threshold=6)\n",
    "a=np.arrange(15)\n",
    "print(a)"
   ]
  }
 ],
 "metadata": {
  "kernelspec": {
   "display_name": "Python 3",
   "language": "python",
   "name": "python3"
  },
  "language_info": {
   "codemirror_mode": {
    "name": "ipython",
    "version": 3
   },
   "file_extension": ".py",
   "mimetype": "text/x-python",
   "name": "python",
   "nbconvert_exporter": "python",
   "pygments_lexer": "ipython3",
   "version": "3.11.4"
  },
  "orig_nbformat": 4
 },
 "nbformat": 4,
 "nbformat_minor": 2
}
