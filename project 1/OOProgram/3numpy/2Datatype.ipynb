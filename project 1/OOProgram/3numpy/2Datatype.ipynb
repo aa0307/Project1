{
 "cells": [
  {
   "cell_type": "markdown",
   "metadata": {},
   "source": [
    "# 2 Datatype"
   ]
  },
  {
   "cell_type": "markdown",
   "metadata": {},
   "source": [
    "### Data Type of an array"
   ]
  },
  {
   "cell_type": "code",
   "execution_count": 3,
   "metadata": {},
   "outputs": [
    {
     "name": "stdout",
     "output_type": "stream",
     "text": [
      "type  <class 'numpy.ndarray'>\n",
      "dtype  int32\n",
      "type  <class 'numpy.ndarray'>\n",
      "dtype  <U2\n"
     ]
    }
   ],
   "source": [
    "import numpy as np\n",
    "a=np.array([1,2,3,4])\n",
    "print('type ',type(a)) # type of continer\n",
    "print('dtype ',a.dtype) # type of inside element\n",
    "b=np.array(['AA','BB','CC'])\n",
    "print('type ',type(b)) # type of continer\n",
    "print('dtype ',b.dtype) # type of inside element\n",
    "# U refers Unicode strings, U2 unsigned integer"
   ]
  },
  {
   "cell_type": "code",
   "execution_count": 15,
   "metadata": {},
   "outputs": [
    {
     "name": "stdout",
     "output_type": "stream",
     "text": [
      "[b'1' b'2' b'3' b'4']\n",
      "type  <class 'numpy.ndarray'>\n",
      "dtype  |S1\n",
      "[b'1' b'2' b'3' b'4']\n",
      "type  <class 'numpy.ndarray'>\n",
      "dtype  int32\n"
     ]
    }
   ],
   "source": [
    "# .dtype\n",
    "import numpy as np\n",
    "a=np.array([1,2,3,4],dtype='S')\n",
    "print(a)\n",
    "print('type ',type(a)) # type of continer\n",
    "print('dtype ',a.dtype) # type of inside element\n",
    "b=np.array([1,2,3,4],dtype='i4') # number of byte ie 1 byte 8 bit\n",
    "print(a)\n",
    "print('type ',type(b)) # type of continer\n",
    "print('dtype ',b.dtype) # type of inside element"
   ]
  },
  {
   "cell_type": "markdown",
   "metadata": {},
   "source": [
    "### Create a copy of array with specified data type\n",
    ".astype"
   ]
  },
  {
   "cell_type": "code",
   "execution_count": 19,
   "metadata": {},
   "outputs": [
    {
     "name": "stdout",
     "output_type": "stream",
     "text": [
      "[1 2 3]\n",
      "float64\n",
      "int32\n",
      "[ True  True  True]\n",
      "float64\n",
      "bool\n"
     ]
    }
   ],
   "source": [
    "import numpy as np\n",
    "arr=np.array([1.1,2.1,3.1]) # float array\n",
    "b=arr.astype('i') # to integer\n",
    "print(b); print(arr.dtype); print(b.dtype)\n",
    "c=arr.astype(bool) # to bool\n",
    "print(c); print(arr.dtype); print(c.dtype)"
   ]
  }
 ],
 "metadata": {
  "kernelspec": {
   "display_name": "Python 3",
   "language": "python",
   "name": "python3"
  },
  "language_info": {
   "codemirror_mode": {
    "name": "ipython",
    "version": 3
   },
   "file_extension": ".py",
   "mimetype": "text/x-python",
   "name": "python",
   "nbconvert_exporter": "python",
   "pygments_lexer": "ipython3",
   "version": "3.11.4"
  },
  "orig_nbformat": 4
 },
 "nbformat": 4,
 "nbformat_minor": 2
}
