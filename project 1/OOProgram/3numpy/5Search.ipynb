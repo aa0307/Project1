{
 "cells": [
  {
   "cell_type": "markdown",
   "metadata": {},
   "source": [
    "### Array Search\n",
    "Search an array for a certain value and return the index that get a match"
   ]
  },
  {
   "cell_type": "code",
   "execution_count": 4,
   "metadata": {},
   "outputs": [
    {
     "name": "stdout",
     "output_type": "stream",
     "text": [
      "(array([3, 5, 6], dtype=int64),)\n",
      "(array([1, 3, 5, 6], dtype=int64),)\n",
      "(array([0, 2, 4], dtype=int64),)\n"
     ]
    }
   ],
   "source": [
    "# .where\n",
    "import numpy as np\n",
    "arr=np.array([1,2,3,4,5,4,4])\n",
    "x=np.where(arr==4) # return index when condition (ie arr is equal to 4) matched\n",
    "print(x) # return array[index]\n",
    "y=np.where(arr%2==0); print(y) # % remainder\n",
    "z=np.where(arr%2==1); print(z)"
   ]
  },
  {
   "cell_type": "code",
   "execution_count": 1,
   "metadata": {},
   "outputs": [
    {
     "name": "stdout",
     "output_type": "stream",
     "text": [
      "[0 1 2 3]\n"
     ]
    }
   ],
   "source": [
    "# Sort\n",
    "\n",
    "import numpy as np\n",
    "arr=np.array([3,2,0,1])\n",
    "print(np.sort(arr))"
   ]
  },
  {
   "cell_type": "code",
   "execution_count": 3,
   "metadata": {},
   "outputs": [
    {
     "name": "stdout",
     "output_type": "stream",
     "text": [
      "['apple' 'c' 'd' 'egg']\n"
     ]
    }
   ],
   "source": [
    "import numpy as np\n",
    "arr=np.array(['cherry','d','apple','egg']) # 1D\n",
    "print(np.sort(arr))"
   ]
  },
  {
   "cell_type": "code",
   "execution_count": 6,
   "metadata": {},
   "outputs": [
    {
     "name": "stdout",
     "output_type": "stream",
     "text": [
      "a  [[1 2 6]\n",
      " [1 5 8]]\n",
      "b  [[5 2 1]\n",
      " [6 8 1]]\n",
      "c  [[1 2 6]\n",
      " [1 5 8]]\n",
      "d  [1 1 2 5 6 8]\n"
     ]
    }
   ],
   "source": [
    "# Sort 2D\n",
    "\n",
    "import numpy as np\n",
    "arr=np.array([[6,2,1],[5,8,1]]) # 2D\n",
    "a=np.sort(arr);print('a ',a)\n",
    "b=np.sort(arr, axis=0);print('b ',b)\n",
    "c=np.sort(arr, axis=1);print('c ',c)\n",
    "d=np.sort(arr, axis=None);print('d ',d)"
   ]
  },
  {
   "cell_type": "markdown",
   "metadata": {},
   "source": [
    "### Array Filter\n",
    "Getting some elements but of an existing array and creating a new array out of them is called filter"
   ]
  },
  {
   "cell_type": "code",
   "execution_count": 8,
   "metadata": {},
   "outputs": [
    {
     "name": "stdout",
     "output_type": "stream",
     "text": [
      "[41 43]\n"
     ]
    }
   ],
   "source": [
    "import numpy as np\n",
    "\n",
    "arr=np.array([41,42,43,44])\n",
    "x=[True, False, True, False]\n",
    "y=arr[x]\n",
    "print(y)"
   ]
  },
  {
   "cell_type": "code",
   "execution_count": 11,
   "metadata": {},
   "outputs": [
    {
     "name": "stdout",
     "output_type": "stream",
     "text": [
      "[False, False, True, True]\n",
      "[43 44]\n"
     ]
    }
   ],
   "source": [
    "import numpy as np\n",
    "arr=np.array([41,42,43,44])\n",
    "# create an empty list\n",
    "filter_arr=[]\n",
    "# go though each element in arr\n",
    "for element in arr:\n",
    "    # if the element in higher than 42, set the value to True, other False\n",
    "    if element >42:\n",
    "        filter_arr.append(True)\n",
    "    else:\n",
    "        filter_arr.append(False)\n",
    "newarr=arr[filter_arr] #filtering action\n",
    "print(filter_arr)\n",
    "print(newarr)\n",
    "    "
   ]
  },
  {
   "cell_type": "code",
   "execution_count": 12,
   "metadata": {},
   "outputs": [
    {
     "name": "stdout",
     "output_type": "stream",
     "text": [
      "[False False  True  True]\n",
      "[43 44]\n"
     ]
    }
   ],
   "source": [
    "import numpy as np\n",
    "arr=np.array([41,42,43,44])\n",
    "b=arr > 42 # create a filter array that will return values > 42\n",
    "newarr=arr[b]\n",
    "print(b)\n",
    "print(newarr)"
   ]
  },
  {
   "cell_type": "code",
   "execution_count": null,
   "metadata": {},
   "outputs": [],
   "source": [
    "import numpy as np\n",
    "arr=np.array([41,42,43,44])\n",
    "# create an empty list\n",
    "b=[]\n",
    "# go though each element in arr\n",
    "for element in arr:\n",
    "    # if the element in higher than 42, set the value to True, other False\n",
    "    if element >42:\n",
    "        b.append(True)\n",
    "    else:\n",
    "        b.append(False)\n",
    "newarr=arr[b] #filtering action ie [False, False, True, True]\n",
    "print(b)\n",
    "print(newarr)"
   ]
  }
 ],
 "metadata": {
  "kernelspec": {
   "display_name": "Python 3",
   "language": "python",
   "name": "python3"
  },
  "language_info": {
   "codemirror_mode": {
    "name": "ipython",
    "version": 3
   },
   "file_extension": ".py",
   "mimetype": "text/x-python",
   "name": "python",
   "nbconvert_exporter": "python",
   "pygments_lexer": "ipython3",
   "version": "3.11.4"
  },
  "orig_nbformat": 4
 },
 "nbformat": 4,
 "nbformat_minor": 2
}
