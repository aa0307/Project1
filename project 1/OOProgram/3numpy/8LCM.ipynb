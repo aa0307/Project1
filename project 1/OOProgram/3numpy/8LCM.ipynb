{
 "cells": [
  {
   "cell_type": "markdown",
   "metadata": {},
   "source": [
    "### LCM Lowest Common Multiple"
   ]
  },
  {
   "cell_type": "code",
   "execution_count": 2,
   "metadata": {},
   "outputs": [
    {
     "name": "stdout",
     "output_type": "stream",
     "text": [
      "12\n"
     ]
    }
   ],
   "source": [
    "import numpy as np\n",
    "\n",
    "a=4\n",
    "b=6\n",
    "x=np.lcm(a,b)\n",
    "print(x) # 4x3=12 ; 6x2=12"
   ]
  },
  {
   "cell_type": "code",
   "execution_count": 6,
   "metadata": {},
   "outputs": [
    {
     "name": "stdout",
     "output_type": "stream",
     "text": [
      "HCF  18\n",
      "3960.0\n",
      "3960\n"
     ]
    }
   ],
   "source": [
    "# HCF\n",
    "a=198\n",
    "b=360\n",
    "x=np.gcd(a,b) # HCF\n",
    "print('HCF ',x)\n",
    "y=a*b/x # by calculation\n",
    "print(y) # LCM\n",
    "z=np.lcm(a,b) # by numpy built-in function\n",
    "print(z) # LCM"
   ]
  },
  {
   "cell_type": "markdown",
   "metadata": {},
   "source": [
    "### Reduce() method \n",
    "returns a single ?"
   ]
  },
  {
   "cell_type": "code",
   "execution_count": 9,
   "metadata": {},
   "outputs": [
    {
     "name": "stdout",
     "output_type": "stream",
     "text": [
      "18\n"
     ]
    }
   ],
   "source": [
    "import numpy as np\n",
    "a=np.array([3,6,9])\n",
    "x=np.lcm.reduce(a) # reduce the array by one dimension\n",
    "print(x)"
   ]
  },
  {
   "cell_type": "code",
   "execution_count": 13,
   "metadata": {},
   "outputs": [
    {
     "name": "stdout",
     "output_type": "stream",
     "text": [
      "add [16 67 18]\n",
      "sum 101\n",
      "add reduce 101\n"
     ]
    }
   ],
   "source": [
    "import numpy as np\n",
    "a=np.array([3,6,9])\n",
    "b=np.array([13,61,9])\n",
    "c=np.add(a,b) ; print('add',c) # 1D array ie [x,y,z]\n",
    "d=np.sum(c); print('sum',d)\n",
    "e=np.add.reduce(c); print('add reduce',e) # reduce 1 dimension to 0 D\n",
    "# 0D is a point"
   ]
  },
  {
   "cell_type": "markdown",
   "metadata": {},
   "source": [
    "4 data type in Python\n",
    "\n",
    "1. List [ ]\n",
    "2. Dictionary { }\n",
    "3. Tuple ( )\n",
    "4. Set ( )"
   ]
  },
  {
   "cell_type": "markdown",
   "metadata": {},
   "source": [
    "### Numpy Set Operations"
   ]
  },
  {
   "cell_type": "code",
   "execution_count": 19,
   "metadata": {},
   "outputs": [
    {
     "name": "stdout",
     "output_type": "stream",
     "text": [
      "[1 2 3 4 5 6 7]\n",
      "<class 'numpy.ndarray'>\n",
      "<class 'set'>\n",
      "{1, 2, 3, 4, 5, 6, 7}\n"
     ]
    }
   ],
   "source": [
    "# np.unique()\n",
    "# the method find unique elements from array\n",
    "import numpy as np\n",
    "a=np.array([1,1,1,2,2,3,4,5,5,6,7])\n",
    "b=np.unique(a)\n",
    "print(b) ; print(type(b))\n",
    "x=set([1,1,1,2,2,3,4,5,5,6,7]) ; print(type(x))\n",
    "print(x)"
   ]
  },
  {
   "cell_type": "code",
   "execution_count": 20,
   "metadata": {},
   "outputs": [
    {
     "name": "stdout",
     "output_type": "stream",
     "text": [
      "[1 2 3 4 5 6]\n"
     ]
    }
   ],
   "source": [
    "# np.union(x,y)\n",
    "import numpy as np\n",
    "x=np.array([1,2,3,4])\n",
    "y=np.array([3,4,5,6])\n",
    "AA=np.union1d(x,y)\n",
    "print(AA)"
   ]
  },
  {
   "cell_type": "code",
   "execution_count": 6,
   "metadata": {},
   "outputs": [
    {
     "name": "stdout",
     "output_type": "stream",
     "text": [
      "[3 4]\n"
     ]
    }
   ],
   "source": [
    "# np.intersect1d()\n",
    "# find intersection of two arrays and\n",
    "# return the sorted, unique values that are in both input array\n",
    "\n",
    "import numpy as np\n",
    "a=np.array([1,2,3,4])\n",
    "b=np.array([3,4,5,6])\n",
    "# assume_unique default False, set True to speed up\n",
    "x=np.intersect1d(a,b,assume_unique=True)\n",
    "print(x)"
   ]
  },
  {
   "cell_type": "code",
   "execution_count": 7,
   "metadata": {},
   "outputs": [
    {
     "name": "stdout",
     "output_type": "stream",
     "text": [
      "[4 4 6]\n"
     ]
    }
   ],
   "source": [
    "# np.intersect1d()\n",
    "# find intersection of two arrays and\n",
    "# return the sorted, unique values that are in both input array\n",
    "\n",
    "import numpy as np\n",
    "a=np.array([4,2,3,4])\n",
    "b=np.array([6,4,5,6])\n",
    "# assume_unique default False, set True to speed up\n",
    "x=np.intersect1d(a,b,assume_unique=True)\n",
    "print(x)"
   ]
  },
  {
   "cell_type": "code",
   "execution_count": 14,
   "metadata": {},
   "outputs": [
    {
     "name": "stdout",
     "output_type": "stream",
     "text": [
      "[0 0 0 1 1 1]\n"
     ]
    }
   ],
   "source": [
    "# np.intersect1d()\n",
    "# find intersection of two arrays and\n",
    "# return the sorted, unique values that are in both input array\n",
    "\n",
    "import numpy as np\n",
    "a=np.array([0,1,0,1])\n",
    "b=np.array([1,0,1,0])\n",
    "# assume_unique default False, set True to speed up\n",
    "x=np.intersect1d(a,b,assume_unique=True)\n",
    "print(x)"
   ]
  },
  {
   "cell_type": "code",
   "execution_count": 18,
   "metadata": {},
   "outputs": [
    {
     "name": "stdout",
     "output_type": "stream",
     "text": [
      "[0 0 1]\n"
     ]
    }
   ],
   "source": [
    "# np.intersect1d()\n",
    "# find intersection of two arrays and\n",
    "# return the sorted, unique values that are in both input array\n",
    "\n",
    "import numpy as np\n",
    "a=np.array([0,1,0])\n",
    "b=np.array([1,0])\n",
    "# assume_unique default False, set True to speed up\n",
    "x=np.intersect1d(a,b,assume_unique=True)\n",
    "print(x)"
   ]
  },
  {
   "cell_type": "code",
   "execution_count": 19,
   "metadata": {},
   "outputs": [
    {
     "name": "stdout",
     "output_type": "stream",
     "text": [
      "[0 0 0 0 0 1 1 1 1 1]\n"
     ]
    }
   ],
   "source": [
    "# np.intersect1d()\n",
    "# find intersection of two arrays and\n",
    "# return the sorted, unique values that are in both input array\n",
    "\n",
    "import numpy as np\n",
    "a=np.array([0,1,0,1,0,1])\n",
    "b=np.array([1,0,1,0,1,0])\n",
    "# assume_unique default False, set True to speed up\n",
    "x=np.intersect1d(a,b,assume_unique=True)\n",
    "print(x)"
   ]
  },
  {
   "cell_type": "code",
   "execution_count": 24,
   "metadata": {},
   "outputs": [
    {
     "name": "stdout",
     "output_type": "stream",
     "text": [
      "[]\n"
     ]
    }
   ],
   "source": [
    "# np.intersect1d()\n",
    "# find intersection of two arrays and\n",
    "# return the sorted, unique values that are in both input array\n",
    "\n",
    "import numpy as np\n",
    "a=np.array([1,1,1,1,4])\n",
    "b=np.array([0,2,0,2,3,3])\n",
    "# assume_unique default False, set True to speed up\n",
    "x=np.intersect1d(a,b,assume_unique=False)\n",
    "print(x)"
   ]
  },
  {
   "cell_type": "code",
   "execution_count": 25,
   "metadata": {},
   "outputs": [
    {
     "name": "stdout",
     "output_type": "stream",
     "text": [
      "[1]\n"
     ]
    }
   ],
   "source": [
    "# np.intersect1d()\n",
    "# find intersection of two arrays and\n",
    "# return the sorted, unique values that are in both input array\n",
    "\n",
    "import numpy as np\n",
    "a=np.array([1,1,1,1,4])\n",
    "b=np.array([0,2,1,2,3,3])\n",
    "# assume_unique default False, set True to speed up\n",
    "x=np.intersect1d(a,b,assume_unique=False)\n",
    "print(x)"
   ]
  },
  {
   "cell_type": "code",
   "execution_count": 26,
   "metadata": {},
   "outputs": [
    {
     "name": "stdout",
     "output_type": "stream",
     "text": [
      "[3 4]\n"
     ]
    }
   ],
   "source": [
    "# np.intersect1d()\n",
    "# find difference of the set1 from set2\n",
    "import numpy as np\n",
    "set1=np.array([1,2,3,4])\n",
    "set2=np.array([3,4,5,6])\n",
    "x=np.intersect1d(set1,set2) # view from set2\n",
    "print(x)"
   ]
  },
  {
   "cell_type": "code",
   "execution_count": 28,
   "metadata": {},
   "outputs": [
    {
     "name": "stdout",
     "output_type": "stream",
     "text": [
      "[1 2 5 6]\n"
     ]
    }
   ],
   "source": [
    "# np.setxor1d()\n",
    "# values that are nott present in both sets\n",
    "\n",
    "import numpy as np\n",
    "set1=np.array([1,2,3,4])\n",
    "set2=np.array([3,4,5,6])\n",
    "AA=np.setxor1d(set1,set2)\n",
    "print(AA)"
   ]
  }
 ],
 "metadata": {
  "kernelspec": {
   "display_name": "Python 3",
   "language": "python",
   "name": "python3"
  },
  "language_info": {
   "codemirror_mode": {
    "name": "ipython",
    "version": 3
   },
   "file_extension": ".py",
   "mimetype": "text/x-python",
   "name": "python",
   "nbconvert_exporter": "python",
   "pygments_lexer": "ipython3",
   "version": "3.11.4"
  },
  "orig_nbformat": 4
 },
 "nbformat": 4,
 "nbformat_minor": 2
}
