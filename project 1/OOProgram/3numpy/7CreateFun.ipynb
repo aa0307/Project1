{
 "cells": [
  {
   "cell_type": "markdown",
   "metadata": {},
   "source": [
    "### Create Universial function"
   ]
  },
  {
   "cell_type": "code",
   "execution_count": 4,
   "metadata": {},
   "outputs": [
    {
     "name": "stdout",
     "output_type": "stream",
     "text": [
      "[6 8 10 12]\n",
      "<class 'numpy.ufunc'>\n",
      "<class 'numpy.ndarray'>\n",
      "<class 'function'>\n"
     ]
    }
   ],
   "source": [
    "# .frompyfunc(in function,no.of in argument,no.out array)\n",
    "import numpy as np\n",
    "def a(x,y):\n",
    "    b=x+y\n",
    "    return(b)\n",
    "ufun=np.frompyfunc(a,2,1) # a = function 2 = number of input 1 = output\n",
    "AA=ufun([1,2,3,4],[5,6,7,8]) # two values add up\n",
    "print(AA)\n",
    "print(type(ufun))\n",
    "print(type(AA))\n",
    "print(type(a))"
   ]
  },
  {
   "cell_type": "code",
   "execution_count": 5,
   "metadata": {},
   "outputs": [
    {
     "name": "stdout",
     "output_type": "stream",
     "text": [
      "[1, 2, 3, 4, 5, 6, 7, 8]\n"
     ]
    }
   ],
   "source": [
    "import numpy as np\n",
    "def a(x,y):\n",
    "    b=x+y\n",
    "    return(b)\n",
    "BB=a([1,2,3,4],[5,6,7,8]) # add two lists give a joined list\n",
    "print(BB)"
   ]
  },
  {
   "cell_type": "code",
   "execution_count": 6,
   "metadata": {},
   "outputs": [
    {
     "name": "stdout",
     "output_type": "stream",
     "text": [
      "[ 6  8 10 12]\n",
      "<class 'numpy.ufunc'>\n"
     ]
    }
   ],
   "source": [
    "# np.add is a u function\n",
    "import numpy as np\n",
    "a=np.add([1,2,3,4],[5,6,7,8])\n",
    "print(a)\n",
    "print(type(np.add))"
   ]
  },
  {
   "cell_type": "code",
   "execution_count": 7,
   "metadata": {},
   "outputs": [
    {
     "name": "stdout",
     "output_type": "stream",
     "text": [
      "[11 22 33 44]\n"
     ]
    }
   ],
   "source": [
    "# np.add is a u function\n",
    "# import numpy as np\n",
    "# x=np.array([1,2,3,4])\n",
    "# y=np.array([10,20])\n",
    "# np.add.at(x,[0,3],y) # x+y under condition [0,3], result in x\n",
    "# print(x)\n",
    "import numpy as np\n",
    "x=np.array([1,2,3,4])\n",
    "y=np.array([10,20,30,40])\n",
    "AA=np.add(x,y)\n",
    "print(AA)"
   ]
  },
  {
   "cell_type": "code",
   "execution_count": 8,
   "metadata": {},
   "outputs": [
    {
     "name": "stdout",
     "output_type": "stream",
     "text": [
      "[ 2  6 12]\n",
      "[  2  12 144]\n",
      "[ 1  2  3  4  5  6  7  8  9 10 11 12 13 14 15 16 17 18 19 20 21 22 23 24\n",
      " 25 26 27 28 29 30 31 32 33 34 35 36 37 38 39 40 41 42 43 44 45 46 47 48\n",
      " 49 50 51 52 53 54 55 56 57 58 59 60 61 62 63 64 65 66 67 68 69 70 71 72\n",
      " 73 74 75 76 77 78 79 80 81 82 83 84 85 86 87 88 89 90 91 92 93 94 95 96\n",
      " 97 98 99]\n",
      "[          1           2           6          24         120         720\n",
      "        5040       40320      362880     3628800    39916800   479001600\n",
      "  1932053504  1278945280  2004310016  2004189184  -288522240  -898433024\n",
      "   109641728 -2102132736 -1195114496  -522715136   862453760  -775946240\n",
      "  2076180480 -1853882368  1484783616 -1375731712 -1241513984  1409286144\n",
      "   738197504 -2147483648 -2147483648           0           0           0\n",
      "           0           0           0           0           0           0\n",
      "           0           0           0           0           0           0\n",
      "           0           0           0           0           0           0\n",
      "           0           0           0           0           0           0\n",
      "           0           0           0           0           0           0\n",
      "           0           0           0           0           0           0\n",
      "           0           0           0           0           0           0\n",
      "           0           0           0           0           0           0\n",
      "           0           0           0           0           0           0\n",
      "           0           0           0           0           0           0\n",
      "           0           0           0]\n"
     ]
    }
   ],
   "source": [
    "\n",
    "# .accumulate()\n",
    "import numpy as np\n",
    "a=np.array([2,4,6])\n",
    "b=np.add.accumulate(a) # accumulation\n",
    "print(b)# 2, 2+4, 2+4+6\n",
    "\n",
    "c=np.multiply.accumulate(b)\n",
    "print(c)\n",
    "\n",
    "d=np.arange(100)\n",
    "d=np.delete(d,np.s_[0])\n",
    "print(d)\n",
    "e=np.multiply.accumulate(d)\n",
    "print(e)"
   ]
  },
  {
   "cell_type": "code",
   "execution_count": 9,
   "metadata": {},
   "outputs": [
    {
     "name": "stdout",
     "output_type": "stream",
     "text": [
      ".sum() 21\n",
      ".add() [5 7 9]\n"
     ]
    }
   ],
   "source": [
    "# .add() add up two arguments\n",
    "# .add(x,y) add is done between two arguments\n",
    "# .sum([x,y]) sum of all elements\n",
    "\n",
    "import numpy as np\n",
    "a=np.array([1,2,3])\n",
    "b=np.array([4,5,6])\n",
    "x=np.sum([a,b])\n",
    "print('.sum()',x)\n",
    "y=np.add(a,b)\n",
    "print('.add()',y)"
   ]
  },
  {
   "cell_type": "code",
   "execution_count": 10,
   "metadata": {},
   "outputs": [
    {
     "name": "stdout",
     "output_type": "stream",
     "text": [
      "[3 3 3]\n"
     ]
    }
   ],
   "source": [
    "# np.subtract\n",
    "a=np.array([1,2,3])\n",
    "b=np.array([4,5,6])\n",
    "x=np.subtract(b,a)\n",
    "print(x)"
   ]
  },
  {
   "cell_type": "code",
   "execution_count": 24,
   "metadata": {},
   "outputs": [
    {
     "name": "stdout",
     "output_type": "stream",
     "text": [
      "[ 4 10 18]\n",
      "[ 8 10 12]\n"
     ]
    }
   ],
   "source": [
    "# np.multiply\n",
    "a=np.array([1,2,3])\n",
    "b=np.array([4,5,6])\n",
    "x=np.multiply(b,a)\n",
    "print(x)\n",
    "\n",
    "c=b*a[1]\n",
    "print(c)"
   ]
  },
  {
   "cell_type": "code",
   "execution_count": 12,
   "metadata": {},
   "outputs": [
    {
     "name": "stdout",
     "output_type": "stream",
     "text": [
      "axis0 [ 4 10 18]\n",
      "axis1 [120   6]\n",
      "axis1 [  6 120]\n"
     ]
    }
   ],
   "source": [
    "# np.prod([x,y])\n",
    "a=np.array([1,2,3])\n",
    "b=np.array([4,5,6])\n",
    "x=np.prod([b,a],axis=0)\n",
    "y=np.prod([b,a],axis=1)\n",
    "z=np.prod([a,b],axis=1)\n",
    "print('axis0',x)\n",
    "print('axis1',y)\n",
    "print('axis1',z)"
   ]
  },
  {
   "cell_type": "code",
   "execution_count": 13,
   "metadata": {},
   "outputs": [
    {
     "name": "stdout",
     "output_type": "stream",
     "text": [
      "[2.  4.2 3. ]\n",
      "[0.5        0.23809524 0.33333333]\n"
     ]
    }
   ],
   "source": [
    "# np.divide(x,y)\n",
    "a=np.array([8,21,18])\n",
    "b=np.array([4,5,6])\n",
    "x=np.divide(a,b)\n",
    "y=np.divide(b,a)\n",
    "print(x); print(y)\n"
   ]
  },
  {
   "cell_type": "code",
   "execution_count": 14,
   "metadata": {},
   "outputs": [
    {
     "name": "stdout",
     "output_type": "stream",
     "text": [
      "[  4  25 216]\n",
      "[  1  32 729]\n"
     ]
    }
   ],
   "source": [
    "# np.power(x,y)\n",
    "a=np.array([1,2,3])\n",
    "b=np.array([4,5,6])\n",
    "x=np.power(b,a)\n",
    "y=np.power(a,b)\n",
    "print(x); print(y)"
   ]
  },
  {
   "cell_type": "code",
   "execution_count": 15,
   "metadata": {},
   "outputs": [
    {
     "name": "stdout",
     "output_type": "stream",
     "text": [
      "mod [1 6 3]\n",
      "remainder [1 6 3]\n"
     ]
    }
   ],
   "source": [
    "# np.mod(x,y)\n",
    "# np.remainder(x,y)\n",
    "a=np.array([10,20,30])\n",
    "b=np.array([3,7,9])\n",
    "x=np.mod(a,b) # [10-3x3=1,]\n",
    "y=np.remainder(a,b)\n",
    "print('mod',x)\n",
    "print('remainder',y)"
   ]
  },
  {
   "cell_type": "code",
   "execution_count": 16,
   "metadata": {},
   "outputs": [
    {
     "name": "stdout",
     "output_type": "stream",
     "text": [
      "[1 2 3 4 5 6 7 8]\n"
     ]
    }
   ],
   "source": [
    "# np.absolute\n",
    "import numpy as np\n",
    "a=np.array([-1,-2,-3,4,-5,6,7,-8])\n",
    "x=np.absolute(a)\n",
    "print(x)"
   ]
  }
 ],
 "metadata": {
  "kernelspec": {
   "display_name": "Python 3",
   "language": "python",
   "name": "python3"
  },
  "language_info": {
   "codemirror_mode": {
    "name": "ipython",
    "version": 3
   },
   "file_extension": ".py",
   "mimetype": "text/x-python",
   "name": "python",
   "nbconvert_exporter": "python",
   "pygments_lexer": "ipython3",
   "version": "3.11.4"
  },
  "orig_nbformat": 4
 },
 "nbformat": 4,
 "nbformat_minor": 2
}
