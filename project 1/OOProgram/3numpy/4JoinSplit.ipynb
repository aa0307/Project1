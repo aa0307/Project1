{
 "cells": [
  {
   "cell_type": "markdown",
   "metadata": {},
   "source": [
    "# JoinSplit"
   ]
  },
  {
   "cell_type": "markdown",
   "metadata": {},
   "source": [
    "### Joining Numpy Arrays\n",
    "Put contents of two or more arrays in a single array"
   ]
  },
  {
   "cell_type": "markdown",
   "metadata": {},
   "source": [
    ".concatenate()\n",
    "the function joins elements of two arrays along an existing axis"
   ]
  },
  {
   "cell_type": "code",
   "execution_count": 2,
   "metadata": {},
   "outputs": [
    {
     "name": "stdout",
     "output_type": "stream",
     "text": [
      "[1 2 3 4 5 6]\n"
     ]
    }
   ],
   "source": [
    "# . concatenate()\n",
    "import numpy as np\n",
    "arr1=np.array([1,2,3]) #1D array\n",
    "arr2=np.array([4,5,6])\n",
    "arr=np.concatenate((arr1,arr2)) # default axis=0\n",
    "print(arr)"
   ]
  },
  {
   "cell_type": "code",
   "execution_count": 3,
   "metadata": {},
   "outputs": [
    {
     "name": "stdout",
     "output_type": "stream",
     "text": [
      "[[1 4]\n",
      " [2 5]\n",
      " [3 6]]\n",
      "[[1 2 3]\n",
      " [4 5 6]]\n"
     ]
    }
   ],
   "source": [
    "# .stack\n",
    "import numpy as np\n",
    "arr1=np.array([1,2,3]) #1D array\n",
    "arr2=np.array([4,5,6])\n",
    "arr_axis1=np.stack((arr1,arr2),axis=1) # 2D array\n",
    "print(arr_axis1)\n",
    "arr_axis0=np.stack((arr1,arr2),axis=0) # 2D array\n",
    "print(arr_axis0)"
   ]
  },
  {
   "cell_type": "code",
   "execution_count": 4,
   "metadata": {},
   "outputs": [
    {
     "name": "stdout",
     "output_type": "stream",
     "text": [
      "[[1 2 5 6]\n",
      " [3 4 7 8]]\n",
      "[[1 2]\n",
      " [3 4]\n",
      " [5 6]\n",
      " [7 8]]\n"
     ]
    }
   ],
   "source": [
    "# 2D\n",
    "# . concatenate()\n",
    "import numpy as np\n",
    "arr1=np.array([[1,2],[3,4]]) #2D array\n",
    "arr2=np.array([[5,6],[7,8]])\n",
    "arr_axis1=np.concatenate((arr1,arr2),axis=1) #  \n",
    "arr_axis0=np.concatenate((arr1,arr2)) # default axis=0\n",
    "print(arr_axis1);print(arr_axis0)"
   ]
  },
  {
   "cell_type": "code",
   "execution_count": 10,
   "metadata": {},
   "outputs": [
    {
     "name": "stdout",
     "output_type": "stream",
     "text": [
      "[[0. 0.]]\n",
      "2\n",
      "[[0. 0.]\n",
      " [2. 3.]]\n",
      "2\n"
     ]
    },
    {
     "data": {
      "text/plain": [
       "(None, None)"
      ]
     },
     "execution_count": 10,
     "metadata": {},
     "output_type": "execute_result"
    }
   ],
   "source": [
    "#.append\n",
    "a=np.zeros([1,2])# generate an array with zero number with shape row =1 column 2\n",
    "print(a), print(a.ndim)\n",
    "b=np.append(a,[[2,3]],axis=0) # numpy.append(input, value, axis)\n",
    "print(b), print(b.ndim)"
   ]
  },
  {
   "cell_type": "code",
   "execution_count": 11,
   "metadata": {},
   "outputs": [
    {
     "name": "stdout",
     "output_type": "stream",
     "text": [
      "[[0. 0.]\n",
      " [2. 3.]]\n"
     ]
    }
   ],
   "source": [
    "# insert\n",
    "a=np.zeros([1,2])# generate a 2Darray zero with shape row =1 column 2\n",
    "# print(a), print(a.ndim)\n",
    "b=np.append(a,[[2,3]],axis=0) # numpy.append(input, value, axis)\n",
    "print(b) #;print(b.ndim)\n",
    "c=np.insert(b,[2],[4.5],axis=0) # numpy.insert(input,location, value, axis)\n",
    "print(c);# print(c.ndim)"
   ]
  }
 ],
 "metadata": {
  "kernelspec": {
   "display_name": "Python 3",
   "language": "python",
   "name": "python3"
  },
  "language_info": {
   "codemirror_mode": {
    "name": "ipython",
    "version": 3
   },
   "file_extension": ".py",
   "mimetype": "text/x-python",
   "name": "python",
   "nbconvert_exporter": "python",
   "pygments_lexer": "ipython3",
   "version": "3.11.4"
  },
  "orig_nbformat": 4
 },
 "nbformat": 4,
 "nbformat_minor": 2
}
