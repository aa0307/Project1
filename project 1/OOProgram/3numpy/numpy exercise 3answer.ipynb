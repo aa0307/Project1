{
 "cells": [
  {
   "cell_type": "markdown",
   "metadata": {},
   "source": [
    "## Numpy Exercise 3"
   ]
  },
  {
   "cell_type": "code",
   "execution_count": 2,
   "metadata": {},
   "outputs": [],
   "source": [
    "import numpy as np"
   ]
  },
  {
   "cell_type": "code",
   "execution_count": 3,
   "metadata": {},
   "outputs": [
    {
     "name": "stdout",
     "output_type": "stream",
     "text": [
      "[1 4 9]\n"
     ]
    }
   ],
   "source": [
    "# 53\n",
    "a=np.array([1,2,3])\n",
    "b=np.power(a,2)\n",
    "print(b)"
   ]
  },
  {
   "cell_type": "code",
   "execution_count": 4,
   "metadata": {},
   "outputs": [
    {
     "name": "stdout",
     "output_type": "stream",
     "text": [
      "[2. 3. 4.]\n"
     ]
    }
   ],
   "source": [
    "a=np.array([4,9,16])\n",
    "b=np.sqrt(a)\n",
    "print(b)"
   ]
  },
  {
   "cell_type": "code",
   "execution_count": 5,
   "metadata": {},
   "outputs": [
    {
     "name": "stdout",
     "output_type": "stream",
     "text": [
      "[False  True False]\n"
     ]
    }
   ],
   "source": [
    "# 54\n",
    "a=np.array([True,False,True])\n",
    "b=np.logical_not(a)\n",
    "print(b)"
   ]
  },
  {
   "cell_type": "code",
   "execution_count": 6,
   "metadata": {},
   "outputs": [
    {
     "name": "stdout",
     "output_type": "stream",
     "text": [
      "[False False False  True]\n",
      "[False  True  True  True]\n",
      "[False  True  True False]\n"
     ]
    }
   ],
   "source": [
    "a=np.array([False,True,False,True])\n",
    "b=np.array([False,False,True,True])\n",
    "and_ab=np.logical_and(a,b)\n",
    "or_ab=np.logical_or(a,b)\n",
    "xor_ab=np.logical_xor(a,b)\n",
    "print(and_ab)\n",
    "print(or_ab)\n",
    "print(xor_ab)"
   ]
  },
  {
   "cell_type": "code",
   "execution_count": 7,
   "metadata": {},
   "outputs": [
    {
     "data": {
      "text/plain": [
       "array([-1, -2,  3,  4])"
      ]
     },
     "execution_count": 7,
     "metadata": {},
     "output_type": "execute_result"
    }
   ],
   "source": [
    "# 56\n",
    "a=np.array([1,2,3,4])\n",
    "np.negative.at(a,[0,1])\n",
    "a"
   ]
  },
  {
   "cell_type": "code",
   "execution_count": 8,
   "metadata": {},
   "outputs": [
    {
     "data": {
      "text/plain": [
       "array([2, 4, 3, 4])"
      ]
     },
     "execution_count": 8,
     "metadata": {},
     "output_type": "execute_result"
    }
   ],
   "source": [
    "# 57\n",
    "a=np.array([1,2,3,4])\n",
    "b=np.array([1,2])\n",
    "np.add.at(a,[0,1],b)\n",
    "a"
   ]
  },
  {
   "cell_type": "code",
   "execution_count": 28,
   "metadata": {},
   "outputs": [
    {
     "name": "stdout",
     "output_type": "stream",
     "text": [
      "b [1 3 6]\n",
      "c [1 2 6]\n"
     ]
    }
   ],
   "source": [
    "# 58\n",
    "a=np.array([1,2,3])\n",
    "b=np.add.accumulate(a)\n",
    "c=np.multiply.accumulate(a)\n",
    "print('b',b)\n",
    "print('c',c)"
   ]
  },
  {
   "cell_type": "code",
   "execution_count": 10,
   "metadata": {},
   "outputs": [
    {
     "data": {
      "text/plain": [
       "24"
      ]
     },
     "execution_count": 10,
     "metadata": {},
     "output_type": "execute_result"
    }
   ],
   "source": [
    "# 59\n",
    "a=np.array([2,3,4])\n",
    "b=np.multiply.reduce(a)\n",
    "b"
   ]
  },
  {
   "cell_type": "code",
   "execution_count": 11,
   "metadata": {},
   "outputs": [
    {
     "data": {
      "text/plain": [
       "9"
      ]
     },
     "execution_count": 11,
     "metadata": {},
     "output_type": "execute_result"
    }
   ],
   "source": [
    "c=b=np.add.reduce(a)\n",
    "c"
   ]
  },
  {
   "cell_type": "code",
   "execution_count": 12,
   "metadata": {},
   "outputs": [
    {
     "data": {
      "text/plain": [
       "4096"
      ]
     },
     "execution_count": 12,
     "metadata": {},
     "output_type": "execute_result"
    }
   ],
   "source": [
    "d=np.power.reduce(a)\n",
    "d"
   ]
  },
  {
   "cell_type": "code",
   "execution_count": 16,
   "metadata": {},
   "outputs": [
    {
     "name": "stdout",
     "output_type": "stream",
     "text": [
      "x [[ 4  5  6]\n",
      " [ 8 10 12]\n",
      " [12 15 18]]\n",
      "y [ 4 10 18]\n"
     ]
    }
   ],
   "source": [
    "# 60\n",
    "a=np.array([1,2,3])\n",
    "b=np.array([4,5,6])\n",
    "x=np.multiply.outer(a,b)\n",
    "print('x',x)\n",
    "y=np.multiply(a,b)\n",
    "print('y',y)"
   ]
  },
  {
   "cell_type": "code",
   "execution_count": 20,
   "metadata": {},
   "outputs": [
    {
     "name": "stdout",
     "output_type": "stream",
     "text": [
      "[ 1  4 81]\n",
      "[ 1.  4. 81.]\n"
     ]
    }
   ],
   "source": [
    "# 61\n",
    "a=np.array([1,2,3])\n",
    "b=np.array([0,2,4])\n",
    "x=np.power(a,b)\n",
    "print(x)\n",
    "y=np.float_power(a,b)\n",
    "print(y)"
   ]
  },
  {
   "cell_type": "code",
   "execution_count": 25,
   "metadata": {},
   "outputs": [
    {
     "name": "stdout",
     "output_type": "stream",
     "text": [
      "[1 2 3]\n",
      "[1 2 3]\n",
      "[1 2 3]\n"
     ]
    }
   ],
   "source": [
    "# 62\n",
    "a=np.array([3,5,7])\n",
    "b=np.array([2,3,4])\n",
    "x=np.remainder(a,b)\n",
    "print(x)\n",
    "y=a%b\n",
    "print(y)\n",
    "z=np.mod(a,b)\n",
    "print(z)"
   ]
  },
  {
   "cell_type": "code",
   "execution_count": 27,
   "metadata": {},
   "outputs": [
    {
     "name": "stdout",
     "output_type": "stream",
     "text": [
      "[3.5        2.33333333 1.75       2.2       ]\n",
      "[3 2 1 2]\n"
     ]
    }
   ],
   "source": [
    "# 63\n",
    "a=np.array([7,7,7,11])\n",
    "b=np.array([2,3,4,5])\n",
    "x=np.divide(a,b)\n",
    "print(x)\n",
    "y=np.floor_divide(a,b)\n",
    "print(y)"
   ]
  }
 ],
 "metadata": {
  "kernelspec": {
   "display_name": "Python 3",
   "language": "python",
   "name": "python3"
  },
  "language_info": {
   "codemirror_mode": {
    "name": "ipython",
    "version": 3
   },
   "file_extension": ".py",
   "mimetype": "text/x-python",
   "name": "python",
   "nbconvert_exporter": "python",
   "pygments_lexer": "ipython3",
   "version": "3.11.4"
  },
  "orig_nbformat": 4
 },
 "nbformat": 4,
 "nbformat_minor": 2
}
