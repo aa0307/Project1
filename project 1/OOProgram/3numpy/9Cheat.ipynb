{
 "cells": [
  {
   "cell_type": "markdown",
   "metadata": {},
   "source": [
    "### Cheating Array"
   ]
  },
  {
   "cell_type": "code",
   "execution_count": 1,
   "metadata": {},
   "outputs": [],
   "source": [
    "import numpy as np\n"
   ]
  },
  {
   "cell_type": "code",
   "execution_count": 5,
   "metadata": {},
   "outputs": [
    {
     "name": "stdout",
     "output_type": "stream",
     "text": [
      "3\n",
      "(2, 2, 3)\n"
     ]
    }
   ],
   "source": [
    "# create 1D array\n",
    "a=np.array([1,2,3])\n",
    "#2D array\n",
    "b=np.array([[1.4,2.0,3.0],[4,5,6]],dtype=float)\n",
    "# 3D array\n",
    "c=np.array([[(1.5,2.0,3.0),(4,5,6)],[(3,2,1),(3,4,5)]],dtype=float)\n",
    "# print(c)\n",
    "print(c.ndim)\n",
    "print(c.shape)"
   ]
  },
  {
   "cell_type": "markdown",
   "metadata": {},
   "source": [
    "### Initial Placeholders"
   ]
  },
  {
   "cell_type": "code",
   "execution_count": 15,
   "metadata": {},
   "outputs": [
    {
     "data": {
      "text/plain": [
       "array([[1.39069238e-309, 1.39069238e-309],\n",
       "       [1.39069238e-309, 1.39069238e-309],\n",
       "       [1.39069238e-309, 1.39069238e-309]])"
      ]
     },
     "execution_count": 15,
     "metadata": {},
     "output_type": "execute_result"
    }
   ],
   "source": [
    "# Create an array of zeros, ones\n",
    "a=np.zeros((3,4))\n",
    "b=np.ones((2,3,4),dtype=np.int16)\n",
    "\n",
    "# Create an array of evenly spaced valued (step value)\n",
    "c=np.arange(10,25,5)\n",
    "\n",
    "# Create an array of evenly saced values (number of samples)\n",
    "d=np.linspace(0,2,9)# (start, end, np of samples)\n",
    "\n",
    "# Create a constant array\n",
    "e=np.full((2,2),7)# (shape,filled with a specified value)\n",
    "\n",
    "# Create a 2x2 identity matrix\n",
    "f=np.eye(2) # 1 on the main diagonal, and 0 everywhere else\n",
    "\n",
    "# Create an array with random values\n",
    "g=np.random.random((2,2))\n",
    "\n",
    "# Create an empty array\n",
    "h=np.empty((3,2))\n",
    "h"
   ]
  },
  {
   "cell_type": "markdown",
   "metadata": {},
   "source": [
    "### Arithmetic Operation"
   ]
  },
  {
   "cell_type": "code",
   "execution_count": 17,
   "metadata": {},
   "outputs": [],
   "source": [
    "AA=[5,6,7]\n",
    "BB=[1,2,3]\n",
    "# Subtraction\n",
    "i=np.subtract(AA,BB)\n",
    "# Addition\n",
    "j=np.add(AA,BB)\n",
    "# Division\n",
    "k=np.divide(AA,BB)\n",
    "# Multiplication\n",
    "l=np.multiply(AA,BB)"
   ]
  },
  {
   "cell_type": "markdown",
   "metadata": {},
   "source": [
    "### Sorting Arrays"
   ]
  },
  {
   "cell_type": "code",
   "execution_count": 22,
   "metadata": {},
   "outputs": [],
   "source": [
    "a=np.array([3,1,8,9,6])\n",
    "AA=np.array([[1,2,3],[4,5,6]])\n",
    "# Sort an array\n",
    "a.sort()\n",
    "# Sort an array reverse order\n",
    "m=sorted(a,reverse=True)\n",
    "AA.sort(axis=0)"
   ]
  },
  {
   "cell_type": "markdown",
   "metadata": {},
   "source": [
    "### Array Manipiulation"
   ]
  },
  {
   "cell_type": "code",
   "execution_count": 31,
   "metadata": {},
   "outputs": [
    {
     "name": "stdout",
     "output_type": "stream",
     "text": [
      "[[1 2 3]]\n",
      "BB [[1 2 3]\n",
      " [4 5 6]]\n"
     ]
    },
    {
     "data": {
      "text/plain": [
       "[array([[ 1,  2],\n",
       "        [ 4,  5],\n",
       "        [ 7,  8],\n",
       "        [10, 11]]),\n",
       " array([[ 3,  9],\n",
       "        [ 6,  8],\n",
       "        [ 9,  7],\n",
       "        [12,  6]])]"
      ]
     },
     "execution_count": 31,
     "metadata": {},
     "output_type": "execute_result"
    }
   ],
   "source": [
    "AA=np.array([[1,2,3],[4,5,6]])\n",
    "BB=np.array([[1,2,3],[4,5,6]])\n",
    "CC=np.array([1,2,3])\n",
    "DD=np.array([4,5,6])\n",
    "EE=np.array([[1,2,3,9],[4,5,6,8],[7,8,9,7],[10,11,12,6]])\n",
    "# Transposing array\n",
    "n=AA.T\n",
    "\n",
    "# Changing array Shape\n",
    "o=AA.ravel() # flatten the array\n",
    "p=AA.reshape(3,2)# return an reshaped array and no change of data\n",
    "AA.resize(2,3)# return none value and changed of original shape\n",
    "q=np.append(BB,[[2,3,4]],axis=0)# append items to an array\n",
    "r=np.insert(BB,[1],[10,11,12],axis=0)# insert to row 2\n",
    "s=np.delete(BB,[1],axis=0)# delete item from an array\n",
    "print(s)\n",
    "print('BB',BB)\n",
    "\n",
    "# Combining arrays\n",
    "t=np.concatenate((CC,DD))# concatenate two arrays\n",
    "u=np.vstack((CC,DD))# stack arrays vertically(row-wise)\n",
    "v=np.hstack((CC,DD))# horizontally\n",
    "\n",
    "# Splitting array\n",
    "r=np.vsplit(EE,2)# Split the array verically\n",
    "s=np.hsplit(EE,2)# horizontally"
   ]
  }
 ],
 "metadata": {
  "kernelspec": {
   "display_name": "Python 3",
   "language": "python",
   "name": "python3"
  },
  "language_info": {
   "codemirror_mode": {
    "name": "ipython",
    "version": 3
   },
   "file_extension": ".py",
   "mimetype": "text/x-python",
   "name": "python",
   "nbconvert_exporter": "python",
   "pygments_lexer": "ipython3",
   "version": "3.11.4"
  },
  "orig_nbformat": 4
 },
 "nbformat": 4,
 "nbformat_minor": 2
}
