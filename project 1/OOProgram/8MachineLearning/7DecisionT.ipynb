{
 "cells": [
  {
   "cell_type": "markdown",
   "metadata": {},
   "source": [
    "# Machine learning\n",
    "\n",
    "## Decision Tree\n",
    "\n",
    "Decision Tree is a flow chart like tree structure where an internal node (節點) represents an attribute, the branch represents a decision rule, and each leaf node (分支) represents the outcome. It is a Supervised learning algorithm that is used for classification and regression."
   ]
  },
  {
   "cell_type": "code",
   "execution_count": 1,
   "metadata": {},
   "outputs": [
    {
     "name": "stdout",
     "output_type": "stream",
     "text": [
      "   Age  Experience  Rank Nationality  Go\n",
      "0   36          10     9          UK  NO\n",
      "1   42          12     4         USA  NO\n",
      "2   23           4     6           N  NO\n"
     ]
    }
   ],
   "source": [
    "# pip install openpyxl\n",
    "import pandas as pd\n",
    "df=pd.read_excel('data_decision.xlsx')\n",
    "print(df.head(3))\n",
    "# Registered every time theree was a show in town\n",
    "# and registered information about the performer"
   ]
  },
  {
   "cell_type": "code",
   "execution_count": null,
   "metadata": {},
   "outputs": [],
   "source": [
    "# convert the non numerical columns (ie 'Nationality','Go')\n",
    "# into numerical values\n",
    "d={'UK':0,'USA':1,'N':2}\n",
    "# .map() to change string into numerical values\n",
    "df['Nationality']=df['Nationality'].map(d)\n",
    "d={'YES':1,'NO':0}\n",
    "df['Go']=df['Go'].map(d)\n",
    "print(df.head())"
   ]
  },
  {
   "cell_type": "code",
   "execution_count": null,
   "metadata": {},
   "outputs": [],
   "source": [
    "# Separate the feature columns from the Target column\n",
    "features=['Age','Experience','Rank','Nationality']\n",
    "X=df[features]\n",
    "y=df['Go']\n",
    "print('The features that we try to predict from\\n')\n",
    "print(X)\n",
    "print('The Target that we try to predict (ie go or no go)\\n')\n",
    "print(y)"
   ]
  },
  {
   "cell_type": "code",
   "execution_count": null,
   "metadata": {},
   "outputs": [],
   "source": [
    "from sklearn import tree\n",
    "from sklearn.tree import DecisionTreeClassifier\n",
    "# develop decision tree by\n",
    "# breakdown dataset to subsets\n",
    "dtree= DecisionTreeClassifier()\n",
    "dtree=dtree.fit(X,y)\n",
    "# PLot a decision tree\n",
    "tree.plot_tree(dtree,feature_names=features)"
   ]
  },
  {
   "cell_type": "markdown",
   "metadata": {},
   "source": [
    "The Root node \n",
    "Rank <=6.5, every performer with a rank of 6.5 or lower will follow the TRUE arrow (to the left) and the rest FALSE arrow (to the right).           \n",
    "Gini (impurities) = 0.497, quality of the split, it determines how well a decision tree was split,            \n",
    "- 0.0 is pure and all members belong to the same class\n",
    "- 0.5 is equally distributed            \n",
    "- 1 is impure           \n",
    "\n",
    "Samples = 13, means that there are 13 performers left at this point in the decision                 \n",
    "Value is [6,7], it means 6 will get a \"No\" and 7 will get a \"Go\""
   ]
  },
  {
   "cell_type": "markdown",
   "metadata": {},
   "source": [
    "![Alt text](<WhatsApp Image 2023-09-11 at 3.21.44 PM.jpeg>)"
   ]
  },
  {
   "cell_type": "markdown",
   "metadata": {},
   "source": [
    "The second partition contains two boxes\n",
    "The left box for the performers with a Rank of 6.5 or lower, right box\n",
    "with the rest.\n",
    "True (left leaf): gini=0.0 means all of the samples got the same result.\n",
    "False (right node): gini=0.219 means that 22% of the samples would\n",
    "go in one direction.\n",
    "8 performers with a Rank higher than 6.5\n",
    "Value=[1,7] means that of these 8 comedians, 1 will get a 'No', and 7\n",
    "will get a 'Go'.\n",
    "Nationality <=0.5 means that the comedians with a nationality value of less\n",
    "than 0.5 will follow the arrow to the left (which means everyone from the UK),\n",
    "and the rest will follow the arrow to the right."
   ]
  },
  {
   "cell_type": "code",
   "execution_count": null,
   "metadata": {},
   "outputs": [],
   "source": [
    "# Predicition\n",
    "# Say a 40 year old American performer, with 10 years of experience,\n",
    "# and a ranking of 7, Go or No Go?\n",
    "# features = ['Age', 'Experience', 'Rank', 'Nationality']\n",
    "AA = dtree.predict([[40,10,7,1]])\n",
    "BB = dtree.predict([[40,10,6,1]])\n",
    "print('40 year old American, 10 years of experience, rank 7',AA) # go\n",
    "print('40 year old American, 10 years of experience, rank 6',BB) # no go"
   ]
  },
  {
   "cell_type": "markdown",
   "metadata": {},
   "source": [
    "## DecisionTreeRegressor\n",
    "\n",
    "### Decision Trees are used for both Classification and Regression\n",
    "\n",
    "Position_Salaries.csv\n",
    "\n",
    "A dataset that contains two independent variables X1, and X2 and we are predicting\n",
    "a third dependent variable y. You cannot find it on the scatterplot as it has \n",
    "two dimensions.\n",
    "\n",
    "To visualize y, we need to add another dimension and after that, it would like the\n",
    "following\n",
    "\n",
    "Decision tree would make some splits on the dataset. This is basically dividing the\n",
    "points into some groups. The algorithm decides the optimal number of splits and \n",
    "splits the dataset accordingly.\n",
    "\n",
    "Made four splits and divided the data points into five groups.\n",
    "this algorithm will take the average value of each group and based on the values\n",
    "it will build the decision tree for this dataset. The tree would look like the \n",
    "following,\n",
    "\n",
    "whenever a value of y falls in one of the leaves, it will return the value of that leaf\n",
    "as the prediction for that y value."
   ]
  },
  {
   "cell_type": "code",
   "execution_count": 2,
   "metadata": {},
   "outputs": [
    {
     "name": "stdout",
     "output_type": "stream",
     "text": [
      "            Position  Level  Salary\n",
      "0   Business Analyst      1   45000\n",
      "1  Junior Consultant      2   50000\n",
      "2  Senior Consultant      3   60000\n"
     ]
    }
   ],
   "source": [
    "import numpy as np\n",
    "import pandas as pd\n",
    "import matplotlib.pyplot as plt\n",
    "dataset=pd.read_csv('Position_Salaries.csv')\n",
    "print(dataset.head(3))"
   ]
  },
  {
   "cell_type": "code",
   "execution_count": 3,
   "metadata": {},
   "outputs": [
    {
     "data": {
      "text/html": [
       "<style>#sk-container-id-1 {color: black;}#sk-container-id-1 pre{padding: 0;}#sk-container-id-1 div.sk-toggleable {background-color: white;}#sk-container-id-1 label.sk-toggleable__label {cursor: pointer;display: block;width: 100%;margin-bottom: 0;padding: 0.3em;box-sizing: border-box;text-align: center;}#sk-container-id-1 label.sk-toggleable__label-arrow:before {content: \"▸\";float: left;margin-right: 0.25em;color: #696969;}#sk-container-id-1 label.sk-toggleable__label-arrow:hover:before {color: black;}#sk-container-id-1 div.sk-estimator:hover label.sk-toggleable__label-arrow:before {color: black;}#sk-container-id-1 div.sk-toggleable__content {max-height: 0;max-width: 0;overflow: hidden;text-align: left;background-color: #f0f8ff;}#sk-container-id-1 div.sk-toggleable__content pre {margin: 0.2em;color: black;border-radius: 0.25em;background-color: #f0f8ff;}#sk-container-id-1 input.sk-toggleable__control:checked~div.sk-toggleable__content {max-height: 200px;max-width: 100%;overflow: auto;}#sk-container-id-1 input.sk-toggleable__control:checked~label.sk-toggleable__label-arrow:before {content: \"▾\";}#sk-container-id-1 div.sk-estimator input.sk-toggleable__control:checked~label.sk-toggleable__label {background-color: #d4ebff;}#sk-container-id-1 div.sk-label input.sk-toggleable__control:checked~label.sk-toggleable__label {background-color: #d4ebff;}#sk-container-id-1 input.sk-hidden--visually {border: 0;clip: rect(1px 1px 1px 1px);clip: rect(1px, 1px, 1px, 1px);height: 1px;margin: -1px;overflow: hidden;padding: 0;position: absolute;width: 1px;}#sk-container-id-1 div.sk-estimator {font-family: monospace;background-color: #f0f8ff;border: 1px dotted black;border-radius: 0.25em;box-sizing: border-box;margin-bottom: 0.5em;}#sk-container-id-1 div.sk-estimator:hover {background-color: #d4ebff;}#sk-container-id-1 div.sk-parallel-item::after {content: \"\";width: 100%;border-bottom: 1px solid gray;flex-grow: 1;}#sk-container-id-1 div.sk-label:hover label.sk-toggleable__label {background-color: #d4ebff;}#sk-container-id-1 div.sk-serial::before {content: \"\";position: absolute;border-left: 1px solid gray;box-sizing: border-box;top: 0;bottom: 0;left: 50%;z-index: 0;}#sk-container-id-1 div.sk-serial {display: flex;flex-direction: column;align-items: center;background-color: white;padding-right: 0.2em;padding-left: 0.2em;position: relative;}#sk-container-id-1 div.sk-item {position: relative;z-index: 1;}#sk-container-id-1 div.sk-parallel {display: flex;align-items: stretch;justify-content: center;background-color: white;position: relative;}#sk-container-id-1 div.sk-item::before, #sk-container-id-1 div.sk-parallel-item::before {content: \"\";position: absolute;border-left: 1px solid gray;box-sizing: border-box;top: 0;bottom: 0;left: 50%;z-index: -1;}#sk-container-id-1 div.sk-parallel-item {display: flex;flex-direction: column;z-index: 1;position: relative;background-color: white;}#sk-container-id-1 div.sk-parallel-item:first-child::after {align-self: flex-end;width: 50%;}#sk-container-id-1 div.sk-parallel-item:last-child::after {align-self: flex-start;width: 50%;}#sk-container-id-1 div.sk-parallel-item:only-child::after {width: 0;}#sk-container-id-1 div.sk-dashed-wrapped {border: 1px dashed gray;margin: 0 0.4em 0.5em 0.4em;box-sizing: border-box;padding-bottom: 0.4em;background-color: white;}#sk-container-id-1 div.sk-label label {font-family: monospace;font-weight: bold;display: inline-block;line-height: 1.2em;}#sk-container-id-1 div.sk-label-container {text-align: center;}#sk-container-id-1 div.sk-container {/* jupyter's `normalize.less` sets `[hidden] { display: none; }` but bootstrap.min.css set `[hidden] { display: none !important; }` so we also need the `!important` here to be able to override the default hidden behavior on the sphinx rendered scikit-learn.org. See: https://github.com/scikit-learn/scikit-learn/issues/21755 */display: inline-block !important;position: relative;}#sk-container-id-1 div.sk-text-repr-fallback {display: none;}</style><div id=\"sk-container-id-1\" class=\"sk-top-container\"><div class=\"sk-text-repr-fallback\"><pre>DecisionTreeRegressor(random_state=0)</pre><b>In a Jupyter environment, please rerun this cell to show the HTML representation or trust the notebook. <br />On GitHub, the HTML representation is unable to render, please try loading this page with nbviewer.org.</b></div><div class=\"sk-container\" hidden><div class=\"sk-item\"><div class=\"sk-estimator sk-toggleable\"><input class=\"sk-toggleable__control sk-hidden--visually\" id=\"sk-estimator-id-1\" type=\"checkbox\" checked><label for=\"sk-estimator-id-1\" class=\"sk-toggleable__label sk-toggleable__label-arrow\">DecisionTreeRegressor</label><div class=\"sk-toggleable__content\"><pre>DecisionTreeRegressor(random_state=0)</pre></div></div></div></div></div>"
      ],
      "text/plain": [
       "DecisionTreeRegressor(random_state=0)"
      ]
     },
     "execution_count": 3,
     "metadata": {},
     "output_type": "execute_result"
    }
   ],
   "source": [
    "# Salary is the dependent variable or the target variable\n",
    "# We want to find out the salary of an employee according to his level\n",
    "# Create a feature matrix X containing the level column\n",
    "X=dataset.iloc[:,1:2].values\n",
    "y=dataset.iloc[:,2].values\n",
    "# Fitting Decision tree regression to the dataset\n",
    "from sklearn.tree import DecisionTreeRegressor\n",
    "regressor=DecisionTreeRegressor(random_state=0)\n",
    "regressor.fit(X,y)"
   ]
  },
  {
   "cell_type": "code",
   "execution_count": 4,
   "metadata": {},
   "outputs": [
    {
     "name": "stdout",
     "output_type": "stream",
     "text": [
      "y_pred1 level 6.5 [150000.]\n",
      "y_pred2 level 6.6 [200000.]\n"
     ]
    }
   ],
   "source": [
    "# Prediction\n",
    "# predict level 6.5 salary, output 150k\n",
    "y_pred1=regressor.predict([[6.5]])\n",
    "# predict level 6.6 salary, output 200k\n",
    "y_pred2=regressor.predict([[6.6]])\n",
    "print('y_pred1 level 6.5',y_pred1)\n",
    "print('y_pred2 level 6.6',y_pred2)"
   ]
  },
  {
   "cell_type": "code",
   "execution_count": 5,
   "metadata": {},
   "outputs": [
    {
     "name": "stderr",
     "output_type": "stream",
     "text": [
      "C:\\Users\\User\\AppData\\Local\\Temp\\ipykernel_13824\\2017601011.py:2: DeprecationWarning: Conversion of an array with ndim > 0 to a scalar is deprecated, and will error in future. Ensure you extract a single element from your array before performing this operation. (Deprecated NumPy 1.25.)\n",
      "  X_grid=np.arange(min(X),max(X),0.01)\n"
     ]
    },
    {
     "data": {
      "image/png": "[encoded data removed]",
      "text/plain": [
       "<Figure size 640x480 with 1 Axes>"
      ]
     },
     "metadata": {},
     "output_type": "display_data"
    }
   ],
   "source": [
    "# Visualise\n",
    "X_grid=np.arange(min(X),max(X),0.01)\n",
    "X_grid=X_grid.reshape((len(X_grid),1))\n",
    "plt.scatter(X,y,color='red')\n",
    "plt.plot(X_grid,regressor.predict(X_grid),color='blue')\n",
    "plt.title('Decision Tree Regression')\n",
    "plt.xlabel('Position Level')\n",
    "plt.ylabel('Salary')\n",
    "plt.show()\n",
    "# It is a nonlinear regression model\n",
    "# Because the model takes the average value of each group\n",
    "# and assign this value for any variable that falls in that group\n",
    "# so the graph is not continuous but rather it looks like\n",
    "# a staircase"
   ]
  }
 ],
 "metadata": {
  "kernelspec": {
   "display_name": "Python 3",
   "language": "python",
   "name": "python3"
  },
  "language_info": {
   "codemirror_mode": {
    "name": "ipython",
    "version": 3
   },
   "file_extension": ".py",
   "mimetype": "text/x-python",
   "name": "python",
   "nbconvert_exporter": "python",
   "pygments_lexer": "ipython3",
   "version": "3.11.4"
  },
  "orig_nbformat": 4
 },
 "nbformat": 4,
 "nbformat_minor": 2
}
