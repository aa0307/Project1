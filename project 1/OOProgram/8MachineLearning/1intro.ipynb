{
 "cells": [
  {
   "cell_type": "markdown",
   "metadata": {},
   "source": [
    "## Machine Learning"
   ]
  },
  {
   "cell_type": "markdown",
   "metadata": {},
   "source": [
    "Machine Learning is the process of teaching a computer system how to make accurate prediction when fed data.\n",
    "\n",
    "Provide data and historical data to a learning algorithm to form a MODEL that can be used for prediction (預測).\n",
    "\n",
    "*MODEL*: A machine learning model is the mathematical representation of a real world process. A machine learning algorithm along with the training data builds a machine learning model.\n",
    "\n",
    "*Training*: An algorithm takes a set of data known as 'Training data' as input. The learning alogorithm finds patterns in the input data and trains the model for expected results (target)."
   ]
  },
  {
   "cell_type": "markdown",
   "metadata": {},
   "source": [
    "In Supervised learning, the training data provided to the machine work as the supervisor that teaches the machines to predict the output correctly.\n",
    "\n",
    "Supervised learning problems can be further grouped into \n",
    "- Regression\n",
    "- Classification\n",
    "\n",
    "*Overfitting*: When a massive amount of data trains a machine learning models, it tends to learn from the noise and inaccurate data entries. Here the model fails to characterize the data correctly.\n",
    "\n",
    "*Underfitting*: The model or the algorithm does not fit the data well enough."
   ]
  },
  {
   "cell_type": "markdown",
   "metadata": {},
   "source": [
    "### Model"
   ]
  },
  {
   "cell_type": "markdown",
   "metadata": {},
   "source": [
    "Models for data analysis include regression (to predict relationship between variables), Classification(to estimate probability), and Clustering of data (based on different attributes).\n",
    "\n",
    "Models include,  \n",
    "    • **Statistical Analysis** helps to analyze and visualize data to find unseen patterns.  \n",
    "    • **Regression Analysis** is to estimate how variables might impact the dependent variable, in order to identify trends and patterns. Examples are Linear Regression, Polynomial Regression, Logistic Regression, Random Forest Regression and K-Nearst Neighbors.  \n",
    "    • **Clustering** is the task of grouping a set of objects in such as way that objects in the same group are more similar to each other.  \n",
    "    • **Decision Tree** is a tree shaped model representing a classification or regression model. It divides a data set into smaller subsets."
   ]
  },
  {
   "cell_type": "code",
   "execution_count": 1,
   "metadata": {},
   "outputs": [
    {
     "data": {
      "text/plain": [
       "89.76923076923077"
      ]
     },
     "execution_count": 1,
     "metadata": {},
     "output_type": "execute_result"
    }
   ],
   "source": [
    "# Mean, Median, Mode, SD, Variance\n",
    "# Mean - average value\n",
    "import numpy as np\n",
    "number = [99,86,87,88,111,86,103,87,94,78,77,85,86] \n",
    "x = np.mean (number)\n",
    "x"
   ]
  },
  {
   "cell_type": "code",
   "execution_count": null,
   "metadata": {},
   "outputs": [],
   "source": [
    "# Median - the mid point number\n",
    "import numpy as np\n",
    "number = [99,86,87,88,111,86,103,87,94,78,77,85,86] \n",
    "x = np.median (number)\n",
    "x"
   ]
  },
  {
   "cell_type": "code",
   "execution_count": null,
   "metadata": {},
   "outputs": [],
   "source": [
    "# mode - the value that appears the most number of times\n",
    "from scipy import stats as sts\n",
    "number = [99,86,87,88,111,86,103,87,94,78,77,85,86] \n",
    "x = sts.mode(number)\n",
    "x"
   ]
  },
  {
   "cell_type": "code",
   "execution_count": null,
   "metadata": {},
   "outputs": [],
   "source": [
    "# Standard Deviation is a number that describes\n",
    "# how spread out the values are (Variance)\n",
    "import numpy as np\n",
    "number = [86,87,88,86,87,85,86]\n",
    "x = np.std(number)\n",
    "x"
   ]
  },
  {
   "cell_type": "code",
   "execution_count": null,
   "metadata": {},
   "outputs": [],
   "source": [
    "# Percentile\n",
    "import numpy as np\n",
    "# what is the age that 90% of the people are younger than\n",
    "ages = [5,31,43,48,50,41,7,11,15,39,80,82,32,2,8,6,25,36,27,61,31]\n",
    "x = np.percentile(ages,90)\n",
    "x"
   ]
  },
  {
   "cell_type": "code",
   "execution_count": null,
   "metadata": {},
   "outputs": [],
   "source": [
    "# AI example\n",
    "if x < 60: # if age percentage is less than 60, machine goes faster\n",
    "    Machine_faster = True\n",
    "else:\n",
    "    Machine_faster = False\n",
    "print('Machine Faster', Machine_faster)"
   ]
  }
 ],
 "metadata": {
  "kernelspec": {
   "display_name": "Python 3",
   "language": "python",
   "name": "python3"
  },
  "language_info": {
   "codemirror_mode": {
    "name": "ipython",
    "version": 3
   },
   "file_extension": ".py",
   "mimetype": "text/x-python",
   "name": "python",
   "nbconvert_exporter": "python",
   "pygments_lexer": "ipython3",
   "version": "3.11.4"
  },
  "orig_nbformat": 4
 },
 "nbformat": 4,
 "nbformat_minor": 2
}
