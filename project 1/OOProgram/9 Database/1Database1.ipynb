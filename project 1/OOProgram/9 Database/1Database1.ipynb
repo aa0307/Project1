{
 "cells": [
  {
   "cell_type": "markdown",
   "metadata": {},
   "source": [
    "## DataBase"
   ]
  },
  {
   "cell_type": "markdown",
   "metadata": {},
   "source": [
    "Structured Query Language, SQL is used to comunicate with a database. It is the standard language for relational database management system.  \n",
    "Database Management System, DBMS is where the data stored as a file.  \n",
    "Relational Database Management System, RDBMS is where the data stored in the form of tables.  \n",
    "CRUD is the acronym for CREATE,READ,UPDATE and DELETE.  \n",
    "The terms describe the four essential operations for creating and managing persistent data element."
   ]
  },
  {
   "cell_type": "markdown",
   "metadata": {},
   "source": [
    "SQlite is the underlying library that provides the database engine.  \n",
    "SQlite3 is a TOOL that allows you to interact with the SWlite database through commands.  \n",
    "Enter: sqlite3  \n",
    "Exit: sqlite>.quit  \n",
    "Show databases: sqlite>.databases  \n",
    "Show tables: sqlite>.tables  \n",
    "Interrupt: Control C  \n",
    "Terminate the sqlite3 program: Control D"
   ]
  },
  {
   "cell_type": "markdown",
   "metadata": {},
   "source": [
    "Unix cmd to install sqlite3:\n",
    "sudo apt install sqlite3"
   ]
  },
  {
   "cell_type": "code",
   "execution_count": null,
   "metadata": {},
   "outputs": [],
   "source": [
    "import sqlite3\n",
    "sqlite3.version # python sqlite version"
   ]
  },
  {
   "cell_type": "code",
   "execution_count": null,
   "metadata": {},
   "outputs": [],
   "source": [
    "import sqlite3\n",
    "sqlite3.sqlite_version # sqlite version"
   ]
  },
  {
   "cell_type": "markdown",
   "metadata": {},
   "source": [
    "### Create Database"
   ]
  },
  {
   "cell_type": "markdown",
   "metadata": {},
   "source": [
    "##### old"
   ]
  },
  {
   "cell_type": "code",
   "execution_count": null,
   "metadata": {},
   "outputs": [],
   "source": [
    "import sqlite3\n",
    "# create database first to connect the database\n",
    "# then create an object 'conn'\n",
    "conn = sqlite3.connect('testdb1.db')# Open(if exist) or Create a database\n",
    "# creaate table\n",
    "# execute SQL code and fetch results from SQL quaries,\n",
    "# need a database cursor\n",
    "cur = conn.cursor()\n",
    "# cursor allows you to execute the SQL code\n",
    "cur.execute('CREATE TABLE experiments(name VARCHAR,description VARCHAR)')\n",
    "# CREATE TABLE experiments(name VARCHAR,description VARCHAR); # unix # sqlite3.exe\n",
    "# create a table with 2 columns name and desriptom\n",
    "# each one column will be of type VARCHAR(ie. text)\n",
    "# but specifying the data type is optional\n",
    "conn.commit()\n",
    "# .commit() saves the changes to the database"
   ]
  },
  {
   "cell_type": "markdown",
   "metadata": {},
   "source": [
    "##### new"
   ]
  },
  {
   "cell_type": "code",
   "execution_count": null,
   "metadata": {},
   "outputs": [],
   "source": [
    "import sqlite3\n",
    "# create database first to connect the database\n",
    "# then create an object 'conn'\n",
    "conn = sqlite3.connect('testdb5.db')# Open(if exist) or Create a database\n",
    "# creaate table\n",
    "# execute SQL code and fetch results from SQL quaries,\n",
    "# need a database cursor\n",
    "cur = conn.cursor()\n",
    "# cursor allows you to execute the SQL code\n",
    "cur.execute('CREATE TABLE test_table5(id int, num int)')\n",
    "# CREATE TABLE experiments(name VARCHAR,description VARCHAR); # unix # sqlite3.exe\n",
    "# create a table with 2 columns name and desriptom\n",
    "# each one column will be of type VARCHAR(ie. text)\n",
    "# but specifying the data type is optional\n",
    "conn.commit()\n",
    "# .commit() saves the changes to the database"
   ]
  },
  {
   "cell_type": "markdown",
   "metadata": {},
   "source": [
    "#### Insert Data"
   ]
  },
  {
   "cell_type": "markdown",
   "metadata": {},
   "source": [
    "##### old"
   ]
  },
  {
   "cell_type": "code",
   "execution_count": null,
   "metadata": {},
   "outputs": [],
   "source": [
    "conn = sqlite3.connect('testdb1.db')\n",
    "cur.execute('INSERT INTO experiments (name, description) values (Jon, My experiment)')\n",
    "conn.commit()"
   ]
  },
  {
   "cell_type": "markdown",
   "metadata": {},
   "source": [
    "##### new"
   ]
  },
  {
   "cell_type": "code",
   "execution_count": null,
   "metadata": {},
   "outputs": [],
   "source": [
    "import sqlite3\n",
    "conn = sqlite3.connect('testdb1.db')\n",
    "cur.execute('INSERT INTO test_table5 (id, num) values (1,100),(2,200)')\n",
    "conn.commit()"
   ]
  },
  {
   "cell_type": "markdown",
   "metadata": {},
   "source": [
    "#### Retrieving Data"
   ]
  },
  {
   "cell_type": "code",
   "execution_count": null,
   "metadata": {},
   "outputs": [],
   "source": [
    "conn = sqlite3.connect('testdb1.db')\n",
    "cur = conn.cursor()\n",
    "cur.execute('SELECT *FROM experiments')\n",
    "data = cur.fetchall()\n",
    "print(data)"
   ]
  },
  {
   "cell_type": "code",
   "execution_count": null,
   "metadata": {},
   "outputs": [],
   "source": [
    "conn = sqlite3.connect('testdb5.db')\n",
    "cur = conn.cursor()\n",
    "cur.execute('SELECT *FROM test_table5')\n",
    "data = cur.fetchall()\n",
    "print(data)"
   ]
  },
  {
   "cell_type": "markdown",
   "metadata": {},
   "source": [
    "## latest"
   ]
  },
  {
   "cell_type": "markdown",
   "metadata": {},
   "source": [
    "### Create Database"
   ]
  },
  {
   "cell_type": "code",
   "execution_count": 22,
   "metadata": {},
   "outputs": [
    {
     "name": "stdout",
     "output_type": "stream",
     "text": [
      "[(1, 500), (2, 600), (1, 500), (2, 600)]\n"
     ]
    }
   ],
   "source": [
    "import sqlite3\n",
    "conn = sqlite3.connect('testdb10.db')# Open(if exist) or Create a database\n",
    "cur = conn.cursor()\n",
    "# create table 'test_tables10' with 2 column ie id and num\n",
    "# cur.execute('CREATE TABLE test_table10 (id int, num int)')# \n",
    "conn.commit()# save changes\n",
    "# insert data to the 2 columns\n",
    "cur.execute('INSERT INTO test_table10 (id, num) values(1,500),(2,600)')\n",
    "conn.commit()\n",
    "cur.execute('SELECT *FROM test_table10')# Retrieving Data\n",
    "data10 = cur.fetchall()\n",
    "print(data10)"
   ]
  },
  {
   "cell_type": "code",
   "execution_count": 23,
   "metadata": {},
   "outputs": [
    {
     "name": "stdout",
     "output_type": "stream",
     "text": [
      "[(1, 500), (1, 500)]\n"
     ]
    }
   ],
   "source": [
    "# where\n",
    "cur.execute('SELECT * FROM test_table10 WHERE id=1')\n",
    "# SELECT * FROM test_table10 WHERE id IS 1; # SDL cmd\n",
    "data11 = cur.fetchall()\n",
    "print(data11)"
   ]
  },
  {
   "cell_type": "code",
   "execution_count": 28,
   "metadata": {},
   "outputs": [],
   "source": [
    "sql_command = \"\"\"\n",
    "DROP TABLE IF EXISTS experiments;\n",
    "CREATE TABLE experiments(\n",
    "    id INTEGER,\n",
    "    name VARCHAR,\n",
    "    description VARCHAR,\n",
    "    PRIMARY KEY (id)\n",
    ");\n",
    "INSERT INTO experiments (name, description) values (\"A1\",\"My BB1\");\n",
    "INSERT INTO experiments (name, description) values (\"A2\",\"My BB2\");\n",
    "\"\"\"\n",
    "cur.executescript(sql_command)\n",
    "conn.commit()\n",
    "# faster addressing data by adding a primary key (defined id as the key)"
   ]
  },
  {
   "cell_type": "code",
   "execution_count": 25,
   "metadata": {},
   "outputs": [
    {
     "name": "stdout",
     "output_type": "stream",
     "text": [
      "[(2, 'A2', 'My BB2')]\n"
     ]
    }
   ],
   "source": [
    "# using fetchone instead of fetchall\n",
    "# because we know the output should be only one element\n",
    "cur.execute('SELECT * FROM experiments WHERE id=2')\n",
    "# SELECT * FROM test_table6 WHERE id is 1; # SDL cmd\n",
    "data11 = cur.fetchall()\n",
    "print(data11)"
   ]
  },
  {
   "cell_type": "code",
   "execution_count": 31,
   "metadata": {},
   "outputs": [],
   "source": [
    "import sqlite3\n",
    "conn = sqlite3.connect('testdb10.db')\n",
    "cur = conn.cursor()\n",
    "sql_command = \"\"\"\n",
    "DROP TABLE IF EXISTS test_table20;\n",
    "CREATE TABLE test_table20(\n",
    "    id INTEGER,\n",
    "    name VARCHAR DEFAULT 'James',\n",
    "    description VARCHAR,\n",
    "    performed_at TIMESTAMP DEFAULT CURRENT_TIMESTAMP,\n",
    "    PRIMARY KEY (id)\n",
    ");\n",
    "INSERT INTO test_table20 (name, description) values (\"A3\",\"My BB3\");\n",
    "INSERT INTO test_table20 (name, description) values (\"A4\",\"My BB4\");\n",
    "\"\"\"\n",
    "cur.executescript(sql_command)\n",
    "conn.commit()\n",
    "# performed_at which used TIMESTAMP as its type with a defaut value"
   ]
  },
  {
   "cell_type": "code",
   "execution_count": 32,
   "metadata": {},
   "outputs": [
    {
     "data": {
      "text/plain": [
       "[(1, 'A3', 'My BB3', '2023-09-18 06:26:40'),\n",
       " (2, 'A4', 'My BB4', '2023-09-18 06:26:40')]"
      ]
     },
     "execution_count": 32,
     "metadata": {},
     "output_type": "execute_result"
    }
   ],
   "source": [
    "cur.execute('SELECT * FROM test_table20')\n",
    "data20 = cur.fetchall()\n",
    "data20"
   ]
  },
  {
   "cell_type": "markdown",
   "metadata": {},
   "source": [
    "### Create a new table 'test_table30'"
   ]
  },
  {
   "cell_type": "code",
   "execution_count": 41,
   "metadata": {},
   "outputs": [
    {
     "data": {
      "text/plain": [
       "[(8.2,), (7.5,)]"
      ]
     },
     "execution_count": 41,
     "metadata": {},
     "output_type": "execute_result"
    }
   ],
   "source": [
    "import sqlite3\n",
    "conn = sqlite3.connect('testdb10.db')# Open or Create a database\n",
    "cur = conn.cursor()\n",
    "cur.execute(\"DROP TABLE IF EXISTS test_table30\")\n",
    "cur.execute('CREATE TABLE test_table30(title, year, score)')\n",
    "# insert data\n",
    "cur.execute(\"\"\"\n",
    "            INSERT INTO test_table30 VALUES\n",
    "            ('AAA',1975, 8.2),\n",
    "            ('BBB',1971, 7.5)\n",
    "            \n",
    "\"\"\")\n",
    "conn.commit()\n",
    "res = cur.execute('SELECT score FROM test_table30')# Retrieving Data\n",
    "res.fetchall()\n",
    "# data10 = cur.fetchall()\n",
    "# print(data10)"
   ]
  },
  {
   "cell_type": "code",
   "execution_count": 42,
   "metadata": {},
   "outputs": [
    {
     "data": {
      "text/plain": [
       "[(8.2,), (7.5,), (20,), (50,)]"
      ]
     },
     "execution_count": 42,
     "metadata": {},
     "output_type": "execute_result"
    }
   ],
   "source": [
    "# insert data\n",
    "cur.execute(\"\"\"\n",
    "    INSERT INTO test_table30 VALUES\n",
    "    ('this is new',2023, 20),\n",
    "    ('this is also new',1997, 50)\n",
    "    \n",
    "\"\"\")\n",
    "conn.commit()\n",
    "res = cur.execute('SELECT score FROM test_table30')# Retrieving Data\n",
    "res.fetchall()"
   ]
  },
  {
   "cell_type": "markdown",
   "metadata": {},
   "source": [
    "### Delete Data"
   ]
  },
  {
   "cell_type": "code",
   "execution_count": 44,
   "metadata": {},
   "outputs": [
    {
     "name": "stdout",
     "output_type": "stream",
     "text": [
      "[(20,), (500,)]\n"
     ]
    }
   ],
   "source": [
    "sql_command = \"\"\"\n",
    "DELETE FROM test_table30 WHERE score < 20;\n",
    "\"\"\"\n",
    "cur.executescript(sql_command)\n",
    "conn.commit()\n",
    "cur.execute('SELECT score FROM test_table30')# Retrieving Data\n",
    "data30 = cur.fetchall()\n",
    "print(data30)"
   ]
  },
  {
   "cell_type": "code",
   "execution_count": 45,
   "metadata": {},
   "outputs": [
    {
     "name": "stdout",
     "output_type": "stream",
     "text": [
      "[(20,), (500,)]\n"
     ]
    }
   ],
   "source": [
    "# update data, set score of year 1997 to 500\n",
    "sql_command = \"\"\"\n",
    "UPDATE test_table30 SET score = 500 WHERE year = 1997 ;\n",
    "\"\"\"\n",
    "cur.executescript(sql_command)\n",
    "conn.commit()\n",
    "cur.execute('SELECT score FROM test_table30')# Retrieving Data\n",
    "data31 = cur.fetchall()\n",
    "print(data31)"
   ]
  },
  {
   "cell_type": "markdown",
   "metadata": {},
   "source": [
    "Data Type for sqlite\n",
    "- null\n",
    "- integer, the value is a signed integer\n",
    "- real,floating point value\n",
    "- text, string/varchar"
   ]
  },
  {
   "cell_type": "markdown",
   "metadata": {},
   "source": [
    "#### Import csv file in SQLite database"
   ]
  },
  {
   "cell_type": "code",
   "execution_count": 2,
   "metadata": {},
   "outputs": [
    {
     "name": "stdout",
     "output_type": "stream",
     "text": [
      "[('Jon', ['12']), ('Mary', ['14']), ('James', ['17']), ('Dav', ['25']), ('Louis', ['23'])]\n"
     ]
    }
   ],
   "source": [
    "import csv\n",
    "with open('student_info.csv', 'r') as fin:\n",
    "    dr = csv.DictReader(fin)\n",
    "    student_info = [(i['NAME'],[i['AGE']]) for i in dr]\n",
    "    print(student_info)"
   ]
  },
  {
   "cell_type": "code",
   "execution_count": 5,
   "metadata": {},
   "outputs": [
    {
     "name": "stdout",
     "output_type": "stream",
     "text": [
      "('Jon', 12)\n",
      "('Mary', 14)\n",
      "('James', 17)\n",
      "('Dav', 25)\n",
      "('Louis', 23)\n"
     ]
    }
   ],
   "source": [
    "import sqlite3\n",
    "import pandas as pd\n",
    "\n",
    "conn = sqlite3.connect('sq12.db')# create and connect to database\n",
    "stud_data = pd.read_csv('student_info.csv') # load csv file data\n",
    "# write data to a sqlite table 'student'\n",
    "stud_data.to_sql('student',conn,if_exists='replace',index=False)\n",
    "cur = conn.cursor()\n",
    "for row in cur.execute('SELECT * FROM student'):\n",
    "    print(row)\n",
    "conn.close() # close connection to sqlite database"
   ]
  },
  {
   "cell_type": "markdown",
   "metadata": {},
   "source": [
    "### Pandas Read Data from Database sqlite db"
   ]
  },
  {
   "cell_type": "code",
   "execution_count": 6,
   "metadata": {},
   "outputs": [
    {
     "data": {
      "text/html": [
       "<div>\n",
       "<style scoped>\n",
       "    .dataframe tbody tr th:only-of-type {\n",
       "        vertical-align: middle;\n",
       "    }\n",
       "\n",
       "    .dataframe tbody tr th {\n",
       "        vertical-align: top;\n",
       "    }\n",
       "\n",
       "    .dataframe thead th {\n",
       "        text-align: right;\n",
       "    }\n",
       "</style>\n",
       "<table border=\"1\" class=\"dataframe\">\n",
       "  <thead>\n",
       "    <tr style=\"text-align: right;\">\n",
       "      <th></th>\n",
       "      <th>NAME</th>\n",
       "      <th>AGE</th>\n",
       "    </tr>\n",
       "  </thead>\n",
       "  <tbody>\n",
       "    <tr>\n",
       "      <th>0</th>\n",
       "      <td>Jon</td>\n",
       "      <td>12</td>\n",
       "    </tr>\n",
       "    <tr>\n",
       "      <th>1</th>\n",
       "      <td>Mary</td>\n",
       "      <td>14</td>\n",
       "    </tr>\n",
       "    <tr>\n",
       "      <th>2</th>\n",
       "      <td>James</td>\n",
       "      <td>17</td>\n",
       "    </tr>\n",
       "    <tr>\n",
       "      <th>3</th>\n",
       "      <td>Dav</td>\n",
       "      <td>25</td>\n",
       "    </tr>\n",
       "    <tr>\n",
       "      <th>4</th>\n",
       "      <td>Louis</td>\n",
       "      <td>23</td>\n",
       "    </tr>\n",
       "  </tbody>\n",
       "</table>\n",
       "</div>"
      ],
      "text/plain": [
       "    NAME  AGE\n",
       "0    Jon   12\n",
       "1   Mary   14\n",
       "2  James   17\n",
       "3    Dav   25\n",
       "4  Louis   23"
      ]
     },
     "execution_count": 6,
     "metadata": {},
     "output_type": "execute_result"
    }
   ],
   "source": [
    "import sqlite3\n",
    "import pandas as pd\n",
    "cnx = sqlite3.connect('sq12.db')\n",
    "df = pd.read_sql_query(\"SELECT * FROM student\", cnx)\n",
    "df"
   ]
  },
  {
   "cell_type": "markdown",
   "metadata": {},
   "source": []
  },
  {
   "cell_type": "markdown",
   "metadata": {},
   "source": [
    "# Self"
   ]
  },
  {
   "cell_type": "markdown",
   "metadata": {},
   "source": [
    "https://www.sqlitetutorial.net/download-install-sqlite/  \n",
    "https://www.runoob.com/sqlite/sqlite-installation.html  \n",
    "https://docs.python.org/2/library/sqlite3.html"
   ]
  },
  {
   "cell_type": "code",
   "execution_count": null,
   "metadata": {},
   "outputs": [],
   "source": [
    "import sqlite3\n",
    "conn = sqlite3.connect('example.db')"
   ]
  },
  {
   "cell_type": "code",
   "execution_count": null,
   "metadata": {},
   "outputs": [],
   "source": [
    "c = conn.cursor()\n",
    "\n",
    "# Create table\n",
    "c.execute('''CREATE TABLE stocks\n",
    "             (date text, trans text, symbol text, qty real, price real)''')\n",
    "\n",
    "# Insert a row of data\n",
    "c.execute(\"INSERT INTO stocks VALUES ('2006-01-05','BUY','RHAT',100,35.14)\")\n",
    "\n",
    "# Save (commit) the changes\n",
    "conn.commit()\n",
    "\n",
    "# We can also close the connection if we are done with it.\n",
    "# Just be sure any changes have been committed or they will be lost.\n",
    "conn.close()"
   ]
  },
  {
   "cell_type": "code",
   "execution_count": null,
   "metadata": {},
   "outputs": [],
   "source": [
    "import sqlite3\n",
    "conn = sqlite3.connect('example.db')\n",
    "c = conn.cursor()"
   ]
  }
 ],
 "metadata": {
  "kernelspec": {
   "display_name": "Python 3",
   "language": "python",
   "name": "python3"
  },
  "language_info": {
   "codemirror_mode": {
    "name": "ipython",
    "version": 3
   },
   "file_extension": ".py",
   "mimetype": "text/x-python",
   "name": "python",
   "nbconvert_exporter": "python",
   "pygments_lexer": "ipython3",
   "version": "3.11.4"
  },
  "orig_nbformat": 4
 },
 "nbformat": 4,
 "nbformat_minor": 2
}
