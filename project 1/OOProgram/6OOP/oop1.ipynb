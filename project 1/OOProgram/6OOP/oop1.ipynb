{
 "cells": [
  {
   "cell_type": "markdown",
   "metadata": {},
   "source": [
    "### OOP"
   ]
  },
  {
   "cell_type": "code",
   "execution_count": null,
   "metadata": {},
   "outputs": [],
   "source": [
    "# create a class called car \n",
    "class Car:\n",
    "    color = 'white'\n",
    "    year = '2010'\n",
    "# create instance object AA\n",
    "AA = Car()\n",
    "print(AA.color)"
   ]
  },
  {
   "cell_type": "code",
   "execution_count": null,
   "metadata": {},
   "outputs": [],
   "source": [
    "# use the built-in function of __init (2x_)\n",
    "# __init__ is an object constructor for initialization\n",
    "# function in class is called 'method'\n",
    "class Car:\n",
    "    def __init__(self,brand, year):\n",
    "        self.brand = brand\n",
    "        self.year = year\n",
    "# create instance object\n",
    "BB = Car(\"Ford\",2020) # assign BB as an object of Car class\n",
    "print(BB.brand)"
   ]
  },
  {
   "cell_type": "code",
   "execution_count": null,
   "metadata": {},
   "outputs": [],
   "source": [
    "# creat a class called Ice_stick\n",
    "class Ice_stick:\n",
    "    # class variable\n",
    "    shape = 'bar'\n",
    "    def __init__(self,flavour, solid):\n",
    "        self.flavour = flavour\n",
    "        self.solid = solid\n",
    "# create instance object\n",
    "ymmy1 = Ice_stick('orange','red bean')\n",
    "ymmy2 = Ice_stick('strawberry','green bean')\n",
    "ymmy3 = Ice_stick('coffee','yellow bean')\n",
    "print('my ymmy 2 look and feel :',ymmy2.flavour,ymmy2.solid)\n",
    "print('my ymmy 2 shape :',ymmy2.shape)\n"
   ]
  },
  {
   "cell_type": "markdown",
   "metadata": {},
   "source": [
    "### Python Class and Object"
   ]
  },
  {
   "cell_type": "code",
   "execution_count": null,
   "metadata": {},
   "outputs": [],
   "source": [
    "# create a class with name Dog with two attributes: name and age\n",
    "class Dog:\n",
    "    name=\"\"\n",
    "    age = 0\n",
    "# create instances of the Dog class, dog1 and dog2\n",
    "dog1 = Dog()\n",
    "dog1.name = \"Ah Choi\"\n",
    "dog1.age = 10\n",
    "dog2 = Dog()\n",
    "dog2.name = \"Ah Mon\"\n",
    "dog2.age = 7\n",
    "print(f'{dog1.name} is {dog1.age} year old')\n",
    "print(f'{dog2.name} is {dog2.age} year old')"
   ]
  },
  {
   "cell_type": "markdown",
   "metadata": {},
   "source": [
    "### Python Ingeritance"
   ]
  },
  {
   "cell_type": "code",
   "execution_count": null,
   "metadata": {},
   "outputs": [],
   "source": [
    "# Ingeritance (繼承) is a way of creating a bew class for\n",
    "# using details of an existing class without modifying it\n",
    "# base class / super class\n",
    "# Super()\n",
    "class Animal:\n",
    "    def eat(self):\n",
    "        print('i can eat')\n",
    "    def sleep(self):\n",
    "        print('i can sleep')\n",
    "# derived class / sub class\n",
    "class Dog(Animal):\n",
    "    def bark(self):\n",
    "        super().eat() # direct to super class\n",
    "        print('i can bark')\n",
    "# create objects\n",
    "dog1 = Dog()\n",
    "# calling member of the base / super class\n",
    "dog1.eat()\n",
    "dog1.sleep()\n",
    "# calling member of the drived / sub class\n",
    "dog1.bark()\n",
    "# the object of the subclass (Dog) can access members of the super class\n",
    "# It is because Dog is inherited from the class Animal"
   ]
  },
  {
   "cell_type": "markdown",
   "metadata": {},
   "source": [
    "### Python Encapsulation"
   ]
  },
  {
   "cell_type": "code",
   "execution_count": null,
   "metadata": {},
   "outputs": [],
   "source": [
    "# Encapsulation 封裝 refer to the bundling 捆綁 of attributes and methods inside a class\n",
    "# It prevents outer classes from accessing and \n",
    "# changing attributes and methods of a class. (Private Atributes)\n",
    "# We denote private attributes using underscore as \n",
    "# prefix ie _ or double __\n",
    "class Computer:\n",
    "    def __init__(self):\n",
    "        self.__maxprice = 900\n",
    "    def sell(self):\n",
    "        print('selling price:{}'.format(self.__maxprice))\n",
    "    def setMaxPrice(self,price):\n",
    "        self.__maxprice = price\n",
    "c = Computer() # create an object c\n",
    "c.sell() # 900\n",
    "# change the price\n",
    "c.__maxprice = 1000\n",
    "c.sell()\n",
    "# tried to modify the value of __maxprice but not working\n",
    "# since __maxprice is a private variable\n",
    "# change price use the setter function instead\n",
    "c.setMaxPrice(1000)# set function which takes price as parameter\n",
    "c.sell()"
   ]
  },
  {
   "cell_type": "markdown",
   "metadata": {},
   "source": [
    "### Composition"
   ]
  },
  {
   "cell_type": "code",
   "execution_count": null,
   "metadata": {},
   "outputs": [],
   "source": [
    "# Composition (合成) combines object of other types\n",
    "# A class composite can contain an object of another class component\n",
    "# this relationship means that a composite hass a compinent\n",
    "class Employee:\n",
    "    def __init__(self,name,address):\n",
    "        self.name = name\n",
    "        print('Compsite - Employee object created')\n",
    "        self.address = Address(address)\n",
    "    def emp_info(self):\n",
    "        print(f\"Employee name: {self.name}\")\n",
    "        print('Compsite - emp_info() method executed')\n",
    "        self.address.print_add()\n",
    "class Address:\n",
    "        def __init__(self,address):\n",
    "            self.addr = address\n",
    "            print('Compsite - Address object created')\n",
    "        def print_add(self):\n",
    "            print(f\"Employee address: {self.addr}\")\n",
    "            print('Compsite - Address method executed')\n",
    "staff_01 = Employee('jon Lee','28 Lai Chi Kok Rd')"
   ]
  },
  {
   "cell_type": "code",
   "execution_count": null,
   "metadata": {},
   "outputs": [],
   "source": [
    "staff_01.emp_info()"
   ]
  },
  {
   "cell_type": "markdown",
   "metadata": {},
   "source": [
    "### class variable"
   ]
  },
  {
   "cell_type": "code",
   "execution_count": null,
   "metadata": {},
   "outputs": [],
   "source": [
    "class MyCar:\n",
    "    type = 'electric car' # class variable\n",
    "    def __init__(self,brand, year): # function as method\n",
    "        self.brand = brand\n",
    "        self.year = year\n",
    "    def __str__(self):\n",
    "        return f\"{self.brand}({self.year})\"\n",
    "# create instance object\n",
    "mycar1 = MyCar('bmw','2010')\n",
    "mycar2 = MyCar('honda','2023')\n",
    "print('type of my car:',mycar1.type)\n",
    "print('brand of my car:',mycar2.brand)\n",
    "print(mycar1)\n"
   ]
  },
  {
   "cell_type": "markdown",
   "metadata": {},
   "source": [
    "### nltk"
   ]
  },
  {
   "cell_type": "markdown",
   "metadata": {},
   "source": [
    "NLTK, Natural Language Toolkit, is a python package that you can use for NLP (Natural Language Processing)\n",
    "\n",
    "NLP enables computers to understand natural language as humans do. Whether the language is spoken o written, NLP uses AI to take real world input, process it and make sense of it in a way a computer can understand"
   ]
  },
  {
   "cell_type": "code",
   "execution_count": null,
   "metadata": {},
   "outputs": [],
   "source": [
    "import nltk\n",
    "from nltk.tokenize import sent_tokenize, word_tokenize\n",
    "import math\n",
    "\n",
    "filename = 'news.txt'\n",
    "\n",
    "try:\n",
    "    with open(filename,encoding='utf-8') as f:\n",
    "        contents = f.read()\n",
    "except FileNotFoundError:\n",
    "    print('sorry can not open')\n",
    "except Exception as e:\n",
    "    print(f\"Error:{e}\")\n",
    "print(contents)"
   ]
  },
  {
   "cell_type": "code",
   "execution_count": null,
   "metadata": {},
   "outputs": [],
   "source": [
    "# example : Tokenize \n",
    "import nltk\n",
    "\n",
    "# nltk.download('punkt') # down files for environment setup\n",
    "nltk.download('all') # down files for environment setup\n",
    "\n",
    "# a = 'hello there my name is jon'\n",
    "a = 'hello there my name is jon  \\\n",
    "    it is nice to meeting you!. how are you doing?'\n",
    "print(nltk.word_tokenize(a))\n",
    "print(nltk.sent_tokenize(a))\n"
   ]
  },
  {
   "cell_type": "code",
   "execution_count": 1,
   "metadata": {},
   "outputs": [
    {
     "name": "stdout",
     "output_type": "stream",
     "text": [
      "['hello', 'there', 'my', 'name', 'is', 'jon', ',', 'it', 'is', 'nice', 'to', 'meeting', 'you', '!', 'how', 'are', 'you', 'doing']\n",
      "['hello there my name is jon,     it is nice to meeting you!', 'how are you doing']\n"
     ]
    }
   ],
   "source": [
    "# 2023-9-4\n",
    "# example : Tokenize\n",
    "import nltk\n",
    "from nltk.tokenize import sent_tokenize, word_tokenize\n",
    "a='hello there my name is jon, \\\n",
    "    it is nice to meeting you! how are you doing'\n",
    "print(nltk.word_tokenize(a))\n",
    "print(nltk.sent_tokenize(a))"
   ]
  },
  {
   "cell_type": "code",
   "execution_count": null,
   "metadata": {},
   "outputs": [],
   "source": [
    "# Example : .split()\n",
    "print(a)\n",
    "AA = a.split()\n",
    "print(AA)"
   ]
  },
  {
   "cell_type": "code",
   "execution_count": null,
   "metadata": {},
   "outputs": [],
   "source": [
    "import nltk\n",
    "from nltk.tokenize import sent_tokenize, word_tokenize \n",
    "import math\n",
    "\n",
    "filename = 'news.txt'\n",
    "# f = open(r\"~/project1/news.txt\", encoding='utf-8') \n",
    "# # contents = f.read()\n",
    "try:\n",
    "    with open(filename, encoding='utf-8') as f:\n",
    "        contents = f.read()\n",
    "except FileNotFoundError:\n",
    "    print('sorry can not open')\n",
    "except Exception as e:\n",
    "    print (f\"Error: {e}\")\n",
    "#print (contents)\n",
    "sentences = nltk.sent_tokenize(contents)\n",
    "words = nltk.word_tokenize(contents)\n",
    "# count senten, words\n",
    "num_words = len(words)\n",
    "num_sentences = len(sentences)\n",
    "# round the number to the 2 decimals\n",
    "word_per_sen = round((num_words / num_sentences), 2)\n",
    "# reading time 250 words per minute\n",
    "read_minute = math.ceil(num_words/250)\n",
    "# sentiment (情緒) analysis\n",
    "# Load positive words bank\n",
    "pos_words = open('positive-words.txt','r',\n",
    "                encoding = 'ISO-8859-1').read().split()\n",
    "# Load negative words bank\n",
    "neg_words = open('negative-words.txt','r',\n",
    "                encoding='ISO-8859-1').read().split()\n",
    "num_pos,num_neg = 0,0\n",
    "pos_list,neg_list =[],[]\n",
    "# analysis by scanning all words\n",
    "for w in words:\n",
    "    if w in pos_words:\n",
    "        pos_list.append(w)\n",
    "        num_pos +=1\n",
    "    if w in neg_words:\n",
    "        neg_list.append(w) \n",
    "        num_neg +=1\n",
    "sentiment_ratio = round((num_pos / (num_pos + num_neg)),2)\n",
    "if sentiment_ratio > 0.5: \n",
    "    sentiment = 'positive'\n",
    "else:\n",
    "    sentiment = 'negative'\n",
    "# readability\n",
    "# 15 word sentences are more likely to be comprehensible\n",
    "# 25 words is a good max sentence length limit\n",
    "# above 40 words sentences are hard to comprehend\n",
    "if num_sentences < 15:\n",
    "    readability = 'very comprehensible'\n",
    "elif num_sentences > 40:\n",
    "    readability = 'hard to comprehend'\n",
    "else:\n",
    "    readability = 'comprehensible'\n",
    "# output\n",
    "print(f\"The content is {readability}. \\\n",
    "    The content is likely to be {sentiment} with \\\n",
    "        ratio {sentiment_ratio} in positive words\")\n",
    "print(f\"Reading time is {read_minute} mins\")\n",
    "print(f\"The file {filename} has abour {num_sentences} sentences, \\\n",
    "    {num_words} words, average words per sentences is {word_per_sen}\")\n",
    "print(f\"Total positive words {num_pos}:{pos_list}\")\n",
    "print(f\"Total negative words {num_neg}:{neg_list}\")"
   ]
  }
 ],
 "metadata": {
  "kernelspec": {
   "display_name": "Python 3",
   "language": "python",
   "name": "python3"
  },
  "language_info": {
   "codemirror_mode": {
    "name": "ipython",
    "version": 3
   },
   "file_extension": ".py",
   "mimetype": "text/x-python",
   "name": "python",
   "nbconvert_exporter": "python",
   "pygments_lexer": "ipython3",
   "version": "3.11.4"
  },
  "orig_nbformat": 4
 },
 "nbformat": 4,
 "nbformat_minor": 2
}
