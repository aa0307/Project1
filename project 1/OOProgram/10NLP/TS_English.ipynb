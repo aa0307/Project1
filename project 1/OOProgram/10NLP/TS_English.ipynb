{
 "cells": [
  {
   "cell_type": "markdown",
   "metadata": {},
   "source": [
    "### TS Summarization in SpaCy - English"
   ]
  },
  {
   "cell_type": "markdown",
   "metadata": {},
   "source": [
    "**pip install spacy**  \n",
    "Spacy for Natural Language Processing is to used to process a large volume of texts. It can recognize nouns, verbs, adjectives..etc"
   ]
  },
  {
   "cell_type": "code",
   "execution_count": null,
   "metadata": {},
   "outputs": [],
   "source": [
    "# Stop words\n",
    "from spacy.lang.en.stop_words import STOP_WORDS\n",
    "stopwords = list(STOP_WORDS)\n",
    "stopwords"
   ]
  },
  {
   "cell_type": "markdown",
   "metadata": {},
   "source": [
    "document1 =\"\"\"Machine learning (ML) is the scientific study of algorithms and statistical models that computer systems use to progressively improve their performance on a specific task. Machine learning algorithms build a mathematical model of sample data, known as \"training data\", in order to make predictions or decisions without being explicitly programmed to perform the task. Machine learning algorithms are used in the applications of email filtering, detection of network intruders, and computer vision, where it is infeasible to develop an algorithm of specific instructions for performing the task. Machine learning is closely related to computational statistics, which focuses on making predictions using computers. The study of mathematical optimization delivers methods, theory and application domains to the field of machine learning. Data mining is a field of study within machine learning, and focuses on exploratory data analysis through unsupervised learning.In its application across business problems, machine learning is also referred to as predictive analytics.\"\"\""
   ]
  },
  {
   "cell_type": "code",
   "execution_count": null,
   "metadata": {},
   "outputs": [],
   "source": [
    "# document\n",
    "document1 =\"\"\"Machine learning (ML) is the scientific study of algorithms and statistical models that computer systems use to progressively improve their performance on a specific task. Machine learning algorithms build a mathematical model of sample data, known as \"training data\", in order to make predictions or decisions without being explicitly programmed to perform the task. Machine learning algorithms are used in the applications of email filtering, detection of network intruders, and computer vision, where it is infeasible to develop an algorithm of specific instructions for performing the task. Machine learning is closely related to computational statistics, which focuses on making predictions using computers. The study of mathematical optimization delivers methods, theory and application domains to the field of machine learning. Data mining is a field of study within machine learning, and focuses on exploratory data analysis through unsupervised learning.In its application across business problems, machine learning is also referred to as predictive analytics.\"\"\""
   ]
  },
  {
   "cell_type": "code",
   "execution_count": null,
   "metadata": {},
   "outputs": [],
   "source": [
    "print(type(document1))"
   ]
  },
  {
   "cell_type": "code",
   "execution_count": null,
   "metadata": {},
   "outputs": [],
   "source": [
    "# python -m spacy download en_core_web_sm\n",
    "import en_core_web_sm\n",
    "# load spacy small size english model\n",
    "nlp = en_core_web_sm.load()\n",
    "# build an NLP object\n",
    "docx = nlp(document1)\n",
    "# Tokenization of text\n",
    "mytokens = [token.text for token in docx]\n",
    "print('mytokens',mytokens)"
   ]
  },
  {
   "cell_type": "markdown",
   "metadata": {},
   "source": [
    "#### Example"
   ]
  },
  {
   "cell_type": "code",
   "execution_count": null,
   "metadata": {},
   "outputs": [],
   "source": [
    "# Example 1\n",
    "import spacy\n",
    "nlp = spacy.load(\"en_core_web_sm\")\n",
    "import en_core_web_sm\n",
    "nlp = en_core_web_sm.load()\n",
    "doc = nlp(\"This is a sentence\")\n",
    "# AA = [token.text for token in docx]\n",
    "AA = [token.text for token in doc]\n",
    "print(AA)\n",
    "BB = [(w.text,w.pos_) for w in doc]\n",
    "print(BB)"
   ]
  },
  {
   "cell_type": "code",
   "execution_count": null,
   "metadata": {},
   "outputs": [],
   "source": [
    "# Word Frequency Table\n",
    "word_frequencies ={}\n",
    "print(type(word_frequencies))\n",
    "for word in docx:\n",
    "    if word.text not in stopwords:\n",
    "        if word.text not in word_frequencies.keys():\n",
    "            word_frequencies[word.text] = 1\n",
    "        else:\n",
    "            word_frequencies[word.text] += 1"
   ]
  },
  {
   "cell_type": "code",
   "execution_count": null,
   "metadata": {},
   "outputs": [],
   "source": [
    "AA = word_frequencies.keys()\n",
    "print(AA)\n",
    "print(len(AA))"
   ]
  },
  {
   "cell_type": "code",
   "execution_count": null,
   "metadata": {},
   "outputs": [],
   "source": [
    "BB = word_frequencies.values()\n",
    "print(BB)\n",
    "print(len(BB))"
   ]
  },
  {
   "cell_type": "code",
   "execution_count": null,
   "metadata": {},
   "outputs": [],
   "source": [
    "word_frequencies"
   ]
  },
  {
   "cell_type": "code",
   "execution_count": null,
   "metadata": {},
   "outputs": [],
   "source": [
    "# Max word frequency\n",
    "maximum_frequency = max(word_frequencies.values())\n",
    "for word in word_frequencies.keys():\n",
    "    word_frequencies[word] = (word_frequencies[word]/maximum_frequency)\n",
    "maximum_frequency"
   ]
  },
  {
   "cell_type": "markdown",
   "metadata": {},
   "source": [
    "Sentence Score and Ranking of Words in each sentence\n",
    "- Sentence Tokens\n",
    "- Scoring every sentence based o number of words\n",
    "- Non stop words in the word frequency table"
   ]
  },
  {
   "cell_type": "code",
   "execution_count": null,
   "metadata": {},
   "outputs": [],
   "source": [
    "# Sentence Token\n",
    "sentence_list = [sentence for sentence in docx.sents] # segmentation\n",
    "[w.text.lower() for t in sentence_list for w in t] # Example 3"
   ]
  },
  {
   "cell_type": "code",
   "execution_count": null,
   "metadata": {},
   "outputs": [],
   "source": [
    "# sentence score\n",
    "sentence_score = {}\n",
    "for sent in sentence_list:\n",
    "    for word in sent:\n",
    "        if word.text.lower() in word_frequencies.keys():\n",
    "            if len(sent.text.split(' ')) < 30:\n",
    "                if sent not in sentence_score.keys():\n",
    "                    sentence_score[sent] = word_frequencies[\n",
    "                        word.text.lower()]\n",
    "                else:\n",
    "                    sentence_score[sent] += word_frequencies[\n",
    "                        word.text.lower()]"
   ]
  },
  {
   "cell_type": "code",
   "execution_count": null,
   "metadata": {},
   "outputs": [],
   "source": [
    "# get sentence score\n",
    "sentence_score"
   ]
  },
  {
   "cell_type": "code",
   "execution_count": null,
   "metadata": {},
   "outputs": [],
   "source": [
    "# print doc line by line\n",
    "QQ = (document1.replace('.','\\n'))\n",
    "print(QQ)"
   ]
  },
  {
   "cell_type": "code",
   "execution_count": null,
   "metadata": {},
   "outputs": [],
   "source": [
    "# Find top N sentence with largest score, ie heapq()\n",
    "# .nlargest(no.of return, input, key) Example 4\n",
    "from heapq import nlargest\n",
    "summarized_sentences = nlargest(7,sentence_score,\n",
    "                                key=sentence_score.get)\n",
    "print(summarized_sentences)"
   ]
  },
  {
   "cell_type": "code",
   "execution_count": null,
   "metadata": {},
   "outputs": [],
   "source": [
    "for w in summarized_sentences:\n",
    "    print(w.text)"
   ]
  },
  {
   "cell_type": "code",
   "execution_count": null,
   "metadata": {},
   "outputs": [],
   "source": [
    "# Example 5\n",
    "import heapq\n",
    "WW = [6,1,7,9,3,5,4]\n",
    "largest = heapq.nlargest(3,WW)\n",
    "print(largest)"
   ]
  },
  {
   "cell_type": "code",
   "execution_count": null,
   "metadata": {},
   "outputs": [],
   "source": [
    "# sort the sentence scores\n",
    "sorted_sentence_score = sorted(sentence_score.items(),\n",
    "                               key=lambda x:x[1],\n",
    "                               reverse =True)\n",
    "# print(sorted_sentence_score)\n",
    "sorted_sentence_score"
   ]
  },
  {
   "cell_type": "code",
   "execution_count": null,
   "metadata": {},
   "outputs": [],
   "source": [
    "final_sentence = [w.text for w in summarized_sentences]\n",
    "# print(final_sentence)\n",
    "# print(summarized_sentences)\n",
    "# converted to strings from spacy.span\n",
    "final_sentence\n",
    "summarized_sentences"
   ]
  },
  {
   "cell_type": "code",
   "execution_count": null,
   "metadata": {},
   "outputs": [],
   "source": [
    "# Join sentences\n",
    "summary = ' '.join(final_sentence)\n",
    "print(summary)"
   ]
  },
  {
   "cell_type": "code",
   "execution_count": null,
   "metadata": {},
   "outputs": [],
   "source": [
    "# length\n",
    "print(len(summary)) # generated doc\n",
    "print(len(document1)) # original doc"
   ]
  },
  {
   "cell_type": "markdown",
   "metadata": {},
   "source": [
    "Text Summary Chinese"
   ]
  },
  {
   "cell_type": "code",
   "execution_count": null,
   "metadata": {},
   "outputs": [],
   "source": [
    "import spacy\n",
    "nlp = spacy.load(\"zh_core_web_sm\") # python -m spacy download zh_core_web_sm\n",
    "from spacy.lang.zh.examples import sentences\n",
    "doc = nlp(sentences[0])\n",
    "print(doc.text)\n",
    "for token in doc:\n",
    "    print(token.text, token.pos_, token.dep_)"
   ]
  },
  {
   "cell_type": "code",
   "execution_count": 2,
   "metadata": {},
   "outputs": [
    {
     "name": "stdout",
     "output_type": "stream",
     "text": [
      "['巴', '因了', '呕', '了解', '看起来', '届时', '经常', '各个', '得了', ':', '保管', '不拘', '接著', '此', '譬喻', '替', '每时每刻', '主要', '竟', '积极', '急匆匆', '诚然', 'φ．', '六', '什麽', '极了', '蛮', '彻底', '正是', '累年', '［①⑧］', '更加', '下列', '全部', '：', '需要', '如上所述', '屡屡', '［⑤］', '可能', '边', '不管', '喏', '愿意', '周围', '得', '如常', '不外', '咋', '如此等等', '//', '至若', '各级', '多多益善', '充其极', '＜φ', '每逢', '总之', '略加', '是以', '反之则', '沿着', '风雨无阻', '那些', '不断', '联袂', '多', '倘然', '必须', '哦', '巨大', '当', '均', '特殊', '砰', '就是了', '应该', '绝', '看', '自打', '［②ｆ］', '如何', '不得已', '加上', '中间', '［①ａ］', '始而', '眨眼', '以为', '不尽然', '另行', '千万千万', '呼哧', '移动', '一番', '不然', '已经', '有时', '［②］', '为了', '尽然', '*', '大多数', '昂然', '出', '当庭', '［①⑦］', '各地', '尔', '穷年累月', '乘胜', '纵令', '每当', '庶几', '复杂', '伙同', '只', '嗳', '哎呀', '从严', '都', '%', '遵照', '获得', '当场', '我是', '得起', '嘻', '吧哒', '必将', '挨门逐户', '此时', '或则', '－β', '其', '［④］', '变成', '中小', '从轻', '［②', '￥', '上下', '上面', '弗', '按时', '此中', '［②⑩］', '所有', '不然的话', '向使', '除了', '大家', '日益', '趁便', '除非', '［⑨］', '先後', '勃然', '况且', '得到', '哎哟', '谁料', '怎样', '略', '９', '考虑', '）、', '在', '大批', '凝神', '然', '何处', '·', '充其量', '诚如', '就此', '［②①］', '起', '无论', '从此以后', '不得', '现代', '基本上', '设或', '下来', '十分', '基于', '从而', '还是', '恰如', '要', '［①⑤］', '再其次', '引起', '多么', '呜', '曾经', '这', '少数', '怎么办', '老老实实', '说说', '×××', '甚且', '［②⑤］', '［③ｄ］', '呸', 'ｂ］', '到目前为止', '云云', '且说', '她的', '〕〔', '显然', '逢', '明显', '据', '方便', '庶乎', '全力', '〈', '那会儿', '巩固', '其一', '话说', '今', '嘿嘿', '常言道', '所在', '定', '与此同时', '已', '，也', '9', '诸位', '既往', '成为', '并非', '据悉', '从宽', '般的', '古来', '必定', '逐步', '企图', '≈', '不由得', '尽管如此', '那', '１', '乃', '已矣', '以上', '［⑤ｆ］', '正值', '［⑥］', '高低', '由此', '一片', '满', '哪年', '［③ｈ］', '接连不断', '更为', '近几年来', '彼此', '省得', '什么', '显著', '哪边', '末##末', '受到', '自各儿', '突出', '兼之', '之类', '甚至于', '限制', '—', '到头来', '认识', '｛－', '率尔', '喂', '诸', '前此', '＝（', '［⑤ａ］', '长此下去', '反而', '默然', '便', '＜', '以下', '敢', '莫若', '随时', '＆', '现在', '接下来', '此地', 'Δ', '绝对', '据说', '开始', '［②⑥］', '故而', '谁人', '曾', '为何', '［②③］', '大体', '将近', '首先', '谁', '挨家挨户', '不论', '一些', '６', 'Ａ', '叮当', '尤其', '刚好', '不迭', '丰富', '当然', '其余', '有利', '千万', '除却', '单', '间或', '欢迎', '::', '大力', '如次', '有', '不已', '连声', '尔等', '不只', '相同', '强调', '上', '你的', ')', '决不', '朝', '后来', '并没有', '那末', '并排', '▲', '日复一日', '［③①］', '一面', '并不', '真正', '０：２', '倒不如说', '归根到底', '自从', '⑥', '尽', '(', '比方', '纵', '［②⑦］', '相反', '→', '离', '借', '抽冷子', '上去', '>>', '」', '又及', '反之亦然', '当儿', '2', '［①②］', '构成', '却不', ';', '非但', '背地里', '可是', '方', 'φ', '尽早', '可好', '与其说', '∈［', '$', '切莫', '怪不得', '［②ａ］', '再', '［①ｉ］', '--', '赖以', '非独', '先生', '有的', '保持', '…', '而后', '按说', '九', '其他', '加以', '于', '［③ｅ］', '不力', '与其', '︿', '反映', '非得', '别的', '基本', '也', '挨着', '除此', 'sup', '＋＋', '不仅仅是', '多年来', '碰巧', '因此', '咳', '因', '‘', '总结', '迄', '只有', '而是', '归齐', 'γ', '哎', '从新', '顷', '不成', '啥', '甚么', '虽', '［－', '不巧', '＜λ', '看上去', '如', '今后', '必然', '一.', '一起', '何妨', '差一点', '或', '［④ｂ］', '呗', '难说', '某', '矣哉', '他人', '+', '而论', '因着', '嘎嘎', '岂', '嘎', '何乐而不为', '如同', '略微', '只要', '继而', '尚且', '_', '......', '不仅仅', '归根结底', '那时', '又', '以前', '＃', '如下', '具体地说', '随著', '一次', '更进一步', '奇', '趁', '愤然', '假使', '有著', '较之', '重新', '不至于', '彼时', '这时', '立时', '出于', '乃至于', '不常', '［③ｃ］', '完全', '竟而', '保险', '一来', '几', '截然', '漫说', '只消', '乌乎', '附近', '以致', '假若', '只怕', '转贴', '过来', '同一', '；', '不要', '设使', '迫于', '多次', '敢情', '乘虚', '大', '屡次三番', '正在', '［③］', '不了', '］', '绝顶', '立即', '得天独厚', '即便', '必要', '极', '如是', '为什么', '望', '可见', '咚', '嗬', '（', '换句话说', '除此以外', '［①Ｃ］', '［①ｈ］', '连同', '要求', '［⑤］］', '■', '恰巧', '＝｛', '常', '-', '这点', '}', '如前所述', '简直', '猛然', '以期', '进行', '是的', '您', '其它', '并没', '乘隙', '有点', '另外', '这个', '特别是', '却', '当头', '规定', '概', '极端', '＋ξ', '不同', '个', '／', '孰知', '尽可能', '［②ｂ］', '普通', '与', '刚才', '元／吨', '进去', '1', '吓', '四', '欤', '并无', '皆可', '密切', '再则', '一下', '啊哈', '何必', '故此', '怎', '通常', '^', '嘛', '大都', '一则', '得出', '尽管', '6', '哗', '三番五次', '串行', '纯', '要是', '累次', '＜＜', '进而', '来自', '最高', '哼唷', '咱', '诸如', '造成', '可', '啦', '能否', '恐怕', '连连', '等等', '进步', '当前', '５：０', '经过', '［①①］', '们', '大概', '亲手', '深入', '［②ｄ］', '其二', '仍', '`', '不如', '＝″', '啷当', '断然', '①', '之後', '谨', '开外', '零', '［①ｃ］', '以免', '奈', '＜Δ', '莫', '立马', '’', '和', '当中', '顶多', '在下', '［⑤ｂ］', '给', '光', '关于', '适应', '以至', '凡', '宁可', '往往', '［①Ｄ］', '然后', '俺们', '每个', '呆呆地', '<', '这麽', '至', '初', '如其', '相对', '直接', '宁', '距', '可以', 'ｅ］', '陈年', '＋', '单纯', '两者', '各自', '多多少少', '后面', '朝着', '冒', '她是', '［③ｇ］', '本人', '并且', '有效', '格外', '啪达', '亲眼', '当口儿', '召开', '连日来', '前者', '才能', '２', '社会主义', '~~~~', '八成', '些', '不惟', '及时', '匆匆', '他', '切勿', '嗡', '冲', '千', '敢于', '直到', '甚而', '由此可见', '咧', '后', '呜呼', '到处', ']', '这般', '姑且', '那边', '以後', '不择手段', '长线', '然而', '己', '处处', '当下', '行为', '为此', '今年', '为止', '换言之', '不若', '後来', '而', '［④ｄ］', '亲口', '＞', '依据', '暗地里', '［③ｂ］', '战斗', '从', '完成', '别是', '倍感', '左右', '形成', '极力', '来得及', '偏偏', '率然', '具体', '＄', '不得了', '绝不', '最好', '》），', '结合', '不对', '要不', '譬如', '一样', '重大', '[', '趁热', '独', '正巧', '从不', '若是', '吧', '清楚', '失去', '…………………………………………………③', '马上', '’‘', '最近', '除此之外', '这么些', '一天', '℃', '活', '将要', '殆', '避免', '挨个', '莫不然', '不但...而且', '个别', '8', '精光', '［④ａ］', '是', '为什麽', '去', '咱们', '再次', '多数', '起见', '达到', '多年前', '不一', '怪', '非徒', '｜', '之后', '以来', '权时', '在于', '较比', '挨门挨户', '但愿', '么', '前面', '到了儿', '反应', '分期', '乃至', '粗', '紧接着', '继之', '赶', '根本', '什么样', '⑤', '】', '明确', '趁势', '［①ｇ］', '［①⑥］', '就算', '［②ｇ］', '全身心', '起头', '用', '有的是', '８', '纵然', '没奈何', '呵', '呀', '极其', '表明', '大大', 'exp', '㈧', '之所以', '各', '１２％', '哈', '后者', '真是', '处在', '无', '这里', '决定', '莫如', '这么', '简言之', '只当', '刚', '难得', '且不说', '因为', '缕缕', '敞开儿', '［①④］', '不消', '即如', '再者说', '下面', '为主', '进来', '互相', '无法', '宁肯', '不时', '尔尔', '接着', '仍旧', '恰恰相反', '心里', '坚决', '怎么样', '呐', '作为', '截至', '这边', '比', '×', '［③Ｆ］', '上升', '慢说', '.日', '人民', '严重', 'В', '不足', '另一个', '孰料', '根据', '汝', '满足', '颇', '此后', '论说', '那样', '④', '偶而', '老是', '属于', '第', '甭', '犹自', '一旦', '那里', '以', '不亦乐乎', '啊哟', '的确', '这么样', '［', '嘎登', '啊呀', '梆', '亲自', '背靠背', '7', '据称', '而又', '不免', '＞λ', '既...又', '倘若', '｛', '部分', '除此而外', '矣', '不曾', '－－', '③', '嗯', '当地', '暗自', '大略', '加之', '着', '意思', '等到', '并', '一边', '取道', '日渐', '仅仅', '再有', '《', '大面儿上', '要不是', '一何', '并不是', 'Ｒ．Ｌ．', '极度', '［⑤ｄ］', '今後', '莫不', '正常', '乎', '就是', '怎么', '这会儿', '则甚', '过', '『', '哪', '万一', '知道', '哪里', '还', '不起', '相对而言', '此外', '［①］', '人们', '其实', '毫无', '不知不觉', '若夫', '猛然间', '者', '及', '不能不', '即或', '拦腰', '不定', '比起', '结果', '分别', '全年', '与否', '据我所知', '哇', '二话不说', '其中', '既是', '那麽', '动不动', '行动', '多亏', '岂但', '一般', '哪天', '不特', '别管', '那儿', '三', '嘿', '何以', '别说', '或者', '也就是说', '任', '论', '局外', '尽量', '虽说', '不问', '？', '还要', '该', '［①Ｅ］', '成年', '有及', '共同', '其后', '扩大', '③］', '↑', '靠', '甚或', '呵呵', '这一来', '起来', '防止', '臭', '一定', '赶快', '何况', '那么样', '顷刻间', '倘', '通过', '＇', '上述', '方才', '或曰', '动辄', '［②ｈ］', '叫做', '合理', '］［', '〔', '此次', '说来', '依靠', '略为', '将才', '大张旗鼓', '.数', '如上', '几番', '用来', '大致', '某某', '不外乎', '很多', '不妨', '之', '或多或少', '如期', '凡是', '屡', '全都', '相等', '陡然', '从中', '表示', '|', '5', '借以', '牢牢', '它们的', '促进', '好象', '连', '＿', '倒是', '允许', '来讲', '据实', '不大', '同样', '问题', '怎奈', '呼啦', '不够', '哩', '瑟瑟', '我们', '较', '怕', '好在', '的', '公然', '.', '随后', '由于', '从未', '当着', '』', '向着', '凑巧', '大事', '以至于', '鄙人', 'A', '针对', '［③ａ］', '即刻', '各人', '全体', '～±', '设若', '高兴', '不管怎样', '能够', '反手', '及其', '总的说来', '一直', '出来', '拿', '由是', '怎麽', '即令', '不光', '看到', '临', '凭', '了', '大多', '巴巴', '川流不息', '乘', '看看', '相似', '快要', '说明', '暗中', '乘势', '故意', '传', '对方', '这种', '恰好', '按理', '尽心尽力', '每年', '顷刻', '傥然', '常言说得好', '起初', '对待', '所', '－', '那个', '准备', '何苦', '、', '′∈', '致', '来', 'μ', '路经', '也是', '您们', '毫无例外', '另一方面', '不久', \"'\", '到底', '而已', '过去', '往', '没', '它是', '唯有', '看样子', '顷刻之间', '随', '恍然', '毫无保留地', '大约', '【', '相应', '适当', '自己', '某些', '而言', '不仅...而且', '［②Ｂ］', '甚至', '转动', '比较', '既', '不尽', '遵循', '不料', '饱', '从早到晚', '成年累月', '传说', '总而言之', '一切', '帮助', '常言说', '兮', '其次', '大抵', '随着', '为着', '差不多', '做到', '广大', '然後', '［＊］', '争取', '交口', '二', '喽', '?', '来说', '另方面', '旁人', '”', '比及', '即将', '他的', '最', '历', '故', '反过来', '总的来看', '别', '居然', 'ＺＸＦＩＴＬ', '抑或', '扑通', '每', '对比', '恰似', '从小', '经', '继续', '０', '不会', '咦', '一致', '起首', '即', '二话没说', '》', '等', '犹且', '从速', '我', '以外', '反倒', '几时', '常常', '时候', '...................', '趁机', '里面', '她', '数/', '难道', '彻夜', '不仅', '有所', '即使', '不少', '七', '———', '从今以后', '果真', '的话', '［③⑩］', '〕', '固然', '能', '逐渐', '小', '安全', '宁愿', '［④ｃ］', '虽然', '各种', '认真', '共', '但凡', '嗡嗡', '就要', '必', '出现', '仅', '这样', '应当', '［①ｅ］', '既然', '何尝', '以便', '任务', '自后', '依照', '到', '独自', '［①ｆ］', '跟', '向', '＜±', '非常', '前进', '#', '使得', '这就是说', '不得不', '确定', '毫不', '就地', '二来', '从头', '［②②］', '按', '管', '哪怕', '有力', '［②ｅ］', '注意', '于是', '老大', '是不是', '惯常', '依', '至于', '过于', '叮咚', '毋宁', '弹指之间', '不可', '地', '不但', '上来', 'ｎｇ昉', '要不然', '3', './', '为', '组成', '那般', '［⑦］', '老', '分期分批', '②', '你们', '长期以来', '［①ｏ］', '从无到有', '=', '不下', '才', '若果', '相当', '多少', '似乎', '近年来', '打从', '亦', '不', '从古至今', '［②ｃ］', '双方', '按期', '就是说', '从此', '无宁', '［②ｊ］', 'ｆ］', '他是', '［①Ｂ］', '至今', '转变', '长话短说', '倘使', '据此', '\"', '後面', '越是', '一转眼', '不过', '会', '大量', '假如', '及至', '或是', '主张', '如此', '立刻', '某个', '顺', '要么', '，', '云尔', '遇到', '突然', '实际', '哪个', '日见', '尽如人意', '严格', '这次', '反倒是', '处理', '之前', '每每', '［⑩］', '切切', '综上所述', '我的', '使用', '立地', '请勿', '极为', '你', '不日', '见', '屡次', '大举', '大凡', '全然', '焉', '呃', '＝－', '腾', '平素', '默默地', '莫非', '哪儿', '＝☆', '第二', '只是', '年复一年', '４', '采取', '自', '专门', 'ｃ］', '半', '啐', '由', '认为', '３', '切不可', '沙沙', '也好', '伟大', '隔夜', '哗啦', '将', '所以', '不比', '⑦', '不满', '以后', '矣乎', '果然', '“', '［②④', '倒不如', '简而言之', '照', '成心', '待', '沿', '决非', '亲身', '大不了', '然则', '恰逢', '整个', '充分', '［①⑨］', '!', '迅速', '＝', '临到', '从古到今', '宣布', '本地', '或许', '使', '偶尔', '一则通过', '啊', '>', '举凡', '阿', '到头', '似的', '”，', '］∧′＝［', '开展', '这些', '不经意', '否则', '虽则', '/', '⑧', '没有', '她们', '挨次', '｝', '三天两头', '余外', '窃', '……', '代替', 'ａ］', '那么', '吗', '来不及', '那么些', '本', '各位', '下去', '切', '范围', '比如', '本身', '唉', '∪φ∈', '看见', '以及', '～', '掌握', '连袂', '先后', '～＋', '［①③］', '人人', '从事', '来看', '当真', '许多', '次第', '除外', '放量', '大体上', '人家', '五', '固', '~', '&', 'Ⅲ', '豁然', '呢', '别处', '对应', '运用', '毕竟', '不限', '倍加', '尽快', '当即', '２．３％', '而外', '内', '4', '几乎', '因而', '...', '应用', '集中', '从优', '光是', '练习', '遭到', '一时', '对', '任何', '白', '立', '如今', '何', '不能', '——', '三番两次', '很', '不可抗拒', '反过来说', '归', '您是', '各式', '理该', '岂止', '把', '即是说', '待到', '刚巧', '该当', '．', '按照', '乒', '联系', '继后', '只限', 'Ψ', '再者', '介于', '别人', '正如', '出去', '前后', '不是', '也罢', '这么点儿', 'sub', '传闻', '照着', '例如', '强烈', '人', '任凭', '广泛', '@', '７', '迟早', '％', '［］', '奋勇', '１．', '忽然', '实现', '纵使', '哉', '顺着', '之一', '谁知', '何须', '不怕', '具有', '叫', '⑨', '单单', '连日', '原来', '）÷（１－', '鉴于', '八', '同时', '同', '方能', '总的来说', '哪些', '借此', '喀', '几经', '趁早', '再说', '非特', '［②⑧］', '好', '除去', '一', '难怪', '它', '究竟', '..', '类如', '是否', '而且', '倘或', '此处', '坚持', '产生', '隔日', '［④ｅ］', '带', '除开', '＝［', '②ｃ', '则', '何止', '让', '良好', '分头', '他们', '５', '加入', '存心', '0', '还有', '多多', '当时', '比如说', 'Lex', '适用', '就', '达旦', '──', '反之', '够瞧的', '但是', '你是', '不可开交', '策略地', '下', '先不先', '具体来说', '快', '仍然', '重要', '被', '哼', '于是乎', '总是', '趁着', '最后', '赶早不赶晚', '有着', '比照', '除', '｝＞', '甫', '齐', '′｜', '近来', '看来', '全面', '不独', '举行', '顿时', '［⑧］', '特点', '不单', '它的', '惟其', '不怎么', '便于', '彼', '每天', '不必', '尔后', '有关', '很少', '一一', '白白', '何时', '且', '容易', '目前', '［①Ａ］', '对于', '所幸', '最大', '存在', '＊', '://', '吱', 'ＬＩ', '忽地', '自身', '相信', '着呢', '具体说来', '不再', '纯粹', '难道说', '自个儿', '贼死', '较为', '竟然', '岂非', '而况', '喔唷', '乘机', '理应', '近', '儿', '此间', '维持', '－［＊］－', '像', '替代', '⑩', '［①ｄ］', '自家', '嘘', '轰然', '并肩', '这儿', '哪样', '所谓', '不胜', '进入', '从重', '。', '不变', '［⑤ｅ］', '哈哈', '罢了', '一方面', '另悉', '更', '极大', '若非', '但', '藉以', '个人', '！', '从来', '取得', '好的', '本着', '今天', '绝非', ',', '觉得', '打', '来着', '）', '尽心竭力', '［②Ｇ］', '如果', '不止一次', '起先', '加强', '日臻', '普遍', '恰恰', '哟', '〉', '有些', '以故', '凭借', '最後', '另', '它们', '俺', '看出', '方面', '不敢', '＠', '如若', '共总', '几度', '打开天窗说亮话', '互', '若', '.一', '理当', '［②ｉ］', '种', '即若', '一个', '不止']\n",
      "1891\n"
     ]
    }
   ],
   "source": [
    "from spacy.lang.zh.stop_words import STOP_WORDS\n",
    "import zh_core_web_sm\n",
    "nlp = zh_core_web_sm.load()\n",
    "stopwords = list(STOP_WORDS)\n",
    "# document1 = \"\"\"xxxxxxxxxx\"\"\"\n",
    "#docx = nlp(document1)\n",
    "print(stopwords)\n",
    "print(len(stopwords))"
   ]
  },
  {
   "cell_type": "code",
   "execution_count": null,
   "metadata": {},
   "outputs": [],
   "source": []
  }
 ],
 "metadata": {
  "kernelspec": {
   "display_name": "Python 3",
   "language": "python",
   "name": "python3"
  },
  "language_info": {
   "codemirror_mode": {
    "name": "ipython",
    "version": 3
   },
   "file_extension": ".py",
   "mimetype": "text/x-python",
   "name": "python",
   "nbconvert_exporter": "python",
   "pygments_lexer": "ipython3",
   "version": "3.11.4"
  },
  "orig_nbformat": 4
 },
 "nbformat": 4,
 "nbformat_minor": 2
}
