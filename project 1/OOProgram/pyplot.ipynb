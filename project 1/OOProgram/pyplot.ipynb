{
 "cells": [
  {
   "cell_type": "markdown",
   "metadata": {},
   "source": [
    "<h1>Matplotlib</h1>\n",
    "\n",
    "Python plotting library\n",
    "pip install matplotlib"
   ]
  },
  {
   "cell_type": "code",
   "execution_count": null,
   "metadata": {},
   "outputs": [],
   "source": [
    "import matplotlib\n",
    "print(matplotlib.__version__)"
   ]
  },
  {
   "cell_type": "markdown",
   "metadata": {},
   "source": [
    "<h1>Point Plot</h1>"
   ]
  },
  {
   "cell_type": "code",
   "execution_count": null,
   "metadata": {},
   "outputs": [],
   "source": [
    "import matplotlib.pyplot as plt\n",
    "y=5,7,8,9\n",
    "plt.plot(y,'r^') # '','*','r^'\n",
    "plt.plot(1,3,'b<')\n",
    "plt.show()"
   ]
  },
  {
   "cell_type": "code",
   "execution_count": null,
   "metadata": {},
   "outputs": [],
   "source": [
    "y=5\n",
    "plt.subplot(121)\n",
    "plt.plot(y,'r^') # '','*','r^'\n",
    "plt.subplot(122)\n",
    "plt.plot(1,3,'b<')\n",
    "\n",
    "# plt.show()"
   ]
  },
  {
   "cell_type": "code",
   "execution_count": null,
   "metadata": {},
   "outputs": [],
   "source": [
    "# input by list\n",
    "import matplotlib.pyplot as plt\n",
    "xpoints=[0,0]\n",
    "ypoints=[3,5]\n",
    "plt.plot(xpoints,ypoints,'h--') # .plot(x,y,style) eg. '^','c'\n",
    "# plt.plot(ypoints,'h--'\n",
    "plt.show()"
   ]
  },
  {
   "cell_type": "code",
   "execution_count": null,
   "metadata": {},
   "outputs": [],
   "source": [
    "# input by list\n",
    "# The axis function\n",
    "import matplotlib.pyplot as plt\n",
    "plt.plot([1,2,3,4],[1,4,9,16],'ro--')  # 'ro-':solid line,'ro--' dashed line\n",
    "plt.axis([0,5,0,20])  #.axis(xmin,xmax,ymin,ymax) *will lose data [2,5,2,20]\n",
    "plt.show()"
   ]
  },
  {
   "cell_type": "code",
   "execution_count": null,
   "metadata": {},
   "outputs": [],
   "source": [
    "# input np array\n",
    "\n",
    "import matplotlib.pyplot as plt\n",
    "import numpy as np\n",
    "\n",
    "xpoints=np.array([1,2,6,8])  # can use List function,xpoints=[1,2,6,8]\n",
    "ypoints=np.array([3,8,1,10])  # can use List function,ypoints=[3,8,1,10]\n",
    "plt.plot(xpoints,ypoints,marker='D',ms=20) # ms as marker size\n",
    "plt.show()"
   ]
  },
  {
   "cell_type": "code",
   "execution_count": null,
   "metadata": {},
   "outputs": [],
   "source": [
    "# input Dictionary\n",
    "AA={'xpoints':[1,2,6,8],\n",
    "    'ypoints':[3,8,1,10]}\n",
    "plt.plot(AA['xpoints'],AA['ypoints'],marker='D',ms=10)\n",
    "plt.show()"
   ]
  },
  {
   "cell_type": "code",
   "execution_count": null,
   "metadata": {},
   "outputs": [],
   "source": [
    "# 2D array\n",
    "x=[1,2,3]\n",
    "# if only one of them is 2D with shape (N,m)\n",
    "# the other must have length N and will be used for every data set m\n",
    "y=np.array([[1,2],[3,4],[5,6]])\n",
    "plt.plot(x,y,'r*')\n",
    "plt.show()"
   ]
  },
  {
   "cell_type": "code",
   "execution_count": null,
   "metadata": {},
   "outputs": [],
   "source": [
    "# 2D array\n",
    "x=np.array([1,2,3])\n",
    "# if only one of them is 2D with shape (N,m)\n",
    "# the other must have length N and will be used for every data set m\n",
    "y=np.array([[1,2],[3,4],[5,6]])\n",
    "print(x.shape)\n",
    "print(y.shape)\n",
    "plt.plot(x,y,'r*')\n",
    "plt.show()"
   ]
  },
  {
   "cell_type": "markdown",
   "metadata": {},
   "source": [
    "Line Chart Plot"
   ]
  },
  {
   "cell_type": "code",
   "execution_count": null,
   "metadata": {},
   "outputs": [],
   "source": [
    "# input by list\n",
    "import matplotlib.pyplot as plt\n",
    "xpoints=[0,6]\n",
    "ypoints=[0,250]\n",
    "plt.plot(xpoints,ypoints,'h') # .plot(x,y,style) eg. '^','c'\n",
    "plt.show()"
   ]
  },
  {
   "cell_type": "code",
   "execution_count": null,
   "metadata": {},
   "outputs": [],
   "source": [
    "# Format Line\n",
    "\n",
    "ypoints=np.array([3,8,1,10])\n",
    "# '-' solid, '--' dashed, ':' dotted, ':.' dashed/dotted\n",
    "# r red g green b blue y yellow k black w white\n",
    "# details in \n",
    "# https://matplotlib.org/stable/api/markers_api\n",
    "plt.title('hello this is title')\n",
    "plt.xlabel('yes this is label x axis')\n",
    "plt.ylabel('yes this is label y axis')\n",
    "plt.plot(ypoints,'p:b')\n",
    "plt.show()"
   ]
  },
  {
   "cell_type": "code",
   "execution_count": null,
   "metadata": {},
   "outputs": [],
   "source": [
    "# Format the style of yr plot\n",
    "import matplotlib.pyplot as plt\n",
    "import numpy as np\n",
    "# evenly sampled time at 200ms intervals\n",
    "t=np.arange(0,5,0.2)  #(start,end,step)\n",
    "plt.plot(t,t,'ro--',t,t**2,'bs',t,t**3,'g^')\n",
    "plt.show()"
   ]
  },
  {
   "cell_type": "code",
   "execution_count": null,
   "metadata": {},
   "outputs": [],
   "source": [
    "#Single Line Chart\n",
    "data=[0,1,2,3,4,5,6,7,8,9]\n",
    "plt.plot(data)\n",
    "plt.show()"
   ]
  },
  {
   "cell_type": "code",
   "execution_count": null,
   "metadata": {},
   "outputs": [],
   "source": [
    "import matplotlib.pyplot as plt\n",
    "\n",
    "x=['Dec01,2022','Dec02,2022','Dec05,2022','Dec6,2022','Dec07,2022']\n",
    "y=[4076.57,4071.7,3998.84,3941.26,3933.92]\n",
    "plt.plot(x,y)\n",
    "plt.ylabel('Closing Index')\n",
    "plt.title('S&P 500 index')\n",
    "plt.show()"
   ]
  },
  {
   "cell_type": "markdown",
   "metadata": {},
   "source": [
    "<h2>Figure Size</h2>"
   ]
  },
  {
   "cell_type": "code",
   "execution_count": null,
   "metadata": {},
   "outputs": [],
   "source": [
    "import matplotlib.pyplot as plt\n",
    "# plot.text(x,y,s,fontDict=None,**kwargs)\n",
    "# where x and y co-ordinates\n",
    "# s text to be added inside the plot\n",
    "# **kwargs as text properties,ha as horizontal alignment\n",
    "AAA=dict(ha='center',va='center',fontsize=28,color='C1') # C1 orange\n",
    "plt.subplots(figsize=(6,2))\n",
    "plt.text(0.5,0.5,'6 inches x 2 inches',**AAA)\n",
    "plt.show()"
   ]
  },
  {
   "cell_type": "code",
   "execution_count": null,
   "metadata": {},
   "outputs": [],
   "source": [
    "# Figure and Subplot\n",
    "\n",
    "import matplotlib.pyplot as plt\n",
    "\n",
    "fig=plt.figure()\n",
    "# subplot(row,column,index)\n",
    "ax1=fig.add_subplot(2,2,1).set_title('221') #2 columns index1\n",
    "ax2=fig.add_subplot(2,2,2).set_title('index 2')\n",
    "\n",
    "\n",
    "\n"
   ]
  },
  {
   "cell_type": "code",
   "execution_count": null,
   "metadata": {},
   "outputs": [],
   "source": [
    "fig=plt.figure()\n",
    "# subplot(row,column,index)\n",
    "ax1=fig.add_subplot(2,1,1).set_title('221') #1 columns index1\n",
    "ax2=fig.add_subplot(212).set_title('index 2')"
   ]
  },
  {
   "cell_type": "code",
   "execution_count": null,
   "metadata": {},
   "outputs": [],
   "source": [
    "fig=plt.figure()\n",
    "ax1=fig.add_subplot(221).set_title('index 1')\n",
    "ax2=fig.add_subplot(222).set_title('index 2')\n",
    "ax32=fig.add_subplot(223).set_title('index 3')\n",
    "ax32=fig.add_subplot(224).set_title('index 4')"
   ]
  },
  {
   "cell_type": "code",
   "execution_count": null,
   "metadata": {},
   "outputs": [],
   "source": [
    "# Line chart with Subplot\n",
    "\n",
    "import matplotlib.pyplot as plt\n",
    "\n",
    "dates=['Dec01,2022','Dec02,2022','Dec05,2022','Dec6,2022','Dec07,2022']\n",
    "indx=[4076.57,4071.7,3998.84,3941.26,3933.92]\n",
    "vol=[4527,4012,4280,4368,4118]\n",
    "plt.figure()\n",
    "plt.subplot(211)\n",
    "plt.plot(dates,indx)\n",
    "plt.ylabel('Closing Index')\n",
    "plt.subplot(212)\n",
    "plt.plot(dates,vol,'tab:orange',marker='o',linestyle='dotted')\n",
    "plt.ylabel('daily volumn mil') \n",
    "plt.suptitle('S&P 500 index')  #  'suptitle'=  set title for subplot\n",
    "# plt.show()"
   ]
  },
  {
   "cell_type": "code",
   "execution_count": null,
   "metadata": {},
   "outputs": [],
   "source": [
    "#Figure Labels\n",
    "import matplotlib.pyplot as plt\n",
    "import numpy as np\n",
    "\n",
    "x=np.linspace(0.0,5.0,501) # start 0 end 5 generates 501 samples\n",
    "fig,(ax1,ax2)=plt.subplots(1,2,constrained_layout=True,sharey=True,figsize=(8,6))\n",
    "\n",
    "# constrained_layout set the spacing between subplots\n",
    "# sharey to share the y axis with other\n",
    "ax1.plot(x,np.cos(6*x)*np.exp(-x))\n",
    "ax1.set_title('damped')\n",
    "ax1.set_xlabel('time (s)')\n",
    "ax1.set_ylabel('amptitude')\n",
    "\n",
    "ax2.plot(x,np.cos(6*x))\n",
    "ax2.set_title('undamped')\n",
    "ax2.set_xlabel('time (s)')\n",
    "fig.suptitle('Difference types of oscillations',fontsize=16)\n",
    "\n"
   ]
  },
  {
   "cell_type": "markdown",
   "metadata": {},
   "source": [
    "<h1>Bar Chart</h1>"
   ]
  },
  {
   "cell_type": "code",
   "execution_count": null,
   "metadata": {},
   "outputs": [],
   "source": [
    "import matplotlib.pyplot as plt\n",
    "fig,ax=plt.subplots()\n",
    "vaccine=['1st dose','2nd dose','3rd dose','4th dose']\n",
    "counts=[6904243,6779247,5764953,676118]\n",
    "bar_colors=['tab:blue','tab:green','tab:orange','tab:red']\n",
    "ax.bar(vaccine,counts,color=bar_colors) #bar chart\n",
    "plt.grid(alpha=0.5)  # grid line darken and lighten (0 to 1)\n",
    "ax.set_axisbelow(True)  # grid axis can be front(False) or below(True)\n",
    "ax.set_ylabel('Population with doses administered')\n",
    "ax.set_title('Vaccine doses addministered as of Dec 2022')\n",
    "plt.show()\n",
    "            "
   ]
  },
  {
   "cell_type": "code",
   "execution_count": null,
   "metadata": {},
   "outputs": [],
   "source": []
  },
  {
   "cell_type": "code",
   "execution_count": null,
   "metadata": {},
   "outputs": [],
   "source": [
    "#Group var chart\n",
    "labels=['Sep','Oct','Nov','Dec']\n",
    "sales_2021=[20,34,30,35]\n",
    "sales_2022=[25,32,34,20]\n",
    "x=np.arange(len(labels))\n",
    "width=0.35 #set width =0.35\n",
    "fig,ax=plt.subplots()\n",
    "rects1=ax.bar(x-width/2,sales_2021,width,label='Sales 2021')\n",
    "rects2=ax.bar(x+width/2,sales_2022,width,label='Sales 2022')\n",
    "ax.set_xlabel('Month')\n",
    "ax.set_ylabel('Sales Volumn $mil')\n",
    "ax.set_title('Sales by 2021 and 2022')\n",
    "ax.set_xticks(x,labels)\n",
    "ax.legend()\n",
    "ax.bar_label(rects1,padding=3)\n",
    "ax.bar_label(rects2,padding=3)\n",
    "fig.tight_layout()\n",
    "plt.show()\n"
   ]
  },
  {
   "cell_type": "code",
   "execution_count": null,
   "metadata": {},
   "outputs": [],
   "source": [
    "#Stacked Bar Chart\n",
    "\n",
    "countries=['US','CN','RU','GB','JP']\n",
    "bronzes=np.array([33,19,23,22,17])\n",
    "silvers=np.array([41,32,28,20,14])\n",
    "golds=np.array([39,38,20,22,27])\n",
    "# ind=[x for x, _ in enumerate(countries)]  # as a variable\n",
    "ind=[x for x in countries]  # can use either line 7 or line 8\n",
    "plt.bar(ind,golds,width=0.5,label='golds',color='gold',bottom=silvers+bronzes)\n",
    "plt.bar(ind,silvers,width=0.5,label='silvers',color='silver',bottom=bronzes)\n",
    "plt.bar(ind,bronzes,width=0.5,label='bronzes',color='#CD853F')\n",
    "plt.xticks(ind,countries)\n",
    "plt.ylabel('Medals')\n",
    "plt.xlabel('Countries')\n",
    "plt.legend(loc='upper right')\n",
    "plt.title('2020 Olympics Top Scores')\n",
    "plt.show()\n"
   ]
  },
  {
   "cell_type": "markdown",
   "metadata": {},
   "source": [
    "<h1>Change the figure size and dpi</h1>"
   ]
  },
  {
   "cell_type": "code",
   "execution_count": null,
   "metadata": {},
   "outputs": [],
   "source": [
    "import matplotlib.pyplot as plt\n",
    "from matplotlib.pyplot import figure\n",
    "import numpy as np\n",
    "\n",
    "figure(figsize=(8,6),dpi=60) # dpi  as dots per inch,the higher,the better resolution\n",
    "countries=['US','CN','RU','GB','JP']\n",
    "bronzes=np.array([33,19,23,22,17])\n",
    "silvers=np.array([41,32,28,20,14])\n",
    "golds=np.array([39,38,20,22,27])\n",
    "# ind=[x for x, _ in enumerate(countries)]  # as a variable\n",
    "ind=[x for x in countries]  # can use either line 10 or line 11\n",
    "plt.bar(ind,golds,width=0.5,label='golds',color='gold',bottom=silvers+bronzes)\n",
    "plt.bar(ind,silvers,width=0.5,label='silvers',color='silver',bottom=bronzes)\n",
    "plt.bar(ind,bronzes,width=0.5,label='bronzes',color='#CD853F')\n",
    "plt.xticks(ind,countries)\n",
    "plt.ylabel('Medals')\n",
    "plt.xlabel('Countries')\n",
    "plt.legend(loc='upper right')\n",
    "plt.title('2020 Olympics Top Scores')\n",
    "plt.show()"
   ]
  },
  {
   "cell_type": "code",
   "execution_count": null,
   "metadata": {},
   "outputs": [],
   "source": [
    "# example for loop\n",
    "AA={'jon':55,'mary':65,'dav':60}\n",
    "for count, item in enumerate(AA,1):\n",
    "    print(item,AA[item])\n",
    "print('total',count)\n"
   ]
  },
  {
   "cell_type": "markdown",
   "metadata": {},
   "source": [
    "<h1>Plot sine wave</h1>"
   ]
  },
  {
   "cell_type": "code",
   "execution_count": null,
   "metadata": {},
   "outputs": [],
   "source": [
    "import numpy as np\n",
    "import math\n",
    "\n",
    "\n",
    "x=np.arange(0,math.pi*2,0.05)\n",
    "y=np.sin(x)\n",
    "plt.grid()\n",
    "# plt.grid(axis='y',color='red',linestyle='--',linewidth=0.5) # axis=x or y\n",
    "\n",
    "plt.plot(x,y,'g.')  # plot symbols rather than lines\n",
    "plt.grid(alpha=0.1)\n",
    "plt.xlabel('angle')\n",
    "plt.ylabel('sine')\n",
    "plt.title('sine wave')\n",
    "plt.show()"
   ]
  },
  {
   "cell_type": "code",
   "execution_count": null,
   "metadata": {},
   "outputs": [],
   "source": [
    "import numpy as np\n",
    "import math\n",
    "x=np.arange(0,math.pi*2,0.05)\n",
    "y=np.cos(x)\n",
    "plt.grid()\n",
    "# plt.grid(axis='y',color='red',linestyle='--',linewidth=0.5) # axis=x or y\n",
    "plt.plot(x,y,'g.')  # plot symbols rather than lines\n",
    "plt.grid(alpha=0.5)\n",
    "plt.xlabel('angle')\n",
    "plt.ylabel('cosine')\n",
    "plt.title('cosine wave')\n",
    "plt.show()"
   ]
  },
  {
   "cell_type": "markdown",
   "metadata": {},
   "source": [
    "## Procedural Approach and OOp Approach"
   ]
  },
  {
   "cell_type": "markdown",
   "metadata": {},
   "source": [
    "## Pyplot and AX.plot"
   ]
  },
  {
   "cell_type": "code",
   "execution_count": null,
   "metadata": {},
   "outputs": [],
   "source": [
    "# just want to get ONE graphic\n",
    "import numpy as np\n",
    "import matplotlib.pyplot as plt\n",
    "x=np.random.rand(10)\n",
    "y=np.random.rand(10)\n",
    "plt.title('Procedural Approach')\n",
    "figure1=plt.plot(x,y)\n",
    "# plt.plot() is a function that is part of the plt library"
   ]
  },
  {
   "cell_type": "code",
   "execution_count": null,
   "metadata": {},
   "outputs": [],
   "source": [
    "# \"OOP\" Approach to plot one or several figures in teh same window\n",
    "\n",
    "# fig,ax=plt.subplots()\n",
    "# ax=plt.subplots()\n",
    "# fig=plt.figure()\n",
    "\n",
    "# fig,ax=plt.subplots()  # commonly use\n",
    "ax=plt.subplot() # one plot only\n",
    "ax.plot(x,y)\n",
    "# ax is a Matplotlib Axes object that we created\n",
    "# .plot() is a method(function) available to all figure objects\n",
    "# ax can be any name\n",
    "ax.set_title('OOP Approach')\n",
    "plt.show()\n"
   ]
  },
  {
   "cell_type": "code",
   "execution_count": null,
   "metadata": {},
   "outputs": [],
   "source": [
    "# Plot multiple figures \n",
    "\n",
    "figure2,((ax1,ax2),(ax3,ax4))=plt.subplots(2,2)  # subplots > one axe; sharex=True\n",
    "x1=np.random.rand(10);x2=np.random.rand(10)\n",
    "x3=np.random.rand(10);x4=np.random.rand(10)\n",
    "y1=np.random.rand(10);y2=np.random.rand(10)\n",
    "y3=np.random.rand(10);y4=np.random.rand(10)\n",
    "ax1.plot(x1,y1)\n",
    "ax2.plot(x2,y2)\n",
    "ax3.plot(x3,y3)\n",
    "ax4.plot(x4,y4)\n",
    "#plt.rc('text', usetex=True)\n",
    "\n",
    "ax1.set(title='ax1 title')\n",
    "ax2.set_title('ax2 title')\n",
    "ax3.set_title('ax3 title')\n",
    "ax4.set_title('ax4 title')\n",
    "plt.tight_layout()  #alignment by specific padding parameters\n",
    "plt.show()"
   ]
  },
  {
   "cell_type": "code",
   "execution_count": null,
   "metadata": {},
   "outputs": [],
   "source": [
    "\n",
    "import numpy as np\n",
    "import matplotlib.pyplot as plt\n",
    "fig,ax=plt.subplots()  # commonly use\n",
    "x=np.random.rand(10);y=np.random.rand(10)\n",
    "AA=fig.add_subplot(111) # 1 row, 1 column, 1 index\n",
    "AA.plot(x,y)\n",
    "plt.show()"
   ]
  },
  {
   "cell_type": "code",
   "execution_count": null,
   "metadata": {},
   "outputs": [],
   "source": [
    "fig=plt.figure()  \n",
    "AA=fig.add_subplot(111) # 1 row, 1 column, 1 index\n",
    "AA.plot(x,y)\n",
    "plt.show()"
   ]
  },
  {
   "cell_type": "markdown",
   "metadata": {},
   "source": [
    "***Plot*** - Plot helps to plot just one diagram with (x,y)coordinates.\n",
    "\n",
    "***Axes*** - Axes denotes the plotting areas. It helps to plot \n",
    "one or more diagrams in the same windows and sets the location of the figure.\n",
    " \n",
    "***Figure*** - Figure provides a top-level container for all the plot elements."
   ]
  },
  {
   "cell_type": "markdown",
   "metadata": {},
   "source": [
    "The statement of\n",
    "**fig, ax = plt.subplots()** consists of the following two assignments:\n",
    "\n",
    "***ax=plt.subplot()***\n",
    "\n",
    "and\n",
    "\n",
    "***fig=plt.figure()***\n"
   ]
  },
  {
   "cell_type": "code",
   "execution_count": null,
   "metadata": {},
   "outputs": [],
   "source": [
    "#Plot multiple figures(**Not Work)\n",
    "\n",
    "#**By indexing\n",
    "fig3,ax=plt.subplots(2,2)\n",
    "x1=np.random.rand(10);x2=np.random.rand(10)\n",
    "x3=np.random.rand(10);x4=np.random.rand(10)\n",
    "y1=np.random.rand(10);y2=np.random.rand(10)\n",
    "y3=np.random.rand(10);y4=np.random.rand(10)\n",
    "ax[0,0].set_title('index1'); ax[0,0].plot(x1,y1)\n",
    "ax[0,1].set_title('index2'); ax[0,1].plot(x2,y2)\n",
    "ax[1,0].set_title('index3'); ax[1,0].plot(x3,y3)\n",
    "ax[1,1].set_title('index4'); ax[1,1].plot(x4,y4)\n",
    "plt.tight_layout()  #alignment by specific padding parameters\n",
    "plt.show()"
   ]
  },
  {
   "cell_type": "code",
   "execution_count": null,
   "metadata": {},
   "outputs": [],
   "source": [
    "import matplotlib.pyplot as plt\n",
    "# Activating figure\n",
    "fig=plt.figure()\n",
    "# Setting up figure position,size\n",
    "BB=fig.add_subplot(121)\n",
    "# Drawing lines in the activated figures\n",
    "BB.plot([3,4,1,0,3,0],[1,4,4,3,0,0])\n",
    "# Show the diagram\n",
    "plt.show() "
   ]
  },
  {
   "cell_type": "code",
   "execution_count": null,
   "metadata": {},
   "outputs": [],
   "source": [
    "import matplotlib.pyplot as plt\n",
    "import numpy as np\n",
    "\n",
    "# Fixing random state for reproductivity\n",
    "np.random.seed(42)\n",
    "# create random data\n",
    "xdata=np.random.random([2,10])\n",
    "print(xdata)\n",
    "print(xdata.shape)\n",
    "# split the data into two parts\n",
    "xdata1=xdata[0,:]\n",
    "xdata2=xdata[1,:]\n",
    "print(x2)\n",
    "# sort the data\n",
    "xdata1.sort()\n",
    "print(xdata1)\n",
    "xdata2.sort()\n",
    "print(xdata2)\n",
    "# create some y points\n",
    "ydata1=xdata1**2\n",
    "ydata2=1-xdata2**3\n",
    "# plot the data\n",
    "fig = plt.figure()\n",
    "ax=fig.add_subplot(1,1,1)\n",
    "ax.plot(xdata1,ydata1,color = 'tab:blue')\n",
    "ax.plot(xdata2,ydata2,color = 'tab:orange')\n",
    "# set the limit\n",
    "\n",
    "##ax.set_ylim=([0,1])\n",
    "ax.set_title('Matplotlib')\n",
    "# display the plot\n",
    "plt.show()\n",
    "             "
   ]
  },
  {
   "cell_type": "markdown",
   "metadata": {},
   "source": [
    "<h2>Pandas DataFrame Bar Chart</h2>"
   ]
  },
  {
   "cell_type": "code",
   "execution_count": null,
   "metadata": {},
   "outputs": [],
   "source": [
    "# Vertical Bar Chart\n",
    "import pandas as pd\n",
    "speed=[0.1,17.5,40,48,52,69,88]\n",
    "lifespan=[2,8,70,1.5,25,12,28]\n",
    "index=['snail','pig','elephant','rabbit','giraffe','coyote','horse']\n",
    "df=pd.DataFrame({'speed':speed,'lifespan':lifespan},index=index)\n",
    "ax=df.plot.bar(rot=30) #rot=0 not to rotate\n"
   ]
  },
  {
   "cell_type": "code",
   "execution_count": null,
   "metadata": {},
   "outputs": [],
   "source": [
    "# Plot attached Bar Chart for the pandas DataFrame\n",
    "ax=df.plot.bar(stacked=True, legend=False)"
   ]
  },
  {
   "cell_type": "code",
   "execution_count": null,
   "metadata": {},
   "outputs": [],
   "source": [
    "# Split by column\n",
    "axes=df.plot.bar(rot=0,subplots=True)\n",
    "axes[1].legend(loc=2)"
   ]
  },
  {
   "cell_type": "markdown",
   "metadata": {},
   "source": [
    "<h2><u>Scatter Plot</u></h2>"
   ]
  },
  {
   "cell_type": "markdown",
   "metadata": {},
   "source": [
    "A line chart is idea fpr showing growth rates or trends at even\n",
    "intervals. A Scatter Plot works best in displaying relationship\n",
    "between varying variables.\n",
    "\n",
    "Scatter Plots (X-Y plots) are used to determine relationships \n",
    "between the two different things.\n",
    "The X-axis is used to measure one event ( or variable) and \n",
    "The Y-axis is used to measure the other.\n",
    "If both variables increase at the same time, they have a positive\n",
    "relationship. If one variable decreases while the other increases,\n",
    "they have a negative relationship. Sometimes the variables do not\n",
    "follow any pattern and have No relationship.\n",
    "\n",
    "Real life Example: A local ice cream shop keeps track of how many\n",
    "ice cream they sell versus the room temperature on that day"
   ]
  },
  {
   "cell_type": "code",
   "execution_count": null,
   "metadata": {},
   "outputs": [],
   "source": [
    "# A simple scatter\n",
    "import matplotlib.pyplot as plt\n",
    "import numpy as np\n",
    "x=np.array([5,7,8,7,2,17,2,9,4,11,12,9,6])\n",
    "y=np.array([99,86,87,88,111,86,103,87,94,78,77,85,86])\n",
    "#plt.plot(x,y,'r*')\n",
    "plt.scatter(x,y)  # same as plt.plot(x,y,'r*')\n",
    "plt.show()"
   ]
  },
  {
   "cell_type": "code",
   "execution_count": null,
   "metadata": {},
   "outputs": [],
   "source": [
    "# Ice Cream Sales vs Temperature\n",
    "import matplotlib.pyplot as plt\n",
    "import numpy as np\n",
    "temp=np.array([14,15,12,15,18,22,19,26,23,18,22,17])\n",
    "sell=np.array([215,328,185,332,406,522,412,614,544,421,445,408])\n",
    "plt.xlabel('Temperature')\n",
    "plt.ylabel('Sales')\n",
    "plt.title('Ice Cream Sales vs Temp')\n",
    "plt.scatter(temp,sell)\n",
    "plt.show()\n",
    "# can draw a line of best fit and the line called \"Trend Line\""
   ]
  },
  {
   "cell_type": "code",
   "execution_count": null,
   "metadata": {},
   "outputs": [],
   "source": [
    "# Two Plots\n",
    "import matplotlib.pyplot as plt\n",
    "import numpy as np\n",
    "from matplotlib import rc\n",
    "rc('text', usetex=True)\n",
    "\n",
    "# Day 1, the age and speed of 13 cars:\n",
    "age=np.array([5,7,8,7,2,17,2,8,4,11,12,9,6])\n",
    "speed=np.array([99,86,87,88,111,86,103,87,94,78,77,85,86])\n",
    "#plt.scatter(age,speed)\n",
    "# np.where return element when condition satisfy(ie age<10)\n",
    "AA=np.where(age<10,'red','blue')\n",
    "plt.scatter(age,speed,c=AA)  # c 'color'\n",
    "# Day 2, the age and speed of 15 cars:\n",
    "age=np.array([2,2,8,1,15,8,12,9,7,3,11,4,7,14,12])\n",
    "speed=np.array([100,105,84,105,90,99,90,95,94,100,79,112,91,80,85])\n",
    "plt.scatter(age,speed,color='green',marker='v',s=75) # s 'marker size'\n",
    "plt.xlabel('Age');plt.ylabel('Speed')\n",
    "plt.title(r'$\\underline{\\textup{Car age vs Speed}}$')\n",
    "plt.show()"
   ]
  },
  {
   "cell_type": "code",
   "execution_count": null,
   "metadata": {},
   "outputs": [],
   "source": [
    "import matplotlib.pyplot as plt\n",
    "import numpy as np\n",
    "from matplotlib import rc\n",
    "rc('text', usetex=True)\n",
    "\n",
    "plt.style.use('_mpl-gallery')\n",
    "np.random.seed(42)\n",
    "x=4+np.random.normal(0,2,24)\n",
    "y=4+np.random.normal(0,2,len(x))\n",
    "sizes=np.random.uniform(15,80,len(x))\n",
    "colors=np.random.uniform(15,80,len(x))\n",
    "fig,ax=plt.subplots(figsize=(6,6))\n",
    "ax.scatter(x,y,s=sizes,c=colors,vmin=0,vmax=100)\n",
    "ax.set(xlim=(0,8),xticks=np.arange(1,8),ylim=(0,8),yticks=np.arange(1,8))\n",
    "ax.set_xlabel('Volatility')\n",
    "ax.set_ylabel('Return %')\n",
    "ax.set_title(r'$\\underline{\\textup{ETF Performance}}$')\n",
    "plt.show()\n"
   ]
  },
  {
   "cell_type": "markdown",
   "metadata": {},
   "source": [
    "<h2>Scatter Histgram</h2>"
   ]
  },
  {
   "cell_type": "code",
   "execution_count": null,
   "metadata": {},
   "outputs": [],
   "source": [
    "import matplotlib.pyplot as plt\n",
    "import numpy as np\n",
    "from mpl_toolkits.axes_grid1 import make_axes_locatable\n",
    "#fixing random state for reproductibility\n",
    "np.random.seed(19680801)\n",
    "x=np.random.randn(1000)\n",
    "y=np.random.randn(1000)\n",
    "fig,ax=plt.subplots(figsize=(5.5,5.5))\n",
    "ax.scatter(x,y)\n",
    "#set aspect of the main axes-\n",
    "#ax.set_aspect(1.) # the ratio of x and y\n",
    "ax.set_aspect('equal')  # the ratio of x and y\n",
    "\n",
    "#create new axes on the right and on the top of the current axes\n",
    "#make_axes_locatable takes an existing axes,add it to a new divider\n",
    "divider= make_axes_locatable(ax)\n",
    "#below height and pad are in inches\n",
    "#append_axes to create new axes on 'top','right','bottom','left'\n",
    "ax_histx=divider.append_axes('top',1.2,pad=0.1,sharex=ax)\n",
    "ax_histy=divider.append_axes('right',1.2,pad=0.1,sharey=ax)\n",
    "#make labels invisible\n",
    "ax_histx.xaxis.set_tick_params(labelbottom=False)\n",
    "ax_histx.yaxis.set_tick_params(labelleft=False)\n",
    "binwidth=0.25\n",
    "xymax=max(np.max(np.abs(x)),np.max(np.abs(y)))\n",
    "lim=(int(xymax/binwidth)+1)*binwidth\n",
    "bins=np.arange(-lim,lim+binwidth,binwidth)\n",
    "ax_histx.hist(x,bins=bins)\n",
    "ax_histy.hist(y,bins=bins,orientation='horizontal')\n",
    "ax_histx.set_yticks([0,50,100])\n",
    "ax_histy.set_xticks([0,50,100])\n",
    "plt.show()\n",
    "\n"
   ]
  },
  {
   "cell_type": "code",
   "execution_count": 6,
   "metadata": {},
   "outputs": [
    {
     "data": {
      "text/plain": [
       "<matplotlib.colorbar.Colorbar at 0x2515c7d7990>"
      ]
     },
     "execution_count": 6,
     "metadata": {},
     "output_type": "execute_result"
    },
    {
     "data": {
      "image/png": "[encoded data removed]",
      "text/plain": [
       "<Figure size 640x480 with 2 Axes>"
      ]
     },
     "metadata": {},
     "output_type": "display_data"
    }
   ],
   "source": [
    "# Example of using make_axes_locatable\n",
    "import matplotlib.pyplot as plt\n",
    "import numpy as np\n",
    "from mpl_toolkits.axes_grid1 import make_axes_locatable\n",
    "ax=plt.subplot(111)\n",
    "im=ax.imshow(np.arange(100).reshape((10,10)))\n",
    "# to create an axes on the right side of ax. The width will be 5% of ax\n",
    "# and the padding between cax and ax will eb fixed at 0.05 inch\n",
    "divider=make_axes_locatable(ax)\n",
    "cax=divider.append_axes('right',size='5%',pad=0.05)\n",
    "plt.colorbar(im,cax=cax)"
   ]
  }
 ],
 "metadata": {
  "kernelspec": {
   "display_name": ".venv",
   "language": "python",
   "name": "python3"
  },
  "language_info": {
   "codemirror_mode": {
    "name": "ipython",
    "version": 3
   },
   "file_extension": ".py",
   "mimetype": "text/x-python",
   "name": "python",
   "nbconvert_exporter": "python",
   "pygments_lexer": "ipython3",
   "version": "3.11.4"
  },
  "orig_nbformat": 4
 },
 "nbformat": 4,
 "nbformat_minor": 2
}
