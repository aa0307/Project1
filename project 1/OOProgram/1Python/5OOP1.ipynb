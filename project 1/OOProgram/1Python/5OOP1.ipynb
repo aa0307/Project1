{
 "cells": [
  {
   "cell_type": "markdown",
   "metadata": {},
   "source": [
    "## <span style=\"color: yellow;\"> Python Object Oriented Programming</span>\n"
   ]
  },
  {
   "cell_type": "markdown",
   "metadata": {},
   "source": [
    "Program and function execute in procedural programming. Bunch of functions all over the place, change one  \n",
    "function break other functions because of interdependence.  \n",
    "**Object Oriented Programming** combines a group of related variables and functions into a unit and we call that  \n",
    "unit an object, variable as properties and the functions as method.  \n",
    "https://noteable.io/blog/object-oriented-python-data-science/"
   ]
  },
  {
   "cell_type": "markdown",
   "metadata": {},
   "source": [
    "### instance variables contain data that is **unique**"
   ]
  },
  {
   "cell_type": "code",
   "execution_count": 2,
   "metadata": {},
   "outputs": [
    {
     "name": "stdout",
     "output_type": "stream",
     "text": [
      "<__main__.Debtor object at 0x000002007C8563D0>\n",
      "<__main__.Debtor object at 0x000002007C8572D0>\n"
     ]
    }
   ],
   "source": [
    "# Two debtors borrow money\n",
    "class Debtor:\n",
    "    pass # empty class\n",
    "#create objects\n",
    "D1=Debtor()\n",
    "D2=Debtor()\n",
    "# print objects\n",
    "print(D1)\n",
    "print(D2)\n",
    "#instance varables contain data that is unique to each instance and class variables"
   ]
  },
  {
   "cell_type": "markdown",
   "metadata": {},
   "source": [
    "### assign values to instance variable"
   ]
  },
  {
   "cell_type": "code",
   "execution_count": 5,
   "metadata": {},
   "outputs": [
    {
     "name": "stdout",
     "output_type": "stream",
     "text": [
      "peter.Pan@gmail.com\n",
      "taiman.Chan@gmail.com\n"
     ]
    }
   ],
   "source": [
    "# one way of doing this, one to one assignment\n",
    "D1.first='peter'\n",
    "D1.last='Pan'\n",
    "D1.email='peter.Pan@gmail.com'\n",
    "D1.loan=20000\n",
    "\n",
    "D2.first='taiman'\n",
    "D2.last='Chan'\n",
    "D2.email='taiman.Chan@gmail.com'\n",
    "D2.pay=50000\n",
    "\n",
    "print(D1.email)\n",
    "print(D2.email)"
   ]
  },
  {
   "cell_type": "markdown",
   "metadata": {},
   "source": [
    "or use **init** function"
   ]
  },
  {
   "cell_type": "code",
   "execution_count": 1,
   "metadata": {},
   "outputs": [
    {
     "name": "stdout",
     "output_type": "stream",
     "text": [
      "peter.Pen_gmail.com\n",
      "taiman.Chan_gmail.com\n"
     ]
    }
   ],
   "source": [
    "# constructor class receive the instance as the first argument,\n",
    "# call the instance self, then the others attributes\n",
    "class Debtor:\n",
    "    def __init__(self, first, last, loan):\n",
    "        self.first=first\n",
    "        self.last=last\n",
    "        self.loan=loan\n",
    "        self.email=first+'.'+last+'_gmail.com'\n",
    "#self.first=first is equal to D1.first='peter', instead of doing it\n",
    "\n",
    "DD1=Debtor('peter','Pen', 20000)\n",
    "DD2=Debtor('taiman','Chan', 50000)\n",
    "#Debtor one will be passed in as self\n",
    "\n",
    "print(DD1.email)\n",
    "print(DD2.email)\n",
    "\n",
    "#to display the full name of an debtor, manually\n",
    "print('{}{}').format(DD1.first,DD1.last)\n",
    "#format() method formats the specified value(s) and   \n",
    "# insert them inside the string's placeholder"
   ]
  },
  {
   "cell_type": "markdown",
   "metadata": {},
   "source": [
    "### Create a method/finction"
   ]
  },
  {
   "cell_type": "code",
   "execution_count": 2,
   "metadata": {},
   "outputs": [
    {
     "name": "stdout",
     "output_type": "stream",
     "text": [
      "taimanChan\n"
     ]
    }
   ],
   "source": [
    "class Debtor:\n",
    "    def __init__(self, first, last, loan):\n",
    "        self.first=first\n",
    "        self.last=last\n",
    "        self.loan=loan\n",
    "        self.email=first+'.'+last+'_gmail.com'\n",
    "    #create method/function\n",
    "    def fullname(self):\n",
    "        return'{}{}'.format(self.first,self.last)\n",
    "    \n",
    "DDD1=Debtor('peter','Pan', 20000)\n",
    "DDD2=Debtor('taiman','Chan', 50000)\n",
    "\n",
    "print(DDD2.fullname())"
   ]
  },
  {
   "cell_type": "markdown",
   "metadata": {},
   "source": [
    "### Run from class"
   ]
  },
  {
   "cell_type": "code",
   "execution_count": 2,
   "metadata": {},
   "outputs": [
    {
     "name": "stdout",
     "output_type": "stream",
     "text": [
      "run from class:  peterPen\n",
      "run from object:  peterPen\n"
     ]
    }
   ],
   "source": [
    "class Debtor:\n",
    "    def __init__(self, first, last, loan):\n",
    "        self.first=first\n",
    "        self.last=last\n",
    "        self.loan=loan\n",
    "        self.email=first+'.'+last+'_gmail.com'\n",
    "    #method\n",
    "    def fullname(self):\n",
    "        return'{}{}'.format(self.first,self.last)\n",
    "    \n",
    "D1=Debtor('peter','Pen', 20000)\n",
    "D2=Debtor('taiman','Chan', 50000)\n",
    "#run from the class Debtor to manually pass the instance D1 as an argument\n",
    "print('run from class: ',Debtor.fullname(D1))\n",
    "print('run from object: ',D1.fullname())"
   ]
  },
  {
   "cell_type": "markdown",
   "metadata": {},
   "source": [
    "### class variable"
   ]
  },
  {
   "cell_type": "code",
   "execution_count": 10,
   "metadata": {},
   "outputs": [
    {
     "name": "stdout",
     "output_type": "stream",
     "text": [
      "D2 loan amount with added tax  55000\n"
     ]
    }
   ],
   "source": [
    "class Debtor:\n",
    "    gov_tax=5000 #class variable\n",
    "    \n",
    "    def __init__(self, first, last, loan):\n",
    "        self.first=first\n",
    "        self.last=last\n",
    "        self.loan=loan\n",
    "        self.email=first+'.'+last+'_gmail.com'\n",
    "    def fullname(self):\n",
    "        return'{}{}'.format(self.first,self.last)\n",
    "    # pay tax 5000 the same for both\n",
    "    def deadend(self):\n",
    "        self.loan=int(self.loan+self.gov_tax)\n",
    "        \n",
    "D1=Debtor('peter','Pen', 20000) # (first, last, loan)\n",
    "D2=Debtor('taiman','Chan', 50000)\n",
    "\n",
    "#in one instance\n",
    "D2.deadend()\n",
    "print(\"D2 loan amount with added tax \",D2.loan)\n",
    "\n",
    "#print(Debtor.gov_tax)\n",
    "#print(D1.gov_tax)"
   ]
  }
 ],
 "metadata": {
  "kernelspec": {
   "display_name": ".venv",
   "language": "python",
   "name": "python3"
  },
  "language_info": {
   "codemirror_mode": {
    "name": "ipython",
    "version": 3
   },
   "file_extension": ".py",
   "mimetype": "text/x-python",
   "name": "python",
   "nbconvert_exporter": "python",
   "pygments_lexer": "ipython3",
   "version": "3.11.4"
  },
  "orig_nbformat": 4
 },
 "nbformat": 4,
 "nbformat_minor": 2
}
