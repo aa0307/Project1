{
 "cells": [
  {
   "cell_type": "markdown",
   "metadata": {},
   "source": [
    "## <span style=\"color: yellow;\"> Python Dictionary{key:value pairs}</span>\n"
   ]
  },
  {
   "cell_type": "code",
   "execution_count": 3,
   "metadata": {},
   "outputs": [
    {
     "name": "stdout",
     "output_type": "stream",
     "text": [
      "Dictionary Car Info:  {'brand': 'BMW', 'model': '118i', 'year': '2015', 'electric': False, 'colors': ['red', 'white']}\n",
      "Dictionary Car brand:  BMW\n",
      "Data type:  <class 'dict'>\n",
      "['red', 'white']\n"
     ]
    }
   ],
   "source": [
    "# syntax\n",
    "# Dict = {key : value}\n",
    "\n",
    "# It can be of any Data Type:\n",
    "Car = {\n",
    "    \"brand\":\"BMW\",\n",
    "    \"model\":\"118i\",\n",
    "    \"year\":\"2015\",\n",
    "    \"electric\":False,\n",
    "    \"colors\":[\"red\",\"white\"]\n",
    "}\n",
    "print('Dictionary Car Info: ',Car)\n",
    "print('Dictionary Car brand: ',Car['brand'])\n",
    "print('Data type: ',type(Car))\n",
    "print(Car['colors'])"
   ]
  },
  {
   "cell_type": "code",
   "execution_count": 1,
   "metadata": {},
   "outputs": [
    {
     "name": "stdout",
     "output_type": "stream",
     "text": [
      "car info:  {'brand': 'BMW', 'model': '118i', 'year': 2010}\n",
      "info before change:  dict_keys(['brand', 'model', 'year'])\n",
      "info after new add:  dict_keys(['brand', 'model', 'year', 'color'])\n",
      "car color:  ['white', 'red']\n",
      "x = color= ['white', 'red']\n",
      "one color: white\n",
      "['white', 'red']\n"
     ]
    }
   ],
   "source": [
    "#Add a new item to the original dictionary, and see that keys lists gets updated\n",
    "car = {\n",
    "    \"brand\": \"BMW\",\n",
    "    \"model\": \"118i\",\n",
    "    \"year\": 2010\n",
    "}\n",
    "print('car info: ',car)\n",
    "# The keys() method returns a view object.\n",
    "# The view object contains the keys of the dictionary, as a list.\n",
    "x = car.keys()                  #get the car keys\n",
    "print('info before change: ',x)\n",
    "car[\"color\"] = [\"white\",'red']          # add a new key 'color'\n",
    "print('info after new add: ',x) # after the new added\n",
    "print('car color: ',car[\"color\"])\n",
    "#x=car.get('color') # get the value from the key color\n",
    "x=car['color']\n",
    "print('x = color=',x)\n",
    "print('one color:',x[0])\n",
    "print(car['color'])\n"
   ]
  }
 ],
 "metadata": {
  "kernelspec": {
   "display_name": ".venv",
   "language": "python",
   "name": "python3"
  },
  "language_info": {
   "codemirror_mode": {
    "name": "ipython",
    "version": 3
   },
   "file_extension": ".py",
   "mimetype": "text/x-python",
   "name": "python",
   "nbconvert_exporter": "python",
   "pygments_lexer": "ipython3",
   "version": "3.11.4"
  },
  "orig_nbformat": 4
 },
 "nbformat": 4,
 "nbformat_minor": 2
}
