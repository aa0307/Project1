{
 "cells": [
  {
   "cell_type": "markdown",
   "metadata": {},
   "source": [
    "## <span style=\"color: yellow;\"> 2.2 Python語⾔基礎(⼀)</span>\n"
   ]
  },
  {
   "cell_type": "code",
   "execution_count": 1,
   "metadata": {},
   "outputs": [
    {
     "name": "stdout",
     "output_type": "stream",
     "text": [
      "Hellow World!\n"
     ]
    }
   ],
   "source": [
    "print(\"Hellow World!\")"
   ]
  },
  {
   "cell_type": "markdown",
   "metadata": {},
   "source": [
    "1. Let’s open Visual Studio Code, and\n",
    "edit a function named say_hello.py\n",
    "2. And in terminal, pip install dis\n",
    "to install dis.\n",
    "3. Thru thru the dis.dis function, we\n",
    "disassemble the say_hello and able\n",
    "to see what the bytecode looks like."
   ]
  },
  {
   "cell_type": "code",
   "execution_count": 13,
   "metadata": {},
   "outputs": [
    {
     "name": "stdout",
     "output_type": "stream",
     "text": [
      "Hello World!\n",
      "  3           0 RESUME                   0\n",
      "\n",
      "  4           2 LOAD_GLOBAL              1 (NULL + print)\n",
      "             14 LOAD_CONST               1 ('Hello World!')\n",
      "             16 PRECALL                  1\n",
      "             20 CALL                     1\n",
      "             30 POP_TOP\n",
      "             32 LOAD_CONST               0 (None)\n",
      "             34 RETURN_VALUE\n"
     ]
    }
   ],
   "source": [
    "import dis # import the dis module\n",
    "\n",
    "def say_hello(): # define a fuction say_hello\n",
    "    print(\"Hello World!\")\n",
    "    \n",
    "say_hello() # call the function say_hello\n",
    "\n",
    "dis.dis(say_hello)"
   ]
  },
  {
   "cell_type": "code",
   "execution_count": 17,
   "metadata": {},
   "outputs": [
    {
     "name": "stdout",
     "output_type": "stream",
     "text": [
      "HELLO WORLD!\n",
      "hello world!\n"
     ]
    }
   ],
   "source": [
    "message=\"Hello World!\"\n",
    "type(message)\n",
    "print(message.upper())\n",
    "print(message.lower())\n"
   ]
  },
  {
   "cell_type": "markdown",
   "metadata": {},
   "source": [
    "Integers\n",
    "You can add (+), subtract (-), multiply (*), and divide (/) integers in Python.\n",
    "Float\n",
    "Python calls any number with a decimal point a float.\n",
    "Constants\n",
    "• A constant is like a variable whose value stays the same throughout the life of a\n",
    "program. Use all capital letters in the name."
   ]
  },
  {
   "cell_type": "code",
   "execution_count": 32,
   "metadata": {},
   "outputs": [
    {
     "name": "stdout",
     "output_type": "stream",
     "text": [
      "7380000\n",
      "a:-2,b:3.5,c:6.0\n",
      "0\n"
     ]
    }
   ],
   "source": [
    "hk_ppulation = 7_380_000\n",
    "print(hk_ppulation)\n",
    "a,b,c = -2,3.5,6.0\n",
    "print(f\"a:{a},b:{b},c:{c}\")\n",
    "MAX_RETRY_TIMES = 10\n",
    "MAX_RETRY_TIMES-=10\n",
    "print(MAX_RETRY_TIMES)\n"
   ]
  },
  {
   "cell_type": "markdown",
   "metadata": {},
   "source": [
    "## <span style=\"color: yellow;\"> 2.3 Python語⾔基礎(⼆)</span>\n"
   ]
  },
  {
   "cell_type": "code",
   "execution_count": null,
   "metadata": {},
   "outputs": [],
   "source": []
  },
  {
   "cell_type": "code",
   "execution_count": 6,
   "metadata": {},
   "outputs": [
    {
     "name": "stdout",
     "output_type": "stream",
     "text": [
      "1\n",
      "11\n"
     ]
    }
   ],
   "source": [
    "def sum_num(*args):\n",
    "    total_args = 0\n",
    "    for arg in args:\n",
    "        total_args += arg\n",
    "        return total_args\n",
    "\n",
    "\n",
    "\n",
    "print(sum_num(1))\n"
   ]
  },
  {
   "cell_type": "code",
   "execution_count": 7,
   "metadata": {},
   "outputs": [
    {
     "name": "stdout",
     "output_type": "stream",
     "text": [
      "11\n"
     ]
    }
   ],
   "source": [
    "def muti_num(*args):\n",
    "    total_args = 1\n",
    "    for arg in args:\n",
    "        total_args *= arg\n",
    "        return total_args\n",
    "    \n",
    "print(muti_num(11,15,10))"
   ]
  },
  {
   "cell_type": "code",
   "execution_count": null,
   "metadata": {},
   "outputs": [],
   "source": []
  },
  {
   "cell_type": "code",
   "execution_count": null,
   "metadata": {},
   "outputs": [],
   "source": []
  }
 ],
 "metadata": {
  "kernelspec": {
   "display_name": "Python 3",
   "language": "python",
   "name": "python3"
  },
  "language_info": {
   "codemirror_mode": {
    "name": "ipython",
    "version": 3
   },
   "file_extension": ".py",
   "mimetype": "text/x-python",
   "name": "python",
   "nbconvert_exporter": "python",
   "pygments_lexer": "ipython3",
   "version": "3.11.4"
  },
  "orig_nbformat": 4
 },
 "nbformat": 4,
 "nbformat_minor": 2
}
