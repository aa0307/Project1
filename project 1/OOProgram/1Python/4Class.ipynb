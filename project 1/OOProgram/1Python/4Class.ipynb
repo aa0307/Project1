{
 "cells": [
  {
   "cell_type": "markdown",
   "metadata": {},
   "source": [
    "## <span style=\"color: yellow;\"> Python Classes and Object</span>\n"
   ]
  },
  {
   "cell_type": "markdown",
   "metadata": {},
   "source": [
    "A Class is a user-defined blueprint from  which objects are created. OBject is an instance of a class"
   ]
  },
  {
   "cell_type": "code",
   "execution_count": 2,
   "metadata": {},
   "outputs": [
    {
     "name": "stdout",
     "output_type": "stream",
     "text": [
      "White\n",
      "2010\n"
     ]
    }
   ],
   "source": [
    "# Create a class named Car with properties named color and year\n",
    "# Syntax class:\n",
    "\n",
    "class Car:\n",
    "    color=\"White\"\n",
    "    year=2010\n",
    "# create an object\n",
    "object_car=Car()\n",
    "a=object_car.color\n",
    "b=object_car.year\n",
    "print(a)\n",
    "print(b)\n",
    "# print('class object car color: ',object_car.color)\n",
    "# print('class object car year: ',object_car.year)\n",
    "# highlight ctrl + /"
   ]
  },
  {
   "cell_type": "code",
   "execution_count": 10,
   "metadata": {},
   "outputs": [
    {
     "name": "stdout",
     "output_type": "stream",
     "text": [
      "Dictionary Car color:  White\n",
      "Dictionary Car year:  2010\n",
      "Data type:  <class 'dict'>\n"
     ]
    }
   ],
   "source": [
    "# Similarly for Dictionary, the key : value Pair\n",
    "Car = {\n",
    "    \"color\":\"White\",\n",
    "    \"year\": 2010\n",
    "}\n",
    "\n",
    "print('Dictionary Car color: ',Car['color']) # find value with the key\n",
    "print('Dictionary Car year: ',Car['year'])\n",
    "print('Data type: ',type(Car))\n",
    "\n",
    "# Dictionary is a bus and Class is a train\n",
    "\n",
    "# Class: Car.brand : fixed no.of properties, data type provide property info\n",
    "# Dictionary: Car[\"brand\"] ; dynamic no.of property"
   ]
  },
  {
   "cell_type": "markdown",
   "metadata": {},
   "source": [
    "**Build in Function** init(self,input)"
   ]
  },
  {
   "cell_type": "code",
   "execution_count": 12,
   "metadata": {},
   "outputs": [
    {
     "name": "stdout",
     "output_type": "stream",
     "text": [
      "BMW\n",
      "2010\n",
      "without __str__ fuction, object_mycar: <__main__.Mycar object at 0x000001C0EF5279D0>\n"
     ]
    }
   ],
   "source": [
    "# Use the build in function def __init__(self, input1, input2)\n",
    "# Function __init__ as an object constructor, it lets the class initialize the object's attributes\n",
    "class Mycar:\n",
    "    def __init__(self, brand, year):\n",
    "        self.brand = brand\n",
    "        self.year = year\n",
    "# created a class object and passing the brand BMW and year 2010 to the instance variable\n",
    "object_car = Mycar(\"BMW\", 2010)\n",
    "\n",
    "print(object_car.brand)\n",
    "print(object_car.year)\n",
    "print(f'without __str__ fuction, object_mycar:', object_car) # no str representation of the object"
   ]
  },
  {
   "cell_type": "markdown",
   "metadata": {},
   "source": [
    "**Build in Function** str(self,input)"
   ]
  },
  {
   "cell_type": "code",
   "execution_count": 1,
   "metadata": {},
   "outputs": [
    {
     "name": "stdout",
     "output_type": "stream",
     "text": [
      "BMW\n",
      "2010\n",
      "without __str__ fuction, object_mycar: BMW(2010)\n"
     ]
    }
   ],
   "source": [
    "# The string representation of an object with the function __str__()\n",
    "# __str__() function controls what should be returned when the class object is represented as a string\n",
    "\n",
    "class Mycar:\n",
    "    def __init__(self, brand, year): # You can use any other name instead of self\n",
    "        self.brand = brand\n",
    "        self.year = year\n",
    "    \n",
    "    def __str__(self): # str representation of an object\n",
    "        return f\"{self.brand}({self.year})\"\n",
    "\n",
    "object_car = Mycar(\"BMW\", 2010)\n",
    "\n",
    "print(object_car.brand)\n",
    "print(object_car.year)\n",
    "print(f'without __str__ fuction, object_mycar:', object_car) # "
   ]
  },
  {
   "cell_type": "markdown",
   "metadata": {},
   "source": [
    "**Class variable**"
   ]
  },
  {
   "cell_type": "code",
   "execution_count": 2,
   "metadata": {},
   "outputs": [
    {
     "name": "stdout",
     "output_type": "stream",
     "text": [
      "Type of Mycar 1 is an electric car\n",
      "Mycar 1: BMW(2010)\n",
      "Type of Mycar 1 is an electric car\n",
      "Mycar 2: Honda(2020)\n",
      "\n",
      "Accessing class variable using class name\n",
      "electric car\n"
     ]
    }
   ],
   "source": [
    "class Mycar:\n",
    "    \n",
    "    type='electric car' # class variable\n",
    "    \n",
    "    def __init__(self, brand, year): # You can use any other name instead of self\n",
    "        self.brand = brand\n",
    "        self.year = year\n",
    "    \n",
    "    def __str__(self): # str representation of an object\n",
    "        return f\"{self.brand}({self.year})\"\n",
    "\n",
    "# the class encapsulates the data and behavior of my car\n",
    "mycar1 = Mycar(\"BMW\", 2010) # object1 of the class\n",
    "mycar2 = Mycar(\"Honda\", 2020) # object2 of the class\n",
    "\n",
    "print('Type of Mycar 1 is an', mycar1.type ) \n",
    "print(f'Mycar 1:', mycar1) # str representation of the class object\n",
    "print('Type of Mycar 1 is an', mycar2.type )# the '' is for just printing regular text\n",
    "print(f'Mycar 2:', mycar2) # f\"\" is a string for printing variables\n",
    "\n",
    "# Class variables can be accessed using class\n",
    "print(\"\\nAccessing class variable using class name\")\n",
    "print(Mycar.type)"
   ]
  },
  {
   "cell_type": "markdown",
   "metadata": {},
   "source": [
    "**Summary-Class**  \n",
    "Created a class followed by the name of the class **MyCar**  \n",
    "**mycar_object** is a copy of the class (ie object) with actual values  \n",
    "An object conststs of: **Identity, Properties** (ie brand, year)  \n",
    "\n",
    "When object of a class is created, all the instances **share** the attributes and the behavior of  \n",
    "the class  \n",
    "But the values are **unique for each object**\n"
   ]
  },
  {
   "cell_type": "markdown",
   "metadata": {},
   "source": [
    "## <span style=\"color: yellow;\"> Class Method</span>"
   ]
  },
  {
   "cell_type": "code",
   "execution_count": 20,
   "metadata": {},
   "outputs": [
    {
     "name": "stdout",
     "output_type": "stream",
     "text": [
      "Hi there, my name is Simon Peter\n",
      "i am  33 year old\n"
     ]
    }
   ],
   "source": [
    "# Method in objects are FUCTIONS that belong to the object\n",
    "class Person:\n",
    "    def __init__(self, name, age): # instance variables / attribute\n",
    "        self.name = name\n",
    "        self.age = age\n",
    "        \n",
    "    # The way we extract or interact with the attributes of the object is via method\n",
    "    def method(self): # method in object as function\n",
    "        print(\"Hi there, my name is \" + self.name)\n",
    "        print(\"i am \", self.age,'year old')\n",
    "        \n",
    "object_Person = Person(\"Simon Peter\", 33) #create an object\n",
    "object_Person.method()"
   ]
  },
  {
   "cell_type": "code",
   "execution_count": 23,
   "metadata": {},
   "outputs": [
    {
     "name": "stdout",
     "output_type": "stream",
     "text": [
      "i am a boy\n",
      "i am  28 year old\n"
     ]
    }
   ],
   "source": [
    "# The self perameter is a reference to the current instance of the class,\n",
    "# and is used to access variables that belong to the class. Self can be anyname\n",
    "class Person:\n",
    "    def __init__(anyname, gender, age):\n",
    "        anyname.gender = gender\n",
    "        anyname.age = age\n",
    "    \n",
    "    def method(abc):\n",
    "        print(\"i am a \" + abc.gender)\n",
    "        print(\"i am \", abc.age,'year old')\n",
    "        \n",
    "object_Person = Person(\"boy\", 28)\n",
    "object_Person.method()"
   ]
  },
  {
   "cell_type": "markdown",
   "metadata": {},
   "source": [
    "**Empty Class**"
   ]
  },
  {
   "cell_type": "code",
   "execution_count": 1,
   "metadata": {},
   "outputs": [
    {
     "name": "stdout",
     "output_type": "stream",
     "text": [
      "1\n"
     ]
    }
   ],
   "source": [
    "#class definitions cannot be empty, if a class definition with no content, put in the \n",
    "a=1\n",
    "class Person:\n",
    "    pass\n",
    "print(a)"
   ]
  }
 ],
 "metadata": {
  "kernelspec": {
   "display_name": ".venv",
   "language": "python",
   "name": "python3"
  },
  "language_info": {
   "codemirror_mode": {
    "name": "ipython",
    "version": 3
   },
   "file_extension": ".py",
   "mimetype": "text/x-python",
   "name": "python",
   "nbconvert_exporter": "python",
   "pygments_lexer": "ipython3",
   "version": "3.11.4"
  },
  "orig_nbformat": 4
 },
 "nbformat": 4,
 "nbformat_minor": 2
}
