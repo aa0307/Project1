{
 "cells": [
  {
   "cell_type": "code",
   "execution_count": null,
   "metadata": {},
   "outputs": [],
   "source": [
    "a = { 'Z': 6, 'B': 3, 'X': 2, 'D': 4, 'Y': 7, 'F': 5}\n",
    "\n",
    "sortedDict = sorted(a,reverse=True)\n",
    "\n",
    "print(sortedDict)"
   ]
  },
  {
   "cell_type": "code",
   "execution_count": 1,
   "metadata": {},
   "outputs": [
    {
     "name": "stdout",
     "output_type": "stream",
     "text": [
      "0    2\n",
      "1    4\n",
      "2    6\n",
      "dtype: int64\n"
     ]
    }
   ],
   "source": [
    "import pandas\n",
    "\n",
    "a=pandas.Series([2,4,6])\n",
    "print(a)"
   ]
  },
  {
   "cell_type": "code",
   "execution_count": 5,
   "metadata": {},
   "outputs": [
    {
     "name": "stdout",
     "output_type": "stream",
     "text": [
      "3\n",
      "<class 'int'>\n",
      "3.0\n",
      "<class 'float'>\n",
      "(1, 2, 3)\n",
      "<class 'tuple'>\n",
      "[1, 2, 3]\n",
      "<class 'list'>\n",
      "{'A': 1, 'B': 2, 'C': 3}\n",
      "<class 'dict'>\n",
      "0    1\n",
      "1    2\n",
      "2    3\n",
      "dtype: int64\n",
      "<class 'pandas.core.series.Series'>\n"
     ]
    }
   ],
   "source": [
    "# data type\n",
    "import pandas\n",
    "a=3 ; print(a) ; print(type(a)) # data point\n",
    "a=3.0 ; print(a) ; print(type(a)) # data point\n",
    "a=1,2,3 ; print(a) ; print(type(a)) # single dimesion data\n",
    "a=[1,2,3] ; print(a) ; print(type(a)) # single dimesion data\n",
    "a={'A':1,'B':2,'C':3} # 2 dimesional data\n",
    "print(a) ; print(type(a))\n",
    "a=pandas.Series([1,2,3]) # single dimesion data\n",
    "print(a) ; print(type(a))"
   ]
  },
  {
   "cell_type": "code",
   "execution_count": 8,
   "metadata": {},
   "outputs": [
    {
     "name": "stdout",
     "output_type": "stream",
     "text": [
      "0    2\n",
      "1    4\n",
      "2    6\n",
      "dtype: int64\n",
      "<class 'pandas.core.series.Series'>\n",
      "4\n",
      "<class 'numpy.int64'>\n"
     ]
    }
   ],
   "source": [
    "# data from a list\n",
    "import pandas\n",
    "a=[2,4,6]\n",
    "b=pandas.Series(a)\n",
    "print(b) ; print(type(b))\n",
    "print(b[1]) ; print(type(b[1]))"
   ]
  },
  {
   "cell_type": "code",
   "execution_count": 9,
   "metadata": {},
   "outputs": [
    {
     "name": "stdout",
     "output_type": "stream",
     "text": [
      "0    2\n",
      "1    4\n",
      "2    6\n",
      "dtype: int8\n",
      "<class 'pandas.core.series.Series'>\n",
      "4\n",
      "<class 'numpy.int8'>\n"
     ]
    }
   ],
   "source": [
    "import pandas\n",
    "a=[2,4,6]\n",
    "b=pandas.Series(a,dtype=\"int8\")\n",
    "print(b) ; print(type(b))\n",
    "print(b[1]) ; print(type(b[1]))"
   ]
  },
  {
   "cell_type": "code",
   "execution_count": 15,
   "metadata": {},
   "outputs": [
    {
     "name": "stdout",
     "output_type": "stream",
     "text": [
      "{'jon': 10, 'mary': 20, 'dev': 30}\n",
      "jon     10\n",
      "mary    20\n",
      "dev     30\n",
      "dtype: int8\n",
      "jon    10\n",
      "dev    30\n",
      "dtype: int8\n"
     ]
    }
   ],
   "source": [
    "# data from dictionary\n",
    "import pandas\n",
    "a={\"jon\":10,'mary':20,'dev':30} ; print(a)\n",
    "b=pandas.Series(a,dtype=\"int8\") ; print(b)\n",
    "c=pandas.Series(a,index=['jon','dev'],dtype=\"int8\") ; print(c)"
   ]
  },
  {
   "cell_type": "code",
   "execution_count": 22,
   "metadata": {},
   "outputs": [
    {
     "name": "stdout",
     "output_type": "stream",
     "text": [
      "i      2\n",
      "ii     4\n",
      "iii    6\n",
      "dtype: int64\n",
      "0    2\n",
      "1    4\n",
      "2    6\n",
      "dtype: int64\n",
      "4\n"
     ]
    }
   ],
   "source": [
    "import pandas as pd\n",
    "a=[2,4,6]\n",
    "c=pd.Series(a,index=['i','ii','iii']) ; print(c)\n",
    "b=pd.Series(a) ; print(b)\n",
    "\n",
    "print(c[1])"
   ]
  },
  {
   "cell_type": "markdown",
   "metadata": {},
   "source": [
    "**Create own index**"
   ]
  },
  {
   "cell_type": "code",
   "execution_count": 1,
   "metadata": {},
   "outputs": [
    {
     "name": "stdout",
     "output_type": "stream",
     "text": [
      "i      1.500000\n",
      "ii     7.670000\n",
      "iii    2.891235\n",
      "dtype: float64\n",
      "7.67\n"
     ]
    }
   ],
   "source": [
    "# index argument to name your own labels\n",
    "\n",
    "import pandas as pd\n",
    "a = [1.5, 7.67, 2.89123456789]\n",
    "myvar = pd.Series(a, index = [\"i\",\"ii\",\"iii\"])\n",
    "print(myvar)\n",
    "print(myvar[\"ii\"])"
   ]
  },
  {
   "cell_type": "markdown",
   "metadata": {},
   "source": [
    "### Data from a Dictionary"
   ]
  },
  {
   "cell_type": "code",
   "execution_count": 2,
   "metadata": {},
   "outputs": [
    {
     "name": "stdout",
     "output_type": "stream",
     "text": [
      "<class 'dict'>\n",
      "Mon    420.100000\n",
      "Tue    380.200000\n",
      "Wed    390.345679\n",
      "dtype: float64\n",
      "Mon    420.100000\n",
      "Wed    390.345679\n",
      "dtype: float64\n"
     ]
    }
   ],
   "source": [
    "# create Pandas series from a dictionary()\n",
    "\n",
    "import pandas as pd\n",
    "income = {\"Mon\":420.1,\"Tue\":380.2 ,\"Wed\":390.3456789}\n",
    "print(type(income))\n",
    "\n",
    "myvar = pd.Series(income)\n",
    "print(myvar)\n",
    "\n",
    "myvar2d=pd.Series(income, index=['Mon','Wed'])\n",
    "print(myvar2d)"
   ]
  }
 ],
 "metadata": {
  "kernelspec": {
   "display_name": "Python 3",
   "language": "python",
   "name": "python3"
  },
  "language_info": {
   "codemirror_mode": {
    "name": "ipython",
    "version": 3
   },
   "file_extension": ".py",
   "mimetype": "text/x-python",
   "name": "python",
   "nbconvert_exporter": "python",
   "pygments_lexer": "ipython3",
   "version": "3.11.4"
  },
  "orig_nbformat": 4
 },
 "nbformat": 4,
 "nbformat_minor": 2
}
