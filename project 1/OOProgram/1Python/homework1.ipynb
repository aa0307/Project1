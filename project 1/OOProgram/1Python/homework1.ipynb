{
 "cells": [
  {
   "cell_type": "code",
   "execution_count": null,
   "metadata": {},
   "outputs": [],
   "source": [
    "Write a program\n",
    "that has 3 numbers a,b and c and display their calculation result, the sum of a and b mutiply by c\n",
    "Assign 3 values to mutiple variables in one line\n",
    "Assgin the same value to 3 variables in one line\n",
    "Unpacking a list by extracting the values into variables\n",
    "Construct a list with strings, integers and boolean values:\n",
    "print the second item in the list\n",
    "change the data type of the second item in the list\n",
    "append a new list item 'this is new' to the list\n",
    "Construct a Dictionary with 3 key:value pairs\n",
    "change the value of the first key in the key:value pair\n",
    "add a new item to the ditionary\n",
    "Construction a function to add two values a and b\n",
    "call the function and print out the result"
   ]
  },
  {
   "cell_type": "code",
   "execution_count": 3,
   "metadata": {},
   "outputs": [
    {
     "name": "stdout",
     "output_type": "stream",
     "text": [
      "9\n",
      "10 20 30\n",
      "1 1 1\n"
     ]
    }
   ],
   "source": [
    "a = 1\n",
    "b = 2\n",
    "c = 3\n",
    "\n",
    "print((a+b)*c)\n"
   ]
  },
  {
   "cell_type": "code",
   "execution_count": null,
   "metadata": {},
   "outputs": [],
   "source": [
    "a,b,c = 10,20,30\n",
    "\n",
    "print(a,b,c)"
   ]
  },
  {
   "cell_type": "code",
   "execution_count": null,
   "metadata": {},
   "outputs": [],
   "source": [
    "a,b,c = 1,1,1\n",
    "\n",
    "print(a,b,c)"
   ]
  },
  {
   "cell_type": "code",
   "execution_count": 7,
   "metadata": {},
   "outputs": [
    {
     "name": "stdout",
     "output_type": "stream",
     "text": [
      "[1, 1, 1]\n",
      "<class 'list'>\n",
      "1\n",
      "<class 'int'>\n",
      "1\n",
      "<class 'int'>\n",
      "1\n",
      "<class 'int'>\n"
     ]
    }
   ],
   "source": [
    "List=[a,b,c]\n",
    "print(List)\n",
    "print(type(List))\n",
    "\n",
    "print(List[0]);print(type(List[0]))\n",
    "print(List[1]);print(type(List[1]))\n",
    "print(List[2]);print(type(List[2]))"
   ]
  },
  {
   "cell_type": "code",
   "execution_count": 16,
   "metadata": {},
   "outputs": [
    {
     "name": "stdout",
     "output_type": "stream",
     "text": [
      "1\n",
      "<class 'int'>\n"
     ]
    }
   ],
   "source": [
    "List2=['a',1,True]\n",
    "print(List2[1]);print(type(List2[1]))"
   ]
  },
  {
   "cell_type": "code",
   "execution_count": 17,
   "metadata": {},
   "outputs": [
    {
     "name": "stdout",
     "output_type": "stream",
     "text": [
      "['a', 1, True, 'this is new']\n",
      "<class 'list'>\n"
     ]
    }
   ],
   "source": [
    "List2.append('this is new')\n",
    "print(List2);print(type(List2))"
   ]
  },
  {
   "cell_type": "code",
   "execution_count": 12,
   "metadata": {},
   "outputs": [
    {
     "name": "stdout",
     "output_type": "stream",
     "text": [
      "{'key1': 'first value pairs', 'key2': 'second value pairs', 'key3': 'third value pairs'}\n",
      "<class 'dict'>\n"
     ]
    }
   ],
   "source": [
    "Dictionary={\n",
    "    \"key1\":\"first value pairs\",\n",
    "    \"key2\":\"second value pairs\",\n",
    "    \"key3\":\"third value pairs\"\n",
    "}\n",
    "print(Dictionary)\n",
    "print(type(Dictionary))"
   ]
  },
  {
   "cell_type": "code",
   "execution_count": 19,
   "metadata": {},
   "outputs": [
    {
     "name": "stdout",
     "output_type": "stream",
     "text": [
      "{'key1': '1st value pairs', 'key2': 'second value pairs', 'key3': 'third value pairs'}\n",
      "{'key1': '1st value pairs', 'key2': 'second value pairs', 'key3': 'third value pairs', 'key4': '4th value pairs'}\n"
     ]
    }
   ],
   "source": [
    "Dictionary[\"key1\"]='1st value pairs'\n",
    "print(Dictionary)\n",
    "Dictionary[\"key4\"]='4th value pairs'\n",
    "print(Dictionary)"
   ]
  },
  {
   "cell_type": "code",
   "execution_count": 20,
   "metadata": {},
   "outputs": [
    {
     "name": "stdout",
     "output_type": "stream",
     "text": [
      "1\n",
      "2\n"
     ]
    }
   ],
   "source": [
    "def fuction(a,b):\n",
    "    a=1\n",
    "    b=2\n",
    "    print(a);print(b)\n",
    "\n",
    "fuction(a,b)"
   ]
  }
 ],
 "metadata": {
  "kernelspec": {
   "display_name": "Python 3",
   "language": "python",
   "name": "python3"
  },
  "language_info": {
   "codemirror_mode": {
    "name": "ipython",
    "version": 3
   },
   "file_extension": ".py",
   "mimetype": "text/x-python",
   "name": "python",
   "nbconvert_exporter": "python",
   "pygments_lexer": "ipython3",
   "version": "3.11.4"
  },
  "orig_nbformat": 4
 },
 "nbformat": 4,
 "nbformat_minor": 2
}
