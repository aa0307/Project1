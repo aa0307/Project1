{
 "cells": [
  {
   "cell_type": "markdown",
   "metadata": {},
   "source": [
    "## <span style=\"color: yellow;\"> Variables</span>\n",
    "Information passed to the program"
   ]
  },
  {
   "cell_type": "code",
   "execution_count": 100,
   "metadata": {},
   "outputs": [
    {
     "name": "stdout",
     "output_type": "stream",
     "text": [
      "a= 1.2345\n",
      "1780540948624\n"
     ]
    }
   ],
   "source": [
    "#Variables are boxes with a label (a) and address (adress) to store variables\n",
    "a=1.2345\n",
    "print('a=',a)\n",
    "address=id(a)\n",
    "print(address)"
   ]
  },
  {
   "cell_type": "code",
   "execution_count": 1,
   "metadata": {},
   "outputs": [
    {
     "name": "stdout",
     "output_type": "stream",
     "text": [
      "3\n",
      "<class 'int'>\n",
      "4.5\n",
      "<class 'float'>\n",
      "font\n",
      "<class 'str'>\n",
      "2.3\n",
      "<class 'float'>\n"
     ]
    }
   ],
   "source": [
    "#In C, need to define each kind of variable, integer, float, char, string, Python\n",
    "#int a; float b; char c[];\n",
    "\n",
    "#int (integer), 1234\n",
    "#char (character),\n",
    "#float (number having decimal), 1.2 3.4 5.777777777777\n",
    "# String (collection of characters) and 'hello'  'text'\n",
    "# boolean (true or false). True False\n",
    "a=3\n",
    "b=4.5\n",
    "c='font'\n",
    "# d='true'\n",
    "# a=4.5\n",
    "# a='hello'\n",
    "a,b,c=3,4.5,'hello'\n",
    "a=[2,4.5,'hello']\n",
    "\n",
    "print(a); print(type(a))\n",
    "print(b); print(type(b))\n",
    "print(c); print(type(c))\n",
    "print(d); print(type(d))\n",
    "\n",
    "#Variable Re-assignment\n",
    "c=2.3\n",
    "print(c);print(type(c))"
   ]
  },
  {
   "cell_type": "markdown",
   "metadata": {},
   "source": [
    "**Four** built-in **Data Types** in Python used to store collections of data, they are\n",
    "\n",
    "**List[],  \n",
    "Dictionary {key:value},  \n",
    "Tuple,  \n",
    "Set{}**  \n",
    "\n",
    "break:space space enter  \n",
    "bold ****"
   ]
  },
  {
   "cell_type": "code",
   "execution_count": 102,
   "metadata": {},
   "outputs": [
    {
     "name": "stdout",
     "output_type": "stream",
     "text": [
      "2\n",
      "<class 'int'>\n",
      "4\n",
      "<class 'int'>\n",
      "6\n",
      "<class 'int'>\n"
     ]
    }
   ],
   "source": [
    "#Multiple Assignment ie a,b,c=x,y,z\n",
    "a,b,c=2,4,6\n",
    "print(a);print(type(a))\n",
    "print(b);print(type(b))\n",
    "print(c);print(type(c))"
   ]
  },
  {
   "cell_type": "markdown",
   "metadata": {},
   "source": [
    "## <span style=\"color: yellow;\"> List</span>\n"
   ]
  },
  {
   "cell_type": "code",
   "execution_count": 103,
   "metadata": {},
   "outputs": [
    {
     "name": "stdout",
     "output_type": "stream",
     "text": [
      "['mary', 'alex', 'Jon']\n",
      "<class 'list'>\n"
     ]
    }
   ],
   "source": [
    "# A list is a collection of items in a perticular order eg 'Bob','Alex','David'\n",
    "students=['mary','alex','Jon']\n",
    "print(students)\n",
    "print(type(students))"
   ]
  },
  {
   "cell_type": "code",
   "execution_count": 104,
   "metadata": {},
   "outputs": [
    {
     "name": "stdout",
     "output_type": "stream",
     "text": [
      "mary\n"
     ]
    }
   ],
   "source": [
    "#Lists are ordered collections, so you can access any element in a list by the position\n",
    "students[0]\n",
    "print(student[0])"
   ]
  },
  {
   "cell_type": "markdown",
   "metadata": {},
   "source": [
    "## <span style=\"color: yellow;\"> Dictionary</span>\n"
   ]
  },
  {
   "cell_type": "code",
   "execution_count": 105,
   "metadata": {},
   "outputs": [
    {
     "data": {
      "text/plain": [
       "dict"
      ]
     },
     "execution_count": 105,
     "metadata": {},
     "output_type": "execute_result"
    }
   ],
   "source": [
    "phonebook={\n",
    "    \"Alex\":\"77778888\",\n",
    "    \"Cherry\":\"33334444\",\n",
    "    \"Bob\":\"55556666\"\n",
    "}\n",
    "type(phonebook)"
   ]
  },
  {
   "cell_type": "code",
   "execution_count": 106,
   "metadata": {},
   "outputs": [
    {
     "data": {
      "text/plain": [
       "{'Alex': '77778888', 'Cherry': '33334444', 'Bob': '55556666'}"
      ]
     },
     "execution_count": 106,
     "metadata": {},
     "output_type": "execute_result"
    }
   ],
   "source": [
    "phonebook"
   ]
  },
  {
   "cell_type": "code",
   "execution_count": 107,
   "metadata": {},
   "outputs": [
    {
     "data": {
      "text/plain": [
       "['Alex', 'Cherry', 'Bob']"
      ]
     },
     "execution_count": 107,
     "metadata": {},
     "output_type": "execute_result"
    }
   ],
   "source": [
    "list(phonebook)"
   ]
  },
  {
   "cell_type": "code",
   "execution_count": 108,
   "metadata": {},
   "outputs": [
    {
     "name": "stdout",
     "output_type": "stream",
     "text": [
      "<class 'dict'>\n"
     ]
    }
   ],
   "source": [
    "print(type(phonebook))"
   ]
  },
  {
   "cell_type": "code",
   "execution_count": 109,
   "metadata": {},
   "outputs": [
    {
     "name": "stdout",
     "output_type": "stream",
     "text": [
      "<class 'list'>\n"
     ]
    }
   ],
   "source": [
    "a=list(phonebook)\n",
    "print(type(a))"
   ]
  },
  {
   "cell_type": "code",
   "execution_count": 110,
   "metadata": {},
   "outputs": [
    {
     "name": "stdout",
     "output_type": "stream",
     "text": [
      "<class 'dict'>\n"
     ]
    }
   ],
   "source": [
    "print(type(phonebook))"
   ]
  },
  {
   "cell_type": "code",
   "execution_count": 111,
   "metadata": {},
   "outputs": [
    {
     "data": {
      "text/plain": [
       "['Alex', 'Bob', 'Cherry']"
      ]
     },
     "execution_count": 111,
     "metadata": {},
     "output_type": "execute_result"
    }
   ],
   "source": [
    "sorted(phonebook)"
   ]
  },
  {
   "cell_type": "code",
   "execution_count": 112,
   "metadata": {},
   "outputs": [
    {
     "ename": "KeyError",
     "evalue": "1",
     "output_type": "error",
     "traceback": [
      "\u001b[1;31m---------------------------------------------------------------------------\u001b[0m",
      "\u001b[1;31mKeyError\u001b[0m                                  Traceback (most recent call last)",
      "Cell \u001b[1;32mIn[112], line 1\u001b[0m\n\u001b[1;32m----> 1\u001b[0m phonebook[\u001b[39m1\u001b[39;49m]\n",
      "\u001b[1;31mKeyError\u001b[0m: 1"
     ]
    }
   ],
   "source": [
    "phonebook[1]"
   ]
  },
  {
   "cell_type": "markdown",
   "metadata": {},
   "source": [
    "## <span style=\"color: yellow;\"> Accessing Dict</span>\n"
   ]
  },
  {
   "cell_type": "code",
   "execution_count": null,
   "metadata": {},
   "outputs": [
    {
     "data": {
      "text/plain": [
       "'77778888'"
      ]
     },
     "execution_count": 69,
     "metadata": {},
     "output_type": "execute_result"
    }
   ],
   "source": [
    "phonebook[\"Alex\"]"
   ]
  },
  {
   "cell_type": "code",
   "execution_count": null,
   "metadata": {},
   "outputs": [],
   "source": [
    "phonebook[\"David\"]=\"88889999\" #add new key with value"
   ]
  },
  {
   "cell_type": "code",
   "execution_count": null,
   "metadata": {},
   "outputs": [],
   "source": [
    "phonebook[\"Cherry\"]=\"55554444\" #if the key already existed, python will update the value"
   ]
  },
  {
   "cell_type": "code",
   "execution_count": null,
   "metadata": {},
   "outputs": [
    {
     "name": "stdout",
     "output_type": "stream",
     "text": [
      "{'Alex': '77778888', 'Cherry': '33334444', 'Bob': '55556666'}\n"
     ]
    }
   ],
   "source": [
    "print(phonebook)"
   ]
  },
  {
   "cell_type": "code",
   "execution_count": null,
   "metadata": {},
   "outputs": [],
   "source": [
    "del phonebook[\"Bob\"]"
   ]
  },
  {
   "cell_type": "code",
   "execution_count": null,
   "metadata": {},
   "outputs": [
    {
     "data": {
      "text/plain": [
       "{'Alex': '77778888', 'Cherry': '33334444'}"
      ]
     },
     "execution_count": 86,
     "metadata": {},
     "output_type": "execute_result"
    }
   ],
   "source": [
    "phonebook"
   ]
  },
  {
   "cell_type": "code",
   "execution_count": 113,
   "metadata": {},
   "outputs": [
    {
     "data": {
      "text/plain": [
       "{'Edgar': '11112222', 'Fanny': '33339999'}"
      ]
     },
     "execution_count": 113,
     "metadata": {},
     "output_type": "execute_result"
    }
   ],
   "source": [
    "# construct dict with sequences of key-value pairs\n",
    "dict([(\"Edgar\",\"11112222\"),(\"Fanny\",\"33339999\")])"
   ]
  },
  {
   "cell_type": "code",
   "execution_count": 114,
   "metadata": {},
   "outputs": [
    {
     "data": {
      "text/plain": [
       "{'Edgar': '11112222', 'Fanny': '33339999'}"
      ]
     },
     "execution_count": 114,
     "metadata": {},
     "output_type": "execute_result"
    }
   ],
   "source": [
    "# construct dict with specify pairs using keyword arguments\n",
    "dict(Edgar=\"11112222\",Fanny=\"33339999\")"
   ]
  },
  {
   "cell_type": "code",
   "execution_count": null,
   "metadata": {},
   "outputs": [],
   "source": [
    "# or more simplicity\n",
    "{\"Edgar\":\"11112222\",\"Fanny\":\"33339999\"}"
   ]
  },
  {
   "cell_type": "markdown",
   "metadata": {},
   "source": [
    "Review"
   ]
  },
  {
   "cell_type": "markdown",
   "metadata": {},
   "source": [
    "call the function and print the result"
   ]
  },
  {
   "cell_type": "code",
   "execution_count": null,
   "metadata": {},
   "outputs": [],
   "source": [
    "## variable\n",
    "\n",
    "# x = str(123)\n",
    "# y = int(123)\n",
    "# z = float(123)\n",
    "# a=True\n",
    "# print(a) ; print(type(a))"
   ]
  },
  {
   "cell_type": "code",
   "execution_count": 1,
   "metadata": {},
   "outputs": [
    {
     "name": "stdout",
     "output_type": "stream",
     "text": [
      "True\n",
      "<class 'bool'>\n"
     ]
    }
   ],
   "source": [
    "x = str(123)\n",
    "y = int(123)\n",
    "z = float(123)\n",
    "a=True\n",
    "print(a) ; print(type(a))"
   ]
  },
  {
   "cell_type": "code",
   "execution_count": null,
   "metadata": {},
   "outputs": [],
   "source": [
    "# fruits = [\"apple\",\"banana\",\"cherry\"]\n",
    "# x,y,z = fruits\n",
    "# print(type(fruits))\n",
    "# print(x) ; print(type(x))\n",
    "# print(y)\n",
    "# print(z)"
   ]
  },
  {
   "cell_type": "code",
   "execution_count": 2,
   "metadata": {},
   "outputs": [
    {
     "name": "stdout",
     "output_type": "stream",
     "text": [
      "<class 'list'>\n",
      "apple\n",
      "<class 'str'>\n",
      "banana\n",
      "cherry\n",
      "banana\n",
      "<class 'str'>\n"
     ]
    }
   ],
   "source": [
    "fruits = [\"apple\",\"banana\",\"cherry\"]\n",
    "x,y,z = fruits\n",
    "print(type(fruits))\n",
    "print(x) ; print(type(x))\n",
    "print(y)\n",
    "print(z)\n",
    "\n",
    "a=fruits[1]\n",
    "print(a) ; print(type(a))"
   ]
  },
  {
   "cell_type": "code",
   "execution_count": null,
   "metadata": {},
   "outputs": [],
   "source": [
    "# # tuple\n",
    "# tuple_variable==(2,'hello',5,8.0,9)\n",
    "# print(tuple_variable)\n",
    "# print(type(tuple_variable)\n",
    "# a,b,c,d,e=tuple_variable\n",
    "# print(a) ; print(type(a))"
   ]
  },
  {
   "cell_type": "code",
   "execution_count": 4,
   "metadata": {},
   "outputs": [
    {
     "name": "stdout",
     "output_type": "stream",
     "text": [
      "(2, 4, 6, 9)\n",
      "<class 'tuple'>\n"
     ]
    }
   ],
   "source": [
    "# four data types: List, Dictionary, Tuple, Set\n",
    "# Tuple\n",
    "a=2,4,6,9\n",
    "print(a)\n",
    "print(type(a))"
   ]
  },
  {
   "cell_type": "code",
   "execution_count": 5,
   "metadata": {},
   "outputs": [
    {
     "name": "stdout",
     "output_type": "stream",
     "text": [
      "hello\n",
      "<class 'str'>\n"
     ]
    }
   ],
   "source": [
    "# four data types: List[], Dictionary{}, Tuple(), Set\n",
    "# Tuple\n",
    "a=(2,4.0,'hello')\n",
    "x,y,z=a\n",
    "print(z)\n",
    "print(type(z))"
   ]
  },
  {
   "cell_type": "code",
   "execution_count": null,
   "metadata": {},
   "outputs": [],
   "source": [
    "# # global variable\n",
    "\n",
    "# a = 'program assignment'\n",
    "# def func():\n",
    "    # a = \"function assignment\"\n",
    "    # print(\"function a is\"+a)\n",
    "# func()\n",
    "# print(\"program a is\" + a)"
   ]
  },
  {
   "cell_type": "code",
   "execution_count": 19,
   "metadata": {},
   "outputs": [
    {
     "name": "stdout",
     "output_type": "stream",
     "text": [
      "function a isfunction assignment\n",
      "program a isprogram assignment\n"
     ]
    }
   ],
   "source": [
    "a = 'program assignment'\n",
    "def func():\n",
    "    a = \"function assignment\"\n",
    "    print(\"function a is\"+a)\n",
    "func()\n",
    "print(\"program a is\" + a)"
   ]
  },
  {
   "cell_type": "code",
   "execution_count": null,
   "metadata": {},
   "outputs": [],
   "source": [
    "# # for loop\n"
   ]
  },
  {
   "cell_type": "markdown",
   "metadata": {},
   "source": [
    "Write a program  \n",
    "that has 3 numbers a,b and c and display their calculation result, the sum of a and b mutiply by c  \n",
    "Assign 3 values to mutiple variables in one line  \n",
    "Assgin the same value to 3 variables in one line  \n",
    "Unpacking a list by extracting the values into variables  \n",
    "Construct a list with strings, integers and boolean values:  \n",
    "print the second item in the list  \n",
    "change the data type of the second item in the list  \n",
    "append a new list item 'this is new' to the list  \n",
    "Construct a Dictionary with 3 key:value pairs  \n",
    "change the value of the first key in the key:value pair  \n",
    "add a new item to the ditionary  \n",
    "Construction a function to add two values a and b  \n",
    "call the function and print out the result  "
   ]
  },
  {
   "cell_type": "code",
   "execution_count": 8,
   "metadata": {},
   "outputs": [
    {
     "name": "stdout",
     "output_type": "stream",
     "text": [
      "0\n",
      "1\n",
      "2\n"
     ]
    }
   ],
   "source": [
    "# for x in 3:\n",
    "#       print(x)\n",
    "\n",
    "for x in range(3):\n",
    "    print(x)"
   ]
  },
  {
   "cell_type": "code",
   "execution_count": 11,
   "metadata": {},
   "outputs": [
    {
     "name": "stdout",
     "output_type": "stream",
     "text": [
      "a\n",
      "<class 'str'>\n",
      "p\n",
      "<class 'str'>\n",
      "p\n",
      "<class 'str'>\n",
      "l\n",
      "<class 'str'>\n",
      "e\n",
      "<class 'str'>\n"
     ]
    }
   ],
   "source": [
    "for x in 'apple':\n",
    "    print(x) ; print(type(x))"
   ]
  },
  {
   "cell_type": "code",
   "execution_count": null,
   "metadata": {},
   "outputs": [],
   "source": [
    "# a=[2,4,6,9]\n",
    "# for x in a:\n",
    "#       print(x)"
   ]
  },
  {
   "cell_type": "code",
   "execution_count": 7,
   "metadata": {},
   "outputs": [
    {
     "name": "stdout",
     "output_type": "stream",
     "text": [
      "4\n",
      "<class 'int'>\n",
      "6\n",
      "<class 'int'>\n",
      "8\n",
      "<class 'int'>\n"
     ]
    }
   ],
   "source": [
    "a=[4,6,8]\n",
    "for x in a:\n",
    "    print(x) ; print(type(x))"
   ]
  },
  {
   "cell_type": "code",
   "execution_count": 25,
   "metadata": {},
   "outputs": [
    {
     "name": "stdout",
     "output_type": "stream",
     "text": [
      "0\n",
      "1\n",
      "2\n",
      "3\n",
      "4\n",
      "a\n",
      "<class 'str'>\n",
      "p\n",
      "<class 'str'>\n",
      "p\n",
      "<class 'str'>\n",
      "l\n",
      "<class 'str'>\n",
      "e\n",
      "<class 'str'>\n"
     ]
    }
   ],
   "source": [
    "# for x in 3:\n",
    "#      print(x)\n",
    "\n",
    "for x in range(5):\n",
    "    print(x)\n",
    "    \n",
    "for x in 'apple':\n",
    "    print(x) ; print(type(x))"
   ]
  },
  {
   "cell_type": "code",
   "execution_count": null,
   "metadata": {},
   "outputs": [],
   "source": [
    "# for x in \"banana\"\n",
    "# print(x)"
   ]
  },
  {
   "cell_type": "code",
   "execution_count": null,
   "metadata": {},
   "outputs": [],
   "source": [
    "# # A function is a sequence of program instructions that performs a specific task, packaged as a unit:\n",
    "\n",
    "# def finc():\n",
    "#     \"\"\"this a function\"\"\" # docstring\n",
    "#     print('hello')\n",
    "# func()\n",
    "# print(type(func))\n",
    "# help(func)"
   ]
  },
  {
   "cell_type": "code",
   "execution_count": 1,
   "metadata": {},
   "outputs": [
    {
     "name": "stdout",
     "output_type": "stream",
     "text": [
      "hello there\n"
     ]
    }
   ],
   "source": [
    "#A function is a sequence of program instructions that performs\n",
    "#a specific task, packaged as a unit.\n",
    "\n",
    "def fa():\n",
    "    \"\"\"this is a function\"\"\"\n",
    "    print('hello there')\n",
    "\n",
    "fa()"
   ]
  },
  {
   "cell_type": "code",
   "execution_count": 30,
   "metadata": {},
   "outputs": [
    {
     "name": "stdout",
     "output_type": "stream",
     "text": [
      "<class 'function'>\n",
      "Help on function func in module __main__:\n",
      "\n",
      "func()\n",
      "    this a function\n",
      "\n"
     ]
    }
   ],
   "source": [
    "def func():\n",
    "     \"\"\"this a function\"\"\" # docstring\n",
    "     print('hello')\n",
    "     func()\n",
    "print(type(func))\n",
    "help(func)"
   ]
  },
  {
   "cell_type": "code",
   "execution_count": null,
   "metadata": {},
   "outputs": [],
   "source": [
    "# def addfunction(x,y)\n",
    "#   a=x+y\n",
    "# addfunction(3,4)"
   ]
  },
  {
   "cell_type": "code",
   "execution_count": 32,
   "metadata": {},
   "outputs": [
    {
     "name": "stdout",
     "output_type": "stream",
     "text": [
      "1\n"
     ]
    }
   ],
   "source": [
    "def add_two_values(x,y):\n",
    "    a=x+y\n",
    "\n",
    "a=1\n",
    "v=7\n",
    "b=7\n",
    "add_two_values(3,4)\n",
    "print(a)"
   ]
  },
  {
   "cell_type": "code",
   "execution_count": 33,
   "metadata": {},
   "outputs": [
    {
     "name": "stdout",
     "output_type": "stream",
     "text": [
      "7\n",
      "15\n"
     ]
    }
   ],
   "source": [
    "def add_two_values(x,y):\n",
    "    global a\n",
    "    a=x+y\n",
    "\n",
    "add_two_values(3,4)\n",
    "print(a)\n",
    "\n",
    "add_two_values(6,9)\n",
    "print(a)"
   ]
  },
  {
   "cell_type": "code",
   "execution_count": null,
   "metadata": {},
   "outputs": [],
   "source": [
    "# def addfunction(x,y):\n",
    "#     return(x+y)\n",
    "# addfunction(3,4)"
   ]
  },
  {
   "cell_type": "code",
   "execution_count": null,
   "metadata": {},
   "outputs": [],
   "source": [
    "def add_two_values(x,y):\n",
    "    return(x+y)\n",
    "\n",
    "a=add_two_values(3,4)\n",
    "print(a)\n"
   ]
  },
  {
   "cell_type": "code",
   "execution_count": null,
   "metadata": {},
   "outputs": [],
   "source": [
    "# addfunction=lambda x,y : x+y # lambda input variables : action\n",
    "# addfunction(3,4)"
   ]
  },
  {
   "cell_type": "code",
   "execution_count": null,
   "metadata": {},
   "outputs": [],
   "source": [
    "add_two_values=lambda x,y : x+y\n",
    "add_two_values(3,4)"
   ]
  },
  {
   "cell_type": "code",
   "execution_count": 34,
   "metadata": {},
   "outputs": [
    {
     "data": {
      "text/plain": [
       "['ArithmeticError',\n",
       " 'AssertionError',\n",
       " 'AttributeError',\n",
       " 'BaseException',\n",
       " 'BaseExceptionGroup',\n",
       " 'BlockingIOError',\n",
       " 'BrokenPipeError',\n",
       " 'BufferError',\n",
       " 'BytesWarning',\n",
       " 'ChildProcessError',\n",
       " 'ConnectionAbortedError',\n",
       " 'ConnectionError',\n",
       " 'ConnectionRefusedError',\n",
       " 'ConnectionResetError',\n",
       " 'DeprecationWarning',\n",
       " 'EOFError',\n",
       " 'Ellipsis',\n",
       " 'EncodingWarning',\n",
       " 'EnvironmentError',\n",
       " 'Exception',\n",
       " 'ExceptionGroup',\n",
       " 'False',\n",
       " 'FileExistsError',\n",
       " 'FileNotFoundError',\n",
       " 'FloatingPointError',\n",
       " 'FutureWarning',\n",
       " 'GeneratorExit',\n",
       " 'IOError',\n",
       " 'ImportError',\n",
       " 'ImportWarning',\n",
       " 'IndentationError',\n",
       " 'IndexError',\n",
       " 'InterruptedError',\n",
       " 'IsADirectoryError',\n",
       " 'KeyError',\n",
       " 'KeyboardInterrupt',\n",
       " 'LookupError',\n",
       " 'MemoryError',\n",
       " 'ModuleNotFoundError',\n",
       " 'NameError',\n",
       " 'None',\n",
       " 'NotADirectoryError',\n",
       " 'NotImplemented',\n",
       " 'NotImplementedError',\n",
       " 'OSError',\n",
       " 'OverflowError',\n",
       " 'PendingDeprecationWarning',\n",
       " 'PermissionError',\n",
       " 'ProcessLookupError',\n",
       " 'RecursionError',\n",
       " 'ReferenceError',\n",
       " 'ResourceWarning',\n",
       " 'RuntimeError',\n",
       " 'RuntimeWarning',\n",
       " 'StopAsyncIteration',\n",
       " 'StopIteration',\n",
       " 'SyntaxError',\n",
       " 'SyntaxWarning',\n",
       " 'SystemError',\n",
       " 'SystemExit',\n",
       " 'TabError',\n",
       " 'TimeoutError',\n",
       " 'True',\n",
       " 'TypeError',\n",
       " 'UnboundLocalError',\n",
       " 'UnicodeDecodeError',\n",
       " 'UnicodeEncodeError',\n",
       " 'UnicodeError',\n",
       " 'UnicodeTranslateError',\n",
       " 'UnicodeWarning',\n",
       " 'UserWarning',\n",
       " 'ValueError',\n",
       " 'Warning',\n",
       " 'WindowsError',\n",
       " 'ZeroDivisionError',\n",
       " '__IPYTHON__',\n",
       " '__build_class__',\n",
       " '__debug__',\n",
       " '__doc__',\n",
       " '__import__',\n",
       " '__loader__',\n",
       " '__name__',\n",
       " '__package__',\n",
       " '__spec__',\n",
       " 'abs',\n",
       " 'aiter',\n",
       " 'all',\n",
       " 'anext',\n",
       " 'any',\n",
       " 'ascii',\n",
       " 'bin',\n",
       " 'bool',\n",
       " 'breakpoint',\n",
       " 'bytearray',\n",
       " 'bytes',\n",
       " 'callable',\n",
       " 'chr',\n",
       " 'classmethod',\n",
       " 'compile',\n",
       " 'complex',\n",
       " 'copyright',\n",
       " 'credits',\n",
       " 'delattr',\n",
       " 'dict',\n",
       " 'dir',\n",
       " 'display',\n",
       " 'divmod',\n",
       " 'enumerate',\n",
       " 'eval',\n",
       " 'exec',\n",
       " 'execfile',\n",
       " 'filter',\n",
       " 'float',\n",
       " 'format',\n",
       " 'frozenset',\n",
       " 'get_ipython',\n",
       " 'getattr',\n",
       " 'globals',\n",
       " 'hasattr',\n",
       " 'hash',\n",
       " 'help',\n",
       " 'hex',\n",
       " 'id',\n",
       " 'input',\n",
       " 'int',\n",
       " 'isinstance',\n",
       " 'issubclass',\n",
       " 'iter',\n",
       " 'len',\n",
       " 'license',\n",
       " 'list',\n",
       " 'locals',\n",
       " 'map',\n",
       " 'max',\n",
       " 'memoryview',\n",
       " 'min',\n",
       " 'next',\n",
       " 'object',\n",
       " 'oct',\n",
       " 'open',\n",
       " 'ord',\n",
       " 'pow',\n",
       " 'print',\n",
       " 'property',\n",
       " 'range',\n",
       " 'repr',\n",
       " 'reversed',\n",
       " 'round',\n",
       " 'runfile',\n",
       " 'set',\n",
       " 'setattr',\n",
       " 'slice',\n",
       " 'sorted',\n",
       " 'staticmethod',\n",
       " 'str',\n",
       " 'sum',\n",
       " 'super',\n",
       " 'tuple',\n",
       " 'type',\n",
       " 'vars',\n",
       " 'zip']"
      ]
     },
     "execution_count": 34,
     "metadata": {},
     "output_type": "execute_result"
    }
   ],
   "source": [
    "dir(__builtins__)"
   ]
  },
  {
   "cell_type": "code",
   "execution_count": null,
   "metadata": {},
   "outputs": [],
   "source": [
    "# import math\n",
    "\n",
    "# import math\n",
    "# a=math.sqrt(16)\n",
    "# print(a)\n"
   ]
  },
  {
   "cell_type": "code",
   "execution_count": 35,
   "metadata": {},
   "outputs": [
    {
     "name": "stdout",
     "output_type": "stream",
     "text": [
      "4.0\n"
     ]
    }
   ],
   "source": [
    "import math\n",
    "a=math.sqrt(16)\n",
    "print(a)"
   ]
  },
  {
   "cell_type": "code",
   "execution_count": null,
   "metadata": {},
   "outputs": [],
   "source": [
    "# import math\n",
    "# a=math.floor(5,9)\n",
    "# print(a)"
   ]
  },
  {
   "cell_type": "code",
   "execution_count": 37,
   "metadata": {},
   "outputs": [
    {
     "name": "stdout",
     "output_type": "stream",
     "text": [
      "5\n"
     ]
    }
   ],
   "source": [
    "import math\n",
    "a=math.floor(5.9999)\n",
    "print(a)"
   ]
  },
  {
   "cell_type": "code",
   "execution_count": 3,
   "metadata": {},
   "outputs": [
    {
     "name": "stdout",
     "output_type": "stream",
     "text": [
      "12.0\n",
      "12.0\n"
     ]
    }
   ],
   "source": [
    "import math\n",
    "b=[2,4,6]\n",
    "a=math.fsum([2,4,6]) # find the sum\n",
    "print(a)\n",
    "c=(2,4,6)\n",
    "c=math.fsum(c)\n",
    "print(c)"
   ]
  },
  {
   "cell_type": "code",
   "execution_count": null,
   "metadata": {},
   "outputs": [],
   "source": [
    "# max\n",
    "\n",
    "# max(2,3,8,1)"
   ]
  },
  {
   "cell_type": "code",
   "execution_count": 5,
   "metadata": {},
   "outputs": [
    {
     "name": "stdout",
     "output_type": "stream",
     "text": [
      "20\n"
     ]
    }
   ],
   "source": [
    "a=max(5,8,20,9,20.0)\n",
    "print(a)"
   ]
  },
  {
   "cell_type": "code",
   "execution_count": 6,
   "metadata": {},
   "outputs": [],
   "source": [
    "# max([2,6,4,1]) # max list"
   ]
  },
  {
   "cell_type": "code",
   "execution_count": 7,
   "metadata": {},
   "outputs": [
    {
     "data": {
      "text/plain": [
       "6"
      ]
     },
     "execution_count": 7,
     "metadata": {},
     "output_type": "execute_result"
    }
   ],
   "source": [
    "max([2,6,4,1])"
   ]
  },
  {
   "cell_type": "code",
   "execution_count": null,
   "metadata": {},
   "outputs": [],
   "source": [
    "# max dict\n",
    "# a={'jon':20,'mary':40,'dav':50}\n",
    "# value=max(a.values())\n",
    "# print('max value ',value)\n",
    "# # dictionary.get(keyname, value)\n",
    "# key=max(a,key=a.get)\n",
    "# print('key with max value ',key)"
   ]
  },
  {
   "cell_type": "code",
   "execution_count": 10,
   "metadata": {},
   "outputs": [
    {
     "name": "stdout",
     "output_type": "stream",
     "text": [
      "30\n",
      "key with max value  mary\n"
     ]
    }
   ],
   "source": [
    "a={'jon':20,'mary':30,'dav':10}\n",
    "value=max(a.values())\n",
    "print(value)\n",
    "\n",
    "key=max(a,key=a.get)\n",
    "print('key with max value ',key)"
   ]
  },
  {
   "cell_type": "code",
   "execution_count": null,
   "metadata": {},
   "outputs": [],
   "source": [
    "# # min dict\n",
    "# d={1:3,2:1,3:5,4:10,5:3}\n",
    "# key=min(d,key=lambda k:d[k])\n",
    "# print('key with min value', key)\n",
    "# print('min value',d[key])\n",
    "# value=min(d.values())\n",
    "# print('min value',value)"
   ]
  },
  {
   "cell_type": "code",
   "execution_count": 12,
   "metadata": {},
   "outputs": [
    {
     "name": "stdout",
     "output_type": "stream",
     "text": [
      "key with min value 2\n",
      "min value 1\n",
      "min value 1\n"
     ]
    }
   ],
   "source": [
    "# # min dict\n",
    "\n",
    "d={1:3,2:1,3:5,4:10,5:3}\n",
    "key=min(d,key=lambda k:d[k])\n",
    "print('key with min value', key)\n",
    "print('min value',d[key])\n",
    "\n",
    "value=min(d.values())\n",
    "print('min value',value)"
   ]
  },
  {
   "cell_type": "code",
   "execution_count": 13,
   "metadata": {},
   "outputs": [
    {
     "name": "stdout",
     "output_type": "stream",
     "text": [
      "[(0, 30), (1, 40), (2, 60), (3, 10)]\n"
     ]
    }
   ],
   "source": [
    "# enumerate add counter\n",
    "\n",
    "a=[30,40,60,10]\n",
    "\n",
    "b=list(enumerate(a))\n",
    "print(b)# add a counter #"
   ]
  },
  {
   "cell_type": "code",
   "execution_count": 5,
   "metadata": {},
   "outputs": [
    {
     "name": "stdout",
     "output_type": "stream",
     "text": [
      "10\n"
     ]
    }
   ],
   "source": [
    "a=10\n",
    "def f():\n",
    "    a=50\n",
    "f()\n",
    "print(a)"
   ]
  },
  {
   "cell_type": "code",
   "execution_count": 7,
   "metadata": {},
   "outputs": [
    {
     "name": "stdout",
     "output_type": "stream",
     "text": [
      "50\n"
     ]
    }
   ],
   "source": [
    "b=10\n",
    "def f():\n",
    "    global b\n",
    "    b=50\n",
    "f()\n",
    "print(b)"
   ]
  },
  {
   "cell_type": "code",
   "execution_count": 26,
   "metadata": {},
   "outputs": [
    {
     "name": "stdout",
     "output_type": "stream",
     "text": [
      "50\n"
     ]
    }
   ],
   "source": [
    "def f():\n",
    "    t=50\n",
    "    print(t)\n",
    "    \n",
    "f()"
   ]
  },
  {
   "cell_type": "markdown",
   "metadata": {},
   "source": [
    "global vs local"
   ]
  },
  {
   "cell_type": "code",
   "execution_count": null,
   "metadata": {},
   "outputs": [],
   "source": [
    "# a = 'global assignment'\n",
    "# def func()\n",
    "#   global a\n",
    "#   a = \"function assignment\"\n",
    "# func()\n",
    "# print(\"program a is \")"
   ]
  },
  {
   "cell_type": "code",
   "execution_count": 13,
   "metadata": {},
   "outputs": [],
   "source": [
    "def f1():\n",
    "    def f2():\n",
    "        print(\"hello\")\n",
    "    \n",
    "f1()"
   ]
  },
  {
   "cell_type": "code",
   "execution_count": 3,
   "metadata": {},
   "outputs": [
    {
     "name": "stdout",
     "output_type": "stream",
     "text": [
      "jon 20\n",
      "1\n",
      "mary 50\n",
      "2\n",
      "dev 10\n",
      "3\n",
      "total count 3\n"
     ]
    }
   ],
   "source": [
    "# enumerate\n",
    "# for count, value in enumerate(values): The count of the current iteration\n",
    "#     print(count, value) The value of the item at the current iteration\n",
    "\n",
    "a={'jon':20,\"mary\":50,'dev':10}\n",
    "for count,n in enumerate(a,1):\n",
    "    print(n,a[n])\n",
    "    print(count)\n",
    "print('total count' ,count)"
   ]
  },
  {
   "cell_type": "markdown",
   "metadata": {},
   "source": [
    "Answer"
   ]
  },
  {
   "cell_type": "code",
   "execution_count": 1,
   "metadata": {},
   "outputs": [
    {
     "name": "stdout",
     "output_type": "stream",
     "text": [
      "4\n",
      "5\n",
      "6\n",
      "[4, 5, 6]\n"
     ]
    }
   ],
   "source": [
    "# - Unpacking a list by extracting the values into variables\n",
    "a=[4,5,6]\n",
    "x,y,z=a\n",
    "print(x) ; print(y) ; print(z) ; print(a)\n"
   ]
  },
  {
   "cell_type": "code",
   "execution_count": 13,
   "metadata": {},
   "outputs": [
    {
     "name": "stdout",
     "output_type": "stream",
     "text": [
      "3\n",
      "<class 'float'>\n",
      "['hello', 5.0, True, 'this is new']\n"
     ]
    }
   ],
   "source": [
    "# - Construct a a list with strings, integers and boolean values:\n",
    "# - print the second item in the list\n",
    "# - change the data type of the second item in the list\n",
    "# - append a new list item 'this is new' to the list\n",
    "\n",
    "a=['hello',3, True]\n",
    "print(a[1])\n",
    "a[1]=5.0 ; print(type(a[1]))\n",
    "a.append('this is new')\n",
    "b=a\n",
    "print(b)\n"
   ]
  },
  {
   "cell_type": "code",
   "execution_count": 15,
   "metadata": {},
   "outputs": [
    {
     "name": "stdout",
     "output_type": "stream",
     "text": [
      "{'jon': 20, 'mary': 30, 'dev': 50, 'new item': 100}\n"
     ]
    }
   ],
   "source": [
    "# Construct a Dictionary with 3 key:value pairs\n",
    "# - change the value of the first key in the key:value pair\n",
    "# - add a new item to the dictonary\n",
    "\n",
    "a={'jon':10,'mary':30,'dev':50}\n",
    "a['jon']=20\n",
    "a['new item']=100\n",
    "print(a)\n",
    "\n",
    "\n",
    "#my_dict['banana] = 4\n"
   ]
  },
  {
   "cell_type": "code",
   "execution_count": 22,
   "metadata": {},
   "outputs": [
    {
     "name": "stdout",
     "output_type": "stream",
     "text": [
      "11\n",
      "11\n"
     ]
    }
   ],
   "source": [
    "# - Construct a function to add two values a and b\n",
    "# - call the function and print out the result\n",
    "\n",
    "def ff(input1,input2):\n",
    "    return(input1+input2)\n",
    "\n",
    "a=ff(5,6)\n",
    "print(a)\n",
    "\n",
    "AA=lambda input1,input2:input1+input2\n",
    "w=AA(5,6)\n",
    "print(w)"
   ]
  },
  {
   "cell_type": "code",
   "execution_count": 19,
   "metadata": {},
   "outputs": [
    {
     "name": "stdout",
     "output_type": "stream",
     "text": [
      "0.1\n",
      "0.01\n",
      "0.11\n"
     ]
    }
   ],
   "source": [
    "Ans1=100/1000\n",
    "Ans2=10/1000\n",
    "Ans3=Ans1+Ans2\n",
    "\n",
    "print(Ans1)\n",
    "print(Ans2)\n",
    "print(Ans3)"
   ]
  }
 ],
 "metadata": {
  "kernelspec": {
   "display_name": ".venv",
   "language": "python",
   "name": "python3"
  },
  "language_info": {
   "codemirror_mode": {
    "name": "ipython",
    "version": 3
   },
   "file_extension": ".py",
   "mimetype": "text/x-python",
   "name": "python",
   "nbconvert_exporter": "python",
   "pygments_lexer": "ipython3",
   "version": "3.11.4"
  },
  "orig_nbformat": 4
 },
 "nbformat": 4,
 "nbformat_minor": 2
}
