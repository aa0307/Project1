{
 "cells": [
  {
   "cell_type": "code",
   "execution_count": 1,
   "metadata": {},
   "outputs": [
    {
     "name": "stdout",
     "output_type": "stream",
     "text": [
      "orginal wrong datetime format at row 26*****\n",
      "Workmin                     60\n",
      "Date       2020-12-26 00:00:00\n",
      "Spend                      100\n",
      "Tips                       120\n",
      "Incomes                  250.0\n",
      "Name: 26, dtype: object\n",
      "corrected datetime format at row 26*****\n",
      "    Workmin       Date  Spend  Tips  Incomes\n",
      "22       45        NaT    100   119    282.0\n",
      "23       60 2020-12-23    130   101    300.0\n",
      "24       45 2020-12-24    105   132    246.0\n",
      "25       60 2020-12-25    102   126    334.5\n",
      "26       60 2020-12-26    100   120    250.0\n",
      "27       60 2020-12-27     92   118    241.0\n",
      "28       60 2020-12-28    103   132      NaN\n",
      "29       60 2020-12-29    100   132    280.0\n",
      "30       60 2020-12-30    102   129    380.3\n",
      "31       60 2020-12-31     92   115    243.0\n",
      "<class 'pandas.core.series.Series'>\n"
     ]
    }
   ],
   "source": [
    "import pandas as pd\n",
    "path=\"C:/Users/User/Desktop/project 1/VS/data_folder/\"\n",
    "file_name=\"data1.xlsx\"\n",
    "df = pd.read_excel(f\"{path}{file_name}\")\n",
    "\n",
    "print('orginal wrong datetime format at row 26*****')\n",
    "print(df.loc[26])\n",
    "df['Date'] = pd.to_datetime(df['Date']) #correct datetime format at row 26\n",
    "print('corrected datetime format at row 26*****')\n",
    "print(df.tail(10))\n",
    "print(type(df['Date']))"
   ]
  }
 ],
 "metadata": {
  "kernelspec": {
   "display_name": "Python 3",
   "language": "python",
   "name": "python3"
  },
  "language_info": {
   "codemirror_mode": {
    "name": "ipython",
    "version": 3
   },
   "file_extension": ".py",
   "mimetype": "text/x-python",
   "name": "python",
   "nbconvert_exporter": "python",
   "pygments_lexer": "ipython3",
   "version": "3.11.4"
  },
  "orig_nbformat": 4
 },
 "nbformat": 4,
 "nbformat_minor": 2
}
