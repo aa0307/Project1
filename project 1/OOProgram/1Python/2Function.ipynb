{
 "cells": [
  {
   "cell_type": "markdown",
   "metadata": {},
   "source": [
    "## <span style=\"color: yellow;\"> Python Functions</span>\n"
   ]
  },
  {
   "cell_type": "markdown",
   "metadata": {},
   "source": [
    "Function is a block of code which only runs when it is called"
   ]
  },
  {
   "cell_type": "code",
   "execution_count": null,
   "metadata": {},
   "outputs": [],
   "source": [
    "# Sytax\n",
    "# Stat\n",
    "# def :\n",
    "def thisis_fuction():\n",
    "    print('this is a function')\n",
    "    \n",
    "# A function can return data as a result."
   ]
  },
  {
   "cell_type": "code",
   "execution_count": null,
   "metadata": {},
   "outputs": [],
   "source": [
    "thisis_function()"
   ]
  },
  {
   "cell_type": "markdown",
   "metadata": {},
   "source": [
    "**Pass data** as parameters to a function"
   ]
  },
  {
   "cell_type": "code",
   "execution_count": null,
   "metadata": {},
   "outputs": [],
   "source": [
    "# You can pass data, known as parameter, into a function.\n",
    "def passdata_function(data):\n",
    "    print(data + \" z\")\n",
    "    \n",
    "passdata_function(\"x\")\n",
    "passdata_function('y')"
   ]
  },
  {
   "cell_type": "code",
   "execution_count": 2,
   "metadata": {},
   "outputs": [
    {
     "name": "stdout",
     "output_type": "stream",
     "text": [
      "x y\n"
     ]
    }
   ],
   "source": [
    "# This function expects 2 arguments, and gets 2 arguments\n",
    "def argument_function(data1, data2):\n",
    "    print(data1+\" \"+data2)\n",
    "    \n",
    "argument_function(\"x\", \"y\")"
   ]
  },
  {
   "cell_type": "code",
   "execution_count": null,
   "metadata": {},
   "outputs": [],
   "source": [
    "# Expects 2 arguments, but gets 3, exe will return ERROR\n",
    "argument_fuction(\"x\", \"y\", \"z\")\n",
    "\n",
    "#Expects 2 arguments, but gets only 1, exe will return ERROR\n",
    "#argument_fuction(\"x\")\n",
    "\n",
    "# Sometimes we dont know how many arguments will be passed into the function ..."
   ]
  },
  {
   "cell_type": "markdown",
   "metadata": {},
   "source": [
    "**Arbitrary Arguments**(*args)"
   ]
  },
  {
   "cell_type": "code",
   "execution_count": null,
   "metadata": {},
   "outputs": [],
   "source": [
    "# So if no idea how many arguments that will be passed into your function, add a * before the parameter\n",
    "def argument_fuction(*pass_data):\n",
    "    print(pass_data[0]+ pass_data[1])\n",
    "\n",
    "argument_function(\"x\",\" z\")  # pass 2 parameters\n",
    "argument_function(\"x\", \" y\", \" z\")  # pass 3 parameters"
   ]
  },
  {
   "cell_type": "code",
   "execution_count": null,
   "metadata": {},
   "outputs": [],
   "source": [
    "# Arbitrary Arguments are often shortened to *args\n",
    "\n",
    "def argument_function(*args):\n",
    "    print(args)\n",
    "    \n",
    "argument_function(\"x\")\n",
    "argument_function(\"x\", \"z\")\n",
    "argument_function(\"x\", \"y\", \"zy\")"
   ]
  },
  {
   "cell_type": "code",
   "execution_count": null,
   "metadata": {},
   "outputs": [],
   "source": [
    "# send arguments with the key = value syntax\n",
    "def argument_function(car3, car2, car1):\n",
    "    print(\"The first car is \"+ car1)\n",
    "    \n",
    "argument_fuction(car1 = \"Renault\", car2 = \"Volvo\", car3 = \"BMW\")\n",
    "\n",
    "# No idea how many keyword arguments that will be passed into your function"
   ]
  },
  {
   "cell_type": "code",
   "execution_count": null,
   "metadata": {},
   "outputs": [],
   "source": [
    "# add two asterisk: ** before the parameter name\n",
    "# Arbitrary Kword Arguments are often shortened to **kwargs\n",
    "\n",
    "def argument_function(**time):\n",
    "    print(\"It was \"+time[\"year\"])\n",
    "    \n",
    "argument_function(engine = \"1300cc\", year = \"1992\")"
   ]
  },
  {
   "cell_type": "code",
   "execution_count": 2,
   "metadata": {},
   "outputs": [
    {
     "name": "stdout",
     "output_type": "stream",
     "text": [
      "It was 1992\n"
     ]
    }
   ],
   "source": [
    "def argument_function(**kwargs):\n",
    "    print(\"It was \" + kwargs[\"year\"])\n",
    "    \n",
    "argument_function(engine = \"1300cc\", year = \"1992\")"
   ]
  },
  {
   "cell_type": "code",
   "execution_count": 1,
   "metadata": {},
   "outputs": [
    {
     "name": "stdout",
     "output_type": "stream",
     "text": [
      "Renault\n",
      "<class 'list'>\n",
      "Volvo\n",
      "<class 'list'>\n",
      "BMW\n",
      "<class 'list'>\n",
      "renault\n",
      "<class 'dict'>\n",
      "Volvo\n",
      "<class 'dict'>\n",
      "BMW\n",
      "<class 'dict'>\n"
     ]
    }
   ],
   "source": [
    "# Can send any data type of argument to a function (string, number, list, dictionary)\n",
    "\n",
    "def function(input):\n",
    "    for x in input:\n",
    "        print(x)\n",
    "        print(type(input))\n",
    "        \n",
    "cars = [\"Renault\", \"Volvo\",\"BMW\"] # send a list as an argument\n",
    "function(cars)\n",
    "\n",
    "pass_dict = {\"renault\":1992, \"Volvo\":1995, \"BMW\":2020} # send a Dict as an argument\n",
    "function(pass_dict)"
   ]
  },
  {
   "cell_type": "code",
   "execution_count": null,
   "metadata": {},
   "outputs": [],
   "source": [
    "# Can send any data type of argument to a function (string, number, list, dictionary)\n",
    "\n",
    "def function(input):\n",
    "    for x in input:\n",
    "        print(x)\n",
    "        \n",
    "pass_List_cars = [\"Renault\", \"Volvo\",\"BMW\"] # send a list as an argument\n",
    "function(pass_List_cars)\n",
    "\n",
    "pass_dict_cars = {\"renault\":1992, \"Volvo\":1995, \"BMW\":2020} # send a Dict as an argument\n",
    "function(pass_dict_cars)"
   ]
  },
  {
   "cell_type": "markdown",
   "metadata": {},
   "source": [
    "Functon **return** a value"
   ]
  },
  {
   "cell_type": "code",
   "execution_count": 4,
   "metadata": {},
   "outputs": [
    {
     "name": "stdout",
     "output_type": "stream",
     "text": [
      "15\n",
      "25\n",
      "17.5\n",
      "hellohellohellohellohello\n"
     ]
    }
   ],
   "source": [
    "# function return a value\n",
    "def function(x):\n",
    "    return 5 * x\n",
    "\n",
    "print(function(3))\n",
    "print(function(5))\n",
    "print(function(3.5))\n",
    "print(function('hello'))"
   ]
  },
  {
   "cell_type": "code",
   "execution_count": 9,
   "metadata": {},
   "outputs": [
    {
     "name": "stdout",
     "output_type": "stream",
     "text": [
      "1\n",
      "<class 'int'>\n",
      "2\n",
      "3\n",
      "x=  (1, 2, 3)\n",
      "<class 'tuple'>\n"
     ]
    }
   ],
   "source": [
    "# Return multiple value\n",
    "def function():\n",
    "    return 1,2,3\n",
    "\n",
    "a,b,c = function()\n",
    "x = function()\n",
    "\n",
    "print(a) ; print(type(a))\n",
    "print(b)\n",
    "print(c)\n",
    "print('x= ',x) ; print(type(x))\n"
   ]
  }
 ],
 "metadata": {
  "kernelspec": {
   "display_name": ".venv",
   "language": "python",
   "name": "python3"
  },
  "language_info": {
   "codemirror_mode": {
    "name": "ipython",
    "version": 3
   },
   "file_extension": ".py",
   "mimetype": "text/x-python",
   "name": "python",
   "nbconvert_exporter": "python",
   "pygments_lexer": "ipython3",
   "version": "3.11.4"
  },
  "orig_nbformat": 4
 },
 "nbformat": 4,
 "nbformat_minor": 2
}
