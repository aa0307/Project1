{
 "cells": [
  {
   "cell_type": "markdown",
   "metadata": {},
   "source": [
    "4.18\n",
    "Pandas套件– Part 5\n",
    "Exercises"
   ]
  },
  {
   "cell_type": "code",
   "execution_count": 2,
   "metadata": {},
   "outputs": [],
   "source": [
    "#Pandas Exercise - 46\n",
    "# Recap: Pandas DataFrame is constructed by Series and Index."
   ]
  },
  {
   "cell_type": "markdown",
   "metadata": {},
   "source": [
    "Create Datetime Series and index with Datetime series\n",
    "Rquirement:\n",
    "1. Create Datetime series idx :\n",
    "            [four consecutive days] with dtype=datetime64[ns]\n",
    "            from 2023-01-01 to 2023-01-04\n",
    "2. Create Datetime series idxy based on idx' year, index with idx\n",
    "3. Create Datetime series idxm based on idx' month, index with idx\n",
    "4. Create Datetime series idxd based on idx' day, index with idx"
   ]
  },
  {
   "cell_type": "code",
   "execution_count": 3,
   "metadata": {},
   "outputs": [
    {
     "data": {
      "text/plain": [
       "0   2023-01-01\n",
       "1   2023-01-02\n",
       "2   2023-01-03\n",
       "3   2023-01-04\n",
       "dtype: datetime64[ns]"
      ]
     },
     "execution_count": 3,
     "metadata": {},
     "output_type": "execute_result"
    }
   ],
   "source": [
    "import pandas as pd\n",
    "import numpy as np\n",
    "idx = pd.Series(pd.date_range(start='2023-01-01', periods=4, freq='D'))\n",
    "idx"
   ]
  },
  {
   "cell_type": "code",
   "execution_count": 4,
   "metadata": {},
   "outputs": [
    {
     "data": {
      "text/plain": [
       "2023-01-01    2023\n",
       "2023-01-02    2023\n",
       "2023-01-03    2023\n",
       "2023-01-04    2023\n",
       "dtype: int32"
      ]
     },
     "execution_count": 4,
     "metadata": {},
     "output_type": "execute_result"
    }
   ],
   "source": [
    "idxy = idx.dt.year\n",
    "idxy.index=idx\n",
    "idxy"
   ]
  },
  {
   "cell_type": "code",
   "execution_count": 5,
   "metadata": {},
   "outputs": [
    {
     "data": {
      "text/plain": [
       "2023-01-01    1\n",
       "2023-01-02    1\n",
       "2023-01-03    1\n",
       "2023-01-04    1\n",
       "dtype: int32"
      ]
     },
     "execution_count": 5,
     "metadata": {},
     "output_type": "execute_result"
    }
   ],
   "source": [
    "idxm = idx.dt.month\n",
    "idxm.index=idx\n",
    "idxm"
   ]
  },
  {
   "cell_type": "code",
   "execution_count": 6,
   "metadata": {},
   "outputs": [
    {
     "data": {
      "text/plain": [
       "2023-01-01    1\n",
       "2023-01-02    2\n",
       "2023-01-03    3\n",
       "2023-01-04    4\n",
       "dtype: int32"
      ]
     },
     "execution_count": 6,
     "metadata": {},
     "output_type": "execute_result"
    }
   ],
   "source": [
    "idxd = idx.dt.day\n",
    "idxd.index=idx\n",
    "idxd\n"
   ]
  },
  {
   "cell_type": "markdown",
   "metadata": {},
   "source": [
    "Create integer and float Series with dtype"
   ]
  },
  {
   "cell_type": "markdown",
   "metadata": {},
   "source": [
    "Requirement:\n",
    "1. Create series s1 [1, 2, 3, 4]\n",
    "                with dtype='int32', index with idx\n",
    "2. Create series s2 [5., 6., 7., 8.]\n",
    "                with dtype='float32', index with idx"
   ]
  },
  {
   "cell_type": "code",
   "execution_count": 7,
   "metadata": {},
   "outputs": [
    {
     "data": {
      "text/plain": [
       "2023-01-01    1\n",
       "2023-01-02    2\n",
       "2023-01-03    3\n",
       "2023-01-04    4\n",
       "dtype: int32"
      ]
     },
     "execution_count": 7,
     "metadata": {},
     "output_type": "execute_result"
    }
   ],
   "source": [
    "s1 = pd.Series([1, 2, 3, 4], dtype='int32', index=idx)\n",
    "s1"
   ]
  },
  {
   "cell_type": "code",
   "execution_count": 8,
   "metadata": {},
   "outputs": [
    {
     "data": {
      "text/plain": [
       "2023-01-01    5.0\n",
       "2023-01-02    6.0\n",
       "2023-01-03    7.0\n",
       "2023-01-04    8.0\n",
       "dtype: float32"
      ]
     },
     "execution_count": 8,
     "metadata": {},
     "output_type": "execute_result"
    }
   ],
   "source": [
    "s2 = pd.Series([5., 6., 7., 8.], dtype='float32', index=idx)\n",
    "s2"
   ]
  },
  {
   "cell_type": "markdown",
   "metadata": {},
   "source": [
    "Create category and string Series with dtype"
   ]
  },
  {
   "cell_type": "markdown",
   "metadata": {},
   "source": [
    "Requirement:\n",
    "1. Create series s3 ['On','Off','On', 'Off']\n",
    "                with dtype='category', index with idx\n",
    "2. Create series s4 ['Alex','Bob','Chris','David']\n",
    "                with dtype='object', index with idx"
   ]
  },
  {
   "cell_type": "code",
   "execution_count": 9,
   "metadata": {},
   "outputs": [
    {
     "data": {
      "text/plain": [
       "2023-01-01     On\n",
       "2023-01-02    Off\n",
       "2023-01-03     On\n",
       "2023-01-04    Off\n",
       "dtype: category\n",
       "Categories (2, object): ['Off', 'On']"
      ]
     },
     "execution_count": 9,
     "metadata": {},
     "output_type": "execute_result"
    }
   ],
   "source": [
    "s3 = pd.Series(['On','Off','On', 'Off'], dtype='category', index=idx)\n",
    "s3"
   ]
  },
  {
   "cell_type": "code",
   "execution_count": 10,
   "metadata": {},
   "outputs": [
    {
     "data": {
      "text/plain": [
       "2023-01-01     Alex\n",
       "2023-01-02      Bob\n",
       "2023-01-03    Chris\n",
       "2023-01-04    David\n",
       "dtype: object"
      ]
     },
     "execution_count": 10,
     "metadata": {},
     "output_type": "execute_result"
    }
   ],
   "source": [
    "s4 = pd.Series(['Alex','Bob','Chris','David'], dtype='object', index=idx)\n",
    "s4  #String’s dtype is object"
   ]
  },
  {
   "cell_type": "markdown",
   "metadata": {},
   "source": [
    "Combine Series into DataFrame"
   ]
  },
  {
   "cell_type": "markdown",
   "metadata": {},
   "source": [
    "Column and Series, respectively as follow:\n",
    "'year':idxy,\n",
    "'month':idxm,\n",
    "'day':idxd,\n",
    "'name':s4,\n",
    "'sales':s1,\n",
    "'income':s2,\n",
    "'desktop':s3,\n"
   ]
  },
  {
   "cell_type": "code",
   "execution_count": 11,
   "metadata": {},
   "outputs": [
    {
     "data": {
      "text/html": [
       "<div>\n",
       "<style scoped>\n",
       "    .dataframe tbody tr th:only-of-type {\n",
       "        vertical-align: middle;\n",
       "    }\n",
       "\n",
       "    .dataframe tbody tr th {\n",
       "        vertical-align: top;\n",
       "    }\n",
       "\n",
       "    .dataframe thead th {\n",
       "        text-align: right;\n",
       "    }\n",
       "</style>\n",
       "<table border=\"1\" class=\"dataframe\">\n",
       "  <thead>\n",
       "    <tr style=\"text-align: right;\">\n",
       "      <th></th>\n",
       "      <th>year</th>\n",
       "      <th>month</th>\n",
       "      <th>day</th>\n",
       "      <th>name</th>\n",
       "      <th>sales</th>\n",
       "      <th>income</th>\n",
       "      <th>desktop</th>\n",
       "    </tr>\n",
       "  </thead>\n",
       "  <tbody>\n",
       "    <tr>\n",
       "      <th>2023-01-01</th>\n",
       "      <td>2023</td>\n",
       "      <td>1</td>\n",
       "      <td>1</td>\n",
       "      <td>Alex</td>\n",
       "      <td>1</td>\n",
       "      <td>5.0</td>\n",
       "      <td>On</td>\n",
       "    </tr>\n",
       "    <tr>\n",
       "      <th>2023-01-02</th>\n",
       "      <td>2023</td>\n",
       "      <td>1</td>\n",
       "      <td>2</td>\n",
       "      <td>Bob</td>\n",
       "      <td>2</td>\n",
       "      <td>6.0</td>\n",
       "      <td>Off</td>\n",
       "    </tr>\n",
       "    <tr>\n",
       "      <th>2023-01-03</th>\n",
       "      <td>2023</td>\n",
       "      <td>1</td>\n",
       "      <td>3</td>\n",
       "      <td>Chris</td>\n",
       "      <td>3</td>\n",
       "      <td>7.0</td>\n",
       "      <td>On</td>\n",
       "    </tr>\n",
       "    <tr>\n",
       "      <th>2023-01-04</th>\n",
       "      <td>2023</td>\n",
       "      <td>1</td>\n",
       "      <td>4</td>\n",
       "      <td>David</td>\n",
       "      <td>4</td>\n",
       "      <td>8.0</td>\n",
       "      <td>Off</td>\n",
       "    </tr>\n",
       "  </tbody>\n",
       "</table>\n",
       "</div>"
      ],
      "text/plain": [
       "            year  month  day   name  sales  income desktop\n",
       "2023-01-01  2023      1    1   Alex      1     5.0      On\n",
       "2023-01-02  2023      1    2    Bob      2     6.0     Off\n",
       "2023-01-03  2023      1    3  Chris      3     7.0      On\n",
       "2023-01-04  2023      1    4  David      4     8.0     Off"
      ]
     },
     "execution_count": 11,
     "metadata": {},
     "output_type": "execute_result"
    }
   ],
   "source": [
    "# Disscuss the benefit of creating column year, month and day\n",
    "df = pd.DataFrame(data={'year':idxy,\n",
    "                    'month':idxm,\n",
    "                    'day':idxd,\n",
    "                    'name':s4,\n",
    "                    'sales':s1,\n",
    "                    'income':s2,\n",
    "                    'desktop':s3,})\n",
    "df  #Discuss the benefit of creating column year, month and day"
   ]
  },
  {
   "cell_type": "code",
   "execution_count": 12,
   "metadata": {},
   "outputs": [
    {
     "name": "stdout",
     "output_type": "stream",
     "text": [
      "<class 'pandas.core.frame.DataFrame'>\n",
      "DatetimeIndex: 4 entries, 2023-01-01 to 2023-01-04\n",
      "Data columns (total 7 columns):\n",
      " #   Column   Non-Null Count  Dtype   \n",
      "---  ------   --------------  -----   \n",
      " 0   year     4 non-null      int32   \n",
      " 1   month    4 non-null      int32   \n",
      " 2   day      4 non-null      int32   \n",
      " 3   name     4 non-null      object  \n",
      " 4   sales    4 non-null      int32   \n",
      " 5   income   4 non-null      float32 \n",
      " 6   desktop  4 non-null      category\n",
      "dtypes: category(1), float32(1), int32(4), object(1)\n",
      "memory usage: 272.0+ bytes\n"
     ]
    }
   ],
   "source": [
    "df.info()"
   ]
  },
  {
   "cell_type": "markdown",
   "metadata": {},
   "source": [
    "Add new column with value by np.where"
   ]
  },
  {
   "cell_type": "markdown",
   "metadata": {},
   "source": [
    "Requirement:\n",
    "1. Add a new column 'bonus' to the df\n",
    "2. Caluculate the bonus if sales>=3, bouns=income*0.3\n",
    "                        else bonus=0"
   ]
  },
  {
   "cell_type": "code",
   "execution_count": 13,
   "metadata": {},
   "outputs": [
    {
     "data": {
      "text/html": [
       "<div>\n",
       "<style scoped>\n",
       "    .dataframe tbody tr th:only-of-type {\n",
       "        vertical-align: middle;\n",
       "    }\n",
       "\n",
       "    .dataframe tbody tr th {\n",
       "        vertical-align: top;\n",
       "    }\n",
       "\n",
       "    .dataframe thead th {\n",
       "        text-align: right;\n",
       "    }\n",
       "</style>\n",
       "<table border=\"1\" class=\"dataframe\">\n",
       "  <thead>\n",
       "    <tr style=\"text-align: right;\">\n",
       "      <th></th>\n",
       "      <th>year</th>\n",
       "      <th>month</th>\n",
       "      <th>day</th>\n",
       "      <th>name</th>\n",
       "      <th>sales</th>\n",
       "      <th>income</th>\n",
       "      <th>desktop</th>\n",
       "      <th>bonus</th>\n",
       "    </tr>\n",
       "  </thead>\n",
       "  <tbody>\n",
       "    <tr>\n",
       "      <th>2023-01-01</th>\n",
       "      <td>2023</td>\n",
       "      <td>1</td>\n",
       "      <td>1</td>\n",
       "      <td>Alex</td>\n",
       "      <td>1</td>\n",
       "      <td>5.0</td>\n",
       "      <td>On</td>\n",
       "      <td>0.0</td>\n",
       "    </tr>\n",
       "    <tr>\n",
       "      <th>2023-01-02</th>\n",
       "      <td>2023</td>\n",
       "      <td>1</td>\n",
       "      <td>2</td>\n",
       "      <td>Bob</td>\n",
       "      <td>2</td>\n",
       "      <td>6.0</td>\n",
       "      <td>Off</td>\n",
       "      <td>0.0</td>\n",
       "    </tr>\n",
       "    <tr>\n",
       "      <th>2023-01-03</th>\n",
       "      <td>2023</td>\n",
       "      <td>1</td>\n",
       "      <td>3</td>\n",
       "      <td>Chris</td>\n",
       "      <td>3</td>\n",
       "      <td>7.0</td>\n",
       "      <td>On</td>\n",
       "      <td>2.1</td>\n",
       "    </tr>\n",
       "    <tr>\n",
       "      <th>2023-01-04</th>\n",
       "      <td>2023</td>\n",
       "      <td>1</td>\n",
       "      <td>4</td>\n",
       "      <td>David</td>\n",
       "      <td>4</td>\n",
       "      <td>8.0</td>\n",
       "      <td>Off</td>\n",
       "      <td>2.4</td>\n",
       "    </tr>\n",
       "  </tbody>\n",
       "</table>\n",
       "</div>"
      ],
      "text/plain": [
       "            year  month  day   name  sales  income desktop  bonus\n",
       "2023-01-01  2023      1    1   Alex      1     5.0      On    0.0\n",
       "2023-01-02  2023      1    2    Bob      2     6.0     Off    0.0\n",
       "2023-01-03  2023      1    3  Chris      3     7.0      On    2.1\n",
       "2023-01-04  2023      1    4  David      4     8.0     Off    2.4"
      ]
     },
     "execution_count": 13,
     "metadata": {},
     "output_type": "execute_result"
    }
   ],
   "source": [
    "df.loc[df.index, 'bonus'] = np.where(df['sales']>=3,\n",
    "                                     df['income']*.3,\n",
    "                                    0)\n",
    "df"
   ]
  },
  {
   "cell_type": "markdown",
   "metadata": {},
   "source": [
    "Zip column and calculation"
   ]
  },
  {
   "cell_type": "markdown",
   "metadata": {},
   "source": [
    "Requirement:\n",
    "Generate a salary list, name with income+bonus\n",
    "Desired Output:\n",
    "[('Alex',5.0),\n",
    " ('Bob',6.0),\n",
    " ('Chris',9.100000381469727),\n",
    " ('David',10.399999618530273),]"
   ]
  },
  {
   "cell_type": "code",
   "execution_count": 14,
   "metadata": {},
   "outputs": [
    {
     "data": {
      "text/plain": [
       "[('Alex', 5.0),\n",
       " ('Bob', 6.0),\n",
       " ('Chris', 9.100000381469727),\n",
       " ('David', 10.399999618530273)]"
      ]
     },
     "execution_count": 14,
     "metadata": {},
     "output_type": "execute_result"
    }
   ],
   "source": [
    "salary = list(zip( df.name, df.income+df.bonus ))\n",
    "salary"
   ]
  },
  {
   "cell_type": "code",
   "execution_count": 32,
   "metadata": {},
   "outputs": [
    {
     "ename": "AttributeError",
     "evalue": "'DataFrame' object has no attribute 'income'",
     "output_type": "error",
     "traceback": [
      "\u001b[1;31m---------------------------------------------------------------------------\u001b[0m",
      "\u001b[1;31mAttributeError\u001b[0m                            Traceback (most recent call last)",
      "\u001b[1;32m~\\AppData\\Local\\Temp\\ipykernel_16780\\1629994815.py\u001b[0m in \u001b[0;36m?\u001b[1;34m()\u001b[0m\n\u001b[0;32m      1\u001b[0m salary = pd.DataFrame(data={'Name':df.name,\n\u001b[1;32m----> 2\u001b[1;33m                             'TotalIncome':df.income+df.bonus})\n\u001b[0m\u001b[0;32m      3\u001b[0m \u001b[0msalary\u001b[0m\u001b[1;33m\u001b[0m\u001b[1;33m\u001b[0m\u001b[0m\n",
      "\u001b[1;32mc:\\Users\\User\\AppData\\Local\\Programs\\Python\\Python311\\Lib\\site-packages\\pandas\\core\\generic.py\u001b[0m in \u001b[0;36m?\u001b[1;34m(self, name)\u001b[0m\n\u001b[0;32m   5985\u001b[0m             \u001b[1;32mand\u001b[0m \u001b[0mname\u001b[0m \u001b[1;32mnot\u001b[0m \u001b[1;32min\u001b[0m \u001b[0mself\u001b[0m\u001b[1;33m.\u001b[0m\u001b[0m_accessors\u001b[0m\u001b[1;33m\u001b[0m\u001b[1;33m\u001b[0m\u001b[0m\n\u001b[0;32m   5986\u001b[0m             \u001b[1;32mand\u001b[0m \u001b[0mself\u001b[0m\u001b[1;33m.\u001b[0m\u001b[0m_info_axis\u001b[0m\u001b[1;33m.\u001b[0m\u001b[0m_can_hold_identifiers_and_holds_name\u001b[0m\u001b[1;33m(\u001b[0m\u001b[0mname\u001b[0m\u001b[1;33m)\u001b[0m\u001b[1;33m\u001b[0m\u001b[1;33m\u001b[0m\u001b[0m\n\u001b[0;32m   5987\u001b[0m         ):\n\u001b[0;32m   5988\u001b[0m             \u001b[1;32mreturn\u001b[0m \u001b[0mself\u001b[0m\u001b[1;33m[\u001b[0m\u001b[0mname\u001b[0m\u001b[1;33m]\u001b[0m\u001b[1;33m\u001b[0m\u001b[1;33m\u001b[0m\u001b[0m\n\u001b[1;32m-> 5989\u001b[1;33m         \u001b[1;32mreturn\u001b[0m \u001b[0mobject\u001b[0m\u001b[1;33m.\u001b[0m\u001b[0m__getattribute__\u001b[0m\u001b[1;33m(\u001b[0m\u001b[0mself\u001b[0m\u001b[1;33m,\u001b[0m \u001b[0mname\u001b[0m\u001b[1;33m)\u001b[0m\u001b[1;33m\u001b[0m\u001b[1;33m\u001b[0m\u001b[0m\n\u001b[0m",
      "\u001b[1;31mAttributeError\u001b[0m: 'DataFrame' object has no attribute 'income'"
     ]
    }
   ],
   "source": [
    "salary = pd.DataFrame(data={'Name':df.name,\n",
    "                            'TotalIncome':df.income+df.bonus})\n",
    "salary"
   ]
  },
  {
   "cell_type": "markdown",
   "metadata": {},
   "source": [
    "Filter and manipulate DF"
   ]
  },
  {
   "cell_type": "markdown",
   "metadata": {},
   "source": [
    "Given Input:\n",
    "salary = pd.DataFrame(data={'Name':df.name,\n",
    "            'TotalIncome':df.income+df.bonus})\n",
    "\n",
    "Requirement:\n",
    "1. Find out the average salary\n",
    "2. Total amount the company should prepare for payroll\n",
    "3. Find out the highest performer (highest income)\n",
    "4. Find out the standard diviation of the salary"
   ]
  },
  {
   "cell_type": "code",
   "execution_count": 16,
   "metadata": {},
   "outputs": [
    {
     "data": {
      "text/plain": [
       "7.625"
      ]
     },
     "execution_count": 16,
     "metadata": {},
     "output_type": "execute_result"
    }
   ],
   "source": [
    "# average salary\n",
    "salary['TotalIncome'].mean()"
   ]
  },
  {
   "cell_type": "code",
   "execution_count": 17,
   "metadata": {},
   "outputs": [
    {
     "data": {
      "text/plain": [
       "30.5"
      ]
     },
     "execution_count": 17,
     "metadata": {},
     "output_type": "execute_result"
    }
   ],
   "source": [
    "# Amount for payroll\n",
    "salary['TotalIncome'].sum()"
   ]
  },
  {
   "cell_type": "code",
   "execution_count": 18,
   "metadata": {},
   "outputs": [
    {
     "data": {
      "text/plain": [
       "'David'"
      ]
     },
     "execution_count": 18,
     "metadata": {},
     "output_type": "execute_result"
    }
   ],
   "source": [
    "# highest oncome name\n",
    "salary['Name'].loc[salary['TotalIncome']==salary['TotalIncome'].max()][0]"
   ]
  },
  {
   "cell_type": "code",
   "execution_count": 19,
   "metadata": {},
   "outputs": [
    {
     "data": {
      "text/plain": [
       "2.5434556"
      ]
     },
     "execution_count": 19,
     "metadata": {},
     "output_type": "execute_result"
    }
   ],
   "source": [
    "# standard Deviation\n",
    "salary['TotalIncome'].std()"
   ]
  },
  {
   "cell_type": "markdown",
   "metadata": {},
   "source": [
    "Series str"
   ]
  },
  {
   "cell_type": "markdown",
   "metadata": {},
   "source": [
    "IT department need to create email account for \n",
    "everyone, the email will be name + @abc.com\n",
    "create a column 'email' and fill the email for every one.\n",
    "The email should not include capital letter."
   ]
  },
  {
   "cell_type": "code",
   "execution_count": 20,
   "metadata": {},
   "outputs": [
    {
     "data": {
      "text/html": [
       "<div>\n",
       "<style scoped>\n",
       "    .dataframe tbody tr th:only-of-type {\n",
       "        vertical-align: middle;\n",
       "    }\n",
       "\n",
       "    .dataframe tbody tr th {\n",
       "        vertical-align: top;\n",
       "    }\n",
       "\n",
       "    .dataframe thead th {\n",
       "        text-align: right;\n",
       "    }\n",
       "</style>\n",
       "<table border=\"1\" class=\"dataframe\">\n",
       "  <thead>\n",
       "    <tr style=\"text-align: right;\">\n",
       "      <th></th>\n",
       "      <th>year</th>\n",
       "      <th>month</th>\n",
       "      <th>day</th>\n",
       "      <th>name</th>\n",
       "      <th>sales</th>\n",
       "      <th>income</th>\n",
       "      <th>desktop</th>\n",
       "      <th>bonus</th>\n",
       "      <th>email</th>\n",
       "    </tr>\n",
       "  </thead>\n",
       "  <tbody>\n",
       "    <tr>\n",
       "      <th>2023-01-01</th>\n",
       "      <td>2023</td>\n",
       "      <td>1</td>\n",
       "      <td>1</td>\n",
       "      <td>Alex</td>\n",
       "      <td>1</td>\n",
       "      <td>5.0</td>\n",
       "      <td>On</td>\n",
       "      <td>0.0</td>\n",
       "      <td>alex@abc.com</td>\n",
       "    </tr>\n",
       "    <tr>\n",
       "      <th>2023-01-02</th>\n",
       "      <td>2023</td>\n",
       "      <td>1</td>\n",
       "      <td>2</td>\n",
       "      <td>Bob</td>\n",
       "      <td>2</td>\n",
       "      <td>6.0</td>\n",
       "      <td>Off</td>\n",
       "      <td>0.0</td>\n",
       "      <td>bob@abc.com</td>\n",
       "    </tr>\n",
       "    <tr>\n",
       "      <th>2023-01-03</th>\n",
       "      <td>2023</td>\n",
       "      <td>1</td>\n",
       "      <td>3</td>\n",
       "      <td>Chris</td>\n",
       "      <td>3</td>\n",
       "      <td>7.0</td>\n",
       "      <td>On</td>\n",
       "      <td>2.1</td>\n",
       "      <td>chris@abc.com</td>\n",
       "    </tr>\n",
       "    <tr>\n",
       "      <th>2023-01-04</th>\n",
       "      <td>2023</td>\n",
       "      <td>1</td>\n",
       "      <td>4</td>\n",
       "      <td>David</td>\n",
       "      <td>4</td>\n",
       "      <td>8.0</td>\n",
       "      <td>Off</td>\n",
       "      <td>2.4</td>\n",
       "      <td>david@abc.com</td>\n",
       "    </tr>\n",
       "  </tbody>\n",
       "</table>\n",
       "</div>"
      ],
      "text/plain": [
       "            year  month  day   name  sales  income desktop  bonus  \\\n",
       "2023-01-01  2023      1    1   Alex      1     5.0      On    0.0   \n",
       "2023-01-02  2023      1    2    Bob      2     6.0     Off    0.0   \n",
       "2023-01-03  2023      1    3  Chris      3     7.0      On    2.1   \n",
       "2023-01-04  2023      1    4  David      4     8.0     Off    2.4   \n",
       "\n",
       "                    email  \n",
       "2023-01-01   alex@abc.com  \n",
       "2023-01-02    bob@abc.com  \n",
       "2023-01-03  chris@abc.com  \n",
       "2023-01-04  david@abc.com  "
      ]
     },
     "execution_count": 20,
     "metadata": {},
     "output_type": "execute_result"
    }
   ],
   "source": [
    "df['email'] = df['name'].apply(str.lower)+'@abc.com'\n",
    "df"
   ]
  },
  {
   "cell_type": "markdown",
   "metadata": {},
   "source": [
    "Query and Search string"
   ]
  },
  {
   "cell_type": "markdown",
   "metadata": {},
   "source": [
    "Find the following data:\n",
    "1. sales smaller and equal 2 and desktop is \"Off\"\n",
    "2. name start with 'A'"
   ]
  },
  {
   "cell_type": "code",
   "execution_count": 21,
   "metadata": {},
   "outputs": [
    {
     "data": {
      "text/html": [
       "<div>\n",
       "<style scoped>\n",
       "    .dataframe tbody tr th:only-of-type {\n",
       "        vertical-align: middle;\n",
       "    }\n",
       "\n",
       "    .dataframe tbody tr th {\n",
       "        vertical-align: top;\n",
       "    }\n",
       "\n",
       "    .dataframe thead th {\n",
       "        text-align: right;\n",
       "    }\n",
       "</style>\n",
       "<table border=\"1\" class=\"dataframe\">\n",
       "  <thead>\n",
       "    <tr style=\"text-align: right;\">\n",
       "      <th></th>\n",
       "      <th>year</th>\n",
       "      <th>month</th>\n",
       "      <th>day</th>\n",
       "      <th>name</th>\n",
       "      <th>sales</th>\n",
       "      <th>income</th>\n",
       "      <th>desktop</th>\n",
       "      <th>bonus</th>\n",
       "      <th>email</th>\n",
       "    </tr>\n",
       "  </thead>\n",
       "  <tbody>\n",
       "    <tr>\n",
       "      <th>2023-01-02</th>\n",
       "      <td>2023</td>\n",
       "      <td>1</td>\n",
       "      <td>2</td>\n",
       "      <td>Bob</td>\n",
       "      <td>2</td>\n",
       "      <td>6.0</td>\n",
       "      <td>Off</td>\n",
       "      <td>0.0</td>\n",
       "      <td>bob@abc.com</td>\n",
       "    </tr>\n",
       "  </tbody>\n",
       "</table>\n",
       "</div>"
      ],
      "text/plain": [
       "            year  month  day name  sales  income desktop  bonus        email\n",
       "2023-01-02  2023      1    2  Bob      2     6.0     Off    0.0  bob@abc.com"
      ]
     },
     "execution_count": 21,
     "metadata": {},
     "output_type": "execute_result"
    }
   ],
   "source": [
    "df.query('sales <= 2 and desktop == \"Off\"')"
   ]
  },
  {
   "cell_type": "code",
   "execution_count": 22,
   "metadata": {},
   "outputs": [
    {
     "data": {
      "text/html": [
       "<div>\n",
       "<style scoped>\n",
       "    .dataframe tbody tr th:only-of-type {\n",
       "        vertical-align: middle;\n",
       "    }\n",
       "\n",
       "    .dataframe tbody tr th {\n",
       "        vertical-align: top;\n",
       "    }\n",
       "\n",
       "    .dataframe thead th {\n",
       "        text-align: right;\n",
       "    }\n",
       "</style>\n",
       "<table border=\"1\" class=\"dataframe\">\n",
       "  <thead>\n",
       "    <tr style=\"text-align: right;\">\n",
       "      <th></th>\n",
       "      <th>year</th>\n",
       "      <th>month</th>\n",
       "      <th>day</th>\n",
       "      <th>name</th>\n",
       "      <th>sales</th>\n",
       "      <th>income</th>\n",
       "      <th>desktop</th>\n",
       "      <th>bonus</th>\n",
       "      <th>email</th>\n",
       "    </tr>\n",
       "  </thead>\n",
       "  <tbody>\n",
       "    <tr>\n",
       "      <th>2023-01-01</th>\n",
       "      <td>2023</td>\n",
       "      <td>1</td>\n",
       "      <td>1</td>\n",
       "      <td>Alex</td>\n",
       "      <td>1</td>\n",
       "      <td>5.0</td>\n",
       "      <td>On</td>\n",
       "      <td>0.0</td>\n",
       "      <td>alex@abc.com</td>\n",
       "    </tr>\n",
       "  </tbody>\n",
       "</table>\n",
       "</div>"
      ],
      "text/plain": [
       "            year  month  day  name  sales  income desktop  bonus         email\n",
       "2023-01-01  2023      1    1  Alex      1     5.0      On    0.0  alex@abc.com"
      ]
     },
     "execution_count": 22,
     "metadata": {},
     "output_type": "execute_result"
    }
   ],
   "source": [
    "df.loc[df['name'].str.startswith('A')==True]"
   ]
  },
  {
   "cell_type": "markdown",
   "metadata": {},
   "source": [
    "Series self transform"
   ]
  },
  {
   "cell_type": "markdown",
   "metadata": {},
   "source": [
    "The company want to increase basic income.\n",
    "For income smaller than 7, raise 5%, else raise 3%.\n",
    "Modify the income column with above condition."
   ]
  },
  {
   "cell_type": "code",
   "execution_count": 23,
   "metadata": {},
   "outputs": [
    {
     "data": {
      "text/html": [
       "<div>\n",
       "<style scoped>\n",
       "    .dataframe tbody tr th:only-of-type {\n",
       "        vertical-align: middle;\n",
       "    }\n",
       "\n",
       "    .dataframe tbody tr th {\n",
       "        vertical-align: top;\n",
       "    }\n",
       "\n",
       "    .dataframe thead th {\n",
       "        text-align: right;\n",
       "    }\n",
       "</style>\n",
       "<table border=\"1\" class=\"dataframe\">\n",
       "  <thead>\n",
       "    <tr style=\"text-align: right;\">\n",
       "      <th></th>\n",
       "      <th>year</th>\n",
       "      <th>month</th>\n",
       "      <th>day</th>\n",
       "      <th>name</th>\n",
       "      <th>sales</th>\n",
       "      <th>income</th>\n",
       "      <th>desktop</th>\n",
       "      <th>bonus</th>\n",
       "      <th>email</th>\n",
       "    </tr>\n",
       "  </thead>\n",
       "  <tbody>\n",
       "    <tr>\n",
       "      <th>2023-01-01</th>\n",
       "      <td>2023</td>\n",
       "      <td>1</td>\n",
       "      <td>1</td>\n",
       "      <td>Alex</td>\n",
       "      <td>1</td>\n",
       "      <td>5.25</td>\n",
       "      <td>On</td>\n",
       "      <td>0.0</td>\n",
       "      <td>alex@abc.com</td>\n",
       "    </tr>\n",
       "    <tr>\n",
       "      <th>2023-01-02</th>\n",
       "      <td>2023</td>\n",
       "      <td>1</td>\n",
       "      <td>2</td>\n",
       "      <td>Bob</td>\n",
       "      <td>2</td>\n",
       "      <td>6.30</td>\n",
       "      <td>Off</td>\n",
       "      <td>0.0</td>\n",
       "      <td>bob@abc.com</td>\n",
       "    </tr>\n",
       "    <tr>\n",
       "      <th>2023-01-03</th>\n",
       "      <td>2023</td>\n",
       "      <td>1</td>\n",
       "      <td>3</td>\n",
       "      <td>Chris</td>\n",
       "      <td>3</td>\n",
       "      <td>7.21</td>\n",
       "      <td>On</td>\n",
       "      <td>2.1</td>\n",
       "      <td>chris@abc.com</td>\n",
       "    </tr>\n",
       "    <tr>\n",
       "      <th>2023-01-04</th>\n",
       "      <td>2023</td>\n",
       "      <td>1</td>\n",
       "      <td>4</td>\n",
       "      <td>David</td>\n",
       "      <td>4</td>\n",
       "      <td>8.24</td>\n",
       "      <td>Off</td>\n",
       "      <td>2.4</td>\n",
       "      <td>david@abc.com</td>\n",
       "    </tr>\n",
       "  </tbody>\n",
       "</table>\n",
       "</div>"
      ],
      "text/plain": [
       "            year  month  day   name  sales  income desktop  bonus  \\\n",
       "2023-01-01  2023      1    1   Alex      1    5.25      On    0.0   \n",
       "2023-01-02  2023      1    2    Bob      2    6.30     Off    0.0   \n",
       "2023-01-03  2023      1    3  Chris      3    7.21      On    2.1   \n",
       "2023-01-04  2023      1    4  David      4    8.24     Off    2.4   \n",
       "\n",
       "                    email  \n",
       "2023-01-01   alex@abc.com  \n",
       "2023-01-02    bob@abc.com  \n",
       "2023-01-03  chris@abc.com  \n",
       "2023-01-04  david@abc.com  "
      ]
     },
     "execution_count": 23,
     "metadata": {},
     "output_type": "execute_result"
    }
   ],
   "source": [
    "df['income'] = df['income'].transform(lambda x: x*1.05 if x<7 else x*1.03)\n",
    "df"
   ]
  },
  {
   "cell_type": "markdown",
   "metadata": {},
   "source": [
    "Rename columns"
   ]
  },
  {
   "cell_type": "markdown",
   "metadata": {},
   "source": [
    "Rename the following column:\n",
    "desktop to laptop\n",
    "income to basicSalary"
   ]
  },
  {
   "cell_type": "code",
   "execution_count": 24,
   "metadata": {},
   "outputs": [
    {
     "data": {
      "text/html": [
       "<div>\n",
       "<style scoped>\n",
       "    .dataframe tbody tr th:only-of-type {\n",
       "        vertical-align: middle;\n",
       "    }\n",
       "\n",
       "    .dataframe tbody tr th {\n",
       "        vertical-align: top;\n",
       "    }\n",
       "\n",
       "    .dataframe thead th {\n",
       "        text-align: right;\n",
       "    }\n",
       "</style>\n",
       "<table border=\"1\" class=\"dataframe\">\n",
       "  <thead>\n",
       "    <tr style=\"text-align: right;\">\n",
       "      <th></th>\n",
       "      <th>year</th>\n",
       "      <th>month</th>\n",
       "      <th>day</th>\n",
       "      <th>name</th>\n",
       "      <th>sales</th>\n",
       "      <th>basicSalary</th>\n",
       "      <th>laptop</th>\n",
       "      <th>bonus</th>\n",
       "      <th>email</th>\n",
       "    </tr>\n",
       "  </thead>\n",
       "  <tbody>\n",
       "    <tr>\n",
       "      <th>2023-01-01</th>\n",
       "      <td>2023</td>\n",
       "      <td>1</td>\n",
       "      <td>1</td>\n",
       "      <td>Alex</td>\n",
       "      <td>1</td>\n",
       "      <td>5.25</td>\n",
       "      <td>On</td>\n",
       "      <td>0.0</td>\n",
       "      <td>alex@abc.com</td>\n",
       "    </tr>\n",
       "    <tr>\n",
       "      <th>2023-01-02</th>\n",
       "      <td>2023</td>\n",
       "      <td>1</td>\n",
       "      <td>2</td>\n",
       "      <td>Bob</td>\n",
       "      <td>2</td>\n",
       "      <td>6.30</td>\n",
       "      <td>Off</td>\n",
       "      <td>0.0</td>\n",
       "      <td>bob@abc.com</td>\n",
       "    </tr>\n",
       "    <tr>\n",
       "      <th>2023-01-03</th>\n",
       "      <td>2023</td>\n",
       "      <td>1</td>\n",
       "      <td>3</td>\n",
       "      <td>Chris</td>\n",
       "      <td>3</td>\n",
       "      <td>7.21</td>\n",
       "      <td>On</td>\n",
       "      <td>2.1</td>\n",
       "      <td>chris@abc.com</td>\n",
       "    </tr>\n",
       "    <tr>\n",
       "      <th>2023-01-04</th>\n",
       "      <td>2023</td>\n",
       "      <td>1</td>\n",
       "      <td>4</td>\n",
       "      <td>David</td>\n",
       "      <td>4</td>\n",
       "      <td>8.24</td>\n",
       "      <td>Off</td>\n",
       "      <td>2.4</td>\n",
       "      <td>david@abc.com</td>\n",
       "    </tr>\n",
       "  </tbody>\n",
       "</table>\n",
       "</div>"
      ],
      "text/plain": [
       "            year  month  day   name  sales  basicSalary laptop  bonus  \\\n",
       "2023-01-01  2023      1    1   Alex      1         5.25     On    0.0   \n",
       "2023-01-02  2023      1    2    Bob      2         6.30    Off    0.0   \n",
       "2023-01-03  2023      1    3  Chris      3         7.21     On    2.1   \n",
       "2023-01-04  2023      1    4  David      4         8.24    Off    2.4   \n",
       "\n",
       "                    email  \n",
       "2023-01-01   alex@abc.com  \n",
       "2023-01-02    bob@abc.com  \n",
       "2023-01-03  chris@abc.com  \n",
       "2023-01-04  david@abc.com  "
      ]
     },
     "execution_count": 24,
     "metadata": {},
     "output_type": "execute_result"
    }
   ],
   "source": [
    "df = df.rename(columns={'desktop':'laptop',\n",
    "                        'income':'basicSalary'})\n",
    "df"
   ]
  },
  {
   "cell_type": "markdown",
   "metadata": {},
   "source": [
    "Assign new columns to DataFrame with values from existings.\n",
    "Returns a new object with all original columns in addition to new ones."
   ]
  },
  {
   "cell_type": "markdown",
   "metadata": {},
   "source": [
    "Use df.assign() function to add new column 'totalSalary'\n",
    "that equal to basicSalary plus bonus."
   ]
  },
  {
   "cell_type": "code",
   "execution_count": 25,
   "metadata": {},
   "outputs": [
    {
     "data": {
      "text/html": [
       "<div>\n",
       "<style scoped>\n",
       "    .dataframe tbody tr th:only-of-type {\n",
       "        vertical-align: middle;\n",
       "    }\n",
       "\n",
       "    .dataframe tbody tr th {\n",
       "        vertical-align: top;\n",
       "    }\n",
       "\n",
       "    .dataframe thead th {\n",
       "        text-align: right;\n",
       "    }\n",
       "</style>\n",
       "<table border=\"1\" class=\"dataframe\">\n",
       "  <thead>\n",
       "    <tr style=\"text-align: right;\">\n",
       "      <th></th>\n",
       "      <th>year</th>\n",
       "      <th>month</th>\n",
       "      <th>day</th>\n",
       "      <th>name</th>\n",
       "      <th>sales</th>\n",
       "      <th>basicSalary</th>\n",
       "      <th>laptop</th>\n",
       "      <th>bonus</th>\n",
       "      <th>email</th>\n",
       "      <th>totalSalary</th>\n",
       "    </tr>\n",
       "  </thead>\n",
       "  <tbody>\n",
       "    <tr>\n",
       "      <th>2023-01-01</th>\n",
       "      <td>2023</td>\n",
       "      <td>1</td>\n",
       "      <td>1</td>\n",
       "      <td>Alex</td>\n",
       "      <td>1</td>\n",
       "      <td>5.25</td>\n",
       "      <td>On</td>\n",
       "      <td>0.0</td>\n",
       "      <td>alex@abc.com</td>\n",
       "      <td>5.25</td>\n",
       "    </tr>\n",
       "    <tr>\n",
       "      <th>2023-01-02</th>\n",
       "      <td>2023</td>\n",
       "      <td>1</td>\n",
       "      <td>2</td>\n",
       "      <td>Bob</td>\n",
       "      <td>2</td>\n",
       "      <td>6.30</td>\n",
       "      <td>Off</td>\n",
       "      <td>0.0</td>\n",
       "      <td>bob@abc.com</td>\n",
       "      <td>6.30</td>\n",
       "    </tr>\n",
       "    <tr>\n",
       "      <th>2023-01-03</th>\n",
       "      <td>2023</td>\n",
       "      <td>1</td>\n",
       "      <td>3</td>\n",
       "      <td>Chris</td>\n",
       "      <td>3</td>\n",
       "      <td>7.21</td>\n",
       "      <td>On</td>\n",
       "      <td>2.1</td>\n",
       "      <td>chris@abc.com</td>\n",
       "      <td>9.31</td>\n",
       "    </tr>\n",
       "    <tr>\n",
       "      <th>2023-01-04</th>\n",
       "      <td>2023</td>\n",
       "      <td>1</td>\n",
       "      <td>4</td>\n",
       "      <td>David</td>\n",
       "      <td>4</td>\n",
       "      <td>8.24</td>\n",
       "      <td>Off</td>\n",
       "      <td>2.4</td>\n",
       "      <td>david@abc.com</td>\n",
       "      <td>10.64</td>\n",
       "    </tr>\n",
       "  </tbody>\n",
       "</table>\n",
       "</div>"
      ],
      "text/plain": [
       "            year  month  day   name  sales  basicSalary laptop  bonus  \\\n",
       "2023-01-01  2023      1    1   Alex      1         5.25     On    0.0   \n",
       "2023-01-02  2023      1    2    Bob      2         6.30    Off    0.0   \n",
       "2023-01-03  2023      1    3  Chris      3         7.21     On    2.1   \n",
       "2023-01-04  2023      1    4  David      4         8.24    Off    2.4   \n",
       "\n",
       "                    email  totalSalary  \n",
       "2023-01-01   alex@abc.com         5.25  \n",
       "2023-01-02    bob@abc.com         6.30  \n",
       "2023-01-03  chris@abc.com         9.31  \n",
       "2023-01-04  david@abc.com        10.64  "
      ]
     },
     "execution_count": 25,
     "metadata": {},
     "output_type": "execute_result"
    }
   ],
   "source": [
    "df = df.assign(totalSalary=df['basicSalary']+df['bonus'])\n",
    "df"
   ]
  },
  {
   "cell_type": "markdown",
   "metadata": {},
   "source": [
    "Manipulate categoric data"
   ]
  },
  {
   "cell_type": "markdown",
   "metadata": {},
   "source": [
    "Find out:\n",
    "1. unique data in 'laptop'\n",
    "2. number of unique data in 'laptop'\n",
    "3. how many count in each unique data"
   ]
  },
  {
   "cell_type": "code",
   "execution_count": 26,
   "metadata": {},
   "outputs": [
    {
     "data": {
      "text/plain": [
       "['On', 'Off']\n",
       "Categories (2, object): ['Off', 'On']"
      ]
     },
     "execution_count": 26,
     "metadata": {},
     "output_type": "execute_result"
    }
   ],
   "source": [
    "df['laptop'].unique()"
   ]
  },
  {
   "cell_type": "code",
   "execution_count": 27,
   "metadata": {},
   "outputs": [
    {
     "data": {
      "text/plain": [
       "2"
      ]
     },
     "execution_count": 27,
     "metadata": {},
     "output_type": "execute_result"
    }
   ],
   "source": [
    "df['laptop'].nunique()"
   ]
  },
  {
   "cell_type": "code",
   "execution_count": 28,
   "metadata": {},
   "outputs": [
    {
     "data": {
      "text/plain": [
       "laptop\n",
       "Off    2\n",
       "On     2\n",
       "Name: count, dtype: int64"
      ]
     },
     "execution_count": 28,
     "metadata": {},
     "output_type": "execute_result"
    }
   ],
   "source": [
    "df['laptop'].value_counts()"
   ]
  },
  {
   "cell_type": "markdown",
   "metadata": {},
   "source": [
    "Create categoric data column with others values"
   ]
  },
  {
   "cell_type": "markdown",
   "metadata": {},
   "source": [
    "Create new column 'role' and classsify employee role in 3 classes\n",
    "by 'basicSalary'.\n",
    "below 6 is Junior,\n",
    "below 8 is Senior,\n",
    "above 8 is Manager.\n",
    "Hint: use pd.cut()"
   ]
  },
  {
   "cell_type": "code",
   "execution_count": 29,
   "metadata": {},
   "outputs": [
    {
     "data": {
      "text/html": [
       "<div>\n",
       "<style scoped>\n",
       "    .dataframe tbody tr th:only-of-type {\n",
       "        vertical-align: middle;\n",
       "    }\n",
       "\n",
       "    .dataframe tbody tr th {\n",
       "        vertical-align: top;\n",
       "    }\n",
       "\n",
       "    .dataframe thead th {\n",
       "        text-align: right;\n",
       "    }\n",
       "</style>\n",
       "<table border=\"1\" class=\"dataframe\">\n",
       "  <thead>\n",
       "    <tr style=\"text-align: right;\">\n",
       "      <th></th>\n",
       "      <th>year</th>\n",
       "      <th>month</th>\n",
       "      <th>day</th>\n",
       "      <th>name</th>\n",
       "      <th>sales</th>\n",
       "      <th>basicSalary</th>\n",
       "      <th>laptop</th>\n",
       "      <th>bonus</th>\n",
       "      <th>email</th>\n",
       "      <th>totalSalary</th>\n",
       "      <th>role</th>\n",
       "    </tr>\n",
       "  </thead>\n",
       "  <tbody>\n",
       "    <tr>\n",
       "      <th>2023-01-01</th>\n",
       "      <td>2023</td>\n",
       "      <td>1</td>\n",
       "      <td>1</td>\n",
       "      <td>Alex</td>\n",
       "      <td>1</td>\n",
       "      <td>5.25</td>\n",
       "      <td>On</td>\n",
       "      <td>0.0</td>\n",
       "      <td>alex@abc.com</td>\n",
       "      <td>5.25</td>\n",
       "      <td>Junior</td>\n",
       "    </tr>\n",
       "    <tr>\n",
       "      <th>2023-01-02</th>\n",
       "      <td>2023</td>\n",
       "      <td>1</td>\n",
       "      <td>2</td>\n",
       "      <td>Bob</td>\n",
       "      <td>2</td>\n",
       "      <td>6.30</td>\n",
       "      <td>Off</td>\n",
       "      <td>0.0</td>\n",
       "      <td>bob@abc.com</td>\n",
       "      <td>6.30</td>\n",
       "      <td>Senior</td>\n",
       "    </tr>\n",
       "    <tr>\n",
       "      <th>2023-01-03</th>\n",
       "      <td>2023</td>\n",
       "      <td>1</td>\n",
       "      <td>3</td>\n",
       "      <td>Chris</td>\n",
       "      <td>3</td>\n",
       "      <td>7.21</td>\n",
       "      <td>On</td>\n",
       "      <td>2.1</td>\n",
       "      <td>chris@abc.com</td>\n",
       "      <td>9.31</td>\n",
       "      <td>Senior</td>\n",
       "    </tr>\n",
       "    <tr>\n",
       "      <th>2023-01-04</th>\n",
       "      <td>2023</td>\n",
       "      <td>1</td>\n",
       "      <td>4</td>\n",
       "      <td>David</td>\n",
       "      <td>4</td>\n",
       "      <td>8.24</td>\n",
       "      <td>Off</td>\n",
       "      <td>2.4</td>\n",
       "      <td>david@abc.com</td>\n",
       "      <td>10.64</td>\n",
       "      <td>Manager</td>\n",
       "    </tr>\n",
       "  </tbody>\n",
       "</table>\n",
       "</div>"
      ],
      "text/plain": [
       "            year  month  day   name  sales  basicSalary laptop  bonus  \\\n",
       "2023-01-01  2023      1    1   Alex      1         5.25     On    0.0   \n",
       "2023-01-02  2023      1    2    Bob      2         6.30    Off    0.0   \n",
       "2023-01-03  2023      1    3  Chris      3         7.21     On    2.1   \n",
       "2023-01-04  2023      1    4  David      4         8.24    Off    2.4   \n",
       "\n",
       "                    email  totalSalary     role  \n",
       "2023-01-01   alex@abc.com         5.25   Junior  \n",
       "2023-01-02    bob@abc.com         6.30   Senior  \n",
       "2023-01-03  chris@abc.com         9.31   Senior  \n",
       "2023-01-04  david@abc.com        10.64  Manager  "
      ]
     },
     "execution_count": 29,
     "metadata": {},
     "output_type": "execute_result"
    }
   ],
   "source": [
    "df['role'] = pd.cut(df['basicSalary'],\n",
    "                    bins=[0, 6, 8, float('Inf')],\n",
    "                    labels=['Junior', 'Senior', 'Manager'])\n",
    "df"
   ]
  },
  {
   "cell_type": "markdown",
   "metadata": {},
   "source": [
    "Create categoric data column with quantile classes"
   ]
  },
  {
   "cell_type": "markdown",
   "metadata": {},
   "source": [
    "Use pd.qcut to classify the 'totalSalary' in\n",
    "\"Low Income\", \"Medium Income\", \"High Income\", which base on\n",
    "'totalSalary' quantile.\n",
    "Create new column named 'salaryClass'."
   ]
  },
  {
   "cell_type": "code",
   "execution_count": 30,
   "metadata": {},
   "outputs": [
    {
     "data": {
      "text/html": [
       "<div>\n",
       "<style scoped>\n",
       "    .dataframe tbody tr th:only-of-type {\n",
       "        vertical-align: middle;\n",
       "    }\n",
       "\n",
       "    .dataframe tbody tr th {\n",
       "        vertical-align: top;\n",
       "    }\n",
       "\n",
       "    .dataframe thead th {\n",
       "        text-align: right;\n",
       "    }\n",
       "</style>\n",
       "<table border=\"1\" class=\"dataframe\">\n",
       "  <thead>\n",
       "    <tr style=\"text-align: right;\">\n",
       "      <th></th>\n",
       "      <th>year</th>\n",
       "      <th>month</th>\n",
       "      <th>day</th>\n",
       "      <th>name</th>\n",
       "      <th>sales</th>\n",
       "      <th>basicSalary</th>\n",
       "      <th>laptop</th>\n",
       "      <th>bonus</th>\n",
       "      <th>email</th>\n",
       "      <th>totalSalary</th>\n",
       "      <th>role</th>\n",
       "      <th>salaryClass</th>\n",
       "    </tr>\n",
       "  </thead>\n",
       "  <tbody>\n",
       "    <tr>\n",
       "      <th>2023-01-01</th>\n",
       "      <td>2023</td>\n",
       "      <td>1</td>\n",
       "      <td>1</td>\n",
       "      <td>Alex</td>\n",
       "      <td>1</td>\n",
       "      <td>5.25</td>\n",
       "      <td>On</td>\n",
       "      <td>0.0</td>\n",
       "      <td>alex@abc.com</td>\n",
       "      <td>5.25</td>\n",
       "      <td>Junior</td>\n",
       "      <td>Low Income</td>\n",
       "    </tr>\n",
       "    <tr>\n",
       "      <th>2023-01-02</th>\n",
       "      <td>2023</td>\n",
       "      <td>1</td>\n",
       "      <td>2</td>\n",
       "      <td>Bob</td>\n",
       "      <td>2</td>\n",
       "      <td>6.30</td>\n",
       "      <td>Off</td>\n",
       "      <td>0.0</td>\n",
       "      <td>bob@abc.com</td>\n",
       "      <td>6.30</td>\n",
       "      <td>Senior</td>\n",
       "      <td>Low Income</td>\n",
       "    </tr>\n",
       "    <tr>\n",
       "      <th>2023-01-03</th>\n",
       "      <td>2023</td>\n",
       "      <td>1</td>\n",
       "      <td>3</td>\n",
       "      <td>Chris</td>\n",
       "      <td>3</td>\n",
       "      <td>7.21</td>\n",
       "      <td>On</td>\n",
       "      <td>2.1</td>\n",
       "      <td>chris@abc.com</td>\n",
       "      <td>9.31</td>\n",
       "      <td>Senior</td>\n",
       "      <td>Medium Income</td>\n",
       "    </tr>\n",
       "    <tr>\n",
       "      <th>2023-01-04</th>\n",
       "      <td>2023</td>\n",
       "      <td>1</td>\n",
       "      <td>4</td>\n",
       "      <td>David</td>\n",
       "      <td>4</td>\n",
       "      <td>8.24</td>\n",
       "      <td>Off</td>\n",
       "      <td>2.4</td>\n",
       "      <td>david@abc.com</td>\n",
       "      <td>10.64</td>\n",
       "      <td>Manager</td>\n",
       "      <td>High Income</td>\n",
       "    </tr>\n",
       "  </tbody>\n",
       "</table>\n",
       "</div>"
      ],
      "text/plain": [
       "            year  month  day   name  sales  basicSalary laptop  bonus  \\\n",
       "2023-01-01  2023      1    1   Alex      1         5.25     On    0.0   \n",
       "2023-01-02  2023      1    2    Bob      2         6.30    Off    0.0   \n",
       "2023-01-03  2023      1    3  Chris      3         7.21     On    2.1   \n",
       "2023-01-04  2023      1    4  David      4         8.24    Off    2.4   \n",
       "\n",
       "                    email  totalSalary     role    salaryClass  \n",
       "2023-01-01   alex@abc.com         5.25   Junior     Low Income  \n",
       "2023-01-02    bob@abc.com         6.30   Senior     Low Income  \n",
       "2023-01-03  chris@abc.com         9.31   Senior  Medium Income  \n",
       "2023-01-04  david@abc.com        10.64  Manager    High Income  "
      ]
     },
     "execution_count": 30,
     "metadata": {},
     "output_type": "execute_result"
    }
   ],
   "source": [
    "df['salaryClass'] = pd.qcut(df['totalSalary'], 3, labels=[\n",
    "    \"Low Income\", \"Medium Income\", \"High Income\"])\n",
    "df"
   ]
  },
  {
   "cell_type": "markdown",
   "metadata": {},
   "source": [
    "Evaluate a Python expression as a string using various backends"
   ]
  },
  {
   "cell_type": "markdown",
   "metadata": {},
   "source": [
    "Create a temp column 'ExpectedAnnualSalary' to calculate\n",
    "expected full year salary which is totalSalary x 13"
   ]
  },
  {
   "cell_type": "code",
   "execution_count": 31,
   "metadata": {},
   "outputs": [
    {
     "data": {
      "text/html": [
       "<div>\n",
       "<style scoped>\n",
       "    .dataframe tbody tr th:only-of-type {\n",
       "        vertical-align: middle;\n",
       "    }\n",
       "\n",
       "    .dataframe tbody tr th {\n",
       "        vertical-align: top;\n",
       "    }\n",
       "\n",
       "    .dataframe thead th {\n",
       "        text-align: right;\n",
       "    }\n",
       "</style>\n",
       "<table border=\"1\" class=\"dataframe\">\n",
       "  <thead>\n",
       "    <tr style=\"text-align: right;\">\n",
       "      <th></th>\n",
       "      <th>year</th>\n",
       "      <th>month</th>\n",
       "      <th>day</th>\n",
       "      <th>name</th>\n",
       "      <th>sales</th>\n",
       "      <th>basicSalary</th>\n",
       "      <th>laptop</th>\n",
       "      <th>bonus</th>\n",
       "      <th>email</th>\n",
       "      <th>totalSalary</th>\n",
       "      <th>role</th>\n",
       "      <th>salaryClass</th>\n",
       "      <th>ExpectedAnnualSalary</th>\n",
       "    </tr>\n",
       "  </thead>\n",
       "  <tbody>\n",
       "    <tr>\n",
       "      <th>2023-01-01</th>\n",
       "      <td>2023</td>\n",
       "      <td>1</td>\n",
       "      <td>1</td>\n",
       "      <td>Alex</td>\n",
       "      <td>1</td>\n",
       "      <td>5.25</td>\n",
       "      <td>On</td>\n",
       "      <td>0.0</td>\n",
       "      <td>alex@abc.com</td>\n",
       "      <td>5.25</td>\n",
       "      <td>Junior</td>\n",
       "      <td>Low Income</td>\n",
       "      <td>68.250000</td>\n",
       "    </tr>\n",
       "    <tr>\n",
       "      <th>2023-01-02</th>\n",
       "      <td>2023</td>\n",
       "      <td>1</td>\n",
       "      <td>2</td>\n",
       "      <td>Bob</td>\n",
       "      <td>2</td>\n",
       "      <td>6.30</td>\n",
       "      <td>Off</td>\n",
       "      <td>0.0</td>\n",
       "      <td>bob@abc.com</td>\n",
       "      <td>6.30</td>\n",
       "      <td>Senior</td>\n",
       "      <td>Low Income</td>\n",
       "      <td>81.900000</td>\n",
       "    </tr>\n",
       "    <tr>\n",
       "      <th>2023-01-03</th>\n",
       "      <td>2023</td>\n",
       "      <td>1</td>\n",
       "      <td>3</td>\n",
       "      <td>Chris</td>\n",
       "      <td>3</td>\n",
       "      <td>7.21</td>\n",
       "      <td>On</td>\n",
       "      <td>2.1</td>\n",
       "      <td>chris@abc.com</td>\n",
       "      <td>9.31</td>\n",
       "      <td>Senior</td>\n",
       "      <td>Medium Income</td>\n",
       "      <td>121.030002</td>\n",
       "    </tr>\n",
       "    <tr>\n",
       "      <th>2023-01-04</th>\n",
       "      <td>2023</td>\n",
       "      <td>1</td>\n",
       "      <td>4</td>\n",
       "      <td>David</td>\n",
       "      <td>4</td>\n",
       "      <td>8.24</td>\n",
       "      <td>Off</td>\n",
       "      <td>2.4</td>\n",
       "      <td>david@abc.com</td>\n",
       "      <td>10.64</td>\n",
       "      <td>Manager</td>\n",
       "      <td>High Income</td>\n",
       "      <td>138.320001</td>\n",
       "    </tr>\n",
       "  </tbody>\n",
       "</table>\n",
       "</div>"
      ],
      "text/plain": [
       "            year  month  day   name  sales  basicSalary laptop  bonus  \\\n",
       "2023-01-01  2023      1    1   Alex      1         5.25     On    0.0   \n",
       "2023-01-02  2023      1    2    Bob      2         6.30    Off    0.0   \n",
       "2023-01-03  2023      1    3  Chris      3         7.21     On    2.1   \n",
       "2023-01-04  2023      1    4  David      4         8.24    Off    2.4   \n",
       "\n",
       "                    email  totalSalary     role    salaryClass  \\\n",
       "2023-01-01   alex@abc.com         5.25   Junior     Low Income   \n",
       "2023-01-02    bob@abc.com         6.30   Senior     Low Income   \n",
       "2023-01-03  chris@abc.com         9.31   Senior  Medium Income   \n",
       "2023-01-04  david@abc.com        10.64  Manager    High Income   \n",
       "\n",
       "            ExpectedAnnualSalary  \n",
       "2023-01-01             68.250000  \n",
       "2023-01-02             81.900000  \n",
       "2023-01-03            121.030002  \n",
       "2023-01-04            138.320001  "
      ]
     },
     "execution_count": 31,
     "metadata": {},
     "output_type": "execute_result"
    }
   ],
   "source": [
    "pd.eval(\"ExpectedAnnualSalary = df.totalSalary * 13\", target=df)"
   ]
  }
 ],
 "metadata": {
  "kernelspec": {
   "display_name": "Python 3",
   "language": "python",
   "name": "python3"
  },
  "language_info": {
   "codemirror_mode": {
    "name": "ipython",
    "version": 3
   },
   "file_extension": ".py",
   "mimetype": "text/x-python",
   "name": "python",
   "nbconvert_exporter": "python",
   "pygments_lexer": "ipython3",
   "version": "3.11.4"
  },
  "orig_nbformat": 4
 },
 "nbformat": 4,
 "nbformat_minor": 2
}
