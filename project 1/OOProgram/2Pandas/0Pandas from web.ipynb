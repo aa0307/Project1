{
 "cells": [
  {
   "cell_type": "markdown",
   "metadata": {},
   "source": [
    "### Index"
   ]
  },
  {
   "cell_type": "markdown",
   "metadata": {},
   "source": [
    "https://www.boardinfinity.com/blog/learn-about-reset-index-pandas/"
   ]
  },
  {
   "cell_type": "code",
   "execution_count": null,
   "metadata": {},
   "outputs": [],
   "source": [
    "# Quick examples of reset index\n",
    "# Reset index\n",
    "df2=df.reset_index()\n",
    "\n",
    "# Reset index without assigning to column\n",
    "df.reset_index(inplace=True, drop=True)\n",
    "\n",
    "# set index column name\n",
    "df.index.name = 'custom_index'\n",
    "\n",
    "# Reset index starting from 1\n",
    "df.index = np.arange(1, len(df) + 1)"
   ]
  },
  {
   "cell_type": "code",
   "execution_count": null,
   "metadata": {},
   "outputs": [],
   "source": [
    "import pandas as pd\n",
    "\n",
    "# Create DataFrame from dict\n",
    "df = pd.DataFrame({'Courses':['Spark','PySpark','Java','PHP'],\n",
    "           'Fee':[20000,20000,15000,10000],\n",
    "           'Duration':['35days','35days','40days','30days']})\n",
    "\n",
    "df=df.drop([2])\n",
    "print(df)"
   ]
  },
  {
   "cell_type": "code",
   "execution_count": null,
   "metadata": {},
   "outputs": [],
   "source": [
    "# reset index on DataFrame\n",
    "df2=df.reset_index()\n",
    "print(df2)"
   ]
  },
  {
   "cell_type": "code",
   "execution_count": null,
   "metadata": {},
   "outputs": [],
   "source": [
    "# drop index as column\n",
    "df.reset_index(inplace=True, drop=True)\n",
    "print(df)"
   ]
  },
  {
   "cell_type": "code",
   "execution_count": null,
   "metadata": {},
   "outputs": [],
   "source": [
    "# Set index name\n",
    "df.index.name = 'custom_index'\n",
    "print(df)"
   ]
  },
  {
   "cell_type": "code",
   "execution_count": null,
   "metadata": {},
   "outputs": [],
   "source": [
    "# Example\n",
    "import pandas as pd\n",
    "import numpy as np\n",
    "\n",
    "# Create DataFrame from dict\n",
    "df = pd.DataFrame({'Courses':['Spark','PySpark','Java','PHP'],\n",
    "           'Fee':[20000,20000,15000,10000],\n",
    "           'Duration':['35days','35days','40days','30days']})\n",
    "\n",
    "df=df.drop([2])\n",
    "print(df)\n",
    "\n",
    "# Reset index\n",
    "df2=df.reset_index()\n",
    "print(df2)\n",
    "\n",
    "# Reset index without assigning to column\n",
    "df.reset_index(inplace=True, drop=True)\n",
    "print(df)\n",
    "\n",
    "# set index column name\n",
    "df.index.name = 'custom_index'\n",
    "print(df)\n",
    "\n",
    "# Reset index starting from 1\n",
    "df.index = np.arange(1, len(df) + 1)\n",
    "print(df)"
   ]
  }
 ],
 "metadata": {
  "language_info": {
   "name": "python"
  },
  "orig_nbformat": 4
 },
 "nbformat": 4,
 "nbformat_minor": 2
}
