{
 "cells": [
  {
   "cell_type": "code",
   "execution_count": 1,
   "metadata": {},
   "outputs": [
    {
     "name": "stdout",
     "output_type": "stream",
     "text": [
      "          Worktime     Spend      Tips   Incomes\n",
      "Worktime  1.000000 -0.155408  0.009403  0.922717\n",
      "Spend    -0.155408  1.000000  0.786535  0.025121\n",
      "Tips      0.009403  0.786535  1.000000  0.203813\n",
      "Incomes   0.922717  0.025121  0.203813  1.000000\n"
     ]
    }
   ],
   "source": [
    "#CVS file  to store big data set, data.csv\n",
    "#Show the relationship between the columns, Exercise:\n",
    "import pandas as pd\n",
    "\n",
    "path=\"C:/Users/User/Desktop/project 1/VS/data_folder/\"\n",
    "file_name=\"data.csv\"\n",
    "df = pd.read_csv(f\"{path}{file_name}\")\n",
    "\n",
    "new_df=df.corr()\n",
    "#print(new_df.to_string())\n",
    "print(new_df)\n",
    "\n",
    "#1 is perfect correlation, each time a value went up in one, the other one went up as\n",
    "#-0.9 good relationship as 0.9, but if one up, the other will probably go down."
   ]
  }
 ],
 "metadata": {
  "kernelspec": {
   "display_name": "Python 3",
   "language": "python",
   "name": "python3"
  },
  "language_info": {
   "codemirror_mode": {
    "name": "ipython",
    "version": 3
   },
   "file_extension": ".py",
   "mimetype": "text/x-python",
   "name": "python",
   "nbconvert_exporter": "python",
   "pygments_lexer": "ipython3",
   "version": "3.11.4"
  },
  "orig_nbformat": 4
 },
 "nbformat": 4,
 "nbformat_minor": 2
}
