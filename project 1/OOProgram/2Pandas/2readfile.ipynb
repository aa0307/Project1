{
 "cells": [
  {
   "cell_type": "code",
   "execution_count": 1,
   "metadata": {},
   "outputs": [
    {
     "name": "stdout",
     "output_type": "stream",
     "text": [
      "     Worktime  Spend  Tips  Incomes\n",
      "0          60    110   130    409.1\n",
      "1          60    117   145    479.0\n",
      "2          60    103   135    340.0\n",
      "3          45    109   175    282.4\n",
      "4          45    117   148    406.0\n",
      "..        ...    ...   ...      ...\n",
      "164        60    105   140    290.8\n",
      "165        60    110   145    300.0\n",
      "166        60    115   145    310.2\n",
      "167        75    120   150    320.4\n",
      "168        75    125   150    330.4\n",
      "\n",
      "[169 rows x 4 columns]\n",
      "display.max_rows:  60\n"
     ]
    }
   ],
   "source": [
    "import pandas as pd\n",
    "path=\"C:/Users/User/Desktop/project 1/VS/data_folder/\" # please enter your working directory path here\n",
    "file_name=\"data.csv\"\n",
    "df = pd.read_csv(f\"{path}{file_name}\")\n",
    "print(df) # if > limit, return only the first and last 5 rows\n",
    "# maximum returned rows\n",
    "print('display.max_rows: ',pd.options.display.max_rows)\n",
    "pd.options.display.max_rows = 9999\n",
    "#print(df.to_string())\n"
   ]
  },
  {
   "cell_type": "code",
   "execution_count": 2,
   "metadata": {},
   "outputs": [],
   "source": [
    "import pandas as pd\n",
    "path=\"C:/Users/User/Desktop/project 1/VS/data_folder/\"\n",
    "file_name=\"data.csv\"\n",
    "df = pd.read_csv(f\"{path}{file_name}\")\n",
    "#print(df)\n",
    "#print('display.max_rows: ',pd.options.display.max_rows)\n",
    "#pd.options.display.max_rows = 9999\n",
    "#print(df.to_string())\n",
    "\n",
    "pd.set_option('display.max_rows', None)"
   ]
  },
  {
   "cell_type": "code",
   "execution_count": 3,
   "metadata": {},
   "outputs": [
    {
     "name": "stdout",
     "output_type": "stream",
     "text": [
      "   Worktime  Spend  Tips  Incomes\n",
      "0        60    110   130    409.1\n",
      "1        60    117   145    479.0\n",
      "2        60    103   135    340.0\n",
      "3        45    109   175    282.4\n",
      "4        45    117   148    406.0\n",
      "5        60    102   127    300.0\n",
      "6        60    110   136    374.0\n",
      "7        45    104   134    253.3\n",
      "8        30    109   133    195.1\n",
      "9        60     98   124    269.0\n",
      "     Worktime  Spend  Tips  Incomes\n",
      "164        60    105   140    290.8\n",
      "165        60    110   145    300.0\n",
      "166        60    115   145    310.2\n",
      "167        75    120   150    320.4\n",
      "168        75    125   150    330.4\n",
      "<class 'pandas.core.frame.DataFrame'>\n",
      "RangeIndex: 169 entries, 0 to 168\n",
      "Data columns (total 4 columns):\n",
      " #   Column    Non-Null Count  Dtype  \n",
      "---  ------    --------------  -----  \n",
      " 0   Worktime  169 non-null    int64  \n",
      " 1   Spend     169 non-null    int64  \n",
      " 2   Tips      169 non-null    int64  \n",
      " 3   Incomes   164 non-null    float64\n",
      "dtypes: float64(1), int64(3)\n",
      "memory usage: 5.4 KB\n",
      "None\n"
     ]
    }
   ],
   "source": [
    "import pandas as pd\n",
    "path=\"C:/Users/User/Desktop/project 1/VS/data_folder/\"\n",
    "file_name=\"data.csv\"\n",
    "df = pd.read_csv(f\"{path}{file_name}\")\n",
    "print(df.head(10))          #give first 10 rows of the DataFrame\n",
    "print(df.tail())            #give last 5 rows (without specify) of the DataFrame\n",
    "print(df.info())            #give info about the data, how many non-null\n"
   ]
  },
  {
   "cell_type": "markdown",
   "metadata": {},
   "source": [
    "\n",
    "## <span style=\"color: yellow;\"> Pandas Read Excel file</span>"
   ]
  },
  {
   "cell_type": "markdown",
   "metadata": {},
   "source": [
    ".read_excel  \n",
    "Openpyxl is a Python library used to read or write an Excel file   \n",
    "***pip install openpyxl***"
   ]
  },
  {
   "cell_type": "code",
   "execution_count": 4,
   "metadata": {},
   "outputs": [
    {
     "name": "stdout",
     "output_type": "stream",
     "text": [
      "    Workmin                 Date  Spend  Tips  Incomes\n",
      "0        60         '2020/12/01'    110   130    409.1\n",
      "1        60         '2020/12/02'    117   145    479.0\n",
      "2        60         '2020/12/03'    103   135    340.0\n",
      "3        45         '2020/12/04'    109   175    282.4\n",
      "4        45         '2020/12/05'    117   148    406.0\n",
      "5        60         '2020/12/06'    102   127    300.0\n",
      "6        60         '2020/12/07'    110   136    374.0\n",
      "7       450         '2020/12/08'    104   134    253.3\n",
      "8        30         '2020/12/09'    109   133    195.1\n",
      "9        60         '2020/12/10'     98   124    269.0\n",
      "10       60         '2020/12/11'    103   147    329.3\n",
      "11       60         '2020/12/12'    100   120    250.7\n",
      "12       60         '2020/12/12'    100   120    250.7\n",
      "13       60         '2020/12/13'    106   128    345.3\n",
      "14       60         '2020/12/14'    104   132    379.3\n",
      "15       60         '2020/12/15'     98   123    275.0\n",
      "16       60         '2020/12/16'     98   120    215.2\n",
      "17       60         '2020/12/17'    100   120    300.0\n",
      "18       45         '2020/12/18'     90   112      NaN\n",
      "19       60         '2020/12/19'    103   123    323.0\n",
      "20       45         '2020/12/20'     97   125    243.0\n",
      "21       60         '2020/12/21'    108   131    364.2\n",
      "22       45                  NaN    100   119    282.0\n",
      "23       60         '2020/12/23'    130   101    300.0\n",
      "24       45         '2020/12/24'    105   132    246.0\n",
      "25       60         '2020/12/25'    102   126    334.5\n",
      "26       60  2020-12-26 00:00:00    100   120    250.0\n",
      "27       60         '2020/12/27'     92   118    241.0\n",
      "28       60         '2020/12/28'    103   132      NaN\n",
      "29       60         '2020/12/29'    100   132    280.0\n",
      "30       60         '2020/12/30'    102   129    380.3\n",
      "31       60         '2020/12/31'     92   115    243.0\n"
     ]
    }
   ],
   "source": [
    "import pandas as pd\n",
    "# data file data.xlsx\n",
    "path=\"C:/Users/User/Desktop/project 1/VS/data_folder/\" # please enter your path here\n",
    "file_name=\"data1.xlsx\"\n",
    "df = pd.read_excel(f\"{path}{file_name}\")\n",
    "print(df) # if >limit, return only the first and last 5 rows\n",
    "#print(pd.option.display.max_rows) # maximum returned rows"
   ]
  }
 ],
 "metadata": {
  "kernelspec": {
   "display_name": "Python 3",
   "language": "python",
   "name": "python3"
  },
  "language_info": {
   "codemirror_mode": {
    "name": "ipython",
    "version": 3
   },
   "file_extension": ".py",
   "mimetype": "text/x-python",
   "name": "python",
   "nbconvert_exporter": "python",
   "pygments_lexer": "ipython3",
   "version": "3.11.4"
  },
  "orig_nbformat": 4
 },
 "nbformat": 4,
 "nbformat_minor": 2
}
