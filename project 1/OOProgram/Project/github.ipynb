{
 "cells": [
  {
   "cell_type": "markdown",
   "metadata": {},
   "source": [
    "### Github"
   ]
  },
  {
   "cell_type": "markdown",
   "metadata": {},
   "source": [
    "Github is a website and cloud-based service that helps developers store and manage their code, as well as track and control changes to their code.\n",
    "- Version control\n",
    "- Git\n",
    "Version control lets developers safely work through branching and merging.\n",
    "With Branching, a developer duplicates part of the source code. One the developer gets the code working properly, they can merge that they can merge that code back into the main source code to make it official.\n",
    "\n",
    "Git is a command to allow easy branching and merging on every developer's PC.\n",
    "\n",
    "sign up github at\n",
    "https://github.com\n",
    "g2.com\n",
    "Video to learn\n",
    "https://www.youtube.com/watch?v=ttazgPQgCoo&list=PL91gvBcdjUtY7KkkUxtZgAWx-q-QhDrWu\n",
    "https://progressbar.tw/posts/1"
   ]
  },
  {
   "cell_type": "markdown",
   "metadata": {},
   "source": [
    "### Self notes"
   ]
  },
  {
   "cell_type": "markdown",
   "metadata": {},
   "source": [
    "#### Basic Settings"
   ]
  },
  {
   "cell_type": "code",
   "execution_count": null,
   "metadata": {},
   "outputs": [],
   "source": [
    "#### Set Name\n",
    "# git config --global user.name \"Name\"  # to create name  \n",
    "# git config --global user.name \"a\"  \n",
    "# git config user.name  # to check name\n",
    "\n",
    "#### Set Mail\n",
    "# git config --global user.email \"Mail\"  # to create mail\n",
    "# git config --global user.email \"wankaho001@gmail.com\"\n",
    "# git config user.email  # to check mail\n",
    "\n",
    "#### Create new file\n",
    "# mkdir 'file'\n",
    "\n",
    "#### Change file location\n",
    "# cd file\n",
    "# cd ..  # go back to upper file\n",
    "\n",
    "#### List file location\n",
    "# ls\n",
    "# ls -a  # able to see hidden items\n",
    "# # not in powershell\n",
    "\n",
    "#### Open git project\n",
    "# cd 'file'\n",
    "# git init # create .git file inside that folder\n",
    "\n",
    "#### Open VSCode\n",
    "# code . "
   ]
  },
  {
   "cell_type": "markdown",
   "metadata": {},
   "source": [
    "#### Source Control"
   ]
  },
  {
   "cell_type": "code",
   "execution_count": null,
   "metadata": {},
   "outputs": [],
   "source": [
    "# git add 'file.abc' go to Staged Changes\n",
    "# or "
   ]
  },
  {
   "cell_type": "markdown",
   "metadata": {},
   "source": [
    "![Alt text](image-1.png)\n",
    "![Alt text](image-2.png)"
   ]
  },
  {
   "cell_type": "code",
   "execution_count": null,
   "metadata": {},
   "outputs": [],
   "source": [
    "# git commit -m \"sometext file.abc sometext\"  # can add comment"
   ]
  },
  {
   "cell_type": "markdown",
   "metadata": {},
   "source": [
    "### Github Desktop Tutorial"
   ]
  },
  {
   "cell_type": "markdown",
   "metadata": {},
   "source": [
    "![Alt text](image-3.png)\n",
    "![Alt text](image-4.png)\n",
    "![Alt text](image-5.png)\n",
    "![Alt text](image-6.png)\n",
    "![Alt text](image-7.png)"
   ]
  }
 ],
 "metadata": {
  "language_info": {
   "name": "python"
  },
  "orig_nbformat": 4
 },
 "nbformat": 4,
 "nbformat_minor": 2
}
