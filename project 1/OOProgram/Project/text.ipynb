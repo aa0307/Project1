{
 "cells": [
  {
   "cell_type": "code",
   "execution_count": null,
   "metadata": {},
   "outputs": [],
   "source": [
    "工作適應/壓力處理\n",
    "你是一名銀行的分行經理，你的下屬陳小姐在銀行工作多年，現擔任分行副經理。陳小姐一向工作認真，事事親力親為，又不太放心將工作交予其他同事；因此，她每日工作十多小時，並常常將工作帶回家中處理，及經常失眠。\n",
    "討論門問題﹕\n",
    "1. 你認為陳小姐有甚麼內在及外在壓力？這些壓力來源是什麼？\n",
    "2. 陳小姐應如何改善時間上的管理？\n",
    "3. 作為陳小姐的上司，應如何協助她處理壓力？"
   ]
  }
 ],
 "metadata": {
  "language_info": {
   "name": "python"
  },
  "orig_nbformat": 4
 },
 "nbformat": 4,
 "nbformat_minor": 2
}
