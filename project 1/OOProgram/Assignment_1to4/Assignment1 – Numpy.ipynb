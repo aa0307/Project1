{
 "cells": [
  {
   "cell_type": "markdown",
   "metadata": {},
   "source": [
    "Question 1\n",
    "Create a shape (3, 4) Numpy array named arr as follow table, and format dtype as float32\n",
    "1.2\t1.4\t1.6\t1.8\n",
    "2.3\t2.5\t2.7\t2.9\n",
    "3.4\t3.6\t3.8\t4.0"
   ]
  },
  {
   "cell_type": "code",
   "execution_count": 2,
   "metadata": {},
   "outputs": [
    {
     "data": {
      "text/plain": [
       "array([[1.2, 1.4, 1.6, 1.8],\n",
       "       [2.3, 2.5, 2.7, 2.9],\n",
       "       [3.4, 3.6, 3.8, 4. ]], dtype=float32)"
      ]
     },
     "execution_count": 2,
     "metadata": {},
     "output_type": "execute_result"
    }
   ],
   "source": [
    "import numpy as np\n",
    "arr=np.array([1.2,1.4,1.6,1.8,2.3,2.5,2.7,2.9,3.4,3.6,3.8,4.0],dtype='float32')\n",
    "arr=arr.reshape(3,4)\n",
    "arr"
   ]
  },
  {
   "cell_type": "markdown",
   "metadata": {},
   "source": [
    "Question 2\n",
    "Write code to show:\n",
    "(a)\tarr’s shape, and\n",
    "(b)\tdtype"
   ]
  },
  {
   "cell_type": "code",
   "execution_count": 3,
   "metadata": {},
   "outputs": [
    {
     "name": "stdout",
     "output_type": "stream",
     "text": [
      "arr’s shape is (3, 4) ,and\n",
      "arr’s dtype is float32\n"
     ]
    }
   ],
   "source": [
    "print(\"arr’s shape is\",arr.shape,\",and\")\n",
    "print(\"arr’s dtype is\",arr.dtype)\n"
   ]
  },
  {
   "cell_type": "markdown",
   "metadata": {},
   "source": [
    "Question 3\n",
    "Write code to calculate the square root of the arr, store the value in arr_sqrt and show the value."
   ]
  },
  {
   "cell_type": "code",
   "execution_count": 4,
   "metadata": {},
   "outputs": [
    {
     "data": {
      "text/plain": [
       "array([[1.0954452, 1.183216 , 1.264911 , 1.3416407],\n",
       "       [1.5165751, 1.5811388, 1.6431677, 1.7029387],\n",
       "       [1.8439089, 1.8973665, 1.9493588, 2.       ]], dtype=float32)"
      ]
     },
     "execution_count": 4,
     "metadata": {},
     "output_type": "execute_result"
    }
   ],
   "source": [
    "arr_sqrt=np.sqrt(arr)\n",
    "arr_sqrt"
   ]
  },
  {
   "cell_type": "markdown",
   "metadata": {},
   "source": [
    "Question 4\n",
    "Create a new Boolean array named arr2, to store the Boolean value of checking arr each value is greater and equal to 2.7. \n",
    " >>> arr2\n",
    "array([[False, False, False, False],\n",
    "       [False, False,  True,  True],\n",
    "       [ True,  True,  True,  True]])"
   ]
  },
  {
   "cell_type": "code",
   "execution_count": 5,
   "metadata": {},
   "outputs": [
    {
     "data": {
      "text/plain": [
       "array([[False, False, False, False],\n",
       "       [False, False, False,  True],\n",
       "       [ True,  True,  True,  True]])"
      ]
     },
     "execution_count": 5,
     "metadata": {},
     "output_type": "execute_result"
    }
   ],
   "source": [
    "arr2=arr > 2.7\n",
    "arr2"
   ]
  },
  {
   "cell_type": "markdown",
   "metadata": {},
   "source": [
    "Question 5\n",
    "Multiply the arr by 3 then minus 2, store the value in arr_cal. And show the array value."
   ]
  },
  {
   "cell_type": "code",
   "execution_count": 6,
   "metadata": {},
   "outputs": [
    {
     "data": {
      "text/plain": [
       "array([[ 1.6000001,  2.1999998,  2.8000002,  3.3999996],\n",
       "       [ 4.8999996,  5.5      ,  6.1000004,  6.700001 ],\n",
       "       [ 8.200001 ,  8.799999 ,  9.4      , 10.       ]], dtype=float32)"
      ]
     },
     "execution_count": 6,
     "metadata": {},
     "output_type": "execute_result"
    }
   ],
   "source": [
    "arr_cal=arr*3-2\n",
    "arr_cal"
   ]
  },
  {
   "cell_type": "markdown",
   "metadata": {},
   "source": [
    "Question 6\n",
    "Write code to show:\n",
    "(a)\tarr max value, and\n",
    "(b)\tarr mean value, and\n",
    "(c)\tarr standard deviation"
   ]
  },
  {
   "cell_type": "code",
   "execution_count": 7,
   "metadata": {},
   "outputs": [
    {
     "name": "stdout",
     "output_type": "stream",
     "text": [
      "arr max value is 4.0 ,and\n",
      "arr mean value 2.6000001 ,and\n",
      "arr standard deviation value is 0.92556286\n"
     ]
    }
   ],
   "source": [
    "max=arr.max()\n",
    "mean=arr.mean()\n",
    "std=arr.std()\n",
    "print('arr max value is',max,',and')\n",
    "print('arr mean value',mean,',and')\n",
    "print('arr standard deviation value is',std)"
   ]
  },
  {
   "cell_type": "markdown",
   "metadata": {},
   "source": [
    "Question 7\n",
    "Access the shaded two value in arr, and output their multiplication value.  (1.6 and 3.4)\n",
    "1.2\t1.4\t1.6\t1.8\n",
    "2.3\t2.5\t2.7\t2.9\n",
    "3.4\t3.6\t3.8\t4.0"
   ]
  },
  {
   "cell_type": "code",
   "execution_count": 9,
   "metadata": {},
   "outputs": [
    {
     "name": "stdout",
     "output_type": "stream",
     "text": [
      "their multiplication value is 5.44\n"
     ]
    }
   ],
   "source": [
    "mult=arr[0,2]*arr[2,0]\n",
    "print('their multiplication value is',mult)"
   ]
  },
  {
   "cell_type": "markdown",
   "metadata": {},
   "source": [
    "Question 8\n",
    "Write code to show the transpose of arr"
   ]
  },
  {
   "cell_type": "code",
   "execution_count": 10,
   "metadata": {},
   "outputs": [
    {
     "name": "stdout",
     "output_type": "stream",
     "text": [
      "the transpose of arr is [[1.2 2.3 3.4]\n",
      " [1.4 2.5 3.6]\n",
      " [1.6 2.7 3.8]\n",
      " [1.8 2.9 4. ]]\n"
     ]
    }
   ],
   "source": [
    "t=arr.T\n",
    "print('the transpose of arr is',t)"
   ]
  },
  {
   "cell_type": "markdown",
   "metadata": {},
   "source": [
    "Question 9\n",
    "Write code to:\n",
    "(a)\tReshape arr as (2,6) structure, and\n",
    "(b)\tFlatten arr and store the value in arr_flat"
   ]
  },
  {
   "cell_type": "code",
   "execution_count": 11,
   "metadata": {},
   "outputs": [
    {
     "name": "stdout",
     "output_type": "stream",
     "text": [
      "The (2,6) structure is [[1.2 1.4 1.6 1.8 2.3 2.5]\n",
      " [2.7 2.9 3.4 3.6 3.8 4. ]]\n",
      "The value after flatten is [1.2 1.4 1.6 1.8 2.3 2.5 2.7 2.9 3.4 3.6 3.8 4. ]\n"
     ]
    }
   ],
   "source": [
    "first=arr.reshape(2,6)\n",
    "arr_flat=arr.reshape(-1)\n",
    "print('The (2,6) structure is',first)\n",
    "print('The value after flatten is',arr_flat)"
   ]
  },
  {
   "cell_type": "code",
   "execution_count": 12,
   "metadata": {},
   "outputs": [
    {
     "name": "stdout",
     "output_type": "stream",
     "text": [
      "Q1\n",
      "the Numpy array named arr is\n",
      " [[1.2 1.4 1.6 1.8]\n",
      " [2.3 2.5 2.7 2.9]\n",
      " [3.4 3.6 3.8 4. ]]\n",
      "\n",
      "Q2\n",
      "arr’s shape is\n",
      " (3, 4) ,and\n",
      "arr’s dtype is\n",
      " float32\n",
      "\n",
      "Q3\n",
      "the square root of the arr is\n",
      " [[1.0954452 1.183216  1.264911  1.3416407]\n",
      " [1.5165751 1.5811388 1.6431677 1.7029387]\n",
      " [1.8439089 1.8973665 1.9493588 2.       ]]\n",
      "\n",
      "Q4\n",
      "the new Boolean array named arr2 is\n",
      " [[False False False False]\n",
      " [False False False  True]\n",
      " [ True  True  True  True]]\n",
      "\n",
      "Q5\n",
      "the array named arr_cal is\n",
      " [[ 1.6  2.2  2.8  3.4]\n",
      " [ 4.9  5.5  6.1  6.7]\n",
      " [ 8.2  8.8  9.4 10. ]]\n",
      "\n",
      "Q6\n",
      "arr max value is:\n",
      " 4.0 ,\n",
      "arr mean value is:\n",
      " 2.6000001 ,and\n",
      "arr standard deviation value is:\n",
      " 0.92556286\n",
      "\n",
      "Q7\n",
      "the first number is: \n",
      " 1.6 ,and\n",
      "the another number is: \n",
      " 3.4 ,and\n",
      "their multiplication value is\n",
      " 5.44\n",
      "\n",
      "Q8\n",
      "the transpose of arr is\n",
      " [[1.2 2.3 3.4]\n",
      " [1.4 2.5 3.6]\n",
      " [1.6 2.7 3.8]\n",
      " [1.8 2.9 4. ]]\n",
      "\n",
      "Q9\n",
      "The (2,6) structure is\n",
      " [[1.2 1.4 1.6 1.8 2.3 2.5]\n",
      " [2.7 2.9 3.4 3.6 3.8 4. ]] ,and\n",
      "The value after flatten is\n",
      " [1.2 1.4 1.6 1.8 2.3 2.5 2.7 2.9 3.4 3.6 3.8 4. ]\n"
     ]
    }
   ],
   "source": [
    "# Q1\n",
    "print('Q1')\n",
    "import numpy as np\n",
    "arr=np.array([1.2,1.4,1.6,1.8,2.3,2.5,2.7,2.9,3.4,3.6,3.8,4.0],dtype='float32')\n",
    "arr=arr.reshape(3,4)\n",
    "print('the Numpy array named arr is\\n',arr)\n",
    "print() ; print('Q2')\n",
    "# Q2\n",
    "print(\"arr’s shape is\\n\",arr.shape,\",and\")\n",
    "print(\"arr’s dtype is\\n\",arr.dtype)\n",
    "print() ; print('Q3')\n",
    "# Q3\n",
    "arr_sqrt=np.sqrt(arr)   \n",
    "print('the square root of the arr is\\n',arr_sqrt)\n",
    "print() ; print('Q4')\n",
    "# Q4\n",
    "arr2=arr > 2.7\n",
    "print('the new Boolean array named arr2 is\\n',arr2)\n",
    "print() ; print('Q5')\n",
    "# Q5\n",
    "arr_cal=np.round(arr*3-2,3)\n",
    "print('the array named arr_cal is\\n',arr_cal)\n",
    "print() ; print('Q6')\n",
    "# Q6\n",
    "max=arr.max()\n",
    "mean=arr.mean()\n",
    "std=arr.std()\n",
    "print('arr max value is:\\n',max,',')\n",
    "print('arr mean value is:\\n',mean,',and')\n",
    "print('arr standard deviation value is:\\n',std)\n",
    "print() ; print('Q7')\n",
    "# Q7\n",
    "mult=arr[0,2]*arr[2,0]\n",
    "print('the first number is: \\n',arr[0,2],',and')\n",
    "print('the another number is: \\n',arr[2,0],',and')\n",
    "print('their multiplication value is\\n',mult)\n",
    "print() ; print('Q8')\n",
    "# Q8\n",
    "t=arr.T\n",
    "print('the transpose of arr is\\n',t)\n",
    "print() ; print('Q9')\n",
    "# Q9\n",
    "first=arr.reshape(2,6)\n",
    "arr_flat=arr.reshape(-1)\n",
    "print('The (2,6) structure is\\n',first,',and')\n",
    "print('The value after flatten is\\n',arr_flat)"
   ]
  }
 ],
 "metadata": {
  "kernelspec": {
   "display_name": "Python 3",
   "language": "python",
   "name": "python3"
  },
  "language_info": {
   "codemirror_mode": {
    "name": "ipython",
    "version": 3
   },
   "file_extension": ".py",
   "mimetype": "text/x-python",
   "name": "python",
   "nbconvert_exporter": "python",
   "pygments_lexer": "ipython3",
   "version": "3.11.4"
  },
  "orig_nbformat": 4
 },
 "nbformat": 4,
 "nbformat_minor": 2
}
