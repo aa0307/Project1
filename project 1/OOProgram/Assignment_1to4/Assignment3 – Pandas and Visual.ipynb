{
 "cells": [
  {
   "cell_type": "markdown",
   "metadata": {},
   "source": [
    "Krystal Education Platform\n",
    "Certificate in Junior Python Data Analytics\n",
    "Assignment – Pandas and Visual\n",
    "Question 1\n",
    "(a)\tImport a CSV file expectancy.csv as a Pandas DataFrame regarding Hong Kong life expectancy as follow:\n",
    " \n",
    "(b)\tCreate a expectancy scatter plot with OLS line using matplotlib.pyplot as follow:\n",
    "(Hint: use numpy polyfit to get the intercept and slope)\n",
    " \n",
    "(c)\tWhat is life expectancy in year 2025? Show your formula in notebook.\n",
    " \n",
    "(d)\tCreate a similar expectancy scatter plot using Seaborn as follow:\n",
    " \n",
    "(e)\tCreate a similar expectancy scatter plot using plotly.express as follow:\n",
    " \n",
    "(f)\tHold over on the Plotly OLS line and discover the insight comparing to your answer intercept and slope in part (b). What did you find?\n",
    "(g)\tWhat does the R squared (R2) mean to the regression line? What does it mean to the model?\n"
   ]
  },
  {
   "cell_type": "code",
   "execution_count": 1,
   "metadata": {},
   "outputs": [
    {
     "name": "stdout",
     "output_type": "stream",
     "text": [
      "                    Country Name Country Code  \\\n",
      "0                          Aruba          ABW   \n",
      "1    Africa Eastern and Southern          AFE   \n",
      "2                    Afghanistan          AFG   \n",
      "3     Africa Western and Central          AFW   \n",
      "4                         Angola          AGO   \n",
      "..                           ...          ...   \n",
      "261                       Kosovo          XKX   \n",
      "262                  Yemen, Rep.          YEM   \n",
      "263                 South Africa          ZAF   \n",
      "264                       Zambia          ZMB   \n",
      "265                     Zimbabwe          ZWE   \n",
      "\n",
      "                              Indicator Name  Indicator Code       1960  \\\n",
      "0    Life expectancy at birth, total (years)  SP.DYN.LE00.IN  64.152000   \n",
      "1    Life expectancy at birth, total (years)  SP.DYN.LE00.IN  44.085552   \n",
      "2    Life expectancy at birth, total (years)  SP.DYN.LE00.IN  32.535000   \n",
      "3    Life expectancy at birth, total (years)  SP.DYN.LE00.IN  37.845152   \n",
      "4    Life expectancy at birth, total (years)  SP.DYN.LE00.IN  38.211000   \n",
      "..                                       ...             ...        ...   \n",
      "261  Life expectancy at birth, total (years)  SP.DYN.LE00.IN  61.485000   \n",
      "262  Life expectancy at birth, total (years)  SP.DYN.LE00.IN  33.678000   \n",
      "263  Life expectancy at birth, total (years)  SP.DYN.LE00.IN  52.669000   \n",
      "264  Life expectancy at birth, total (years)  SP.DYN.LE00.IN  49.042000   \n",
      "265  Life expectancy at birth, total (years)  SP.DYN.LE00.IN  53.235000   \n",
      "\n",
      "          1961       1962       1963       1964       1965  ...       2013  \\\n",
      "0    64.537000  64.752000  65.132000  65.294000  65.502000  ...  75.636000   \n",
      "1    44.386697  44.752182  44.913159  45.479043  45.498338  ...  60.709870   \n",
      "2    33.068000  33.547000  34.016000  34.494000  34.953000  ...  62.417000   \n",
      "3    38.164950  38.735102  39.063715  39.335360  39.618038  ...  55.673406   \n",
      "4    37.267000  37.539000  37.824000  38.131000  38.495000  ...  59.307000   \n",
      "..         ...        ...        ...        ...        ...  ...        ...   \n",
      "261  61.836000  62.134000  62.440000  62.734000  63.041000  ...  78.587000   \n",
      "262  34.098000  33.615000  33.247000  34.738000  35.373000  ...  67.545000   \n",
      "263  53.085000  53.376000  53.633000  53.906000  54.192000  ...  62.533000   \n",
      "264  49.452000  49.794000  50.133000  49.849000  50.563000  ...  59.878000   \n",
      "265  53.619000  54.071000  54.549000  54.994000  55.459000  ...  57.458000   \n",
      "\n",
      "          2014       2015       2016       2017       2018       2019  \\\n",
      "0    75.601000  75.683000  75.617000  75.903000  76.072000  76.248000   \n",
      "1    61.337917  61.856458  62.444050  62.922390  63.365863  63.755678   \n",
      "2    62.545000  62.659000  63.136000  63.016000  63.081000  63.565000   \n",
      "3    55.922229  56.195872  56.581678  56.888446  57.189139  57.555796   \n",
      "4    60.040000  60.655000  61.092000  61.680000  62.144000  62.448000   \n",
      "..         ...        ...        ...        ...        ...        ...   \n",
      "261  78.880000  78.922000  78.981000  78.783000  78.696000  79.022000   \n",
      "262  67.384000  65.873000  66.064000  65.957000  64.575000  65.092000   \n",
      "263  63.380000  63.950000  64.747000  65.402000  65.674000  66.175000   \n",
      "264  60.699000  61.208000  61.794000  62.120000  62.342000  62.793000   \n",
      "265  58.846000  59.591000  60.306000  60.709000  61.414000  61.292000   \n",
      "\n",
      "          2020       2021  2022  \n",
      "0    75.723000  74.626000   NaN  \n",
      "1    63.313860  62.454590   NaN  \n",
      "2    62.575000  61.982000   NaN  \n",
      "3    57.226373  56.988657   NaN  \n",
      "4    62.261000  61.643000   NaN  \n",
      "..         ...        ...   ...  \n",
      "261  76.567000  76.806000   NaN  \n",
      "262  64.650000  63.753000   NaN  \n",
      "263  65.252000  62.341000   NaN  \n",
      "264  62.380000  61.223000   NaN  \n",
      "265  61.124000  59.253000   NaN  \n",
      "\n",
      "[266 rows x 67 columns]\n",
      "display.max_rows:  60\n"
     ]
    }
   ],
   "source": [
    "import pandas as pd\n",
    "path=\"C:/Users/User/Desktop/project 1/VS/data_folder/\" # please enter your working directory path here\n",
    "file_name=\"API_SP.DYN.LE00.IN_DS2_en_csv_v2_5795729.csv\"\n",
    "df = pd.read_csv(f\"{path}{file_name}\")\n",
    "print(df)\n",
    "print('display.max_rows: ',pd.options.display.max_rows)\n",
    "pd.options.display.max_rows = 9999"
   ]
  },
  {
   "cell_type": "code",
   "execution_count": 2,
   "metadata": {},
   "outputs": [],
   "source": [
    "import pandas as pd # a\n",
    "import numpy as np\n",
    "df=pd.DataFrame(df)\n",
    "\n",
    "df1=df['Country Name']\n",
    "df_T=df.T\n",
    "\n",
    "\n",
    "HKG = df.loc[df['Country Code'] == \"HKG\"]\n",
    "\n",
    "# for index in range(len(HKG)): \n",
    "#     if HKG.loc[index,'Country Name'] == 'HKG':\n",
    "#         HKG=HKG.drop(columns=['Country Name','Country Code','Indicator Name','Indicator Code'])\n",
    "\n",
    "# def drop (x):\n",
    "#     x=x.drop(columns=['Country Name','Country Code','Indicator Name','Indicator Code'])\n",
    "#     return x\n",
    "# HKG = drop(HKG)\n",
    "\n",
    "\n",
    "HKG = HKG.drop(['Country Name','Country Code','Indicator Name','Indicator Code'],axis=1)\n",
    "\n",
    "\n",
    "\n",
    "HKG = HKG.T\n",
    "# HKG.rename(columns={ HKG.columns[0]: \"1\" }, inplace = True)\n",
    "year = pd.Series(HKG.index,index=HKG.index,dtype=int)\n",
    "year=year.to_frame(name='Year')\n",
    "# year=pd.Index([HKG])\n",
    "\n",
    "HKG.rename(columns={ HKG.columns[0]: \"Age\" }, inplace = True)\n",
    "age = HKG\n",
    "df = pd.concat([year,age],axis=1)\n",
    "df.drop(['2021','2022'], inplace = True)\n",
    "df.reset_index(inplace=True, drop=True)\n"
   ]
  },
  {
   "cell_type": "code",
   "execution_count": 3,
   "metadata": {},
   "outputs": [],
   "source": [
    "# import seaborn as sns\n",
    "# sns.relplot(\n",
    "#     data=df\n",
    "# )"
   ]
  },
  {
   "cell_type": "code",
   "execution_count": 4,
   "metadata": {},
   "outputs": [
    {
     "name": "stdout",
     "output_type": "stream",
     "text": [
      "int32\n",
      "float64\n"
     ]
    },
    {
     "data": {
      "text/plain": [
       "0     1960\n",
       "1     1961\n",
       "2     1962\n",
       "3     1963\n",
       "4     1964\n",
       "5     1965\n",
       "6     1966\n",
       "7     1967\n",
       "8     1968\n",
       "9     1969\n",
       "10    1970\n",
       "11    1971\n",
       "12    1972\n",
       "13    1973\n",
       "14    1974\n",
       "15    1975\n",
       "16    1976\n",
       "17    1977\n",
       "18    1978\n",
       "19    1979\n",
       "20    1980\n",
       "21    1981\n",
       "22    1982\n",
       "23    1983\n",
       "24    1984\n",
       "25    1985\n",
       "26    1986\n",
       "27    1987\n",
       "28    1988\n",
       "29    1989\n",
       "30    1990\n",
       "31    1991\n",
       "32    1992\n",
       "33    1993\n",
       "34    1994\n",
       "35    1995\n",
       "36    1996\n",
       "37    1997\n",
       "38    1998\n",
       "39    1999\n",
       "40    2000\n",
       "41    2001\n",
       "42    2002\n",
       "43    2003\n",
       "44    2004\n",
       "45    2005\n",
       "46    2006\n",
       "47    2007\n",
       "48    2008\n",
       "49    2009\n",
       "50    2010\n",
       "51    2011\n",
       "52    2012\n",
       "53    2013\n",
       "54    2014\n",
       "55    2015\n",
       "56    2016\n",
       "57    2017\n",
       "58    2018\n",
       "59    2019\n",
       "60    2020\n",
       "Name: Year, dtype: int32"
      ]
     },
     "execution_count": 4,
     "metadata": {},
     "output_type": "execute_result"
    }
   ],
   "source": [
    "print(df['Year'].dtypes)\n",
    "print(df['Age'].dtypes)\n",
    "df['Year']"
   ]
  },
  {
   "cell_type": "code",
   "execution_count": 5,
   "metadata": {},
   "outputs": [
    {
     "data": {
      "image/png": "[encoded data removed]",
      "text/plain": [
       "<Figure size 640x480 with 1 Axes>"
      ]
     },
     "metadata": {},
     "output_type": "display_data"
    },
    {
     "name": "stdout",
     "output_type": "stream",
     "text": [
      "y= 0.30887763990111033 x+ -537.5382003245212\n"
     ]
    }
   ],
   "source": [
    "import matplotlib.pyplot as plt # b\n",
    "x=df['Year']\n",
    "y=df['Age']\n",
    "parameter = np.polyfit(x,y,1)\n",
    "y2 = parameter[0] * x + parameter[1]\n",
    "plt.scatter(x,y)\n",
    "plt.plot(x,y2,color='C1')\n",
    "plt.show()\n",
    "print('y=',parameter[0],'x+',parameter[1])"
   ]
  },
  {
   "cell_type": "code",
   "execution_count": 6,
   "metadata": {},
   "outputs": [],
   "source": [
    "import numpy as np # c\n",
    "import matplotlib.pyplot as plt\n",
    "from sklearn.tree import DecisionTreeRegressor\n",
    "from sklearn.linear_model import LinearRegression\n",
    "from sklearn.model_selection import train_test_split\n",
    "future_2025 = 5\n",
    "def future(df, future):\n",
    "    df['Prediction'] = df[['Age']].shift(-future)\n",
    "    X = np.array(df.drop(['Prediction'],axis=1))[:-future]\n",
    "    y = np.array(df['Prediction'])[:-future]\n",
    "    \n",
    "    i=future\n",
    "    df['Year'] = df[['Year']].shift(-i).ffill()\n",
    "    while i > 0:\n",
    "        df.iloc[-i, df.columns.get_loc('Year')]=df.iloc[-i-1, df.columns.get_loc('Year')]+1\n",
    "        i-=1\n",
    "    \n",
    "    X_train, X_test, y_train, y_test = train_test_split(X,y,test_size=0.25)\n",
    "    tree = DecisionTreeRegressor().fit(X_train, y_train)\n",
    "    X_future = df.drop('Prediction',axis=1)[:-future]\n",
    "    X_future = X_future.tail(future)\n",
    "    X_future = np.array(X_future)\n",
    "    tree_prediction = tree.predict(X_future)\n",
    "    valid = df[X.shape[0]:]\n",
    "    valid['Prediction'] = tree_prediction\n",
    "    \n",
    "    df.fillna(valid,inplace=True)\n",
    "    # pd.concat([df['Prediction'],valid['Prediction']],ignore_index=False,axis=0)\n",
    "    \n",
    "    plt.figure(figsize=(16,8))\n",
    "    plt.title('life expectancy in year 2025')\n",
    "    plt.xlabel(\"Year\")\n",
    "    plt.ylabel('Age')\n",
    "    plt.plot(df['Age'])\n",
    "    plt.plot(valid[['Age','Prediction']])\n",
    "    plt.legend(['Orig','Val','Pred'])\n",
    "    plt.show()\n",
    "\n",
    "    \n"
   ]
  },
  {
   "cell_type": "code",
   "execution_count": 7,
   "metadata": {},
   "outputs": [
    {
     "name": "stderr",
     "output_type": "stream",
     "text": [
      "C:\\Users\\User\\AppData\\Local\\Temp\\ipykernel_13564\\4094548658.py:25: SettingWithCopyWarning: \n",
      "A value is trying to be set on a copy of a slice from a DataFrame.\n",
      "Try using .loc[row_indexer,col_indexer] = value instead\n",
      "\n",
      "See the caveats in the documentation: https://pandas.pydata.org/pandas-docs/stable/user_guide/indexing.html#returning-a-view-versus-a-copy\n",
      "  valid['Prediction'] = tree_prediction\n"
     ]
    },
    {
     "data": {
      "image/png": "[encoded data removed]",
      "text/plain": [
       "<Figure size 1600x800 with 1 Axes>"
      ]
     },
     "metadata": {},
     "output_type": "display_data"
    },
    {
     "name": "stdout",
     "output_type": "stream",
     "text": [
      "      Year        Age  Prediction\n",
      "0   1965.0  65.866293   69.251220\n",
      "1   1966.0  66.558878   69.538878\n",
      "2   1967.0  66.977171   69.925439\n",
      "3   1968.0  67.685732   70.355829\n",
      "4   1969.0  68.446098   70.568561\n",
      "5   1970.0  69.251220   71.049951\n",
      "6   1971.0  69.538878   71.458537\n",
      "7   1972.0  69.925439   71.456098\n",
      "8   1973.0  70.355829   72.109756\n",
      "9   1974.0  70.568561   72.612195\n",
      "10  1975.0  71.049951   73.368293\n",
      "11  1976.0  71.458537   72.819512\n",
      "12  1977.0  71.456098   73.319512\n",
      "13  1978.0  72.109756   73.575610\n",
      "14  1979.0  72.612195   73.673171\n",
      "15  1980.0  73.368293   74.673171\n",
      "16  1981.0  72.819512   75.324390\n",
      "17  1982.0  73.319512   75.429268\n",
      "18  1983.0  73.575610   75.275610\n",
      "19  1984.0  73.673171   76.029268\n",
      "20  1985.0  74.673171   76.434146\n",
      "21  1986.0  75.324390   76.685366\n",
      "22  1987.0  75.429268   76.882927\n",
      "23  1988.0  75.275610   77.082927\n",
      "24  1989.0  76.029268   77.029268\n",
      "25  1990.0  76.434146   77.380488\n",
      "26  1991.0  76.685366   77.882927\n",
      "27  1992.0  76.882927   77.678049\n",
      "28  1993.0  77.082927   78.031707\n",
      "29  1994.0  77.029268   78.529268\n",
      "30  1995.0  77.380488   78.682927\n",
      "31  1996.0  77.882927   79.626829\n",
      "32  1997.0  77.678049   80.126829\n",
      "33  1998.0  78.031707   80.131707\n",
      "34  1999.0  78.529268   80.382927\n",
      "35  2000.0  78.682927   80.878049\n",
      "36  2001.0  79.626829   81.424390\n",
      "37  2002.0  80.126829   81.426829\n",
      "38  2003.0  80.131707   81.378049\n",
      "39  2004.0  80.382927   81.829268\n",
      "40  2005.0  80.878049   81.629268\n",
      "41  2006.0  81.424390   82.375610\n",
      "42  2007.0  81.426829   82.326829\n",
      "43  2008.0  81.378049   82.375610\n",
      "44  2009.0  81.829268   82.775610\n",
      "45  2010.0  81.629268   82.978049\n",
      "46  2011.0  82.375610   83.421951\n",
      "47  2012.0  82.326829   83.480488\n",
      "48  2013.0  82.375610   83.831707\n",
      "49  2014.0  82.775610   83.980488\n",
      "50  2015.0  82.978049   84.278049\n",
      "51  2016.0  83.421951   84.226829\n",
      "52  2017.0  83.480488   84.680488\n",
      "53  2018.0  83.831707   84.934146\n",
      "54  2019.0  83.980488   85.180488\n",
      "55  2020.0  84.278049   85.497561\n",
      "56  2021.0  84.226829   84.226829\n",
      "57  2022.0  84.680488   84.934146\n",
      "58  2023.0  84.934146   84.934146\n",
      "59  2024.0  85.180488   85.497561\n",
      "60  2025.0  85.497561   85.497561\n"
     ]
    }
   ],
   "source": [
    "future(df, future_2025)\n",
    "print(df)"
   ]
  },
  {
   "cell_type": "code",
   "execution_count": 8,
   "metadata": {},
   "outputs": [
    {
     "data": {
      "text/plain": [
       "<Axes: xlabel='Year', ylabel='Age'>"
      ]
     },
     "execution_count": 8,
     "metadata": {},
     "output_type": "execute_result"
    },
    {
     "data": {
      "image/png": "[encoded data removed]",
      "text/plain": [
       "<Figure size 640x480 with 1 Axes>"
      ]
     },
     "metadata": {},
     "output_type": "display_data"
    }
   ],
   "source": [
    "import seaborn as sns\n",
    "sns.regplot(data=df,x=df['Year'],y=df['Age']) # d"
   ]
  },
  {
   "cell_type": "code",
   "execution_count": 9,
   "metadata": {},
   "outputs": [
    {
     "data": {
      "application/vnd.plotly.v1+json": {
       "config": {
        "plotlyServerURL": "https://plot.ly"
       },
       "data": [
        {
         "hovertemplate": "Year=%{x}<br>Age=%{y}<extra></extra>",
         "legendgroup": "",
         "marker": {
          "color": "#636efa",
          "symbol": "circle"
         },
         "mode": "markers",
         "name": "",
         "orientation": "v",
         "showlegend": false,
         "type": "scatter",
         "x": [
          1965,
          1966,
          1967,
          1968,
          1969,
          1970,
          1971,
          1972,
          1973,
          1974,
          1975,
          1976,
          1977,
          1978,
          1979,
          1980,
          1981,
          1982,
          1983,
          1984,
          1985,
          1986,
          1987,
          1988,
          1989,
          1990,
          1991,
          1992,
          1993,
          1994,
          1995,
          1996,
          1997,
          1998,
          1999,
          2000,
          2001,
          2002,
          2003,
          2004,
          2005,
          2006,
          2007,
          2008,
          2009,
          2010,
          2011,
          2012,
          2013,
          2014,
          2015,
          2016,
          2017,
          2018,
          2019,
          2020,
          2021,
          2022,
          2023,
          2024,
          2025
         ],
         "xaxis": "x",
         "y": [
          65.86629268,
          66.55887805,
          66.97717073,
          67.68573171,
          68.44609756,
          69.25121951,
          69.53887805,
          69.92543902,
          70.35582927,
          70.56856098,
          71.04995122,
          71.45853659,
          71.45609756,
          72.1097561,
          72.61219512,
          73.36829268,
          72.8195122,
          73.3195122,
          73.57560976,
          73.67317073,
          74.67317073,
          75.32439024,
          75.42926829,
          75.27560976,
          76.02926829,
          76.43414634,
          76.68536585,
          76.88292683,
          77.08292683,
          77.02926829,
          77.3804878,
          77.88292683,
          77.67804878,
          78.03170732,
          78.52926829,
          78.68292683,
          79.62682927,
          80.12682927,
          80.13170732,
          80.38292683,
          80.87804878,
          81.42439024,
          81.42682927,
          81.37804878,
          81.82926829,
          81.62926829,
          82.37560976,
          82.32682927,
          82.37560976,
          82.77560976,
          82.97804878,
          83.42195122,
          83.4804878,
          83.83170732,
          83.9804878,
          84.27804878,
          84.22682927,
          84.6804878,
          84.93414634,
          85.1804878,
          85.49756098
         ],
         "yaxis": "y"
        },
        {
         "hovertemplate": "<b>OLS trendline</b><br>Age = 0.308878 * Year + -539.083<br>R<sup>2</sup>=0.986106<br><br>Year=%{x}<br>Age=%{y} <b>(trend)</b><extra></extra>",
         "legendgroup": "",
         "marker": {
          "color": "#636efa",
          "symbol": "circle"
         },
         "mode": "lines",
         "name": "",
         "showlegend": false,
         "type": "scatter",
         "x": [
          1965,
          1966,
          1967,
          1968,
          1969,
          1970,
          1971,
          1972,
          1973,
          1974,
          1975,
          1976,
          1977,
          1978,
          1979,
          1980,
          1981,
          1982,
          1983,
          1984,
          1985,
          1986,
          1987,
          1988,
          1989,
          1990,
          1991,
          1992,
          1993,
          1994,
          1995,
          1996,
          1997,
          1998,
          1999,
          2000,
          2001,
          2002,
          2003,
          2004,
          2005,
          2006,
          2007,
          2008,
          2009,
          2010,
          2011,
          2012,
          2013,
          2014,
          2015,
          2016,
          2017,
          2018,
          2019,
          2020,
          2021,
          2022,
          2023,
          2024,
          2025
         ],
         "xaxis": "x",
         "y": [
          67.86197388165522,
          68.17085152155641,
          68.4797291614575,
          68.78860680135858,
          69.09748444125967,
          69.40636208116075,
          69.71523972106195,
          70.02411736096303,
          70.33299500086412,
          70.6418726407652,
          70.9507502806664,
          71.25962792056748,
          71.56850556046857,
          71.87738320036965,
          72.18626084027085,
          72.49513848017193,
          72.80401612007302,
          73.1128937599741,
          73.4217713998753,
          73.73064903977638,
          74.03952667967746,
          74.34840431957855,
          74.65728195947963,
          74.96615959938083,
          75.27503723928191,
          75.583914879183,
          75.89279251908408,
          76.20167015898528,
          76.51054779888636,
          76.81942543878745,
          77.12830307868853,
          77.43718071858973,
          77.74605835849081,
          78.0549359983919,
          78.36381363829298,
          78.67269127819418,
          78.98156891809526,
          79.29044655799635,
          79.59932419789743,
          79.90820183779863,
          80.21707947769971,
          80.5259571176008,
          80.83483475750188,
          81.14371239740296,
          81.45259003730416,
          81.76146767720525,
          82.07034531710633,
          82.37922295700741,
          82.68810059690861,
          82.9969782368097,
          83.30585587671078,
          83.61473351661186,
          83.92361115651306,
          84.23248879641415,
          84.54136643631523,
          84.85024407621631,
          85.15912171611751,
          85.4679993560186,
          85.77687699591968,
          86.08575463582076,
          86.39463227572196
         ],
         "yaxis": "y"
        }
       ],
       "layout": {
        "legend": {
         "tracegroupgap": 0
        },
        "margin": {
         "t": 60
        },
        "template": {
         "data": {
          "bar": [
           {
            "error_x": {
             "color": "#2a3f5f"
            },
            "error_y": {
             "color": "#2a3f5f"
            },
            "marker": {
             "line": {
              "color": "#E5ECF6",
              "width": 0.5
             },
             "pattern": {
              "fillmode": "overlay",
              "size": 10,
              "solidity": 0.2
             }
            },
            "type": "bar"
           }
          ],
          "barpolar": [
           {
            "marker": {
             "line": {
              "color": "#E5ECF6",
              "width": 0.5
             },
             "pattern": {
              "fillmode": "overlay",
              "size": 10,
              "solidity": 0.2
             }
            },
            "type": "barpolar"
           }
          ],
          "carpet": [
           {
            "aaxis": {
             "endlinecolor": "#2a3f5f",
             "gridcolor": "white",
             "linecolor": "white",
             "minorgridcolor": "white",
             "startlinecolor": "#2a3f5f"
            },
            "baxis": {
             "endlinecolor": "#2a3f5f",
             "gridcolor": "white",
             "linecolor": "white",
             "minorgridcolor": "white",
             "startlinecolor": "#2a3f5f"
            },
            "type": "carpet"
           }
          ],
          "choropleth": [
           {
            "colorbar": {
             "outlinewidth": 0,
             "ticks": ""
            },
            "type": "choropleth"
           }
          ],
          "contour": [
           {
            "colorbar": {
             "outlinewidth": 0,
             "ticks": ""
            },
            "colorscale": [
             [
              0,
              "#0d0887"
             ],
             [
              0.1111111111111111,
              "#46039f"
             ],
             [
              0.2222222222222222,
              "#7201a8"
             ],
             [
              0.3333333333333333,
              "#9c179e"
             ],
             [
              0.4444444444444444,
              "#bd3786"
             ],
             [
              0.5555555555555556,
              "#d8576b"
             ],
             [
              0.6666666666666666,
              "#ed7953"
             ],
             [
              0.7777777777777778,
              "#fb9f3a"
             ],
             [
              0.8888888888888888,
              "#fdca26"
             ],
             [
              1,
              "#f0f921"
             ]
            ],
            "type": "contour"
           }
          ],
          "contourcarpet": [
           {
            "colorbar": {
             "outlinewidth": 0,
             "ticks": ""
            },
            "type": "contourcarpet"
           }
          ],
          "heatmap": [
           {
            "colorbar": {
             "outlinewidth": 0,
             "ticks": ""
            },
            "colorscale": [
             [
              0,
              "#0d0887"
             ],
             [
              0.1111111111111111,
              "#46039f"
             ],
             [
              0.2222222222222222,
              "#7201a8"
             ],
             [
              0.3333333333333333,
              "#9c179e"
             ],
             [
              0.4444444444444444,
              "#bd3786"
             ],
             [
              0.5555555555555556,
              "#d8576b"
             ],
             [
              0.6666666666666666,
              "#ed7953"
             ],
             [
              0.7777777777777778,
              "#fb9f3a"
             ],
             [
              0.8888888888888888,
              "#fdca26"
             ],
             [
              1,
              "#f0f921"
             ]
            ],
            "type": "heatmap"
           }
          ],
          "heatmapgl": [
           {
            "colorbar": {
             "outlinewidth": 0,
             "ticks": ""
            },
            "colorscale": [
             [
              0,
              "#0d0887"
             ],
             [
              0.1111111111111111,
              "#46039f"
             ],
             [
              0.2222222222222222,
              "#7201a8"
             ],
             [
              0.3333333333333333,
              "#9c179e"
             ],
             [
              0.4444444444444444,
              "#bd3786"
             ],
             [
              0.5555555555555556,
              "#d8576b"
             ],
             [
              0.6666666666666666,
              "#ed7953"
             ],
             [
              0.7777777777777778,
              "#fb9f3a"
             ],
             [
              0.8888888888888888,
              "#fdca26"
             ],
             [
              1,
              "#f0f921"
             ]
            ],
            "type": "heatmapgl"
           }
          ],
          "histogram": [
           {
            "marker": {
             "pattern": {
              "fillmode": "overlay",
              "size": 10,
              "solidity": 0.2
             }
            },
            "type": "histogram"
           }
          ],
          "histogram2d": [
           {
            "colorbar": {
             "outlinewidth": 0,
             "ticks": ""
            },
            "colorscale": [
             [
              0,
              "#0d0887"
             ],
             [
              0.1111111111111111,
              "#46039f"
             ],
             [
              0.2222222222222222,
              "#7201a8"
             ],
             [
              0.3333333333333333,
              "#9c179e"
             ],
             [
              0.4444444444444444,
              "#bd3786"
             ],
             [
              0.5555555555555556,
              "#d8576b"
             ],
             [
              0.6666666666666666,
              "#ed7953"
             ],
             [
              0.7777777777777778,
              "#fb9f3a"
             ],
             [
              0.8888888888888888,
              "#fdca26"
             ],
             [
              1,
              "#f0f921"
             ]
            ],
            "type": "histogram2d"
           }
          ],
          "histogram2dcontour": [
           {
            "colorbar": {
             "outlinewidth": 0,
             "ticks": ""
            },
            "colorscale": [
             [
              0,
              "#0d0887"
             ],
             [
              0.1111111111111111,
              "#46039f"
             ],
             [
              0.2222222222222222,
              "#7201a8"
             ],
             [
              0.3333333333333333,
              "#9c179e"
             ],
             [
              0.4444444444444444,
              "#bd3786"
             ],
             [
              0.5555555555555556,
              "#d8576b"
             ],
             [
              0.6666666666666666,
              "#ed7953"
             ],
             [
              0.7777777777777778,
              "#fb9f3a"
             ],
             [
              0.8888888888888888,
              "#fdca26"
             ],
             [
              1,
              "#f0f921"
             ]
            ],
            "type": "histogram2dcontour"
           }
          ],
          "mesh3d": [
           {
            "colorbar": {
             "outlinewidth": 0,
             "ticks": ""
            },
            "type": "mesh3d"
           }
          ],
          "parcoords": [
           {
            "line": {
             "colorbar": {
              "outlinewidth": 0,
              "ticks": ""
             }
            },
            "type": "parcoords"
           }
          ],
          "pie": [
           {
            "automargin": true,
            "type": "pie"
           }
          ],
          "scatter": [
           {
            "fillpattern": {
             "fillmode": "overlay",
             "size": 10,
             "solidity": 0.2
            },
            "type": "scatter"
           }
          ],
          "scatter3d": [
           {
            "line": {
             "colorbar": {
              "outlinewidth": 0,
              "ticks": ""
             }
            },
            "marker": {
             "colorbar": {
              "outlinewidth": 0,
              "ticks": ""
             }
            },
            "type": "scatter3d"
           }
          ],
          "scattercarpet": [
           {
            "marker": {
             "colorbar": {
              "outlinewidth": 0,
              "ticks": ""
             }
            },
            "type": "scattercarpet"
           }
          ],
          "scattergeo": [
           {
            "marker": {
             "colorbar": {
              "outlinewidth": 0,
              "ticks": ""
             }
            },
            "type": "scattergeo"
           }
          ],
          "scattergl": [
           {
            "marker": {
             "colorbar": {
              "outlinewidth": 0,
              "ticks": ""
             }
            },
            "type": "scattergl"
           }
          ],
          "scattermapbox": [
           {
            "marker": {
             "colorbar": {
              "outlinewidth": 0,
              "ticks": ""
             }
            },
            "type": "scattermapbox"
           }
          ],
          "scatterpolar": [
           {
            "marker": {
             "colorbar": {
              "outlinewidth": 0,
              "ticks": ""
             }
            },
            "type": "scatterpolar"
           }
          ],
          "scatterpolargl": [
           {
            "marker": {
             "colorbar": {
              "outlinewidth": 0,
              "ticks": ""
             }
            },
            "type": "scatterpolargl"
           }
          ],
          "scatterternary": [
           {
            "marker": {
             "colorbar": {
              "outlinewidth": 0,
              "ticks": ""
             }
            },
            "type": "scatterternary"
           }
          ],
          "surface": [
           {
            "colorbar": {
             "outlinewidth": 0,
             "ticks": ""
            },
            "colorscale": [
             [
              0,
              "#0d0887"
             ],
             [
              0.1111111111111111,
              "#46039f"
             ],
             [
              0.2222222222222222,
              "#7201a8"
             ],
             [
              0.3333333333333333,
              "#9c179e"
             ],
             [
              0.4444444444444444,
              "#bd3786"
             ],
             [
              0.5555555555555556,
              "#d8576b"
             ],
             [
              0.6666666666666666,
              "#ed7953"
             ],
             [
              0.7777777777777778,
              "#fb9f3a"
             ],
             [
              0.8888888888888888,
              "#fdca26"
             ],
             [
              1,
              "#f0f921"
             ]
            ],
            "type": "surface"
           }
          ],
          "table": [
           {
            "cells": {
             "fill": {
              "color": "#EBF0F8"
             },
             "line": {
              "color": "white"
             }
            },
            "header": {
             "fill": {
              "color": "#C8D4E3"
             },
             "line": {
              "color": "white"
             }
            },
            "type": "table"
           }
          ]
         },
         "layout": {
          "annotationdefaults": {
           "arrowcolor": "#2a3f5f",
           "arrowhead": 0,
           "arrowwidth": 1
          },
          "autotypenumbers": "strict",
          "coloraxis": {
           "colorbar": {
            "outlinewidth": 0,
            "ticks": ""
           }
          },
          "colorscale": {
           "diverging": [
            [
             0,
             "#8e0152"
            ],
            [
             0.1,
             "#c51b7d"
            ],
            [
             0.2,
             "#de77ae"
            ],
            [
             0.3,
             "#f1b6da"
            ],
            [
             0.4,
             "#fde0ef"
            ],
            [
             0.5,
             "#f7f7f7"
            ],
            [
             0.6,
             "#e6f5d0"
            ],
            [
             0.7,
             "#b8e186"
            ],
            [
             0.8,
             "#7fbc41"
            ],
            [
             0.9,
             "#4d9221"
            ],
            [
             1,
             "#276419"
            ]
           ],
           "sequential": [
            [
             0,
             "#0d0887"
            ],
            [
             0.1111111111111111,
             "#46039f"
            ],
            [
             0.2222222222222222,
             "#7201a8"
            ],
            [
             0.3333333333333333,
             "#9c179e"
            ],
            [
             0.4444444444444444,
             "#bd3786"
            ],
            [
             0.5555555555555556,
             "#d8576b"
            ],
            [
             0.6666666666666666,
             "#ed7953"
            ],
            [
             0.7777777777777778,
             "#fb9f3a"
            ],
            [
             0.8888888888888888,
             "#fdca26"
            ],
            [
             1,
             "#f0f921"
            ]
           ],
           "sequentialminus": [
            [
             0,
             "#0d0887"
            ],
            [
             0.1111111111111111,
             "#46039f"
            ],
            [
             0.2222222222222222,
             "#7201a8"
            ],
            [
             0.3333333333333333,
             "#9c179e"
            ],
            [
             0.4444444444444444,
             "#bd3786"
            ],
            [
             0.5555555555555556,
             "#d8576b"
            ],
            [
             0.6666666666666666,
             "#ed7953"
            ],
            [
             0.7777777777777778,
             "#fb9f3a"
            ],
            [
             0.8888888888888888,
             "#fdca26"
            ],
            [
             1,
             "#f0f921"
            ]
           ]
          },
          "colorway": [
           "#636efa",
           "#EF553B",
           "#00cc96",
           "#ab63fa",
           "#FFA15A",
           "#19d3f3",
           "#FF6692",
           "#B6E880",
           "#FF97FF",
           "#FECB52"
          ],
          "font": {
           "color": "#2a3f5f"
          },
          "geo": {
           "bgcolor": "white",
           "lakecolor": "white",
           "landcolor": "#E5ECF6",
           "showlakes": true,
           "showland": true,
           "subunitcolor": "white"
          },
          "hoverlabel": {
           "align": "left"
          },
          "hovermode": "closest",
          "mapbox": {
           "style": "light"
          },
          "paper_bgcolor": "white",
          "plot_bgcolor": "#E5ECF6",
          "polar": {
           "angularaxis": {
            "gridcolor": "white",
            "linecolor": "white",
            "ticks": ""
           },
           "bgcolor": "#E5ECF6",
           "radialaxis": {
            "gridcolor": "white",
            "linecolor": "white",
            "ticks": ""
           }
          },
          "scene": {
           "xaxis": {
            "backgroundcolor": "#E5ECF6",
            "gridcolor": "white",
            "gridwidth": 2,
            "linecolor": "white",
            "showbackground": true,
            "ticks": "",
            "zerolinecolor": "white"
           },
           "yaxis": {
            "backgroundcolor": "#E5ECF6",
            "gridcolor": "white",
            "gridwidth": 2,
            "linecolor": "white",
            "showbackground": true,
            "ticks": "",
            "zerolinecolor": "white"
           },
           "zaxis": {
            "backgroundcolor": "#E5ECF6",
            "gridcolor": "white",
            "gridwidth": 2,
            "linecolor": "white",
            "showbackground": true,
            "ticks": "",
            "zerolinecolor": "white"
           }
          },
          "shapedefaults": {
           "line": {
            "color": "#2a3f5f"
           }
          },
          "ternary": {
           "aaxis": {
            "gridcolor": "white",
            "linecolor": "white",
            "ticks": ""
           },
           "baxis": {
            "gridcolor": "white",
            "linecolor": "white",
            "ticks": ""
           },
           "bgcolor": "#E5ECF6",
           "caxis": {
            "gridcolor": "white",
            "linecolor": "white",
            "ticks": ""
           }
          },
          "title": {
           "x": 0.05
          },
          "xaxis": {
           "automargin": true,
           "gridcolor": "white",
           "linecolor": "white",
           "ticks": "",
           "title": {
            "standoff": 15
           },
           "zerolinecolor": "white",
           "zerolinewidth": 2
          },
          "yaxis": {
           "automargin": true,
           "gridcolor": "white",
           "linecolor": "white",
           "ticks": "",
           "title": {
            "standoff": 15
           },
           "zerolinecolor": "white",
           "zerolinewidth": 2
          }
         }
        },
        "xaxis": {
         "anchor": "y",
         "domain": [
          0,
          1
         ],
         "title": {
          "text": "Year"
         }
        },
        "yaxis": {
         "anchor": "x",
         "domain": [
          0,
          1
         ],
         "title": {
          "text": "Age"
         }
        }
       }
      }
     },
     "metadata": {},
     "output_type": "display_data"
    }
   ],
   "source": [
    "import plotly.express as px # e\n",
    "\n",
    "df = df\n",
    "fig = px.scatter(df, x=\"Year\", y=\"Age\", trendline=\"ols\")\n",
    "fig.show()"
   ]
  },
  {
   "cell_type": "code",
   "execution_count": 10,
   "metadata": {},
   "outputs": [],
   "source": [
    "# f \n",
    "# It was founded that the values of the slope in part (e) is the same as the slope in part (b)"
   ]
  },
  {
   "cell_type": "code",
   "execution_count": 11,
   "metadata": {},
   "outputs": [],
   "source": [
    "# g\n",
    "# A trendline is most reliable when its R-squared value is at or near 1.  \n",
    "# Which means that if the R-squared value is closer to 1, the line is fit better to the data.\n",
    "# It also means that the data distrubution is lesser.\n",
    "\n"
   ]
  },
  {
   "cell_type": "code",
   "execution_count": 12,
   "metadata": {},
   "outputs": [
    {
     "name": "stdout",
     "output_type": "stream",
     "text": [
      "                                          Country Name Country Code  \\\n",
      "0                                                Aruba          ABW   \n",
      "1                          Africa Eastern and Southern          AFE   \n",
      "2                                          Afghanistan          AFG   \n",
      "3                           Africa Western and Central          AFW   \n",
      "4                                               Angola          AGO   \n",
      "5                                              Albania          ALB   \n",
      "6                                              Andorra          AND   \n",
      "7                                           Arab World          ARB   \n",
      "8                                 United Arab Emirates          ARE   \n",
      "9                                            Argentina          ARG   \n",
      "10                                             Armenia          ARM   \n",
      "11                                      American Samoa          ASM   \n",
      "12                                 Antigua and Barbuda          ATG   \n",
      "13                                           Australia          AUS   \n",
      "14                                             Austria          AUT   \n",
      "15                                          Azerbaijan          AZE   \n",
      "16                                             Burundi          BDI   \n",
      "17                                             Belgium          BEL   \n",
      "18                                               Benin          BEN   \n",
      "19                                        Burkina Faso          BFA   \n",
      "20                                          Bangladesh          BGD   \n",
      "21                                            Bulgaria          BGR   \n",
      "22                                             Bahrain          BHR   \n",
      "23                                        Bahamas, The          BHS   \n",
      "24                              Bosnia and Herzegovina          BIH   \n",
      "25                                             Belarus          BLR   \n",
      "26                                              Belize          BLZ   \n",
      "27                                             Bermuda          BMU   \n",
      "28                                             Bolivia          BOL   \n",
      "29                                              Brazil          BRA   \n",
      "30                                            Barbados          BRB   \n",
      "31                                   Brunei Darussalam          BRN   \n",
      "32                                              Bhutan          BTN   \n",
      "33                                            Botswana          BWA   \n",
      "34                            Central African Republic          CAF   \n",
      "35                                              Canada          CAN   \n",
      "36                      Central Europe and the Baltics          CEB   \n",
      "37                                         Switzerland          CHE   \n",
      "38                                     Channel Islands          CHI   \n",
      "39                                               Chile          CHL   \n",
      "40                                               China          CHN   \n",
      "41                                       Cote d'Ivoire          CIV   \n",
      "42                                            Cameroon          CMR   \n",
      "43                                    Congo, Dem. Rep.          COD   \n",
      "44                                         Congo, Rep.          COG   \n",
      "45                                            Colombia          COL   \n",
      "46                                             Comoros          COM   \n",
      "47                                          Cabo Verde          CPV   \n",
      "48                                          Costa Rica          CRI   \n",
      "49                              Caribbean small states          CSS   \n",
      "50                                                Cuba          CUB   \n",
      "51                                             Curacao          CUW   \n",
      "52                                      Cayman Islands          CYM   \n",
      "53                                              Cyprus          CYP   \n",
      "54                                             Czechia          CZE   \n",
      "55                                             Germany          DEU   \n",
      "56                                            Djibouti          DJI   \n",
      "57                                            Dominica          DMA   \n",
      "58                                             Denmark          DNK   \n",
      "59                                  Dominican Republic          DOM   \n",
      "60                                             Algeria          DZA   \n",
      "61         East Asia & Pacific (excluding high income)          EAP   \n",
      "62                          Early-demographic dividend          EAR   \n",
      "63                                 East Asia & Pacific          EAS   \n",
      "64       Europe & Central Asia (excluding high income)          ECA   \n",
      "65                               Europe & Central Asia          ECS   \n",
      "66                                             Ecuador          ECU   \n",
      "67                                    Egypt, Arab Rep.          EGY   \n",
      "68                                           Euro area          EMU   \n",
      "69                                             Eritrea          ERI   \n",
      "70                                               Spain          ESP   \n",
      "71                                             Estonia          EST   \n",
      "72                                            Ethiopia          ETH   \n",
      "73                                      European Union          EUU   \n",
      "74            Fragile and conflict affected situations          FCS   \n",
      "75                                             Finland          FIN   \n",
      "76                                                Fiji          FJI   \n",
      "77                                              France          FRA   \n",
      "78                                       Faroe Islands          FRO   \n",
      "79                               Micronesia, Fed. Sts.          FSM   \n",
      "80                                               Gabon          GAB   \n",
      "81                                      United Kingdom          GBR   \n",
      "82                                             Georgia          GEO   \n",
      "83                                               Ghana          GHA   \n",
      "84                                           Gibraltar          GIB   \n",
      "85                                              Guinea          GIN   \n",
      "86                                         Gambia, The          GMB   \n",
      "87                                       Guinea-Bissau          GNB   \n",
      "88                                   Equatorial Guinea          GNQ   \n",
      "89                                              Greece          GRC   \n",
      "90                                             Grenada          GRD   \n",
      "91                                           Greenland          GRL   \n",
      "92                                           Guatemala          GTM   \n",
      "93                                                Guam          GUM   \n",
      "94                                              Guyana          GUY   \n",
      "95                                         High income          HIC   \n",
      "96                                Hong Kong SAR, China          HKG   \n",
      "97                                            Honduras          HND   \n",
      "98              Heavily indebted poor countries (HIPC)          HPC   \n",
      "99                                             Croatia          HRV   \n",
      "100                                              Haiti          HTI   \n",
      "101                                            Hungary          HUN   \n",
      "102                                          IBRD only          IBD   \n",
      "103                                   IDA & IBRD total          IBT   \n",
      "104                                          IDA total          IDA   \n",
      "105                                          IDA blend          IDB   \n",
      "106                                          Indonesia          IDN   \n",
      "107                                           IDA only          IDX   \n",
      "108                                        Isle of Man          IMN   \n",
      "109                                              India          IND   \n",
      "110                                     Not classified          INX   \n",
      "111                                            Ireland          IRL   \n",
      "112                                 Iran, Islamic Rep.          IRN   \n",
      "113                                               Iraq          IRQ   \n",
      "114                                            Iceland          ISL   \n",
      "115                                             Israel          ISR   \n",
      "116                                              Italy          ITA   \n",
      "117                                            Jamaica          JAM   \n",
      "118                                             Jordan          JOR   \n",
      "119                                              Japan          JPN   \n",
      "120                                         Kazakhstan          KAZ   \n",
      "121                                              Kenya          KEN   \n",
      "122                                    Kyrgyz Republic          KGZ   \n",
      "123                                           Cambodia          KHM   \n",
      "124                                           Kiribati          KIR   \n",
      "125                                St. Kitts and Nevis          KNA   \n",
      "126                                        Korea, Rep.          KOR   \n",
      "127                                             Kuwait          KWT   \n",
      "128  Latin America & Caribbean (excluding high income)          LAC   \n",
      "129                                            Lao PDR          LAO   \n",
      "130                                            Lebanon          LBN   \n",
      "131                                            Liberia          LBR   \n",
      "132                                              Libya          LBY   \n",
      "133                                          St. Lucia          LCA   \n",
      "134                          Latin America & Caribbean          LCN   \n",
      "135       Least developed countries: UN classification          LDC   \n",
      "136                                         Low income          LIC   \n",
      "137                                      Liechtenstein          LIE   \n",
      "138                                          Sri Lanka          LKA   \n",
      "139                                Lower middle income          LMC   \n",
      "140                                Low & middle income          LMY   \n",
      "141                                            Lesotho          LSO   \n",
      "142                          Late-demographic dividend          LTE   \n",
      "143                                          Lithuania          LTU   \n",
      "144                                         Luxembourg          LUX   \n",
      "145                                             Latvia          LVA   \n",
      "146                                   Macao SAR, China          MAC   \n",
      "147                           St. Martin (French part)          MAF   \n",
      "148                                            Morocco          MAR   \n",
      "149                                             Monaco          MCO   \n",
      "150                                            Moldova          MDA   \n",
      "151                                         Madagascar          MDG   \n",
      "152                                           Maldives          MDV   \n",
      "153                         Middle East & North Africa          MEA   \n",
      "154                                             Mexico          MEX   \n",
      "155                                   Marshall Islands          MHL   \n",
      "156                                      Middle income          MIC   \n",
      "157                                    North Macedonia          MKD   \n",
      "158                                               Mali          MLI   \n",
      "159                                              Malta          MLT   \n",
      "160                                            Myanmar          MMR   \n",
      "161  Middle East & North Africa (excluding high inc...          MNA   \n",
      "162                                         Montenegro          MNE   \n",
      "163                                           Mongolia          MNG   \n",
      "164                           Northern Mariana Islands          MNP   \n",
      "165                                         Mozambique          MOZ   \n",
      "166                                         Mauritania          MRT   \n",
      "167                                          Mauritius          MUS   \n",
      "168                                             Malawi          MWI   \n",
      "169                                           Malaysia          MYS   \n",
      "170                                      North America          NAC   \n",
      "171                                            Namibia          NAM   \n",
      "172                                      New Caledonia          NCL   \n",
      "173                                              Niger          NER   \n",
      "174                                            Nigeria          NGA   \n",
      "175                                          Nicaragua          NIC   \n",
      "176                                        Netherlands          NLD   \n",
      "177                                             Norway          NOR   \n",
      "178                                              Nepal          NPL   \n",
      "179                                              Nauru          NRU   \n",
      "180                                        New Zealand          NZL   \n",
      "181                                       OECD members          OED   \n",
      "182                                               Oman          OMN   \n",
      "183                                 Other small states          OSS   \n",
      "184                                           Pakistan          PAK   \n",
      "185                                             Panama          PAN   \n",
      "186                                               Peru          PER   \n",
      "187                                        Philippines          PHL   \n",
      "188                                              Palau          PLW   \n",
      "189                                   Papua New Guinea          PNG   \n",
      "190                                             Poland          POL   \n",
      "191                           Pre-demographic dividend          PRE   \n",
      "192                                        Puerto Rico          PRI   \n",
      "193                          Korea, Dem. People's Rep.          PRK   \n",
      "194                                           Portugal          PRT   \n",
      "195                                           Paraguay          PRY   \n",
      "196                                 West Bank and Gaza          PSE   \n",
      "197                        Pacific island small states          PSS   \n",
      "198                          Post-demographic dividend          PST   \n",
      "199                                   French Polynesia          PYF   \n",
      "200                                              Qatar          QAT   \n",
      "201                                            Romania          ROU   \n",
      "202                                 Russian Federation          RUS   \n",
      "203                                             Rwanda          RWA   \n",
      "204                                         South Asia          SAS   \n",
      "205                                       Saudi Arabia          SAU   \n",
      "206                                              Sudan          SDN   \n",
      "207                                            Senegal          SEN   \n",
      "208                                          Singapore          SGP   \n",
      "209                                    Solomon Islands          SLB   \n",
      "210                                       Sierra Leone          SLE   \n",
      "211                                        El Salvador          SLV   \n",
      "212                                         San Marino          SMR   \n",
      "213                                            Somalia          SOM   \n",
      "214                                             Serbia          SRB   \n",
      "215         Sub-Saharan Africa (excluding high income)          SSA   \n",
      "216                                        South Sudan          SSD   \n",
      "217                                 Sub-Saharan Africa          SSF   \n",
      "218                                       Small states          SST   \n",
      "219                              Sao Tome and Principe          STP   \n",
      "220                                           Suriname          SUR   \n",
      "221                                    Slovak Republic          SVK   \n",
      "222                                           Slovenia          SVN   \n",
      "223                                             Sweden          SWE   \n",
      "224                                           Eswatini          SWZ   \n",
      "225                          Sint Maarten (Dutch part)          SXM   \n",
      "226                                         Seychelles          SYC   \n",
      "227                               Syrian Arab Republic          SYR   \n",
      "228                           Turks and Caicos Islands          TCA   \n",
      "229                                               Chad          TCD   \n",
      "230         East Asia & Pacific (IDA & IBRD countries)          TEA   \n",
      "231       Europe & Central Asia (IDA & IBRD countries)          TEC   \n",
      "232                                               Togo          TGO   \n",
      "233                                           Thailand          THA   \n",
      "234                                         Tajikistan          TJK   \n",
      "235                                       Turkmenistan          TKM   \n",
      "236  Latin America & the Caribbean (IDA & IBRD coun...          TLA   \n",
      "237                                        Timor-Leste          TLS   \n",
      "238  Middle East & North Africa (IDA & IBRD countries)          TMN   \n",
      "239                                              Tonga          TON   \n",
      "240                            South Asia (IDA & IBRD)          TSA   \n",
      "241          Sub-Saharan Africa (IDA & IBRD countries)          TSS   \n",
      "242                                Trinidad and Tobago          TTO   \n",
      "243                                            Tunisia          TUN   \n",
      "244                                            Turkiye          TUR   \n",
      "245                                             Tuvalu          TUV   \n",
      "246                                           Tanzania          TZA   \n",
      "247                                             Uganda          UGA   \n",
      "248                                            Ukraine          UKR   \n",
      "249                                Upper middle income          UMC   \n",
      "250                                            Uruguay          URY   \n",
      "251                                      United States          USA   \n",
      "252                                         Uzbekistan          UZB   \n",
      "253                     St. Vincent and the Grenadines          VCT   \n",
      "254                                      Venezuela, RB          VEN   \n",
      "255                             British Virgin Islands          VGB   \n",
      "256                              Virgin Islands (U.S.)          VIR   \n",
      "257                                            Vietnam          VNM   \n",
      "258                                            Vanuatu          VUT   \n",
      "259                                              World          WLD   \n",
      "260                                              Samoa          WSM   \n",
      "261                                             Kosovo          XKX   \n",
      "262                                        Yemen, Rep.          YEM   \n",
      "263                                       South Africa          ZAF   \n",
      "264                                             Zambia          ZMB   \n",
      "265                                           Zimbabwe          ZWE   \n",
      "\n",
      "                              Indicator Name  Indicator Code       1960  \\\n",
      "0    Life expectancy at birth, total (years)  SP.DYN.LE00.IN  64.152000   \n",
      "1    Life expectancy at birth, total (years)  SP.DYN.LE00.IN  44.085552   \n",
      "2    Life expectancy at birth, total (years)  SP.DYN.LE00.IN  32.535000   \n",
      "3    Life expectancy at birth, total (years)  SP.DYN.LE00.IN  37.845152   \n",
      "4    Life expectancy at birth, total (years)  SP.DYN.LE00.IN  38.211000   \n",
      "5    Life expectancy at birth, total (years)  SP.DYN.LE00.IN  54.439000   \n",
      "6    Life expectancy at birth, total (years)  SP.DYN.LE00.IN        NaN   \n",
      "7    Life expectancy at birth, total (years)  SP.DYN.LE00.IN  44.972899   \n",
      "8    Life expectancy at birth, total (years)  SP.DYN.LE00.IN  48.811000   \n",
      "9    Life expectancy at birth, total (years)  SP.DYN.LE00.IN  63.978000   \n",
      "10   Life expectancy at birth, total (years)  SP.DYN.LE00.IN  61.431000   \n",
      "11   Life expectancy at birth, total (years)  SP.DYN.LE00.IN        NaN   \n",
      "12   Life expectancy at birth, total (years)  SP.DYN.LE00.IN  61.550000   \n",
      "13   Life expectancy at birth, total (years)  SP.DYN.LE00.IN  70.817073   \n",
      "14   Life expectancy at birth, total (years)  SP.DYN.LE00.IN  68.585610   \n",
      "15   Life expectancy at birth, total (years)  SP.DYN.LE00.IN  55.837000   \n",
      "16   Life expectancy at birth, total (years)  SP.DYN.LE00.IN  43.024000   \n",
      "17   Life expectancy at birth, total (years)  SP.DYN.LE00.IN  69.701951   \n",
      "18   Life expectancy at birth, total (years)  SP.DYN.LE00.IN  38.181000   \n",
      "19   Life expectancy at birth, total (years)  SP.DYN.LE00.IN  35.872000   \n",
      "20   Life expectancy at birth, total (years)  SP.DYN.LE00.IN  44.740000   \n",
      "21   Life expectancy at birth, total (years)  SP.DYN.LE00.IN  69.247561   \n",
      "22   Life expectancy at birth, total (years)  SP.DYN.LE00.IN  50.330000   \n",
      "23   Life expectancy at birth, total (years)  SP.DYN.LE00.IN  62.896000   \n",
      "24   Life expectancy at birth, total (years)  SP.DYN.LE00.IN  61.037000   \n",
      "25   Life expectancy at birth, total (years)  SP.DYN.LE00.IN  69.254610   \n",
      "26   Life expectancy at birth, total (years)  SP.DYN.LE00.IN  58.163000   \n",
      "27   Life expectancy at birth, total (years)  SP.DYN.LE00.IN  67.162000   \n",
      "28   Life expectancy at birth, total (years)  SP.DYN.LE00.IN  43.100000   \n",
      "29   Life expectancy at birth, total (years)  SP.DYN.LE00.IN  52.660000   \n",
      "30   Life expectancy at birth, total (years)  SP.DYN.LE00.IN  64.564000   \n",
      "31   Life expectancy at birth, total (years)  SP.DYN.LE00.IN  56.793000   \n",
      "32   Life expectancy at birth, total (years)  SP.DYN.LE00.IN  33.465000   \n",
      "33   Life expectancy at birth, total (years)  SP.DYN.LE00.IN  50.372000   \n",
      "34   Life expectancy at birth, total (years)  SP.DYN.LE00.IN  39.236000   \n",
      "35   Life expectancy at birth, total (years)  SP.DYN.LE00.IN  71.133171   \n",
      "36   Life expectancy at birth, total (years)  SP.DYN.LE00.IN  67.933952   \n",
      "37   Life expectancy at birth, total (years)  SP.DYN.LE00.IN  71.313415   \n",
      "38   Life expectancy at birth, total (years)  SP.DYN.LE00.IN  71.470000   \n",
      "39   Life expectancy at birth, total (years)  SP.DYN.LE00.IN  57.015000   \n",
      "40   Life expectancy at birth, total (years)  SP.DYN.LE00.IN  33.275000   \n",
      "41   Life expectancy at birth, total (years)  SP.DYN.LE00.IN  38.108000   \n",
      "42   Life expectancy at birth, total (years)  SP.DYN.LE00.IN  34.819000   \n",
      "43   Life expectancy at birth, total (years)  SP.DYN.LE00.IN  40.857000   \n",
      "44   Life expectancy at birth, total (years)  SP.DYN.LE00.IN  47.979000   \n",
      "45   Life expectancy at birth, total (years)  SP.DYN.LE00.IN  57.130000   \n",
      "46   Life expectancy at birth, total (years)  SP.DYN.LE00.IN  39.694000   \n",
      "47   Life expectancy at birth, total (years)  SP.DYN.LE00.IN  49.411000   \n",
      "48   Life expectancy at birth, total (years)  SP.DYN.LE00.IN  60.415000   \n",
      "49   Life expectancy at birth, total (years)  SP.DYN.LE00.IN  61.829494   \n",
      "50   Life expectancy at birth, total (years)  SP.DYN.LE00.IN  64.173000   \n",
      "51   Life expectancy at birth, total (years)  SP.DYN.LE00.IN  65.778024   \n",
      "52   Life expectancy at birth, total (years)  SP.DYN.LE00.IN        NaN   \n",
      "53   Life expectancy at birth, total (years)  SP.DYN.LE00.IN  64.187000   \n",
      "54   Life expectancy at birth, total (years)  SP.DYN.LE00.IN  70.348780   \n",
      "55   Life expectancy at birth, total (years)  SP.DYN.LE00.IN  69.064073   \n",
      "56   Life expectancy at birth, total (years)  SP.DYN.LE00.IN  43.429000   \n",
      "57   Life expectancy at birth, total (years)  SP.DYN.LE00.IN  59.026000   \n",
      "58   Life expectancy at birth, total (years)  SP.DYN.LE00.IN  72.176585   \n",
      "59   Life expectancy at birth, total (years)  SP.DYN.LE00.IN  50.264000   \n",
      "60   Life expectancy at birth, total (years)  SP.DYN.LE00.IN  40.532000   \n",
      "61   Life expectancy at birth, total (years)  SP.DYN.LE00.IN  37.754070   \n",
      "62   Life expectancy at birth, total (years)  SP.DYN.LE00.IN  46.879244   \n",
      "63   Life expectancy at birth, total (years)  SP.DYN.LE00.IN  41.638257   \n",
      "64   Life expectancy at birth, total (years)  SP.DYN.LE00.IN  64.439747   \n",
      "65   Life expectancy at birth, total (years)  SP.DYN.LE00.IN  67.478572   \n",
      "66   Life expectancy at birth, total (years)  SP.DYN.LE00.IN  53.364000   \n",
      "67   Life expectancy at birth, total (years)  SP.DYN.LE00.IN  45.373000   \n",
      "68   Life expectancy at birth, total (years)  SP.DYN.LE00.IN  69.284294   \n",
      "69   Life expectancy at birth, total (years)  SP.DYN.LE00.IN  37.500000   \n",
      "70   Life expectancy at birth, total (years)  SP.DYN.LE00.IN  69.109268   \n",
      "71   Life expectancy at birth, total (years)  SP.DYN.LE00.IN  68.933512   \n",
      "72   Life expectancy at birth, total (years)  SP.DYN.LE00.IN  40.330000   \n",
      "73   Life expectancy at birth, total (years)  SP.DYN.LE00.IN  69.037606   \n",
      "74   Life expectancy at birth, total (years)  SP.DYN.LE00.IN  46.225772   \n",
      "75   Life expectancy at birth, total (years)  SP.DYN.LE00.IN  68.819756   \n",
      "76   Life expectancy at birth, total (years)  SP.DYN.LE00.IN  57.588000   \n",
      "77   Life expectancy at birth, total (years)  SP.DYN.LE00.IN  69.868293   \n",
      "78   Life expectancy at birth, total (years)  SP.DYN.LE00.IN        NaN   \n",
      "79   Life expectancy at birth, total (years)  SP.DYN.LE00.IN  56.409000   \n",
      "80   Life expectancy at birth, total (years)  SP.DYN.LE00.IN  46.575000   \n",
      "81   Life expectancy at birth, total (years)  SP.DYN.LE00.IN  71.126829   \n",
      "82   Life expectancy at birth, total (years)  SP.DYN.LE00.IN  61.222000   \n",
      "83   Life expectancy at birth, total (years)  SP.DYN.LE00.IN  47.096000   \n",
      "84   Life expectancy at birth, total (years)  SP.DYN.LE00.IN  69.309000   \n",
      "85   Life expectancy at birth, total (years)  SP.DYN.LE00.IN  36.547000   \n",
      "86   Life expectancy at birth, total (years)  SP.DYN.LE00.IN  35.098000   \n",
      "87   Life expectancy at birth, total (years)  SP.DYN.LE00.IN  37.464000   \n",
      "88   Life expectancy at birth, total (years)  SP.DYN.LE00.IN  41.729000   \n",
      "89   Life expectancy at birth, total (years)  SP.DYN.LE00.IN  69.300000   \n",
      "90   Life expectancy at birth, total (years)  SP.DYN.LE00.IN  60.760000   \n",
      "91   Life expectancy at birth, total (years)  SP.DYN.LE00.IN        NaN   \n",
      "92   Life expectancy at birth, total (years)  SP.DYN.LE00.IN  45.808000   \n",
      "93   Life expectancy at birth, total (years)  SP.DYN.LE00.IN  60.897000   \n",
      "94   Life expectancy at birth, total (years)  SP.DYN.LE00.IN  58.034000   \n",
      "95   Life expectancy at birth, total (years)  SP.DYN.LE00.IN  68.414642   \n",
      "96   Life expectancy at birth, total (years)  SP.DYN.LE00.IN  65.866293   \n",
      "97   Life expectancy at birth, total (years)  SP.DYN.LE00.IN  48.317000   \n",
      "98   Life expectancy at birth, total (years)  SP.DYN.LE00.IN  40.743203   \n",
      "99   Life expectancy at birth, total (years)  SP.DYN.LE00.IN  65.482366   \n",
      "100  Life expectancy at birth, total (years)  SP.DYN.LE00.IN  43.499000   \n",
      "101  Life expectancy at birth, total (years)  SP.DYN.LE00.IN  68.003171   \n",
      "102  Life expectancy at birth, total (years)  SP.DYN.LE00.IN  45.831547   \n",
      "103  Life expectancy at birth, total (years)  SP.DYN.LE00.IN  45.320120   \n",
      "104  Life expectancy at birth, total (years)  SP.DYN.LE00.IN  42.845920   \n",
      "105  Life expectancy at birth, total (years)  SP.DYN.LE00.IN  43.131329   \n",
      "106  Life expectancy at birth, total (years)  SP.DYN.LE00.IN  46.452000   \n",
      "107  Life expectancy at birth, total (years)  SP.DYN.LE00.IN  42.720180   \n",
      "108  Life expectancy at birth, total (years)  SP.DYN.LE00.IN  64.409000   \n",
      "109  Life expectancy at birth, total (years)  SP.DYN.LE00.IN  45.218000   \n",
      "110  Life expectancy at birth, total (years)  SP.DYN.LE00.IN        NaN   \n",
      "111  Life expectancy at birth, total (years)  SP.DYN.LE00.IN  70.194268   \n",
      "112  Life expectancy at birth, total (years)  SP.DYN.LE00.IN  43.957000   \n",
      "113  Life expectancy at birth, total (years)  SP.DYN.LE00.IN  52.618000   \n",
      "114  Life expectancy at birth, total (years)  SP.DYN.LE00.IN  73.762049   \n",
      "115  Life expectancy at birth, total (years)  SP.DYN.LE00.IN        NaN   \n",
      "116  Life expectancy at birth, total (years)  SP.DYN.LE00.IN  69.123902   \n",
      "117  Life expectancy at birth, total (years)  SP.DYN.LE00.IN  64.042000   \n",
      "118  Life expectancy at birth, total (years)  SP.DYN.LE00.IN  52.617000   \n",
      "119  Life expectancy at birth, total (years)  SP.DYN.LE00.IN  67.695610   \n",
      "120  Life expectancy at birth, total (years)  SP.DYN.LE00.IN  58.370512   \n",
      "121  Life expectancy at birth, total (years)  SP.DYN.LE00.IN  48.680000   \n",
      "122  Life expectancy at birth, total (years)  SP.DYN.LE00.IN  55.083024   \n",
      "123  Life expectancy at birth, total (years)  SP.DYN.LE00.IN  42.361000   \n",
      "124  Life expectancy at birth, total (years)  SP.DYN.LE00.IN  47.873000   \n",
      "125  Life expectancy at birth, total (years)  SP.DYN.LE00.IN  55.909000   \n",
      "126  Life expectancy at birth, total (years)  SP.DYN.LE00.IN  54.320244   \n",
      "127  Life expectancy at birth, total (years)  SP.DYN.LE00.IN  56.919000   \n",
      "128  Life expectancy at birth, total (years)  SP.DYN.LE00.IN  54.494936   \n",
      "129  Life expectancy at birth, total (years)  SP.DYN.LE00.IN  40.790000   \n",
      "130  Life expectancy at birth, total (years)  SP.DYN.LE00.IN  64.841000   \n",
      "131  Life expectancy at birth, total (years)  SP.DYN.LE00.IN  38.330000   \n",
      "132  Life expectancy at birth, total (years)  SP.DYN.LE00.IN  40.268000   \n",
      "133  Life expectancy at birth, total (years)  SP.DYN.LE00.IN  55.724000   \n",
      "134  Life expectancy at birth, total (years)  SP.DYN.LE00.IN  55.153879   \n",
      "135  Life expectancy at birth, total (years)  SP.DYN.LE00.IN  41.221473   \n",
      "136  Life expectancy at birth, total (years)  SP.DYN.LE00.IN  41.085122   \n",
      "137  Life expectancy at birth, total (years)  SP.DYN.LE00.IN        NaN   \n",
      "138  Life expectancy at birth, total (years)  SP.DYN.LE00.IN  60.699000   \n",
      "139  Life expectancy at birth, total (years)  SP.DYN.LE00.IN  46.856592   \n",
      "140  Life expectancy at birth, total (years)  SP.DYN.LE00.IN  44.790793   \n",
      "141  Life expectancy at birth, total (years)  SP.DYN.LE00.IN  50.364000   \n",
      "142  Life expectancy at birth, total (years)  SP.DYN.LE00.IN  43.834225   \n",
      "143  Life expectancy at birth, total (years)  SP.DYN.LE00.IN  69.847317   \n",
      "144  Life expectancy at birth, total (years)  SP.DYN.LE00.IN  68.592537   \n",
      "145  Life expectancy at birth, total (years)  SP.DYN.LE00.IN  69.786829   \n",
      "146  Life expectancy at birth, total (years)  SP.DYN.LE00.IN  64.965000   \n",
      "147  Life expectancy at birth, total (years)  SP.DYN.LE00.IN  67.865000   \n",
      "148  Life expectancy at birth, total (years)  SP.DYN.LE00.IN  42.017000   \n",
      "149  Life expectancy at birth, total (years)  SP.DYN.LE00.IN        NaN   \n",
      "150  Life expectancy at birth, total (years)  SP.DYN.LE00.IN  61.074000   \n",
      "151  Life expectancy at birth, total (years)  SP.DYN.LE00.IN  43.241000   \n",
      "152  Life expectancy at birth, total (years)  SP.DYN.LE00.IN  38.529000   \n",
      "153  Life expectancy at birth, total (years)  SP.DYN.LE00.IN  44.757573   \n",
      "154  Life expectancy at birth, total (years)  SP.DYN.LE00.IN  55.017000   \n",
      "155  Life expectancy at birth, total (years)  SP.DYN.LE00.IN  53.821000   \n",
      "156  Life expectancy at birth, total (years)  SP.DYN.LE00.IN  45.029518   \n",
      "157  Life expectancy at birth, total (years)  SP.DYN.LE00.IN  56.223049   \n",
      "158  Life expectancy at birth, total (years)  SP.DYN.LE00.IN  29.754000   \n",
      "159  Life expectancy at birth, total (years)  SP.DYN.LE00.IN  68.214293   \n",
      "160  Life expectancy at birth, total (years)  SP.DYN.LE00.IN  43.906000   \n",
      "161  Life expectancy at birth, total (years)  SP.DYN.LE00.IN  44.621149   \n",
      "162  Life expectancy at birth, total (years)  SP.DYN.LE00.IN  64.873610   \n",
      "163  Life expectancy at birth, total (years)  SP.DYN.LE00.IN  44.984000   \n",
      "164  Life expectancy at birth, total (years)  SP.DYN.LE00.IN        NaN   \n",
      "165  Life expectancy at birth, total (years)  SP.DYN.LE00.IN  41.221000   \n",
      "166  Life expectancy at birth, total (years)  SP.DYN.LE00.IN  44.767000   \n",
      "167  Life expectancy at birth, total (years)  SP.DYN.LE00.IN  55.466537   \n",
      "168  Life expectancy at birth, total (years)  SP.DYN.LE00.IN  35.199000   \n",
      "169  Life expectancy at birth, total (years)  SP.DYN.LE00.IN  56.502000   \n",
      "170  Life expectancy at birth, total (years)  SP.DYN.LE00.IN  69.892995   \n",
      "171  Life expectancy at birth, total (years)  SP.DYN.LE00.IN  47.679000   \n",
      "172  Life expectancy at birth, total (years)  SP.DYN.LE00.IN  58.639024   \n",
      "173  Life expectancy at birth, total (years)  SP.DYN.LE00.IN  36.404000   \n",
      "174  Life expectancy at birth, total (years)  SP.DYN.LE00.IN  37.371000   \n",
      "175  Life expectancy at birth, total (years)  SP.DYN.LE00.IN  46.125000   \n",
      "176  Life expectancy at birth, total (years)  SP.DYN.LE00.IN  73.392683   \n",
      "177  Life expectancy at birth, total (years)  SP.DYN.LE00.IN  73.549756   \n",
      "178  Life expectancy at birth, total (years)  SP.DYN.LE00.IN  38.559000   \n",
      "179  Life expectancy at birth, total (years)  SP.DYN.LE00.IN  58.572000   \n",
      "180  Life expectancy at birth, total (years)  SP.DYN.LE00.IN  71.236585   \n",
      "181  Life expectancy at birth, total (years)  SP.DYN.LE00.IN  67.306220   \n",
      "182  Life expectancy at birth, total (years)  SP.DYN.LE00.IN  35.450000   \n",
      "183  Life expectancy at birth, total (years)  SP.DYN.LE00.IN  51.931332   \n",
      "184  Life expectancy at birth, total (years)  SP.DYN.LE00.IN  44.932000   \n",
      "185  Life expectancy at birth, total (years)  SP.DYN.LE00.IN  60.702000   \n",
      "186  Life expectancy at birth, total (years)  SP.DYN.LE00.IN  50.495000   \n",
      "187  Life expectancy at birth, total (years)  SP.DYN.LE00.IN  59.227000   \n",
      "188  Life expectancy at birth, total (years)  SP.DYN.LE00.IN        NaN   \n",
      "189  Life expectancy at birth, total (years)  SP.DYN.LE00.IN  45.679000   \n",
      "190  Life expectancy at birth, total (years)  SP.DYN.LE00.IN  67.680488   \n",
      "191  Life expectancy at birth, total (years)  SP.DYN.LE00.IN  39.856067   \n",
      "192  Life expectancy at birth, total (years)  SP.DYN.LE00.IN  68.934000   \n",
      "193  Life expectancy at birth, total (years)  SP.DYN.LE00.IN  54.050000   \n",
      "194  Life expectancy at birth, total (years)  SP.DYN.LE00.IN  64.007463   \n",
      "195  Life expectancy at birth, total (years)  SP.DYN.LE00.IN  60.423000   \n",
      "196  Life expectancy at birth, total (years)  SP.DYN.LE00.IN        NaN   \n",
      "197  Life expectancy at birth, total (years)  SP.DYN.LE00.IN  54.535021   \n",
      "198  Life expectancy at birth, total (years)  SP.DYN.LE00.IN  68.865666   \n",
      "199  Life expectancy at birth, total (years)  SP.DYN.LE00.IN  59.675000   \n",
      "200  Life expectancy at birth, total (years)  SP.DYN.LE00.IN  58.933000   \n",
      "201  Life expectancy at birth, total (years)  SP.DYN.LE00.IN  65.860537   \n",
      "202  Life expectancy at birth, total (years)  SP.DYN.LE00.IN  67.465220   \n",
      "203  Life expectancy at birth, total (years)  SP.DYN.LE00.IN  47.178000   \n",
      "204  Life expectancy at birth, total (years)  SP.DYN.LE00.IN  45.102367   \n",
      "205  Life expectancy at birth, total (years)  SP.DYN.LE00.IN  45.940000   \n",
      "206  Life expectancy at birth, total (years)  SP.DYN.LE00.IN  46.603000   \n",
      "207  Life expectancy at birth, total (years)  SP.DYN.LE00.IN  39.878000   \n",
      "208  Life expectancy at birth, total (years)  SP.DYN.LE00.IN  64.694683   \n",
      "209  Life expectancy at birth, total (years)  SP.DYN.LE00.IN  47.741000   \n",
      "210  Life expectancy at birth, total (years)  SP.DYN.LE00.IN  33.961000   \n",
      "211  Life expectancy at birth, total (years)  SP.DYN.LE00.IN  48.084000   \n",
      "212  Life expectancy at birth, total (years)  SP.DYN.LE00.IN        NaN   \n",
      "213  Life expectancy at birth, total (years)  SP.DYN.LE00.IN  43.452000   \n",
      "214  Life expectancy at birth, total (years)  SP.DYN.LE00.IN  63.934000   \n",
      "215  Life expectancy at birth, total (years)  SP.DYN.LE00.IN  41.422546   \n",
      "216  Life expectancy at birth, total (years)  SP.DYN.LE00.IN  28.662000   \n",
      "217  Life expectancy at birth, total (years)  SP.DYN.LE00.IN  41.422546   \n",
      "218  Life expectancy at birth, total (years)  SP.DYN.LE00.IN  55.045272   \n",
      "219  Life expectancy at birth, total (years)  SP.DYN.LE00.IN  43.040000   \n",
      "220  Life expectancy at birth, total (years)  SP.DYN.LE00.IN  57.102000   \n",
      "221  Life expectancy at birth, total (years)  SP.DYN.LE00.IN  70.269780   \n",
      "222  Life expectancy at birth, total (years)  SP.DYN.LE00.IN  68.978049   \n",
      "223  Life expectancy at birth, total (years)  SP.DYN.LE00.IN  73.005610   \n",
      "224  Life expectancy at birth, total (years)  SP.DYN.LE00.IN  45.813000   \n",
      "225  Life expectancy at birth, total (years)  SP.DYN.LE00.IN  66.246000   \n",
      "226  Life expectancy at birth, total (years)  SP.DYN.LE00.IN        NaN   \n",
      "227  Life expectancy at birth, total (years)  SP.DYN.LE00.IN  53.547000   \n",
      "228  Life expectancy at birth, total (years)  SP.DYN.LE00.IN  55.032000   \n",
      "229  Life expectancy at birth, total (years)  SP.DYN.LE00.IN  38.374000   \n",
      "230  Life expectancy at birth, total (years)  SP.DYN.LE00.IN  37.539508   \n",
      "231  Life expectancy at birth, total (years)  SP.DYN.LE00.IN  64.850633   \n",
      "232  Life expectancy at birth, total (years)  SP.DYN.LE00.IN  42.692000   \n",
      "233  Life expectancy at birth, total (years)  SP.DYN.LE00.IN  51.035000   \n",
      "234  Life expectancy at birth, total (years)  SP.DYN.LE00.IN  53.628000   \n",
      "235  Life expectancy at birth, total (years)  SP.DYN.LE00.IN  53.469000   \n",
      "236  Life expectancy at birth, total (years)  SP.DYN.LE00.IN  54.659327   \n",
      "237  Life expectancy at birth, total (years)  SP.DYN.LE00.IN  32.200000   \n",
      "238  Life expectancy at birth, total (years)  SP.DYN.LE00.IN  44.621149   \n",
      "239  Life expectancy at birth, total (years)  SP.DYN.LE00.IN  58.231000   \n",
      "240  Life expectancy at birth, total (years)  SP.DYN.LE00.IN  45.102367   \n",
      "241  Life expectancy at birth, total (years)  SP.DYN.LE00.IN  41.422546   \n",
      "242  Life expectancy at birth, total (years)  SP.DYN.LE00.IN  63.026000   \n",
      "243  Life expectancy at birth, total (years)  SP.DYN.LE00.IN  43.940000   \n",
      "244  Life expectancy at birth, total (years)  SP.DYN.LE00.IN  50.740000   \n",
      "245  Life expectancy at birth, total (years)  SP.DYN.LE00.IN  46.355000   \n",
      "246  Life expectancy at birth, total (years)  SP.DYN.LE00.IN  42.937000   \n",
      "247  Life expectancy at birth, total (years)  SP.DYN.LE00.IN  45.506000   \n",
      "248  Life expectancy at birth, total (years)  SP.DYN.LE00.IN  69.485049   \n",
      "249  Life expectancy at birth, total (years)  SP.DYN.LE00.IN  43.652139   \n",
      "250  Life expectancy at birth, total (years)  SP.DYN.LE00.IN  67.772000   \n",
      "251  Life expectancy at birth, total (years)  SP.DYN.LE00.IN  69.770732   \n",
      "252  Life expectancy at birth, total (years)  SP.DYN.LE00.IN  57.473000   \n",
      "253  Life expectancy at birth, total (years)  SP.DYN.LE00.IN  56.443000   \n",
      "254  Life expectancy at birth, total (years)  SP.DYN.LE00.IN  58.647000   \n",
      "255  Life expectancy at birth, total (years)  SP.DYN.LE00.IN  59.564000   \n",
      "256  Life expectancy at birth, total (years)  SP.DYN.LE00.IN  63.745976   \n",
      "257  Life expectancy at birth, total (years)  SP.DYN.LE00.IN  59.657000   \n",
      "258  Life expectancy at birth, total (years)  SP.DYN.LE00.IN  49.630000   \n",
      "259  Life expectancy at birth, total (years)  SP.DYN.LE00.IN  50.894180   \n",
      "260  Life expectancy at birth, total (years)  SP.DYN.LE00.IN  54.688000   \n",
      "261  Life expectancy at birth, total (years)  SP.DYN.LE00.IN  61.485000   \n",
      "262  Life expectancy at birth, total (years)  SP.DYN.LE00.IN  33.678000   \n",
      "263  Life expectancy at birth, total (years)  SP.DYN.LE00.IN  52.669000   \n",
      "264  Life expectancy at birth, total (years)  SP.DYN.LE00.IN  49.042000   \n",
      "265  Life expectancy at birth, total (years)  SP.DYN.LE00.IN  53.235000   \n",
      "\n",
      "          1961       1962       1963       1964       1965  ...       2013  \\\n",
      "0    64.537000  64.752000  65.132000  65.294000  65.502000  ...  75.636000   \n",
      "1    44.386697  44.752182  44.913159  45.479043  45.498338  ...  60.709870   \n",
      "2    33.068000  33.547000  34.016000  34.494000  34.953000  ...  62.417000   \n",
      "3    38.164950  38.735102  39.063715  39.335360  39.618038  ...  55.673406   \n",
      "4    37.267000  37.539000  37.824000  38.131000  38.495000  ...  59.307000   \n",
      "5    55.634000  56.671000  57.844000  58.983000  60.019000  ...  78.123000   \n",
      "6          NaN        NaN        NaN        NaN        NaN  ...        NaN   \n",
      "7    45.676401  46.122576  46.972472  47.895758  48.232107  ...  70.196514   \n",
      "8    49.695000  50.686000  51.584000  52.848000  53.985000  ...  78.853000   \n",
      "9    64.360000  64.244000  64.449000  64.363000  64.593000  ...  76.491000   \n",
      "10   61.803000  62.125000  62.223000  62.418000  62.754000  ...  73.676000   \n",
      "11         NaN        NaN        NaN        NaN        NaN  ...        NaN   \n",
      "12   62.363000  63.192000  64.101000  65.058000  66.026000  ...  77.583000   \n",
      "13   70.973171  70.942439  70.911707  70.880976  70.850244  ...  82.148780   \n",
      "14   69.577317  69.309512  69.443659  69.921951  69.722195  ...  81.136585   \n",
      "15   56.192000  56.516000  56.898000  57.196000  57.619000  ...  70.881000   \n",
      "16   43.252000  43.441000  43.718000  43.974000  42.005000  ...  59.235000   \n",
      "17   70.520976  70.219512  70.051463  70.755122  70.625366  ...  80.587805   \n",
      "18   38.542000  38.928000  39.334000  39.758000  40.184000  ...  58.965000   \n",
      "19   36.240000  36.665000  36.974000  37.251000  37.691000  ...  57.823000   \n",
      "20   45.662000  46.701000  46.655000  47.741000  46.858000  ...  69.565000   \n",
      "21   70.195610  69.491951  70.309268  71.121220  71.293902  ...  74.860976   \n",
      "22   52.112000  53.697000  55.285000  56.778000  58.228000  ...  79.246000   \n",
      "23   63.185000  63.433000  63.732000  64.050000  64.362000  ...  73.024000   \n",
      "24   61.856000  62.511000  63.274000  63.948000  64.555000  ...  76.330000   \n",
      "25   69.738390  69.462317  69.709780  70.619244  70.597488  ...  72.470732   \n",
      "26   53.356000  59.000000  59.569000  60.057000  60.629000  ...  73.666000   \n",
      "27   64.111000  63.837000  63.778000  67.641000  67.848000  ...  79.992000   \n",
      "28   43.400000  43.791000  44.077000  44.366000  44.712000  ...  67.021000   \n",
      "29   53.183000  53.710000  54.209000  54.648000  55.084000  ...  73.918000   \n",
      "30   65.318000  65.897000  66.487000  67.020000  67.376000  ...  76.275000   \n",
      "31   57.817000  57.667000  59.779000  60.582000  61.193000  ...  74.799000   \n",
      "32   33.946000  34.469000  35.029000  35.618000  36.240000  ...  69.707000   \n",
      "33   50.891000  51.389000  51.881000  52.349000  52.809000  ...  61.996000   \n",
      "34   39.737000  40.256000  40.781000  41.345000  41.929000  ...  50.902000   \n",
      "35   71.346098  71.367073  71.380732  71.776341  71.872195  ...  81.744878   \n",
      "36   68.235932  67.690162  68.674003  69.170227  69.323460  ...  76.355163   \n",
      "37   71.644878  71.196098  71.187561  72.077805  72.201707  ...  82.797561   \n",
      "38   69.747000  72.043000  70.305000  72.476000  72.031000  ...  81.516000   \n",
      "39   57.537000  57.771000  57.150000  58.738000  59.455000  ...  79.339000   \n",
      "40   40.468000  50.818000  51.408000  52.156000  52.912000  ...  76.452000   \n",
      "41   38.744000  39.402000  39.955000  40.606000  41.177000  ...  56.748000   \n",
      "42   35.406000  42.516000  42.918000  43.310000  43.889000  ...  58.476000   \n",
      "43   40.239000  40.342000  40.604000  40.052000  40.704000  ...  57.762000   \n",
      "44   48.697000  49.499000  50.118000  50.696000  51.200000  ...  62.695000   \n",
      "45   57.730000  58.301000  58.892000  59.375000  59.815000  ...  75.827000   \n",
      "46   40.147000  40.580000  40.926000  41.250000  41.700000  ...  62.224000   \n",
      "47   49.953000  50.392000  50.894000  51.345000  51.808000  ...  75.059000   \n",
      "48   60.901000  61.111000  61.624000  62.083000  62.663000  ...  79.403000   \n",
      "49   62.068665  62.601167  63.167160  63.592164  63.910157  ...  72.720908   \n",
      "50   64.512000  65.038000  64.940000  65.905000  66.318000  ...  77.870000   \n",
      "51   65.909293  66.199024  66.474317  66.667585  66.906220  ...  77.826829   \n",
      "52         NaN        NaN        NaN        NaN        NaN  ...        NaN   \n",
      "53   64.804000  65.424000  62.282000  62.790000  67.052000  ...  80.402000   \n",
      "54   70.512683  69.786829  70.304390  70.459512  70.163171  ...  78.175610   \n",
      "55   69.644878  69.799220  69.914073  70.435561  70.410366  ...  80.490244   \n",
      "56   43.721000  44.088000  44.414000  44.667000  45.088000  ...  61.221000   \n",
      "57   59.949000  61.741000  58.688000  64.493000  64.587000  ...  68.896000   \n",
      "58   72.438293  72.319756  72.400488  72.485122  72.370732  ...  80.300000   \n",
      "59   50.840000  51.411000  51.799000  52.542000  50.864000  ...  72.713000   \n",
      "60   40.516000  39.323000  42.908000  42.788000  42.714000  ...  74.615000   \n",
      "61   43.358706  51.127779  51.630961  52.359259  52.287626  ...  74.644746   \n",
      "62   47.365520  47.789552  48.187870  48.670699  47.679670  ...  69.066327   \n",
      "63   46.577020  53.286611  53.816421  54.507123  54.469055  ...  75.479116   \n",
      "64   64.689911  64.579496  65.019507  65.511077  65.345038  ...  72.104643   \n",
      "65   67.751047  67.624774  67.959077  68.480946  68.465783  ...  76.986049   \n",
      "66   53.895000  54.401000  54.880000  55.305000  55.664000  ...  76.369000   \n",
      "67   46.024000  46.843000  47.672000  48.470000  49.128000  ...  70.052000   \n",
      "68   69.713369  69.673953  69.832917  70.388553  70.461234  ...  81.513627   \n",
      "69   37.974000  38.393000  38.774000  39.240000  39.554000  ...  65.067000   \n",
      "70   69.480488  69.519024  69.681220  70.399756  70.809268  ...  83.078049   \n",
      "71   68.962122  68.791805  69.210122  70.057317  69.680732  ...  77.141463   \n",
      "72   40.995000  41.403000  41.956000  42.275000  42.444000  ...  62.373000   \n",
      "73   69.437354  69.281273  69.641270  70.160919  70.270865  ...  80.464794   \n",
      "74   46.539628  46.882492  47.184596  47.697004  47.804256  ...  60.463964   \n",
      "75   68.844146  68.577805  69.012683  69.220976  68.977805  ...  80.975610   \n",
      "76   58.199000  58.934000  59.552000  60.219000  60.805000  ...  67.428000   \n",
      "77   70.117073  70.314634  70.514634  70.663415  70.812195  ...  82.219512   \n",
      "78         NaN        NaN        NaN        NaN        NaN  ...  81.441463   \n",
      "79   57.110000  57.803000  58.176000  58.532000  59.110000  ...  71.499000   \n",
      "80   47.228000  47.838000  48.479000  49.048000  49.752000  ...  64.776000   \n",
      "81   70.878049  70.926829  70.826829  71.624390  71.624390  ...  81.004878   \n",
      "82   61.416000  61.858000  62.228000  62.333000  62.852000  ...  72.628000   \n",
      "83   47.325000  47.405000  47.578000  47.719000  47.778000  ...  62.420000   \n",
      "84   69.234000  69.481000  69.257000  70.168000  70.608000  ...  80.550000   \n",
      "85   36.750000  36.913000  37.164000  37.341000  37.599000  ...  57.791000   \n",
      "86   35.568000  35.989000  36.496000  36.948000  37.445000  ...  62.114000   \n",
      "87   37.695000  37.932000  35.661000  35.984000  36.383000  ...  58.232000   \n",
      "88   41.994000  42.258000  42.546000  42.749000  43.054000  ...  59.224000   \n",
      "89   70.315854  70.254976  70.610537  70.569390  71.428317  ...  81.285366   \n",
      "90   61.792000  62.877000  64.077000  64.841000  64.728000  ...  75.116000   \n",
      "91         NaN        NaN        NaN        NaN        NaN  ...  71.573415   \n",
      "92   46.470000  46.995000  47.407000  47.712000  47.814000  ...  71.728000   \n",
      "93   61.395000  61.708000  62.359000  62.878000  62.893000  ...  76.720000   \n",
      "94   58.460000  58.864000  59.202000  59.494000  59.742000  ...  67.473000   \n",
      "95   68.815156  68.777241  69.013925  69.496625  69.620231  ...  80.343409   \n",
      "96   66.558878  66.977171  67.685732  68.446098  69.251220  ...  83.831707   \n",
      "97   48.730000  49.668000  50.250000  50.812000  51.465000  ...  71.963000   \n",
      "98   41.071672  41.622377  41.763934  42.253056  42.401399  ...  60.644561   \n",
      "99   66.180341  66.469146  66.855805  67.292317  67.832561  ...  77.126829   \n",
      "100  43.914000  44.291000  42.769000  44.968000  45.351000  ...  62.605000   \n",
      "101  68.936098  67.865854  68.874146  69.380976  69.071220  ...  75.565854   \n",
      "102  48.669649  52.359673  52.832885  53.354844  53.062284  ...  72.492566   \n",
      "103  47.749930  50.893898  51.337600  51.880499  51.668051  ...  69.911453   \n",
      "104  43.359497  43.946983  44.263890  44.924641  45.111826  ...  62.110371   \n",
      "105  43.739127  44.534137  45.219446  45.817112  46.378843  ...  59.959624   \n",
      "106  47.117000  47.871000  48.429000  49.232000  42.599000  ...  69.264000   \n",
      "107  43.192342  43.688619  43.843504  44.532066  44.554538  ...  63.194096   \n",
      "108  63.629000  64.293000  63.522000  64.838000  64.978000  ...  79.473000   \n",
      "109  45.398000  45.659000  45.936000  46.184000  44.980000  ...  68.460000   \n",
      "110        NaN        NaN        NaN        NaN        NaN  ...        NaN   \n",
      "111  69.678293  69.991049  70.230098  70.489927  70.695000  ...  80.948780   \n",
      "112  44.550000  44.269000  45.619000  46.196000  46.744000  ...  74.449000   \n",
      "113  53.411000  54.326000  54.948000  55.633000  56.616000  ...  68.253000   \n",
      "114  73.503415  73.721951  73.042927  73.541707  73.868780  ...  82.060976   \n",
      "115  72.006585  72.112195        NaN        NaN        NaN  ...  82.056098   \n",
      "116  69.760244  69.149756  69.248049  70.311707  70.171707  ...  82.690244   \n",
      "117  64.394000  64.491000  65.270000  65.622000  65.972000  ...  73.412000   \n",
      "118  53.671000  54.658000  55.575000  56.559000  57.415000  ...  74.562000   \n",
      "119  68.351951  68.634878  69.712439  70.206585  70.266829  ...  83.331951   \n",
      "120  58.503073  58.621756  58.944512  59.157488  59.461683  ...  70.620000   \n",
      "121  49.533000  50.224000  50.808000  51.328000  51.700000  ...  61.389000   \n",
      "122  55.320951  55.648927  55.976951  56.180341  56.409488  ...  70.202439   \n",
      "123  42.792000  43.316000  43.898000  44.398000  44.789000  ...  69.304000   \n",
      "124  48.381000  48.960000  49.624000  50.323000  51.038000  ...  65.588000   \n",
      "125  55.818000  57.183000  58.608000  59.037000  59.593000  ...  71.457000   \n",
      "126  54.924000  55.519512  55.974878  57.174780  58.240488  ...  81.270732   \n",
      "127  58.015000  59.079000  60.162000  61.158000  62.219000  ...  79.164000   \n",
      "128  55.045468  55.526591  55.989641  56.471035  56.855169  ...  74.191064   \n",
      "129  41.066000  42.009000  41.332000  41.649000  42.056000  ...  65.718000   \n",
      "130  65.290000  65.397000  65.668000  65.953000  66.065000  ...  78.765000   \n",
      "131  38.333000  38.402000  38.473000  38.607000  38.812000  ...  59.943000   \n",
      "132  42.063000  43.843000  45.305000  47.142000  48.657000  ...  72.340000   \n",
      "133  56.993000  58.041000  58.889000  59.966000  60.883000  ...  72.735000   \n",
      "134  55.697948  56.145299  56.565337  57.073366  57.470838  ...  74.346485   \n",
      "135  41.651310  42.151074  42.274903  43.001477  42.972784  ...  62.703947   \n",
      "136  41.433084  41.772609  41.926519  42.579932  42.640145  ...  60.928352   \n",
      "137        NaN        NaN        NaN        NaN        NaN  ...  82.260976   \n",
      "138  61.328000  61.733000  61.976000  62.174000  62.637000  ...  74.239000   \n",
      "139  47.208065  47.554148  47.903058  48.311565  47.814526  ...  67.172139   \n",
      "140  47.276467  50.511587  50.945052  51.493668  51.271018  ...  69.818756   \n",
      "141  50.429000  50.409000  50.263000  50.189000  50.057000  ...  49.002000   \n",
      "142  48.515714  54.787717  55.268231  55.910670  56.392955  ...  75.521017   \n",
      "143  70.102683  69.095366  70.204390  71.509024  71.325122  ...  73.914634   \n",
      "144  69.266829  68.105171  68.721927  69.391683  69.025415  ...  81.800000   \n",
      "145  70.032439  69.430488  69.829024  71.028049  70.726585  ...  73.982927   \n",
      "146  65.485000  65.946000  66.386000  66.800000  67.199000  ...  83.727000   \n",
      "147  67.704000  68.387000  69.384000  69.495000  68.489000  ...  78.908000   \n",
      "148  43.795000  44.297000  44.820000  45.392000  45.973000  ...  72.122000   \n",
      "149        NaN        NaN        NaN        NaN        NaN  ...        NaN   \n",
      "150  61.446000  61.922000  62.355000  62.810000  63.152000  ...  69.099000   \n",
      "151  43.636000  44.056000  44.448000  44.870000  45.222000  ...  63.962000   \n",
      "152  38.982000  39.458000  40.071000  40.722000  41.383000  ...  79.057000   \n",
      "153  46.010857  46.321542  46.907869  47.585561  48.197518  ...  72.344243   \n",
      "154  55.831000  56.599000  57.310000  57.947000  58.499000  ...  74.739000   \n",
      "155  54.316000  54.928000  55.515000  56.049000  56.564000  ...  63.464000   \n",
      "156  47.656704  51.082823  51.534428  52.076676  51.836363  ...  70.722670   \n",
      "157  57.799829  57.523341  56.699341  58.985927  60.001927  ...  75.400000   \n",
      "158  29.830000  29.939000  30.154000  30.418000  30.623000  ...  57.357000   \n",
      "159  68.013610  68.385927  67.871951  68.798049  68.401561  ...  81.746341   \n",
      "160  44.385000  45.023000  45.636000  46.497000  47.460000  ...  64.815000   \n",
      "161  45.336940  45.610731  46.771595  47.443876  48.046299  ...  71.405747   \n",
      "162  65.419122  65.897976  66.816220  67.150537  67.987366  ...  76.490244   \n",
      "163  46.068000  47.109000  48.065000  48.921000  49.619000  ...  68.585000   \n",
      "164        NaN        NaN        NaN        NaN        NaN  ...        NaN   \n",
      "165  41.590000  41.832000  41.934000  41.670000  41.699000  ...  56.492000   \n",
      "166  45.440000  46.049000  46.689000  47.446000  48.059000  ...  63.911000   \n",
      "167  56.521976  57.491293  58.353220  59.140000  59.567854  ...  74.017073   \n",
      "168  35.326000  35.654000  35.618000  35.692000  35.724000  ...  59.729000   \n",
      "169  57.434000  58.404000  59.260000  60.063000  60.950000  ...  75.035000   \n",
      "170  70.366608  70.231254  70.048951  70.312587  70.366476  ...  79.041713   \n",
      "171  48.374000  49.087000  49.714000  50.434000  51.039000  ...  58.694000   \n",
      "172  59.039024  59.439024  59.887805  60.336585  60.785366  ...  77.178049   \n",
      "173  36.556000  36.639000  36.736000  36.744000  36.753000  ...  60.239000   \n",
      "174  37.673000  37.809000  38.192000  38.415000  38.680000  ...  51.707000   \n",
      "175  46.948000  47.575000  48.304000  49.169000  50.193000  ...  72.704000   \n",
      "176  73.652683  73.323902  73.337073  73.704146  73.568780  ...  81.304878   \n",
      "177  73.550488  73.448049  73.077561  73.595854  73.723171  ...  81.751220   \n",
      "178  38.855000  39.153000  39.453000  39.994000  40.446000  ...  67.965000   \n",
      "179  58.665000  58.862000  58.902000  58.997000  59.288000  ...  61.231000   \n",
      "180  70.985366  71.231707  71.280488  71.329268  71.226829  ...  81.404878   \n",
      "181  67.730935  67.747227  67.965513  68.430436  68.564903  ...  79.669703   \n",
      "182  36.823000  38.192000  39.417000  40.679000  41.885000  ...  77.246000   \n",
      "183  52.331212  52.705860  52.726169  53.253588  53.844078  ...  66.212116   \n",
      "184  45.783000  46.608000  47.632000  48.595000  49.444000  ...  65.150000   \n",
      "185  61.471000  62.154000  62.735000  63.203000  63.558000  ...  77.038000   \n",
      "186  51.091000  51.310000  52.200000  52.717000  53.183000  ...  74.967000   \n",
      "187  59.619000  59.959000  60.388000  60.541000  60.898000  ...  70.835000   \n",
      "188        NaN        NaN        NaN        NaN        NaN  ...        NaN   \n",
      "189  46.292000  46.659000  47.599000  48.202000  48.816000  ...  63.961000   \n",
      "190  67.778049  67.426829  68.375610  68.629268  69.429268  ...  77.000000   \n",
      "191  40.141829  40.653191  40.938064  41.380301  41.541633  ...  58.330059   \n",
      "192  69.262000  69.284000  69.477000  69.693000  69.991000  ...  78.777000   \n",
      "193  54.496000  54.999000  55.560000  56.157000  56.827000  ...  72.319000   \n",
      "194  62.666512  64.181024  64.788390  64.983390  65.960463  ...  80.721951   \n",
      "195  60.755000  61.058000  61.334000  61.583000  61.819000  ...  72.757000   \n",
      "196        NaN        NaN        NaN        NaN        NaN  ...  74.029000   \n",
      "197  55.141455  55.831919  56.451815  56.661140  57.706480  ...  68.625774   \n",
      "198  69.274127  69.238701  69.441361  69.925686  69.995427  ...  80.260215   \n",
      "199  59.996000  60.271000  60.527000  60.781000  61.045000  ...  82.017000   \n",
      "200  59.626000  60.443000  61.167000  62.112000  62.850000  ...  79.536000   \n",
      "201  65.877146  65.255659  67.071707  67.845122  67.707268  ...  75.063415   \n",
      "202  67.630951  67.300512  67.757171  68.367171  67.887756  ...  70.578780   \n",
      "203  47.664000  47.991000  44.072000  48.238000  48.282000  ...  64.426000   \n",
      "204  45.418649  45.802340  46.114925  46.505592  45.581710  ...  68.121402   \n",
      "205  46.484000  47.100000  47.609000  48.148000  48.782000  ...  76.626000   \n",
      "206  47.023000  47.354000  46.189000  49.457000  46.935000  ...  63.678000   \n",
      "207  39.917000  39.856000  39.882000  39.885000  39.838000  ...  66.072000   \n",
      "208  65.517951  66.285756  66.714707  67.074390  67.512512  ...  82.246341   \n",
      "209  48.434000  49.254000  50.049000  50.859000  51.659000  ...  69.188000   \n",
      "210  34.412000  34.875000  35.344000  35.870000  36.363000  ...  56.313000   \n",
      "211  48.849000  49.600000  50.253000  50.734000  50.897000  ...  71.771000   \n",
      "212        NaN        NaN        NaN        NaN        NaN  ...        NaN   \n",
      "213  43.563000  43.877000  44.100000  44.300000  44.544000  ...  53.843000   \n",
      "214  64.057415  64.478829  64.892366  64.786390  65.094171  ...  75.185366   \n",
      "215  41.739739  42.200721  42.440620  42.890838  43.029451  ...  58.666682   \n",
      "216  28.840000  29.119000  28.826000  33.149000  29.288000  ...  55.751000   \n",
      "217  41.739739  42.200721  42.440620  42.890838  43.029451  ...  58.668043   \n",
      "218  55.412230  55.848784  56.064063  56.536013  57.073984  ...  67.595659   \n",
      "219  44.359000  45.861000  46.094000  47.161000  49.022000  ...  66.328000   \n",
      "220  57.767000  58.474000  59.039000  59.625000  59.485000  ...  69.682000   \n",
      "221  70.723902  70.270293  70.633415  71.019878  70.235268  ...  76.412195   \n",
      "222  68.978049  68.978049  68.621951  68.663415  68.365854  ...  80.321951   \n",
      "223  73.474390  73.350488  73.555366  73.733171  73.861707  ...  81.956098   \n",
      "224  46.191000  46.614000  46.854000  47.335000  47.907000  ...  51.486000   \n",
      "225  65.730000  66.807000  68.566000  68.604000  66.403000  ...  74.917000   \n",
      "226        NaN        NaN        NaN        NaN        NaN  ...  73.119512   \n",
      "227  54.437000  55.086000  55.778000  56.500000  57.113000  ...  63.827000   \n",
      "228  55.313000  56.266000  58.107000  60.159000  61.102000  ...  77.018000   \n",
      "229  38.631000  38.835000  39.072000  39.333000  39.120000  ...  50.781000   \n",
      "230  43.208667  51.075176  51.577645  52.307700  52.225978  ...  74.673850   \n",
      "231  65.076216  64.916197  65.483302  65.966297  65.900156  ...  72.699561   \n",
      "232  42.882000  43.154000  43.372000  43.702000  43.970000  ...  58.684000   \n",
      "233  52.364000  52.790000  53.244000  53.978000  54.712000  ...  77.083000   \n",
      "234  53.998000  54.257000  54.542000  54.846000  55.094000  ...  68.885000   \n",
      "235  53.939000  54.325000  54.785000  55.177000  55.522000  ...  68.740000   \n",
      "236  55.217428  55.670493  56.113680  56.612891  57.015002  ...  74.249806   \n",
      "237  32.574000  32.953000  33.258000  33.602000  34.357000  ...  66.440000   \n",
      "238  45.336940  45.610731  46.771595  47.443876  48.046299  ...  71.375977   \n",
      "239  58.589000  59.085000  59.551000  60.054000  60.580000  ...  70.505000   \n",
      "240  45.418649  45.802340  46.114925  46.505592  45.581710  ...  68.121402   \n",
      "241  41.739739  42.200721  42.440620  42.890838  43.029451  ...  58.668043   \n",
      "242  62.865000  63.427000  63.822000  63.843000  64.147000  ...  73.962000   \n",
      "243  44.146000  45.513000  46.500000  47.365000  48.428000  ...  75.650000   \n",
      "244  51.550000  52.382000  53.173000  53.714000  54.258000  ...  76.297000   \n",
      "245  47.271000  48.193000  49.075000  49.984000  50.893000  ...  64.008000   \n",
      "246  43.100000  43.285000  43.494000  43.747000  44.026000  ...  62.960000   \n",
      "247  46.257000  46.965000  47.431000  47.889000  48.240000  ...  59.763000   \n",
      "248  69.572366  69.334585  69.787488  70.205512  69.868390  ...  71.159512   \n",
      "249  48.001359  53.816889  54.347226  54.994378  54.953398  ...  74.516767   \n",
      "250  67.895000  67.994000  68.084000  68.179000  68.294000  ...  77.240000   \n",
      "251  70.270732  70.119512  69.917073  70.165854  70.214634  ...  78.741463   \n",
      "252  57.795000  58.066000  58.440000  58.846000  59.203000  ...  69.990000   \n",
      "253  57.932000  59.482000  61.063000  62.667000  64.264000  ...  73.798000   \n",
      "254  59.407000  59.529000  60.152000  60.609000  61.248000  ...  73.196000   \n",
      "255  60.219000  61.601000  63.533000  64.647000  65.238000  ...  75.574000   \n",
      "256  63.784537  63.658098  63.423488  64.618073  65.273000  ...  78.717073   \n",
      "257  60.261000  60.131000  58.701000  59.323000  58.692000  ...  73.775000   \n",
      "258  50.150000  50.676000  51.228000  51.706000  52.294000  ...  69.534000   \n",
      "259  52.846336  55.208684  55.542341  56.034875  55.860633  ...  71.577506   \n",
      "260  55.315000  55.890000  56.460000  53.601000  57.540000  ...  72.391000   \n",
      "261  61.836000  62.134000  62.440000  62.734000  63.041000  ...  78.587000   \n",
      "262  34.098000  33.615000  33.247000  34.738000  35.373000  ...  67.545000   \n",
      "263  53.085000  53.376000  53.633000  53.906000  54.192000  ...  62.533000   \n",
      "264  49.452000  49.794000  50.133000  49.849000  50.563000  ...  59.878000   \n",
      "265  53.619000  54.071000  54.549000  54.994000  55.459000  ...  57.458000   \n",
      "\n",
      "          2014       2015       2016       2017       2018       2019  \\\n",
      "0    75.601000  75.683000  75.617000  75.903000  76.072000  76.248000   \n",
      "1    61.337917  61.856458  62.444050  62.922390  63.365863  63.755678   \n",
      "2    62.545000  62.659000  63.136000  63.016000  63.081000  63.565000   \n",
      "3    55.922229  56.195872  56.581678  56.888446  57.189139  57.555796   \n",
      "4    60.040000  60.655000  61.092000  61.680000  62.144000  62.448000   \n",
      "5    78.407000  78.644000  78.860000  79.047000  79.184000  79.282000   \n",
      "6          NaN        NaN        NaN        NaN        NaN        NaN   \n",
      "7    70.492629  70.758222  70.943062  71.429596  71.633017  71.844626   \n",
      "8    79.044000  79.223000  79.335000  79.504000  79.627000  79.726000   \n",
      "9    76.755000  76.760000  76.308000  76.833000  76.999000  77.284000   \n",
      "10   74.058000  74.436000  74.664000  74.906000  75.064000  75.439000   \n",
      "11         NaN        NaN        NaN        NaN        NaN        NaN   \n",
      "12   77.858000  77.913000  78.152000  78.268000  78.511000  78.691000   \n",
      "13   82.300000  82.400000  82.448780  82.500000  82.748780  82.900000   \n",
      "14   81.490244  81.190244  81.641463  81.643902  81.692683  81.895122   \n",
      "15   71.116000  71.451000  72.004000  72.248000  72.760000  73.102000   \n",
      "16   59.868000  60.217000  60.793000  61.553000  61.688000  62.351000   \n",
      "17   81.287805  80.992683  81.439024  81.492683  81.595122  81.995122   \n",
      "18   59.125000  59.377000  59.539000  59.856000  60.140000  60.454000   \n",
      "19   58.359000  58.845000  59.326000  59.536000  60.047000  60.039000   \n",
      "20   69.986000  70.491000  71.090000  71.788000  72.567000  72.806000   \n",
      "21   74.465854  74.614634  74.812195  74.814634  74.963415  75.112195   \n",
      "22   79.328000  79.405000  79.557000  79.689000  79.857000  80.019000   \n",
      "23   73.366000  73.104000  73.537000  73.632000  73.806000  71.205000   \n",
      "24   75.659000  76.182000  76.808000  76.935000  77.093000  77.241000   \n",
      "25   72.970732  73.624390  73.826829  74.129268  74.175610  74.226829   \n",
      "26   73.311000  73.187000  73.399000  73.562000  73.703000  73.931000   \n",
      "27   79.518000  80.918000  80.608000  82.351000  80.825000  81.033000   \n",
      "28   67.163000  67.318000  67.628000  67.701000  67.748000  67.841000   \n",
      "29   74.306000  74.332000  74.442000  74.827000  75.109000  75.338000   \n",
      "30   76.476000  76.650000  76.815000  76.936000  77.067000  77.257000   \n",
      "31   74.779000  74.750000  74.733000  74.722000  74.712000  74.748000   \n",
      "32   70.049000  70.343000  70.602000  70.847000  71.129000  71.391000   \n",
      "33   62.608000  63.818000  65.464000  66.753000  65.422000  65.464000   \n",
      "34   50.566000  52.793000  53.460000  53.721000  54.369000  55.025000   \n",
      "35   81.784390  81.815610  81.924878  81.832927  81.843902  82.228780   \n",
      "36   76.675624  76.571878  76.969811  76.947443  76.976823  77.266845   \n",
      "37   83.197561  82.897561  83.602439  83.551220  83.753659  83.904878   \n",
      "38   81.884000  81.433000  81.366000  81.331000  81.375000  81.390000   \n",
      "39   79.473000  79.746000  80.079000  80.350000  80.133000  80.326000   \n",
      "40   76.717000  76.977000  77.218000  77.248000  77.744000  77.968000   \n",
      "41   57.208000  57.762000  58.060000  58.480000  58.849000  59.319000   \n",
      "42   58.935000  59.658000  60.233000  60.810000  61.180000  61.584000   \n",
      "43   58.296000  58.490000  59.066000  59.411000  59.942000  60.276000   \n",
      "44   62.950000  63.233000  63.577000  63.760000  64.053000  62.747000   \n",
      "45   76.043000  76.257000  76.471000  76.646000  76.748000  76.752000   \n",
      "46   62.516000  62.896000  63.237000  63.625000  63.912000  64.068000   \n",
      "47   75.240000  74.620000  75.742000  76.593000  75.733000  76.004000   \n",
      "48   78.774000  79.086000  79.459000  79.377000  79.484000  79.427000   \n",
      "49   72.680877  72.610264  72.560522  72.600895  72.583687  72.523410   \n",
      "50   77.853000  77.772000  77.643000  77.529000  77.496000  77.611000   \n",
      "51   77.975610  78.075610  77.719512  78.017073        NaN        NaN   \n",
      "52         NaN        NaN        NaN        NaN        NaN        NaN   \n",
      "53   80.771000  80.966000  81.056000  81.328000  81.382000  81.397000   \n",
      "54   78.824390  78.578049  79.026829  78.978049  79.029268  79.229268   \n",
      "55   81.090244  80.641463  80.990244  80.992683  80.892683  81.292683   \n",
      "56   61.641000  61.957000  62.191000  62.797000  63.038000  63.085000   \n",
      "57   69.434000  68.727000  70.128000  67.525000  73.590000  73.559000   \n",
      "58   80.700000  80.702439  80.853659  81.102439  80.953659  81.451220   \n",
      "59   72.867000  72.953000  72.987000  73.063000  73.232000  73.577000   \n",
      "60   75.110000  75.622000  75.732000  75.743000  76.066000  76.474000   \n",
      "61   74.903269  75.123035  75.321863  75.385911  75.801434  76.002020   \n",
      "62   69.487101  69.874262  70.219883  70.542057  70.797706  71.016583   \n",
      "63   75.731305  75.948817  76.137924  76.212396  76.594173  76.797775   \n",
      "64   72.308639  72.587731  72.898635  73.407916  73.609527  73.903817   \n",
      "65   77.296451  77.231323  77.565147  77.778633  77.911455  78.186248   \n",
      "66   76.622000  76.789000  76.763000  76.972000  77.094000  77.297000   \n",
      "67   70.415000  70.483000  70.844000  71.302000  71.367000  71.358000   \n",
      "68   81.944916  81.571289  81.956338  81.934533  82.051553  82.327756   \n",
      "69   65.600000  66.033000  66.289000  66.577000  67.067000  67.300000   \n",
      "70   83.229268  82.831707  83.329268  83.282927  83.431707  83.831707   \n",
      "71   77.034146  77.590244  77.641463  78.092683  78.243902  78.646341   \n",
      "72   62.905000  63.649000  64.392000  64.838000  65.412000  65.838000   \n",
      "73   80.871982  80.568439  80.951297  80.932599  81.028729  81.314858   \n",
      "74   60.707888  61.012206  61.289916  61.654386  61.969275  62.266864   \n",
      "75   81.180488  81.480488  81.429268  81.631707  81.734146  81.982927   \n",
      "76   67.376000  66.844000  67.240000  67.790000  67.810000  67.893000   \n",
      "77   82.719512  82.321951  82.573171  82.575610  82.675610  82.826829   \n",
      "78   81.592683  81.792683  82.043902  82.343902  82.595122  82.946341   \n",
      "79   71.529000  71.408000  71.595000  71.467000  71.318000  71.077000   \n",
      "80   64.974000  65.460000  65.802000  66.189000  66.306000  66.603000   \n",
      "81   81.304878  80.956098  81.156098  81.256098  81.256098  81.404878   \n",
      "82   73.099000  73.297000  73.569000  73.570000  73.341000  73.470000   \n",
      "83   63.045000  63.175000  63.890000  64.013000  64.122000  64.740000   \n",
      "84   81.882000  80.427000  81.702000  81.830000  82.154000  82.363000   \n",
      "85   57.886000  58.134000  58.763000  59.109000  59.349000  59.720000   \n",
      "86   62.269000  62.494000  63.013000  62.995000  63.040000  63.755000   \n",
      "87   58.610000  59.128000  59.674000  60.066000  60.502000  60.882000   \n",
      "88   59.595000  60.103000  60.479000  60.821000  61.191000  61.644000   \n",
      "89   81.385366  81.036585  81.387805  81.287805  81.787805  81.639024   \n",
      "90   74.985000  75.013000  74.762000  74.765000  74.808000  74.863000   \n",
      "91   71.985610  71.977317  71.825122  71.641220  71.886585  72.043659   \n",
      "92   71.964000  72.103000  72.355000  72.551000  72.726000  73.129000   \n",
      "93   76.749000  76.616000  76.877000  77.155000  77.439000  77.717000   \n",
      "94   67.882000  68.201000  68.384000  68.667000  68.896000  69.124000   \n",
      "95   80.598915  80.484032  80.642482  80.682283  80.769047  80.984300   \n",
      "96   83.980488  84.278049  84.226829  84.680488  84.934146  85.180488   \n",
      "97   72.259000  72.487000  72.588000  72.692000  72.814000  72.881000   \n",
      "98   61.147073  61.612548  62.161962  62.549760  62.947576  63.338057   \n",
      "99   77.478049  77.275610  78.021951  77.826829  78.070732  78.424390   \n",
      "100  62.987000  63.237000  63.392000  63.854000  64.019000  64.255000   \n",
      "101  75.763415  75.568293  76.063415  75.817073  76.065854  76.319512   \n",
      "102  72.850137  73.150767  73.418574  73.641221  73.933710  74.129807   \n",
      "103  70.237449  70.524871  70.806588  71.043984  71.322458  71.525964   \n",
      "104  62.422435  62.754897  63.167935  63.542837  63.881954  64.212699   \n",
      "105  60.127910  60.360207  60.563610  60.877118  61.077320  61.331596   \n",
      "106  69.533000  69.699000  69.798000  69.936000  70.338000  70.518000   \n",
      "107  63.577513  63.957889  64.471643  64.872729  65.277193  65.641793   \n",
      "108  80.037000  78.905000  80.314000  80.457000  80.596000  80.737000   \n",
      "109  69.074000  69.636000  70.117000  70.467000  70.710000  70.910000   \n",
      "110        NaN        NaN        NaN        NaN        NaN        NaN   \n",
      "111  81.348780  81.453659  81.653659  82.156098  82.204878  82.702439   \n",
      "112  74.782000  75.124000  75.600000  75.971000  76.195000  76.103000   \n",
      "113  68.914000  69.440000  68.988000  70.413000  71.514000  71.576000   \n",
      "114  82.860976  82.468293  82.204878  82.660976  82.860976  83.163415   \n",
      "115  82.153659  82.051220  82.407317  82.551220  82.802439  82.804878   \n",
      "116  83.090244  82.543902  83.243902  82.946341  83.346341  83.497561   \n",
      "117  72.982000  72.394000  72.020000  71.911000  71.793000  71.767000   \n",
      "118  74.789000  75.011000  75.215000  75.502000  75.774000  76.044000   \n",
      "119  83.587805  83.793902  83.984878  84.099756  84.210976  84.356341   \n",
      "120  71.440000  71.970000  72.410000  72.950000  73.150000  73.180000   \n",
      "121  61.816000  61.892000  62.163000  62.481000  62.676000  62.943000   \n",
      "122  70.402439  70.651220  70.951220  71.200000  71.400000  71.600000   \n",
      "123  69.736000  69.873000  70.224000  70.515000  70.561000  70.692000   \n",
      "124  65.815000  66.059000  66.332000  66.597000  66.855000  67.150000   \n",
      "125  70.966000  70.763000  71.740000  71.840000  71.467000  71.572000   \n",
      "126  81.721951  82.024390  82.275610  82.626829  82.626829  83.226829   \n",
      "127  79.445000  79.562000  79.701000  79.781000  79.722000  79.685000   \n",
      "128  74.428492  74.472265  74.471752  74.642823  74.771981  74.961997   \n",
      "129  66.361000  66.670000  67.167000  67.434000  67.634000  68.138000   \n",
      "130  78.973000  79.229000  79.505000  79.654000  79.729000  79.236000   \n",
      "131  59.121000  59.148000  60.416000  60.553000  60.853000  61.104000   \n",
      "132  71.511000  71.698000  71.756000  72.482000  72.794000  72.463000   \n",
      "133  72.864000  73.138000  73.112000  73.127000  73.357000  73.445000   \n",
      "134  74.550648  74.611970  74.579233  74.733493  74.851499  75.038349   \n",
      "135  63.123400  63.495783  64.019586  64.414467  64.818500  65.155574   \n",
      "136  61.311606  61.699518  62.214241  62.623714  62.995204  63.423991   \n",
      "137  82.073171  82.656098  82.258537  83.746341  83.041463  84.160976   \n",
      "138  74.651000  74.927000  75.331000  75.403000  75.748000  76.008000   \n",
      "139  67.603603  67.993166  68.374774  68.695235  68.932488  69.129968   \n",
      "140  70.148973  70.440604  70.726368  70.968219  71.252032  71.455560   \n",
      "141  50.033000  51.101000  52.264000  53.064000  53.733000  54.173000   \n",
      "142  75.790631  76.012968  76.258071  76.400336  76.770634  76.992906   \n",
      "143  74.517073  74.321951  74.670732  75.480488  75.680488  76.282927   \n",
      "144  82.229268  82.292683  82.685366  82.095122  82.295122  82.639024   \n",
      "145  74.124390  74.480488  74.580488  74.629268  74.782927  75.387805   \n",
      "146  83.883000  83.984000  84.231000  84.563000  84.928000  84.978000   \n",
      "147  79.966000  79.309000  79.475000  78.590000  80.614000  79.983000   \n",
      "148  72.538000  72.920000  73.284000  73.660000  73.986000  74.270000   \n",
      "149        NaN        NaN        NaN        NaN        NaN        NaN   \n",
      "150  69.031000  69.240000  69.917000  70.516000  70.492000  70.935000   \n",
      "151  64.255000  64.339000  64.997000  65.094000  65.270000  65.882000   \n",
      "152  79.424000  79.695000  79.872000  79.943000  80.013000  80.116000   \n",
      "153  72.623863  72.889516  73.152522  73.609743  73.811517  73.959115   \n",
      "154  74.797000  74.682000  74.412000  74.138000  74.015000  74.202000   \n",
      "155  63.623000  63.827000  64.057000  64.270000  64.500000  64.746000   \n",
      "156  71.058777  71.352561  71.627721  71.865723  72.154866  72.349576   \n",
      "157  75.451220  75.402439  75.400000  75.953659  76.648780  76.602439   \n",
      "158  57.900000  58.363000  58.731000  59.132000  59.393000  59.664000   \n",
      "159  82.046341  81.897561  82.453659  82.346341  82.448780  82.858537   \n",
      "160  65.056000  65.561000  65.685000  65.843000  66.465000  66.610000   \n",
      "161  71.702779  71.986189  72.256488  72.767001  72.984373  73.143919   \n",
      "162  76.441463  76.448780  76.441463  76.485366  76.841463  76.682927   \n",
      "163  69.047000  69.498000  69.865000  70.237000  71.199000  71.822000   \n",
      "164        NaN        NaN        NaN        NaN        NaN        NaN   \n",
      "165  57.274000  58.151000  59.038000  59.771000  60.526000  61.166000   \n",
      "166  64.155000  64.485000  64.768000  65.083000  65.310000  65.687000   \n",
      "167  74.194390  74.353171  74.394878  74.514634  74.416341  74.235854   \n",
      "168  60.899000  61.378000  62.209000  62.977000  63.276000  64.119000   \n",
      "169  75.146000  75.094000  75.289000  75.476000  75.644000  75.760000   \n",
      "170  79.136284  79.003646  78.879724  78.872476  78.965781  79.141712   \n",
      "171  59.822000  60.700000  61.682000  62.293000  62.586000  63.075000   \n",
      "172  77.236585  77.280488  76.931707  77.539024  80.003098  80.419707   \n",
      "173  60.786000  61.083000  61.629000  62.160000  62.454000  62.897000   \n",
      "174  51.791000  51.841000  52.043000  52.305000  52.554000  52.910000   \n",
      "175  72.812000  72.983000  73.256000  73.554000  73.850000  74.054000   \n",
      "176  81.707317  81.509756  81.560976  81.760976  81.812195  82.112195   \n",
      "177  82.100000  82.304878  82.407317  82.609756  82.758537  82.958537   \n",
      "178  68.085000  67.456000  68.776000  68.910000  68.979000  69.558000   \n",
      "179  61.807000  62.269000  62.702000  62.988000  63.234000  63.484000   \n",
      "180  81.456829  81.612439  81.658537  81.858537  81.707317  82.056098   \n",
      "181  79.916651  79.790765  79.902654  79.929659  80.009037  80.222079   \n",
      "182  77.446000  77.687000  77.916000  77.924000  77.966000  78.002000   \n",
      "183  66.709608  67.288837  67.905549  68.377262  68.496293  68.771134   \n",
      "184  65.284000  65.697000  65.880000  66.297000  66.482000  66.756000   \n",
      "185  77.248000  77.468000  77.653000  77.795000  77.863000  77.810000   \n",
      "186  75.333000  75.621000  75.789000  75.879000  76.009000  76.156000   \n",
      "187  71.151000  71.268000  71.387000  71.516000  71.689000  71.865000   \n",
      "188        NaN        NaN        NaN        NaN        NaN        NaN   \n",
      "189  64.259000  64.701000  64.840000  65.103000  65.182000  65.474000   \n",
      "190  77.602439  77.451220  77.851220  77.753659  77.602439  77.904878   \n",
      "191  58.752197  59.119371  59.523915  59.950611  60.354839  60.721657   \n",
      "192  78.929000  79.695000  80.270000  79.258000  79.770000  79.063000   \n",
      "193  72.942000  72.784000  72.805000  72.978000  73.031000  73.198000   \n",
      "194  81.121951  81.124390  81.124390  81.424390  81.324390  81.675610   \n",
      "195  72.878000  73.191000  73.534000  73.644000  73.568000  73.621000   \n",
      "196  72.622000  74.406000  74.554000  74.833000  74.793000  75.241000   \n",
      "197  68.642640  68.562209  68.827511  69.118865  69.213748  69.294251   \n",
      "198  80.516013  80.382025  80.539510  80.583689  80.671128  80.899083   \n",
      "199  82.214000  82.354000  82.488000  82.618000  82.783000  82.996000   \n",
      "200  79.768000  80.064000  80.433000  80.717000  80.898000  80.990000   \n",
      "201  74.909756  74.912195  75.209756  75.309756  75.358537  75.607317   \n",
      "202  70.743659  71.183415  71.651220  72.451463  72.662195  73.083902   \n",
      "203  64.940000  65.298000  65.737000  65.941000  66.251000  66.437000   \n",
      "204  68.638251  69.143784  69.609572  69.979289  70.253479  70.472755   \n",
      "205  76.757000  76.918000  77.064000  77.160000  77.212000  77.304000   \n",
      "206  64.269000  64.659000  64.780000  65.445000  65.681000  65.876000   \n",
      "207  66.452000  66.879000  67.497000  67.750000  68.097000  68.526000   \n",
      "208  82.495122  82.743902  82.846341  83.095122  83.297561  83.595122   \n",
      "209  69.234000  69.583000  69.801000  69.988000  70.173000  70.382000   \n",
      "210  56.393000  57.189000  58.404000  58.652000  59.796000  60.255000   \n",
      "211  71.746000  71.814000  72.025000  72.311000  72.555000  72.559000   \n",
      "212        NaN        NaN        NaN        NaN        NaN        NaN   \n",
      "213  54.277000  54.857000  55.044000  55.654000  56.375000  57.078000   \n",
      "214  75.336585  75.287805  75.687805  75.539024  75.890244  75.936585   \n",
      "215  59.141347  59.561617  60.067723  60.475893  60.861966  61.243176   \n",
      "216  54.973000  55.566000  55.544000  55.309000  55.950000  55.912000   \n",
      "217  59.142658  59.562982  60.069025  60.477138  60.863028  61.244291   \n",
      "218  67.945085  68.347292  68.807698  69.180603  69.268935  69.467200   \n",
      "219  66.845000  67.249000  67.492000  68.267000  68.355000  68.523000   \n",
      "220  69.782000  70.800000  71.592000  72.417000  72.553000  72.242000   \n",
      "221  76.812195  76.563415  77.165854  77.165854  77.265854  77.665854   \n",
      "222  81.078049  80.775610  81.175610  81.029268  81.378049  81.529268   \n",
      "223  82.253659  82.204878  82.307317  82.409756  82.558537  83.109756   \n",
      "224  53.050000  55.019000  56.659000  57.895000  59.411000  60.549000   \n",
      "225  76.773000  76.954000  76.598000  75.030000  75.131000  75.437000   \n",
      "226  73.229268  74.295122  74.309756  74.300000  72.841463  74.046341   \n",
      "227  63.153000  65.124000  65.993000  68.481000  70.145000  71.822000   \n",
      "228  77.135000  76.912000  76.864000  76.702000  76.443000  75.326000   \n",
      "229  51.202000  51.589000  52.083000  52.308000  52.825000  53.259000   \n",
      "230  74.927725  75.152146  75.353120  75.415733  75.835693  76.036657   \n",
      "231  72.918221  73.139885  73.457576  73.889198  74.053218  74.344774   \n",
      "232  58.853000  59.396000  59.550000  60.154000  60.244000  60.901000   \n",
      "233  77.415000  77.717000  78.049000  78.394000  78.662000  78.975000   \n",
      "234  69.069000  69.306000  69.549000  69.905000  70.353000  70.867000   \n",
      "235  68.614000  68.782000  68.777000  68.916000  68.796000  69.002000   \n",
      "236  74.459693  74.521165  74.487970  74.655350  74.776488  74.971824   \n",
      "237  66.787000  67.137000  67.446000  67.745000  68.017000  68.268000   \n",
      "238  71.692314  71.958551  72.230132  72.743229  72.963389  73.119390   \n",
      "239  70.540000  70.607000  70.661000  70.713000  70.779000  70.871000   \n",
      "240  68.638251  69.143784  69.609572  69.979289  70.253479  70.472755   \n",
      "241  59.142658  59.562982  60.069025  60.477138  60.863028  61.244291   \n",
      "242  74.215000  74.503000  74.281000  74.230000  73.802000  74.228000   \n",
      "243  75.650000  75.692000  75.786000  75.845000  75.950000  75.993000   \n",
      "244  76.565000  76.646000  76.660000  77.141000  77.563000  77.832000   \n",
      "245  64.025000  64.060000  64.108000  64.148000  64.212000  64.278000   \n",
      "246  63.873000  64.651000  65.386000  65.999000  66.535000  66.989000   \n",
      "247  60.408000  61.086000  61.648000  62.115000  62.714000  62.991000   \n",
      "248  71.186585  71.189512  71.476341  71.780976  71.582683  71.827317   \n",
      "249  74.778030  74.995094  75.180817  75.353727  75.726697  75.946242   \n",
      "250  77.366000  77.483000  77.571000  77.625000  77.611000  77.508000   \n",
      "251  78.841463  78.690244  78.539024  78.539024  78.639024  78.787805   \n",
      "252  70.234000  70.475000  70.755000  71.010000  71.149000  71.344000   \n",
      "253  74.473000  74.407000  74.280000  74.305000  74.128000  72.835000   \n",
      "254  72.853000  73.006000  72.058000  71.943000  71.979000  72.161000   \n",
      "255  75.612000  75.675000  75.724000  74.785000  75.831000  75.863000   \n",
      "256  78.868293  79.017073  79.168293  79.368293  79.519512  79.668293   \n",
      "257  73.855000  73.876000  73.938000  73.963000  73.976000  74.093000   \n",
      "258  69.465000  69.513000  69.650000  69.710000  69.795000  69.877000   \n",
      "259  71.881471  72.095218  72.345352  72.542776  72.784090  72.979716   \n",
      "260  72.463000  72.515000  72.540000  72.590000  72.636000  72.157000   \n",
      "261  78.880000  78.922000  78.981000  78.783000  78.696000  79.022000   \n",
      "262  67.384000  65.873000  66.064000  65.957000  64.575000  65.092000   \n",
      "263  63.380000  63.950000  64.747000  65.402000  65.674000  66.175000   \n",
      "264  60.699000  61.208000  61.794000  62.120000  62.342000  62.793000   \n",
      "265  58.846000  59.591000  60.306000  60.709000  61.414000  61.292000   \n",
      "\n",
      "          2020       2021  2022  \n",
      "0    75.723000  74.626000   NaN  \n",
      "1    63.313860  62.454590   NaN  \n",
      "2    62.575000  61.982000   NaN  \n",
      "3    57.226373  56.988657   NaN  \n",
      "4    62.261000  61.643000   NaN  \n",
      "5    76.989000  76.463000   NaN  \n",
      "6          NaN        NaN   NaN  \n",
      "7    70.923360  70.814483   NaN  \n",
      "8    78.946000  78.710000   NaN  \n",
      "9    75.892000  75.390000   NaN  \n",
      "10   72.173000  72.043000   NaN  \n",
      "11         NaN        NaN   NaN  \n",
      "12   78.841000  78.497000   NaN  \n",
      "13   83.200000  83.300000   NaN  \n",
      "14   81.192683  81.239024   NaN  \n",
      "15   66.868000  69.366000   NaN  \n",
      "16   61.566000  61.663000   NaN  \n",
      "17   80.695122  81.890244   NaN  \n",
      "18   60.088000  59.821000   NaN  \n",
      "19   59.731000  59.270000   NaN  \n",
      "20   71.968000  72.381000   NaN  \n",
      "21   73.658537  71.514634   NaN  \n",
      "22   79.174000  78.760000   NaN  \n",
      "23   72.677000  71.598000   NaN  \n",
      "24   76.225000  75.300000   NaN  \n",
      "25   72.457220  72.370683   NaN  \n",
      "26   72.854000  70.470000   NaN  \n",
      "27   81.136000  79.280000   NaN  \n",
      "28   64.467000  63.630000   NaN  \n",
      "29   74.009000  72.750000   NaN  \n",
      "30   77.393000  77.571000   NaN  \n",
      "31   74.795000  74.642000   NaN  \n",
      "32   71.609000  71.815000   NaN  \n",
      "33   65.647000  61.141000   NaN  \n",
      "34   54.604000  53.895000   NaN  \n",
      "35   81.670488  82.596610   NaN  \n",
      "36   76.087717  74.932119   NaN  \n",
      "37   83.000000  83.851220   NaN  \n",
      "38   81.264000  81.232000   NaN  \n",
      "39   79.377000  78.944000   NaN  \n",
      "40   78.077000  78.211000   NaN  \n",
      "41   59.032000  58.598000   NaN  \n",
      "42   60.833000  60.333000   NaN  \n",
      "43   59.739000  59.193000   NaN  \n",
      "44   63.785000  63.519000   NaN  \n",
      "45   74.769000  72.830000   NaN  \n",
      "46   64.166000  63.417000   NaN  \n",
      "47   74.808000  74.052000   NaN  \n",
      "48   79.277000  77.023000   NaN  \n",
      "49   72.579204  70.996259   NaN  \n",
      "50   77.567000  73.683000   NaN  \n",
      "51         NaN        NaN   NaN  \n",
      "52         NaN        NaN   NaN  \n",
      "53   81.391000  81.203000   NaN  \n",
      "54   78.226829  77.373171   NaN  \n",
      "55   81.041463  80.900976   NaN  \n",
      "56   62.694000  62.305000   NaN  \n",
      "57   73.649000  72.814000   NaN  \n",
      "58   81.602439  81.404878   NaN  \n",
      "59   72.889000  72.615000   NaN  \n",
      "60   74.453000  76.377000   NaN  \n",
      "61   75.936025  75.543291   NaN  \n",
      "62   70.029988  68.467406   NaN  \n",
      "63   76.761942  76.393911   NaN  \n",
      "64   72.216662  71.433086   NaN  \n",
      "65   76.959191  76.630381   NaN  \n",
      "66   72.153000  73.670000   NaN  \n",
      "67   70.990000  70.221000   NaN  \n",
      "68   81.537920  81.708812   NaN  \n",
      "69   67.133000  66.536000   NaN  \n",
      "70   82.331707  83.178049   NaN  \n",
      "71   78.595122  76.741463   NaN  \n",
      "72   65.371000  64.975000   NaN  \n",
      "73   80.452093  80.387308   NaN  \n",
      "74   61.759704  61.250590   NaN  \n",
      "75   81.931707  81.934146   NaN  \n",
      "76   67.924000  67.114000   NaN  \n",
      "77   82.175610  82.324390   NaN  \n",
      "78   83.197561  83.497561   NaN  \n",
      "79   70.674000  70.710000   NaN  \n",
      "80   66.531000  65.821000   NaN  \n",
      "81   80.351220  80.700000   NaN  \n",
      "82   72.765000  71.694000   NaN  \n",
      "83   64.114000  63.795000   NaN  \n",
      "84   82.198000  79.329000   NaN  \n",
      "85   59.327000  58.892000   NaN  \n",
      "86   62.612000  62.083000   NaN  \n",
      "87   59.999000  59.652000   NaN  \n",
      "88   60.708000  60.594000   NaN  \n",
      "89   81.287805  80.182927   NaN  \n",
      "90   74.924000  74.936000   NaN  \n",
      "91   71.636829  71.147561   NaN  \n",
      "92   71.797000  69.237000   NaN  \n",
      "93   76.612000  76.656000   NaN  \n",
      "94   68.486000  65.673000   NaN  \n",
      "95   80.080881  79.923830   NaN  \n",
      "96   85.497561  85.492683   NaN  \n",
      "97   71.462000  70.123000   NaN  \n",
      "98   62.761720  62.302785   NaN  \n",
      "99   77.724390  76.424390   NaN  \n",
      "100  64.052000  63.192000   NaN  \n",
      "101  75.568293  74.465854   NaN  \n",
      "102  73.379696  72.125080   NaN  \n",
      "103  70.822031  69.780128   NaN  \n",
      "104  63.748926  63.402904   NaN  \n",
      "105  61.006288  60.680251   NaN  \n",
      "106  68.808000  67.570000   NaN  \n",
      "107  65.105905  64.747301   NaN  \n",
      "108  80.588000  80.525000   NaN  \n",
      "109  70.150000  67.240000   NaN  \n",
      "110        NaN        NaN   NaN  \n",
      "111  82.556098  82.102439   NaN  \n",
      "112  74.832000  73.875000   NaN  \n",
      "113  69.123000  70.378000   NaN  \n",
      "114  83.063415  83.117073   NaN  \n",
      "115  82.648780  82.500000   NaN  \n",
      "116  82.195122  82.795122   NaN  \n",
      "117  71.869000  70.500000   NaN  \n",
      "118  75.184000  74.256000   NaN  \n",
      "119  84.560000  84.445610   NaN  \n",
      "120  71.370000  70.230000   NaN  \n",
      "121  62.675000  61.427000   NaN  \n",
      "122  71.800000  71.900000   NaN  \n",
      "123  70.416000  69.584000   NaN  \n",
      "124  67.266000  67.417000   NaN  \n",
      "125  71.627000  71.682000   NaN  \n",
      "126  83.426829  83.526829   NaN  \n",
      "127  76.920000  78.673000   NaN  \n",
      "128  72.836303  71.907356   NaN  \n",
      "129  68.497000  68.061000   NaN  \n",
      "130  77.804000  75.047000   NaN  \n",
      "131  60.948000  60.747000   NaN  \n",
      "132  72.472000  71.911000   NaN  \n",
      "133  73.416000  71.111000   NaN  \n",
      "134  73.038474  72.147435   NaN  \n",
      "135  64.634743  64.215868   NaN  \n",
      "136  62.954533  62.496110   NaN  \n",
      "137  81.658537  84.402439   NaN  \n",
      "138  76.393000  76.399000   NaN  \n",
      "139  68.551902  66.911969   NaN  \n",
      "140  70.763820  69.719108   NaN  \n",
      "141  54.693000  53.062000   NaN  \n",
      "142  76.722909  76.342113   NaN  \n",
      "143  74.978049  74.339024   NaN  \n",
      "144  82.143902  82.748780   NaN  \n",
      "145  75.185366  73.282927   NaN  \n",
      "146  85.184000  85.399000   NaN  \n",
      "147  80.149000  80.379000   NaN  \n",
      "148  73.920000  74.042000   NaN  \n",
      "149        NaN        NaN   NaN  \n",
      "150  70.166000  68.846000   NaN  \n",
      "151  65.182000  64.485000   NaN  \n",
      "152  79.875000  79.918000   NaN  \n",
      "153  72.949768  72.745921   NaN  \n",
      "154  70.133000  70.213000   NaN  \n",
      "155  64.977000  65.269000   NaN  \n",
      "156  71.649187  70.553291   NaN  \n",
      "157  74.395122  74.536829   NaN  \n",
      "158  58.633000  58.941000   NaN  \n",
      "159  82.348780  82.860976   NaN  \n",
      "160  66.797000  65.672000   NaN  \n",
      "161  72.172697  71.899876   NaN  \n",
      "162  75.931707  73.824390   NaN  \n",
      "163  72.141000  70.975000   NaN  \n",
      "164        NaN        NaN   NaN  \n",
      "165  61.172000  59.325000   NaN  \n",
      "166  64.532000  64.364000   NaN  \n",
      "167  74.177073  73.680244   NaN  \n",
      "168  63.717000  62.904000   NaN  \n",
      "169  75.938000  74.884000   NaN  \n",
      "170  77.463517  76.976723   NaN  \n",
      "171  62.829000  59.269000   NaN  \n",
      "172  80.834951  79.127341   NaN  \n",
      "173  61.451000  61.576000   NaN  \n",
      "174  52.887000  52.676000   NaN  \n",
      "175  71.795000  73.837000   NaN  \n",
      "176  81.358537  81.460976   NaN  \n",
      "177  83.209756  83.163415   NaN  \n",
      "178  69.246000  68.450000   NaN  \n",
      "179  63.437000  63.617000   NaN  \n",
      "180  82.256098  82.207317   NaN  \n",
      "181  78.898387  78.714166   NaN  \n",
      "182  74.757000  72.541000   NaN  \n",
      "183  68.255575  66.989623   NaN  \n",
      "184  66.269000  66.098000   NaN  \n",
      "185  76.657000  76.223000   NaN  \n",
      "186  73.665000  72.377000   NaN  \n",
      "187  72.119000  69.266000   NaN  \n",
      "188        NaN        NaN   NaN  \n",
      "189  65.787000  65.351000   NaN  \n",
      "190  76.500000  75.602439   NaN  \n",
      "191  60.249532  59.872581   NaN  \n",
      "192  78.041000  80.162000   NaN  \n",
      "193  73.274000  73.284000   NaN  \n",
      "194  80.975610  81.073171   NaN  \n",
      "195  73.182000  70.262000   NaN  \n",
      "196  74.403000  73.473000   NaN  \n",
      "197  69.364921  69.163594   NaN  \n",
      "198  80.004475  79.797891   NaN  \n",
      "199  82.217000  79.486000   NaN  \n",
      "200  79.099000  79.272000   NaN  \n",
      "201  74.253659  72.960976   NaN  \n",
      "202  71.338780  69.361220   NaN  \n",
      "203  66.774000  66.072000   NaN  \n",
      "204  69.748331  67.579129   NaN  \n",
      "205  76.239000  76.936000   NaN  \n",
      "206  65.614000  65.267000   NaN  \n",
      "207  68.006000  67.093000   NaN  \n",
      "208  84.465854  83.441463   NaN  \n",
      "209  70.199000  70.348000   NaN  \n",
      "210  59.763000  60.062000   NaN  \n",
      "211  71.061000  70.748000   NaN  \n",
      "212        NaN        NaN   NaN  \n",
      "213  55.967000  55.280000   NaN  \n",
      "214  74.478049  72.730732   NaN  \n",
      "215  60.847493  60.240638   NaN  \n",
      "216  55.480000  54.975000   NaN  \n",
      "217  60.848894  60.241743   NaN  \n",
      "218  69.082573  67.822439   NaN  \n",
      "219  67.785000  67.591000   NaN  \n",
      "220  72.561000  70.274000   NaN  \n",
      "221  76.865854  74.714634   NaN  \n",
      "222  80.531707  80.875610   NaN  \n",
      "223  82.356098  83.156098   NaN  \n",
      "224  59.692000  57.066000   NaN  \n",
      "225  74.584000  73.972000   NaN  \n",
      "226  77.236585  73.397561   NaN  \n",
      "227  72.140000  72.063000   NaN  \n",
      "228  75.001000  74.587000   NaN  \n",
      "229  52.777000  52.525000   NaN  \n",
      "230  75.968890  75.571193   NaN  \n",
      "231  72.701207  71.878603   NaN  \n",
      "232  61.035000  61.619000   NaN  \n",
      "233  79.274000  78.715000   NaN  \n",
      "234  67.994000  71.594000   NaN  \n",
      "235  68.687000  69.264000   NaN  \n",
      "236  72.927955  72.074903   NaN  \n",
      "237  68.475000  67.737000   NaN  \n",
      "238  72.146376  71.881131   NaN  \n",
      "239  70.928000  70.986000   NaN  \n",
      "240  69.748331  67.579129   NaN  \n",
      "241  60.848894  60.241743   NaN  \n",
      "242  74.406000  72.971000   NaN  \n",
      "243  75.292000  73.772000   NaN  \n",
      "244  75.850000  76.032000   NaN  \n",
      "245  64.382000  64.547000   NaN  \n",
      "246  66.408000  66.201000   NaN  \n",
      "247  62.851000  62.705000   NaN  \n",
      "248  71.185122  69.647805   NaN  \n",
      "249  75.139196  74.694728   NaN  \n",
      "250  78.430000  75.436000   NaN  \n",
      "251  76.980488  76.329268   NaN  \n",
      "252  70.331000  70.862000   NaN  \n",
      "253  72.126000  69.629000   NaN  \n",
      "254  71.095000  70.554000   NaN  \n",
      "255  75.849000  74.494000   NaN  \n",
      "256  79.819512  80.068293   NaN  \n",
      "257  75.378000  73.618000   NaN  \n",
      "258  70.299000  70.449000   NaN  \n",
      "259  72.243822  71.327391   NaN  \n",
      "260  72.768000  72.767000   NaN  \n",
      "261  76.567000  76.806000   NaN  \n",
      "262  64.650000  63.753000   NaN  \n",
      "263  65.252000  62.341000   NaN  \n",
      "264  62.380000  61.223000   NaN  \n",
      "265  61.124000  59.253000   NaN  \n",
      "\n",
      "[266 rows x 67 columns]\n",
      "display.max_rows:  9999\n"
     ]
    },
    {
     "data": {
      "image/png": "[encoded data removed]",
      "text/plain": [
       "<Figure size 640x480 with 1 Axes>"
      ]
     },
     "metadata": {},
     "output_type": "display_data"
    },
    {
     "name": "stdout",
     "output_type": "stream",
     "text": [
      "y= 0.30887763990111033 x+ -537.5382003245212\n"
     ]
    }
   ],
   "source": [
    "import pandas as pd\n",
    "path=\"C:/Users/User/Desktop/project 1/VS/data_folder/\" # please enter your working directory path here\n",
    "file_name=\"API_SP.DYN.LE00.IN_DS2_en_csv_v2_5795729.csv\"\n",
    "df = pd.read_csv(f\"{path}{file_name}\")\n",
    "print(df)\n",
    "print('display.max_rows: ',pd.options.display.max_rows)\n",
    "pd.options.display.max_rows = 9999\n",
    "\n",
    "# Answer of question A\n",
    "import pandas as pd \n",
    "import numpy as np\n",
    "df=pd.DataFrame(df)\n",
    "df1=df['Country Name']\n",
    "df_T=df.T\n",
    "HKG = df.loc[df['Country Code'] == \"HKG\"]\n",
    "HKG = HKG.drop(['Country Name','Country Code','Indicator Name','Indicator Code'],axis=1)\n",
    "HKG = HKG.T\n",
    "year = pd.Series(HKG.index,index=HKG.index,dtype=int)\n",
    "year=year.to_frame(name='Year')\n",
    "HKG.rename(columns={ HKG.columns[0]: \"Age\" }, inplace = True)\n",
    "age = HKG\n",
    "df = pd.concat([year,age],axis=1)\n",
    "df.drop(['2021','2022'], inplace = True)\n",
    "df.reset_index(inplace=True, drop=True)\n",
    "\n",
    "# Answer of question B\n",
    "import matplotlib.pyplot as plt\n",
    "x=df['Year']\n",
    "y=df['Age']\n",
    "parameter = np.polyfit(x,y,1)\n",
    "y2 = parameter[0] * x + parameter[1]\n",
    "plt.scatter(x,y)\n",
    "plt.plot(x,y2,color='C1')\n",
    "plt.show()\n",
    "print('y=',parameter[0],'x+',parameter[1])"
   ]
  },
  {
   "cell_type": "markdown",
   "metadata": {},
   "source": [
    "https://www.pythonguis.com/tutorials/plotting-matplotlib/"
   ]
  },
  {
   "cell_type": "code",
   "execution_count": 13,
   "metadata": {},
   "outputs": [
    {
     "data": {
      "text/plain": [
       "['GTK3Agg',\n",
       " 'GTK3Cairo',\n",
       " 'GTK4Agg',\n",
       " 'GTK4Cairo',\n",
       " 'MacOSX',\n",
       " 'nbAgg',\n",
       " 'QtAgg',\n",
       " 'QtCairo',\n",
       " 'Qt5Agg',\n",
       " 'Qt5Cairo',\n",
       " 'TkAgg',\n",
       " 'TkCairo',\n",
       " 'WebAgg',\n",
       " 'WX',\n",
       " 'WXAgg',\n",
       " 'WXCairo']"
      ]
     },
     "execution_count": 13,
     "metadata": {},
     "output_type": "execute_result"
    }
   ],
   "source": [
    "import matplotlib\n",
    "matplotlib.rcsetup.interactive_bk"
   ]
  },
  {
   "cell_type": "markdown",
   "metadata": {},
   "source": [
    "# Submition"
   ]
  },
  {
   "cell_type": "code",
   "execution_count": 45,
   "metadata": {},
   "outputs": [
    {
     "name": "stdout",
     "output_type": "stream",
     "text": [
      "Answer of Question A is: \n",
      "     Year        Age\n",
      "0   1960  65.866293\n",
      "1   1961  66.558878\n",
      "2   1962  66.977171\n",
      "3   1963  67.685732\n",
      "4   1964  68.446098\n",
      "5   1965  69.251220\n",
      "6   1966  69.538878\n",
      "7   1967  69.925439\n",
      "8   1968  70.355829\n",
      "9   1969  70.568561\n",
      "10  1970  71.049951\n",
      "11  1971  71.458537\n",
      "12  1972  71.456098\n",
      "13  1973  72.109756\n",
      "14  1974  72.612195\n",
      "15  1975  73.368293\n",
      "16  1976  72.819512\n",
      "17  1977  73.319512\n",
      "18  1978  73.575610\n",
      "19  1979  73.673171\n",
      "20  1980  74.673171\n",
      "21  1981  75.324390\n",
      "22  1982  75.429268\n",
      "23  1983  75.275610\n",
      "24  1984  76.029268\n",
      "25  1985  76.434146\n",
      "26  1986  76.685366\n",
      "27  1987  76.882927\n",
      "28  1988  77.082927\n",
      "29  1989  77.029268\n",
      "30  1990  77.380488\n",
      "31  1991  77.882927\n",
      "32  1992  77.678049\n",
      "33  1993  78.031707\n",
      "34  1994  78.529268\n",
      "35  1995  78.682927\n",
      "36  1996  79.626829\n",
      "37  1997  80.126829\n",
      "38  1998  80.131707\n",
      "39  1999  80.382927\n",
      "40  2000  80.878049\n",
      "41  2001  81.424390\n",
      "42  2002  81.426829\n",
      "43  2003  81.378049\n",
      "44  2004  81.829268\n",
      "45  2005  81.629268\n",
      "46  2006  82.375610\n",
      "47  2007  82.326829\n",
      "48  2008  82.375610\n",
      "49  2009  82.775610\n",
      "50  2010  82.978049\n",
      "51  2011  83.421951\n",
      "52  2012  83.480488\n",
      "53  2013  83.831707\n",
      "54  2014  83.980488\n",
      "55  2015  84.278049\n",
      "56  2016  84.226829\n",
      "57  2017  84.680488\n",
      "58  2018  84.934146\n",
      "59  2019  85.180488\n",
      "60  2020  85.497561\n"
     ]
    },
    {
     "data": {
      "image/png": "[encoded data removed]",
      "text/plain": [
       "<Figure size 640x480 with 1 Axes>"
      ]
     },
     "metadata": {},
     "output_type": "display_data"
    },
    {
     "name": "stdout",
     "output_type": "stream",
     "text": [
      "Answer of Question B is: \n",
      " y=  0.30887763990111033 x+ -537.5382003245212\n"
     ]
    },
    {
     "name": "stderr",
     "output_type": "stream",
     "text": [
      "C:\\Users\\User\\AppData\\Local\\Temp\\ipykernel_35056\\3690010484.py:64: SettingWithCopyWarning:\n",
      "\n",
      "\n",
      "A value is trying to be set on a copy of a slice from a DataFrame.\n",
      "Try using .loc[row_indexer,col_indexer] = value instead\n",
      "\n",
      "See the caveats in the documentation: https://pandas.pydata.org/pandas-docs/stable/user_guide/indexing.html#returning-a-view-versus-a-copy\n",
      "\n"
     ]
    },
    {
     "data": {
      "image/png": "[encoded data removed]",
      "text/plain": [
       "<Figure size 1600x800 with 1 Axes>"
      ]
     },
     "metadata": {},
     "output_type": "display_data"
    },
    {
     "name": "stdout",
     "output_type": "stream",
     "text": [
      "Answer of Question C is: \n",
      "       Year        Age  Prediction\n",
      "0   1965.0  65.866293   69.251220\n",
      "1   1966.0  66.558878   69.538878\n",
      "2   1967.0  66.977171   69.925439\n",
      "3   1968.0  67.685732   70.355829\n",
      "4   1969.0  68.446098   70.568561\n",
      "5   1970.0  69.251220   71.049951\n",
      "6   1971.0  69.538878   71.458537\n",
      "7   1972.0  69.925439   71.456098\n",
      "8   1973.0  70.355829   72.109756\n",
      "9   1974.0  70.568561   72.612195\n",
      "10  1975.0  71.049951   73.368293\n",
      "11  1976.0  71.458537   72.819512\n",
      "12  1977.0  71.456098   73.319512\n",
      "13  1978.0  72.109756   73.575610\n",
      "14  1979.0  72.612195   73.673171\n",
      "15  1980.0  73.368293   74.673171\n",
      "16  1981.0  72.819512   75.324390\n",
      "17  1982.0  73.319512   75.429268\n",
      "18  1983.0  73.575610   75.275610\n",
      "19  1984.0  73.673171   76.029268\n",
      "20  1985.0  74.673171   76.434146\n",
      "21  1986.0  75.324390   76.685366\n",
      "22  1987.0  75.429268   76.882927\n",
      "23  1988.0  75.275610   77.082927\n",
      "24  1989.0  76.029268   77.029268\n",
      "25  1990.0  76.434146   77.380488\n",
      "26  1991.0  76.685366   77.882927\n",
      "27  1992.0  76.882927   77.678049\n",
      "28  1993.0  77.082927   78.031707\n",
      "29  1994.0  77.029268   78.529268\n",
      "30  1995.0  77.380488   78.682927\n",
      "31  1996.0  77.882927   79.626829\n",
      "32  1997.0  77.678049   80.126829\n",
      "33  1998.0  78.031707   80.131707\n",
      "34  1999.0  78.529268   80.382927\n",
      "35  2000.0  78.682927   80.878049\n",
      "36  2001.0  79.626829   81.424390\n",
      "37  2002.0  80.126829   81.426829\n",
      "38  2003.0  80.131707   81.378049\n",
      "39  2004.0  80.382927   81.829268\n",
      "40  2005.0  80.878049   81.629268\n",
      "41  2006.0  81.424390   82.375610\n",
      "42  2007.0  81.426829   82.326829\n",
      "43  2008.0  81.378049   82.375610\n",
      "44  2009.0  81.829268   82.775610\n",
      "45  2010.0  81.629268   82.978049\n",
      "46  2011.0  82.375610   83.421951\n",
      "47  2012.0  82.326829   83.480488\n",
      "48  2013.0  82.375610   83.831707\n",
      "49  2014.0  82.775610   83.980488\n",
      "50  2015.0  82.978049   84.278049\n",
      "51  2016.0  83.421951   84.226829\n",
      "52  2017.0  83.480488   84.680488\n",
      "53  2018.0  83.831707   84.934146\n",
      "54  2019.0  83.980488   85.180488\n",
      "55  2020.0  84.278049   85.497561\n",
      "56  2021.0  84.226829   84.680488\n",
      "57  2022.0  84.680488   84.680488\n",
      "58  2023.0  84.934146   85.497561\n",
      "59  2024.0  85.180488   85.497561\n",
      "60  2025.0  85.497561   85.497561 \n",
      "\n",
      "Answer of Question D is: \n",
      "\n"
     ]
    },
    {
     "data": {
      "image/png": "[encoded data removed]",
      "text/plain": [
       "<Figure size 640x480 with 1 Axes>"
      ]
     },
     "metadata": {},
     "output_type": "display_data"
    },
    {
     "name": "stdout",
     "output_type": "stream",
     "text": [
      "Answer of Question E is: \n",
      "\n"
     ]
    },
    {
     "data": {
      "application/vnd.plotly.v1+json": {
       "config": {
        "plotlyServerURL": "https://plot.ly"
       },
       "data": [
        {
         "hovertemplate": "Year=%{x}<br>Age=%{y}<extra></extra>",
         "legendgroup": "",
         "marker": {
          "color": "#636efa",
          "symbol": "circle"
         },
         "mode": "markers",
         "name": "",
         "orientation": "v",
         "showlegend": false,
         "type": "scatter",
         "x": [
          1965,
          1966,
          1967,
          1968,
          1969,
          1970,
          1971,
          1972,
          1973,
          1974,
          1975,
          1976,
          1977,
          1978,
          1979,
          1980,
          1981,
          1982,
          1983,
          1984,
          1985,
          1986,
          1987,
          1988,
          1989,
          1990,
          1991,
          1992,
          1993,
          1994,
          1995,
          1996,
          1997,
          1998,
          1999,
          2000,
          2001,
          2002,
          2003,
          2004,
          2005,
          2006,
          2007,
          2008,
          2009,
          2010,
          2011,
          2012,
          2013,
          2014,
          2015,
          2016,
          2017,
          2018,
          2019,
          2020,
          2021,
          2022,
          2023,
          2024,
          2025
         ],
         "xaxis": "x",
         "y": [
          65.86629268,
          66.55887805,
          66.97717073,
          67.68573171,
          68.44609756,
          69.25121951,
          69.53887805,
          69.92543902,
          70.35582927,
          70.56856098,
          71.04995122,
          71.45853659,
          71.45609756,
          72.1097561,
          72.61219512,
          73.36829268,
          72.8195122,
          73.3195122,
          73.57560976,
          73.67317073,
          74.67317073,
          75.32439024,
          75.42926829,
          75.27560976,
          76.02926829,
          76.43414634,
          76.68536585,
          76.88292683,
          77.08292683,
          77.02926829,
          77.3804878,
          77.88292683,
          77.67804878,
          78.03170732,
          78.52926829,
          78.68292683,
          79.62682927,
          80.12682927,
          80.13170732,
          80.38292683,
          80.87804878,
          81.42439024,
          81.42682927,
          81.37804878,
          81.82926829,
          81.62926829,
          82.37560976,
          82.32682927,
          82.37560976,
          82.77560976,
          82.97804878,
          83.42195122,
          83.4804878,
          83.83170732,
          83.9804878,
          84.27804878,
          84.22682927,
          84.6804878,
          84.93414634,
          85.1804878,
          85.49756098
         ],
         "yaxis": "y"
        },
        {
         "hovertemplate": "<b>OLS trendline</b><br>Age = 0.308878 * Year + -539.083<br>R<sup>2</sup>=0.986106<br><br>Year=%{x}<br>Age=%{y} <b>(trend)</b><extra></extra>",
         "legendgroup": "",
         "marker": {
          "color": "#636efa",
          "symbol": "circle"
         },
         "mode": "lines",
         "name": "",
         "showlegend": false,
         "type": "scatter",
         "x": [
          1965,
          1966,
          1967,
          1968,
          1969,
          1970,
          1971,
          1972,
          1973,
          1974,
          1975,
          1976,
          1977,
          1978,
          1979,
          1980,
          1981,
          1982,
          1983,
          1984,
          1985,
          1986,
          1987,
          1988,
          1989,
          1990,
          1991,
          1992,
          1993,
          1994,
          1995,
          1996,
          1997,
          1998,
          1999,
          2000,
          2001,
          2002,
          2003,
          2004,
          2005,
          2006,
          2007,
          2008,
          2009,
          2010,
          2011,
          2012,
          2013,
          2014,
          2015,
          2016,
          2017,
          2018,
          2019,
          2020,
          2021,
          2022,
          2023,
          2024,
          2025
         ],
         "xaxis": "x",
         "y": [
          67.86197388165522,
          68.17085152155641,
          68.4797291614575,
          68.78860680135858,
          69.09748444125967,
          69.40636208116075,
          69.71523972106195,
          70.02411736096303,
          70.33299500086412,
          70.6418726407652,
          70.9507502806664,
          71.25962792056748,
          71.56850556046857,
          71.87738320036965,
          72.18626084027085,
          72.49513848017193,
          72.80401612007302,
          73.1128937599741,
          73.4217713998753,
          73.73064903977638,
          74.03952667967746,
          74.34840431957855,
          74.65728195947963,
          74.96615959938083,
          75.27503723928191,
          75.583914879183,
          75.89279251908408,
          76.20167015898528,
          76.51054779888636,
          76.81942543878745,
          77.12830307868853,
          77.43718071858973,
          77.74605835849081,
          78.0549359983919,
          78.36381363829298,
          78.67269127819418,
          78.98156891809526,
          79.29044655799635,
          79.59932419789743,
          79.90820183779863,
          80.21707947769971,
          80.5259571176008,
          80.83483475750188,
          81.14371239740296,
          81.45259003730416,
          81.76146767720525,
          82.07034531710633,
          82.37922295700741,
          82.68810059690861,
          82.9969782368097,
          83.30585587671078,
          83.61473351661186,
          83.92361115651306,
          84.23248879641415,
          84.54136643631523,
          84.85024407621631,
          85.15912171611751,
          85.4679993560186,
          85.77687699591968,
          86.08575463582076,
          86.39463227572196
         ],
         "yaxis": "y"
        }
       ],
       "layout": {
        "legend": {
         "tracegroupgap": 0
        },
        "margin": {
         "t": 60
        },
        "template": {
         "data": {
          "bar": [
           {
            "error_x": {
             "color": "#2a3f5f"
            },
            "error_y": {
             "color": "#2a3f5f"
            },
            "marker": {
             "line": {
              "color": "#E5ECF6",
              "width": 0.5
             },
             "pattern": {
              "fillmode": "overlay",
              "size": 10,
              "solidity": 0.2
             }
            },
            "type": "bar"
           }
          ],
          "barpolar": [
           {
            "marker": {
             "line": {
              "color": "#E5ECF6",
              "width": 0.5
             },
             "pattern": {
              "fillmode": "overlay",
              "size": 10,
              "solidity": 0.2
             }
            },
            "type": "barpolar"
           }
          ],
          "carpet": [
           {
            "aaxis": {
             "endlinecolor": "#2a3f5f",
             "gridcolor": "white",
             "linecolor": "white",
             "minorgridcolor": "white",
             "startlinecolor": "#2a3f5f"
            },
            "baxis": {
             "endlinecolor": "#2a3f5f",
             "gridcolor": "white",
             "linecolor": "white",
             "minorgridcolor": "white",
             "startlinecolor": "#2a3f5f"
            },
            "type": "carpet"
           }
          ],
          "choropleth": [
           {
            "colorbar": {
             "outlinewidth": 0,
             "ticks": ""
            },
            "type": "choropleth"
           }
          ],
          "contour": [
           {
            "colorbar": {
             "outlinewidth": 0,
             "ticks": ""
            },
            "colorscale": [
             [
              0,
              "#0d0887"
             ],
             [
              0.1111111111111111,
              "#46039f"
             ],
             [
              0.2222222222222222,
              "#7201a8"
             ],
             [
              0.3333333333333333,
              "#9c179e"
             ],
             [
              0.4444444444444444,
              "#bd3786"
             ],
             [
              0.5555555555555556,
              "#d8576b"
             ],
             [
              0.6666666666666666,
              "#ed7953"
             ],
             [
              0.7777777777777778,
              "#fb9f3a"
             ],
             [
              0.8888888888888888,
              "#fdca26"
             ],
             [
              1,
              "#f0f921"
             ]
            ],
            "type": "contour"
           }
          ],
          "contourcarpet": [
           {
            "colorbar": {
             "outlinewidth": 0,
             "ticks": ""
            },
            "type": "contourcarpet"
           }
          ],
          "heatmap": [
           {
            "colorbar": {
             "outlinewidth": 0,
             "ticks": ""
            },
            "colorscale": [
             [
              0,
              "#0d0887"
             ],
             [
              0.1111111111111111,
              "#46039f"
             ],
             [
              0.2222222222222222,
              "#7201a8"
             ],
             [
              0.3333333333333333,
              "#9c179e"
             ],
             [
              0.4444444444444444,
              "#bd3786"
             ],
             [
              0.5555555555555556,
              "#d8576b"
             ],
             [
              0.6666666666666666,
              "#ed7953"
             ],
             [
              0.7777777777777778,
              "#fb9f3a"
             ],
             [
              0.8888888888888888,
              "#fdca26"
             ],
             [
              1,
              "#f0f921"
             ]
            ],
            "type": "heatmap"
           }
          ],
          "heatmapgl": [
           {
            "colorbar": {
             "outlinewidth": 0,
             "ticks": ""
            },
            "colorscale": [
             [
              0,
              "#0d0887"
             ],
             [
              0.1111111111111111,
              "#46039f"
             ],
             [
              0.2222222222222222,
              "#7201a8"
             ],
             [
              0.3333333333333333,
              "#9c179e"
             ],
             [
              0.4444444444444444,
              "#bd3786"
             ],
             [
              0.5555555555555556,
              "#d8576b"
             ],
             [
              0.6666666666666666,
              "#ed7953"
             ],
             [
              0.7777777777777778,
              "#fb9f3a"
             ],
             [
              0.8888888888888888,
              "#fdca26"
             ],
             [
              1,
              "#f0f921"
             ]
            ],
            "type": "heatmapgl"
           }
          ],
          "histogram": [
           {
            "marker": {
             "pattern": {
              "fillmode": "overlay",
              "size": 10,
              "solidity": 0.2
             }
            },
            "type": "histogram"
           }
          ],
          "histogram2d": [
           {
            "colorbar": {
             "outlinewidth": 0,
             "ticks": ""
            },
            "colorscale": [
             [
              0,
              "#0d0887"
             ],
             [
              0.1111111111111111,
              "#46039f"
             ],
             [
              0.2222222222222222,
              "#7201a8"
             ],
             [
              0.3333333333333333,
              "#9c179e"
             ],
             [
              0.4444444444444444,
              "#bd3786"
             ],
             [
              0.5555555555555556,
              "#d8576b"
             ],
             [
              0.6666666666666666,
              "#ed7953"
             ],
             [
              0.7777777777777778,
              "#fb9f3a"
             ],
             [
              0.8888888888888888,
              "#fdca26"
             ],
             [
              1,
              "#f0f921"
             ]
            ],
            "type": "histogram2d"
           }
          ],
          "histogram2dcontour": [
           {
            "colorbar": {
             "outlinewidth": 0,
             "ticks": ""
            },
            "colorscale": [
             [
              0,
              "#0d0887"
             ],
             [
              0.1111111111111111,
              "#46039f"
             ],
             [
              0.2222222222222222,
              "#7201a8"
             ],
             [
              0.3333333333333333,
              "#9c179e"
             ],
             [
              0.4444444444444444,
              "#bd3786"
             ],
             [
              0.5555555555555556,
              "#d8576b"
             ],
             [
              0.6666666666666666,
              "#ed7953"
             ],
             [
              0.7777777777777778,
              "#fb9f3a"
             ],
             [
              0.8888888888888888,
              "#fdca26"
             ],
             [
              1,
              "#f0f921"
             ]
            ],
            "type": "histogram2dcontour"
           }
          ],
          "mesh3d": [
           {
            "colorbar": {
             "outlinewidth": 0,
             "ticks": ""
            },
            "type": "mesh3d"
           }
          ],
          "parcoords": [
           {
            "line": {
             "colorbar": {
              "outlinewidth": 0,
              "ticks": ""
             }
            },
            "type": "parcoords"
           }
          ],
          "pie": [
           {
            "automargin": true,
            "type": "pie"
           }
          ],
          "scatter": [
           {
            "fillpattern": {
             "fillmode": "overlay",
             "size": 10,
             "solidity": 0.2
            },
            "type": "scatter"
           }
          ],
          "scatter3d": [
           {
            "line": {
             "colorbar": {
              "outlinewidth": 0,
              "ticks": ""
             }
            },
            "marker": {
             "colorbar": {
              "outlinewidth": 0,
              "ticks": ""
             }
            },
            "type": "scatter3d"
           }
          ],
          "scattercarpet": [
           {
            "marker": {
             "colorbar": {
              "outlinewidth": 0,
              "ticks": ""
             }
            },
            "type": "scattercarpet"
           }
          ],
          "scattergeo": [
           {
            "marker": {
             "colorbar": {
              "outlinewidth": 0,
              "ticks": ""
             }
            },
            "type": "scattergeo"
           }
          ],
          "scattergl": [
           {
            "marker": {
             "colorbar": {
              "outlinewidth": 0,
              "ticks": ""
             }
            },
            "type": "scattergl"
           }
          ],
          "scattermapbox": [
           {
            "marker": {
             "colorbar": {
              "outlinewidth": 0,
              "ticks": ""
             }
            },
            "type": "scattermapbox"
           }
          ],
          "scatterpolar": [
           {
            "marker": {
             "colorbar": {
              "outlinewidth": 0,
              "ticks": ""
             }
            },
            "type": "scatterpolar"
           }
          ],
          "scatterpolargl": [
           {
            "marker": {
             "colorbar": {
              "outlinewidth": 0,
              "ticks": ""
             }
            },
            "type": "scatterpolargl"
           }
          ],
          "scatterternary": [
           {
            "marker": {
             "colorbar": {
              "outlinewidth": 0,
              "ticks": ""
             }
            },
            "type": "scatterternary"
           }
          ],
          "surface": [
           {
            "colorbar": {
             "outlinewidth": 0,
             "ticks": ""
            },
            "colorscale": [
             [
              0,
              "#0d0887"
             ],
             [
              0.1111111111111111,
              "#46039f"
             ],
             [
              0.2222222222222222,
              "#7201a8"
             ],
             [
              0.3333333333333333,
              "#9c179e"
             ],
             [
              0.4444444444444444,
              "#bd3786"
             ],
             [
              0.5555555555555556,
              "#d8576b"
             ],
             [
              0.6666666666666666,
              "#ed7953"
             ],
             [
              0.7777777777777778,
              "#fb9f3a"
             ],
             [
              0.8888888888888888,
              "#fdca26"
             ],
             [
              1,
              "#f0f921"
             ]
            ],
            "type": "surface"
           }
          ],
          "table": [
           {
            "cells": {
             "fill": {
              "color": "#EBF0F8"
             },
             "line": {
              "color": "white"
             }
            },
            "header": {
             "fill": {
              "color": "#C8D4E3"
             },
             "line": {
              "color": "white"
             }
            },
            "type": "table"
           }
          ]
         },
         "layout": {
          "annotationdefaults": {
           "arrowcolor": "#2a3f5f",
           "arrowhead": 0,
           "arrowwidth": 1
          },
          "autotypenumbers": "strict",
          "coloraxis": {
           "colorbar": {
            "outlinewidth": 0,
            "ticks": ""
           }
          },
          "colorscale": {
           "diverging": [
            [
             0,
             "#8e0152"
            ],
            [
             0.1,
             "#c51b7d"
            ],
            [
             0.2,
             "#de77ae"
            ],
            [
             0.3,
             "#f1b6da"
            ],
            [
             0.4,
             "#fde0ef"
            ],
            [
             0.5,
             "#f7f7f7"
            ],
            [
             0.6,
             "#e6f5d0"
            ],
            [
             0.7,
             "#b8e186"
            ],
            [
             0.8,
             "#7fbc41"
            ],
            [
             0.9,
             "#4d9221"
            ],
            [
             1,
             "#276419"
            ]
           ],
           "sequential": [
            [
             0,
             "#0d0887"
            ],
            [
             0.1111111111111111,
             "#46039f"
            ],
            [
             0.2222222222222222,
             "#7201a8"
            ],
            [
             0.3333333333333333,
             "#9c179e"
            ],
            [
             0.4444444444444444,
             "#bd3786"
            ],
            [
             0.5555555555555556,
             "#d8576b"
            ],
            [
             0.6666666666666666,
             "#ed7953"
            ],
            [
             0.7777777777777778,
             "#fb9f3a"
            ],
            [
             0.8888888888888888,
             "#fdca26"
            ],
            [
             1,
             "#f0f921"
            ]
           ],
           "sequentialminus": [
            [
             0,
             "#0d0887"
            ],
            [
             0.1111111111111111,
             "#46039f"
            ],
            [
             0.2222222222222222,
             "#7201a8"
            ],
            [
             0.3333333333333333,
             "#9c179e"
            ],
            [
             0.4444444444444444,
             "#bd3786"
            ],
            [
             0.5555555555555556,
             "#d8576b"
            ],
            [
             0.6666666666666666,
             "#ed7953"
            ],
            [
             0.7777777777777778,
             "#fb9f3a"
            ],
            [
             0.8888888888888888,
             "#fdca26"
            ],
            [
             1,
             "#f0f921"
            ]
           ]
          },
          "colorway": [
           "#636efa",
           "#EF553B",
           "#00cc96",
           "#ab63fa",
           "#FFA15A",
           "#19d3f3",
           "#FF6692",
           "#B6E880",
           "#FF97FF",
           "#FECB52"
          ],
          "font": {
           "color": "#2a3f5f"
          },
          "geo": {
           "bgcolor": "white",
           "lakecolor": "white",
           "landcolor": "#E5ECF6",
           "showlakes": true,
           "showland": true,
           "subunitcolor": "white"
          },
          "hoverlabel": {
           "align": "left"
          },
          "hovermode": "closest",
          "mapbox": {
           "style": "light"
          },
          "paper_bgcolor": "white",
          "plot_bgcolor": "#E5ECF6",
          "polar": {
           "angularaxis": {
            "gridcolor": "white",
            "linecolor": "white",
            "ticks": ""
           },
           "bgcolor": "#E5ECF6",
           "radialaxis": {
            "gridcolor": "white",
            "linecolor": "white",
            "ticks": ""
           }
          },
          "scene": {
           "xaxis": {
            "backgroundcolor": "#E5ECF6",
            "gridcolor": "white",
            "gridwidth": 2,
            "linecolor": "white",
            "showbackground": true,
            "ticks": "",
            "zerolinecolor": "white"
           },
           "yaxis": {
            "backgroundcolor": "#E5ECF6",
            "gridcolor": "white",
            "gridwidth": 2,
            "linecolor": "white",
            "showbackground": true,
            "ticks": "",
            "zerolinecolor": "white"
           },
           "zaxis": {
            "backgroundcolor": "#E5ECF6",
            "gridcolor": "white",
            "gridwidth": 2,
            "linecolor": "white",
            "showbackground": true,
            "ticks": "",
            "zerolinecolor": "white"
           }
          },
          "shapedefaults": {
           "line": {
            "color": "#2a3f5f"
           }
          },
          "ternary": {
           "aaxis": {
            "gridcolor": "white",
            "linecolor": "white",
            "ticks": ""
           },
           "baxis": {
            "gridcolor": "white",
            "linecolor": "white",
            "ticks": ""
           },
           "bgcolor": "#E5ECF6",
           "caxis": {
            "gridcolor": "white",
            "linecolor": "white",
            "ticks": ""
           }
          },
          "title": {
           "x": 0.05
          },
          "xaxis": {
           "automargin": true,
           "gridcolor": "white",
           "linecolor": "white",
           "ticks": "",
           "title": {
            "standoff": 15
           },
           "zerolinecolor": "white",
           "zerolinewidth": 2
          },
          "yaxis": {
           "automargin": true,
           "gridcolor": "white",
           "linecolor": "white",
           "ticks": "",
           "title": {
            "standoff": 15
           },
           "zerolinecolor": "white",
           "zerolinewidth": 2
          }
         }
        },
        "xaxis": {
         "anchor": "y",
         "domain": [
          0,
          1
         ],
         "title": {
          "text": "Year"
         }
        },
        "yaxis": {
         "anchor": "x",
         "domain": [
          0,
          1
         ],
         "title": {
          "text": "Age"
         }
        }
       }
      }
     },
     "metadata": {},
     "output_type": "display_data"
    },
    {
     "name": "stdout",
     "output_type": "stream",
     "text": [
      "Answer of Question F : \n",
      "\n",
      "  It was founded that the values of the slope in part (e) is the same as the slope in part (b) \n",
      "\n",
      "Answer of Question G : \n",
      "\n",
      " A trendline is most reliable when its R-squared value is at or near 1. \n",
      " Which means that if the R-squared value is closer to 1, the line is fit better to the data. \n",
      " It also means that the data distrubution is lesser.\n"
     ]
    }
   ],
   "source": [
    "%matplotlib inline\n",
    "import pandas as pd\n",
    "import numpy as np\n",
    "# from matplotlib import interactive\n",
    "# import wx\n",
    "# import sys\n",
    "# import matplotlib\n",
    "# matplotlib.use('WXAgg') # pip install PyQt5\n",
    "import plotly.graph_objects as go\n",
    "# from PyQt5 import QtCore, QtWidgets\n",
    "# from matplotlib.backends.backend_qt5agg import FigureCanvasQTAgg\n",
    "# from matplotlib.figure import Figure\n",
    "# matplotlib.use('module://ipykernel.pylab.backend_inline')\n",
    "import matplotlib.pyplot as plt\n",
    "import seaborn as sns\n",
    "import plotly.express as px\n",
    "from sklearn.tree import DecisionTreeRegressor\n",
    "from sklearn.model_selection import train_test_split\n",
    "# Answer of Question A\n",
    "df = pd.read_csv('API_SP.DYN.LE00.IN_DS2_en_csv_v2_5795729.csv')\n",
    "pd.options.display.max_rows = 9999\n",
    "df=pd.DataFrame(df)\n",
    "df1=df['Country Name']\n",
    "df_T=df.T\n",
    "HKG = df.loc[df['Country Code'] == \"HKG\"]\n",
    "HKG = HKG.drop(['Country Name','Country Code','Indicator Name','Indicator Code'],axis=1)\n",
    "HKG = HKG.T\n",
    "year = pd.Series(HKG.index,index=HKG.index,dtype=int)\n",
    "year=year.to_frame(name='Year')\n",
    "HKG.rename(columns={ HKG.columns[0]: \"Age\" }, inplace = True)\n",
    "age = HKG\n",
    "df = pd.concat([year,age],axis=1)\n",
    "df.drop(['2021','2022'], inplace = True)\n",
    "df.reset_index(inplace=True, drop=True)\n",
    "print('Answer of Question A is: \\n', df)\n",
    "# Answer of Question B\n",
    "x=df['Year']\n",
    "y=df['Age']\n",
    "parameter = np.polyfit(x,y,1)\n",
    "y2 = parameter[0] * x + parameter[1]\n",
    "plt.scatter(x,y)\n",
    "plt.plot(x,y2,color='C1')\n",
    "plt.show()\n",
    "print('Answer of Question B is: \\n y= ',parameter[0],'x+',parameter[1])\n",
    "# Answer of Question C\n",
    "df_for_question_C = df\n",
    "future_2025 = 5\n",
    "def future(df, future):\n",
    "    df['Prediction'] = df[['Age']].shift(-future)\n",
    "    X = np.array(df.drop(['Prediction'],axis=1))[:-future]\n",
    "    y = np.array(df['Prediction'])[:-future]\n",
    "    i=future\n",
    "    df['Year'] = df[['Year']].shift(-i).ffill()\n",
    "    while i > 0:\n",
    "        df.iloc[-i, df.columns.get_loc('Year')]=df.iloc[-i-1, df.columns.get_loc('Year')]+1\n",
    "        i-=1\n",
    "    X_train, X_test, y_train, y_test = train_test_split(X,y,test_size=0.25)\n",
    "    tree = DecisionTreeRegressor().fit(X_train, y_train)\n",
    "    X_future = df.drop('Prediction',axis=1)[:-future]\n",
    "    X_future = X_future.tail(future)\n",
    "    X_future = np.array(X_future)\n",
    "    tree_prediction = tree.predict(X_future)\n",
    "    valid = df[X.shape[0]:]\n",
    "    valid['Prediction'] = tree_prediction\n",
    "    df.fillna(valid,inplace=True)\n",
    "    plt.figure(figsize=(16,8))\n",
    "    plt.title('life expectancy in year 2025')\n",
    "    plt.xlabel(\"Year\")\n",
    "    plt.ylabel('Age')\n",
    "    plt.plot(df['Age'])\n",
    "    plt.plot(valid[['Age','Prediction']])\n",
    "    plt.legend(['Orig','Val','Pred'])\n",
    "    plt.show()\n",
    "future(df_for_question_C, future_2025)\n",
    "print('Answer of Question C is: \\n', df_for_question_C, '\\n')\n",
    "\n",
    "# Answer of Question D\n",
    "print('Answer of Question D is: \\n')\n",
    "figd,axd = plt.subplots()\n",
    "sns.set()\n",
    "sns.regplot(data=df,x=df['Year'],y=df['Age'],ax=axd)\n",
    "plt.show()\n",
    "# Answer of Question E\n",
    "print('Answer of Question E is: \\n')\n",
    "fige = go.Figure(px.scatter(df, x=\"Year\", y=\"Age\", trendline=\"ols\"))\n",
    "fige.show()\n",
    "# Answer of Question F\n",
    "print('Answer of Question F : \\n\\n ',\n",
    "      'It was founded that the values of the slope in part (e) is the same as the slope in part (b) \\n')\n",
    "# It was founded that the values of the slope in part (e) is the same as the slope in part (b)\n",
    "# Answer of Question G\n",
    "print('Answer of Question G : \\n\\n A trendline is most reliable when its R-squared value is at or near 1. \\n',  \n",
    "      'Which means that if the R-squared value is closer to 1, the line is fit better to the data. \\n'  ,\n",
    "      'It also means that the data distrubution is lesser.')\n",
    "# A trendline is most reliable when its R-squared value is at or near 1.  \n",
    "# Which means that if the R-squared value is closer to 1, the line is fit better to the data.\n",
    "# It also means that the data distrubution is lesser."
   ]
  },
  {
   "cell_type": "code",
   "execution_count": 2,
   "metadata": {},
   "outputs": [
    {
     "name": "stdout",
     "output_type": "stream",
     "text": [
      "Answer of Question A is: \n",
      "     Year        Age\n",
      "0   1960  65.866293\n",
      "1   1961  66.558878\n",
      "2   1962  66.977171\n",
      "3   1963  67.685732\n",
      "4   1964  68.446098\n",
      "5   1965  69.251220\n",
      "6   1966  69.538878\n",
      "7   1967  69.925439\n",
      "8   1968  70.355829\n",
      "9   1969  70.568561\n",
      "10  1970  71.049951\n",
      "11  1971  71.458537\n",
      "12  1972  71.456098\n",
      "13  1973  72.109756\n",
      "14  1974  72.612195\n",
      "15  1975  73.368293\n",
      "16  1976  72.819512\n",
      "17  1977  73.319512\n",
      "18  1978  73.575610\n",
      "19  1979  73.673171\n",
      "20  1980  74.673171\n",
      "21  1981  75.324390\n",
      "22  1982  75.429268\n",
      "23  1983  75.275610\n",
      "24  1984  76.029268\n",
      "25  1985  76.434146\n",
      "26  1986  76.685366\n",
      "27  1987  76.882927\n",
      "28  1988  77.082927\n",
      "29  1989  77.029268\n",
      "30  1990  77.380488\n",
      "31  1991  77.882927\n",
      "32  1992  77.678049\n",
      "33  1993  78.031707\n",
      "34  1994  78.529268\n",
      "35  1995  78.682927\n",
      "36  1996  79.626829\n",
      "37  1997  80.126829\n",
      "38  1998  80.131707\n",
      "39  1999  80.382927\n",
      "40  2000  80.878049\n",
      "41  2001  81.424390\n",
      "42  2002  81.426829\n",
      "43  2003  81.378049\n",
      "44  2004  81.829268\n",
      "45  2005  81.629268\n",
      "46  2006  82.375610\n",
      "47  2007  82.326829\n",
      "48  2008  82.375610\n",
      "49  2009  82.775610\n",
      "50  2010  82.978049\n",
      "51  2011  83.421951\n",
      "52  2012  83.480488\n",
      "53  2013  83.831707\n",
      "54  2014  83.980488\n",
      "55  2015  84.278049\n",
      "56  2016  84.226829\n",
      "57  2017  84.680488\n",
      "58  2018  84.934146\n",
      "59  2019  85.180488\n",
      "60  2020  85.497561\n"
     ]
    },
    {
     "data": {
      "image/png": "[encoded data removed]",
      "text/plain": [
       "<Figure size 640x480 with 1 Axes>"
      ]
     },
     "metadata": {},
     "output_type": "display_data"
    },
    {
     "name": "stdout",
     "output_type": "stream",
     "text": [
      "Answer of Question B is: \n",
      " y=  0.30887763990111033 x+ -537.5382003245212\n"
     ]
    },
    {
     "name": "stderr",
     "output_type": "stream",
     "text": [
      "C:\\Users\\User\\AppData\\Local\\Temp\\ipykernel_16468\\49792329.py:54: SettingWithCopyWarning:\n",
      "\n",
      "\n",
      "A value is trying to be set on a copy of a slice from a DataFrame.\n",
      "Try using .loc[row_indexer,col_indexer] = value instead\n",
      "\n",
      "See the caveats in the documentation: https://pandas.pydata.org/pandas-docs/stable/user_guide/indexing.html#returning-a-view-versus-a-copy\n",
      "\n"
     ]
    },
    {
     "data": {
      "image/png": "[encoded data removed]",
      "text/plain": [
       "<Figure size 1600x800 with 1 Axes>"
      ]
     },
     "metadata": {},
     "output_type": "display_data"
    },
    {
     "name": "stdout",
     "output_type": "stream",
     "text": [
      "Answer of Question C is: \n",
      "       Year        Age  Prediction\n",
      "56  2021.0  84.226829   84.680488\n",
      "57  2022.0  84.680488   84.680488\n",
      "58  2023.0  84.934146   85.497561\n",
      "59  2024.0  85.180488   85.497561\n",
      "60  2025.0  85.497561   85.497561 \n",
      "\n",
      "Answer of Question D is: \n",
      "\n"
     ]
    },
    {
     "data": {
      "image/png": "[encoded data removed]",
      "text/plain": [
       "<Figure size 640x480 with 1 Axes>"
      ]
     },
     "metadata": {},
     "output_type": "display_data"
    },
    {
     "name": "stdout",
     "output_type": "stream",
     "text": [
      "Answer of Question E is: \n",
      "\n"
     ]
    },
    {
     "data": {
      "application/vnd.plotly.v1+json": {
       "config": {
        "plotlyServerURL": "https://plot.ly"
       },
       "data": [
        {
         "hovertemplate": "Year=%{x}<br>Age=%{y}<extra></extra>",
         "legendgroup": "",
         "marker": {
          "color": "#636efa",
          "symbol": "circle"
         },
         "mode": "markers",
         "name": "",
         "orientation": "v",
         "showlegend": false,
         "type": "scatter",
         "x": [
          1965,
          1966,
          1967,
          1968,
          1969,
          1970,
          1971,
          1972,
          1973,
          1974,
          1975,
          1976,
          1977,
          1978,
          1979,
          1980,
          1981,
          1982,
          1983,
          1984,
          1985,
          1986,
          1987,
          1988,
          1989,
          1990,
          1991,
          1992,
          1993,
          1994,
          1995,
          1996,
          1997,
          1998,
          1999,
          2000,
          2001,
          2002,
          2003,
          2004,
          2005,
          2006,
          2007,
          2008,
          2009,
          2010,
          2011,
          2012,
          2013,
          2014,
          2015,
          2016,
          2017,
          2018,
          2019,
          2020,
          2021,
          2022,
          2023,
          2024,
          2025
         ],
         "xaxis": "x",
         "y": [
          65.86629268,
          66.55887805,
          66.97717073,
          67.68573171,
          68.44609756,
          69.25121951,
          69.53887805,
          69.92543902,
          70.35582927,
          70.56856098,
          71.04995122,
          71.45853659,
          71.45609756,
          72.1097561,
          72.61219512,
          73.36829268,
          72.8195122,
          73.3195122,
          73.57560976,
          73.67317073,
          74.67317073,
          75.32439024,
          75.42926829,
          75.27560976,
          76.02926829,
          76.43414634,
          76.68536585,
          76.88292683,
          77.08292683,
          77.02926829,
          77.3804878,
          77.88292683,
          77.67804878,
          78.03170732,
          78.52926829,
          78.68292683,
          79.62682927,
          80.12682927,
          80.13170732,
          80.38292683,
          80.87804878,
          81.42439024,
          81.42682927,
          81.37804878,
          81.82926829,
          81.62926829,
          82.37560976,
          82.32682927,
          82.37560976,
          82.77560976,
          82.97804878,
          83.42195122,
          83.4804878,
          83.83170732,
          83.9804878,
          84.27804878,
          84.22682927,
          84.6804878,
          84.93414634,
          85.1804878,
          85.49756098
         ],
         "yaxis": "y"
        },
        {
         "hovertemplate": "<b>OLS trendline</b><br>Age = 0.308878 * Year + -539.083<br>R<sup>2</sup>=0.986106<br><br>Year=%{x}<br>Age=%{y} <b>(trend)</b><extra></extra>",
         "legendgroup": "",
         "marker": {
          "color": "#636efa",
          "symbol": "circle"
         },
         "mode": "lines",
         "name": "",
         "showlegend": false,
         "type": "scatter",
         "x": [
          1965,
          1966,
          1967,
          1968,
          1969,
          1970,
          1971,
          1972,
          1973,
          1974,
          1975,
          1976,
          1977,
          1978,
          1979,
          1980,
          1981,
          1982,
          1983,
          1984,
          1985,
          1986,
          1987,
          1988,
          1989,
          1990,
          1991,
          1992,
          1993,
          1994,
          1995,
          1996,
          1997,
          1998,
          1999,
          2000,
          2001,
          2002,
          2003,
          2004,
          2005,
          2006,
          2007,
          2008,
          2009,
          2010,
          2011,
          2012,
          2013,
          2014,
          2015,
          2016,
          2017,
          2018,
          2019,
          2020,
          2021,
          2022,
          2023,
          2024,
          2025
         ],
         "xaxis": "x",
         "y": [
          67.86197388165522,
          68.17085152155641,
          68.4797291614575,
          68.78860680135858,
          69.09748444125967,
          69.40636208116075,
          69.71523972106195,
          70.02411736096303,
          70.33299500086412,
          70.6418726407652,
          70.9507502806664,
          71.25962792056748,
          71.56850556046857,
          71.87738320036965,
          72.18626084027085,
          72.49513848017193,
          72.80401612007302,
          73.1128937599741,
          73.4217713998753,
          73.73064903977638,
          74.03952667967746,
          74.34840431957855,
          74.65728195947963,
          74.96615959938083,
          75.27503723928191,
          75.583914879183,
          75.89279251908408,
          76.20167015898528,
          76.51054779888636,
          76.81942543878745,
          77.12830307868853,
          77.43718071858973,
          77.74605835849081,
          78.0549359983919,
          78.36381363829298,
          78.67269127819418,
          78.98156891809526,
          79.29044655799635,
          79.59932419789743,
          79.90820183779863,
          80.21707947769971,
          80.5259571176008,
          80.83483475750188,
          81.14371239740296,
          81.45259003730416,
          81.76146767720525,
          82.07034531710633,
          82.37922295700741,
          82.68810059690861,
          82.9969782368097,
          83.30585587671078,
          83.61473351661186,
          83.92361115651306,
          84.23248879641415,
          84.54136643631523,
          84.85024407621631,
          85.15912171611751,
          85.4679993560186,
          85.77687699591968,
          86.08575463582076,
          86.39463227572196
         ],
         "yaxis": "y"
        }
       ],
       "layout": {
        "legend": {
         "tracegroupgap": 0
        },
        "margin": {
         "t": 60
        },
        "template": {
         "data": {
          "bar": [
           {
            "error_x": {
             "color": "#2a3f5f"
            },
            "error_y": {
             "color": "#2a3f5f"
            },
            "marker": {
             "line": {
              "color": "#E5ECF6",
              "width": 0.5
             },
             "pattern": {
              "fillmode": "overlay",
              "size": 10,
              "solidity": 0.2
             }
            },
            "type": "bar"
           }
          ],
          "barpolar": [
           {
            "marker": {
             "line": {
              "color": "#E5ECF6",
              "width": 0.5
             },
             "pattern": {
              "fillmode": "overlay",
              "size": 10,
              "solidity": 0.2
             }
            },
            "type": "barpolar"
           }
          ],
          "carpet": [
           {
            "aaxis": {
             "endlinecolor": "#2a3f5f",
             "gridcolor": "white",
             "linecolor": "white",
             "minorgridcolor": "white",
             "startlinecolor": "#2a3f5f"
            },
            "baxis": {
             "endlinecolor": "#2a3f5f",
             "gridcolor": "white",
             "linecolor": "white",
             "minorgridcolor": "white",
             "startlinecolor": "#2a3f5f"
            },
            "type": "carpet"
           }
          ],
          "choropleth": [
           {
            "colorbar": {
             "outlinewidth": 0,
             "ticks": ""
            },
            "type": "choropleth"
           }
          ],
          "contour": [
           {
            "colorbar": {
             "outlinewidth": 0,
             "ticks": ""
            },
            "colorscale": [
             [
              0,
              "#0d0887"
             ],
             [
              0.1111111111111111,
              "#46039f"
             ],
             [
              0.2222222222222222,
              "#7201a8"
             ],
             [
              0.3333333333333333,
              "#9c179e"
             ],
             [
              0.4444444444444444,
              "#bd3786"
             ],
             [
              0.5555555555555556,
              "#d8576b"
             ],
             [
              0.6666666666666666,
              "#ed7953"
             ],
             [
              0.7777777777777778,
              "#fb9f3a"
             ],
             [
              0.8888888888888888,
              "#fdca26"
             ],
             [
              1,
              "#f0f921"
             ]
            ],
            "type": "contour"
           }
          ],
          "contourcarpet": [
           {
            "colorbar": {
             "outlinewidth": 0,
             "ticks": ""
            },
            "type": "contourcarpet"
           }
          ],
          "heatmap": [
           {
            "colorbar": {
             "outlinewidth": 0,
             "ticks": ""
            },
            "colorscale": [
             [
              0,
              "#0d0887"
             ],
             [
              0.1111111111111111,
              "#46039f"
             ],
             [
              0.2222222222222222,
              "#7201a8"
             ],
             [
              0.3333333333333333,
              "#9c179e"
             ],
             [
              0.4444444444444444,
              "#bd3786"
             ],
             [
              0.5555555555555556,
              "#d8576b"
             ],
             [
              0.6666666666666666,
              "#ed7953"
             ],
             [
              0.7777777777777778,
              "#fb9f3a"
             ],
             [
              0.8888888888888888,
              "#fdca26"
             ],
             [
              1,
              "#f0f921"
             ]
            ],
            "type": "heatmap"
           }
          ],
          "heatmapgl": [
           {
            "colorbar": {
             "outlinewidth": 0,
             "ticks": ""
            },
            "colorscale": [
             [
              0,
              "#0d0887"
             ],
             [
              0.1111111111111111,
              "#46039f"
             ],
             [
              0.2222222222222222,
              "#7201a8"
             ],
             [
              0.3333333333333333,
              "#9c179e"
             ],
             [
              0.4444444444444444,
              "#bd3786"
             ],
             [
              0.5555555555555556,
              "#d8576b"
             ],
             [
              0.6666666666666666,
              "#ed7953"
             ],
             [
              0.7777777777777778,
              "#fb9f3a"
             ],
             [
              0.8888888888888888,
              "#fdca26"
             ],
             [
              1,
              "#f0f921"
             ]
            ],
            "type": "heatmapgl"
           }
          ],
          "histogram": [
           {
            "marker": {
             "pattern": {
              "fillmode": "overlay",
              "size": 10,
              "solidity": 0.2
             }
            },
            "type": "histogram"
           }
          ],
          "histogram2d": [
           {
            "colorbar": {
             "outlinewidth": 0,
             "ticks": ""
            },
            "colorscale": [
             [
              0,
              "#0d0887"
             ],
             [
              0.1111111111111111,
              "#46039f"
             ],
             [
              0.2222222222222222,
              "#7201a8"
             ],
             [
              0.3333333333333333,
              "#9c179e"
             ],
             [
              0.4444444444444444,
              "#bd3786"
             ],
             [
              0.5555555555555556,
              "#d8576b"
             ],
             [
              0.6666666666666666,
              "#ed7953"
             ],
             [
              0.7777777777777778,
              "#fb9f3a"
             ],
             [
              0.8888888888888888,
              "#fdca26"
             ],
             [
              1,
              "#f0f921"
             ]
            ],
            "type": "histogram2d"
           }
          ],
          "histogram2dcontour": [
           {
            "colorbar": {
             "outlinewidth": 0,
             "ticks": ""
            },
            "colorscale": [
             [
              0,
              "#0d0887"
             ],
             [
              0.1111111111111111,
              "#46039f"
             ],
             [
              0.2222222222222222,
              "#7201a8"
             ],
             [
              0.3333333333333333,
              "#9c179e"
             ],
             [
              0.4444444444444444,
              "#bd3786"
             ],
             [
              0.5555555555555556,
              "#d8576b"
             ],
             [
              0.6666666666666666,
              "#ed7953"
             ],
             [
              0.7777777777777778,
              "#fb9f3a"
             ],
             [
              0.8888888888888888,
              "#fdca26"
             ],
             [
              1,
              "#f0f921"
             ]
            ],
            "type": "histogram2dcontour"
           }
          ],
          "mesh3d": [
           {
            "colorbar": {
             "outlinewidth": 0,
             "ticks": ""
            },
            "type": "mesh3d"
           }
          ],
          "parcoords": [
           {
            "line": {
             "colorbar": {
              "outlinewidth": 0,
              "ticks": ""
             }
            },
            "type": "parcoords"
           }
          ],
          "pie": [
           {
            "automargin": true,
            "type": "pie"
           }
          ],
          "scatter": [
           {
            "fillpattern": {
             "fillmode": "overlay",
             "size": 10,
             "solidity": 0.2
            },
            "type": "scatter"
           }
          ],
          "scatter3d": [
           {
            "line": {
             "colorbar": {
              "outlinewidth": 0,
              "ticks": ""
             }
            },
            "marker": {
             "colorbar": {
              "outlinewidth": 0,
              "ticks": ""
             }
            },
            "type": "scatter3d"
           }
          ],
          "scattercarpet": [
           {
            "marker": {
             "colorbar": {
              "outlinewidth": 0,
              "ticks": ""
             }
            },
            "type": "scattercarpet"
           }
          ],
          "scattergeo": [
           {
            "marker": {
             "colorbar": {
              "outlinewidth": 0,
              "ticks": ""
             }
            },
            "type": "scattergeo"
           }
          ],
          "scattergl": [
           {
            "marker": {
             "colorbar": {
              "outlinewidth": 0,
              "ticks": ""
             }
            },
            "type": "scattergl"
           }
          ],
          "scattermapbox": [
           {
            "marker": {
             "colorbar": {
              "outlinewidth": 0,
              "ticks": ""
             }
            },
            "type": "scattermapbox"
           }
          ],
          "scatterpolar": [
           {
            "marker": {
             "colorbar": {
              "outlinewidth": 0,
              "ticks": ""
             }
            },
            "type": "scatterpolar"
           }
          ],
          "scatterpolargl": [
           {
            "marker": {
             "colorbar": {
              "outlinewidth": 0,
              "ticks": ""
             }
            },
            "type": "scatterpolargl"
           }
          ],
          "scatterternary": [
           {
            "marker": {
             "colorbar": {
              "outlinewidth": 0,
              "ticks": ""
             }
            },
            "type": "scatterternary"
           }
          ],
          "surface": [
           {
            "colorbar": {
             "outlinewidth": 0,
             "ticks": ""
            },
            "colorscale": [
             [
              0,
              "#0d0887"
             ],
             [
              0.1111111111111111,
              "#46039f"
             ],
             [
              0.2222222222222222,
              "#7201a8"
             ],
             [
              0.3333333333333333,
              "#9c179e"
             ],
             [
              0.4444444444444444,
              "#bd3786"
             ],
             [
              0.5555555555555556,
              "#d8576b"
             ],
             [
              0.6666666666666666,
              "#ed7953"
             ],
             [
              0.7777777777777778,
              "#fb9f3a"
             ],
             [
              0.8888888888888888,
              "#fdca26"
             ],
             [
              1,
              "#f0f921"
             ]
            ],
            "type": "surface"
           }
          ],
          "table": [
           {
            "cells": {
             "fill": {
              "color": "#EBF0F8"
             },
             "line": {
              "color": "white"
             }
            },
            "header": {
             "fill": {
              "color": "#C8D4E3"
             },
             "line": {
              "color": "white"
             }
            },
            "type": "table"
           }
          ]
         },
         "layout": {
          "annotationdefaults": {
           "arrowcolor": "#2a3f5f",
           "arrowhead": 0,
           "arrowwidth": 1
          },
          "autotypenumbers": "strict",
          "coloraxis": {
           "colorbar": {
            "outlinewidth": 0,
            "ticks": ""
           }
          },
          "colorscale": {
           "diverging": [
            [
             0,
             "#8e0152"
            ],
            [
             0.1,
             "#c51b7d"
            ],
            [
             0.2,
             "#de77ae"
            ],
            [
             0.3,
             "#f1b6da"
            ],
            [
             0.4,
             "#fde0ef"
            ],
            [
             0.5,
             "#f7f7f7"
            ],
            [
             0.6,
             "#e6f5d0"
            ],
            [
             0.7,
             "#b8e186"
            ],
            [
             0.8,
             "#7fbc41"
            ],
            [
             0.9,
             "#4d9221"
            ],
            [
             1,
             "#276419"
            ]
           ],
           "sequential": [
            [
             0,
             "#0d0887"
            ],
            [
             0.1111111111111111,
             "#46039f"
            ],
            [
             0.2222222222222222,
             "#7201a8"
            ],
            [
             0.3333333333333333,
             "#9c179e"
            ],
            [
             0.4444444444444444,
             "#bd3786"
            ],
            [
             0.5555555555555556,
             "#d8576b"
            ],
            [
             0.6666666666666666,
             "#ed7953"
            ],
            [
             0.7777777777777778,
             "#fb9f3a"
            ],
            [
             0.8888888888888888,
             "#fdca26"
            ],
            [
             1,
             "#f0f921"
            ]
           ],
           "sequentialminus": [
            [
             0,
             "#0d0887"
            ],
            [
             0.1111111111111111,
             "#46039f"
            ],
            [
             0.2222222222222222,
             "#7201a8"
            ],
            [
             0.3333333333333333,
             "#9c179e"
            ],
            [
             0.4444444444444444,
             "#bd3786"
            ],
            [
             0.5555555555555556,
             "#d8576b"
            ],
            [
             0.6666666666666666,
             "#ed7953"
            ],
            [
             0.7777777777777778,
             "#fb9f3a"
            ],
            [
             0.8888888888888888,
             "#fdca26"
            ],
            [
             1,
             "#f0f921"
            ]
           ]
          },
          "colorway": [
           "#636efa",
           "#EF553B",
           "#00cc96",
           "#ab63fa",
           "#FFA15A",
           "#19d3f3",
           "#FF6692",
           "#B6E880",
           "#FF97FF",
           "#FECB52"
          ],
          "font": {
           "color": "#2a3f5f"
          },
          "geo": {
           "bgcolor": "white",
           "lakecolor": "white",
           "landcolor": "#E5ECF6",
           "showlakes": true,
           "showland": true,
           "subunitcolor": "white"
          },
          "hoverlabel": {
           "align": "left"
          },
          "hovermode": "closest",
          "mapbox": {
           "style": "light"
          },
          "paper_bgcolor": "white",
          "plot_bgcolor": "#E5ECF6",
          "polar": {
           "angularaxis": {
            "gridcolor": "white",
            "linecolor": "white",
            "ticks": ""
           },
           "bgcolor": "#E5ECF6",
           "radialaxis": {
            "gridcolor": "white",
            "linecolor": "white",
            "ticks": ""
           }
          },
          "scene": {
           "xaxis": {
            "backgroundcolor": "#E5ECF6",
            "gridcolor": "white",
            "gridwidth": 2,
            "linecolor": "white",
            "showbackground": true,
            "ticks": "",
            "zerolinecolor": "white"
           },
           "yaxis": {
            "backgroundcolor": "#E5ECF6",
            "gridcolor": "white",
            "gridwidth": 2,
            "linecolor": "white",
            "showbackground": true,
            "ticks": "",
            "zerolinecolor": "white"
           },
           "zaxis": {
            "backgroundcolor": "#E5ECF6",
            "gridcolor": "white",
            "gridwidth": 2,
            "linecolor": "white",
            "showbackground": true,
            "ticks": "",
            "zerolinecolor": "white"
           }
          },
          "shapedefaults": {
           "line": {
            "color": "#2a3f5f"
           }
          },
          "ternary": {
           "aaxis": {
            "gridcolor": "white",
            "linecolor": "white",
            "ticks": ""
           },
           "baxis": {
            "gridcolor": "white",
            "linecolor": "white",
            "ticks": ""
           },
           "bgcolor": "#E5ECF6",
           "caxis": {
            "gridcolor": "white",
            "linecolor": "white",
            "ticks": ""
           }
          },
          "title": {
           "x": 0.05
          },
          "xaxis": {
           "automargin": true,
           "gridcolor": "white",
           "linecolor": "white",
           "ticks": "",
           "title": {
            "standoff": 15
           },
           "zerolinecolor": "white",
           "zerolinewidth": 2
          },
          "yaxis": {
           "automargin": true,
           "gridcolor": "white",
           "linecolor": "white",
           "ticks": "",
           "title": {
            "standoff": 15
           },
           "zerolinecolor": "white",
           "zerolinewidth": 2
          }
         }
        },
        "xaxis": {
         "anchor": "y",
         "domain": [
          0,
          1
         ],
         "title": {
          "text": "Year"
         }
        },
        "yaxis": {
         "anchor": "x",
         "domain": [
          0,
          1
         ],
         "title": {
          "text": "Age"
         }
        }
       }
      }
     },
     "metadata": {},
     "output_type": "display_data"
    },
    {
     "name": "stdout",
     "output_type": "stream",
     "text": [
      "Answer of Question F : \n",
      "\n",
      "  It was founded that the values of the slope in part (e) is the same as the slope in part (b) \n",
      "\n",
      "Answer of Question G : \n",
      "\n",
      " A trendline is most reliable when its R-squared value is at or near 1. \n",
      " Which means that if the R-squared value is closer to 1, the line is fit better to the data. \n",
      " It also means that the data distrubution is lesser.\n"
     ]
    }
   ],
   "source": [
    "import pandas as pd\n",
    "import numpy as np\n",
    "import plotly.graph_objects as go\n",
    "import matplotlib.pyplot as plt\n",
    "import seaborn as sns\n",
    "import plotly.express as px\n",
    "from sklearn.tree import DecisionTreeRegressor\n",
    "from sklearn.model_selection import train_test_split\n",
    "# Answer of Question A\n",
    "df = pd.read_csv('API_SP.DYN.LE00.IN_DS2_en_csv_v2_5795729.csv')\n",
    "pd.options.display.max_rows = 9999\n",
    "df=pd.DataFrame(df)\n",
    "df1=df['Country Name']\n",
    "df_T=df.T\n",
    "HKG = df.loc[df['Country Code'] == \"HKG\"]\n",
    "HKG = HKG.drop(['Country Name','Country Code','Indicator Name','Indicator Code'],axis=1)\n",
    "HKG = HKG.T\n",
    "year = pd.Series(HKG.index,index=HKG.index,dtype=int)\n",
    "year=year.to_frame(name='Year')\n",
    "HKG.rename(columns={ HKG.columns[0]: \"Age\" }, inplace = True)\n",
    "age = HKG\n",
    "df = pd.concat([year,age],axis=1)\n",
    "df.drop(['2021','2022'], inplace = True)\n",
    "df.reset_index(inplace=True, drop=True)\n",
    "print('Answer of Question A is: \\n', df)\n",
    "# Answer of Question B\n",
    "x=df['Year']\n",
    "y=df['Age']\n",
    "parameter = np.polyfit(x,y,1)\n",
    "y2 = parameter[0] * x + parameter[1]\n",
    "plt.scatter(x,y)\n",
    "plt.plot(x,y2,color='C1')\n",
    "plt.show()\n",
    "print('Answer of Question B is: \\n y= ',parameter[0],'x+',parameter[1])\n",
    "# Answer of Question C\n",
    "df_for_question_C = df\n",
    "future_2025 = 5\n",
    "def future(df, future):\n",
    "    df['Prediction'] = df[['Age']].shift(-future)\n",
    "    X = np.array(df.drop(['Prediction'],axis=1))[:-future]\n",
    "    y = np.array(df['Prediction'])[:-future]\n",
    "    i=future\n",
    "    df['Year'] = df[['Year']].shift(-i).ffill()\n",
    "    while i > 0:\n",
    "        df.iloc[-i, df.columns.get_loc('Year')]=df.iloc[-i-1, df.columns.get_loc('Year')]+1\n",
    "        i-=1\n",
    "    X_train, X_test, y_train, y_test = train_test_split(X,y,test_size=0.25)\n",
    "    tree = DecisionTreeRegressor().fit(X_train, y_train)\n",
    "    X_future = df.drop('Prediction',axis=1)[:-future]\n",
    "    X_future = X_future.tail(future)\n",
    "    X_future = np.array(X_future)\n",
    "    tree_prediction = tree.predict(X_future)\n",
    "    valid = df[X.shape[0]:]\n",
    "    valid['Prediction'] = tree_prediction\n",
    "    df.fillna(valid,inplace=True)\n",
    "    plt.figure(figsize=(16,8))\n",
    "    plt.title('life expectancy in year 2025')\n",
    "    plt.xlabel(\"Year\")\n",
    "    plt.ylabel('Age')\n",
    "    plt.plot(df['Age'])\n",
    "    plt.plot(valid[['Age','Prediction']])\n",
    "    plt.legend(['Orig','Val','Pred'])\n",
    "    plt.show()\n",
    "future(df_for_question_C, future_2025)\n",
    "print('Answer of Question C is: \\n', df_for_question_C.tail(5), '\\n')\n",
    "\n",
    "# Answer of Question D\n",
    "print('Answer of Question D is: \\n')\n",
    "figd,axd = plt.subplots()\n",
    "sns.set()\n",
    "sns.regplot(data=df,x=df['Year'],y=df['Age'],ax=axd)\n",
    "plt.show()\n",
    "# Answer of Question E\n",
    "print('Answer of Question E is: \\n')\n",
    "fige = go.Figure(px.scatter(df, x=\"Year\", y=\"Age\", trendline=\"ols\"))\n",
    "fige.show()\n",
    "# Answer of Question F\n",
    "print('Answer of Question F : \\n\\n ',\n",
    "      'It was founded that the values of the slope in part (e) is the same as the slope in part (b) \\n')\n",
    "# Answer of Question G\n",
    "print('Answer of Question G : \\n\\n A trendline is most reliable when its R-squared value is at or near 1. \\n',  \n",
    "      'Which means that if the R-squared value is closer to 1, the line is fit better to the data. \\n'  ,\n",
    "      'It also means that the data distrubution is lesser.')"
   ]
  }
 ],
 "metadata": {
  "kernelspec": {
   "display_name": "Python 3",
   "language": "python",
   "name": "python3"
  },
  "language_info": {
   "codemirror_mode": {
    "name": "ipython",
    "version": 3
   },
   "file_extension": ".py",
   "mimetype": "text/x-python",
   "name": "python",
   "nbconvert_exporter": "python",
   "pygments_lexer": "ipython3",
   "version": "3.11.4"
  },
  "orig_nbformat": 4
 },
 "nbformat": 4,
 "nbformat_minor": 2
}
